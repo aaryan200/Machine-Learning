{
 "cells": [
  {
   "cell_type": "code",
   "execution_count": 2,
   "id": "356dcd9c",
   "metadata": {},
   "outputs": [],
   "source": [
    "import joblib\n",
    "import numpy as np\n",
    "model = joblib.load('model.joblib')"
   ]
  },
  {
   "cell_type": "code",
   "execution_count": 7,
   "id": "e7d69bf8",
   "metadata": {},
   "outputs": [],
   "source": [
    "a = np.array([7.7,0.560,0.08,2.50,0.114,14.0,46.0,0.99710,3.24,0.66,9.6,8.260,4.1300,0.774,32.857143,0.8230])\n",
    "a = a.reshape(1,-1)"
   ]
  },
  {
   "cell_type": "code",
   "execution_count": 8,
   "id": "4600c5ec",
   "metadata": {},
   "outputs": [
    {
     "data": {
      "text/plain": [
       "array([0])"
      ]
     },
     "execution_count": 8,
     "metadata": {},
     "output_type": "execute_result"
    }
   ],
   "source": [
    "model.predict(a)"
   ]
  },
  {
   "cell_type": "code",
   "execution_count": 9,
   "id": "0311a757",
   "metadata": {},
   "outputs": [
    {
     "name": "stderr",
     "output_type": "stream",
     "text": [
      "2022-12-20 12:30:19.696784: W tensorflow/stream_executor/platform/default/dso_loader.cc:64] Could not load dynamic library 'libcudart.so.11.0'; dlerror: libcudart.so.11.0: cannot open shared object file: No such file or directory; LD_LIBRARY_PATH: /home/aaryan/anaconda3/lib/python3.9/site-packages/cv2/../../lib64:\n",
      "2022-12-20 12:30:19.696818: I tensorflow/stream_executor/cuda/cudart_stub.cc:29] Ignore above cudart dlerror if you do not have a GPU set up on your machine.\n",
      "2022-12-20 12:30:23.979657: W tensorflow/stream_executor/platform/default/dso_loader.cc:64] Could not load dynamic library 'libcuda.so.1'; dlerror: libcuda.so.1: cannot open shared object file: No such file or directory; LD_LIBRARY_PATH: /home/aaryan/anaconda3/lib/python3.9/site-packages/cv2/../../lib64:\n",
      "2022-12-20 12:30:23.979687: W tensorflow/stream_executor/cuda/cuda_driver.cc:269] failed call to cuInit: UNKNOWN ERROR (303)\n",
      "2022-12-20 12:30:23.979709: I tensorflow/stream_executor/cuda/cuda_diagnostics.cc:156] kernel driver does not appear to be running on this host (Aaryan): /proc/driver/nvidia/version does not exist\n",
      "2022-12-20 12:30:23.979928: I tensorflow/core/platform/cpu_feature_guard.cc:193] This TensorFlow binary is optimized with oneAPI Deep Neural Network Library (oneDNN) to use the following CPU instructions in performance-critical operations:  AVX2 FMA\n",
      "To enable them in other operations, rebuild TensorFlow with the appropriate compiler flags.\n"
     ]
    },
    {
     "name": "stdout",
     "output_type": "stream",
     "text": [
      "WARNING:tensorflow:No training configuration found in save file, so the model was *not* compiled. Compile it manually.\n",
      "WARNING:tensorflow:No training configuration found in save file, so the model was *not* compiled. Compile it manually.\n",
      "WARNING:tensorflow:No training configuration found in save file, so the model was *not* compiled. Compile it manually.\n"
     ]
    }
   ],
   "source": [
    "model1 = joblib.load('model1.joblib')"
   ]
  },
  {
   "cell_type": "code",
   "execution_count": 10,
   "id": "b28ddcf0",
   "metadata": {},
   "outputs": [],
   "source": [
    "import cv2\n",
    "img = cv2.imread('/home/aaryan/Downloads/download.jpeg')"
   ]
  },
  {
   "cell_type": "code",
   "execution_count": 11,
   "id": "0d559e2a",
   "metadata": {},
   "outputs": [
    {
     "name": "stdout",
     "output_type": "stream",
     "text": [
      "1/1 [==============================] - 1s 1s/step\n",
      "1/1 [==============================] - 0s 104ms/step\n",
      "1/1 [==============================] - 0s 23ms/step\n",
      "1/1 [==============================] - 0s 22ms/step\n",
      "1/1 [==============================] - 0s 22ms/step\n",
      "1/1 [==============================] - 0s 19ms/step\n",
      "1/1 [==============================] - 0s 18ms/step\n",
      "1/1 [==============================] - 0s 173ms/step\n",
      "1/1 [==============================] - 0s 125ms/step\n"
     ]
    }
   ],
   "source": [
    "faces = model1.detect_faces(img)"
   ]
  },
  {
   "cell_type": "code",
   "execution_count": 13,
   "id": "0906a998",
   "metadata": {},
   "outputs": [
    {
     "data": {
      "text/plain": [
       "True"
      ]
     },
     "execution_count": 13,
     "metadata": {},
     "output_type": "execute_result"
    }
   ],
   "source": [
    "for result in faces:\n",
    "    x, y, w, h = result['box']\n",
    "    cv2.rectangle(img,(x,y),(x+w,y+h),(255,0,255),1)\n",
    "cv2.imwrite('result.jpeg',img)"
   ]
  },
  {
   "cell_type": "code",
   "execution_count": 18,
   "id": "5b2bf6e2",
   "metadata": {},
   "outputs": [],
   "source": [
    "mg = cv2.imread('Amitabh_Bachchan_December_2013.png')"
   ]
  },
  {
   "cell_type": "code",
   "execution_count": 19,
   "id": "e32d58fe",
   "metadata": {},
   "outputs": [
    {
     "name": "stdout",
     "output_type": "stream",
     "text": [
      "1/1 [==============================] - 0s 80ms/step\n",
      "1/1 [==============================] - 0s 41ms/step\n",
      "1/1 [==============================] - 0s 31ms/step\n",
      "1/1 [==============================] - 0s 25ms/step\n",
      "1/1 [==============================] - 0s 21ms/step\n",
      "1/1 [==============================] - 0s 21ms/step\n",
      "1/1 [==============================] - 0s 19ms/step\n",
      "1/1 [==============================] - 0s 19ms/step\n",
      "1/1 [==============================] - 0s 19ms/step\n",
      "1/1 [==============================] - 0s 18ms/step\n",
      "1/1 [==============================] - 0s 20ms/step\n",
      "4/4 [==============================] - 0s 8ms/step\n",
      "1/1 [==============================] - 0s 24ms/step\n"
     ]
    }
   ],
   "source": [
    "faces = model1.detect_faces(mg)"
   ]
  },
  {
   "cell_type": "code",
   "execution_count": 20,
   "id": "43674c1b",
   "metadata": {},
   "outputs": [
    {
     "data": {
      "text/plain": [
       "True"
      ]
     },
     "execution_count": 20,
     "metadata": {},
     "output_type": "execute_result"
    }
   ],
   "source": [
    "for result in faces:\n",
    "    x, y, w, h = result['box']\n",
    "    cv2.rectangle(img,(x,y),(x+w,y+h),(255,0,255),1)\n",
    "cv2.imwrite('Amitabh_Bachchan_December_2013.png',img)"
   ]
  },
  {
   "cell_type": "code",
   "execution_count": 21,
   "id": "282eeb56",
   "metadata": {},
   "outputs": [
    {
     "data": {
      "text/plain": [
       "4.0"
      ]
     },
     "execution_count": 21,
     "metadata": {},
     "output_type": "execute_result"
    }
   ],
   "source": [
    "7//1.73"
   ]
  },
  {
   "cell_type": "code",
   "execution_count": 22,
   "id": "4c982bd1",
   "metadata": {},
   "outputs": [
    {
     "data": {
      "text/plain": [
       "4.046242774566474"
      ]
     },
     "execution_count": 22,
     "metadata": {},
     "output_type": "execute_result"
    }
   ],
   "source": [
    "7/1.73"
   ]
  },
  {
   "cell_type": "code",
   "execution_count": 23,
   "id": "4ddfe37a",
   "metadata": {},
   "outputs": [
    {
     "data": {
      "text/plain": [
       "1.3888888888888888"
      ]
     },
     "execution_count": 23,
     "metadata": {},
     "output_type": "execute_result"
    }
   ],
   "source": [
    "max(1720/1280,1000/720)"
   ]
  },
  {
   "cell_type": "code",
   "execution_count": 24,
   "id": "4f54eb26",
   "metadata": {},
   "outputs": [
    {
     "data": {
      "text/plain": [
       "1238.4"
      ]
     },
     "execution_count": 24,
     "metadata": {},
     "output_type": "execute_result"
    }
   ],
   "source": [
    "1720/1.3888888888888888"
   ]
  },
  {
   "cell_type": "code",
   "execution_count": 25,
   "id": "bd733aeb",
   "metadata": {},
   "outputs": [
    {
     "data": {
      "text/plain": [
       "1238.4"
      ]
     },
     "execution_count": 25,
     "metadata": {},
     "output_type": "execute_result"
    }
   ],
   "source": [
    "1720/1.3888888888888888"
   ]
  },
  {
   "cell_type": "code",
   "execution_count": 26,
   "id": "aa94a367",
   "metadata": {},
   "outputs": [
    {
     "data": {
      "text/plain": [
       "1238.0"
      ]
     },
     "execution_count": 26,
     "metadata": {},
     "output_type": "execute_result"
    }
   ],
   "source": [
    "1720//1.3888888888888888"
   ]
  },
  {
   "cell_type": "code",
   "execution_count": 27,
   "id": "98b13a11",
   "metadata": {},
   "outputs": [
    {
     "data": {
      "text/plain": [
       "720.0"
      ]
     },
     "execution_count": 27,
     "metadata": {},
     "output_type": "execute_result"
    }
   ],
   "source": [
    "1000/1.3888888888888888"
   ]
  },
  {
   "cell_type": "code",
   "execution_count": 28,
   "id": "33a96730",
   "metadata": {},
   "outputs": [
    {
     "data": {
      "text/plain": [
       "720.0"
      ]
     },
     "execution_count": 28,
     "metadata": {},
     "output_type": "execute_result"
    }
   ],
   "source": [
    "1000//1.3888888888888888"
   ]
  },
  {
   "cell_type": "code",
   "execution_count": 29,
   "id": "1d0ece0a",
   "metadata": {},
   "outputs": [],
   "source": [
    "a = np.array([1,2,3])"
   ]
  },
  {
   "cell_type": "code",
   "execution_count": 30,
   "id": "b3f6678b",
   "metadata": {},
   "outputs": [],
   "source": [
    "def arr_reshape(arr):\n",
    "    arr.resize(1,3)\n",
    "    return"
   ]
  },
  {
   "cell_type": "code",
   "execution_count": 31,
   "id": "4591398b",
   "metadata": {},
   "outputs": [],
   "source": [
    "arr_reshape(a)"
   ]
  },
  {
   "cell_type": "code",
   "execution_count": 32,
   "id": "b0a0ea4f",
   "metadata": {},
   "outputs": [
    {
     "data": {
      "text/plain": [
       "array([[1, 2, 3]])"
      ]
     },
     "execution_count": 32,
     "metadata": {},
     "output_type": "execute_result"
    }
   ],
   "source": [
    "a"
   ]
  },
  {
   "cell_type": "code",
   "execution_count": null,
   "id": "7214d97c",
   "metadata": {},
   "outputs": [],
   "source": []
  }
 ],
 "metadata": {
  "kernelspec": {
   "display_name": "Python 3 (ipykernel)",
   "language": "python",
   "name": "python3"
  },
  "language_info": {
   "codemirror_mode": {
    "name": "ipython",
    "version": 3
   },
   "file_extension": ".py",
   "mimetype": "text/x-python",
   "name": "python",
   "nbconvert_exporter": "python",
   "pygments_lexer": "ipython3",
   "version": "3.9.7"
  }
 },
 "nbformat": 4,
 "nbformat_minor": 5
}
