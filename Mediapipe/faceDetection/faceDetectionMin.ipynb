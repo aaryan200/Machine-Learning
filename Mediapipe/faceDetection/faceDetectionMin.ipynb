{
 "cells": [
  {
   "cell_type": "code",
   "execution_count": 1,
   "id": "1495d421",
   "metadata": {},
   "outputs": [],
   "source": [
    "import cv2\n",
    "import mediapipe as mp\n",
    "import time"
   ]
  },
  {
   "cell_type": "code",
   "execution_count": 32,
   "id": "45a8859f",
   "metadata": {},
   "outputs": [
    {
     "ename": "error",
     "evalue": "OpenCV(4.6.0) D:\\a\\opencv-python\\opencv-python\\opencv\\modules\\imgproc\\src\\color.cpp:182: error: (-215:Assertion failed) !_src.empty() in function 'cv::cvtColor'\n",
     "output_type": "error",
     "traceback": [
      "\u001b[1;31m---------------------------------------------------------------------------\u001b[0m",
      "\u001b[1;31merror\u001b[0m                                     Traceback (most recent call last)",
      "Input \u001b[1;32mIn [32]\u001b[0m, in \u001b[0;36m<cell line: 9>\u001b[1;34m()\u001b[0m\n\u001b[0;32m      8\u001b[0m \u001b[38;5;28;01mwhile\u001b[39;00m \u001b[38;5;28;01mTrue\u001b[39;00m:\n\u001b[0;32m      9\u001b[0m     success, img\u001b[38;5;241m=\u001b[39mcap\u001b[38;5;241m.\u001b[39mread()\n\u001b[1;32m---> 10\u001b[0m     imgRGB\u001b[38;5;241m=\u001b[39m\u001b[43mcv2\u001b[49m\u001b[38;5;241;43m.\u001b[39;49m\u001b[43mcvtColor\u001b[49m\u001b[43m(\u001b[49m\u001b[43mimg\u001b[49m\u001b[43m,\u001b[49m\u001b[43mcv2\u001b[49m\u001b[38;5;241;43m.\u001b[39;49m\u001b[43mCOLOR_BGR2RGB\u001b[49m\u001b[43m)\u001b[49m\n\u001b[0;32m     11\u001b[0m     results\u001b[38;5;241m=\u001b[39mfaceDet\u001b[38;5;241m.\u001b[39mprocess(imgRGB)\n\u001b[0;32m     12\u001b[0m     \u001b[38;5;28;01mif\u001b[39;00m results\u001b[38;5;241m.\u001b[39mdetections:\n",
      "\u001b[1;31merror\u001b[0m: OpenCV(4.6.0) D:\\a\\opencv-python\\opencv-python\\opencv\\modules\\imgproc\\src\\color.cpp:182: error: (-215:Assertion failed) !_src.empty() in function 'cv::cvtColor'\n"
     ]
    }
   ],
   "source": [
    "cap=cv2.VideoCapture('../data/15.mp4')\n",
    "ptime=0\n",
    "ctime=0\n",
    "\n",
    "mpFaceDet=mp.solutions.face_detection\n",
    "mpDraw=mp.solutions.drawing_utils\n",
    "faceDet=mpFaceDet.FaceDetection()\n",
    "while True:\n",
    "    success, img=cap.read()\n",
    "    imgRGB=cv2.cvtColor(img,cv2.COLOR_BGR2RGB)\n",
    "    results=faceDet.process(imgRGB)\n",
    "    if results.detections:\n",
    "        for ids,detection in enumerate(results.detections):\n",
    "#                 mpDraw.draw_detection(img,detection)\n",
    "                bboxC=detection.location_data.relative_bounding_box\n",
    "                ih,iw,ic=img.shape\n",
    "                bbox=int(bboxC.xmin*iw),int(bboxC.ymin*ih),int(bboxC.width*iw),int(bboxC.height*ih)\n",
    "                cv2.rectangle(img,bbox,(255,0,255),2)\n",
    "                cv2.putText(img,f'{int(detection.score[0]*100)}%',(bbox[0],bbox[1]-15),cv2.FONT_HERSHEY_PLAIN,1.5,(0,0,255),2)\n",
    "    ctime=time.time()\n",
    "    fps=1/(ctime-ptime)\n",
    "    ptime=ctime\n",
    "    cv2.putText(img,f'FPS: {int(fps)}',(20,20),cv2.FONT_HERSHEY_PLAIN,1,(255,0,0),2)\n",
    "    cv2.imshow(\"Image\",img)\n",
    "    cv2.waitKey(8)\n",
    "cap.release()\n",
    "cv2.destroyAllWindows()"
   ]
  },
  {
   "cell_type": "code",
   "execution_count": 35,
   "id": "98f8b999",
   "metadata": {},
   "outputs": [],
   "source": [
    "mp.solutions.face_detection.FaceDetection?"
   ]
  },
  {
   "cell_type": "code",
   "execution_count": null,
   "id": "a35c7bdb",
   "metadata": {},
   "outputs": [],
   "source": []
  }
 ],
 "metadata": {
  "kernelspec": {
   "display_name": "Python 3 (ipykernel)",
   "language": "python",
   "name": "python3"
  },
  "language_info": {
   "codemirror_mode": {
    "name": "ipython",
    "version": 3
   },
   "file_extension": ".py",
   "mimetype": "text/x-python",
   "name": "python",
   "nbconvert_exporter": "python",
   "pygments_lexer": "ipython3",
   "version": "3.9.12"
  }
 },
 "nbformat": 4,
 "nbformat_minor": 5
}
