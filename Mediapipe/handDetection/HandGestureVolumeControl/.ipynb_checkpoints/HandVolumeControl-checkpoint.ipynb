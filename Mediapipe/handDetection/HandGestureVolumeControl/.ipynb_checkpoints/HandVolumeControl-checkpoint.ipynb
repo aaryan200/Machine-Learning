{
 "cells": [
  {
   "cell_type": "code",
   "execution_count": 1,
   "id": "3d19565a",
   "metadata": {},
   "outputs": [],
   "source": [
    "import cv2\n",
    "import mediapipe as mp\n",
    "import time\n",
    "import numpy as np\n",
    "import sys\n",
    "sys.path.append('../')\n",
    "from HandTrackingModule  import handDetector\n",
    "import math\n",
    "from ctypes import cast, POINTER\n",
    "from comtypes import CLSCTX_ALL\n",
    "from pycaw.pycaw import AudioUtilities, IAudioEndpointVolume"
   ]
  },
  {
   "cell_type": "code",
   "execution_count": 3,
   "id": "ee0904d1",
   "metadata": {},
   "outputs": [
    {
     "data": {
      "text/plain": [
       "'D:\\\\ML\\\\ComputerVision\\\\handDetection\\\\HandGestureVolumeControl'"
      ]
     },
     "execution_count": 3,
     "metadata": {},
     "output_type": "execute_result"
    }
   ],
   "source": [
    "import os\n",
    "os.getcwd()"
   ]
  },
  {
   "cell_type": "code",
   "execution_count": null,
   "id": "64425142",
   "metadata": {},
   "outputs": [],
   "source": [
    "devices = AudioUtilities.GetSpeakers()\n",
    "interface = devices.Activate(\n",
    "    IAudioEndpointVolume._iid_, CLSCTX_ALL, None)\n",
    "volume = cast(interface, POINTER(IAudioEndpointVolume))\n",
    "volRange=volume.GetVolumeRange()\n",
    "minVol=volRange[0]\n",
    "maxVol=volRange[1]\n",
    "# volume.SetMasterVolumeLevel(0, None)\n",
    "wCam,hCam=720,240\n",
    "cap=cv2.VideoCapture(0)\n",
    "cap.set(3,wCam)\n",
    "cap.set(4,hCam)\n",
    "pTime=0\n",
    "cTime=0\n",
    "detector=handDetector(detectionCon=0.45)\n",
    "while True:\n",
    "    success, img = cap.read()\n",
    "    img=detector.findHands(img)\n",
    "    lmList=detector.findPosition(img,draw=False)\n",
    "    if len(lmList)!=0:\n",
    "        x1,y1=lmList[4][1],lmList[4][2]\n",
    "        x2,y2=lmList[8][1],lmList[8][2]\n",
    "        cx,cy=(x1+x2)//2,(y1+y2)//2\n",
    "        cv2.circle(img,(x1,y1),15,(255,0,255),cv2.FILLED)\n",
    "        cv2.circle(img,(x2,y2),15,(255,0,255),cv2.FILLED)\n",
    "        cv2.line(img,(x1,y1),(x2,y2),(255,0,255),3)\n",
    "        cv2.circle(img,(cx,cy),15,(255,0,255),cv2.FILLED)\n",
    "        length=math.hypot(x2-x1,y2-y1)\n",
    "        if length<50:\n",
    "            cv2.circle(img,(cx,cy),15,(0,255,0),cv2.FILLED)\n",
    "#         print(length)\n",
    "        vol = np.interp(length,[12,290],[minVol,maxVol])\n",
    "#         print(vol)\n",
    "        volume.SetMasterVolumeLevel(vol, None)\n",
    "    cTime=time.time()\n",
    "    fps=1/(cTime-pTime)\n",
    "    pTime=cTime\n",
    "    cv2.putText(img,str(int(fps)),(40,50),cv2.FONT_HERSHEY_COMPLEX,1,(255,0,0),3)\n",
    "    cv2.imshow(\"Frame\",img)\n",
    "    cv2.waitKey(5)\n",
    "cap.release()\n",
    "cv2.destroyAllWindows()"
   ]
  },
  {
   "cell_type": "code",
   "execution_count": 5,
   "id": "84d2eced",
   "metadata": {},
   "outputs": [],
   "source": [
    "cv2.VideoCapture.set?"
   ]
  },
  {
   "cell_type": "code",
   "execution_count": null,
   "id": "4396e3dd",
   "metadata": {},
   "outputs": [],
   "source": []
  },
  {
   "cell_type": "code",
   "execution_count": null,
   "id": "14c946a9",
   "metadata": {},
   "outputs": [],
   "source": []
  },
  {
   "cell_type": "code",
   "execution_count": null,
   "id": "485a92a4",
   "metadata": {},
   "outputs": [],
   "source": []
  }
 ],
 "metadata": {
  "kernelspec": {
   "display_name": "Python 3 (ipykernel)",
   "language": "python",
   "name": "python3"
  },
  "language_info": {
   "codemirror_mode": {
    "name": "ipython",
    "version": 3
   },
   "file_extension": ".py",
   "mimetype": "text/x-python",
   "name": "python",
   "nbconvert_exporter": "python",
   "pygments_lexer": "ipython3",
   "version": "3.9.12"
  }
 },
 "nbformat": 4,
 "nbformat_minor": 5
}
