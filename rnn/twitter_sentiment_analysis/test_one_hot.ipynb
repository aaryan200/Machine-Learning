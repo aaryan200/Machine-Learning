{
 "cells": [
  {
   "cell_type": "code",
   "execution_count": 44,
   "metadata": {},
   "outputs": [],
   "source": [
    "import tensorflow as tf\n",
    "from tensorflow import keras\n",
    "from keras.models import load_model\n",
    "import nltk\n",
    "import re\n",
    "import matplotlib.pyplot as plt\n",
    "from nltk.corpus import stopwords\n",
    "import numpy as np\n",
    "import pandas as pd\n",
    "from tqdm import tqdm\n",
    "from sklearn.metrics import confusion_matrix, ConfusionMatrixDisplay"
   ]
  },
  {
   "cell_type": "code",
   "execution_count": 9,
   "metadata": {},
   "outputs": [],
   "source": [
    "def read_glove_file(filename = 'glove.6B.50d.txt'):\n",
    "    with open(filename, 'r') as f:\n",
    "        words = set()\n",
    "        words_to_vec_map = dict()\n",
    "        for line in f:\n",
    "            # Remove extra white spaces and split the line\n",
    "            li = line.strip().split()\n",
    "            words.add(li[0])\n",
    "            words_to_vec_map[li[0]] = np.array(li[1:], dtype=np.float64)\n",
    "    idx_to_words = dict()\n",
    "    words_to_idx = dict()\n",
    "    i = 1\n",
    "    for word in sorted(words):\n",
    "        words_to_idx[word] = i\n",
    "        idx_to_words[i] = word\n",
    "        i += 1\n",
    "    return words_to_vec_map, words_to_idx, idx_to_words\n",
    "\n",
    "words_to_vec_map, words_to_idx, idx_to_words = read_glove_file()\n",
    "label_to_idx = {'Irrelevant': 0, 'Negative': 1, 'Neutral': 0, 'Positive': 2}"
   ]
  },
  {
   "cell_type": "code",
   "execution_count": 15,
   "metadata": {},
   "outputs": [],
   "source": [
    "def preprocess_text(txt):\n",
    "    review = re.sub('[^a-zA-Z]', ' ', txt)\n",
    "    review = review.lower()\n",
    "    review = review.split()\n",
    "\n",
    "    review = [word for word in review if not word in stopwords.words('english')]\n",
    "    review = ' '.join(review)\n",
    "    return review\n",
    "def sentence_to_indices(X, words_to_idx ,maxLen):\n",
    "    m = X.shape[0]\n",
    "    X_out = np.zeros((m, maxLen))\n",
    "    for i in range(m):\n",
    "        li = X[i].lower().strip().split()\n",
    "        j = 0\n",
    "        for w in li:\n",
    "            if (j >= maxLen): break\n",
    "            if w in words_to_idx.keys():\n",
    "                X_out[i,j] = words_to_idx[w]\n",
    "            j += 1\n",
    "    return X_out"
   ]
  },
  {
   "cell_type": "code",
   "execution_count": 5,
   "metadata": {},
   "outputs": [
    {
     "name": "stderr",
     "output_type": "stream",
     "text": [
      "2023-12-19 11:40:41.312289: W tensorflow/core/common_runtime/gpu/gpu_device.cc:2256] Cannot dlopen some GPU libraries. Please make sure the missing libraries mentioned above are installed properly if you would like to use GPU. Follow the guide at https://www.tensorflow.org/install/gpu for how to download and setup the required libraries for your platform.\n",
      "Skipping registering GPU devices...\n"
     ]
    }
   ],
   "source": [
    "model = load_model('model_one_hot_preprocess.h5')"
   ]
  },
  {
   "cell_type": "code",
   "execution_count": 20,
   "metadata": {},
   "outputs": [],
   "source": [
    "def predict_for_sentence(sentence, model, words_to_idx = words_to_idx, maxLen = 64):\n",
    "    sentence_preprocessed = preprocess_text(sentence)\n",
    "    sentence_indices = sentence_to_indices(np.array([sentence_preprocessed]), words_to_idx, maxLen)\n",
    "    pred = model.predict(sentence_indices)[0]\n",
    "    print(f\"Negative: {pred[1]}\")\n",
    "    print(f\"Neutral: {pred[0]}\")\n",
    "    print(f\"Positive: {pred[2]}\")\n",
    "    return"
   ]
  },
  {
   "cell_type": "code",
   "execution_count": 27,
   "metadata": {},
   "outputs": [
    {
     "name": "stdout",
     "output_type": "stream",
     "text": [
      "1/1 [==============================] - 0s 28ms/step\n"
     ]
    },
    {
     "name": "stdout",
     "output_type": "stream",
     "text": [
      "Negative: 0.11062783747911453\n",
      "Neutral: 0.3946632146835327\n",
      "Positive: 0.49470892548561096\n",
      "None\n"
     ]
    }
   ],
   "source": [
    "test_example = \"Can you bring me some coffee\"\n",
    "pred = predict_for_sentence(test_example, model)\n",
    "print(pred)"
   ]
  },
  {
   "cell_type": "code",
   "execution_count": 32,
   "metadata": {},
   "outputs": [],
   "source": [
    "def load_data(label_to_idx, csv_file = 'data/twitter_training.csv'):\n",
    "    df = pd.read_csv(csv_file, header=None)\n",
    "    df = df.dropna()\n",
    "    data = set()\n",
    "    for _, row in tqdm(df.iterrows(), total = len(df)):\n",
    "        if (row[2]==\"Irrelevant\"): continue\n",
    "        txt = row[3]\n",
    "        txt = preprocess_text(txt)\n",
    "        data.add((txt, label_to_idx[row[2]]))\n",
    "    data = list(data)\n",
    "    X = np.asarray([tup[0] for tup in data])\n",
    "    y = np.asarray([tup[1] for tup in data], dtype=int)\n",
    "    return X, y\n",
    "\n",
    "def convert_to_one_hot(y, C = 3):\n",
    "    return np.eye(C)[y.reshape(-1)]"
   ]
  },
  {
   "cell_type": "code",
   "execution_count": 31,
   "metadata": {},
   "outputs": [
    {
     "name": "stderr",
     "output_type": "stream",
     "text": [
      "  0%|          | 0/1000 [00:00<?, ?it/s]"
     ]
    },
    {
     "name": "stderr",
     "output_type": "stream",
     "text": [
      "100%|██████████| 1000/1000 [00:00<00:00, 1031.92it/s]\n"
     ]
    }
   ],
   "source": [
    "X_val, y_val = load_data(label_to_idx, csv_file='data/twitter_validation.csv')"
   ]
  },
  {
   "cell_type": "code",
   "execution_count": 33,
   "metadata": {},
   "outputs": [],
   "source": [
    "X_val_indices = sentence_to_indices(X_val, words_to_idx, 64)\n",
    "y_val_oh = convert_to_one_hot(y_val)"
   ]
  },
  {
   "cell_type": "code",
   "execution_count": 37,
   "metadata": {},
   "outputs": [
    {
     "name": "stdout",
     "output_type": "stream",
     "text": [
      "26/26 [==============================] - 1s 42ms/step\n"
     ]
    }
   ],
   "source": [
    "y_val_pred = model.predict(X_val_indices)\n",
    "y_val_pred_indices = y_val_pred.argmax(axis = 1)"
   ]
  },
  {
   "cell_type": "code",
   "execution_count": 48,
   "metadata": {},
   "outputs": [],
   "source": [
    "def plot_confusion_matrix(cm,\n",
    "                          target_names,\n",
    "                          title='Confusion matrix',\n",
    "                          cmap=None,\n",
    "                          normalize=True):\n",
    "    \"\"\"\n",
    "    given a sklearn confusion matrix (cm), make a nice plot\n",
    "\n",
    "    Arguments\n",
    "    ---------\n",
    "    cm:           confusion matrix from sklearn.metrics.confusion_matrix\n",
    "\n",
    "    target_names: given classification classes such as [0, 1, 2]\n",
    "                  the class names, for example: ['high', 'medium', 'low']\n",
    "\n",
    "    title:        the text to display at the top of the matrix\n",
    "\n",
    "    cmap:         the gradient of the values displayed from matplotlib.pyplot.cm\n",
    "                  see http://matplotlib.org/examples/color/colormaps_reference.html\n",
    "                  plt.get_cmap('jet') or plt.cm.Blues\n",
    "\n",
    "    normalize:    If False, plot the raw numbers\n",
    "                  If True, plot the proportions\n",
    "\n",
    "    Usage\n",
    "    -----\n",
    "    plot_confusion_matrix(cm           = cm,                  # confusion matrix created by\n",
    "                                                              # sklearn.metrics.confusion_matrix\n",
    "                          normalize    = True,                # show proportions\n",
    "                          target_names = y_labels_vals,       # list of names of the classes\n",
    "                          title        = best_estimator_name) # title of graph\n",
    "\n",
    "    Citiation\n",
    "    ---------\n",
    "    http://scikit-learn.org/stable/auto_examples/model_selection/plot_confusion_matrix.html\n",
    "\n",
    "    \"\"\"\n",
    "    import matplotlib.pyplot as plt\n",
    "    import numpy as np\n",
    "    import itertools\n",
    "\n",
    "    accuracy = np.trace(cm) / float(np.sum(cm))\n",
    "    misclass = 1 - accuracy\n",
    "\n",
    "    if cmap is None:\n",
    "        cmap = plt.get_cmap('Blues')\n",
    "\n",
    "    plt.figure(figsize=(8, 6))\n",
    "    plt.imshow(cm, interpolation='nearest', cmap=cmap)\n",
    "    plt.title(title)\n",
    "    plt.colorbar()\n",
    "\n",
    "    if target_names is not None:\n",
    "        tick_marks = np.arange(len(target_names))\n",
    "        plt.xticks(tick_marks, target_names, rotation=45)\n",
    "        plt.yticks(tick_marks, target_names)\n",
    "\n",
    "    if normalize:\n",
    "        cm = cm.astype('float') / cm.sum(axis=1)[:, np.newaxis]\n",
    "\n",
    "\n",
    "    thresh = cm.max() / 1.5 if normalize else cm.max() / 2\n",
    "    for i, j in itertools.product(range(cm.shape[0]), range(cm.shape[1])):\n",
    "        if normalize:\n",
    "            plt.text(j, i, \"{:0.4f}\".format(cm[i, j]),\n",
    "                     horizontalalignment=\"center\",\n",
    "                     color=\"white\" if cm[i, j] > thresh else \"black\")\n",
    "        else:\n",
    "            plt.text(j, i, \"{:,}\".format(cm[i, j]),\n",
    "                     horizontalalignment=\"center\",\n",
    "                     color=\"white\" if cm[i, j] > thresh else \"black\")\n",
    "\n",
    "\n",
    "    plt.tight_layout()\n",
    "    plt.ylabel('True label')\n",
    "    plt.xlabel('Predicted label\\naccuracy={:0.4f}; misclass={:0.4f}'.format(accuracy, misclass))\n",
    "    plt.show()"
   ]
  },
  {
   "cell_type": "code",
   "execution_count": 49,
   "metadata": {},
   "outputs": [
    {
     "data": {
      "image/png": "[encoded data removed]",
      "text/plain": [
       "<Figure size 800x600 with 2 Axes>"
      ]
     },
     "metadata": {},
     "output_type": "display_data"
    }
   ],
   "source": [
    "labels_arr = np.array([0, 1, 2])\n",
    "cm = confusion_matrix(y_true=y_val, y_pred=y_val_pred_indices, labels=labels_arr)\n",
    "plot_confusion_matrix(cm, target_names=['Neutral', 'Negative', 'Positive'])"
   ]
  },
  {
   "cell_type": "code",
   "execution_count": 47,
   "metadata": {},
   "outputs": [
    {
     "data": {
      "text/plain": [
       "True"
      ]
     },
     "execution_count": 47,
     "metadata": {},
     "output_type": "execute_result"
    }
   ],
   "source": [
    "import os\n",
    "model_save_name = \"model_one_hot_preprocess.h5\"\n",
    "os.path.isfile(model_save_name)"
   ]
  },
  {
   "cell_type": "code",
   "execution_count": null,
   "metadata": {},
   "outputs": [],
   "source": []
  }
 ],
 "metadata": {
  "kernelspec": {
   "display_name": "base",
   "language": "python",
   "name": "python3"
  },
  "language_info": {
   "codemirror_mode": {
    "name": "ipython",
    "version": 3
   },
   "file_extension": ".py",
   "mimetype": "text/x-python",
   "name": "python",
   "nbconvert_exporter": "python",
   "pygments_lexer": "ipython3",
   "version": "3.11.5"
  }
 },
 "nbformat": 4,
 "nbformat_minor": 2
}
