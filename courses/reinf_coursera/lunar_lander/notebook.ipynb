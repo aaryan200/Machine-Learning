{
 "cells": [
  {
   "cell_type": "markdown",
   "metadata": {},
   "source": [
    "# Deep Q-Learning - Lunar Lander\n",
    "\n",
    "In this assignment, you will train an agent to land a lunar lander safely on a landing pad on the surface of the moon.\n",
    "\n",
    "\n",
    "# Outline\n",
    "- [ 1 - Import Packages <img align=\"Right\" src=\"./images/lunar_lander.gif\" width = 60% >](#1)\n",
    "- [ 2 - Hyperparameters](#2)\n",
    "- [ 3 - The Lunar Lander Environment](#3)\n",
    "  - [ 3.1 Action Space](#3.1)\n",
    "  - [ 3.2 Observation Space](#3.2)\n",
    "  - [ 3.3 Rewards](#3.3)\n",
    "  - [ 3.4 Episode Termination](#3.4)\n",
    "- [ 4 - Load the Environment](#4)\n",
    "- [ 5 - Interacting with the Gym Environment](#5)\n",
    "    - [ 5.1 Exploring the Environment's Dynamics](#5.1)\n",
    "- [ 6 - Deep Q-Learning](#6)\n",
    "  - [ 6.1 Target Network](#6.1)\n",
    "    - [ Exercise 1](#ex01)\n",
    "  - [ 6.2 Experience Replay](#6.2)\n",
    "- [ 7 - Deep Q-Learning Algorithm with Experience Replay](#7)\n",
    "  - [ Exercise 2](#ex02)\n",
    "- [ 8 - Update the Network Weights](#8)\n",
    "- [ 9 - Train the Agent](#9)\n",
    "- [ 10 - See the Trained Agent In Action](#10)\n",
    "- [ 11 - Congratulations!](#11)\n",
    "- [ 12 - References](#12)\n"
   ]
  },
  {
   "cell_type": "markdown",
   "metadata": {},
   "source": [
    "_**NOTE:** To prevent errors from the autograder, you are not allowed to edit or delete non-graded cells in this lab. Please also refrain from adding any new cells. \n",
    "**Once you have passed this assignment** and want to experiment with any of the non-graded code, you may follow the instructions at the bottom of this notebook._"
   ]
  },
  {
   "cell_type": "markdown",
   "metadata": {},
   "source": [
    "<a name=\"1\"></a>\n",
    "## 1 - Import Packages\n",
    "\n",
    "We'll make use of the following packages:\n",
    "- `numpy` is a package for scientific computing in python.\n",
    "- `deque` will be our data structure for our memory buffer.\n",
    "- `namedtuple` will be used to store the experience tuples.\n",
    "- The `gym` toolkit is a collection of environments that can be used to test reinforcement learning algorithms. We should note that in this notebook we are using `gym` version `0.24.0`.\n",
    "- `PIL.Image` and `pyvirtualdisplay` are needed to render the Lunar Lander environment.\n",
    "- We will use several modules from the `tensorflow.keras` framework for building deep learning models.\n",
    "- `utils` is a module that contains helper functions for this assignment. You do not need to modify the code in this file.\n",
    "\n",
    "Run the cell below to import all the necessary packages."
   ]
  },
  {
   "cell_type": "code",
   "execution_count": 1,
   "metadata": {
    "deletable": false,
    "editable": false,
    "id": "KYbOPKRtfQOr"
   },
   "outputs": [
    {
     "name": "stderr",
     "output_type": "stream",
     "text": [
      "2023-03-19 12:12:21.542074: I tensorflow/core/platform/cpu_feature_guard.cc:193] This TensorFlow binary is optimized with oneAPI Deep Neural Network Library (oneDNN) to use the following CPU instructions in performance-critical operations:  AVX2 FMA\n",
      "To enable them in other operations, rebuild TensorFlow with the appropriate compiler flags.\n",
      "2023-03-19 12:12:21.855366: W tensorflow/compiler/xla/stream_executor/platform/default/dso_loader.cc:64] Could not load dynamic library 'libcudart.so.11.0'; dlerror: libcudart.so.11.0: cannot open shared object file: No such file or directory; LD_LIBRARY_PATH: /home/aaryan/py/lib/python3.10/site-packages/cv2/../../lib64:\n",
      "2023-03-19 12:12:21.855391: I tensorflow/compiler/xla/stream_executor/cuda/cudart_stub.cc:29] Ignore above cudart dlerror if you do not have a GPU set up on your machine.\n",
      "2023-03-19 12:12:23.215522: W tensorflow/compiler/xla/stream_executor/platform/default/dso_loader.cc:64] Could not load dynamic library 'libnvinfer.so.7'; dlerror: libnvinfer.so.7: cannot open shared object file: No such file or directory; LD_LIBRARY_PATH: /home/aaryan/py/lib/python3.10/site-packages/cv2/../../lib64:\n",
      "2023-03-19 12:12:23.215624: W tensorflow/compiler/xla/stream_executor/platform/default/dso_loader.cc:64] Could not load dynamic library 'libnvinfer_plugin.so.7'; dlerror: libnvinfer_plugin.so.7: cannot open shared object file: No such file or directory; LD_LIBRARY_PATH: /home/aaryan/py/lib/python3.10/site-packages/cv2/../../lib64:\n",
      "2023-03-19 12:12:23.215635: W tensorflow/compiler/tf2tensorrt/utils/py_utils.cc:38] TF-TRT Warning: Cannot dlopen some TensorRT libraries. If you would like to use Nvidia GPU with TensorRT, please make sure the missing libraries mentioned above are installed properly.\n"
     ]
    }
   ],
   "source": [
    "import time\n",
    "from collections import deque, namedtuple\n",
    "\n",
    "import gym\n",
    "import numpy as np\n",
    "import PIL.Image\n",
    "import tensorflow as tf\n",
    "import utils\n",
    "\n",
    "from pyvirtualdisplay import Display\n",
    "from tensorflow import keras\n",
    "from keras import Sequential\n",
    "from keras.layers import Dense, Input\n",
    "from keras.losses import MSE\n",
    "from keras.optimizers import Adam"
   ]
  },
  {
   "cell_type": "code",
   "execution_count": 2,
   "metadata": {
    "deletable": false,
    "editable": false
   },
   "outputs": [],
   "source": [
    "# Set up a virtual display to render the Lunar Lander environment.\n",
    "Display(visible=0, size=(840, 480)).start();\n",
    "\n",
    "# Set the random seed for TensorFlow\n",
    "tf.random.set_seed(utils.SEED)"
   ]
  },
  {
   "cell_type": "markdown",
   "metadata": {},
   "source": [
    "<a name=\"2\"></a>\n",
    "## 2 - Hyperparameters\n",
    "\n",
    "Run the cell below to set the hyperparameters."
   ]
  },
  {
   "cell_type": "code",
   "execution_count": 3,
   "metadata": {
    "deletable": false,
    "editable": false
   },
   "outputs": [],
   "source": [
    "MEMORY_SIZE = 100_000     # size of memory buffer\n",
    "GAMMA = 0.995             # discount factor\n",
    "ALPHA = 1e-3              # learning rate  \n",
    "NUM_STEPS_FOR_UPDATE = 4  # perform a learning update every C time steps"
   ]
  },
  {
   "cell_type": "markdown",
   "metadata": {},
   "source": [
    "<a name=\"3\"></a>\n",
    "## 3 - The Lunar Lander Environment\n",
    "\n",
    "In this notebook we will be using [OpenAI's Gym Library](https://www.gymlibrary.dev/). The Gym library provides a wide variety of environments for reinforcement learning. To put it simply, an environment represents a problem or task to be solved. In this notebook, we will try to solve the Lunar Lander environment using reinforcement learning.\n",
    "\n",
    "The goal of the Lunar Lander environment is to land the lunar lander safely on the landing pad on the surface of the moon. The landing pad is designated by two flag poles and it is always at coordinates `(0,0)` but the lander is also allowed to land outside of the landing pad. The lander starts at the top center of the environment with a random initial force applied to its center of mass and has infinite fuel. The environment is considered solved if you get `200` points. \n",
    "\n",
    "<br>\n",
    "<br>\n",
    "<figure>\n",
    "  <img src = \"images/lunar_lander.gif\" width = 40%>\n",
    "      <figcaption style = \"text-align: center; font-style: italic\">Fig 1. Lunar Lander Environment.</figcaption>\n",
    "</figure>\n",
    "\n",
    "\n",
    "\n",
    "<a name=\"3.1\"></a>\n",
    "### 3.1 Action Space\n",
    "\n",
    "The agent has four discrete actions available:\n",
    "\n",
    "* Do nothing.\n",
    "* Fire right engine.\n",
    "* Fire main engine.\n",
    "* Fire left engine.\n",
    "\n",
    "Each action has a corresponding numerical value:\n",
    "\n",
    "```python\n",
    "Do nothing = 0\n",
    "Fire right engine = 1\n",
    "Fire main engine = 2\n",
    "Fire left engine = 3\n",
    "```\n",
    "\n",
    "<a name=\"3.2\"></a>\n",
    "### 3.2 Observation Space\n",
    "\n",
    "The agent's observation space consists of a state vector with 8 variables:\n",
    "\n",
    "* Its $(x,y)$ coordinates. The landing pad is always at coordinates $(0,0)$.\n",
    "* Its linear velocities $(\\dot x,\\dot y)$.\n",
    "* Its angle $\\theta$.\n",
    "* Its angular velocity $\\dot \\theta$.\n",
    "* Two booleans, $l$ and $r$, that represent whether each leg is in contact with the ground or not.\n",
    "\n",
    "<a name=\"3.3\"></a>\n",
    "### 3.3 Rewards\n",
    "\n",
    "The Lunar Lander environment has the following reward system:\n",
    "\n",
    "* Landing on the landing pad and coming to rest is about 100-140 points.\n",
    "* If the lander moves away from the landing pad, it loses reward. \n",
    "* If the lander crashes, it receives -100 points.\n",
    "* If the lander comes to rest, it receives +100 points.\n",
    "* Each leg with ground contact is +10 points.\n",
    "* Firing the main engine is -0.3 points each frame.\n",
    "* Firing the side engine is -0.03 points each frame.\n",
    "\n",
    "<a name=\"3.4\"></a>\n",
    "### 3.4 Episode Termination\n",
    "\n",
    "An episode ends (i.e the environment enters a terminal state) if:\n",
    "\n",
    "* The lunar lander crashes (i.e if the body of the lunar lander comes in contact with the surface of the moon).\n",
    "\n",
    "* The absolute value of the lander's $x$-coordinate is greater than 1 (i.e. it goes beyond the left or right border)\n",
    "\n",
    "You can check out the [Open AI Gym documentation](https://www.gymlibrary.dev/environments/box2d/lunar_lander/) for a full description of the environment. "
   ]
  },
  {
   "cell_type": "markdown",
   "metadata": {},
   "source": [
    "<a name=\"4\"></a>\n",
    "## 4 - Load the Environment\n",
    "\n",
    "We start by loading the `LunarLander-v2` environment from the `gym` library by using the `.make()` method. `LunarLander-v2` is the latest version of the Lunar Lander environment and you can read about its version history in the [Open AI Gym documentation](https://www.gymlibrary.dev/environments/box2d/lunar_lander/#version-history)."
   ]
  },
  {
   "cell_type": "code",
   "execution_count": 4,
   "metadata": {
    "deletable": false,
    "editable": false,
    "id": "ILVMYKewfR0n"
   },
   "outputs": [],
   "source": [
    "env = gym.make('LunarLander-v2', render_mode='rgb_array')"
   ]
  },
  {
   "cell_type": "markdown",
   "metadata": {},
   "source": [
    "Once we load the environment we use the `.reset()` method to reset the environment to the initial state. The lander starts at the top center of the environment and we can render the first frame of the environment by using the `.render()` method."
   ]
  },
  {
   "cell_type": "code",
   "execution_count": 5,
   "metadata": {
    "deletable": false,
    "editable": false
   },
   "outputs": [
    {
     "data": {
      "image/png": "[encoded data removed]",
      "text/plain": [
       "<PIL.Image.Image image mode=RGB size=600x400>"
      ]
     },
     "execution_count": 5,
     "metadata": {},
     "output_type": "execute_result"
    }
   ],
   "source": [
    "env.reset()\n",
    "PIL.Image.fromarray(env.render())"
   ]
  },
  {
   "cell_type": "markdown",
   "metadata": {},
   "source": [
    "In order to build our neural network later on we need to know the size of the state vector and the number of valid actions. We can get this information from our environment by using the `.observation_space.shape` and `action_space.n` methods, respectively."
   ]
  },
  {
   "cell_type": "code",
   "execution_count": 6,
   "metadata": {
    "deletable": false,
    "editable": false,
    "id": "x3fdqdG4CUu2"
   },
   "outputs": [
    {
     "name": "stdout",
     "output_type": "stream",
     "text": [
      "State Shape: (8,)\n",
      "Number of actions: 4\n"
     ]
    }
   ],
   "source": [
    "state_size = env.observation_space.shape\n",
    "num_actions = env.action_space.n\n",
    "\n",
    "print('State Shape:', state_size)\n",
    "print('Number of actions:', num_actions)"
   ]
  },
  {
   "cell_type": "markdown",
   "metadata": {},
   "source": [
    "<a name=\"5\"></a>\n",
    "## 5 - Interacting with the Gym Environment\n",
    "\n",
    "The Gym library implements the standard “agent-environment loop” formalism:\n",
    "\n",
    "<br>\n",
    "<center>\n",
    "<video src = \"./videos/rl_formalism.m4v\" width=\"840\" height=\"480\" controls autoplay loop poster=\"./images/rl_formalism.png\"> </video>\n",
    "<figcaption style = \"text-align:center; font-style:italic\">Fig 2. Agent-environment Loop Formalism.</figcaption>\n",
    "</center>\n",
    "<br>\n",
    "\n",
    "In the standard “agent-environment loop” formalism, an agent interacts with the environment in discrete time steps $t=0,1,2,...$. At each time step $t$, the agent uses a policy $\\pi$ to select an action $A_t$ based on its observation of the environment's state $S_t$. The agent receives a numerical reward $R_t$ and on the next time step, moves to a new state $S_{t+1}$.\n",
    "\n",
    "<a name=\"5.1\"></a>\n",
    "### 5.1 Exploring the Environment's Dynamics\n",
    "\n",
    "In Open AI's Gym environments, we use the `.step()` method to run a single time step of the environment's dynamics. In the version of `gym` that we are using the `.step()` method accepts an action and returns four values:\n",
    "\n",
    "* `observation` (**object**): an environment-specific object representing your observation of the environment. In the Lunar Lander environment this corresponds to a numpy array containing the positions and velocities of the lander as described in section [3.2 Observation Space](#3.2).\n",
    "\n",
    "\n",
    "* `reward` (**float**): amount of reward returned as a result of taking the given action. In the Lunar Lander environment this corresponds to a float of type `numpy.float64` as described in section [3.3 Rewards](#3.3).\n",
    "\n",
    "\n",
    "* `done` (**boolean**): When done is `True`, it indicates the episode has terminated and it’s time to reset the environment. \n",
    "\n",
    "\n",
    "* `info` (**dictionary**): diagnostic information useful for debugging. We won't be using this variable in this notebook but it is shown here for completeness.\n",
    "\n",
    "To begin an episode, we need to reset the environment to an initial state. We do this by using the `.reset()` method. "
   ]
  },
  {
   "cell_type": "code",
   "execution_count": 7,
   "metadata": {
    "deletable": false,
    "editable": false
   },
   "outputs": [
    {
     "name": "stdout",
     "output_type": "stream",
     "text": [
      "Initial State: (array([-0.00286961,  1.4198407 , -0.29066956,  0.39646754,  0.00333188,\n",
      "        0.06584104,  0.        ,  0.        ], dtype=float32), {})\n"
     ]
    }
   ],
   "source": [
    "# Reset the environment and get the initial state.\n",
    "initial_state = env.reset()\n",
    "print('Initial State:', initial_state)"
   ]
  },
  {
   "cell_type": "markdown",
   "metadata": {},
   "source": [
    "Once the environment is reset, the agent can start taking actions in the environment by using the `.step()` method. Note that the agent can only take one action per time step. \n",
    "\n",
    "In the cell below you can select different actions and see how the returned values change depending on the action taken. Remember that in this environment the agent has four discrete actions available and we specify them in code by using their corresponding numerical value:\n",
    "\n",
    "```python\n",
    "Do nothing = 0\n",
    "Fire right engine = 1\n",
    "Fire main engine = 2\n",
    "Fire left engine = 3\n",
    "```"
   ]
  },
  {
   "cell_type": "code",
   "execution_count": 8,
   "metadata": {
    "deletable": false
   },
   "outputs": [
    {
     "data": {
      "text/html": [
       "<table class=\"simpletable\">\n",
       "<tr>\n",
       "  <th>Initial State:</th>      <td>(array([-0.003, 1.420, -0.291, 0.396, 0.003, 0.066, 0.000, 0.000],\n",
       "      dtype=float32), {})</td>\n",
       "</tr>\n",
       "<tr>\n",
       "  <th>Action:</th>                                                      <td>Do nothing</td>                                         \n",
       "</tr>\n",
       "<tr>\n",
       "  <th>Next State:</th>                              <td>[-0.006 1.428 -0.290 0.371 0.007 0.065 0.000 0.000]</td>                    \n",
       "</tr>\n",
       "<tr>\n",
       "  <th>Reward Received:</th>                                                <td>0.913</td>                                           \n",
       "</tr>\n",
       "<tr>\n",
       "  <th>Episode Terminated:</th>                                             <td>False</td>                                           \n",
       "</tr>\n",
       "</table>"
      ],
      "text/plain": [
       "<class 'statsmodels.iolib.table.SimpleTable'>"
      ]
     },
     "execution_count": 8,
     "metadata": {},
     "output_type": "execute_result"
    }
   ],
   "source": [
    "# Select an action\n",
    "action = 0\n",
    "\n",
    "# Run a single time step of the environment's dynamics with the given action.\n",
    "# print(env.step(action))\n",
    "next_state, reward, terminated, truncated, _ = env.step(action)\n",
    "\n",
    "done = terminated or truncated\n",
    "# Display table with values. All values are displayed to 3 decimal places.\n",
    "utils.display_table(initial_state, action, next_state, reward, done)"
   ]
  },
  {
   "cell_type": "markdown",
   "metadata": {},
   "source": [
    "In practice, when we train the agent we use a loop to allow the agent to take many consecutive actions during an episode."
   ]
  },
  {
   "cell_type": "markdown",
   "metadata": {},
   "source": [
    "<a name=\"6\"></a>\n",
    "## 6 - Deep Q-Learning\n",
    "\n",
    "In cases where both the state and action space are discrete we can estimate the action-value function iteratively by using the Bellman equation:\n",
    "\n",
    "$$\n",
    "Q_{i+1}(s,a) = R + \\gamma \\max_{a'}Q_i(s',a')\n",
    "$$\n",
    "\n",
    "This iterative method converges to the optimal action-value function $Q^*(s,a)$ as $i\\to\\infty$. This means that the agent just needs to gradually explore the state-action space and keep updating the estimate of $Q(s,a)$ until it converges to the optimal action-value function $Q^*(s,a)$. However, in cases where the state space is continuous it becomes practically impossible to explore the entire state-action space. Consequently, this also makes it practically impossible to gradually estimate $Q(s,a)$ until it converges to $Q^*(s,a)$.\n",
    "\n",
    "In the Deep $Q$-Learning, we solve this problem by using a neural network to estimate the action-value function $Q(s,a)\\approx Q^*(s,a)$. We call this neural network a $Q$-Network and it can be trained by adjusting its weights at each iteration to minimize the mean-squared error in the Bellman equation.\n",
    "\n",
    "Unfortunately, using neural networks in reinforcement learning to estimate action-value functions has proven to be highly unstable. Luckily, there's a couple of techniques that can be employed to avoid instabilities. These techniques consist of using a ***Target Network*** and ***Experience Replay***. We will explore these two techniques in the following sections."
   ]
  },
  {
   "cell_type": "markdown",
   "metadata": {},
   "source": [
    "<a name=\"6.1\"></a>\n",
    "### 6.1 Target Network\n",
    "\n",
    "We can train the $Q$-Network by adjusting it's weights at each iteration to minimize the mean-squared error in the Bellman equation, where the target values are given by:\n",
    "\n",
    "$$\n",
    "y = R + \\gamma \\max_{a'}Q(s',a';w)\n",
    "$$\n",
    "\n",
    "where $w$ are the weights of the $Q$-Network. This means that we are adjusting the weights $w$ at each iteration to minimize the following error:\n",
    "\n",
    "$$\n",
    "\\overbrace{\\underbrace{R + \\gamma \\max_{a'}Q(s',a'; w)}_{\\rm {y~target}} - Q(s,a;w)}^{\\rm {Error}}\n",
    "$$\n",
    "\n",
    "Notice that this forms a problem because the $y$ target is changing on every iteration. Having a constantly moving target can lead to oscillations and instabilities. To avoid this, we can create\n",
    "a separate neural network for generating the $y$ targets. We call this separate neural network the **target $\\hat Q$-Network** and it will have the same architecture as the original $Q$-Network. By using the target $\\hat Q$-Network, the above error becomes:\n",
    "\n",
    "$$\n",
    "\\overbrace{\\underbrace{R + \\gamma \\max_{a'}\\hat{Q}(s',a'; w^-)}_{\\rm {y~target}} - Q(s,a;w)}^{\\rm {Error}}\n",
    "$$\n",
    "\n",
    "where $w^-$ and $w$ are the weights the target $\\hat Q$-Network and $Q$-Network, respectively.\n",
    "\n",
    "In practice, we will use the following algorithm: every $C$ time steps we will use the $\\hat Q$-Network to generate the $y$ targets and update the weights of the target $\\hat Q$-Network using the weights of the $Q$-Network. We will update the weights $w^-$ of the the target $\\hat Q$-Network using a **soft update**. This means that we will update the weights $w^-$ using the following rule:\n",
    " \n",
    "$$\n",
    "w^-\\leftarrow \\tau w + (1 - \\tau) w^-\n",
    "$$\n",
    "\n",
    "where $\\tau\\ll 1$. By using the soft update, we are ensuring that the target values, $y$, change slowly, which greatly improves the stability of our learning algorithm."
   ]
  },
  {
   "cell_type": "markdown",
   "metadata": {},
   "source": [
    "<a name=\"ex01\"></a>\n",
    "### Exercise 1\n",
    "\n",
    "In this exercise you will create the $Q$ and target $\\hat Q$ networks and set the optimizer. Remember that the Deep $Q$-Network (DQN) is a neural network that approximates the action-value function $Q(s,a)\\approx Q^*(s,a)$. It does this by learning how to map states to $Q$ values.\n",
    "\n",
    "To solve the Lunar Lander environment, we are going to employ a DQN with the following architecture:\n",
    "\n",
    "* An `Input` layer that takes `state_size` as input.\n",
    "\n",
    "* A `Dense` layer with `64` units and a `relu` activation function.\n",
    "\n",
    "* A `Dense` layer with `64` units and a `relu` activation function.\n",
    "\n",
    "* A `Dense` layer with `num_actions` units and a `linear` activation function. This will be the output layer of our network.\n",
    "\n",
    "\n",
    "In the cell below you should create the $Q$-Network and the target $\\hat Q$-Network using the model architecture described above. Remember that both the $Q$-Network and the target $\\hat Q$-Network have the same architecture.\n",
    "\n",
    "Lastly, you should set `Adam` as the optimizer with a learning rate equal to `ALPHA`. Recall that `ALPHA` was defined in the [Hyperparameters](#2) section. We should note that for this exercise you should use the already imported packages:\n",
    "```python\n",
    "from tensorflow.keras.layers import Dense, Input\n",
    "from tensorflow.keras.optimizers import Adam\n",
    "```"
   ]
  },
  {
   "cell_type": "code",
   "execution_count": 89,
   "metadata": {
    "deletable": false
   },
   "outputs": [],
   "source": [
    "# UNQ_C1\n",
    "# GRADED CELL\n",
    "\n",
    "# Create the Q-Network\n",
    "q_network = Sequential([\n",
    "    ### START CODE HERE ### \n",
    "    Input(shape=state_size),                      \n",
    "    Dense(units=64, activation='relu'),            \n",
    "    Dense(units=64, activation='relu'),            \n",
    "    Dense(units=num_actions, activation='linear')\n",
    "    \n",
    "    \n",
    "    \n",
    "    ### END CODE HERE ### \n",
    "    ])\n",
    "\n",
    "# Create the target Q^-Network\n",
    "target_q_network = Sequential([\n",
    "    ### START CODE HERE ### \n",
    "    Input(shape=state_size),                      \n",
    "    Dense(units=64, activation='relu'),            \n",
    "    Dense(units=64, activation='relu'),            \n",
    "    Dense(units=num_actions, activation='linear')\n",
    "    \n",
    "    \n",
    "    \n",
    "    ### END CODE HERE ###\n",
    "    ])\n",
    "\n",
    "### START CODE HERE ### \n",
    "optimizer = Adam(learning_rate=ALPHA)\n",
    "### END CODE HERE ###\n",
    "q_network.compile(optimizer=optimizer,  loss = 'mean_squared_error', metrics = ['accuracy'] )\n",
    "target_q_network.compile(optimizer=optimizer,  loss = 'mean_squared_error', metrics = ['accuracy'] )"
   ]
  },
  {
   "cell_type": "code",
   "execution_count": 90,
   "metadata": {
    "deletable": false,
    "editable": false
   },
   "outputs": [
    {
     "name": "stdout",
     "output_type": "stream",
     "text": [
      "\u001b[92mAll tests passed!\n",
      "\u001b[92mAll tests passed!\n",
      "\u001b[92mAll tests passed!\n"
     ]
    }
   ],
   "source": [
    "# UNIT TEST\n",
    "from public_tests import *\n",
    "\n",
    "test_network(q_network)\n",
    "test_network(target_q_network)\n",
    "test_optimizer(optimizer, ALPHA) "
   ]
  },
  {
   "cell_type": "markdown",
   "metadata": {},
   "source": [
    "<details>\n",
    "  <summary><font size=\"3\" color=\"darkgreen\"><b>Click for hints</b></font></summary>\n",
    "    \n",
    "```python\n",
    "# Create the Q-Network\n",
    "q_network = Sequential([\n",
    "    Input(shape=state_size),                      \n",
    "    Dense(units=64, activation='relu'),            \n",
    "    Dense(units=64, activation='relu'),            \n",
    "    Dense(units=num_actions, activation='linear'),\n",
    "    ])\n",
    "\n",
    "# Create the target Q^-Network\n",
    "target_q_network = Sequential([\n",
    "    Input(shape=state_size),                       \n",
    "    Dense(units=64, activation='relu'),            \n",
    "    Dense(units=64, activation='relu'),            \n",
    "    Dense(units=num_actions, activation='linear'), \n",
    "    ])\n",
    "\n",
    "optimizer = Adam(learning_rate=ALPHA)                                  \n",
    "``` "
   ]
  },
  {
   "cell_type": "markdown",
   "metadata": {},
   "source": [
    "<a name=\"6.2\"></a>\n",
    "### 6.2 Experience Replay\n",
    "\n",
    "When an agent interacts with the environment, the states, actions, and rewards the agent experiences are sequential by nature. If the agent tries to learn from these consecutive experiences it can run into problems due to the strong correlations between them. To avoid this, we employ a technique known as **Experience Replay** to generate uncorrelated experiences for training our agent. Experience replay consists of storing the agent's experiences (i.e the states, actions, and rewards the agent receives) in a memory buffer and then sampling a random mini-batch of experiences from the buffer to do the learning. The experience tuples $(S_t, A_t, R_t, S_{t+1})$ will be added to the memory buffer at each time step as the agent interacts with the environment.\n",
    "\n",
    "For convenience, we will store the experiences as named tuples."
   ]
  },
  {
   "cell_type": "code",
   "execution_count": 11,
   "metadata": {
    "deletable": false,
    "editable": false
   },
   "outputs": [],
   "source": [
    "# Store experiences as named tuples\n",
    "experience = namedtuple(\"Experience\", field_names=[\"state\", \"action\", \"reward\", \"next_state\", \"done\"])"
   ]
  },
  {
   "cell_type": "markdown",
   "metadata": {},
   "source": [
    "By using experience replay we avoid problematic correlations, oscillations and instabilities. In addition, experience replay also allows the agent to potentially use the same experience in multiple weight updates, which increases data efficiency."
   ]
  },
  {
   "cell_type": "markdown",
   "metadata": {},
   "source": [
    "<a name=\"7\"></a>\n",
    "## 7 - Deep Q-Learning Algorithm with Experience Replay\n",
    "\n",
    "Now that we know all the techniques that we are going to use, we can put them together to arrive at the Deep Q-Learning Algorithm With Experience Replay.\n",
    "<br>\n",
    "<br>\n",
    "<figure>\n",
    "  <img src = \"images/deep_q_algorithm.png\" width = 90% style = \"border: thin silver solid; padding: 0px\">\n",
    "      <figcaption style = \"text-align: center; font-style: italic\">Fig 3. Deep Q-Learning with Experience Replay.</figcaption>\n",
    "</figure>"
   ]
  },
  {
   "cell_type": "markdown",
   "metadata": {},
   "source": [
    "<a name=\"ex02\"></a>\n",
    "### Exercise 2\n",
    "\n",
    "In this exercise you will implement line ***12*** of the algorithm outlined in *Fig 3* above and you will also compute the loss between the $y$ targets and the $Q(s,a)$ values. In the cell below, complete the `compute_loss` function by setting the $y$ targets equal to:\n",
    "\n",
    "$$\n",
    "\\begin{equation}\n",
    "    y_j =\n",
    "    \\begin{cases}\n",
    "      R_j & \\text{if episode terminates at step  } j+1\\\\\n",
    "      R_j + \\gamma \\max_{a'}\\hat{Q}(s_{j+1},a') & \\text{otherwise}\\\\\n",
    "    \\end{cases}       \n",
    "\\end{equation}\n",
    "$$\n",
    "\n",
    "Here are a couple of things to note:\n",
    "\n",
    "* The `compute_loss` function takes in a mini-batch of experience tuples. This mini-batch of experience tuples is unpacked to extract the `states`, `actions`, `rewards`, `next_states`, and `done_vals`. You should keep in mind that these variables are *TensorFlow Tensors* whose size will depend on the mini-batch size. For example, if the mini-batch size is `64` then both `rewards` and `done_vals` will be TensorFlow Tensors with `64` elements.\n",
    "\n",
    "\n",
    "* Using `if/else` statements to set the $y$ targets will not work when the variables are tensors with many elements. However, notice that you can use the `done_vals` to implement the above in a single line of code. To do this, recall that the `done` variable is a Boolean variable that takes the value `True` when an episode terminates at step $j+1$ and it is `False` otherwise. Taking into account that a Boolean value of `True` has the numerical value of `1` and a Boolean value of `False` has the numerical value of `0`, you can use the factor `(1 - done_vals)` to implement the above in a single line of code. Here's a hint: notice that `(1 - done_vals)` has a value of `0` when `done_vals` is `True` and a value of `1` when `done_vals` is `False`. \n",
    "\n",
    "Lastly, compute the loss by calculating the Mean-Squared Error (`MSE`) between the `y_targets` and the `q_values`. To calculate the mean-squared error you should use the already imported package `MSE`:\n",
    "```python\n",
    "from tensorflow.keras.losses import MSE\n",
    "```"
   ]
  },
  {
   "cell_type": "code",
   "execution_count": 208,
   "metadata": {
    "deletable": false
   },
   "outputs": [],
   "source": [
    "# UNQ_C2\n",
    "# GRADED FUNCTION: calculate_loss\n",
    "\n",
    "def compute_loss(experiences, gamma, q_network, target_q_network):\n",
    "    \"\"\" \n",
    "    Calculates the loss.\n",
    "    \n",
    "    Args:\n",
    "      experiences: (tuple) tuple of [\"state\", \"action\", \"reward\", \"next_state\", \"done\"] namedtuples\n",
    "      gamma: (float) The discount factor.\n",
    "      q_network: (tf.keras.Sequential) Keras model for predicting the q_values\n",
    "      target_q_network: (tf.keras.Sequential) Keras model for predicting the targets\n",
    "          \n",
    "    Returns:\n",
    "      loss: (TensorFlow Tensor(shape=(0,), dtype=int32)) the Mean-Squared Error between\n",
    "            the y targets and the Q(s,a) values.\n",
    "    \"\"\"\n",
    "\n",
    "    states, actions, rewards, next_states, done_vals = experiences\n",
    "    \n",
    "    # Compute max Q^(s,a)\n",
    "    max_qsa = tf.reduce_max(target_q_network(next_states), axis=-1)\n",
    "    print(\"Max_qsa\")\n",
    "    print(max_qsa)\n",
    "    # Set y = R if episode terminates, otherwise set y = R + γ max Q^(s,a).\n",
    "    y_targets = rewards + (gamma * max_qsa * (1 - done_vals))\n",
    "    \n",
    "    # Get the q_values\n",
    "    q_values = q_network(states)\n",
    "    q_values = tf.gather_nd(q_values, tf.stack([tf.range(q_values.shape[0]),\n",
    "                                                tf.cast(actions, tf.int32)], axis=1))\n",
    "    print(f\"y_targets.shape = {y_targets.shape}\")\n",
    "    print(f\"q_values.shape = {q_values.shape}\")\n",
    "    # Calculate the loss\n",
    "    loss = MSE(y_targets, q_values)\n",
    "    \n",
    "    return loss"
   ]
  },
  {
   "cell_type": "code",
   "execution_count": 33,
   "metadata": {
    "deletable": false,
    "editable": false
   },
   "outputs": [
    {
     "name": "stdout",
     "output_type": "stream",
     "text": [
      "\u001b[92mAll tests passed!\n"
     ]
    }
   ],
   "source": [
    "# UNIT TEST    \n",
    "test_compute_loss(compute_loss)"
   ]
  },
  {
   "cell_type": "markdown",
   "metadata": {},
   "source": [
    "<details>\n",
    "  <summary><font size=\"3\" color=\"darkgreen\"><b>Click for hints</b></font></summary>\n",
    "    \n",
    "```python\n",
    "def compute_loss(experiences, gamma, q_network, target_q_network):\n",
    "    \"\"\" \n",
    "    Calculates the loss.\n",
    "    \n",
    "    Args:\n",
    "      experiences: (tuple) tuple of [\"state\", \"action\", \"reward\", \"next_state\", \"done\"] namedtuples\n",
    "      gamma: (float) The discount factor.\n",
    "      q_network: (tf.keras.Sequential) Keras model for predicting the q_values\n",
    "      target_q_network: (tf.keras.Sequential) Keras model for predicting the targets\n",
    "          \n",
    "    Returns:\n",
    "      loss: (TensorFlow Tensor(shape=(0,), dtype=int32)) the Mean-Squared Error between\n",
    "            the y targets and the Q(s,a) values.\n",
    "    \"\"\"\n",
    "\n",
    "    \n",
    "    # Unpack the mini-batch of experience tuples\n",
    "    states, actions, rewards, next_states, done_vals = experiences\n",
    "    \n",
    "    # Compute max Q^(s,a)\n",
    "    max_qsa = tf.reduce_max(target_q_network(next_states), axis=-1)\n",
    "    \n",
    "    # Set y = R if episode terminates, otherwise set y = R + γ max Q^(s,a).\n",
    "    y_targets = rewards + (gamma * max_qsa * (1 - done_vals))\n",
    "    \n",
    "    # Get the q_values\n",
    "    q_values = q_network(states)\n",
    "    q_values = tf.gather_nd(q_values, tf.stack([tf.range(q_values.shape[0]),\n",
    "                                                tf.cast(actions, tf.int32)], axis=1))\n",
    "    \n",
    "    # Calculate the loss\n",
    "    loss = MSE(y_targets, q_values)\n",
    "    \n",
    "    return loss\n",
    "\n",
    "``` \n",
    "    "
   ]
  },
  {
   "cell_type": "markdown",
   "metadata": {},
   "source": [
    "<a name=\"8\"></a>\n",
    "## 8 - Update the Network Weights\n",
    "\n",
    "We will use the `agent_learn` function below to implement lines ***12 -14*** of the algorithm outlined in [Fig 3](#7). The `agent_learn` function will update the weights of the $Q$ and target $\\hat Q$ networks using a custom training loop. Because we are using a custom training loop we need to retrieve the gradients via a `tf.GradientTape` instance, and then call `optimizer.apply_gradients()` to update the weights of our $Q$-Network. Note that we are also using the `@tf.function` decorator to increase performance. Without this decorator our training will take twice as long. If you would like to know more about how to increase performance with `@tf.function` take a look at the [TensorFlow documentation](https://www.tensorflow.org/guide/function).\n",
    "\n",
    "The last line of this function updates the weights of the target $\\hat Q$-Network using a [soft update](#6.1). If you want to know how this is implemented in code we encourage you to take a look at the `utils.update_target_network` function in the `utils` module."
   ]
  },
  {
   "cell_type": "code",
   "execution_count": 209,
   "metadata": {
    "deletable": false
   },
   "outputs": [],
   "source": [
    "@tf.function\n",
    "def agent_learn(experiences, gamma):\n",
    "    \"\"\"\n",
    "    Updates the weights of the Q networks.\n",
    "    \n",
    "    Args:\n",
    "      experiences: (tuple) tuple of [\"state\", \"action\", \"reward\", \"next_state\", \"done\"] namedtuples\n",
    "      gamma: (float) The discount factor.\n",
    "    \n",
    "    \"\"\"\n",
    "    \n",
    "    # Calculate the loss\n",
    "    with tf.GradientTape() as tape:\n",
    "        loss = compute_loss(experiences, gamma, q_network, target_q_network)\n",
    "    print(loss)\n",
    "    # Get the gradients of the loss with respect to the weights.\n",
    "    gradients = tape.gradient(loss, q_network.trainable_variables)\n",
    "    print(gradients)\n",
    "    # Update the weights of the q_network.\n",
    "    optimizer.apply_gradients(zip(gradients, q_network.trainable_variables))\n",
    "\n",
    "    # update the weights of target q_network\n",
    "    utils.update_target_network(q_network, target_q_network)"
   ]
  },
  {
   "cell_type": "markdown",
   "metadata": {},
   "source": [
    "<a name=\"9\"></a>\n",
    "## 9 - Train the Agent\n",
    "\n",
    "We are now ready to train our agent to solve the Lunar Lander environment. In the cell below we will implement the algorithm in [Fig 3](#7) line by line (please note that we have included the same algorithm below for easy reference. This will prevent you from scrolling up and down the notebook):\n",
    "\n",
    "* **Line 1**: We initialize the `memory_buffer` with a capacity of $N =$ `MEMORY_SIZE`. Notice that we are using a `deque` as the data structure for our `memory_buffer`.\n",
    "\n",
    "\n",
    "* **Line 2**: We skip this line since we already initialized the `q_network` in [Exercise 1](#ex01).\n",
    "\n",
    "\n",
    "* **Line 3**: We initialize the `target_q_network` by setting its weights to be equal to those of the `q_network`.\n",
    "\n",
    "\n",
    "* **Line 4**: We start the outer loop. Notice that we have set $M =$ `num_episodes = 2000`. This number is reasonable because the agent should be able to solve the Lunar Lander environment in less than `2000` episodes using this notebook's default parameters.\n",
    "\n",
    "\n",
    "* **Line 5**: We use the `.reset()` method to reset the environment to the initial state and get the initial state.\n",
    "\n",
    "\n",
    "* **Line 6**: We start the inner loop. Notice that we have set $T =$ `max_num_timesteps = 1000`. This means that the episode will automatically terminate if the episode hasn't terminated after `1000` time steps.\n",
    "\n",
    "\n",
    "* **Line 7**: The agent observes the current `state` and chooses an `action` using an $\\epsilon$-greedy policy. Our agent starts out using a value of $\\epsilon =$ `epsilon = 1` which yields an $\\epsilon$-greedy policy that is equivalent to the equiprobable random policy. This means that at the beginning of our training, the agent is just going to take random actions regardless of the observed `state`. As training progresses we will decrease the value of $\\epsilon$ slowly towards a minimum value using a given $\\epsilon$-decay rate. We want this minimum value to be close to zero because a value of $\\epsilon = 0$ will yield an $\\epsilon$-greedy policy that is equivalent to the greedy policy. This means that towards the end of training, the agent will lean towards selecting the `action` that it believes (based on its past experiences) will maximize $Q(s,a)$. We will set the minimum $\\epsilon$ value to be `0.01` and not exactly 0 because we always want to keep a little bit of exploration during training. If you want to know how this is implemented in code we encourage you to take a look at the `utils.get_action` function in the `utils` module.\n",
    "\n",
    "\n",
    "* **Line 8**: We use the `.step()` method to take the given `action` in the environment and get the `reward` and the `next_state`. \n",
    "\n",
    "\n",
    "* **Line 9**: We store the `experience(state, action, reward, next_state, done)` tuple in our `memory_buffer`. Notice that we also store the `done` variable so that we can keep track of when an episode terminates. This allowed us to set the $y$ targets in [Exercise 2](#ex02).\n",
    "\n",
    "\n",
    "* **Line 10**: We check if the conditions are met to perform a learning update. We do this by using our custom `utils.check_update_conditions` function. This function checks if $C =$ `NUM_STEPS_FOR_UPDATE = 4` time steps have occured and if our `memory_buffer` has enough experience tuples to fill a mini-batch. For example, if the mini-batch size is `64`, then our `memory_buffer` should have more than `64` experience tuples in order to pass the latter condition. If the conditions are met, then the `utils.check_update_conditions` function will return a value of `True`, otherwise it will return a value of `False`.\n",
    "\n",
    "\n",
    "* **Lines 11 - 14**: If the `update` variable is `True` then we perform a learning update. The learning update consists of sampling a random mini-batch of experience tuples from our `memory_buffer`, setting the $y$ targets, performing gradient descent, and updating the weights of the networks. We will use the `agent_learn` function we defined in [Section 8](#8) to perform the latter 3.\n",
    "\n",
    "\n",
    "* **Line 15**: At the end of each iteration of the inner loop we set `next_state` as our new `state` so that the loop can start again from this new state. In addition, we check if the episode has reached a terminal state (i.e we check if `done = True`). If a terminal state has been reached, then we break out of the inner loop.\n",
    "\n",
    "\n",
    "* **Line 16**: At the end of each iteration of the outer loop we update the value of $\\epsilon$, and check if the environment has been solved. We consider that the environment has been solved if the agent receives an average of `200` points in the last `100` episodes. If the environment has not been solved we continue the outer loop and start a new episode.\n",
    "\n",
    "Finally, we wanted to note that we have included some extra variables to keep track of the total number of points the agent received in each episode. This will help us determine if the agent has solved the environment and it will also allow us to see how our agent performed during training. We also use the `time` module to measure how long the training takes. \n",
    "\n",
    "<br>\n",
    "<br>\n",
    "<figure>\n",
    "  <img src = \"images/deep_q_algorithm.png\" width = 90% style = \"border: thin silver solid; padding: 0px\">\n",
    "      <figcaption style = \"text-align: center; font-style: italic\">Fig 4. Deep Q-Learning with Experience Replay.</figcaption>\n",
    "</figure>\n",
    "<br>\n",
    "\n",
    "**Note:** With this notebook's default parameters, the following cell takes between 10 to 15 minutes to run. "
   ]
  },
  {
   "cell_type": "code",
   "execution_count": 14,
   "metadata": {},
   "outputs": [],
   "source": [
    "state, _ = env.reset()"
   ]
  },
  {
   "cell_type": "code",
   "execution_count": 15,
   "metadata": {},
   "outputs": [
    {
     "data": {
      "text/plain": [
       "array([-0.0072135 ,  1.411113  , -0.7306774 ,  0.00855651,  0.00836556,\n",
       "        0.16550934,  0.        ,  0.        ], dtype=float32)"
      ]
     },
     "execution_count": 15,
     "metadata": {},
     "output_type": "execute_result"
    }
   ],
   "source": [
    "state"
   ]
  },
  {
   "cell_type": "code",
   "execution_count": 16,
   "metadata": {},
   "outputs": [],
   "source": [
    "state_qn = np.expand_dims(state, axis=0)"
   ]
  },
  {
   "cell_type": "code",
   "execution_count": 17,
   "metadata": {},
   "outputs": [
    {
     "data": {
      "text/plain": [
       "array([[-0.0072135 ,  1.411113  , -0.7306774 ,  0.00855651,  0.00836556,\n",
       "         0.16550934,  0.        ,  0.        ]], dtype=float32)"
      ]
     },
     "execution_count": 17,
     "metadata": {},
     "output_type": "execute_result"
    }
   ],
   "source": [
    "state_qn"
   ]
  },
  {
   "cell_type": "code",
   "execution_count": 18,
   "metadata": {},
   "outputs": [],
   "source": [
    "q_values = q_network(tf.convert_to_tensor(state_qn, dtype = tf.float64))"
   ]
  },
  {
   "cell_type": "code",
   "execution_count": 19,
   "metadata": {},
   "outputs": [
    {
     "data": {
      "text/plain": [
       "<tf.Tensor: shape=(1, 4), dtype=float32, numpy=array([[0.05607392, 0.07132889, 0.28730693, 0.17726286]], dtype=float32)>"
      ]
     },
     "execution_count": 19,
     "metadata": {},
     "output_type": "execute_result"
    }
   ],
   "source": [
    "q_values"
   ]
  },
  {
   "cell_type": "code",
   "execution_count": 211,
   "metadata": {
    "deletable": false
   },
   "outputs": [
    {
     "name": "stdout",
     "output_type": "stream",
     "text": [
      "Episode 1 | Total point average of the last 100 episodes: 3.39\n",
      "\n",
      "Total Runtime: 0.08 s (0.00 min)\n"
     ]
    }
   ],
   "source": [
    "start = time.time()\n",
    "\n",
    "num_episodes = 2000\n",
    "max_num_timesteps = 1000\n",
    "\n",
    "total_point_history = []\n",
    "\n",
    "num_p_av = 100    # number of total points to use for averaging\n",
    "epsilon = 1.0     # initial ε value for ε-greedy policy\n",
    "\n",
    "# Create a memory buffer D with capacity N\n",
    "memory_buffer = deque(maxlen=MEMORY_SIZE)\n",
    "\n",
    "# Set the target network weights equal to the Q-Network weights\n",
    "target_q_network.set_weights(q_network.get_weights())\n",
    "\n",
    "for i in range(num_episodes):\n",
    "    \n",
    "    # Reset the environment to the initial state and get the initial state\n",
    "    state, _ = env.reset()\n",
    "    total_points = 0\n",
    "    \n",
    "    for t in range(max_num_timesteps):\n",
    "        \n",
    "        # From the current state S choose an action A using an ε-greedy policy\n",
    "        state_qn = np.expand_dims(state, axis=0)  # state needs to be the right shape for the q_network\n",
    "        # print(type(tf.convert_to_tensor(state_qn, dtype = tf.float64)))\n",
    "        # print(state_qn)\n",
    "        q_values = q_network(tf.convert_to_tensor(state_qn, dtype = tf.float64))\n",
    "        action = utils.get_action(q_values, epsilon)\n",
    "        \n",
    "        # Take action A and receive reward R and the next state S'\n",
    "        next_state, reward, terminated, truncated, _ = env.step(action)\n",
    "\n",
    "        done = terminated or truncated\n",
    "        # Store experience tuple (S,A,R,S') in the memory buffer.\n",
    "        # We store the done variable as well for convenience.\n",
    "        memory_buffer.append(experience(state, action, reward, next_state, done))\n",
    "        \n",
    "        # Only update the network every NUM_STEPS_FOR_UPDATE time steps.\n",
    "        update = utils.check_update_conditions(t, NUM_STEPS_FOR_UPDATE, memory_buffer)\n",
    "        \n",
    "        if update:\n",
    "            # Sample random mini-batch of experience tuples (S,A,R,S') from D\n",
    "            experiences = utils.get_experiences(memory_buffer)\n",
    "            \n",
    "            # Set the y targets, perform a gradient descent step,\n",
    "            # and update the network weights.\n",
    "            agent_learn(experiences, GAMMA)\n",
    "        \n",
    "        state = next_state.copy()\n",
    "        total_points += reward\n",
    "        if (t==1): break\n",
    "        \n",
    "        if done:\n",
    "            break\n",
    "            \n",
    "    total_point_history.append(total_points)\n",
    "    av_latest_points = np.mean(total_point_history[-num_p_av:])\n",
    "    \n",
    "    # Update the ε value\n",
    "    epsilon = utils.get_new_eps(epsilon)\n",
    "\n",
    "    print(f\"Episode {i+1} | Total point average of the last {num_p_av} episodes: {av_latest_points:.2f}\")\n",
    "\n",
    "    if (i+1) % num_p_av == 0:\n",
    "        print(f\"Episode {i+1} | Total point average of the last {num_p_av} episodes: {av_latest_points:.2f}\")\n",
    "\n",
    "    # We will consider that the environment is solved if we get an\n",
    "    # average of 200 points in the last 100 episodes.\n",
    "    if av_latest_points >= 200.0:\n",
    "        print(f\"\\n\\nEnvironment solved in {i+1} episodes!\")\n",
    "        q_network.save('lunar_lander_model.h5')\n",
    "        break\n",
    "    break\n",
    "        \n",
    "tot_time = time.time() - start\n",
    "\n",
    "print(f\"\\nTotal Runtime: {tot_time:.2f} s ({(tot_time/60):.2f} min)\")"
   ]
  },
  {
   "cell_type": "markdown",
   "metadata": {},
   "source": [
    "We can plot the total point history along with the moving average to see how our agent improved during training. If you want to know about the different plotting options available in the `utils.plot_history` function we encourage you to take a look at the `utils` module."
   ]
  },
  {
   "cell_type": "code",
   "execution_count": 214,
   "metadata": {
    "collapsed": true
   },
   "outputs": [
    {
     "ename": "ValueError",
     "evalue": "Sample larger than population or is negative",
     "output_type": "error",
     "traceback": [
      "\u001b[0;31m---------------------------------------------------------------------------\u001b[0m",
      "\u001b[0;31mValueError\u001b[0m                                Traceback (most recent call last)",
      "Cell \u001b[0;32mIn[214], line 1\u001b[0m\n\u001b[0;32m----> 1\u001b[0m experiences \u001b[38;5;241m=\u001b[39m \u001b[43mutils\u001b[49m\u001b[38;5;241;43m.\u001b[39;49m\u001b[43mget_experiences\u001b[49m\u001b[43m(\u001b[49m\u001b[43mmemory_buffer\u001b[49m\u001b[43m)\u001b[49m\n",
      "File \u001b[0;32m~/Desktop/ML/code/courses/reinf_coursera/lunar_lander/utils.py:60\u001b[0m, in \u001b[0;36mget_experiences\u001b[0;34m(memory_buffer)\u001b[0m\n\u001b[1;32m     30\u001b[0m \u001b[38;5;28;01mdef\u001b[39;00m \u001b[38;5;21mget_experiences\u001b[39m(memory_buffer):\n\u001b[1;32m     31\u001b[0m \u001b[38;5;250m    \u001b[39m\u001b[38;5;124;03m\"\"\"\u001b[39;00m\n\u001b[1;32m     32\u001b[0m \u001b[38;5;124;03m    Returns a random sample of experience tuples drawn from the memory buffer.\u001b[39;00m\n\u001b[1;32m     33\u001b[0m \n\u001b[0;32m   (...)\u001b[0m\n\u001b[1;32m     57\u001b[0m \u001b[38;5;124;03m        TensorFlow Tensors have elements with dtype=tf.float32.\u001b[39;00m\n\u001b[1;32m     58\u001b[0m \u001b[38;5;124;03m    \"\"\"\u001b[39;00m\n\u001b[0;32m---> 60\u001b[0m     experiences \u001b[38;5;241m=\u001b[39m \u001b[43mrandom\u001b[49m\u001b[38;5;241;43m.\u001b[39;49m\u001b[43msample\u001b[49m\u001b[43m(\u001b[49m\u001b[43mmemory_buffer\u001b[49m\u001b[43m,\u001b[49m\u001b[43m \u001b[49m\u001b[43mk\u001b[49m\u001b[38;5;241;43m=\u001b[39;49m\u001b[43mMINIBATCH_SIZE\u001b[49m\u001b[43m)\u001b[49m\n\u001b[1;32m     61\u001b[0m     states \u001b[38;5;241m=\u001b[39m tf\u001b[38;5;241m.\u001b[39mconvert_to_tensor(\n\u001b[1;32m     62\u001b[0m         np\u001b[38;5;241m.\u001b[39marray([e\u001b[38;5;241m.\u001b[39mstate \u001b[38;5;28;01mfor\u001b[39;00m e \u001b[38;5;129;01min\u001b[39;00m experiences \u001b[38;5;28;01mif\u001b[39;00m e \u001b[38;5;129;01mis\u001b[39;00m \u001b[38;5;129;01mnot\u001b[39;00m \u001b[38;5;28;01mNone\u001b[39;00m]), dtype\u001b[38;5;241m=\u001b[39mtf\u001b[38;5;241m.\u001b[39mfloat32\n\u001b[1;32m     63\u001b[0m     )\n\u001b[1;32m     64\u001b[0m     actions \u001b[38;5;241m=\u001b[39m tf\u001b[38;5;241m.\u001b[39mconvert_to_tensor(\n\u001b[1;32m     65\u001b[0m         np\u001b[38;5;241m.\u001b[39marray([e\u001b[38;5;241m.\u001b[39maction \u001b[38;5;28;01mfor\u001b[39;00m e \u001b[38;5;129;01min\u001b[39;00m experiences \u001b[38;5;28;01mif\u001b[39;00m e \u001b[38;5;129;01mis\u001b[39;00m \u001b[38;5;129;01mnot\u001b[39;00m \u001b[38;5;28;01mNone\u001b[39;00m]), dtype\u001b[38;5;241m=\u001b[39mtf\u001b[38;5;241m.\u001b[39mfloat32\n\u001b[1;32m     66\u001b[0m     )\n",
      "File \u001b[0;32m/usr/lib/python3.10/random.py:482\u001b[0m, in \u001b[0;36mRandom.sample\u001b[0;34m(self, population, k, counts)\u001b[0m\n\u001b[1;32m    480\u001b[0m randbelow \u001b[38;5;241m=\u001b[39m \u001b[38;5;28mself\u001b[39m\u001b[38;5;241m.\u001b[39m_randbelow\n\u001b[1;32m    481\u001b[0m \u001b[38;5;28;01mif\u001b[39;00m \u001b[38;5;129;01mnot\u001b[39;00m \u001b[38;5;241m0\u001b[39m \u001b[38;5;241m<\u001b[39m\u001b[38;5;241m=\u001b[39m k \u001b[38;5;241m<\u001b[39m\u001b[38;5;241m=\u001b[39m n:\n\u001b[0;32m--> 482\u001b[0m     \u001b[38;5;28;01mraise\u001b[39;00m \u001b[38;5;167;01mValueError\u001b[39;00m(\u001b[38;5;124m\"\u001b[39m\u001b[38;5;124mSample larger than population or is negative\u001b[39m\u001b[38;5;124m\"\u001b[39m)\n\u001b[1;32m    483\u001b[0m result \u001b[38;5;241m=\u001b[39m [\u001b[38;5;28;01mNone\u001b[39;00m] \u001b[38;5;241m*\u001b[39m k\n\u001b[1;32m    484\u001b[0m setsize \u001b[38;5;241m=\u001b[39m \u001b[38;5;241m21\u001b[39m        \u001b[38;5;66;03m# size of a small set minus size of an empty list\u001b[39;00m\n",
      "\u001b[0;31mValueError\u001b[0m: Sample larger than population or is negative"
     ]
    }
   ],
   "source": [
    "experiences = utils.get_experiences(memory_buffer)"
   ]
  },
  {
   "cell_type": "code",
   "execution_count": 217,
   "metadata": {},
   "outputs": [],
   "source": [
    "states = tf.convert_to_tensor(\n",
    "    np.array([e.state for e in experiences if e is not None]), dtype=tf.float32\n",
    ")\n",
    "actions = tf.convert_to_tensor(\n",
    "    np.array([e.action for e in experiences if e is not None]), dtype=tf.float32\n",
    ")\n",
    "rewards = tf.convert_to_tensor(\n",
    "    np.array([e.reward for e in experiences if e is not None]), dtype=tf.float32\n",
    ")\n",
    "next_states = tf.convert_to_tensor(\n",
    "    np.array([e.next_state for e in experiences if e is not None]), dtype=tf.float32\n",
    ")\n",
    "done_vals = tf.convert_to_tensor(\n",
    "    np.array([e.done for e in experiences if e is not None]).astype(np.uint8),\n",
    "    dtype=tf.float32,\n",
    ")"
   ]
  },
  {
   "cell_type": "code",
   "execution_count": 218,
   "metadata": {},
   "outputs": [
    {
     "name": "stdout",
     "output_type": "stream",
     "text": [
      "Max_qsa\n",
      "Tensor(\"Max:0\", shape=(2,), dtype=float32)\n",
      "y_targets.shape = (2,)\n",
      "q_values.shape = (2,)\n",
      "Tensor(\"Mean:0\", shape=(), dtype=float32)\n",
      "[<tf.Tensor 'gradient_tape/sequential_2/dense_6/MatMul/MatMul:0' shape=(8, 64) dtype=float32>, <tf.Tensor 'gradient_tape/sequential_2/dense_6/BiasAdd/BiasAddGrad:0' shape=(64,) dtype=float32>, <tf.Tensor 'gradient_tape/sequential_2/dense_7/MatMul/MatMul_1:0' shape=(64, 64) dtype=float32>, <tf.Tensor 'gradient_tape/sequential_2/dense_7/BiasAdd/BiasAddGrad:0' shape=(64,) dtype=float32>, <tf.Tensor 'gradient_tape/sequential_2/dense_8/MatMul/MatMul_1:0' shape=(64, 4) dtype=float32>, <tf.Tensor 'gradient_tape/sequential_2/dense_8/BiasAdd/BiasAddGrad:0' shape=(4,) dtype=float32>]\n"
     ]
    }
   ],
   "source": [
    "agent_learn((states, actions, rewards, next_states, done_vals), GAMMA)"
   ]
  },
  {
   "cell_type": "code",
   "execution_count": null,
   "metadata": {},
   "outputs": [],
   "source": []
  },
  {
   "cell_type": "code",
   "execution_count": 162,
   "metadata": {},
   "outputs": [
    {
     "data": {
      "text/plain": [
       "deque([Experience(state=array([-0.00286913,  1.4211087 , -0.29062566,  0.45282218,  0.00333138,\n",
       "               0.06583102,  0.        ,  0.        ], dtype=float32), action=0, reward=0.8804888150427814, next_state=array([-0.00573864,  1.4307189 , -0.29023242,  0.42710572,  0.0065845 ,\n",
       "               0.06506868,  0.        ,  0.        ], dtype=float32), done=False),\n",
       "       Experience(state=array([-0.00573864,  1.4307189 , -0.29023242,  0.42710572,  0.0065845 ,\n",
       "               0.06506868,  0.        ,  0.        ], dtype=float32), action=2, reward=-3.6588370216404824, next_state=array([-0.00868082,  1.4407823 , -0.29717198,  0.44724426,  0.00950882,\n",
       "               0.05849164,  0.        ,  0.        ], dtype=float32), done=False)],\n",
       "      maxlen=100000)"
      ]
     },
     "execution_count": 162,
     "metadata": {},
     "output_type": "execute_result"
    }
   ],
   "source": [
    "memory_buffer"
   ]
  },
  {
   "cell_type": "code",
   "execution_count": 215,
   "metadata": {},
   "outputs": [],
   "source": [
    "import random\n",
    "experiences = random.sample(memory_buffer, k=2)"
   ]
  },
  {
   "cell_type": "code",
   "execution_count": 216,
   "metadata": {},
   "outputs": [
    {
     "data": {
      "text/plain": [
       "[Experience(state=array([ 0.00197821,  1.3910112 ,  0.10400903, -0.42072153, -0.00173719,\n",
       "        -0.01298397,  0.        ,  0.        ], dtype=float32), action=1, reward=-1.2450885151826003, next_state=array([ 2.9190064e-03,  1.3809340e+00,  9.2360593e-02, -4.4787696e-01,\n",
       "        -4.9802253e-05,  3.3750825e-02,  0.0000000e+00,  0.0000000e+00],\n",
       "       dtype=float32), done=False),\n",
       " Experience(state=array([ 9.4470975e-04,  1.4004774e+00,  9.5684186e-02, -4.6411198e-01,\n",
       "        -1.0880164e-03, -2.1673899e-02,  0.0000000e+00,  0.0000000e+00],\n",
       "       dtype=float32), action=2, reward=4.63015612199369, next_state=array([ 0.00197821,  1.3910112 ,  0.10400903, -0.42072153, -0.00173719,\n",
       "        -0.01298397,  0.        ,  0.        ], dtype=float32), done=False)]"
      ]
     },
     "execution_count": 216,
     "metadata": {},
     "output_type": "execute_result"
    }
   ],
   "source": [
    "experiences"
   ]
  },
  {
   "cell_type": "code",
   "execution_count": 165,
   "metadata": {},
   "outputs": [],
   "source": [
    "states = tf.convert_to_tensor(\n",
    "    np.array([e.state for e in experiences if e is not None]), dtype=tf.float32\n",
    ")\n",
    "actions = tf.convert_to_tensor(\n",
    "    np.array([e.action for e in experiences if e is not None]), dtype=tf.float32\n",
    ")\n",
    "rewards = tf.convert_to_tensor(\n",
    "    np.array([e.reward for e in experiences if e is not None]), dtype=tf.float32\n",
    ")\n",
    "next_states = tf.convert_to_tensor(\n",
    "    np.array([e.next_state for e in experiences if e is not None]), dtype=tf.float32\n",
    ")\n",
    "done_vals = tf.convert_to_tensor(\n",
    "    np.array([e.done for e in experiences if e is not None]).astype(np.uint8),\n",
    "    dtype=tf.float32,\n",
    ")"
   ]
  },
  {
   "cell_type": "code",
   "execution_count": 166,
   "metadata": {},
   "outputs": [],
   "source": [
    "# states, actions, rewards, next_states, done_vals = memory_buffer"
   ]
  },
  {
   "cell_type": "code",
   "execution_count": 167,
   "metadata": {},
   "outputs": [
    {
     "data": {
      "text/plain": [
       "<tf.Tensor: shape=(2, 8), dtype=float32, numpy=\n",
       "array([[-0.00573864,  1.4307189 , -0.29023242,  0.42710572,  0.0065845 ,\n",
       "         0.06506868,  0.        ,  0.        ],\n",
       "       [-0.00286913,  1.4211087 , -0.29062566,  0.45282218,  0.00333138,\n",
       "         0.06583102,  0.        ,  0.        ]], dtype=float32)>"
      ]
     },
     "execution_count": 167,
     "metadata": {},
     "output_type": "execute_result"
    }
   ],
   "source": [
    "states"
   ]
  },
  {
   "cell_type": "code",
   "execution_count": 168,
   "metadata": {},
   "outputs": [
    {
     "data": {
      "text/plain": [
       "<tf.Tensor: shape=(2,), dtype=float32, numpy=array([2., 0.], dtype=float32)>"
      ]
     },
     "execution_count": 168,
     "metadata": {},
     "output_type": "execute_result"
    }
   ],
   "source": [
    "actions"
   ]
  },
  {
   "cell_type": "code",
   "execution_count": 169,
   "metadata": {},
   "outputs": [
    {
     "data": {
      "text/plain": [
       "<tf.Tensor: shape=(2,), dtype=float32, numpy=array([-3.658837 ,  0.8804888], dtype=float32)>"
      ]
     },
     "execution_count": 169,
     "metadata": {},
     "output_type": "execute_result"
    }
   ],
   "source": [
    "rewards"
   ]
  },
  {
   "cell_type": "code",
   "execution_count": 170,
   "metadata": {},
   "outputs": [
    {
     "data": {
      "text/plain": [
       "<tf.Tensor: shape=(2, 8), dtype=float32, numpy=\n",
       "array([[-0.00868082,  1.4407823 , -0.29717198,  0.44724426,  0.00950882,\n",
       "         0.05849164,  0.        ,  0.        ],\n",
       "       [-0.00573864,  1.4307189 , -0.29023242,  0.42710572,  0.0065845 ,\n",
       "         0.06506868,  0.        ,  0.        ]], dtype=float32)>"
      ]
     },
     "execution_count": 170,
     "metadata": {},
     "output_type": "execute_result"
    }
   ],
   "source": [
    "next_states"
   ]
  },
  {
   "cell_type": "code",
   "execution_count": 171,
   "metadata": {},
   "outputs": [
    {
     "data": {
      "text/plain": [
       "<tf.Tensor: shape=(2,), dtype=float32, numpy=array([0., 0.], dtype=float32)>"
      ]
     },
     "execution_count": 171,
     "metadata": {},
     "output_type": "execute_result"
    }
   ],
   "source": [
    "done_vals"
   ]
  },
  {
   "cell_type": "code",
   "execution_count": 172,
   "metadata": {},
   "outputs": [],
   "source": [
    "target_q = target_q_network(next_states)\n",
    "max_qsa = tf.reduce_max(target_q, axis=-1)"
   ]
  },
  {
   "cell_type": "code",
   "execution_count": 173,
   "metadata": {},
   "outputs": [
    {
     "data": {
      "text/plain": [
       "<tf.Tensor: shape=(2, 4), dtype=float32, numpy=\n",
       "array([[ 0.00216748,  0.29235068, -0.11044361, -0.53777397],\n",
       "       [ 0.00768912,  0.2838821 , -0.10665323, -0.5324294 ]],\n",
       "      dtype=float32)>"
      ]
     },
     "execution_count": 173,
     "metadata": {},
     "output_type": "execute_result"
    }
   ],
   "source": [
    "target_q"
   ]
  },
  {
   "cell_type": "code",
   "execution_count": 174,
   "metadata": {},
   "outputs": [
    {
     "data": {
      "text/plain": [
       "<tf.Tensor: shape=(2,), dtype=float32, numpy=array([0.29235068, 0.2838821 ], dtype=float32)>"
      ]
     },
     "execution_count": 174,
     "metadata": {},
     "output_type": "execute_result"
    }
   ],
   "source": [
    "max_qsa"
   ]
  },
  {
   "cell_type": "code",
   "execution_count": 175,
   "metadata": {},
   "outputs": [],
   "source": [
    "y_targets = rewards + (0.01 * max_qsa * (1 - done_vals))"
   ]
  },
  {
   "cell_type": "code",
   "execution_count": 176,
   "metadata": {},
   "outputs": [
    {
     "data": {
      "text/plain": [
       "<tf.Tensor: shape=(2,), dtype=float32, numpy=array([-3.6559136 ,  0.88332766], dtype=float32)>"
      ]
     },
     "execution_count": 176,
     "metadata": {},
     "output_type": "execute_result"
    }
   ],
   "source": [
    "y_targets"
   ]
  },
  {
   "cell_type": "code",
   "execution_count": 177,
   "metadata": {},
   "outputs": [],
   "source": [
    "q_values = q_network(states)"
   ]
  },
  {
   "cell_type": "code",
   "execution_count": 178,
   "metadata": {},
   "outputs": [
    {
     "data": {
      "text/plain": [
       "<tf.Tensor: shape=(2, 4), dtype=float32, numpy=\n",
       "array([[ 0.00768912,  0.2838821 , -0.10665323, -0.5324294 ],\n",
       "       [ 0.00241226,  0.28873038, -0.10955481, -0.5310233 ]],\n",
       "      dtype=float32)>"
      ]
     },
     "execution_count": 178,
     "metadata": {},
     "output_type": "execute_result"
    }
   ],
   "source": [
    "q_values"
   ]
  },
  {
   "cell_type": "code",
   "execution_count": 179,
   "metadata": {},
   "outputs": [],
   "source": [
    "q_values = tf.gather_nd(q_values, tf.stack([tf.range(q_values.shape[0]),\n",
    "                                                tf.cast(actions, tf.int32)], axis=1))"
   ]
  },
  {
   "cell_type": "code",
   "execution_count": 186,
   "metadata": {},
   "outputs": [
    {
     "data": {
      "text/plain": [
       "<tf.Tensor: shape=(2,), dtype=float32, numpy=array([-0.10665323,  0.00241226], dtype=float32)>"
      ]
     },
     "execution_count": 186,
     "metadata": {},
     "output_type": "execute_result"
    }
   ],
   "source": [
    "q_values"
   ]
  },
  {
   "cell_type": "code",
   "execution_count": 187,
   "metadata": {},
   "outputs": [],
   "source": [
    "loss = MSE(y_targets, q_values)"
   ]
  },
  {
   "cell_type": "code",
   "execution_count": 188,
   "metadata": {},
   "outputs": [
    {
     "data": {
      "text/plain": [
       "<tf.Tensor: shape=(), dtype=float32, numpy=6.6866302>"
      ]
     },
     "execution_count": 188,
     "metadata": {},
     "output_type": "execute_result"
    }
   ],
   "source": [
    "loss"
   ]
  },
  {
   "cell_type": "code",
   "execution_count": 195,
   "metadata": {},
   "outputs": [],
   "source": [
    "with tf.GradientTape() as tape:\n",
    "    tape.watch(loss)\n",
    "    loss1 = loss\n",
    "#     tape.watch(q_network.trainable_variables)\n",
    "#     tape.watch(loss1)"
   ]
  },
  {
   "cell_type": "code",
   "execution_count": 198,
   "metadata": {},
   "outputs": [
    {
     "data": {
      "text/plain": [
       "6"
      ]
     },
     "execution_count": 198,
     "metadata": {},
     "output_type": "execute_result"
    }
   ],
   "source": [
    "len(q_network.trainable_variables)"
   ]
  },
  {
   "cell_type": "code",
   "execution_count": 199,
   "metadata": {},
   "outputs": [
    {
     "data": {
      "text/plain": [
       "[<tf.Variable 'dense_6/kernel:0' shape=(8, 64) dtype=float32, numpy=\n",
       " array([[ 2.01065958e-01, -2.32965484e-01, -1.96550190e-01,\n",
       "          6.83264732e-02, -1.98387504e-02, -4.18614000e-02,\n",
       "          6.21299744e-02,  2.24134624e-01,  1.70893967e-01,\n",
       "         -2.39665791e-01,  1.97403193e-01,  1.67583168e-01,\n",
       "         -4.15414274e-02,  2.17716396e-01, -2.31464684e-01,\n",
       "         -7.54009634e-02, -3.90074849e-02,  8.59829485e-02,\n",
       "          4.84171808e-02, -2.03254133e-01,  2.73118913e-02,\n",
       "          2.64700055e-01,  2.58923650e-01,  1.33323282e-01,\n",
       "         -1.27654195e-01,  2.28313863e-01,  1.95598871e-01,\n",
       "         -2.21999526e-01,  2.95367539e-02,  5.46360910e-02,\n",
       "          1.74322784e-01,  7.21308589e-02,  2.02986181e-01,\n",
       "          2.66160846e-01, -5.13366759e-02,  1.26693040e-01,\n",
       "          1.80057943e-01, -1.51055828e-01, -4.13585603e-02,\n",
       "         -5.77180386e-02,  6.39286339e-02, -9.24690813e-02,\n",
       "          2.56726027e-01,  3.07768285e-02, -9.67992246e-02,\n",
       "          2.61791050e-01,  1.30426079e-01, -1.71837151e-01,\n",
       "         -2.50120670e-01,  2.36291409e-01,  8.65597129e-02,\n",
       "          2.76845276e-01,  1.21073157e-01, -1.71680495e-01,\n",
       "         -1.35569945e-01,  4.72487211e-02,  1.50981098e-01,\n",
       "         -1.70602888e-01,  2.23435104e-01, -1.79228663e-01,\n",
       "         -4.99224663e-03, -1.49419576e-01, -2.76393890e-01,\n",
       "          1.56598151e-01],\n",
       "        [ 2.47899532e-01,  9.52976048e-02,  1.05576754e-01,\n",
       "          2.24903822e-01,  1.76565319e-01, -1.83634385e-01,\n",
       "         -2.42228374e-01,  6.72300160e-02, -1.94113076e-01,\n",
       "          3.18539739e-02, -2.35773146e-01,  2.17413783e-01,\n",
       "          1.40536249e-01,  2.25458384e-01, -9.95071083e-02,\n",
       "          2.19163716e-01,  4.44447994e-03,  3.13830376e-03,\n",
       "          1.41687036e-01, -3.12126577e-02, -3.06477249e-02,\n",
       "         -1.37879938e-01,  1.81934267e-01, -1.03729472e-01,\n",
       "         -2.56533325e-02,  9.33164656e-02,  2.11830497e-01,\n",
       "          1.88706338e-01, -1.95420384e-02, -1.19295120e-02,\n",
       "          8.07076991e-02,  2.19188273e-01,  2.84755111e-01,\n",
       "          2.30774283e-01, -1.20937645e-01,  1.03203177e-01,\n",
       "         -2.32421964e-01,  2.28400409e-01, -6.07141554e-02,\n",
       "         -1.87611535e-01,  8.46361220e-02, -1.84008315e-01,\n",
       "          4.46104407e-02, -1.61705270e-01, -2.53856838e-01,\n",
       "         -2.42746696e-01,  1.83628052e-01,  1.13667339e-01,\n",
       "         -1.01742551e-01,  1.42731994e-01,  1.72676474e-01,\n",
       "         -2.61539489e-01, -3.75083089e-02, -1.84689343e-01,\n",
       "          2.24301636e-01, -3.18226516e-02,  2.75202751e-01,\n",
       "         -2.22961009e-02,  2.28864014e-01, -1.51687369e-01,\n",
       "         -2.61157185e-01,  2.69516706e-02,  1.38998777e-01,\n",
       "         -1.11929551e-01],\n",
       "        [-2.58156806e-01,  1.18916571e-01, -2.71891832e-01,\n",
       "         -2.28672087e-01, -2.50734031e-01,  2.43792653e-01,\n",
       "          1.59999073e-01,  2.33237147e-02, -3.76586914e-02,\n",
       "         -1.20969653e-01, -4.85445559e-02, -1.24352977e-01,\n",
       "          2.05217868e-01, -2.08039850e-01, -1.12221584e-01,\n",
       "          2.28318751e-01, -5.58064133e-02, -2.15474173e-01,\n",
       "          1.31770909e-01,  1.66214794e-01,  1.45362109e-01,\n",
       "          1.82674617e-01,  6.88928962e-02, -8.70805830e-02,\n",
       "          3.59363556e-02, -2.83260286e-01, -2.32422799e-01,\n",
       "         -1.59993723e-01,  2.95875371e-02, -2.97041237e-02,\n",
       "          2.34233141e-01,  2.61904478e-01,  6.17404878e-02,\n",
       "          1.18885338e-01,  9.17655528e-02,  1.83716089e-01,\n",
       "         -1.68776542e-01, -5.13257384e-02, -1.08005196e-01,\n",
       "         -1.04751676e-01,  9.45776105e-02, -2.15179592e-01,\n",
       "          2.23585188e-01,  2.29713082e-01,  1.35930330e-01,\n",
       "         -1.87173948e-01,  1.57956332e-01,  4.39952016e-02,\n",
       "         -7.15550780e-03,  1.49590671e-01,  8.20729136e-03,\n",
       "         -2.20687836e-01, -1.32634476e-01, -1.05795339e-01,\n",
       "         -1.97225839e-01,  5.98162413e-03, -2.32800990e-01,\n",
       "          1.98307216e-01, -4.03597653e-02,  6.42751157e-02,\n",
       "          2.80765712e-01, -2.76166856e-01,  2.35896707e-01,\n",
       "         -1.41136900e-01],\n",
       "        [ 1.46231651e-01, -1.42270043e-01, -2.62686878e-01,\n",
       "          2.80911326e-01, -1.11523002e-01,  7.65533149e-02,\n",
       "          2.40390658e-01, -1.20856434e-01,  1.90596282e-01,\n",
       "          1.70951426e-01,  3.42808068e-02,  1.63385093e-01,\n",
       "         -1.94337443e-01, -2.15416908e-01, -2.35851407e-02,\n",
       "          6.85599148e-02,  2.44609475e-01, -5.36001474e-02,\n",
       "          2.52170861e-01,  2.64760494e-01, -1.20758489e-01,\n",
       "         -2.18820333e-01,  2.19214499e-01, -1.96345836e-01,\n",
       "          2.60476291e-01, -3.41698527e-03,  1.72177970e-01,\n",
       "         -2.59041607e-01, -1.96569651e-01, -1.49391219e-01,\n",
       "         -2.60952204e-01,  1.49952769e-02,  1.27802730e-01,\n",
       "          1.62041008e-01, -1.43369943e-01, -1.55528113e-01,\n",
       "         -2.50432849e-01, -8.75037313e-02,  1.44771039e-02,\n",
       "          9.09970403e-02,  1.93773836e-01,  2.67932475e-01,\n",
       "          8.75478387e-02,  5.54510653e-02, -1.42813623e-02,\n",
       "          5.29060960e-02,  2.44207144e-01,  1.44264132e-01,\n",
       "          2.83081949e-01,  8.48613679e-02,  1.13491833e-01,\n",
       "         -1.67325020e-01,  7.61601329e-03,  5.16906381e-02,\n",
       "         -1.22687474e-01,  9.08833444e-02, -2.36277431e-01,\n",
       "         -8.35231990e-02,  4.45336103e-03,  9.79299545e-02,\n",
       "         -2.47187376e-01, -2.38659561e-01,  4.98934090e-02,\n",
       "          2.84805059e-01],\n",
       "        [-1.02940470e-01, -2.99807489e-02, -1.48040354e-02,\n",
       "         -2.24628374e-01, -2.44337380e-01,  2.71971285e-01,\n",
       "          8.12863708e-02,  2.42281079e-01,  8.03907514e-02,\n",
       "          1.86646253e-01,  1.83510780e-01,  7.37747550e-02,\n",
       "         -1.64388716e-01,  2.08345354e-01, -2.60737062e-01,\n",
       "         -1.55488610e-01,  2.44077504e-01, -4.11863625e-02,\n",
       "         -2.45184600e-02, -5.02599031e-02, -2.87192225e-01,\n",
       "         -2.15319663e-01, -1.61640778e-01,  1.85425699e-01,\n",
       "          2.79225945e-01, -2.60889918e-01,  2.71991670e-01,\n",
       "         -6.11430705e-02,  1.42024070e-01, -1.77837342e-01,\n",
       "         -2.42264777e-01, -1.63271263e-01,  1.09346956e-01,\n",
       "          1.82857543e-01, -8.26085061e-02, -6.19251430e-02,\n",
       "         -2.68002450e-02, -1.73098773e-01, -2.41079807e-01,\n",
       "          4.89065945e-02,  1.48192763e-01,  1.78400338e-01,\n",
       "          2.72914827e-01, -1.75202787e-02,  1.56484514e-01,\n",
       "         -1.94624931e-01,  5.16461134e-02, -2.23134041e-01,\n",
       "          6.56800568e-02, -2.45158955e-01,  1.53358668e-01,\n",
       "          1.49055690e-01,  2.46552289e-01, -9.24411267e-02,\n",
       "          8.46869648e-02,  8.81289244e-02, -5.87129146e-02,\n",
       "          7.05447793e-02, -5.96779585e-03,  5.82857728e-02,\n",
       "          4.65553701e-02,  1.94505930e-01, -2.36922339e-01,\n",
       "          2.43246377e-01],\n",
       "        [-1.79553792e-01,  2.77233243e-01, -9.76880491e-02,\n",
       "         -1.27684817e-01,  9.11276639e-02, -1.19083762e-01,\n",
       "          9.41827595e-02, -7.92637318e-02, -2.66884089e-01,\n",
       "          5.17484546e-03, -7.67214596e-02, -2.14744270e-01,\n",
       "         -1.30276024e-01, -7.12834746e-02,  1.19769126e-01,\n",
       "          2.09742576e-01,  1.08792573e-01, -1.14066452e-01,\n",
       "          5.63307106e-02,  1.47056520e-01, -2.74971694e-01,\n",
       "         -7.26683140e-02, -5.65692782e-02,  2.53542364e-01,\n",
       "         -1.27191201e-01, -2.53354907e-02, -2.55157918e-01,\n",
       "         -1.51350543e-01, -2.61158973e-01, -1.64263040e-01,\n",
       "         -1.75536379e-01,  2.42425084e-01,  2.58871913e-02,\n",
       "         -9.81768966e-03,  1.23254657e-01, -2.78602570e-01,\n",
       "          1.60707921e-01,  1.89855665e-01, -1.47398174e-01,\n",
       "         -8.50767344e-02,  5.43506145e-02, -2.84801573e-01,\n",
       "          1.29853994e-01, -2.68646777e-02, -1.57776296e-01,\n",
       "          2.13619530e-01,  2.64219165e-01, -1.64482653e-01,\n",
       "          1.23556852e-02, -9.77432430e-02, -9.43758786e-02,\n",
       "          2.30684578e-02,  1.13115907e-01, -1.01777449e-01,\n",
       "          6.90095425e-02, -4.26876545e-02, -3.60897481e-02,\n",
       "          1.61725581e-01,  2.38024116e-01,  1.48869455e-02,\n",
       "          2.62317300e-01, -1.85319573e-01, -1.90295666e-01,\n",
       "          1.71685517e-01],\n",
       "        [ 2.64242291e-03,  9.14366841e-02,  1.76457942e-01,\n",
       "         -9.55331922e-02, -1.23344064e-01,  1.98979646e-01,\n",
       "          4.87195849e-02, -2.51594961e-01, -2.83411741e-02,\n",
       "          2.31069326e-01,  1.61168098e-01, -1.77395076e-01,\n",
       "         -2.43284836e-01, -1.28698900e-01, -2.32355207e-01,\n",
       "         -6.34029657e-02, -1.12309203e-01,  2.68592536e-01,\n",
       "         -6.84516579e-02, -1.60148576e-01, -1.38091579e-01,\n",
       "          1.95323795e-01, -2.27726907e-01,  2.25281298e-01,\n",
       "          1.06563985e-01, -5.16446084e-02,  2.49416411e-01,\n",
       "          5.45058846e-02,  5.35796881e-02,  1.29242331e-01,\n",
       "          7.76168108e-02, -8.79706442e-02, -2.62462437e-01,\n",
       "          1.91458821e-01, -2.23732740e-01, -3.99639457e-02,\n",
       "         -1.66973516e-01, -1.02451533e-01, -6.76038563e-02,\n",
       "         -2.76817948e-01, -2.15120062e-01,  5.33028841e-02,\n",
       "          6.15567863e-02,  1.62595809e-01, -2.68834323e-01,\n",
       "         -1.27955034e-01,  6.28328323e-03,  2.01173395e-01,\n",
       "          2.79802680e-02, -1.74993128e-01,  2.71621585e-01,\n",
       "         -1.54447690e-01, -1.13323003e-01, -2.30816200e-01,\n",
       "         -1.86491877e-01, -1.74557894e-01,  6.06703758e-02,\n",
       "         -1.85581386e-01,  7.77540505e-02,  1.23274893e-01,\n",
       "         -1.81550696e-01, -4.94925678e-02,  1.31787986e-01,\n",
       "          9.84864235e-02],\n",
       "        [-1.30947217e-01,  2.85061240e-01, -1.45051837e-01,\n",
       "          2.04981983e-01,  2.15347171e-01, -1.18900612e-01,\n",
       "          1.22769564e-01, -2.82141119e-01,  9.73996520e-02,\n",
       "         -1.66356564e-04, -1.81217581e-01,  4.78752255e-02,\n",
       "         -2.38582745e-01, -2.07223773e-01, -9.44759548e-02,\n",
       "          2.44237959e-01, -4.72288877e-02, -1.97489515e-01,\n",
       "         -1.08569980e-01,  3.28944623e-02, -2.73498774e-01,\n",
       "         -1.66344106e-01,  4.47934270e-02, -2.11068571e-01,\n",
       "         -2.25923598e-01, -1.50212094e-01,  1.05681509e-01,\n",
       "          1.27926946e-01, -2.17969656e-01, -2.65246302e-01,\n",
       "          8.11928511e-03,  1.27173930e-01, -1.20809704e-01,\n",
       "          2.62252092e-02,  3.52256596e-02,  8.16988349e-02,\n",
       "         -2.49570668e-01,  1.55324668e-01, -9.46666002e-02,\n",
       "         -1.42974555e-02,  5.16192019e-02, -2.23657995e-01,\n",
       "         -4.08659130e-02, -2.17147529e-01, -2.79294491e-01,\n",
       "         -2.56126165e-01,  5.39315343e-02,  1.65084958e-01,\n",
       "          6.61225915e-02,  1.44795954e-01, -2.25407213e-01,\n",
       "         -1.99788421e-01, -2.73951143e-01,  2.42770433e-01,\n",
       "          4.81295586e-02,  8.57507288e-02,  1.68776602e-01,\n",
       "         -1.59973696e-01,  2.16121674e-01,  1.03068471e-01,\n",
       "         -1.77619517e-01, -1.23123676e-01,  2.54384577e-01,\n",
       "         -5.03006428e-02]], dtype=float32)>,\n",
       " <tf.Variable 'dense_6/bias:0' shape=(64,) dtype=float32, numpy=\n",
       " array([0., 0., 0., 0., 0., 0., 0., 0., 0., 0., 0., 0., 0., 0., 0., 0., 0.,\n",
       "        0., 0., 0., 0., 0., 0., 0., 0., 0., 0., 0., 0., 0., 0., 0., 0., 0.,\n",
       "        0., 0., 0., 0., 0., 0., 0., 0., 0., 0., 0., 0., 0., 0., 0., 0., 0.,\n",
       "        0., 0., 0., 0., 0., 0., 0., 0., 0., 0., 0., 0., 0.], dtype=float32)>,\n",
       " <tf.Variable 'dense_7/kernel:0' shape=(64, 64) dtype=float32, numpy=\n",
       " array([[ 0.0753601 , -0.09481955,  0.21481715, ...,  0.00886068,\n",
       "         -0.02763213, -0.01855043],\n",
       "        [-0.08469823,  0.13560311, -0.04859714, ...,  0.19112362,\n",
       "          0.1818762 , -0.08000109],\n",
       "        [ 0.01650552,  0.13735841,  0.08438985, ...,  0.15130426,\n",
       "         -0.14481382, -0.0271304 ],\n",
       "        ...,\n",
       "        [-0.18005617, -0.10328401,  0.10483505, ..., -0.09301164,\n",
       "         -0.15308481,  0.11409079],\n",
       "        [-0.19774893,  0.1602325 , -0.2158945 , ..., -0.10071275,\n",
       "         -0.1997357 , -0.00188404],\n",
       "        [ 0.04077153, -0.01834559, -0.02150588, ...,  0.16940837,\n",
       "          0.14347641,  0.20892324]], dtype=float32)>,\n",
       " <tf.Variable 'dense_7/bias:0' shape=(64,) dtype=float32, numpy=\n",
       " array([0., 0., 0., 0., 0., 0., 0., 0., 0., 0., 0., 0., 0., 0., 0., 0., 0.,\n",
       "        0., 0., 0., 0., 0., 0., 0., 0., 0., 0., 0., 0., 0., 0., 0., 0., 0.,\n",
       "        0., 0., 0., 0., 0., 0., 0., 0., 0., 0., 0., 0., 0., 0., 0., 0., 0.,\n",
       "        0., 0., 0., 0., 0., 0., 0., 0., 0., 0., 0., 0., 0.], dtype=float32)>,\n",
       " <tf.Variable 'dense_8/kernel:0' shape=(64, 4) dtype=float32, numpy=\n",
       " array([[-0.21133736,  0.20680201,  0.17562848, -0.103145  ],\n",
       "        [ 0.10641417, -0.14743213,  0.07589257,  0.16283101],\n",
       "        [ 0.15694231,  0.13977754, -0.17621657,  0.10906196],\n",
       "        [-0.28854704,  0.10998487,  0.04888389, -0.2105603 ],\n",
       "        [-0.01268303, -0.02816093, -0.14434782, -0.12762807],\n",
       "        [ 0.05887926,  0.29264325, -0.05084443,  0.27250922],\n",
       "        [ 0.05645889,  0.04671457,  0.17703328, -0.1582753 ],\n",
       "        [-0.08487578,  0.09751064,  0.26177114, -0.24355794],\n",
       "        [ 0.29133362,  0.27740192, -0.07319061,  0.12119809],\n",
       "        [ 0.11245108,  0.05022907, -0.01370952, -0.14544164],\n",
       "        [-0.09545684, -0.2865326 ,  0.23253   ,  0.2158854 ],\n",
       "        [-0.2908107 , -0.25568914, -0.2901408 , -0.03076196],\n",
       "        [ 0.24474663,  0.06449601,  0.09976238, -0.22104633],\n",
       "        [ 0.23035043, -0.02100894,  0.05075526, -0.05215469],\n",
       "        [ 0.14372373,  0.20977432, -0.07033703,  0.15429431],\n",
       "        [ 0.10313028, -0.1145726 , -0.10795963, -0.17262588],\n",
       "        [-0.18214563,  0.07539746, -0.19886267,  0.18106979],\n",
       "        [-0.00539237,  0.28419274,  0.18214542,  0.14572373],\n",
       "        [ 0.04992568,  0.12261438, -0.01931733, -0.08826122],\n",
       "        [-0.22562581,  0.01624426, -0.21013318,  0.01309067],\n",
       "        [-0.11439483,  0.07867414, -0.21819714, -0.09597214],\n",
       "        [ 0.14718235,  0.28251618,  0.25672883, -0.17717676],\n",
       "        [-0.11003807,  0.07692513, -0.17521685, -0.22573376],\n",
       "        [ 0.01549467, -0.06658982,  0.01663187, -0.24352218],\n",
       "        [ 0.23457271, -0.03021976,  0.01618704,  0.0656887 ],\n",
       "        [ 0.10396418, -0.27519554,  0.26442873,  0.22576475],\n",
       "        [-0.20176414, -0.18969095,  0.14584872,  0.05454263],\n",
       "        [ 0.02527922,  0.21715564,  0.16460869,  0.19080764],\n",
       "        [ 0.07783258, -0.06151685, -0.24708426, -0.09911275],\n",
       "        [ 0.00601467,  0.0917837 , -0.23823604, -0.08319512],\n",
       "        [-0.23964176,  0.26483577,  0.27986348, -0.11139663],\n",
       "        [-0.26208737, -0.10933907, -0.17616303,  0.26271516],\n",
       "        [ 0.11144096, -0.22888279, -0.14224862, -0.25285447],\n",
       "        [-0.20562401,  0.16167521,  0.1847184 ,  0.0459078 ],\n",
       "        [-0.03182173, -0.1813617 ,  0.19462958, -0.00193101],\n",
       "        [ 0.14647493,  0.152976  ,  0.07962647, -0.21809791],\n",
       "        [-0.05775762,  0.06373179,  0.07709602, -0.13622452],\n",
       "        [-0.23592749, -0.06394374, -0.25881568, -0.16819625],\n",
       "        [-0.1606136 ,  0.23907208, -0.18359618, -0.25702155],\n",
       "        [-0.01886171, -0.03576121,  0.04799971, -0.18044019],\n",
       "        [ 0.12727126,  0.26845044,  0.09244093, -0.14643292],\n",
       "        [-0.04003093, -0.21566911, -0.05383924,  0.23265332],\n",
       "        [-0.03155452,  0.17375278,  0.09860164,  0.09856707],\n",
       "        [ 0.17168891, -0.02435446, -0.01286215, -0.12592717],\n",
       "        [-0.25309128,  0.289469  ,  0.24240583, -0.19256684],\n",
       "        [ 0.13686883,  0.22969913,  0.19006863,  0.22553194],\n",
       "        [-0.05585848, -0.25492138, -0.22536966, -0.1445054 ],\n",
       "        [ 0.09491789,  0.21462429,  0.2757743 , -0.20044623],\n",
       "        [-0.2922349 ,  0.25462562, -0.29685923,  0.27516717],\n",
       "        [ 0.11095443,  0.19526526,  0.12142885,  0.2817961 ],\n",
       "        [-0.09500444, -0.09686284, -0.02092105, -0.18653122],\n",
       "        [ 0.07578769, -0.29421675, -0.03294262, -0.11284406],\n",
       "        [ 0.14904004, -0.20598054,  0.16383773, -0.23070693],\n",
       "        [ 0.00469032, -0.20560893,  0.16828611,  0.29615957],\n",
       "        [-0.2248227 ,  0.16528141, -0.20375994, -0.11184528],\n",
       "        [-0.2910927 ,  0.18300545,  0.09161708, -0.20556255],\n",
       "        [ 0.0120202 , -0.06805858,  0.01925781,  0.08700693],\n",
       "        [-0.12550713, -0.2166383 , -0.11140946, -0.09883046],\n",
       "        [ 0.22226584, -0.16833718,  0.28313553, -0.04110011],\n",
       "        [ 0.0804776 , -0.14835167, -0.16772005, -0.10502253],\n",
       "        [ 0.19710773,  0.20224664, -0.17061938,  0.16516879],\n",
       "        [-0.15767184, -0.15295531, -0.14139919, -0.04824679],\n",
       "        [-0.1579457 ,  0.24132651,  0.22132713,  0.07889771],\n",
       "        [-0.22353122,  0.23762238,  0.14272785, -0.13774236]],\n",
       "       dtype=float32)>,\n",
       " <tf.Variable 'dense_8/bias:0' shape=(4,) dtype=float32, numpy=array([0., 0., 0., 0.], dtype=float32)>]"
      ]
     },
     "execution_count": 199,
     "metadata": {},
     "output_type": "execute_result"
    }
   ],
   "source": [
    "q_network.trainable_variables"
   ]
  },
  {
   "cell_type": "code",
   "execution_count": 196,
   "metadata": {},
   "outputs": [],
   "source": [
    "gradients = tape.gradient(loss1, q_network.trainable_variables)"
   ]
  },
  {
   "cell_type": "code",
   "execution_count": 197,
   "metadata": {},
   "outputs": [
    {
     "data": {
      "text/plain": [
       "[None, None, None, None, None, None]"
      ]
     },
     "execution_count": 197,
     "metadata": {},
     "output_type": "execute_result"
    }
   ],
   "source": [
    "gradients"
   ]
  },
  {
   "cell_type": "code",
   "execution_count": 160,
   "metadata": {},
   "outputs": [
    {
     "ename": "ValueError",
     "evalue": "No gradients provided for any variable: (['dense_6/kernel:0', 'dense_6/bias:0', 'dense_7/kernel:0', 'dense_7/bias:0', 'dense_8/kernel:0', 'dense_8/bias:0'],). Provided `grads_and_vars` is ((None, <tf.Variable 'dense_6/kernel:0' shape=(8, 64) dtype=float32, numpy=\narray([[ 2.01065958e-01, -2.32965484e-01, -1.96550190e-01,\n         6.83264732e-02, -1.98387504e-02, -4.18614000e-02,\n         6.21299744e-02,  2.24134624e-01,  1.70893967e-01,\n        -2.39665791e-01,  1.97403193e-01,  1.67583168e-01,\n        -4.15414274e-02,  2.17716396e-01, -2.31464684e-01,\n        -7.54009634e-02, -3.90074849e-02,  8.59829485e-02,\n         4.84171808e-02, -2.03254133e-01,  2.73118913e-02,\n         2.64700055e-01,  2.58923650e-01,  1.33323282e-01,\n        -1.27654195e-01,  2.28313863e-01,  1.95598871e-01,\n        -2.21999526e-01,  2.95367539e-02,  5.46360910e-02,\n         1.74322784e-01,  7.21308589e-02,  2.02986181e-01,\n         2.66160846e-01, -5.13366759e-02,  1.26693040e-01,\n         1.80057943e-01, -1.51055828e-01, -4.13585603e-02,\n        -5.77180386e-02,  6.39286339e-02, -9.24690813e-02,\n         2.56726027e-01,  3.07768285e-02, -9.67992246e-02,\n         2.61791050e-01,  1.30426079e-01, -1.71837151e-01,\n        -2.50120670e-01,  2.36291409e-01,  8.65597129e-02,\n         2.76845276e-01,  1.21073157e-01, -1.71680495e-01,\n        -1.35569945e-01,  4.72487211e-02,  1.50981098e-01,\n        -1.70602888e-01,  2.23435104e-01, -1.79228663e-01,\n        -4.99224663e-03, -1.49419576e-01, -2.76393890e-01,\n         1.56598151e-01],\n       [ 2.47899532e-01,  9.52976048e-02,  1.05576754e-01,\n         2.24903822e-01,  1.76565319e-01, -1.83634385e-01,\n        -2.42228374e-01,  6.72300160e-02, -1.94113076e-01,\n         3.18539739e-02, -2.35773146e-01,  2.17413783e-01,\n         1.40536249e-01,  2.25458384e-01, -9.95071083e-02,\n         2.19163716e-01,  4.44447994e-03,  3.13830376e-03,\n         1.41687036e-01, -3.12126577e-02, -3.06477249e-02,\n        -1.37879938e-01,  1.81934267e-01, -1.03729472e-01,\n        -2.56533325e-02,  9.33164656e-02,  2.11830497e-01,\n         1.88706338e-01, -1.95420384e-02, -1.19295120e-02,\n         8.07076991e-02,  2.19188273e-01,  2.84755111e-01,\n         2.30774283e-01, -1.20937645e-01,  1.03203177e-01,\n        -2.32421964e-01,  2.28400409e-01, -6.07141554e-02,\n        -1.87611535e-01,  8.46361220e-02, -1.84008315e-01,\n         4.46104407e-02, -1.61705270e-01, -2.53856838e-01,\n        -2.42746696e-01,  1.83628052e-01,  1.13667339e-01,\n        -1.01742551e-01,  1.42731994e-01,  1.72676474e-01,\n        -2.61539489e-01, -3.75083089e-02, -1.84689343e-01,\n         2.24301636e-01, -3.18226516e-02,  2.75202751e-01,\n        -2.22961009e-02,  2.28864014e-01, -1.51687369e-01,\n        -2.61157185e-01,  2.69516706e-02,  1.38998777e-01,\n        -1.11929551e-01],\n       [-2.58156806e-01,  1.18916571e-01, -2.71891832e-01,\n        -2.28672087e-01, -2.50734031e-01,  2.43792653e-01,\n         1.59999073e-01,  2.33237147e-02, -3.76586914e-02,\n        -1.20969653e-01, -4.85445559e-02, -1.24352977e-01,\n         2.05217868e-01, -2.08039850e-01, -1.12221584e-01,\n         2.28318751e-01, -5.58064133e-02, -2.15474173e-01,\n         1.31770909e-01,  1.66214794e-01,  1.45362109e-01,\n         1.82674617e-01,  6.88928962e-02, -8.70805830e-02,\n         3.59363556e-02, -2.83260286e-01, -2.32422799e-01,\n        -1.59993723e-01,  2.95875371e-02, -2.97041237e-02,\n         2.34233141e-01,  2.61904478e-01,  6.17404878e-02,\n         1.18885338e-01,  9.17655528e-02,  1.83716089e-01,\n        -1.68776542e-01, -5.13257384e-02, -1.08005196e-01,\n        -1.04751676e-01,  9.45776105e-02, -2.15179592e-01,\n         2.23585188e-01,  2.29713082e-01,  1.35930330e-01,\n        -1.87173948e-01,  1.57956332e-01,  4.39952016e-02,\n        -7.15550780e-03,  1.49590671e-01,  8.20729136e-03,\n        -2.20687836e-01, -1.32634476e-01, -1.05795339e-01,\n        -1.97225839e-01,  5.98162413e-03, -2.32800990e-01,\n         1.98307216e-01, -4.03597653e-02,  6.42751157e-02,\n         2.80765712e-01, -2.76166856e-01,  2.35896707e-01,\n        -1.41136900e-01],\n       [ 1.46231651e-01, -1.42270043e-01, -2.62686878e-01,\n         2.80911326e-01, -1.11523002e-01,  7.65533149e-02,\n         2.40390658e-01, -1.20856434e-01,  1.90596282e-01,\n         1.70951426e-01,  3.42808068e-02,  1.63385093e-01,\n        -1.94337443e-01, -2.15416908e-01, -2.35851407e-02,\n         6.85599148e-02,  2.44609475e-01, -5.36001474e-02,\n         2.52170861e-01,  2.64760494e-01, -1.20758489e-01,\n        -2.18820333e-01,  2.19214499e-01, -1.96345836e-01,\n         2.60476291e-01, -3.41698527e-03,  1.72177970e-01,\n        -2.59041607e-01, -1.96569651e-01, -1.49391219e-01,\n        -2.60952204e-01,  1.49952769e-02,  1.27802730e-01,\n         1.62041008e-01, -1.43369943e-01, -1.55528113e-01,\n        -2.50432849e-01, -8.75037313e-02,  1.44771039e-02,\n         9.09970403e-02,  1.93773836e-01,  2.67932475e-01,\n         8.75478387e-02,  5.54510653e-02, -1.42813623e-02,\n         5.29060960e-02,  2.44207144e-01,  1.44264132e-01,\n         2.83081949e-01,  8.48613679e-02,  1.13491833e-01,\n        -1.67325020e-01,  7.61601329e-03,  5.16906381e-02,\n        -1.22687474e-01,  9.08833444e-02, -2.36277431e-01,\n        -8.35231990e-02,  4.45336103e-03,  9.79299545e-02,\n        -2.47187376e-01, -2.38659561e-01,  4.98934090e-02,\n         2.84805059e-01],\n       [-1.02940470e-01, -2.99807489e-02, -1.48040354e-02,\n        -2.24628374e-01, -2.44337380e-01,  2.71971285e-01,\n         8.12863708e-02,  2.42281079e-01,  8.03907514e-02,\n         1.86646253e-01,  1.83510780e-01,  7.37747550e-02,\n        -1.64388716e-01,  2.08345354e-01, -2.60737062e-01,\n        -1.55488610e-01,  2.44077504e-01, -4.11863625e-02,\n        -2.45184600e-02, -5.02599031e-02, -2.87192225e-01,\n        -2.15319663e-01, -1.61640778e-01,  1.85425699e-01,\n         2.79225945e-01, -2.60889918e-01,  2.71991670e-01,\n        -6.11430705e-02,  1.42024070e-01, -1.77837342e-01,\n        -2.42264777e-01, -1.63271263e-01,  1.09346956e-01,\n         1.82857543e-01, -8.26085061e-02, -6.19251430e-02,\n        -2.68002450e-02, -1.73098773e-01, -2.41079807e-01,\n         4.89065945e-02,  1.48192763e-01,  1.78400338e-01,\n         2.72914827e-01, -1.75202787e-02,  1.56484514e-01,\n        -1.94624931e-01,  5.16461134e-02, -2.23134041e-01,\n         6.56800568e-02, -2.45158955e-01,  1.53358668e-01,\n         1.49055690e-01,  2.46552289e-01, -9.24411267e-02,\n         8.46869648e-02,  8.81289244e-02, -5.87129146e-02,\n         7.05447793e-02, -5.96779585e-03,  5.82857728e-02,\n         4.65553701e-02,  1.94505930e-01, -2.36922339e-01,\n         2.43246377e-01],\n       [-1.79553792e-01,  2.77233243e-01, -9.76880491e-02,\n        -1.27684817e-01,  9.11276639e-02, -1.19083762e-01,\n         9.41827595e-02, -7.92637318e-02, -2.66884089e-01,\n         5.17484546e-03, -7.67214596e-02, -2.14744270e-01,\n        -1.30276024e-01, -7.12834746e-02,  1.19769126e-01,\n         2.09742576e-01,  1.08792573e-01, -1.14066452e-01,\n         5.63307106e-02,  1.47056520e-01, -2.74971694e-01,\n        -7.26683140e-02, -5.65692782e-02,  2.53542364e-01,\n        -1.27191201e-01, -2.53354907e-02, -2.55157918e-01,\n        -1.51350543e-01, -2.61158973e-01, -1.64263040e-01,\n        -1.75536379e-01,  2.42425084e-01,  2.58871913e-02,\n        -9.81768966e-03,  1.23254657e-01, -2.78602570e-01,\n         1.60707921e-01,  1.89855665e-01, -1.47398174e-01,\n        -8.50767344e-02,  5.43506145e-02, -2.84801573e-01,\n         1.29853994e-01, -2.68646777e-02, -1.57776296e-01,\n         2.13619530e-01,  2.64219165e-01, -1.64482653e-01,\n         1.23556852e-02, -9.77432430e-02, -9.43758786e-02,\n         2.30684578e-02,  1.13115907e-01, -1.01777449e-01,\n         6.90095425e-02, -4.26876545e-02, -3.60897481e-02,\n         1.61725581e-01,  2.38024116e-01,  1.48869455e-02,\n         2.62317300e-01, -1.85319573e-01, -1.90295666e-01,\n         1.71685517e-01],\n       [ 2.64242291e-03,  9.14366841e-02,  1.76457942e-01,\n        -9.55331922e-02, -1.23344064e-01,  1.98979646e-01,\n         4.87195849e-02, -2.51594961e-01, -2.83411741e-02,\n         2.31069326e-01,  1.61168098e-01, -1.77395076e-01,\n        -2.43284836e-01, -1.28698900e-01, -2.32355207e-01,\n        -6.34029657e-02, -1.12309203e-01,  2.68592536e-01,\n        -6.84516579e-02, -1.60148576e-01, -1.38091579e-01,\n         1.95323795e-01, -2.27726907e-01,  2.25281298e-01,\n         1.06563985e-01, -5.16446084e-02,  2.49416411e-01,\n         5.45058846e-02,  5.35796881e-02,  1.29242331e-01,\n         7.76168108e-02, -8.79706442e-02, -2.62462437e-01,\n         1.91458821e-01, -2.23732740e-01, -3.99639457e-02,\n        -1.66973516e-01, -1.02451533e-01, -6.76038563e-02,\n        -2.76817948e-01, -2.15120062e-01,  5.33028841e-02,\n         6.15567863e-02,  1.62595809e-01, -2.68834323e-01,\n        -1.27955034e-01,  6.28328323e-03,  2.01173395e-01,\n         2.79802680e-02, -1.74993128e-01,  2.71621585e-01,\n        -1.54447690e-01, -1.13323003e-01, -2.30816200e-01,\n        -1.86491877e-01, -1.74557894e-01,  6.06703758e-02,\n        -1.85581386e-01,  7.77540505e-02,  1.23274893e-01,\n        -1.81550696e-01, -4.94925678e-02,  1.31787986e-01,\n         9.84864235e-02],\n       [-1.30947217e-01,  2.85061240e-01, -1.45051837e-01,\n         2.04981983e-01,  2.15347171e-01, -1.18900612e-01,\n         1.22769564e-01, -2.82141119e-01,  9.73996520e-02,\n        -1.66356564e-04, -1.81217581e-01,  4.78752255e-02,\n        -2.38582745e-01, -2.07223773e-01, -9.44759548e-02,\n         2.44237959e-01, -4.72288877e-02, -1.97489515e-01,\n        -1.08569980e-01,  3.28944623e-02, -2.73498774e-01,\n        -1.66344106e-01,  4.47934270e-02, -2.11068571e-01,\n        -2.25923598e-01, -1.50212094e-01,  1.05681509e-01,\n         1.27926946e-01, -2.17969656e-01, -2.65246302e-01,\n         8.11928511e-03,  1.27173930e-01, -1.20809704e-01,\n         2.62252092e-02,  3.52256596e-02,  8.16988349e-02,\n        -2.49570668e-01,  1.55324668e-01, -9.46666002e-02,\n        -1.42974555e-02,  5.16192019e-02, -2.23657995e-01,\n        -4.08659130e-02, -2.17147529e-01, -2.79294491e-01,\n        -2.56126165e-01,  5.39315343e-02,  1.65084958e-01,\n         6.61225915e-02,  1.44795954e-01, -2.25407213e-01,\n        -1.99788421e-01, -2.73951143e-01,  2.42770433e-01,\n         4.81295586e-02,  8.57507288e-02,  1.68776602e-01,\n        -1.59973696e-01,  2.16121674e-01,  1.03068471e-01,\n        -1.77619517e-01, -1.23123676e-01,  2.54384577e-01,\n        -5.03006428e-02]], dtype=float32)>), (None, <tf.Variable 'dense_6/bias:0' shape=(64,) dtype=float32, numpy=\narray([0., 0., 0., 0., 0., 0., 0., 0., 0., 0., 0., 0., 0., 0., 0., 0., 0.,\n       0., 0., 0., 0., 0., 0., 0., 0., 0., 0., 0., 0., 0., 0., 0., 0., 0.,\n       0., 0., 0., 0., 0., 0., 0., 0., 0., 0., 0., 0., 0., 0., 0., 0., 0.,\n       0., 0., 0., 0., 0., 0., 0., 0., 0., 0., 0., 0., 0.], dtype=float32)>), (None, <tf.Variable 'dense_7/kernel:0' shape=(64, 64) dtype=float32, numpy=\narray([[ 0.0753601 , -0.09481955,  0.21481715, ...,  0.00886068,\n        -0.02763213, -0.01855043],\n       [-0.08469823,  0.13560311, -0.04859714, ...,  0.19112362,\n         0.1818762 , -0.08000109],\n       [ 0.01650552,  0.13735841,  0.08438985, ...,  0.15130426,\n        -0.14481382, -0.0271304 ],\n       ...,\n       [-0.18005617, -0.10328401,  0.10483505, ..., -0.09301164,\n        -0.15308481,  0.11409079],\n       [-0.19774893,  0.1602325 , -0.2158945 , ..., -0.10071275,\n        -0.1997357 , -0.00188404],\n       [ 0.04077153, -0.01834559, -0.02150588, ...,  0.16940837,\n         0.14347641,  0.20892324]], dtype=float32)>), (None, <tf.Variable 'dense_7/bias:0' shape=(64,) dtype=float32, numpy=\narray([0., 0., 0., 0., 0., 0., 0., 0., 0., 0., 0., 0., 0., 0., 0., 0., 0.,\n       0., 0., 0., 0., 0., 0., 0., 0., 0., 0., 0., 0., 0., 0., 0., 0., 0.,\n       0., 0., 0., 0., 0., 0., 0., 0., 0., 0., 0., 0., 0., 0., 0., 0., 0.,\n       0., 0., 0., 0., 0., 0., 0., 0., 0., 0., 0., 0., 0.], dtype=float32)>), (None, <tf.Variable 'dense_8/kernel:0' shape=(64, 4) dtype=float32, numpy=\narray([[-0.21133736,  0.20680201,  0.17562848, -0.103145  ],\n       [ 0.10641417, -0.14743213,  0.07589257,  0.16283101],\n       [ 0.15694231,  0.13977754, -0.17621657,  0.10906196],\n       [-0.28854704,  0.10998487,  0.04888389, -0.2105603 ],\n       [-0.01268303, -0.02816093, -0.14434782, -0.12762807],\n       [ 0.05887926,  0.29264325, -0.05084443,  0.27250922],\n       [ 0.05645889,  0.04671457,  0.17703328, -0.1582753 ],\n       [-0.08487578,  0.09751064,  0.26177114, -0.24355794],\n       [ 0.29133362,  0.27740192, -0.07319061,  0.12119809],\n       [ 0.11245108,  0.05022907, -0.01370952, -0.14544164],\n       [-0.09545684, -0.2865326 ,  0.23253   ,  0.2158854 ],\n       [-0.2908107 , -0.25568914, -0.2901408 , -0.03076196],\n       [ 0.24474663,  0.06449601,  0.09976238, -0.22104633],\n       [ 0.23035043, -0.02100894,  0.05075526, -0.05215469],\n       [ 0.14372373,  0.20977432, -0.07033703,  0.15429431],\n       [ 0.10313028, -0.1145726 , -0.10795963, -0.17262588],\n       [-0.18214563,  0.07539746, -0.19886267,  0.18106979],\n       [-0.00539237,  0.28419274,  0.18214542,  0.14572373],\n       [ 0.04992568,  0.12261438, -0.01931733, -0.08826122],\n       [-0.22562581,  0.01624426, -0.21013318,  0.01309067],\n       [-0.11439483,  0.07867414, -0.21819714, -0.09597214],\n       [ 0.14718235,  0.28251618,  0.25672883, -0.17717676],\n       [-0.11003807,  0.07692513, -0.17521685, -0.22573376],\n       [ 0.01549467, -0.06658982,  0.01663187, -0.24352218],\n       [ 0.23457271, -0.03021976,  0.01618704,  0.0656887 ],\n       [ 0.10396418, -0.27519554,  0.26442873,  0.22576475],\n       [-0.20176414, -0.18969095,  0.14584872,  0.05454263],\n       [ 0.02527922,  0.21715564,  0.16460869,  0.19080764],\n       [ 0.07783258, -0.06151685, -0.24708426, -0.09911275],\n       [ 0.00601467,  0.0917837 , -0.23823604, -0.08319512],\n       [-0.23964176,  0.26483577,  0.27986348, -0.11139663],\n       [-0.26208737, -0.10933907, -0.17616303,  0.26271516],\n       [ 0.11144096, -0.22888279, -0.14224862, -0.25285447],\n       [-0.20562401,  0.16167521,  0.1847184 ,  0.0459078 ],\n       [-0.03182173, -0.1813617 ,  0.19462958, -0.00193101],\n       [ 0.14647493,  0.152976  ,  0.07962647, -0.21809791],\n       [-0.05775762,  0.06373179,  0.07709602, -0.13622452],\n       [-0.23592749, -0.06394374, -0.25881568, -0.16819625],\n       [-0.1606136 ,  0.23907208, -0.18359618, -0.25702155],\n       [-0.01886171, -0.03576121,  0.04799971, -0.18044019],\n       [ 0.12727126,  0.26845044,  0.09244093, -0.14643292],\n       [-0.04003093, -0.21566911, -0.05383924,  0.23265332],\n       [-0.03155452,  0.17375278,  0.09860164,  0.09856707],\n       [ 0.17168891, -0.02435446, -0.01286215, -0.12592717],\n       [-0.25309128,  0.289469  ,  0.24240583, -0.19256684],\n       [ 0.13686883,  0.22969913,  0.19006863,  0.22553194],\n       [-0.05585848, -0.25492138, -0.22536966, -0.1445054 ],\n       [ 0.09491789,  0.21462429,  0.2757743 , -0.20044623],\n       [-0.2922349 ,  0.25462562, -0.29685923,  0.27516717],\n       [ 0.11095443,  0.19526526,  0.12142885,  0.2817961 ],\n       [-0.09500444, -0.09686284, -0.02092105, -0.18653122],\n       [ 0.07578769, -0.29421675, -0.03294262, -0.11284406],\n       [ 0.14904004, -0.20598054,  0.16383773, -0.23070693],\n       [ 0.00469032, -0.20560893,  0.16828611,  0.29615957],\n       [-0.2248227 ,  0.16528141, -0.20375994, -0.11184528],\n       [-0.2910927 ,  0.18300545,  0.09161708, -0.20556255],\n       [ 0.0120202 , -0.06805858,  0.01925781,  0.08700693],\n       [-0.12550713, -0.2166383 , -0.11140946, -0.09883046],\n       [ 0.22226584, -0.16833718,  0.28313553, -0.04110011],\n       [ 0.0804776 , -0.14835167, -0.16772005, -0.10502253],\n       [ 0.19710773,  0.20224664, -0.17061938,  0.16516879],\n       [-0.15767184, -0.15295531, -0.14139919, -0.04824679],\n       [-0.1579457 ,  0.24132651,  0.22132713,  0.07889771],\n       [-0.22353122,  0.23762238,  0.14272785, -0.13774236]],\n      dtype=float32)>), (None, <tf.Variable 'dense_8/bias:0' shape=(4,) dtype=float32, numpy=array([0., 0., 0., 0.], dtype=float32)>)).",
     "output_type": "error",
     "traceback": [
      "\u001b[0;31m---------------------------------------------------------------------------\u001b[0m",
      "\u001b[0;31mValueError\u001b[0m                                Traceback (most recent call last)",
      "Cell \u001b[0;32mIn[160], line 1\u001b[0m\n\u001b[0;32m----> 1\u001b[0m \u001b[43moptimizer\u001b[49m\u001b[38;5;241;43m.\u001b[39;49m\u001b[43mapply_gradients\u001b[49m\u001b[43m(\u001b[49m\u001b[38;5;28;43mzip\u001b[39;49m\u001b[43m(\u001b[49m\u001b[43mgradients\u001b[49m\u001b[43m,\u001b[49m\u001b[43m \u001b[49m\u001b[43mq_network\u001b[49m\u001b[38;5;241;43m.\u001b[39;49m\u001b[43mtrainable_variables\u001b[49m\u001b[43m)\u001b[49m\u001b[43m)\u001b[49m\n",
      "File \u001b[0;32m~/py/lib/python3.10/site-packages/keras/optimizers/optimizer_experimental/optimizer.py:1139\u001b[0m, in \u001b[0;36mOptimizer.apply_gradients\u001b[0;34m(self, grads_and_vars, name, skip_gradients_aggregation, **kwargs)\u001b[0m\n\u001b[1;32m   1135\u001b[0m experimental_aggregate_gradients \u001b[38;5;241m=\u001b[39m kwargs\u001b[38;5;241m.\u001b[39mpop(\n\u001b[1;32m   1136\u001b[0m     \u001b[38;5;124m\"\u001b[39m\u001b[38;5;124mexperimental_aggregate_gradients\u001b[39m\u001b[38;5;124m\"\u001b[39m, \u001b[38;5;28;01mTrue\u001b[39;00m\n\u001b[1;32m   1137\u001b[0m )\n\u001b[1;32m   1138\u001b[0m \u001b[38;5;28;01mif\u001b[39;00m \u001b[38;5;129;01mnot\u001b[39;00m skip_gradients_aggregation \u001b[38;5;129;01mand\u001b[39;00m experimental_aggregate_gradients:\n\u001b[0;32m-> 1139\u001b[0m     grads_and_vars \u001b[38;5;241m=\u001b[39m \u001b[38;5;28;43mself\u001b[39;49m\u001b[38;5;241;43m.\u001b[39;49m\u001b[43maggregate_gradients\u001b[49m\u001b[43m(\u001b[49m\u001b[43mgrads_and_vars\u001b[49m\u001b[43m)\u001b[49m\n\u001b[1;32m   1140\u001b[0m \u001b[38;5;28;01mreturn\u001b[39;00m \u001b[38;5;28msuper\u001b[39m()\u001b[38;5;241m.\u001b[39mapply_gradients(grads_and_vars, name\u001b[38;5;241m=\u001b[39mname)\n",
      "File \u001b[0;32m~/py/lib/python3.10/site-packages/keras/optimizers/optimizer_experimental/optimizer.py:1105\u001b[0m, in \u001b[0;36mOptimizer.aggregate_gradients\u001b[0;34m(self, grads_and_vars)\u001b[0m\n\u001b[1;32m   1093\u001b[0m \u001b[38;5;28;01mdef\u001b[39;00m \u001b[38;5;21maggregate_gradients\u001b[39m(\u001b[38;5;28mself\u001b[39m, grads_and_vars):\n\u001b[1;32m   1094\u001b[0m \u001b[38;5;250m    \u001b[39m\u001b[38;5;124;03m\"\"\"Aggregate gradients on all devices.\u001b[39;00m\n\u001b[1;32m   1095\u001b[0m \n\u001b[1;32m   1096\u001b[0m \u001b[38;5;124;03m    By default we will perform reduce_sum of gradients across devices. Users\u001b[39;00m\n\u001b[0;32m   (...)\u001b[0m\n\u001b[1;32m   1103\u001b[0m \u001b[38;5;124;03m      List of (gradient, variable) pairs.\u001b[39;00m\n\u001b[1;32m   1104\u001b[0m \u001b[38;5;124;03m    \"\"\"\u001b[39;00m\n\u001b[0;32m-> 1105\u001b[0m     \u001b[38;5;28;01mreturn\u001b[39;00m \u001b[43moptimizer_utils\u001b[49m\u001b[38;5;241;43m.\u001b[39;49m\u001b[43mall_reduce_sum_gradients\u001b[49m\u001b[43m(\u001b[49m\u001b[43mgrads_and_vars\u001b[49m\u001b[43m)\u001b[49m\n",
      "File \u001b[0;32m~/py/lib/python3.10/site-packages/keras/optimizers/optimizer_v2/utils.py:33\u001b[0m, in \u001b[0;36mall_reduce_sum_gradients\u001b[0;34m(grads_and_vars)\u001b[0m\n\u001b[1;32m     24\u001b[0m \u001b[38;5;250m\u001b[39m\u001b[38;5;124;03m\"\"\"Returns all-reduced gradients aggregated via summation.\u001b[39;00m\n\u001b[1;32m     25\u001b[0m \n\u001b[1;32m     26\u001b[0m \u001b[38;5;124;03mArgs:\u001b[39;00m\n\u001b[0;32m   (...)\u001b[0m\n\u001b[1;32m     30\u001b[0m \u001b[38;5;124;03m  List of (gradient, variable) pairs where gradients have been all-reduced.\u001b[39;00m\n\u001b[1;32m     31\u001b[0m \u001b[38;5;124;03m\"\"\"\u001b[39;00m\n\u001b[1;32m     32\u001b[0m grads_and_vars \u001b[38;5;241m=\u001b[39m \u001b[38;5;28mlist\u001b[39m(grads_and_vars)\n\u001b[0;32m---> 33\u001b[0m filtered_grads_and_vars \u001b[38;5;241m=\u001b[39m \u001b[43mfilter_empty_gradients\u001b[49m\u001b[43m(\u001b[49m\u001b[43mgrads_and_vars\u001b[49m\u001b[43m)\u001b[49m\n\u001b[1;32m     34\u001b[0m \u001b[38;5;28;01mif\u001b[39;00m filtered_grads_and_vars:\n\u001b[1;32m     35\u001b[0m     \u001b[38;5;28;01mif\u001b[39;00m tf\u001b[38;5;241m.\u001b[39m__internal__\u001b[38;5;241m.\u001b[39mdistribute\u001b[38;5;241m.\u001b[39mstrategy_supports_no_merge_call():\n",
      "File \u001b[0;32m~/py/lib/python3.10/site-packages/keras/optimizers/optimizer_v2/utils.py:77\u001b[0m, in \u001b[0;36mfilter_empty_gradients\u001b[0;34m(grads_and_vars)\u001b[0m\n\u001b[1;32m     75\u001b[0m \u001b[38;5;28;01mif\u001b[39;00m \u001b[38;5;129;01mnot\u001b[39;00m filtered:\n\u001b[1;32m     76\u001b[0m     variable \u001b[38;5;241m=\u001b[39m ([v\u001b[38;5;241m.\u001b[39mname \u001b[38;5;28;01mfor\u001b[39;00m _, v \u001b[38;5;129;01min\u001b[39;00m grads_and_vars],)\n\u001b[0;32m---> 77\u001b[0m     \u001b[38;5;28;01mraise\u001b[39;00m \u001b[38;5;167;01mValueError\u001b[39;00m(\n\u001b[1;32m     78\u001b[0m         \u001b[38;5;124mf\u001b[39m\u001b[38;5;124m\"\u001b[39m\u001b[38;5;124mNo gradients provided for any variable: \u001b[39m\u001b[38;5;132;01m{\u001b[39;00mvariable\u001b[38;5;132;01m}\u001b[39;00m\u001b[38;5;124m. \u001b[39m\u001b[38;5;124m\"\u001b[39m\n\u001b[1;32m     79\u001b[0m         \u001b[38;5;124mf\u001b[39m\u001b[38;5;124m\"\u001b[39m\u001b[38;5;124mProvided `grads_and_vars` is \u001b[39m\u001b[38;5;132;01m{\u001b[39;00mgrads_and_vars\u001b[38;5;132;01m}\u001b[39;00m\u001b[38;5;124m.\u001b[39m\u001b[38;5;124m\"\u001b[39m\n\u001b[1;32m     80\u001b[0m     )\n\u001b[1;32m     81\u001b[0m \u001b[38;5;28;01mif\u001b[39;00m vars_with_empty_grads:\n\u001b[1;32m     82\u001b[0m     logging\u001b[38;5;241m.\u001b[39mwarning(\n\u001b[1;32m     83\u001b[0m         \u001b[38;5;124m\"\u001b[39m\u001b[38;5;124mGradients do not exist for variables \u001b[39m\u001b[38;5;132;01m%s\u001b[39;00m\u001b[38;5;124m when minimizing the \u001b[39m\u001b[38;5;124m\"\u001b[39m\n\u001b[1;32m     84\u001b[0m         \u001b[38;5;124m\"\u001b[39m\u001b[38;5;124mloss. If you\u001b[39m\u001b[38;5;124m'\u001b[39m\u001b[38;5;124mre using `model.compile()`, did you forget to \u001b[39m\u001b[38;5;124m\"\u001b[39m\n\u001b[1;32m     85\u001b[0m         \u001b[38;5;124m\"\u001b[39m\u001b[38;5;124mprovide a `loss` argument?\u001b[39m\u001b[38;5;124m\"\u001b[39m,\n\u001b[1;32m     86\u001b[0m         ([v\u001b[38;5;241m.\u001b[39mname \u001b[38;5;28;01mfor\u001b[39;00m v \u001b[38;5;129;01min\u001b[39;00m vars_with_empty_grads]),\n\u001b[1;32m     87\u001b[0m     )\n",
      "\u001b[0;31mValueError\u001b[0m: No gradients provided for any variable: (['dense_6/kernel:0', 'dense_6/bias:0', 'dense_7/kernel:0', 'dense_7/bias:0', 'dense_8/kernel:0', 'dense_8/bias:0'],). Provided `grads_and_vars` is ((None, <tf.Variable 'dense_6/kernel:0' shape=(8, 64) dtype=float32, numpy=\narray([[ 2.01065958e-01, -2.32965484e-01, -1.96550190e-01,\n         6.83264732e-02, -1.98387504e-02, -4.18614000e-02,\n         6.21299744e-02,  2.24134624e-01,  1.70893967e-01,\n        -2.39665791e-01,  1.97403193e-01,  1.67583168e-01,\n        -4.15414274e-02,  2.17716396e-01, -2.31464684e-01,\n        -7.54009634e-02, -3.90074849e-02,  8.59829485e-02,\n         4.84171808e-02, -2.03254133e-01,  2.73118913e-02,\n         2.64700055e-01,  2.58923650e-01,  1.33323282e-01,\n        -1.27654195e-01,  2.28313863e-01,  1.95598871e-01,\n        -2.21999526e-01,  2.95367539e-02,  5.46360910e-02,\n         1.74322784e-01,  7.21308589e-02,  2.02986181e-01,\n         2.66160846e-01, -5.13366759e-02,  1.26693040e-01,\n         1.80057943e-01, -1.51055828e-01, -4.13585603e-02,\n        -5.77180386e-02,  6.39286339e-02, -9.24690813e-02,\n         2.56726027e-01,  3.07768285e-02, -9.67992246e-02,\n         2.61791050e-01,  1.30426079e-01, -1.71837151e-01,\n        -2.50120670e-01,  2.36291409e-01,  8.65597129e-02,\n         2.76845276e-01,  1.21073157e-01, -1.71680495e-01,\n        -1.35569945e-01,  4.72487211e-02,  1.50981098e-01,\n        -1.70602888e-01,  2.23435104e-01, -1.79228663e-01,\n        -4.99224663e-03, -1.49419576e-01, -2.76393890e-01,\n         1.56598151e-01],\n       [ 2.47899532e-01,  9.52976048e-02,  1.05576754e-01,\n         2.24903822e-01,  1.76565319e-01, -1.83634385e-01,\n        -2.42228374e-01,  6.72300160e-02, -1.94113076e-01,\n         3.18539739e-02, -2.35773146e-01,  2.17413783e-01,\n         1.40536249e-01,  2.25458384e-01, -9.95071083e-02,\n         2.19163716e-01,  4.44447994e-03,  3.13830376e-03,\n         1.41687036e-01, -3.12126577e-02, -3.06477249e-02,\n        -1.37879938e-01,  1.81934267e-01, -1.03729472e-01,\n        -2.56533325e-02,  9.33164656e-02,  2.11830497e-01,\n         1.88706338e-01, -1.95420384e-02, -1.19295120e-02,\n         8.07076991e-02,  2.19188273e-01,  2.84755111e-01,\n         2.30774283e-01, -1.20937645e-01,  1.03203177e-01,\n        -2.32421964e-01,  2.28400409e-01, -6.07141554e-02,\n        -1.87611535e-01,  8.46361220e-02, -1.84008315e-01,\n         4.46104407e-02, -1.61705270e-01, -2.53856838e-01,\n        -2.42746696e-01,  1.83628052e-01,  1.13667339e-01,\n        -1.01742551e-01,  1.42731994e-01,  1.72676474e-01,\n        -2.61539489e-01, -3.75083089e-02, -1.84689343e-01,\n         2.24301636e-01, -3.18226516e-02,  2.75202751e-01,\n        -2.22961009e-02,  2.28864014e-01, -1.51687369e-01,\n        -2.61157185e-01,  2.69516706e-02,  1.38998777e-01,\n        -1.11929551e-01],\n       [-2.58156806e-01,  1.18916571e-01, -2.71891832e-01,\n        -2.28672087e-01, -2.50734031e-01,  2.43792653e-01,\n         1.59999073e-01,  2.33237147e-02, -3.76586914e-02,\n        -1.20969653e-01, -4.85445559e-02, -1.24352977e-01,\n         2.05217868e-01, -2.08039850e-01, -1.12221584e-01,\n         2.28318751e-01, -5.58064133e-02, -2.15474173e-01,\n         1.31770909e-01,  1.66214794e-01,  1.45362109e-01,\n         1.82674617e-01,  6.88928962e-02, -8.70805830e-02,\n         3.59363556e-02, -2.83260286e-01, -2.32422799e-01,\n        -1.59993723e-01,  2.95875371e-02, -2.97041237e-02,\n         2.34233141e-01,  2.61904478e-01,  6.17404878e-02,\n         1.18885338e-01,  9.17655528e-02,  1.83716089e-01,\n        -1.68776542e-01, -5.13257384e-02, -1.08005196e-01,\n        -1.04751676e-01,  9.45776105e-02, -2.15179592e-01,\n         2.23585188e-01,  2.29713082e-01,  1.35930330e-01,\n        -1.87173948e-01,  1.57956332e-01,  4.39952016e-02,\n        -7.15550780e-03,  1.49590671e-01,  8.20729136e-03,\n        -2.20687836e-01, -1.32634476e-01, -1.05795339e-01,\n        -1.97225839e-01,  5.98162413e-03, -2.32800990e-01,\n         1.98307216e-01, -4.03597653e-02,  6.42751157e-02,\n         2.80765712e-01, -2.76166856e-01,  2.35896707e-01,\n        -1.41136900e-01],\n       [ 1.46231651e-01, -1.42270043e-01, -2.62686878e-01,\n         2.80911326e-01, -1.11523002e-01,  7.65533149e-02,\n         2.40390658e-01, -1.20856434e-01,  1.90596282e-01,\n         1.70951426e-01,  3.42808068e-02,  1.63385093e-01,\n        -1.94337443e-01, -2.15416908e-01, -2.35851407e-02,\n         6.85599148e-02,  2.44609475e-01, -5.36001474e-02,\n         2.52170861e-01,  2.64760494e-01, -1.20758489e-01,\n        -2.18820333e-01,  2.19214499e-01, -1.96345836e-01,\n         2.60476291e-01, -3.41698527e-03,  1.72177970e-01,\n        -2.59041607e-01, -1.96569651e-01, -1.49391219e-01,\n        -2.60952204e-01,  1.49952769e-02,  1.27802730e-01,\n         1.62041008e-01, -1.43369943e-01, -1.55528113e-01,\n        -2.50432849e-01, -8.75037313e-02,  1.44771039e-02,\n         9.09970403e-02,  1.93773836e-01,  2.67932475e-01,\n         8.75478387e-02,  5.54510653e-02, -1.42813623e-02,\n         5.29060960e-02,  2.44207144e-01,  1.44264132e-01,\n         2.83081949e-01,  8.48613679e-02,  1.13491833e-01,\n        -1.67325020e-01,  7.61601329e-03,  5.16906381e-02,\n        -1.22687474e-01,  9.08833444e-02, -2.36277431e-01,\n        -8.35231990e-02,  4.45336103e-03,  9.79299545e-02,\n        -2.47187376e-01, -2.38659561e-01,  4.98934090e-02,\n         2.84805059e-01],\n       [-1.02940470e-01, -2.99807489e-02, -1.48040354e-02,\n        -2.24628374e-01, -2.44337380e-01,  2.71971285e-01,\n         8.12863708e-02,  2.42281079e-01,  8.03907514e-02,\n         1.86646253e-01,  1.83510780e-01,  7.37747550e-02,\n        -1.64388716e-01,  2.08345354e-01, -2.60737062e-01,\n        -1.55488610e-01,  2.44077504e-01, -4.11863625e-02,\n        -2.45184600e-02, -5.02599031e-02, -2.87192225e-01,\n        -2.15319663e-01, -1.61640778e-01,  1.85425699e-01,\n         2.79225945e-01, -2.60889918e-01,  2.71991670e-01,\n        -6.11430705e-02,  1.42024070e-01, -1.77837342e-01,\n        -2.42264777e-01, -1.63271263e-01,  1.09346956e-01,\n         1.82857543e-01, -8.26085061e-02, -6.19251430e-02,\n        -2.68002450e-02, -1.73098773e-01, -2.41079807e-01,\n         4.89065945e-02,  1.48192763e-01,  1.78400338e-01,\n         2.72914827e-01, -1.75202787e-02,  1.56484514e-01,\n        -1.94624931e-01,  5.16461134e-02, -2.23134041e-01,\n         6.56800568e-02, -2.45158955e-01,  1.53358668e-01,\n         1.49055690e-01,  2.46552289e-01, -9.24411267e-02,\n         8.46869648e-02,  8.81289244e-02, -5.87129146e-02,\n         7.05447793e-02, -5.96779585e-03,  5.82857728e-02,\n         4.65553701e-02,  1.94505930e-01, -2.36922339e-01,\n         2.43246377e-01],\n       [-1.79553792e-01,  2.77233243e-01, -9.76880491e-02,\n        -1.27684817e-01,  9.11276639e-02, -1.19083762e-01,\n         9.41827595e-02, -7.92637318e-02, -2.66884089e-01,\n         5.17484546e-03, -7.67214596e-02, -2.14744270e-01,\n        -1.30276024e-01, -7.12834746e-02,  1.19769126e-01,\n         2.09742576e-01,  1.08792573e-01, -1.14066452e-01,\n         5.63307106e-02,  1.47056520e-01, -2.74971694e-01,\n        -7.26683140e-02, -5.65692782e-02,  2.53542364e-01,\n        -1.27191201e-01, -2.53354907e-02, -2.55157918e-01,\n        -1.51350543e-01, -2.61158973e-01, -1.64263040e-01,\n        -1.75536379e-01,  2.42425084e-01,  2.58871913e-02,\n        -9.81768966e-03,  1.23254657e-01, -2.78602570e-01,\n         1.60707921e-01,  1.89855665e-01, -1.47398174e-01,\n        -8.50767344e-02,  5.43506145e-02, -2.84801573e-01,\n         1.29853994e-01, -2.68646777e-02, -1.57776296e-01,\n         2.13619530e-01,  2.64219165e-01, -1.64482653e-01,\n         1.23556852e-02, -9.77432430e-02, -9.43758786e-02,\n         2.30684578e-02,  1.13115907e-01, -1.01777449e-01,\n         6.90095425e-02, -4.26876545e-02, -3.60897481e-02,\n         1.61725581e-01,  2.38024116e-01,  1.48869455e-02,\n         2.62317300e-01, -1.85319573e-01, -1.90295666e-01,\n         1.71685517e-01],\n       [ 2.64242291e-03,  9.14366841e-02,  1.76457942e-01,\n        -9.55331922e-02, -1.23344064e-01,  1.98979646e-01,\n         4.87195849e-02, -2.51594961e-01, -2.83411741e-02,\n         2.31069326e-01,  1.61168098e-01, -1.77395076e-01,\n        -2.43284836e-01, -1.28698900e-01, -2.32355207e-01,\n        -6.34029657e-02, -1.12309203e-01,  2.68592536e-01,\n        -6.84516579e-02, -1.60148576e-01, -1.38091579e-01,\n         1.95323795e-01, -2.27726907e-01,  2.25281298e-01,\n         1.06563985e-01, -5.16446084e-02,  2.49416411e-01,\n         5.45058846e-02,  5.35796881e-02,  1.29242331e-01,\n         7.76168108e-02, -8.79706442e-02, -2.62462437e-01,\n         1.91458821e-01, -2.23732740e-01, -3.99639457e-02,\n        -1.66973516e-01, -1.02451533e-01, -6.76038563e-02,\n        -2.76817948e-01, -2.15120062e-01,  5.33028841e-02,\n         6.15567863e-02,  1.62595809e-01, -2.68834323e-01,\n        -1.27955034e-01,  6.28328323e-03,  2.01173395e-01,\n         2.79802680e-02, -1.74993128e-01,  2.71621585e-01,\n        -1.54447690e-01, -1.13323003e-01, -2.30816200e-01,\n        -1.86491877e-01, -1.74557894e-01,  6.06703758e-02,\n        -1.85581386e-01,  7.77540505e-02,  1.23274893e-01,\n        -1.81550696e-01, -4.94925678e-02,  1.31787986e-01,\n         9.84864235e-02],\n       [-1.30947217e-01,  2.85061240e-01, -1.45051837e-01,\n         2.04981983e-01,  2.15347171e-01, -1.18900612e-01,\n         1.22769564e-01, -2.82141119e-01,  9.73996520e-02,\n        -1.66356564e-04, -1.81217581e-01,  4.78752255e-02,\n        -2.38582745e-01, -2.07223773e-01, -9.44759548e-02,\n         2.44237959e-01, -4.72288877e-02, -1.97489515e-01,\n        -1.08569980e-01,  3.28944623e-02, -2.73498774e-01,\n        -1.66344106e-01,  4.47934270e-02, -2.11068571e-01,\n        -2.25923598e-01, -1.50212094e-01,  1.05681509e-01,\n         1.27926946e-01, -2.17969656e-01, -2.65246302e-01,\n         8.11928511e-03,  1.27173930e-01, -1.20809704e-01,\n         2.62252092e-02,  3.52256596e-02,  8.16988349e-02,\n        -2.49570668e-01,  1.55324668e-01, -9.46666002e-02,\n        -1.42974555e-02,  5.16192019e-02, -2.23657995e-01,\n        -4.08659130e-02, -2.17147529e-01, -2.79294491e-01,\n        -2.56126165e-01,  5.39315343e-02,  1.65084958e-01,\n         6.61225915e-02,  1.44795954e-01, -2.25407213e-01,\n        -1.99788421e-01, -2.73951143e-01,  2.42770433e-01,\n         4.81295586e-02,  8.57507288e-02,  1.68776602e-01,\n        -1.59973696e-01,  2.16121674e-01,  1.03068471e-01,\n        -1.77619517e-01, -1.23123676e-01,  2.54384577e-01,\n        -5.03006428e-02]], dtype=float32)>), (None, <tf.Variable 'dense_6/bias:0' shape=(64,) dtype=float32, numpy=\narray([0., 0., 0., 0., 0., 0., 0., 0., 0., 0., 0., 0., 0., 0., 0., 0., 0.,\n       0., 0., 0., 0., 0., 0., 0., 0., 0., 0., 0., 0., 0., 0., 0., 0., 0.,\n       0., 0., 0., 0., 0., 0., 0., 0., 0., 0., 0., 0., 0., 0., 0., 0., 0.,\n       0., 0., 0., 0., 0., 0., 0., 0., 0., 0., 0., 0., 0.], dtype=float32)>), (None, <tf.Variable 'dense_7/kernel:0' shape=(64, 64) dtype=float32, numpy=\narray([[ 0.0753601 , -0.09481955,  0.21481715, ...,  0.00886068,\n        -0.02763213, -0.01855043],\n       [-0.08469823,  0.13560311, -0.04859714, ...,  0.19112362,\n         0.1818762 , -0.08000109],\n       [ 0.01650552,  0.13735841,  0.08438985, ...,  0.15130426,\n        -0.14481382, -0.0271304 ],\n       ...,\n       [-0.18005617, -0.10328401,  0.10483505, ..., -0.09301164,\n        -0.15308481,  0.11409079],\n       [-0.19774893,  0.1602325 , -0.2158945 , ..., -0.10071275,\n        -0.1997357 , -0.00188404],\n       [ 0.04077153, -0.01834559, -0.02150588, ...,  0.16940837,\n         0.14347641,  0.20892324]], dtype=float32)>), (None, <tf.Variable 'dense_7/bias:0' shape=(64,) dtype=float32, numpy=\narray([0., 0., 0., 0., 0., 0., 0., 0., 0., 0., 0., 0., 0., 0., 0., 0., 0.,\n       0., 0., 0., 0., 0., 0., 0., 0., 0., 0., 0., 0., 0., 0., 0., 0., 0.,\n       0., 0., 0., 0., 0., 0., 0., 0., 0., 0., 0., 0., 0., 0., 0., 0., 0.,\n       0., 0., 0., 0., 0., 0., 0., 0., 0., 0., 0., 0., 0.], dtype=float32)>), (None, <tf.Variable 'dense_8/kernel:0' shape=(64, 4) dtype=float32, numpy=\narray([[-0.21133736,  0.20680201,  0.17562848, -0.103145  ],\n       [ 0.10641417, -0.14743213,  0.07589257,  0.16283101],\n       [ 0.15694231,  0.13977754, -0.17621657,  0.10906196],\n       [-0.28854704,  0.10998487,  0.04888389, -0.2105603 ],\n       [-0.01268303, -0.02816093, -0.14434782, -0.12762807],\n       [ 0.05887926,  0.29264325, -0.05084443,  0.27250922],\n       [ 0.05645889,  0.04671457,  0.17703328, -0.1582753 ],\n       [-0.08487578,  0.09751064,  0.26177114, -0.24355794],\n       [ 0.29133362,  0.27740192, -0.07319061,  0.12119809],\n       [ 0.11245108,  0.05022907, -0.01370952, -0.14544164],\n       [-0.09545684, -0.2865326 ,  0.23253   ,  0.2158854 ],\n       [-0.2908107 , -0.25568914, -0.2901408 , -0.03076196],\n       [ 0.24474663,  0.06449601,  0.09976238, -0.22104633],\n       [ 0.23035043, -0.02100894,  0.05075526, -0.05215469],\n       [ 0.14372373,  0.20977432, -0.07033703,  0.15429431],\n       [ 0.10313028, -0.1145726 , -0.10795963, -0.17262588],\n       [-0.18214563,  0.07539746, -0.19886267,  0.18106979],\n       [-0.00539237,  0.28419274,  0.18214542,  0.14572373],\n       [ 0.04992568,  0.12261438, -0.01931733, -0.08826122],\n       [-0.22562581,  0.01624426, -0.21013318,  0.01309067],\n       [-0.11439483,  0.07867414, -0.21819714, -0.09597214],\n       [ 0.14718235,  0.28251618,  0.25672883, -0.17717676],\n       [-0.11003807,  0.07692513, -0.17521685, -0.22573376],\n       [ 0.01549467, -0.06658982,  0.01663187, -0.24352218],\n       [ 0.23457271, -0.03021976,  0.01618704,  0.0656887 ],\n       [ 0.10396418, -0.27519554,  0.26442873,  0.22576475],\n       [-0.20176414, -0.18969095,  0.14584872,  0.05454263],\n       [ 0.02527922,  0.21715564,  0.16460869,  0.19080764],\n       [ 0.07783258, -0.06151685, -0.24708426, -0.09911275],\n       [ 0.00601467,  0.0917837 , -0.23823604, -0.08319512],\n       [-0.23964176,  0.26483577,  0.27986348, -0.11139663],\n       [-0.26208737, -0.10933907, -0.17616303,  0.26271516],\n       [ 0.11144096, -0.22888279, -0.14224862, -0.25285447],\n       [-0.20562401,  0.16167521,  0.1847184 ,  0.0459078 ],\n       [-0.03182173, -0.1813617 ,  0.19462958, -0.00193101],\n       [ 0.14647493,  0.152976  ,  0.07962647, -0.21809791],\n       [-0.05775762,  0.06373179,  0.07709602, -0.13622452],\n       [-0.23592749, -0.06394374, -0.25881568, -0.16819625],\n       [-0.1606136 ,  0.23907208, -0.18359618, -0.25702155],\n       [-0.01886171, -0.03576121,  0.04799971, -0.18044019],\n       [ 0.12727126,  0.26845044,  0.09244093, -0.14643292],\n       [-0.04003093, -0.21566911, -0.05383924,  0.23265332],\n       [-0.03155452,  0.17375278,  0.09860164,  0.09856707],\n       [ 0.17168891, -0.02435446, -0.01286215, -0.12592717],\n       [-0.25309128,  0.289469  ,  0.24240583, -0.19256684],\n       [ 0.13686883,  0.22969913,  0.19006863,  0.22553194],\n       [-0.05585848, -0.25492138, -0.22536966, -0.1445054 ],\n       [ 0.09491789,  0.21462429,  0.2757743 , -0.20044623],\n       [-0.2922349 ,  0.25462562, -0.29685923,  0.27516717],\n       [ 0.11095443,  0.19526526,  0.12142885,  0.2817961 ],\n       [-0.09500444, -0.09686284, -0.02092105, -0.18653122],\n       [ 0.07578769, -0.29421675, -0.03294262, -0.11284406],\n       [ 0.14904004, -0.20598054,  0.16383773, -0.23070693],\n       [ 0.00469032, -0.20560893,  0.16828611,  0.29615957],\n       [-0.2248227 ,  0.16528141, -0.20375994, -0.11184528],\n       [-0.2910927 ,  0.18300545,  0.09161708, -0.20556255],\n       [ 0.0120202 , -0.06805858,  0.01925781,  0.08700693],\n       [-0.12550713, -0.2166383 , -0.11140946, -0.09883046],\n       [ 0.22226584, -0.16833718,  0.28313553, -0.04110011],\n       [ 0.0804776 , -0.14835167, -0.16772005, -0.10502253],\n       [ 0.19710773,  0.20224664, -0.17061938,  0.16516879],\n       [-0.15767184, -0.15295531, -0.14139919, -0.04824679],\n       [-0.1579457 ,  0.24132651,  0.22132713,  0.07889771],\n       [-0.22353122,  0.23762238,  0.14272785, -0.13774236]],\n      dtype=float32)>), (None, <tf.Variable 'dense_8/bias:0' shape=(4,) dtype=float32, numpy=array([0., 0., 0., 0.], dtype=float32)>))."
     ]
    }
   ],
   "source": [
    "optimizer.apply_gradients(zip(gradients, q_network.trainable_variables))"
   ]
  },
  {
   "cell_type": "code",
   "execution_count": null,
   "metadata": {},
   "outputs": [],
   "source": []
  },
  {
   "cell_type": "code",
   "execution_count": null,
   "metadata": {},
   "outputs": [],
   "source": []
  },
  {
   "cell_type": "code",
   "execution_count": null,
   "metadata": {},
   "outputs": [],
   "source": []
  },
  {
   "cell_type": "code",
   "execution_count": null,
   "metadata": {},
   "outputs": [],
   "source": []
  },
  {
   "cell_type": "code",
   "execution_count": 45,
   "metadata": {
    "deletable": false,
    "editable": false,
    "id": "E_EUXxurfe8m",
    "scrolled": false
   },
   "outputs": [
    {
     "data": {
      "image/png": "[encoded data removed]",
      "text/plain": [
       "<Figure size 1000x700 with 1 Axes>"
      ]
     },
     "metadata": {},
     "output_type": "display_data"
    }
   ],
   "source": [
    "# Plot the total point history along with the moving average\n",
    "utils.plot_history(total_point_history)"
   ]
  },
  {
   "cell_type": "markdown",
   "metadata": {
    "id": "c_xwgaX5MnYt"
   },
   "source": [
    "<a name=\"10\"></a>\n",
    "## 10 - See the Trained Agent In Action\n",
    "\n",
    "Now that we have trained our agent, we can see it in action. We will use the `utils.create_video` function to create a video of our agent interacting with the environment using the trained $Q$-Network. The `utils.create_video` function uses the `imageio` library to create the video. This library produces some warnings that can be distracting, so, to suppress these warnings we run the code below."
   ]
  },
  {
   "cell_type": "code",
   "execution_count": 46,
   "metadata": {
    "deletable": false,
    "editable": false
   },
   "outputs": [],
   "source": [
    "# Suppress warnings from imageio\n",
    "import logging\n",
    "logging.getLogger().setLevel(logging.ERROR)"
   ]
  },
  {
   "cell_type": "markdown",
   "metadata": {},
   "source": [
    "In the cell below we create a video of our agent interacting with the Lunar Lander environment using the trained `q_network`. The video is saved to the `videos` folder with the given `filename`. We use the `utils.embed_mp4` function to embed the video in the Jupyter Notebook so that we can see it here directly without having to download it.\n",
    "\n",
    "We should note that since the lunar lander starts with a random initial force applied to its center of mass, every time you run the cell below you will see a different video. If the agent was trained properly, it should be able to land the lunar lander in the landing pad every time, regardless of the initial force applied to its center of mass."
   ]
  },
  {
   "cell_type": "code",
   "execution_count": 56,
   "metadata": {
    "deletable": false,
    "editable": false,
    "id": "3Ttb_zLeJKiG"
   },
   "outputs": [
    {
     "ename": "TypeError",
     "evalue": "LunarLander.render() got an unexpected keyword argument 'mode'",
     "output_type": "error",
     "traceback": [
      "\u001b[0;31m---------------------------------------------------------------------------\u001b[0m",
      "\u001b[0;31mTypeError\u001b[0m                                 Traceback (most recent call last)",
      "Cell \u001b[0;32mIn[56], line 3\u001b[0m\n\u001b[1;32m      1\u001b[0m filename \u001b[39m=\u001b[39m \u001b[39m\"\u001b[39m\u001b[39m./videos/lunar_lander.mp4\u001b[39m\u001b[39m\"\u001b[39m\n\u001b[0;32m----> 3\u001b[0m utils\u001b[39m.\u001b[39;49mcreate_video(filename, env, q_network)\n\u001b[1;32m      4\u001b[0m utils\u001b[39m.\u001b[39membed_mp4(filename)\n",
      "File \u001b[0;32m~/Desktop/ML/courses/reinf_coursera/work/utils.py:391\u001b[0m, in \u001b[0;36mcreate_video\u001b[0;34m(filename, env, q_network, fps)\u001b[0m\n\u001b[1;32m    389\u001b[0m done \u001b[39m=\u001b[39m \u001b[39mFalse\u001b[39;00m\n\u001b[1;32m    390\u001b[0m state \u001b[39m=\u001b[39m env\u001b[39m.\u001b[39mreset()\n\u001b[0;32m--> 391\u001b[0m frame \u001b[39m=\u001b[39m env\u001b[39m.\u001b[39;49mrender(mode\u001b[39m=\u001b[39;49m\u001b[39m\"\u001b[39;49m\u001b[39mrgb_array\u001b[39;49m\u001b[39m\"\u001b[39;49m)\n\u001b[1;32m    392\u001b[0m video\u001b[39m.\u001b[39mappend_data(frame)\n\u001b[1;32m    393\u001b[0m \u001b[39mwhile\u001b[39;00m \u001b[39mnot\u001b[39;00m done:\n",
      "File \u001b[0;32m~/py/lib/python3.10/site-packages/gym/core.py:329\u001b[0m, in \u001b[0;36mWrapper.render\u001b[0;34m(self, *args, **kwargs)\u001b[0m\n\u001b[1;32m    325\u001b[0m \u001b[39mdef\u001b[39;00m \u001b[39mrender\u001b[39m(\n\u001b[1;32m    326\u001b[0m     \u001b[39mself\u001b[39m, \u001b[39m*\u001b[39margs, \u001b[39m*\u001b[39m\u001b[39m*\u001b[39mkwargs\n\u001b[1;32m    327\u001b[0m ) \u001b[39m-\u001b[39m\u001b[39m>\u001b[39m Optional[Union[RenderFrame, List[RenderFrame]]]:\n\u001b[1;32m    328\u001b[0m \u001b[39m    \u001b[39m\u001b[39m\"\"\"Renders the environment.\"\"\"\u001b[39;00m\n\u001b[0;32m--> 329\u001b[0m     \u001b[39mreturn\u001b[39;00m \u001b[39mself\u001b[39;49m\u001b[39m.\u001b[39;49menv\u001b[39m.\u001b[39;49mrender(\u001b[39m*\u001b[39;49margs, \u001b[39m*\u001b[39;49m\u001b[39m*\u001b[39;49mkwargs)\n",
      "File \u001b[0;32m~/py/lib/python3.10/site-packages/gym/wrappers/order_enforcing.py:51\u001b[0m, in \u001b[0;36mOrderEnforcing.render\u001b[0;34m(self, *args, **kwargs)\u001b[0m\n\u001b[1;32m     46\u001b[0m \u001b[39mif\u001b[39;00m \u001b[39mnot\u001b[39;00m \u001b[39mself\u001b[39m\u001b[39m.\u001b[39m_disable_render_order_enforcing \u001b[39mand\u001b[39;00m \u001b[39mnot\u001b[39;00m \u001b[39mself\u001b[39m\u001b[39m.\u001b[39m_has_reset:\n\u001b[1;32m     47\u001b[0m     \u001b[39mraise\u001b[39;00m ResetNeeded(\n\u001b[1;32m     48\u001b[0m         \u001b[39m\"\u001b[39m\u001b[39mCannot call `env.render()` before calling `env.reset()`, if this is a intended action, \u001b[39m\u001b[39m\"\u001b[39m\n\u001b[1;32m     49\u001b[0m         \u001b[39m\"\u001b[39m\u001b[39mset `disable_render_order_enforcing=True` on the OrderEnforcer wrapper.\u001b[39m\u001b[39m\"\u001b[39m\n\u001b[1;32m     50\u001b[0m     )\n\u001b[0;32m---> 51\u001b[0m \u001b[39mreturn\u001b[39;00m \u001b[39mself\u001b[39;49m\u001b[39m.\u001b[39;49menv\u001b[39m.\u001b[39;49mrender(\u001b[39m*\u001b[39;49margs, \u001b[39m*\u001b[39;49m\u001b[39m*\u001b[39;49mkwargs)\n",
      "File \u001b[0;32m~/py/lib/python3.10/site-packages/gym/wrappers/env_checker.py:55\u001b[0m, in \u001b[0;36mPassiveEnvChecker.render\u001b[0;34m(self, *args, **kwargs)\u001b[0m\n\u001b[1;32m     53\u001b[0m     \u001b[39mreturn\u001b[39;00m env_render_passive_checker(\u001b[39mself\u001b[39m\u001b[39m.\u001b[39menv, \u001b[39m*\u001b[39margs, \u001b[39m*\u001b[39m\u001b[39m*\u001b[39mkwargs)\n\u001b[1;32m     54\u001b[0m \u001b[39melse\u001b[39;00m:\n\u001b[0;32m---> 55\u001b[0m     \u001b[39mreturn\u001b[39;00m \u001b[39mself\u001b[39;49m\u001b[39m.\u001b[39;49menv\u001b[39m.\u001b[39;49mrender(\u001b[39m*\u001b[39;49margs, \u001b[39m*\u001b[39;49m\u001b[39m*\u001b[39;49mkwargs)\n",
      "\u001b[0;31mTypeError\u001b[0m: LunarLander.render() got an unexpected keyword argument 'mode'"
     ]
    }
   ],
   "source": [
    "filename = \"./videos/lunar_lander.mp4\"\n",
    "\n",
    "utils.create_video(filename, env, q_network)\n",
    "utils.embed_mp4(filename)"
   ]
  },
  {
   "cell_type": "markdown",
   "metadata": {},
   "source": [
    "<a name=\"11\"></a>\n",
    "## 11 - Congratulations!\n",
    "\n",
    "You have successfully used Deep Q-Learning with Experience Replay to train an agent to land a lunar lander safely on a landing pad on the surface of the moon. Congratulations!"
   ]
  },
  {
   "cell_type": "markdown",
   "metadata": {},
   "source": [
    "<a name=\"12\"></a>\n",
    "## 12 - References\n",
    "\n",
    "If you would like to learn more about Deep Q-Learning, we recommend you check out the following papers.\n",
    "\n",
    "\n",
    "* Mnih, V., Kavukcuoglu, K., Silver, D. et al. Human-level control through deep reinforcement learning. Nature 518, 529–533 (2015).\n",
    "\n",
    "\n",
    "* Lillicrap, T. P., Hunt, J. J., Pritzel, A., et al. Continuous Control with Deep Reinforcement Learning. ICLR (2016).\n",
    "\n",
    "\n",
    "* Mnih, V., Kavukcuoglu, K., Silver, D. et al. Playing Atari with Deep Reinforcement Learning. arXiv e-prints.  arXiv:1312.5602 (2013)."
   ]
  },
  {
   "cell_type": "markdown",
   "metadata": {},
   "source": [
    "<details>\n",
    "  <summary><font size=\"2\" color=\"darkgreen\"><b>Please click here if you want to experiment with any of the non-graded code.</b></font></summary>\n",
    "    <p><i><b>Important Note: Please only do this when you've already passed the assignment to avoid problems with the autograder.</b></i>\n",
    "    <ol>\n",
    "        <li> On the notebook’s menu, click “View” > “Cell Toolbar” > “Edit Metadata”</li>\n",
    "        <li> Hit the “Edit Metadata” button next to the code cell which you want to lock/unlock</li>\n",
    "        <li> Set the attribute value for “editable” to:\n",
    "            <ul>\n",
    "                <li> “true” if you want to unlock it </li>\n",
    "                <li> “false” if you want to lock it </li>\n",
    "            </ul>\n",
    "        </li>\n",
    "        <li> On the notebook’s menu, click “View” > “Cell Toolbar” > “None” </li>\n",
    "    </ol>\n",
    "    <p> Here's a short demo of how to do the steps above: \n",
    "        <br>\n",
    "        <img src=\"https://drive.google.com/uc?export=view&id=14Xy_Mb17CZVgzVAgq7NCjMVBvSae3xO1\" align=\"center\" alt=\"unlock_cells.gif\">\n",
    "</details>"
   ]
  }
 ],
 "metadata": {
  "accelerator": "GPU",
  "colab": {
   "collapsed_sections": [],
   "name": "TensorFlow - Lunar Lander.ipynb",
   "provenance": []
  },
  "kernelspec": {
   "display_name": "Python 3 (ipykernel)",
   "language": "python",
   "name": "python3"
  },
  "language_info": {
   "codemirror_mode": {
    "name": "ipython",
    "version": 3
   },
   "file_extension": ".py",
   "mimetype": "text/x-python",
   "name": "python",
   "nbconvert_exporter": "python",
   "pygments_lexer": "ipython3",
   "version": "3.10.6"
  },
  "vscode": {
   "interpreter": {
    "hash": "90fe576973271cf899b0ff2bfc885023e73fdc4a0873ebeb940eccfd8c747e03"
   }
  }
 },
 "nbformat": 4,
 "nbformat_minor": 1
}
