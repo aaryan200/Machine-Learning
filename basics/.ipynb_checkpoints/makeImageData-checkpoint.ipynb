{
 "cells": [
  {
   "cell_type": "code",
   "execution_count": 25,
   "id": "9e409188",
   "metadata": {},
   "outputs": [],
   "source": [
    "def imgData(path,label,size):\n",
    "    \"\"\"\n",
    "    Return data and label of images contained in path directory\n",
    "    data - 4d array of size (number of pictures)XsizeX3\n",
    "    label - 1d array of size number of pictures\n",
    "    \"\"\"\n",
    "    import numpy as np\n",
    "    import cv2\n",
    "    from pathlib import Path\n",
    "    from os import listdir\n",
    "    size0,size1=size[0],size[1]\n",
    "    images_dir=Path(path).expanduser()\n",
    "    li_img=listdir(images_dir)\n",
    "    n=len(li_img)\n",
    "    data=cv2.imread(f\"{path}{li_img[0]}\")\n",
    "    data=cv2.resize(data,size)\n",
    "    data=data.reshape(1,size0,size1,3)\n",
    "    lab=[]\n",
    "    for i in range(1,n):\n",
    "        temp=cv2.imread(f\"{path}{li_img[i]}\")\n",
    "        temp=cv2.resize(temp,size)\n",
    "        temp=temp.reshape(1,size0,size1,3)\n",
    "        data=np.append(data,temp,axis=0)\n",
    "        lab.append(label)\n",
    "    return data,np.array(lab)"
   ]
  },
  {
   "cell_type": "code",
   "execution_count": 43,
   "id": "0c4e7bbd",
   "metadata": {},
   "outputs": [],
   "source": [
    "def imgData1(path,label,size):\n",
    "    \"\"\"\n",
    "    Return data and label of images contained in path directory\n",
    "    data - 4d array of size (number of pictures)XsizeX3\n",
    "    label - 1d array of size number of pictures\n",
    "    \"\"\"\n",
    "    import numpy as np\n",
    "    import cv2\n",
    "    from pathlib import Path\n",
    "    from os import listdir\n",
    "    size0,size1=size[0],size[1]\n",
    "    images_dir=Path(path).expanduser()\n",
    "    li_img=listdir(images_dir)\n",
    "    n=len(li_img)\n",
    "    data=np.array([cv2.resize(cv2.imread(f\"{path}{i}\"),size) for i in li_img])\n",
    "    lab=np.array([label for i in li_img])\n",
    "    return data,lab"
   ]
  },
  {
   "cell_type": "code",
   "execution_count": 44,
   "id": "84113a8f",
   "metadata": {},
   "outputs": [],
   "source": [
    "data,label=imgData1(\"CelebrityImage/train/Angelina Jolie/\",0,(300,300))"
   ]
  },
  {
   "cell_type": "code",
   "execution_count": 45,
   "id": "cd431aa3",
   "metadata": {},
   "outputs": [
    {
     "data": {
      "text/plain": [
       "(80, 300, 300, 3)"
      ]
     },
     "execution_count": 45,
     "metadata": {},
     "output_type": "execute_result"
    }
   ],
   "source": [
    "data.shape"
   ]
  },
  {
   "cell_type": "code",
   "execution_count": 46,
   "id": "1e8e299c",
   "metadata": {},
   "outputs": [
    {
     "ename": "AttributeError",
     "evalue": "module 'matplotlib' has no attribute 'get_data_path'",
     "output_type": "error",
     "traceback": [
      "\u001b[1;31m---------------------------------------------------------------------------\u001b[0m",
      "\u001b[1;31mAttributeError\u001b[0m                            Traceback (most recent call last)",
      "Input \u001b[1;32mIn [46]\u001b[0m, in \u001b[0;36m<cell line: 1>\u001b[1;34m()\u001b[0m\n\u001b[1;32m----> 1\u001b[0m \u001b[38;5;28;01mimport\u001b[39;00m \u001b[38;5;21;01mmatplotlib\u001b[39;00m\u001b[38;5;21;01m.\u001b[39;00m\u001b[38;5;21;01mpyplot\u001b[39;00m \u001b[38;5;28;01mas\u001b[39;00m \u001b[38;5;21;01mplt\u001b[39;00m\n\u001b[0;32m      2\u001b[0m plt\u001b[38;5;241m.\u001b[39mimshow(data[\u001b[38;5;241m0\u001b[39m])\n",
      "File \u001b[1;32mD:\\Anaconda\\lib\\site-packages\\matplotlib\\__init__.py:877\u001b[0m, in \u001b[0;36m<module>\u001b[1;34m\u001b[0m\n\u001b[0;32m    870\u001b[0m     \u001b[38;5;28;01mreturn\u001b[39;00m config\n\u001b[0;32m    873\u001b[0m \u001b[38;5;66;03m# When constructing the global instances, we need to perform certain updates\u001b[39;00m\n\u001b[0;32m    874\u001b[0m \u001b[38;5;66;03m# by explicitly calling the superclass (dict.update, dict.items) to avoid\u001b[39;00m\n\u001b[0;32m    875\u001b[0m \u001b[38;5;66;03m# triggering resolution of _auto_backend_sentinel.\u001b[39;00m\n\u001b[0;32m    876\u001b[0m rcParamsDefault \u001b[38;5;241m=\u001b[39m _rc_params_in_file(\n\u001b[1;32m--> 877\u001b[0m     \u001b[43mcbook\u001b[49m\u001b[38;5;241;43m.\u001b[39;49m\u001b[43m_get_data_path\u001b[49m\u001b[43m(\u001b[49m\u001b[38;5;124;43m\"\u001b[39;49m\u001b[38;5;124;43mmatplotlibrc\u001b[39;49m\u001b[38;5;124;43m\"\u001b[39;49m\u001b[43m)\u001b[49m,\n\u001b[0;32m    878\u001b[0m     \u001b[38;5;66;03m# Strip leading comment.\u001b[39;00m\n\u001b[0;32m    879\u001b[0m     transform\u001b[38;5;241m=\u001b[39m\u001b[38;5;28;01mlambda\u001b[39;00m line: line[\u001b[38;5;241m1\u001b[39m:] \u001b[38;5;28;01mif\u001b[39;00m line\u001b[38;5;241m.\u001b[39mstartswith(\u001b[38;5;124m\"\u001b[39m\u001b[38;5;124m#\u001b[39m\u001b[38;5;124m\"\u001b[39m) \u001b[38;5;28;01melse\u001b[39;00m line,\n\u001b[0;32m    880\u001b[0m     fail_on_error\u001b[38;5;241m=\u001b[39m\u001b[38;5;28;01mTrue\u001b[39;00m)\n\u001b[0;32m    881\u001b[0m \u001b[38;5;28mdict\u001b[39m\u001b[38;5;241m.\u001b[39mupdate(rcParamsDefault, rcsetup\u001b[38;5;241m.\u001b[39m_hardcoded_defaults)\n\u001b[0;32m    882\u001b[0m \u001b[38;5;66;03m# Normally, the default matplotlibrc file contains *no* entry for backend (the\u001b[39;00m\n\u001b[0;32m    883\u001b[0m \u001b[38;5;66;03m# corresponding line starts with ##, not #; we fill on _auto_backend_sentinel\u001b[39;00m\n\u001b[0;32m    884\u001b[0m \u001b[38;5;66;03m# in that case.  However, packagers can set a different default backend\u001b[39;00m\n\u001b[0;32m    885\u001b[0m \u001b[38;5;66;03m# (resulting in a normal `#backend: foo` line) in which case we should *not*\u001b[39;00m\n\u001b[0;32m    886\u001b[0m \u001b[38;5;66;03m# fill in _auto_backend_sentinel.\u001b[39;00m\n",
      "File \u001b[1;32mD:\\Anaconda\\lib\\site-packages\\matplotlib\\cbook\\__init__.py:518\u001b[0m, in \u001b[0;36m_get_data_path\u001b[1;34m(*args)\u001b[0m\n\u001b[0;32m    512\u001b[0m \u001b[38;5;28;01mdef\u001b[39;00m \u001b[38;5;21m_get_data_path\u001b[39m(\u001b[38;5;241m*\u001b[39margs):\n\u001b[0;32m    513\u001b[0m     \u001b[38;5;124;03m\"\"\"\u001b[39;00m\n\u001b[0;32m    514\u001b[0m \u001b[38;5;124;03m    Return the `pathlib.Path` to a resource file provided by Matplotlib.\u001b[39;00m\n\u001b[0;32m    515\u001b[0m \n\u001b[0;32m    516\u001b[0m \u001b[38;5;124;03m    ``*args`` specify a path relative to the base data path.\u001b[39;00m\n\u001b[0;32m    517\u001b[0m \u001b[38;5;124;03m    \"\"\"\u001b[39;00m\n\u001b[1;32m--> 518\u001b[0m     \u001b[38;5;28;01mreturn\u001b[39;00m Path(\u001b[43mmatplotlib\u001b[49m\u001b[38;5;241;43m.\u001b[39;49m\u001b[43mget_data_path\u001b[49m(), \u001b[38;5;241m*\u001b[39margs)\n",
      "\u001b[1;31mAttributeError\u001b[0m: module 'matplotlib' has no attribute 'get_data_path'"
     ]
    }
   ],
   "source": [
    "import matplotlib.pyplot as plt\n",
    "plt.imshow(data[0])"
   ]
  },
  {
   "cell_type": "code",
   "execution_count": 39,
   "id": "45837943",
   "metadata": {},
   "outputs": [],
   "source": [
    "li=[[[1,2],[3,4]],[[1,2],[3,4]]]\n",
    "a=np.array([i for i in li])"
   ]
  },
  {
   "cell_type": "code",
   "execution_count": 40,
   "id": "071f47f3",
   "metadata": {},
   "outputs": [
    {
     "data": {
      "text/plain": [
       "(2, 2, 2)"
      ]
     },
     "execution_count": 40,
     "metadata": {},
     "output_type": "execute_result"
    }
   ],
   "source": [
    "a.shape"
   ]
  },
  {
   "cell_type": "code",
   "execution_count": 53,
   "id": "9bc6a0d0",
   "metadata": {},
   "outputs": [
    {
     "data": {
      "text/plain": [
       "array([1, 2, 3, 4, 5, 6])"
      ]
     },
     "execution_count": 53,
     "metadata": {},
     "output_type": "execute_result"
    }
   ],
   "source": [
    "a=np.array([1,2,3])\n",
    "b=np.array([4,5,6])\n",
    "a=np.append(a,b,axis=0)\n",
    "a"
   ]
  },
  {
   "cell_type": "code",
   "execution_count": 59,
   "id": "1b2e2ebb",
   "metadata": {},
   "outputs": [],
   "source": [
    "a=np.array([[[1,2,3],[4,5,6]],[[4,5,6],[7,8,9]]])\n",
    "b=np.array([i.reshape(6,) for i in a])"
   ]
  },
  {
   "cell_type": "code",
   "execution_count": 60,
   "id": "0df9fbf4",
   "metadata": {},
   "outputs": [
    {
     "data": {
      "text/plain": [
       "array([[1, 2, 3, 4, 5, 6],\n",
       "       [4, 5, 6, 7, 8, 9]])"
      ]
     },
     "execution_count": 60,
     "metadata": {},
     "output_type": "execute_result"
    }
   ],
   "source": [
    "b"
   ]
  },
  {
   "cell_type": "code",
   "execution_count": null,
   "id": "339a4dd4",
   "metadata": {},
   "outputs": [],
   "source": []
  }
 ],
 "metadata": {
  "kernelspec": {
   "display_name": "Python 3 (ipykernel)",
   "language": "python",
   "name": "python3"
  },
  "language_info": {
   "codemirror_mode": {
    "name": "ipython",
    "version": 3
   },
   "file_extension": ".py",
   "mimetype": "text/x-python",
   "name": "python",
   "nbconvert_exporter": "python",
   "pygments_lexer": "ipython3",
   "version": "3.10.6"
  }
 },
 "nbformat": 4,
 "nbformat_minor": 5
}
