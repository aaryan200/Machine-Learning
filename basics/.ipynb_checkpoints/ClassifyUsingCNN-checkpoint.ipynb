{
 "cells": [
  {
   "cell_type": "code",
   "execution_count": 5,
   "id": "10330936",
   "metadata": {},
   "outputs": [],
   "source": [
    "import numpy as np\n",
    "import tensorflow as tf\n",
    "from tensorflow import keras\n",
    "from tensorflow.keras.models import Sequential\n",
    "from tensorflow.keras.layers import Activation, Dense, Flatten, BatchNormalization, Conv2D, MaxPool2D\n",
    "from tensorflow.keras.optimizers import Adam\n",
    "from tensorflow.keras.metrics import categorical_crossentropy\n",
    "from tensorflow.keras.preprocessing.image import ImageDataGenerator\n",
    "from sklearn.metrics import confusion_matrix\n",
    "import itertools\n",
    "import os\n",
    "import shutil\n",
    "import random\n",
    "import glob\n",
    "import matplotlib.pyplot as plt\n",
    "from os import listdir\n",
    "from tensorflow.keras.applications import imagenet_utils\n",
    "from keras import Model\n",
    "import warnings\n",
    "from tensorflow.keras.preprocessing import image\n",
    "warnings.simplefilter(action='ignore', category=FutureWarning)\n",
    "from IPython.display import Image\n",
    "from keras.utils import load_img\n",
    "%matplotlib inline"
   ]
  },
  {
   "cell_type": "code",
   "execution_count": 2,
   "id": "1c3d9372",
   "metadata": {},
   "outputs": [],
   "source": [
    "# Make the val directory\n",
    "if os.path.isdir('val/Angelina Jolie') is False:\n",
    "    os.mkdir('val/')\n",
    "    li=listdir('test/')\n",
    "    for i in li:\n",
    "        os.mkdir(f'val/{i}/')\n",
    "        tempLi=listdir(f'test/{i}/')\n",
    "        for img in random.sample(tempLi,13):\n",
    "            shutil.move(f'test/{i}/{img}',f'val/{i}/')"
   ]
  },
  {
   "cell_type": "code",
   "execution_count": 3,
   "id": "d30e8b39",
   "metadata": {},
   "outputs": [],
   "source": [
    "li_scarlet=listdir('test/Scarlett Johansson/')\n",
    "if len(li_scarlet)!=14:\n",
    "    for img in random.sample(li_scarlet,13):\n",
    "        shutil.move(f'test/Scarlett Johansson/{img}','val/Scarlett Johansson/')"
   ]
  },
  {
   "cell_type": "code",
   "execution_count": 9,
   "id": "bcd3ec14",
   "metadata": {},
   "outputs": [
    {
     "name": "stdout",
     "output_type": "stream",
     "text": [
      "Found 1440 images belonging to 17 classes.\n",
      "Found 234 images belonging to 17 classes.\n",
      "Found 126 images belonging to 17 classes.\n"
     ]
    }
   ],
   "source": [
    "train_path='train/'\n",
    "valid_path='val/'\n",
    "test_path='test/'\n",
    "train_batches=ImageDataGenerator(preprocessing_function=keras.applications.mobilenet.preprocess_input).flow_from_directory(directory=train_path,\n",
    "                                                                                                                        target_size=(224,224),batch_size=10)\n",
    "valid_batches=ImageDataGenerator(preprocessing_function=keras.applications.mobilenet.preprocess_input).flow_from_directory(directory=valid_path,\n",
    "                                                                                                                        target_size=(224,224),batch_size=10)\n",
    "test_batches=ImageDataGenerator(preprocessing_function=keras.applications.mobilenet.preprocess_input).flow_from_directory(directory=test_path,\n",
    "                                                                                                                        target_size=(224,224),batch_size=10)"
   ]
  },
  {
   "cell_type": "code",
   "execution_count": 12,
   "id": "bf72a85a",
   "metadata": {},
   "outputs": [],
   "source": [
    "model=Sequential([\n",
    "    Conv2D(filters=100,kernel_size=(3,3),activation='relu',padding='valid',input_shape=(224,224,3)),\n",
    "    MaxPool2D(pool_size=(2,2),strides=2),\n",
    "    Conv2D(filters=75,kernel_size=(3,3),activation='relu',padding='valid'),\n",
    "    MaxPool2D(pool_size=(2,2),strides=2),\n",
    "    Conv2D(filters=45,kernel_size=(3,3),activation='relu',padding='valid'),\n",
    "    MaxPool2D(pool_size=(2,2),strides=2),\n",
    "    Flatten(),\n",
    "    Dense(units=45,activation='softmax'),\n",
    "    Dense(units=17,activation='softmax')\n",
    "])"
   ]
  },
  {
   "cell_type": "code",
   "execution_count": 13,
   "id": "58b5a719",
   "metadata": {},
   "outputs": [],
   "source": [
    "model.compile(optimizer=Adam(learning_rate=0.0001),loss='categorical_crossentropy',metrics=['accuracy'])"
   ]
  },
  {
   "cell_type": "code",
   "execution_count": 14,
   "id": "af46bf44",
   "metadata": {},
   "outputs": [
    {
     "name": "stdout",
     "output_type": "stream",
     "text": [
      "Epoch 1/8\n",
      "144/144 - 138s - loss: 2.8222 - accuracy: 0.1042 - val_loss: 2.7994 - val_accuracy: 0.1111 - 138s/epoch - 956ms/step\n",
      "Epoch 2/8\n",
      "144/144 - 130s - loss: 2.7859 - accuracy: 0.1444 - val_loss: 2.7715 - val_accuracy: 0.1368 - 130s/epoch - 900ms/step\n",
      "Epoch 3/8\n",
      "144/144 - 122s - loss: 2.7635 - accuracy: 0.1535 - val_loss: 2.7454 - val_accuracy: 0.1325 - 122s/epoch - 850ms/step\n",
      "Epoch 4/8\n",
      "144/144 - 124s - loss: 2.7516 - accuracy: 0.1611 - val_loss: 2.7340 - val_accuracy: 0.1880 - 124s/epoch - 863ms/step\n",
      "Epoch 5/8\n",
      "144/144 - 135s - loss: 2.7360 - accuracy: 0.1854 - val_loss: 2.7275 - val_accuracy: 0.1966 - 135s/epoch - 935ms/step\n",
      "Epoch 6/8\n",
      "144/144 - 131s - loss: 2.7200 - accuracy: 0.1861 - val_loss: 2.7185 - val_accuracy: 0.1752 - 131s/epoch - 910ms/step\n",
      "Epoch 7/8\n",
      "144/144 - 132s - loss: 2.7113 - accuracy: 0.1924 - val_loss: 2.7187 - val_accuracy: 0.1880 - 132s/epoch - 916ms/step\n",
      "Epoch 8/8\n",
      "144/144 - 126s - loss: 2.6963 - accuracy: 0.2014 - val_loss: 2.7260 - val_accuracy: 0.1838 - 126s/epoch - 876ms/step\n"
     ]
    },
    {
     "data": {
      "text/plain": [
       "<keras.callbacks.History at 0x29aa408c3d0>"
      ]
     },
     "execution_count": 14,
     "metadata": {},
     "output_type": "execute_result"
    }
   ],
   "source": [
    "model.fit(x=train_batches,validation_data=valid_batches,epochs=8,verbose=2)"
   ]
  },
  {
   "cell_type": "code",
   "execution_count": null,
   "id": "87c97d76",
   "metadata": {},
   "outputs": [],
   "source": []
  },
  {
   "cell_type": "code",
   "execution_count": null,
   "id": "f3c07384",
   "metadata": {},
   "outputs": [],
   "source": []
  },
  {
   "cell_type": "code",
   "execution_count": null,
   "id": "6888606a",
   "metadata": {},
   "outputs": [],
   "source": []
  },
  {
   "cell_type": "code",
   "execution_count": null,
   "id": "a43a2c2f",
   "metadata": {},
   "outputs": [],
   "source": []
  },
  {
   "cell_type": "code",
   "execution_count": null,
   "id": "8983583f",
   "metadata": {},
   "outputs": [],
   "source": []
  },
  {
   "cell_type": "code",
   "execution_count": null,
   "id": "ca6a5a4e",
   "metadata": {},
   "outputs": [],
   "source": []
  }
 ],
 "metadata": {
  "kernelspec": {
   "display_name": "Python 3 (ipykernel)",
   "language": "python",
   "name": "python3"
  },
  "language_info": {
   "codemirror_mode": {
    "name": "ipython",
    "version": 3
   },
   "file_extension": ".py",
   "mimetype": "text/x-python",
   "name": "python",
   "nbconvert_exporter": "python",
   "pygments_lexer": "ipython3",
   "version": "3.9.7"
  }
 },
 "nbformat": 4,
 "nbformat_minor": 5
}
