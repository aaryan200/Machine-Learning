{
 "cells": [
  {
   "cell_type": "code",
   "execution_count": 16,
   "id": "12a13e3c",
   "metadata": {},
   "outputs": [],
   "source": [
    "import tensorflow as tf\n",
    "from tensorflow import keras\n",
    "from keras.models import Sequential\n",
    "from keras.layers import Activation, Dense, Conv2D, MaxPooling2D\n",
    "from keras.optimizers import Adam\n",
    "from keras.metrics import categorical_crossentropy"
   ]
  },
  {
   "cell_type": "markdown",
   "id": "131fc544",
   "metadata": {},
   "source": [
    "# Input and output shape"
   ]
  },
  {
   "cell_type": "code",
   "execution_count": 10,
   "id": "6b18d884",
   "metadata": {},
   "outputs": [
    {
     "name": "stdout",
     "output_type": "stream",
     "text": [
      "(None, 3, 4)\n",
      "(None, 3, 16)\n"
     ]
    }
   ],
   "source": [
    "model = Sequential()\n",
    "layer_1 = Dense(16, input_shape = (3,4),use_bias=) \n",
    "model.add(layer_1)\n",
    "print(layer_1.input_shape)\n",
    "print(layer_1.output_shape)"
   ]
  },
  {
   "cell_type": "code",
   "execution_count": 11,
   "id": "9999599e",
   "metadata": {},
   "outputs": [],
   "source": [
    "# Regularizers\n",
    "from keras import regularizers\n",
    "kernel_regularizer=regularizers.L1L2(l1=1e-5, l2=1e-4),\n",
    "bias_regularizer=regularizers.L2(1e-4),\n",
    "activity_regularizer=regularizers.L2(1e-5)"
   ]
  },
  {
   "cell_type": "code",
   "execution_count": 14,
   "id": "8346b7c5",
   "metadata": {},
   "outputs": [
    {
     "data": {
      "text/plain": [
       "<keras.layers.convolutional.conv2d.Conv2D at 0x1b66402ee80>"
      ]
     },
     "execution_count": 14,
     "metadata": {},
     "output_type": "execute_result"
    }
   ],
   "source": [
    "# 32 filters or convolutions of size 3 X 3, with relu as activation function.\n",
    "Conv2D(32, 3, activation='relu') \n",
    "# Size of new matrix = size of old matrix - filter_size +1"
   ]
  },
  {
   "cell_type": "code",
   "execution_count": 17,
   "id": "eeef1aff",
   "metadata": {},
   "outputs": [
    {
     "data": {
      "text/plain": [
       "<keras.layers.pooling.max_pooling2d.MaxPooling2D at 0x1b6640dc7c0>"
      ]
     },
     "execution_count": 17,
     "metadata": {},
     "output_type": "execute_result"
    }
   ],
   "source": [
    "MaxPooling2D() # method for Max-pooling layer \n",
    "# default size of matrix is 2 X 2"
   ]
  },
  {
   "cell_type": "code",
   "execution_count": 22,
   "id": "9bcd86fc",
   "metadata": {},
   "outputs": [],
   "source": [
    "# To write the model, only hidden and the output layer is written\n",
    "model = Sequential([\n",
    "    Dense(units=16,input_shape=(1,),activation='relu'),\n",
    "    Dense(units=32,activation='relu'),\n",
    "    Dense(units=2,activation='relu')\n",
    "])"
   ]
  },
  {
   "cell_type": "code",
   "execution_count": 19,
   "id": "be397c6d",
   "metadata": {},
   "outputs": [],
   "source": [
    "# compile(\n",
    "#    optimizer, \n",
    "#    loss = None, \n",
    "#    metrics = None, \n",
    "#    loss_weights = None, \n",
    "#    sample_weight_mode = None, \n",
    "#    weighted_metrics = None, \n",
    "#    target_tensors = None\n",
    "# )\n",
    "# metrics = ['accuracy']\n",
    "# loss = 'sparse_categorical_crossentropy'\n",
    "# optimizer = Adam(learning_rate=0.0001)"
   ]
  },
  {
   "cell_type": "markdown",
   "id": "99e7dd0c",
   "metadata": {},
   "source": [
    "Adam optimization is a stochastic gradient descent method that is based on adaptive estimation of first-order and second-order moments."
   ]
  },
  {
   "cell_type": "code",
   "execution_count": 20,
   "id": "8865d659",
   "metadata": {},
   "outputs": [],
   "source": [
    "# model.fit(X, y, epochs = , batch_size = , shuffle = True(default),validation_data=val_data, verbose =2 (most preferable))\n",
    "# X, y − It is a tuple to evaluate your data.\n",
    "\n",
    "# epochs − no of times the model is needed to be evaluated during training.\n",
    "# validation_data -> validation data\n",
    "# batch_size − training instances.\n",
    "# This is how mini samples are included in one batch to be passed and processed by the data at one time"
   ]
  },
  {
   "cell_type": "code",
   "execution_count": null,
   "id": "efbb9989",
   "metadata": {},
   "outputs": [],
   "source": [
    "# model.fit(validation_split=0.1) i.e. 10% Here, shuffle only shuffles the training split created by it\n",
    "# metrics = ['accuracy','val_loss','val_accuracy']"
   ]
  },
  {
   "cell_type": "code",
   "execution_count": 18,
   "id": "83b33468",
   "metadata": {},
   "outputs": [
    {
     "name": "stdout",
     "output_type": "stream",
     "text": [
      "Model: \"sequential_7\"\n",
      "_________________________________________________________________\n",
      " Layer (type)                Output Shape              Param #   \n",
      "=================================================================\n",
      " dense_7 (Dense)             (None, 3, 16)             80        \n",
      "                                                                 \n",
      "=================================================================\n",
      "Total params: 80\n",
      "Trainable params: 80\n",
      "Non-trainable params: 0\n",
      "_________________________________________________________________\n"
     ]
    }
   ],
   "source": [
    "model.summary()"
   ]
  },
  {
   "cell_type": "code",
   "execution_count": null,
   "id": "9fa4c21d",
   "metadata": {},
   "outputs": [],
   "source": [
    "# Prediction\n",
    "prediction=model.predict(x=test_samples, batch_size=, verbose=0)\n",
    "# Verbose = 0 => no output from function\n",
    "# Verbose =2 => maximum output from function"
   ]
  },
  {
   "cell_type": "code",
   "execution_count": 26,
   "id": "99c465b7",
   "metadata": {},
   "outputs": [
    {
     "data": {
      "text/plain": [
       "array([0, 2, 0, 0], dtype=int64)"
      ]
     },
     "execution_count": 26,
     "metadata": {},
     "output_type": "execute_result"
    }
   ],
   "source": [
    "# prediction will be an array of probabilities that the test_case belongs to class 0 in 0th column, class 1 in 1st column and so on\n",
    "# To get the class use np.argmax\n",
    "import numpy as np\n",
    "a= np.array([\n",
    "    [0.98,0.01, 0.01],\n",
    "    [0.39,0.2,0.41],\n",
    "    [0.5,0.25,0.25],\n",
    "    [0.4,0.4,0.2]\n",
    "])\n",
    "b=np.argmax(a,axis=1) # Checks along each row\n",
    "b"
   ]
  },
  {
   "cell_type": "code",
   "execution_count": null,
   "id": "7d5c4bc5",
   "metadata": {},
   "outputs": [],
   "source": [
    "# Create confusion matrix\n",
    "from sklearn.metrics import confusion_matrix\n",
    "cm=confusion_matrix(y_true=test_labels,y_pred=np.argmax(predictions,axis=1))"
   ]
  },
  {
   "cell_type": "code",
   "execution_count": 27,
   "id": "4b2a847a",
   "metadata": {},
   "outputs": [
    {
     "data": {
      "image/png": "[encoded data removed]",
      "text/plain": [
       "<Figure size 576x432 with 2 Axes>"
      ]
     },
     "metadata": {
      "needs_background": "light"
     },
     "output_type": "display_data"
    }
   ],
   "source": [
    "def plot_confusion_matrix(cm,\n",
    "                          target_names,\n",
    "                          title='Confusion matrix',\n",
    "                          cmap=None,\n",
    "                          normalize=True):\n",
    "    \"\"\"\n",
    "    given a sklearn confusion matrix (cm), make a nice plot\n",
    "\n",
    "    Arguments\n",
    "    ---------\n",
    "    cm:           confusion matrix from sklearn.metrics.confusion_matrix\n",
    "\n",
    "    target_names: given classification classes such as [0, 1, 2]\n",
    "                  the class names, for example: ['high', 'medium', 'low']\n",
    "\n",
    "    title:        the text to display at the top of the matrix\n",
    "\n",
    "    cmap:         the gradient of the values displayed from matplotlib.pyplot.cm\n",
    "                  see http://matplotlib.org/examples/color/colormaps_reference.html\n",
    "                  plt.get_cmap('jet') or plt.cm.Blues\n",
    "\n",
    "    normalize:    If False, plot the raw numbers\n",
    "                  If True, plot the proportions\n",
    "\n",
    "    Usage\n",
    "    -----\n",
    "    plot_confusion_matrix(cm           = cm,                  # confusion matrix created by\n",
    "                                                              # sklearn.metrics.confusion_matrix\n",
    "                          normalize    = True,                # show proportions\n",
    "                          target_names = y_labels_vals,       # list of names of the classes\n",
    "                          title        = best_estimator_name) # title of graph\n",
    "\n",
    "    Citiation\n",
    "    ---------\n",
    "    http://scikit-learn.org/stable/auto_examples/model_selection/plot_confusion_matrix.html\n",
    "\n",
    "    \"\"\"\n",
    "    import matplotlib.pyplot as plt\n",
    "    import numpy as np\n",
    "    import itertools\n",
    "\n",
    "    accuracy = np.trace(cm) / float(np.sum(cm))\n",
    "    misclass = 1 - accuracy\n",
    "\n",
    "    if cmap is None:\n",
    "        cmap = plt.get_cmap('Blues')\n",
    "\n",
    "    plt.figure(figsize=(8, 6))\n",
    "    plt.imshow(cm, interpolation='nearest', cmap=cmap)\n",
    "    plt.title(title)\n",
    "    plt.colorbar()\n",
    "\n",
    "    if target_names is not None:\n",
    "        tick_marks = np.arange(len(target_names))\n",
    "        plt.xticks(tick_marks, target_names, rotation=45)\n",
    "        plt.yticks(tick_marks, target_names)\n",
    "\n",
    "    if normalize:\n",
    "        cm = cm.astype('float') / cm.sum(axis=1)[:, np.newaxis]\n",
    "\n",
    "\n",
    "    thresh = cm.max() / 1.5 if normalize else cm.max() / 2\n",
    "    for i, j in itertools.product(range(cm.shape[0]), range(cm.shape[1])):\n",
    "        if normalize:\n",
    "            plt.text(j, i, \"{:0.4f}\".format(cm[i, j]),\n",
    "                     horizontalalignment=\"center\",\n",
    "                     color=\"white\" if cm[i, j] > thresh else \"black\")\n",
    "        else:\n",
    "            plt.text(j, i, \"{:,}\".format(cm[i, j]),\n",
    "                     horizontalalignment=\"center\",\n",
    "                     color=\"white\" if cm[i, j] > thresh else \"black\")\n",
    "\n",
    "\n",
    "    plt.tight_layout()\n",
    "    plt.ylabel('True label')\n",
    "    plt.xlabel('Predicted label\\naccuracy={:0.4f}; misclass={:0.4f}'.format(accuracy, misclass))\n",
    "    plt.show()\n",
    "    \n",
    "plot_confusion_matrix(cm           = np.array([[ 1098,  1934,   807],\n",
    "                                              [  604,  4392,  6233],\n",
    "                                              [  162,  2362, 31760]]), \n",
    "                      normalize    = False,\n",
    "                      target_names = ['high', 'medium', 'low'],\n",
    "                      title        = \"Confusion Matrix\")\n",
    "# Use cm = cm generated by model"
   ]
  },
  {
   "cell_type": "markdown",
   "id": "b1469961",
   "metadata": {},
   "source": [
    "# Save and load a model"
   ]
  },
  {
   "cell_type": "code",
   "execution_count": null,
   "id": "18fbc20f",
   "metadata": {},
   "outputs": [],
   "source": [
    "# 1. model.save()\n",
    "# Everything (architecture, weights, optimizer etc.) is saved using h5 file\n",
    "import os.path\n",
    "if os.path.isfile('models/new_model.h5') is False:\n",
    "    model.save('models/new_model.h5')"
   ]
  },
  {
   "cell_type": "code",
   "execution_count": null,
   "id": "72198b0b",
   "metadata": {},
   "outputs": [],
   "source": [
    "# load\n",
    "from keras.models import load_model\n",
    "new_model=load_model('models/new_model.h5')\n",
    "# new_model.get_weights() -> gives the weights of the model"
   ]
  },
  {
   "cell_type": "code",
   "execution_count": 28,
   "id": "5d332476",
   "metadata": {},
   "outputs": [],
   "source": [
    "# 2. model.to_json()\n",
    "# Only architecture is saved, weights or training configuration is not saved\n",
    "# save as json\n",
    "json_string = model.to_json()\n",
    "\n",
    "# or save as YAML\n",
    "# yaml_string = model.to_yaml()"
   ]
  },
  {
   "cell_type": "code",
   "execution_count": 30,
   "id": "0f2eed4e",
   "metadata": {},
   "outputs": [
    {
     "name": "stdout",
     "output_type": "stream",
     "text": [
      "Model: \"sequential_8\"\n",
      "_________________________________________________________________\n",
      " Layer (type)                Output Shape              Param #   \n",
      "=================================================================\n",
      " dense_8 (Dense)             (None, 16)                32        \n",
      "                                                                 \n",
      " dense_9 (Dense)             (None, 32)                544       \n",
      "                                                                 \n",
      " dense_10 (Dense)            (None, 2)                 66        \n",
      "                                                                 \n",
      "=================================================================\n",
      "Total params: 642\n",
      "Trainable params: 642\n",
      "Non-trainable params: 0\n",
      "_________________________________________________________________\n"
     ]
    }
   ],
   "source": [
    "# model reconstruction usign json\n",
    "from keras.models import model_from_json\n",
    "model_architecture = model_from_json(json_string)\n",
    "model_architecture.summary()"
   ]
  },
  {
   "cell_type": "code",
   "execution_count": null,
   "id": "f7c2d064",
   "metadata": {},
   "outputs": [],
   "source": [
    "# 3. Save weights\n",
    "import os.path\n",
    "if os.path.isfile('models/myModelWeights.h5') is False:\n",
    "    model.save_weights('models/myModelWeights.h5')"
   ]
  },
  {
   "cell_type": "code",
   "execution_count": 31,
   "id": "1e3bb00e",
   "metadata": {
    "collapsed": true
   },
   "outputs": [
    {
     "ename": "FileNotFoundError",
     "evalue": "[Errno 2] Unable to open file (unable to open file: name = 'models/myModelWeights.h5', errno = 2, error message = 'No such file or directory', flags = 0, o_flags = 0)",
     "output_type": "error",
     "traceback": [
      "\u001b[1;31m---------------------------------------------------------------------------\u001b[0m",
      "\u001b[1;31mFileNotFoundError\u001b[0m                         Traceback (most recent call last)",
      "Input \u001b[1;32mIn [31]\u001b[0m, in \u001b[0;36m<cell line: 6>\u001b[1;34m()\u001b[0m\n\u001b[0;32m      1\u001b[0m model2\u001b[38;5;241m=\u001b[39m Sequential([\n\u001b[0;32m      2\u001b[0m     Dense(units\u001b[38;5;241m=\u001b[39m\u001b[38;5;241m16\u001b[39m,input_shape\u001b[38;5;241m=\u001b[39m(\u001b[38;5;241m1\u001b[39m,),activation\u001b[38;5;241m=\u001b[39m\u001b[38;5;124m'\u001b[39m\u001b[38;5;124mrelu\u001b[39m\u001b[38;5;124m'\u001b[39m),\n\u001b[0;32m      3\u001b[0m     Dense(units\u001b[38;5;241m=\u001b[39m\u001b[38;5;241m32\u001b[39m,activation\u001b[38;5;241m=\u001b[39m\u001b[38;5;124m'\u001b[39m\u001b[38;5;124mrelu\u001b[39m\u001b[38;5;124m'\u001b[39m),\n\u001b[0;32m      4\u001b[0m     Dense(units\u001b[38;5;241m=\u001b[39m\u001b[38;5;241m2\u001b[39m,activation\u001b[38;5;241m=\u001b[39m\u001b[38;5;124m'\u001b[39m\u001b[38;5;124mrelu\u001b[39m\u001b[38;5;124m'\u001b[39m)\n\u001b[0;32m      5\u001b[0m ])\n\u001b[1;32m----> 6\u001b[0m \u001b[43mmodel2\u001b[49m\u001b[38;5;241;43m.\u001b[39;49m\u001b[43mload_weights\u001b[49m\u001b[43m(\u001b[49m\u001b[38;5;124;43m'\u001b[39;49m\u001b[38;5;124;43mmodels/myModelWeights.h5\u001b[39;49m\u001b[38;5;124;43m'\u001b[39;49m\u001b[43m)\u001b[49m\n",
      "File \u001b[1;32mD:\\Anaconda\\lib\\site-packages\\keras\\utils\\traceback_utils.py:67\u001b[0m, in \u001b[0;36mfilter_traceback.<locals>.error_handler\u001b[1;34m(*args, **kwargs)\u001b[0m\n\u001b[0;32m     65\u001b[0m \u001b[38;5;28;01mexcept\u001b[39;00m \u001b[38;5;167;01mException\u001b[39;00m \u001b[38;5;28;01mas\u001b[39;00m e:  \u001b[38;5;66;03m# pylint: disable=broad-except\u001b[39;00m\n\u001b[0;32m     66\u001b[0m   filtered_tb \u001b[38;5;241m=\u001b[39m _process_traceback_frames(e\u001b[38;5;241m.\u001b[39m__traceback__)\n\u001b[1;32m---> 67\u001b[0m   \u001b[38;5;28;01mraise\u001b[39;00m e\u001b[38;5;241m.\u001b[39mwith_traceback(filtered_tb) \u001b[38;5;28;01mfrom\u001b[39;00m \u001b[38;5;28mNone\u001b[39m\n\u001b[0;32m     68\u001b[0m \u001b[38;5;28;01mfinally\u001b[39;00m:\n\u001b[0;32m     69\u001b[0m   \u001b[38;5;28;01mdel\u001b[39;00m filtered_tb\n",
      "File \u001b[1;32mD:\\Anaconda\\lib\\site-packages\\h5py\\_hl\\files.py:507\u001b[0m, in \u001b[0;36mFile.__init__\u001b[1;34m(self, name, mode, driver, libver, userblock_size, swmr, rdcc_nslots, rdcc_nbytes, rdcc_w0, track_order, fs_strategy, fs_persist, fs_threshold, fs_page_size, page_buf_size, min_meta_keep, min_raw_keep, locking, **kwds)\u001b[0m\n\u001b[0;32m    502\u001b[0m     fapl \u001b[38;5;241m=\u001b[39m make_fapl(driver, libver, rdcc_nslots, rdcc_nbytes, rdcc_w0,\n\u001b[0;32m    503\u001b[0m                      locking, page_buf_size, min_meta_keep, min_raw_keep, \u001b[38;5;241m*\u001b[39m\u001b[38;5;241m*\u001b[39mkwds)\n\u001b[0;32m    504\u001b[0m     fcpl \u001b[38;5;241m=\u001b[39m make_fcpl(track_order\u001b[38;5;241m=\u001b[39mtrack_order, fs_strategy\u001b[38;5;241m=\u001b[39mfs_strategy,\n\u001b[0;32m    505\u001b[0m                      fs_persist\u001b[38;5;241m=\u001b[39mfs_persist, fs_threshold\u001b[38;5;241m=\u001b[39mfs_threshold,\n\u001b[0;32m    506\u001b[0m                      fs_page_size\u001b[38;5;241m=\u001b[39mfs_page_size)\n\u001b[1;32m--> 507\u001b[0m     fid \u001b[38;5;241m=\u001b[39m make_fid(name, mode, userblock_size, fapl, fcpl, swmr\u001b[38;5;241m=\u001b[39mswmr)\n\u001b[0;32m    509\u001b[0m \u001b[38;5;28;01mif\u001b[39;00m \u001b[38;5;28misinstance\u001b[39m(libver, \u001b[38;5;28mtuple\u001b[39m):\n\u001b[0;32m    510\u001b[0m     \u001b[38;5;28mself\u001b[39m\u001b[38;5;241m.\u001b[39m_libver \u001b[38;5;241m=\u001b[39m libver\n",
      "File \u001b[1;32mD:\\Anaconda\\lib\\site-packages\\h5py\\_hl\\files.py:220\u001b[0m, in \u001b[0;36mmake_fid\u001b[1;34m(name, mode, userblock_size, fapl, fcpl, swmr)\u001b[0m\n\u001b[0;32m    218\u001b[0m     \u001b[38;5;28;01mif\u001b[39;00m swmr \u001b[38;5;129;01mand\u001b[39;00m swmr_support:\n\u001b[0;32m    219\u001b[0m         flags \u001b[38;5;241m|\u001b[39m\u001b[38;5;241m=\u001b[39m h5f\u001b[38;5;241m.\u001b[39mACC_SWMR_READ\n\u001b[1;32m--> 220\u001b[0m     fid \u001b[38;5;241m=\u001b[39m \u001b[43mh5f\u001b[49m\u001b[38;5;241;43m.\u001b[39;49m\u001b[43mopen\u001b[49m\u001b[43m(\u001b[49m\u001b[43mname\u001b[49m\u001b[43m,\u001b[49m\u001b[43m \u001b[49m\u001b[43mflags\u001b[49m\u001b[43m,\u001b[49m\u001b[43m \u001b[49m\u001b[43mfapl\u001b[49m\u001b[38;5;241;43m=\u001b[39;49m\u001b[43mfapl\u001b[49m\u001b[43m)\u001b[49m\n\u001b[0;32m    221\u001b[0m \u001b[38;5;28;01melif\u001b[39;00m mode \u001b[38;5;241m==\u001b[39m \u001b[38;5;124m'\u001b[39m\u001b[38;5;124mr+\u001b[39m\u001b[38;5;124m'\u001b[39m:\n\u001b[0;32m    222\u001b[0m     fid \u001b[38;5;241m=\u001b[39m h5f\u001b[38;5;241m.\u001b[39mopen(name, h5f\u001b[38;5;241m.\u001b[39mACC_RDWR, fapl\u001b[38;5;241m=\u001b[39mfapl)\n",
      "File \u001b[1;32mh5py\\_objects.pyx:54\u001b[0m, in \u001b[0;36mh5py._objects.with_phil.wrapper\u001b[1;34m()\u001b[0m\n",
      "File \u001b[1;32mh5py\\_objects.pyx:55\u001b[0m, in \u001b[0;36mh5py._objects.with_phil.wrapper\u001b[1;34m()\u001b[0m\n",
      "File \u001b[1;32mh5py\\h5f.pyx:106\u001b[0m, in \u001b[0;36mh5py.h5f.open\u001b[1;34m()\u001b[0m\n",
      "\u001b[1;31mFileNotFoundError\u001b[0m: [Errno 2] Unable to open file (unable to open file: name = 'models/myModelWeights.h5', errno = 2, error message = 'No such file or directory', flags = 0, o_flags = 0)"
     ]
    }
   ],
   "source": [
    "model2= Sequential([\n",
    "    Dense(units=16,input_shape=(1,),activation='relu'),\n",
    "    Dense(units=32,activation='relu'),\n",
    "    Dense(units=2,activation='relu')\n",
    "])\n",
    "model2.load_weights('models/myModelWeights.h5')"
   ]
  },
  {
   "cell_type": "code",
   "execution_count": null,
   "id": "5a42fbdd",
   "metadata": {},
   "outputs": [],
   "source": [
    "model2.get_weights()"
   ]
  },
  {
   "cell_type": "code",
   "execution_count": 33,
   "id": "d3cd15bb",
   "metadata": {},
   "outputs": [],
   "source": [
    "import os\n",
    "os.chdir?"
   ]
  },
  {
   "cell_type": "code",
   "execution_count": null,
   "id": "c85032e8",
   "metadata": {},
   "outputs": [],
   "source": []
  },
  {
   "cell_type": "code",
   "execution_count": null,
   "id": "3afa4214",
   "metadata": {},
   "outputs": [],
   "source": []
  },
  {
   "cell_type": "code",
   "execution_count": null,
   "id": "a9be7d3b",
   "metadata": {},
   "outputs": [],
   "source": []
  },
  {
   "cell_type": "code",
   "execution_count": null,
   "id": "5e07986a",
   "metadata": {},
   "outputs": [],
   "source": []
  }
 ],
 "metadata": {
  "kernelspec": {
   "display_name": "Python 3 (ipykernel)",
   "language": "python",
   "name": "python3"
  },
  "language_info": {
   "codemirror_mode": {
    "name": "ipython",
    "version": 3
   },
   "file_extension": ".py",
   "mimetype": "text/x-python",
   "name": "python",
   "nbconvert_exporter": "python",
   "pygments_lexer": "ipython3",
   "version": "3.9.7"
  }
 },
 "nbformat": 4,
 "nbformat_minor": 5
}
