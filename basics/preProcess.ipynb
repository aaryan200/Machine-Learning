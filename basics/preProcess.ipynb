{
 "cells": [
  {
   "cell_type": "markdown",
   "id": "654fb7a3",
   "metadata": {},
   "source": [
    "# Normalize"
   ]
  },
  {
   "cell_type": "code",
   "execution_count": 7,
   "id": "83202807",
   "metadata": {},
   "outputs": [
    {
     "data": {
      "text/plain": [
       "array([[0.  , 0.  ],\n",
       "       [0.25, 0.25],\n",
       "       [0.5 , 1.  ],\n",
       "       [1.  , 0.5 ]])"
      ]
     },
     "execution_count": 7,
     "metadata": {},
     "output_type": "execute_result"
    }
   ],
   "source": [
    "from sklearn.preprocessing import MinMaxScaler\n",
    "import numpy as np\n",
    "data = np.array([[-1, 2], [-0.5, 6], [0, 18], [1, 10]])\n",
    "scaler=MinMaxScaler(feature_range=(0,1))\n",
    "new_dat=scaler.fit_transform(data)\n",
    "new_dat"
   ]
  },
  {
   "cell_type": "code",
   "execution_count": 8,
   "id": "3507ef5d",
   "metadata": {},
   "outputs": [],
   "source": [
    "import sys\n",
    "sys.path.append(\"../\")\n",
    "from makeImageData import imgData"
   ]
  },
  {
   "cell_type": "code",
   "execution_count": null,
   "id": "3b623d95",
   "metadata": {},
   "outputs": [],
   "source": []
  }
 ],
 "metadata": {
  "kernelspec": {
   "display_name": "Python 3 (ipykernel)",
   "language": "python",
   "name": "python3"
  },
  "language_info": {
   "codemirror_mode": {
    "name": "ipython",
    "version": 3
   },
   "file_extension": ".py",
   "mimetype": "text/x-python",
   "name": "python",
   "nbconvert_exporter": "python",
   "pygments_lexer": "ipython3",
   "version": "3.9.12"
  }
 },
 "nbformat": 4,
 "nbformat_minor": 5
}
