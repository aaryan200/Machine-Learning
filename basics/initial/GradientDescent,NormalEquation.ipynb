{
 "cells": [
  {
   "cell_type": "code",
   "execution_count": 17,
   "id": "b9b129d1",
   "metadata": {},
   "outputs": [],
   "source": [
    "import numpy as np\n",
    "def hval(th,X):\n",
    "    \"\"\"\n",
    "    th - (n+1)x1\n",
    "    X - 1x(n+1)\n",
    "    \"\"\" \n",
    "    import numpy as np\n",
    "    out=X@th\n",
    "    return out[0][0]\n",
    "\n",
    "def cost(th,X,y):\n",
    "    \"\"\"\n",
    "    th - (n+1)x1\n",
    "    X - mx(n+1)\n",
    "    y - mx1\n",
    "    \"\"\"\n",
    "    import numpy as np\n",
    "    m=y.shape[0]\n",
    "    c=0.0\n",
    "    for i in range(m):\n",
    "        temp=X[i]@th\n",
    "        c+=((temp[0]-y[i][0])**2)/2\n",
    "    return c\n",
    "\n",
    "def pred(X,y,test):\n",
    "    \"\"\"\n",
    "    X - mx(n+1)\n",
    "    y - mx1\n",
    "    test - 1x(n+1)\n",
    "    \"\"\"\n",
    "    import numpy as np\n",
    "    alp=1.0e-5\n",
    "    m=X.shape[0]\n",
    "    n=X.shape[1]-1\n",
    "    th=np.zeros(n+1)\n",
    "    th=th.reshape(n+1,1)\n",
    "    j0=cost(th,X,y)\n",
    "    residual=j0\n",
    "    while (abs(residual)>=1.0e-7):\n",
    "        for j in range(n+1):\n",
    "            t=0.0\n",
    "            for i in range(m):\n",
    "                t1=X[i].reshape(1,n+1)\n",
    "                t+=(hval(th,t1)-y[i])*X[i][j]\n",
    "            th[j][0]-=alp*t\n",
    "        j1=cost(th,X,y)\n",
    "        residual=j1-j0\n",
    "        j0=j1\n",
    "    return(hval(th,test))"
   ]
  },
  {
   "cell_type": "code",
   "execution_count": 30,
   "id": "ec83a872",
   "metadata": {},
   "outputs": [],
   "source": [
    "X = np.array([[1.0,21.04,5.0,1.0,45.0],[1.0,14.16,3.0,2.0,40.0],[1.0,15.34,3.0,2.0,30.0],[1.0,8.52,2.0,1.0,36.0]]) #2nd argumnet is 100 times given\n",
    "y=np.array([4.60,2.32,3.15,1.78]) #100 times given\n",
    "y=y.reshape(4,1)\n",
    "t=np.array([1.0,21.03,5.0,1.0,45.0])\n",
    "t=t.reshape(1,5)"
   ]
  },
  {
   "cell_type": "code",
   "execution_count": 27,
   "id": "481e9056",
   "metadata": {},
   "outputs": [
    {
     "data": {
      "text/plain": [
       "4.593545087681285"
      ]
     },
     "execution_count": 27,
     "metadata": {},
     "output_type": "execute_result"
    }
   ],
   "source": [
    "pred(X,y,t)"
   ]
  },
  {
   "cell_type": "code",
   "execution_count": 14,
   "id": "6079ba73",
   "metadata": {},
   "outputs": [],
   "source": [
    "t1=np.array([[1,2]])\n",
    "t2=np.array([[1],[2],[3],[4],[5]])\n",
    "# t3=t1@t2\n",
    "# t3[0][0]"
   ]
  },
  {
   "cell_type": "code",
   "execution_count": 16,
   "id": "a3661991",
   "metadata": {},
   "outputs": [
    {
     "data": {
      "text/plain": [
       "array([3236])"
      ]
     },
     "execution_count": 16,
     "metadata": {},
     "output_type": "execute_result"
    }
   ],
   "source": [
    "X[2]@t2"
   ]
  },
  {
   "cell_type": "code",
   "execution_count": 33,
   "id": "9a7c28aa",
   "metadata": {},
   "outputs": [],
   "source": [
    "def normal_eqn(X,y,test):\n",
    "    \"\"\"\n",
    "    X- mx(n+1)\n",
    "    y - mx1\n",
    "    test - 1x(n+1)\n",
    "    \"\"\"\n",
    "    import numpy as np\n",
    "    t1=np.transpose(X)\n",
    "    t2=t1@X\n",
    "    t3=t1@y\n",
    "    out=(np.linalg.inv(t2))@t3\n",
    "    return(hval(out,test))"
   ]
  },
  {
   "cell_type": "code",
   "execution_count": 35,
   "id": "354d6cfe",
   "metadata": {},
   "outputs": [
    {
     "data": {
      "text/plain": [
       "-2.95875"
      ]
     },
     "execution_count": 35,
     "metadata": {},
     "output_type": "execute_result"
    }
   ],
   "source": [
    "X = np.array([[1.0,21.04,5.0,1.0,45.0],[1.0,14.16,3.0,2.0,40.0],[1.0,15.34,3.0,2.0,30.0],[1.0,8.52,2.0,1.0,36.0]]) #2nd argumnet is 100 times given\n",
    "y=np.array([4.60,2.32,3.15,1.78]) #100 times given\n",
    "y=y.reshape(4,1)\n",
    "t1=np.array([1.0,21.04,5.0,1.0,45.0])\n",
    "t1=t1.reshape(1,5)\n",
    "normal_eqn(X,y,t1)"
   ]
  },
  {
   "cell_type": "code",
   "execution_count": 36,
   "id": "1e6bbbd1",
   "metadata": {},
   "outputs": [],
   "source": [
    "area=np.array([[1.0,2.104],[1.0,1.6],[1.0,2.4],[1.0,1.416],[1.0,3.0]])\n",
    "price=np.array([40.0,33.0,44.8,23.2,54.0]) #10000$\n",
    "price=price.reshape(5,1)"
   ]
  },
  {
   "cell_type": "code",
   "execution_count": 38,
   "id": "ed101c53",
   "metadata": {},
   "outputs": [
    {
     "data": {
      "text/plain": [
       "39.00000000000006"
      ]
     },
     "execution_count": 38,
     "metadata": {},
     "output_type": "execute_result"
    }
   ],
   "source": [
    "t2=np.array([1.0,2.104])\n",
    "t2=t2.reshape(1,2)\n",
    "normal_eqn(area,price,t2)"
   ]
  },
  {
   "cell_type": "code",
   "execution_count": null,
   "id": "8658f28d",
   "metadata": {},
   "outputs": [],
   "source": []
  }
 ],
 "metadata": {
  "kernelspec": {
   "display_name": "Python 3 (ipykernel)",
   "language": "python",
   "name": "python3"
  },
  "language_info": {
   "codemirror_mode": {
    "name": "ipython",
    "version": 3
   },
   "file_extension": ".py",
   "mimetype": "text/x-python",
   "name": "python",
   "nbconvert_exporter": "python",
   "pygments_lexer": "ipython3",
   "version": "3.9.7"
  }
 },
 "nbformat": 4,
 "nbformat_minor": 5
}
