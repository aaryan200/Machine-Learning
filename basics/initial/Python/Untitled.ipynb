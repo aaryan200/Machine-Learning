{
 "cells": [
  {
   "cell_type": "code",
   "execution_count": 1,
   "id": "f3295e4c",
   "metadata": {},
   "outputs": [],
   "source": [
    "import pandas as pd\n",
    "from sklearn.svm import SVR"
   ]
  },
  {
   "cell_type": "code",
   "execution_count": 2,
   "id": "09a82191",
   "metadata": {},
   "outputs": [],
   "source": [
    "clf=SVR(kernel=\"linear\")"
   ]
  },
  {
   "cell_type": "code",
   "execution_count": 3,
   "id": "3a1c85d8",
   "metadata": {},
   "outputs": [],
   "source": [
    "SVR.fit?"
   ]
  },
  {
   "cell_type": "code",
   "execution_count": 4,
   "id": "27fc4468",
   "metadata": {},
   "outputs": [],
   "source": [
    "from sklearn.svm import SVC\n",
    "SVC.fit?"
   ]
  },
  {
   "cell_type": "code",
   "execution_count": null,
   "id": "fab78fb2",
   "metadata": {},
   "outputs": [],
   "source": [
    "from sklearn.linear_model import Lo"
   ]
  }
 ],
 "metadata": {
  "kernelspec": {
   "display_name": "Python 3 (ipykernel)",
   "language": "python",
   "name": "python3"
  },
  "language_info": {
   "codemirror_mode": {
    "name": "ipython",
    "version": 3
   },
   "file_extension": ".py",
   "mimetype": "text/x-python",
   "name": "python",
   "nbconvert_exporter": "python",
   "pygments_lexer": "ipython3",
   "version": "3.9.7"
  }
 },
 "nbformat": 4,
 "nbformat_minor": 5
}
