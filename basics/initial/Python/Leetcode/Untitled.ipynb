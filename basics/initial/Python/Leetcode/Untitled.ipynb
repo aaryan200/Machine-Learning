{
 "cells": [
  {
   "cell_type": "code",
   "execution_count": 12,
   "id": "7fe12802",
   "metadata": {},
   "outputs": [
    {
     "data": {
      "text/plain": [
       "100"
      ]
     },
     "execution_count": 12,
     "metadata": {},
     "output_type": "execute_result"
    }
   ],
   "source": [
    "a=\"10*10\"\n",
    "c=list(a)\n",
    "b=eval(li_to_str(c))\n",
    "b"
   ]
  },
  {
   "cell_type": "code",
   "execution_count": 10,
   "id": "9d1b0eb4",
   "metadata": {},
   "outputs": [],
   "source": [
    "str.index?"
   ]
  },
  {
   "cell_type": "code",
   "execution_count": 40,
   "id": "0626df5e",
   "metadata": {},
   "outputs": [],
   "source": [
    "def my_swap(li,i,j):\n",
    "    li1=li\n",
    "    c=li1[i]\n",
    "    li1[i]=li1[j]\n",
    "    li1[j]=c\n",
    "    return li1\n",
    "def li_to_str(li):\n",
    "    s=\"\"\n",
    "    for i in li:\n",
    "        s=s+i\n",
    "    return s\n",
    "def minimize(expression):\n",
    "    li=[\"(\"]\n",
    "    t=len(expression)\n",
    "    for i in range(t):\n",
    "        li.append(expression[i])\n",
    "    li.append(\")\")\n",
    "    n=len(li)\n",
    "    m=li.index('+')\n",
    "    d={}\n",
    "    li2=li\n",
    "    temp=li_to_str(li2)\n",
    "    d[temp]=my_eval(temp)\n",
    "    for l in range(m-2):\n",
    "        for r in range(n-1,m+2,-1):\n",
    "            li2=my_swap(li2,r,r-1)\n",
    "            temp1=li_to_str(li2)\n",
    "            d[temp1]=my_eval(temp1)\n",
    "        li2=my_swap(li2,m+2,n-1)\n",
    "        li2=my_swap(li2,l,l+1)\n",
    "    max_key=max(d,key=d.get)\n",
    "    return max_key"
   ]
  },
  {
   "cell_type": "code",
   "execution_count": null,
   "id": "95874439",
   "metadata": {},
   "outputs": [],
   "source": []
  },
  {
   "cell_type": "code",
   "execution_count": 41,
   "id": "e62db01c",
   "metadata": {},
   "outputs": [
    {
     "ename": "SyntaxError",
     "evalue": "invalid syntax (<string>, line 1)",
     "output_type": "error",
     "traceback": [
      "Traceback \u001b[0;36m(most recent call last)\u001b[0m:\n",
      "  File \u001b[1;32m\"/home/aaryan/anaconda3/lib/python3.9/site-packages/IPython/core/interactiveshell.py\"\u001b[0m, line \u001b[1;32m3444\u001b[0m, in \u001b[1;35mrun_code\u001b[0m\n    exec(code_obj, self.user_global_ns, self.user_ns)\n",
      "  File \u001b[1;32m\"/tmp/ipykernel_22479/688211071.py\"\u001b[0m, line \u001b[1;32m2\u001b[0m, in \u001b[1;35m<module>\u001b[0m\n    minimize(s)\n",
      "  File \u001b[1;32m\"/tmp/ipykernel_22479/984915414.py\"\u001b[0m, line \u001b[1;32m28\u001b[0m, in \u001b[1;35mminimize\u001b[0m\n    d[temp1]=my_eval(temp1)\n",
      "\u001b[0;36m  File \u001b[0;32m\"/tmp/ipykernel_22479/3782382868.py\"\u001b[0;36m, line \u001b[0;32m15\u001b[0;36m, in \u001b[0;35mmy_eval\u001b[0;36m\u001b[0m\n\u001b[0;31m    return eval(temp)\u001b[0m\n",
      "\u001b[0;36m  File \u001b[0;32m\"<string>\"\u001b[0;36m, line \u001b[0;32m1\u001b[0m\n\u001b[0;31m    *(99+99)*9\u001b[0m\n\u001b[0m    ^\u001b[0m\n\u001b[0;31mSyntaxError\u001b[0m\u001b[0;31m:\u001b[0m invalid syntax\n"
     ]
    }
   ],
   "source": [
    "s=\"999+999\"\n",
    "minimize(s)"
   ]
  },
  {
   "cell_type": "code",
   "execution_count": 42,
   "id": "53b004ee",
   "metadata": {},
   "outputs": [
    {
     "data": {
      "text/plain": [
       "9882"
      ]
     },
     "execution_count": 42,
     "metadata": {},
     "output_type": "execute_result"
    }
   ],
   "source": [
    "ex=\"(999+99)*9\"\n",
    "eval(ex)"
   ]
  },
  {
   "cell_type": "code",
   "execution_count": 37,
   "id": "d9b008a4",
   "metadata": {},
   "outputs": [],
   "source": [
    "def my_eval(exp):\n",
    "    li=list(exp)\n",
    "    n=len(li)\n",
    "    l=li.index(\"(\")\n",
    "    r=li.index(\")\")\n",
    "    if (l>0 and r<n-1):\n",
    "        li1=li[0:l-1]\n",
    "        li1.append(\"*\")\n",
    "        for i in range(l,r+1):\n",
    "            li1.append(li[i])\n",
    "        li1.append(\"*\")\n",
    "        for i in range(r+1,n):\n",
    "            li1.append(li[i])\n",
    "        temp=li_to_str(li1)\n",
    "        return eval(temp)\n",
    "    elif (l==0 and r<n-1):\n",
    "        li1=[]\n",
    "        for i in range(0,r+1):\n",
    "            li1.append(li[i])\n",
    "        li1.append(\"*\")\n",
    "        for i in range(r+1,n):\n",
    "            li1.append(li[i])\n",
    "        temp=li_to_str(li1)\n",
    "        return eval(temp)\n",
    "    elif (l>0 and r==n-1):\n",
    "        li1=li[0:l-1]\n",
    "        li1.append(\"*\")\n",
    "        for i in range(l,r+1):\n",
    "            li1.append(li[i])\n",
    "        temp=li_to_str(li1)\n",
    "        return eval(temp)\n",
    "    else:\n",
    "        return eval(exp)"
   ]
  },
  {
   "cell_type": "code",
   "execution_count": null,
   "id": "822e0646",
   "metadata": {},
   "outputs": [],
   "source": []
  },
  {
   "cell_type": "code",
   "execution_count": null,
   "id": "82448af8",
   "metadata": {},
   "outputs": [],
   "source": []
  },
  {
   "cell_type": "code",
   "execution_count": null,
   "id": "9c66b0e0",
   "metadata": {},
   "outputs": [],
   "source": []
  },
  {
   "cell_type": "code",
   "execution_count": null,
   "id": "45df527b",
   "metadata": {},
   "outputs": [],
   "source": []
  },
  {
   "cell_type": "code",
   "execution_count": null,
   "id": "947b3615",
   "metadata": {},
   "outputs": [],
   "source": []
  }
 ],
 "metadata": {
  "kernelspec": {
   "display_name": "Python 3 (ipykernel)",
   "language": "python",
   "name": "python3"
  },
  "language_info": {
   "codemirror_mode": {
    "name": "ipython",
    "version": 3
   },
   "file_extension": ".py",
   "mimetype": "text/x-python",
   "name": "python",
   "nbconvert_exporter": "python",
   "pygments_lexer": "ipython3",
   "version": "3.9.7"
  }
 },
 "nbformat": 4,
 "nbformat_minor": 5
}
