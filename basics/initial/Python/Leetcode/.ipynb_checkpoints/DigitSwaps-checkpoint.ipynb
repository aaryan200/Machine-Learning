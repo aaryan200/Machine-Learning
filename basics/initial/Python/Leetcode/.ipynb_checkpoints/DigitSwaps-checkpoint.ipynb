{
 "cells": [
  {
   "cell_type": "code",
   "execution_count": 13,
   "id": "dc1d882a",
   "metadata": {},
   "outputs": [
    {
     "name": "stdout",
     "output_type": "stream",
     "text": [
      "2\n"
     ]
    },
    {
     "data": {
      "text/plain": [
       "[1, 2, 3, 4, 4]"
      ]
     },
     "execution_count": 13,
     "metadata": {},
     "output_type": "execute_result"
    }
   ],
   "source": [
    "n=\"12344\"\n",
    "li=list(n)\n",
    "li=[int(i) for i in li]\n",
    "print(li[1:len(li)].index(4))\n",
    "li"
   ]
  },
  {
   "cell_type": "code",
   "execution_count": 36,
   "id": "f93dc81e",
   "metadata": {},
   "outputs": [],
   "source": [
    "def my_swap(li,i,j):\n",
    "    c=li[i]\n",
    "    li[i]=li[j]\n",
    "    li[j]=c\n",
    "    return li\n",
    "def max_rem(li,rem):\n",
    "    li1=[]\n",
    "    for el in li:\n",
    "        if el%2==rem:\n",
    "            li1.append(el)\n",
    "    if len(li1)>=1:\n",
    "        return max(li1)\n",
    "    else:\n",
    "        return -1"
   ]
  },
  {
   "cell_type": "code",
   "execution_count": 37,
   "id": "714a9c9c",
   "metadata": {},
   "outputs": [],
   "source": [
    "def large(num):\n",
    "    num_str=str(num)\n",
    "    li=list(num_str)\n",
    "    li=[int(a) for a in li]\n",
    "    n=len(li)\n",
    "    for i in range(0,n-1):\n",
    "        rem=li[i]%2\n",
    "        m=max_rem(li[i+1:n],rem)\n",
    "        if m>li[i]:\n",
    "            j=li[i+1:n].index(m)\n",
    "            li=my_swap(li,i,j+i+1)\n",
    "    li=[str(a) for a in li]\n",
    "    s=\"\"\n",
    "    for el in li:\n",
    "        s=s+el\n",
    "    s=int(s)\n",
    "    return s"
   ]
  },
  {
   "cell_type": "code",
   "execution_count": 39,
   "id": "b4262214",
   "metadata": {
    "scrolled": true
   },
   "outputs": [
    {
     "name": "stdout",
     "output_type": "stream",
     "text": [
      "2\n",
      "0\n",
      "[8, 5, 6, 7, 5]\n",
      "3\n",
      "1\n",
      "[8, 7, 6, 5, 5]\n",
      "2\n",
      "[8, 7, 6, 5, 5]\n",
      "3\n",
      "[8, 7, 6, 5, 5]\n",
      "87655\n"
     ]
    }
   ],
   "source": [
    "n=65875\n",
    "print(large(n))"
   ]
  },
  {
   "cell_type": "code",
   "execution_count": null,
   "id": "44fc7d69",
   "metadata": {},
   "outputs": [],
   "source": []
  },
  {
   "cell_type": "code",
   "execution_count": null,
   "id": "69929156",
   "metadata": {},
   "outputs": [],
   "source": []
  }
 ],
 "metadata": {
  "kernelspec": {
   "display_name": "Python 3 (ipykernel)",
   "language": "python",
   "name": "python3"
  },
  "language_info": {
   "codemirror_mode": {
    "name": "ipython",
    "version": 3
   },
   "file_extension": ".py",
   "mimetype": "text/x-python",
   "name": "python",
   "nbconvert_exporter": "python",
   "pygments_lexer": "ipython3",
   "version": "3.9.7"
  }
 },
 "nbformat": 4,
 "nbformat_minor": 5
}
