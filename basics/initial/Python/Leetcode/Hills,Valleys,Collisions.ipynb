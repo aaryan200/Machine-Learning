{
 "cells": [
  {
   "cell_type": "code",
   "execution_count": 9,
   "id": "2eb6665d",
   "metadata": {},
   "outputs": [],
   "source": [
    "def countHillValley(nums):\n",
    "    n=len(nums)\n",
    "    count=0\n",
    "    for i in range(1,n-1):\n",
    "        count1=0\n",
    "        count2=0\n",
    "        for j in range(i-1,-1,-1):\n",
    "            if nums[j]!=nums[i]:\n",
    "                break\n",
    "            else:\n",
    "                count1+=1\n",
    "        if count1==i:\n",
    "            continue\n",
    "        else:\n",
    "            for k in range(i+1,n):\n",
    "                if nums[k]!=nums[i]:\n",
    "                    break\n",
    "                else:\n",
    "                    count2+=1\n",
    "            if count2==n-1-i:\n",
    "                continue\n",
    "            else:\n",
    "                if (nums[i]>nums[j] and nums[i]>nums[k] and nums[i]!=nums[i-1]):\n",
    "                    count+=1\n",
    "                elif (nums[i]<nums[j] and nums[i]<nums[k] and nums[i]!=nums[i-1]):\n",
    "                    count+=1\n",
    "                else:\n",
    "                    continue\n",
    "    return count"
   ]
  },
  {
   "cell_type": "code",
   "execution_count": 11,
   "id": "17bd03ae",
   "metadata": {},
   "outputs": [
    {
     "name": "stdout",
     "output_type": "stream",
     "text": [
      "0\n"
     ]
    }
   ],
   "source": [
    "li=[6,6,5,5,4,1]\n",
    "print(countHillValley(li))"
   ]
  },
  {
   "cell_type": "code",
   "execution_count": 19,
   "id": "d9b6fbcf",
   "metadata": {},
   "outputs": [],
   "source": [
    "def countCollision(directions):\n",
    "    di=list(directions)\n",
    "    n=len(directions)\n",
    "    col=0\n",
    "    for i in range(n):\n",
    "        if di[i]==\"L\":\n",
    "            if i>=1:\n",
    "                if di[i-1]==\"S\":\n",
    "                    col+=1\n",
    "                    di[i]=\"S\"\n",
    "                elif di[i-1]==\"R\":\n",
    "                    col+=2\n",
    "                    di[i-1]=\"S\"\n",
    "                    di[i]=\"S\"\n",
    "        if di[i]==\"S\":\n",
    "            if i>=1:\n",
    "                if di[i-1]==\"R\":\n",
    "                    col+=1\n",
    "                    di[i-1]=\"S\"\n",
    "            if i<n-1:\n",
    "                if di[i+1]==\"L\":\n",
    "                    col+=1\n",
    "                    di[i+1]=\"S\"\n",
    "        if di[i]==\"R\":\n",
    "            if i<n-1:\n",
    "                if di[i+1]==\"L\":\n",
    "                    col+=2\n",
    "                    di[i]=\"S\"\n",
    "                    di[i+1]=\"S\"\n",
    "                elif di[i+1]==\"S\":\n",
    "                    col+=1\n",
    "                    di[i]=\"S\"\n",
    "    for i in range(n-1,-1,-1):\n",
    "        if di[i]==\"L\":\n",
    "            if i>=1:\n",
    "                if di[i-1]==\"S\":\n",
    "                    col+=1\n",
    "                    di[i]=\"S\"\n",
    "                elif di[i-1]==\"R\":\n",
    "                    col+=2\n",
    "                    di[i-1]=\"S\"\n",
    "                    di[i]=\"S\"\n",
    "        if di[i]==\"S\":\n",
    "            if i>=1:\n",
    "                if di[i-1]==\"R\":\n",
    "                    col+=1\n",
    "                    di[i-1]=\"S\"\n",
    "            if i<n-1:\n",
    "                if di[i+1]==\"L\":\n",
    "                    col+=1\n",
    "                    di[i+1]=\"S\"\n",
    "        if di[i]==\"R\":\n",
    "            if i<n-1:\n",
    "                if di[i+1]==\"L\":\n",
    "                    col+=2\n",
    "                    di[i]=\"S\"\n",
    "                    di[i+1]=\"S\"\n",
    "                elif di[i+1]==\"S\":\n",
    "                    col+=1\n",
    "                    di[i]=\"S\"\n",
    "    return col"
   ]
  },
  {
   "cell_type": "code",
   "execution_count": 22,
   "id": "1a008e88",
   "metadata": {},
   "outputs": [
    {
     "data": {
      "text/plain": [
       "2"
      ]
     },
     "execution_count": 22,
     "metadata": {},
     "output_type": "execute_result"
    }
   ],
   "source": [
    "a=\"RRS\"\n",
    "countCollision(a)"
   ]
  },
  {
   "cell_type": "code",
   "execution_count": 13,
   "id": "78b2c19d",
   "metadata": {},
   "outputs": [
    {
     "data": {
      "text/plain": [
       "['A', 'a', 'r', 'y', 'a', 'n']"
      ]
     },
     "execution_count": 13,
     "metadata": {},
     "output_type": "execute_result"
    }
   ],
   "source": [
    "b"
   ]
  },
  {
   "cell_type": "code",
   "execution_count": 15,
   "id": "b60b20fe",
   "metadata": {},
   "outputs": [
    {
     "data": {
      "text/plain": [
       "True"
      ]
     },
     "execution_count": 15,
     "metadata": {},
     "output_type": "execute_result"
    }
   ],
   "source": [
    "b[0]=='A'"
   ]
  },
  {
   "cell_type": "code",
   "execution_count": 5,
   "id": "0210a475",
   "metadata": {},
   "outputs": [
    {
     "data": {
      "text/plain": [
       "['a', 'b', 'c', 's', 'd']"
      ]
     },
     "execution_count": 5,
     "metadata": {},
     "output_type": "execute_result"
    }
   ],
   "source": [
    "s=\"abcasbdbbcc\"\n",
    "diff_chars(s)"
   ]
  },
  {
   "cell_type": "code",
   "execution_count": 19,
   "id": "107b4b93",
   "metadata": {},
   "outputs": [],
   "source": [
    "def diff_chars(s):\n",
    "    n=len(s)\n",
    "    li=[]\n",
    "    for i in range(n):\n",
    "        c=0\n",
    "        for j in range(i):\n",
    "            if s[j]!=s[i]:\n",
    "                c+=1\n",
    "        if c==i:\n",
    "            li.append(s[i])\n",
    "    return li\n",
    "def li_to_str(li):\n",
    "    assert (type(i)==str for i in li)\n",
    "    s=\"\"\n",
    "    for i in li:\n",
    "        s=s+i\n",
    "    return s"
   ]
  },
  {
   "cell_type": "code",
   "execution_count": 10,
   "id": "73b9d9ae",
   "metadata": {},
   "outputs": [],
   "source": [
    "def len_req_substr(s):\n",
    "            diff=diff_chars(s)\n",
    "            n=len(s)\n",
    "            m=len(diff)\n",
    "            li=[]\n",
    "            c=1\n",
    "            i=1\n",
    "            while (i<n and s[i]==diff[0]):\n",
    "                c+=1\n",
    "                i+=1\n",
    "            li1=[c]\n",
    "            for i in range(1,n):\n",
    "                if (diff[0]==s[i] and s[i-1]!=s[i]):\n",
    "                    c1=1\n",
    "                    j=i+1\n",
    "                    while (j<n and s[j]==diff[0]):\n",
    "                        c1+=1\n",
    "                        j+=1\n",
    "                    li1.append(c1)\n",
    "            li.append(li1)\n",
    "            for i in range(1,m):\n",
    "                li2=[]\n",
    "                for j in range(1,n):\n",
    "                    if (diff[i]==s[j] and s[j]!=s[j-1]):\n",
    "                        c2=1\n",
    "                        k=j+1\n",
    "                        while (k<n and s[k]==diff[i]):\n",
    "                            c2+=1\n",
    "                            k+=1\n",
    "                        li2.append(c2)\n",
    "                li.append(li2)\n",
    "            for i in range(m):\n",
    "                li[i]=max(li[i])\n",
    "            return max(li)"
   ]
  },
  {
   "cell_type": "code",
   "execution_count": 23,
   "id": "17e0f3dd",
   "metadata": {},
   "outputs": [
    {
     "data": {
      "text/plain": [
       "'aaazz'"
      ]
     },
     "execution_count": 23,
     "metadata": {},
     "output_type": "execute_result"
    }
   ],
   "source": [
    "s=\"aaazz\"\n",
    "a=list(s)\n",
    "\n",
    "li_to_str(a)\n",
    "#len_req_substr(s)"
   ]
  },
  {
   "cell_type": "code",
   "execution_count": 24,
   "id": "2a46a00f",
   "metadata": {},
   "outputs": [],
   "source": [
    "def longestRepeating(s, queryCharacters, queryIndices):\n",
    "        li=list(s)\n",
    "        j=0\n",
    "        out=[]\n",
    "        for i in queryIndices:\n",
    "            li[i]=queryCharacters[j]\n",
    "            out.append(len_req_substr(li_to_str(li)))\n",
    "            j+=1\n",
    "        return out"
   ]
  },
  {
   "cell_type": "code",
   "execution_count": 27,
   "id": "58fefc8f",
   "metadata": {},
   "outputs": [
    {
     "data": {
      "text/plain": [
       "[6, 6, 6, 6, 6, 6, 6, 6, 6]"
      ]
     },
     "execution_count": 27,
     "metadata": {},
     "output_type": "execute_result"
    }
   ],
   "source": [
    "a=\"abyzzjfldsajfaskjfjlajjsdjfjfjjffffffjjjjjaadksksss\"\n",
    "b=\"aajjjjsss\"\n",
    "c=[2,1,2,3,4,6,7,8,10]\n",
    "longestRepeating(a,b,c)"
   ]
  },
  {
   "cell_type": "code",
   "execution_count": 30,
   "id": "c54f5333",
   "metadata": {
    "scrolled": true
   },
   "outputs": [
    {
     "name": "stdout",
     "output_type": "stream",
     "text": [
      "8.64 s ± 726 ms per loop (mean ± std. dev. of 7 runs, 2 loops each)\n"
     ]
    }
   ],
   "source": [
    "%%timeit -n 2\n",
    "a=\"wwwwllllggggggggggguuuuuuuuuuusffffffffffffffffffffffmmmmmmmmmeeeeeeeeeeeeeeeeeeeeoooooooooooooooooooooobbbbbbbbbyyyyyyyyyyyyyyyyykkkkksssssssssshhhhhhhhhhhbbbbbbbbbbyyyyyyyyyyssssssssssssssssszzzzzzzzzzzrbbbbbbbbbbbbbbbbbbbbbbbbggggggggglllllllljkkkkkkkkksssssssssssssssssssssssssspppppppppppfffffffflllllllllllllllllllllxxxxxxxxxxxxxxxxxxxssssssssssssssssssssssspppppppppppppjjjjjjjjjjjjjjjjjjjjjjjwwwwwwwwwwwwwwwwwqqqqqqqqqqqqqqqxxxxxxxxxxxxxxxxxxxxxxmmmmmmmmmmmmmmmmmmmmmlllleeeeeeeeeeeeeeeeeeeeeeeuuuuuuuuuuuuyyyyyyyyyyyyyyyyyyyyyyyyyyoooooooooooooooooooooooooooovfffnnnnnnssssssvvvvvvvvvvvcccccchtttttttttttttttttsssssssssssssssssssssssssqqqqqqqqqqqqqqqsbbbbbbbbbbbbbbbbbbbbbbbbbbuuuuuuuuuuuuuuuuuuuuuuuuuuudddddddddddddddddddddeeeeeeeeeeeeeeeeeeeeeeeeeeddaaaaaaaaaaaaaaaaaaaaeeeeeeeeeeeeerrrrrrrrrrrrrrrwwwwwwwwwwwwwwwwwwwwjjjjjjjjjjjjjjjjjj\"\n",
    "b=\"dddddddddddddddddddddddddddddddddddddddddddddddddddddddddddddddddddddddddyyyyyyyyyyyyyyyyyyyyyyyyyyyyyyyyyyyyyyyyyyyyyyyyyysssssssssssssssssssssssssssssaaaaaaaaaaaaaaaaaaaaaaaaaaaaaaaaaaaaaaaaaaaaaaaaaooooooooooooooooooooooooooooooooooooeeeeeeeeeeeeeeeeeeeee\"\n",
    "c=[725,770,728,771,723,753,774,730,739,779,744,740,775,785,764,769,733,754,757,788,767,731,760,784,745,759,742,780,782,729,734,773,789,790,738,746,721,741,762,722,726,772,752,724,777,765,737,719,732,735,720,768,751,781,786,776,787,727,749,755,756,758,718,747,763,748,750,736,778,761,766,783,743,242,208,257,214,240,248,238,246,253,255,239,216,224,217,251,234,221,254,235,232,225,252,226,210,213,230,233,209,243,256,219,229,227,231,237,244,247,228,245,250,215,223,212,220,222,241,218,211,249,236,764,757,765,776,766,772,763,775,777,759,779,760,770,780,755,771,761,753,769,773,768,752,754,756,778,774,767,762,758,581,600,571,604,602,614,589,605,609,573,594,608,582,579,607,611,574,591,590,569,616,592,586,578,613,576,572,596,601,575,588,603,606,570,595,577,587,580,585,597,583,584,593,610,598,599,615,617,612,203,197,202,205,207,187,200,210,194,204,180,196,213,211,198,186,206,190,212,185,193,208,181,201,209,184,182,215,192,188,183,191,195,189,199,214,441,448,447,453,442,454,437,449,450,440,438,455,445,435,444,446,439,443,452,436,451]\n",
    "longestRepeating(a,b,c)"
   ]
  },
  {
   "cell_type": "code",
   "execution_count": null,
   "id": "9d49576a",
   "metadata": {},
   "outputs": [],
   "source": []
  },
  {
   "cell_type": "code",
   "execution_count": null,
   "id": "7cb411b8",
   "metadata": {},
   "outputs": [],
   "source": []
  },
  {
   "cell_type": "code",
   "execution_count": null,
   "id": "9180622a",
   "metadata": {},
   "outputs": [],
   "source": []
  },
  {
   "cell_type": "code",
   "execution_count": null,
   "id": "3d46dbd2",
   "metadata": {},
   "outputs": [],
   "source": []
  },
  {
   "cell_type": "code",
   "execution_count": null,
   "id": "33f94902",
   "metadata": {},
   "outputs": [],
   "source": []
  },
  {
   "cell_type": "code",
   "execution_count": null,
   "id": "e06ba6a7",
   "metadata": {},
   "outputs": [],
   "source": []
  },
  {
   "cell_type": "code",
   "execution_count": null,
   "id": "1e446254",
   "metadata": {},
   "outputs": [],
   "source": []
  }
 ],
 "metadata": {
  "kernelspec": {
   "display_name": "Python 3 (ipykernel)",
   "language": "python",
   "name": "python3"
  },
  "language_info": {
   "codemirror_mode": {
    "name": "ipython",
    "version": 3
   },
   "file_extension": ".py",
   "mimetype": "text/x-python",
   "name": "python",
   "nbconvert_exporter": "python",
   "pygments_lexer": "ipython3",
   "version": "3.9.7"
  }
 },
 "nbformat": 4,
 "nbformat_minor": 5
}
