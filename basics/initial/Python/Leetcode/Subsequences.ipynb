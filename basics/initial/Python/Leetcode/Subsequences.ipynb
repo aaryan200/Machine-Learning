{
 "cells": [
  {
   "cell_type": "code",
   "execution_count": 7,
   "id": "8ce42517",
   "metadata": {},
   "outputs": [],
   "source": [
    "        def count_subsseq(t,p):\n",
    "            n=len(t)\n",
    "            count=0\n",
    "            for i in range(n):\n",
    "                if p[0]==t[i]:\n",
    "                    for j in range(i+1,n):\n",
    "                        if p[1]==t[j]:\n",
    "                            count+=1\n",
    "            return count\n",
    "        def li_to_str(li):\n",
    "            assert (type(i)==str for i in li)\n",
    "            s=\"\"\n",
    "            for i in li:\n",
    "                s=s+i\n",
    "            return s"
   ]
  },
  {
   "cell_type": "code",
   "execution_count": 4,
   "id": "13ce7f28",
   "metadata": {},
   "outputs": [
    {
     "data": {
      "text/plain": [
       "3"
      ]
     },
     "execution_count": 4,
     "metadata": {},
     "output_type": "execute_result"
    }
   ],
   "source": [
    "text = \"abdcadbc\"\n",
    "pattern = \"ac\"\n",
    "count_subsseq(text,pattern)"
   ]
  },
  {
   "cell_type": "code",
   "execution_count": 5,
   "id": "bce4f41f",
   "metadata": {},
   "outputs": [],
   "source": [
    "list.insert?"
   ]
  },
  {
   "cell_type": "code",
   "execution_count": 6,
   "id": "3bb01f97",
   "metadata": {},
   "outputs": [
    {
     "data": {
      "text/plain": [
       "[1, 2, 3, 8, 4, 5]"
      ]
     },
     "execution_count": 6,
     "metadata": {},
     "output_type": "execute_result"
    }
   ],
   "source": [
    "li=[1,2,3,4,5]\n",
    "li.insert(3,8)\n",
    "li"
   ]
  },
  {
   "cell_type": "code",
   "execution_count": 35,
   "id": "6c4dfbd0",
   "metadata": {},
   "outputs": [],
   "source": [
    "def req_count(text,pattern):\n",
    "    li=list(text)\n",
    "    n=len(li)\n",
    "    if ((pattern[0] in li)==True and (pattern[1] in li)==True):\n",
    "        i1=li.index(pattern[0])\n",
    "        i2=li.index(pattern[1])\n",
    "        li1=li[:]\n",
    "        li2=li[:]\n",
    "        li1.insert(i1+1,pattern[0])\n",
    "        li2.insert(i2+1,pattern[1])\n",
    "        a=max(count_subsseq(li_to_str(li1),pattern),count_subsseq(li_to_str(li2),pattern))\n",
    "        return a\n",
    "    elif ((pattern[0] in li)==False and (pattern[1] in li)==True):\n",
    "        i2=li.index(pattern[1])\n",
    "        li1=li[:]\n",
    "        li2=li[:]\n",
    "        li1.insert(0,pattern[0])\n",
    "        li2.insert(i2+1,pattern[1])\n",
    "        a=max(count_subsseq(li_to_str(li1),pattern),count_subsseq(li_to_str(li2),pattern))\n",
    "        return a\n",
    "    elif ((pattern[0] in li)==True and (pattern[1] in li)==False):\n",
    "        i1=li.index(pattern[0])\n",
    "        li1=li[:]\n",
    "        li2=li[:]\n",
    "        li1.insert(i1+1,pattern[0])\n",
    "        li2.append(pattern[1])\n",
    "        a=max(count_subsseq(li_to_str(li1),pattern),count_subsseq(li_to_str(li2),pattern))\n",
    "        return a\n",
    "    else:\n",
    "        return 0"
   ]
  },
  {
   "cell_type": "code",
   "execution_count": 37,
   "id": "ef129d61",
   "metadata": {},
   "outputs": [
    {
     "data": {
      "text/plain": [
       "2"
      ]
     },
     "execution_count": 37,
     "metadata": {},
     "output_type": "execute_result"
    }
   ],
   "source": [
    "text = \"iuvgbmteyivbfwuospxmmgzagfa\"\n",
    "pattern=\"ti\"\n",
    "req_count(text,pattern)"
   ]
  },
  {
   "cell_type": "code",
   "execution_count": 24,
   "id": "f9e2b9e0",
   "metadata": {},
   "outputs": [
    {
     "data": {
      "text/plain": [
       "True"
      ]
     },
     "execution_count": 24,
     "metadata": {},
     "output_type": "execute_result"
    }
   ],
   "source": [
    "pattern[0] in list(text)"
   ]
  },
  {
   "cell_type": "code",
   "execution_count": 25,
   "id": "15df6c4c",
   "metadata": {},
   "outputs": [
    {
     "data": {
      "text/plain": [
       "['a', 'a', 'b', 'b']"
      ]
     },
     "execution_count": 25,
     "metadata": {},
     "output_type": "execute_result"
    }
   ],
   "source": [
    "list(text)"
   ]
  },
  {
   "cell_type": "code",
   "execution_count": null,
   "id": "b5f7d9a1",
   "metadata": {},
   "outputs": [],
   "source": []
  },
  {
   "cell_type": "code",
   "execution_count": null,
   "id": "fa70c991",
   "metadata": {},
   "outputs": [],
   "source": []
  },
  {
   "cell_type": "code",
   "execution_count": null,
   "id": "51a4f9aa",
   "metadata": {},
   "outputs": [],
   "source": []
  },
  {
   "cell_type": "code",
   "execution_count": null,
   "id": "a36ee052",
   "metadata": {},
   "outputs": [],
   "source": []
  },
  {
   "cell_type": "code",
   "execution_count": null,
   "id": "dc0c8a23",
   "metadata": {},
   "outputs": [],
   "source": []
  },
  {
   "cell_type": "code",
   "execution_count": null,
   "id": "b4196ff7",
   "metadata": {},
   "outputs": [],
   "source": []
  }
 ],
 "metadata": {
  "kernelspec": {
   "display_name": "Python 3 (ipykernel)",
   "language": "python",
   "name": "python3"
  },
  "language_info": {
   "codemirror_mode": {
    "name": "ipython",
    "version": 3
   },
   "file_extension": ".py",
   "mimetype": "text/x-python",
   "name": "python",
   "nbconvert_exporter": "python",
   "pygments_lexer": "ipython3",
   "version": "3.9.7"
  }
 },
 "nbformat": 4,
 "nbformat_minor": 5
}
