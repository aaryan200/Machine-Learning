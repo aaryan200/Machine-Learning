{
 "cells": [
  {
   "cell_type": "markdown",
   "id": "3099fc13",
   "metadata": {},
   "source": [
    "Minimum Number of Operations to Convert Time"
   ]
  },
  {
   "cell_type": "code",
   "execution_count": 3,
   "id": "d84b48c8",
   "metadata": {},
   "outputs": [],
   "source": [
    "def convertTime(current, correct):\n",
    "        \"\"\"\n",
    "        :type current: str\n",
    "        :type correct: str\n",
    "        :rtype: int\n",
    "        \"\"\"\n",
    "        li=[60,15,5,1]\n",
    "        diff=(10*(int(correct[0]))+(int(correct[1]))-10*(int(current[0]))-(int(current[1])))*60 + (10*(int(correct[3]))+(int(correct[4]))-10*(int(current[3]))-(int(current[4])))\n",
    "        req=0\n",
    "        for i in range(4):\n",
    "            while (int(diff/li[i])>=1):\n",
    "                req+=1\n",
    "                diff-=li[i]\n",
    "            if diff==0:\n",
    "                break\n",
    "        return req"
   ]
  },
  {
   "cell_type": "code",
   "execution_count": 9,
   "id": "21f4c94e",
   "metadata": {},
   "outputs": [
    {
     "data": {
      "text/plain": [
       "17"
      ]
     },
     "execution_count": 9,
     "metadata": {},
     "output_type": "execute_result"
    }
   ],
   "source": [
    "curr=\"00:30\"\n",
    "corr=\"15:60\"\n",
    "convertTime(curr,corr)"
   ]
  },
  {
   "cell_type": "code",
   "execution_count": 48,
   "id": "54e75560",
   "metadata": {},
   "outputs": [],
   "source": [
    "def my_quicksort(lst):\n",
    "    if len(lst) <= 1:\n",
    "        sorted_list = lst\n",
    "    else:\n",
    "        pivot = lst[0]\n",
    "        bigger = []\n",
    "        smaller = []\n",
    "        same = []\n",
    "        for item in lst:\n",
    "            if item > pivot:\n",
    "                bigger.append(item)\n",
    "            elif item < pivot:\n",
    "                smaller.append(item)\n",
    "            else:  \n",
    "                same.append(item)\n",
    "        sorted_list = my_quicksort(smaller) + same +my_quicksort(bigger)\n",
    "    return sorted_list\n",
    "def check_before(i,j,mat):\n",
    "    assert j==0 or j==1\n",
    "    if i==0:\n",
    "        return 1\n",
    "    else:\n",
    "        for k in range(i):\n",
    "            if (mat[i][j]==mat[k][0] or mat[i][j]==mat[k][1]):\n",
    "                return 0\n",
    "        return 1\n",
    "def appear(i,j,mat):\n",
    "    if check_before(i,j,mat)==1:\n",
    "        out=1\n",
    "        n=len(mat)\n",
    "        for k in range(i+1,n):\n",
    "            if (mat[i][j]==mat[k][0] or mat[i][j]==mat[k][1]):\n",
    "                out+=1\n",
    "        return out\n",
    "def win_appear(i,mat):\n",
    "    if check_before(i,0,mat)==1:\n",
    "        out=1\n",
    "        n=len(mat)\n",
    "        for k in range(i+1,n):\n",
    "            if (mat[i][0]==mat[k][0]):\n",
    "                out+=1\n",
    "        return out\n",
    "def lose_appear(i,mat):\n",
    "    if check_before(i,1,mat)==1:\n",
    "        out=1\n",
    "        n=len(mat)\n",
    "        for k in range(i+1,n):\n",
    "            if (mat[i][1]==mat[k][1]):\n",
    "                out+=1\n",
    "        return out\n",
    "def findWinners(matches):\n",
    "    \"\"\"\n",
    "    :type matches: List[List[int]]\n",
    "    :rtype: List[List[int]]\n",
    "    \"\"\"\n",
    "    li1=[]\n",
    "    li2=[]\n",
    "    n=len(matches)\n",
    "    for i in range(n):\n",
    "        if check_before(i,0,matches)==1:\n",
    "            if (appear(i,0,matches)==win_appear(i,matches)):\n",
    "                li1.append(matches[i][0])\n",
    "        if lose_appear(i,matches)==1:\n",
    "            if (matches[i][1] in li2 == False):\n",
    "                li2.append(matches[i][1])\n",
    "    li1=my_quicksort(li1)\n",
    "    li2=my_quicksort(li2)\n",
    "    answer=[li1,li2]\n",
    "    return answer"
   ]
  },
  {
   "cell_type": "code",
   "execution_count": 49,
   "id": "cd4d72fa",
   "metadata": {},
   "outputs": [
    {
     "name": "stdout",
     "output_type": "stream",
     "text": [
      "[[1, 2, 10], []]\n"
     ]
    }
   ],
   "source": [
    "mat=[[1,3],[2,3],[3,6],[5,6],[5,7],[4,5],[4,8],[4,9],[10,4],[10,9]]\n",
    "#print(check_before(5,1,mat))\n",
    "#print(appear(3,0,mat))\n",
    "#print(win_appear(3,mat))\n",
    "#print(lose_appear(3,mat))\n",
    "#print(check_before(0,0,mat))\n",
    "print(findWinners(mat))"
   ]
  },
  {
   "cell_type": "code",
   "execution_count": 15,
   "id": "b23943fe",
   "metadata": {},
   "outputs": [
    {
     "data": {
      "text/plain": [
       "[1, 2, 32, 43, 323]"
      ]
     },
     "execution_count": 15,
     "metadata": {},
     "output_type": "execute_result"
    }
   ],
   "source": [
    "a=[1,323,43,32,2]\n",
    "#a=my_quicksort(a)\n",
    "a.sort()\n",
    "a"
   ]
  },
  {
   "cell_type": "code",
   "execution_count": 13,
   "id": "fcd7b0fe",
   "metadata": {},
   "outputs": [],
   "source": [
    "list.sort?"
   ]
  },
  {
   "cell_type": "code",
   "execution_count": 23,
   "id": "fa2ae79e",
   "metadata": {},
   "outputs": [
    {
     "data": {
      "text/plain": [
       "'Aa'"
      ]
     },
     "execution_count": 23,
     "metadata": {},
     "output_type": "execute_result"
    }
   ],
   "source": [
    "s1=\"Aaryan\"\n",
    "s2=\"Aa\"\n",
    "s1=\"\"\n",
    "s1+s2"
   ]
  },
  {
   "cell_type": "code",
   "execution_count": 18,
   "id": "53529e88",
   "metadata": {},
   "outputs": [
    {
     "data": {
      "text/plain": [
       "'2'"
      ]
     },
     "execution_count": 18,
     "metadata": {},
     "output_type": "execute_result"
    }
   ],
   "source": [
    "a=2\n",
    "str(a)"
   ]
  },
  {
   "cell_type": "code",
   "execution_count": 31,
   "id": "bedd1204",
   "metadata": {},
   "outputs": [],
   "source": [
    "def f(s,k):\n",
    "    while (len(s)>k):\n",
    "        n=len(s)\n",
    "        t=int(n/k)\n",
    "        li=[]\n",
    "        for i in range(0,t):\n",
    "            a=0\n",
    "            for j in range(k*i,k*i+k):\n",
    "                a+=int(s[j])\n",
    "            li.append(str(a))\n",
    "        if k*t<n:\n",
    "            b=0\n",
    "            for l in range(k*t,n):\n",
    "                b+=int(s[l])\n",
    "            li.append(str(b))\n",
    "        s=\"\"\n",
    "        for i in li:\n",
    "            s+=i\n",
    "        print(li)\n",
    "    return s"
   ]
  },
  {
   "cell_type": "code",
   "execution_count": 32,
   "id": "f1dc24d9",
   "metadata": {},
   "outputs": [
    {
     "name": "stdout",
     "output_type": "stream",
     "text": [
      "['3', '7']\n"
     ]
    },
    {
     "data": {
      "text/plain": [
       "'37'"
      ]
     },
     "execution_count": 32,
     "metadata": {},
     "output_type": "execute_result"
    }
   ],
   "source": [
    "s = \"1234\"\n",
    "k = 2\n",
    "f(s,k)"
   ]
  },
  {
   "cell_type": "code",
   "execution_count": 1,
   "id": "6e0b917f",
   "metadata": {},
   "outputs": [],
   "source": [
    "import numpy as np"
   ]
  },
  {
   "cell_type": "code",
   "execution_count": 6,
   "id": "bd515daf",
   "metadata": {},
   "outputs": [
    {
     "name": "stderr",
     "output_type": "stream",
     "text": [
      "/tmp/ipykernel_5588/2843548108.py:1: VisibleDeprecationWarning: Creating an ndarray from ragged nested sequences (which is a list-or-tuple of lists-or-tuples-or ndarrays with different lengths or shapes) is deprecated. If you meant to do this, you must specify 'dtype=object' when creating the ndarray.\n",
      "  a=np.array([[1,2,3],[4,5]])\n"
     ]
    }
   ],
   "source": [
    "a=np.array([[1,2,3],[4,5]])"
   ]
  },
  {
   "cell_type": "code",
   "execution_count": 8,
   "id": "02c83ea3",
   "metadata": {},
   "outputs": [
    {
     "data": {
      "text/plain": [
       "array([list([1, 2, 3]), list([4, 5]), 6], dtype=object)"
      ]
     },
     "execution_count": 8,
     "metadata": {},
     "output_type": "execute_result"
    }
   ],
   "source": [
    "np.append(a,6)"
   ]
  },
  {
   "cell_type": "code",
   "execution_count": 9,
   "id": "9892d751",
   "metadata": {},
   "outputs": [],
   "source": [
    "np.append?"
   ]
  },
  {
   "cell_type": "code",
   "execution_count": 10,
   "id": "de072723",
   "metadata": {},
   "outputs": [],
   "source": [
    "li=[1,2,3]"
   ]
  },
  {
   "cell_type": "code",
   "execution_count": 15,
   "id": "cbd4f009",
   "metadata": {},
   "outputs": [
    {
     "name": "stdout",
     "output_type": "stream",
     "text": [
      "1+2+3\n"
     ]
    }
   ],
   "source": [
    "print(*li,sep='+')"
   ]
  },
  {
   "cell_type": "code",
   "execution_count": 16,
   "id": "b4bee053",
   "metadata": {},
   "outputs": [
    {
     "ename": "NameError",
     "evalue": "name 'EOF' is not defined",
     "output_type": "error",
     "traceback": [
      "\u001b[0;31m---------------------------------------------------------------------------\u001b[0m",
      "\u001b[0;31mNameError\u001b[0m                                 Traceback (most recent call last)",
      "\u001b[0;32m/tmp/ipykernel_5588/4279067727.py\u001b[0m in \u001b[0;36m<module>\u001b[0;34m\u001b[0m\n\u001b[0;32m----> 1\u001b[0;31m \u001b[0mEOF\u001b[0m\u001b[0;34m\u001b[0m\u001b[0;34m\u001b[0m\u001b[0m\n\u001b[0m",
      "\u001b[0;31mNameError\u001b[0m: name 'EOF' is not defined"
     ]
    }
   ],
   "source": []
  },
  {
   "cell_type": "code",
   "execution_count": null,
   "id": "0e68ebf3",
   "metadata": {},
   "outputs": [],
   "source": []
  },
  {
   "cell_type": "code",
   "execution_count": null,
   "id": "2c1b47e7",
   "metadata": {},
   "outputs": [],
   "source": []
  },
  {
   "cell_type": "code",
   "execution_count": null,
   "id": "ace2f6c9",
   "metadata": {},
   "outputs": [],
   "source": []
  },
  {
   "cell_type": "code",
   "execution_count": null,
   "id": "f6c12c3b",
   "metadata": {},
   "outputs": [],
   "source": []
  },
  {
   "cell_type": "code",
   "execution_count": null,
   "id": "85878b01",
   "metadata": {},
   "outputs": [],
   "source": []
  },
  {
   "cell_type": "code",
   "execution_count": null,
   "id": "cdb09b86",
   "metadata": {},
   "outputs": [],
   "source": []
  },
  {
   "cell_type": "code",
   "execution_count": null,
   "id": "f0b60e0e",
   "metadata": {},
   "outputs": [],
   "source": []
  },
  {
   "cell_type": "code",
   "execution_count": null,
   "id": "5c754765",
   "metadata": {},
   "outputs": [],
   "source": []
  },
  {
   "cell_type": "code",
   "execution_count": null,
   "id": "5dfa54d0",
   "metadata": {},
   "outputs": [],
   "source": []
  },
  {
   "cell_type": "code",
   "execution_count": null,
   "id": "a6dd1fa3",
   "metadata": {},
   "outputs": [],
   "source": []
  },
  {
   "cell_type": "code",
   "execution_count": null,
   "id": "0cd49ee4",
   "metadata": {},
   "outputs": [],
   "source": []
  },
  {
   "cell_type": "code",
   "execution_count": null,
   "id": "c164ee13",
   "metadata": {},
   "outputs": [],
   "source": []
  },
  {
   "cell_type": "code",
   "execution_count": null,
   "id": "bbf1ed3e",
   "metadata": {},
   "outputs": [],
   "source": []
  },
  {
   "cell_type": "code",
   "execution_count": null,
   "id": "e2c40bda",
   "metadata": {},
   "outputs": [],
   "source": []
  }
 ],
 "metadata": {
  "kernelspec": {
   "display_name": "Python 3 (ipykernel)",
   "language": "python",
   "name": "python3"
  },
  "language_info": {
   "codemirror_mode": {
    "name": "ipython",
    "version": 3
   },
   "file_extension": ".py",
   "mimetype": "text/x-python",
   "name": "python",
   "nbconvert_exporter": "python",
   "pygments_lexer": "ipython3",
   "version": "3.9.7"
  }
 },
 "nbformat": 4,
 "nbformat_minor": 5
}
