{
 "cells": [
  {
   "cell_type": "code",
   "execution_count": 1,
   "id": "36e2f2de",
   "metadata": {},
   "outputs": [],
   "source": [
    "s = \"aabc\"\n",
    "dict1={}"
   ]
  },
  {
   "cell_type": "code",
   "execution_count": 7,
   "id": "6a4a1948",
   "metadata": {},
   "outputs": [],
   "source": [
    "def long_down_i(i,d,li):\n",
    "    if len(li[i]>=1):\n",
    "        li1=[]\n",
    "        for dau in li[i]:\n",
    "            if d[dau]==d[i]:\n",
    "                continue\n",
    "            else:\n",
    "                li1.append(long_down_i(dau,d,li))\n",
    "        out=max(li1)+1\n",
    "        return out\n",
    "    else:\n",
    "        return 1\n",
    "\n",
    "def long_up_i(i,d,li):\n",
    "    \n",
    "\n",
    "def longest(parent,s):\n",
    "    d={}\n",
    "    n=len(s)\n",
    "    m=len(parent)\n",
    "    for i in range(n):\n",
    "        d[i]=s[i]\n",
    "    li=[]\n",
    "    for temp in range(0,n):\n",
    "        li1=[]\n",
    "        for i in range(m):\n",
    "            if (temp==parent[i]):\n",
    "                li1.append(i)\n",
    "        li.append(li1)\n",
    "    "
   ]
  },
  {
   "cell_type": "code",
   "execution_count": 5,
   "id": "61d9672f",
   "metadata": {},
   "outputs": [
    {
     "data": {
      "text/plain": [
       "3"
      ]
     },
     "execution_count": 5,
     "metadata": {},
     "output_type": "execute_result"
    }
   ],
   "source": [
    "li=[1,2,3]\n",
    "max(li)"
   ]
  },
  {
   "cell_type": "code",
   "execution_count": 14,
   "id": "c4929064",
   "metadata": {},
   "outputs": [],
   "source": [
    "d={1:3,2:4}"
   ]
  },
  {
   "cell_type": "code",
   "execution_count": 16,
   "id": "27d9cfff",
   "metadata": {},
   "outputs": [
    {
     "data": {
      "text/plain": [
       "3"
      ]
     },
     "execution_count": 16,
     "metadata": {},
     "output_type": "execute_result"
    }
   ],
   "source": [
    "d[1]"
   ]
  },
  {
   "cell_type": "code",
   "execution_count": 12,
   "id": "20c97244",
   "metadata": {},
   "outputs": [
    {
     "ename": "ValueError",
     "evalue": "max() arg is an empty sequence",
     "output_type": "error",
     "traceback": [
      "\u001b[0;31m---------------------------------------------------------------------------\u001b[0m",
      "\u001b[0;31mValueError\u001b[0m                                Traceback (most recent call last)",
      "\u001b[0;32m/tmp/ipykernel_7324/2913650557.py\u001b[0m in \u001b[0;36m<module>\u001b[0;34m\u001b[0m\n\u001b[1;32m      1\u001b[0m \u001b[0mli\u001b[0m\u001b[0;34m=\u001b[0m\u001b[0;34m[\u001b[0m\u001b[0;34m]\u001b[0m\u001b[0;34m\u001b[0m\u001b[0;34m\u001b[0m\u001b[0m\n\u001b[0;32m----> 2\u001b[0;31m \u001b[0mmax\u001b[0m\u001b[0;34m(\u001b[0m\u001b[0mli\u001b[0m\u001b[0;34m)\u001b[0m\u001b[0;34m\u001b[0m\u001b[0;34m\u001b[0m\u001b[0m\n\u001b[0m",
      "\u001b[0;31mValueError\u001b[0m: max() arg is an empty sequence"
     ]
    }
   ],
   "source": [
    "li=[]\n",
    "max(li)"
   ]
  },
  {
   "cell_type": "code",
   "execution_count": 17,
   "id": "10608771",
   "metadata": {},
   "outputs": [],
   "source": [
    "def f():\n",
    "    return(1,2)"
   ]
  },
  {
   "cell_type": "code",
   "execution_count": 19,
   "id": "fa2d4dc4",
   "metadata": {},
   "outputs": [
    {
     "data": {
      "text/plain": [
       "1"
      ]
     },
     "execution_count": 19,
     "metadata": {},
     "output_type": "execute_result"
    }
   ],
   "source": [
    "f()[0]"
   ]
  },
  {
   "cell_type": "code",
   "execution_count": 2,
   "id": "a197d95d",
   "metadata": {},
   "outputs": [],
   "source": [
    "import itertools"
   ]
  },
  {
   "cell_type": "code",
   "execution_count": 3,
   "id": "cccead1d",
   "metadata": {},
   "outputs": [
    {
     "data": {
      "text/plain": [
       "<itertools.permutations at 0x7ff83c3e4c70>"
      ]
     },
     "execution_count": 3,
     "metadata": {},
     "output_type": "execute_result"
    }
   ],
   "source": [
    "itertools.permutations(range(3), 2)"
   ]
  },
  {
   "cell_type": "code",
   "execution_count": null,
   "id": "5b5c23f4",
   "metadata": {},
   "outputs": [],
   "source": []
  },
  {
   "cell_type": "code",
   "execution_count": null,
   "id": "e2c78c32",
   "metadata": {},
   "outputs": [],
   "source": []
  },
  {
   "cell_type": "code",
   "execution_count": null,
   "id": "812ccdba",
   "metadata": {},
   "outputs": [],
   "source": []
  },
  {
   "cell_type": "code",
   "execution_count": null,
   "id": "788de6da",
   "metadata": {},
   "outputs": [],
   "source": []
  },
  {
   "cell_type": "code",
   "execution_count": null,
   "id": "479dd95e",
   "metadata": {},
   "outputs": [],
   "source": [
    "\n",
    "\n"
   ]
  }
 ],
 "metadata": {
  "kernelspec": {
   "display_name": "Python 3 (ipykernel)",
   "language": "python",
   "name": "python3"
  },
  "language_info": {
   "codemirror_mode": {
    "name": "ipython",
    "version": 3
   },
   "file_extension": ".py",
   "mimetype": "text/x-python",
   "name": "python",
   "nbconvert_exporter": "python",
   "pygments_lexer": "ipython3",
   "version": "3.9.7"
  }
 },
 "nbformat": 4,
 "nbformat_minor": 5
}
