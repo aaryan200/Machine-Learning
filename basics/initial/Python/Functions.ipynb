{
 "cells": [
  {
   "cell_type": "code",
   "execution_count": null,
   "id": "2dbc23fd",
   "metadata": {},
   "outputs": [],
   "source": [
    "x=2\n",
    "def fun():\n",
    "    x=x*3\n",
    "    print(f'x= {x}')\n",
    "fun()\n",
    "print(f'x={x}')"
   ]
  },
  {
   "cell_type": "code",
   "execution_count": null,
   "id": "35b0c976",
   "metadata": {},
   "outputs": [],
   "source": [
    "from math import pi\n",
    "def circle(r):\n",
    "    global circumf\n",
    "    circumf=2*pi*r\n",
    "    area=pi*r**2\n",
    "    #print(f'area={area}')\n",
    "r=10\n",
    "circle(r)\n",
    "print(f'circum={circumf}')"
   ]
  },
  {
   "cell_type": "code",
   "execution_count": null,
   "id": "23fd5c59",
   "metadata": {},
   "outputs": [],
   "source": [
    "from math import pi\n",
    "r=0\n",
    "def cir():\n",
    "    r=10\n",
    "    area=pi*r**2\n",
    "    def circumf():\n",
    "        nonlocal r\n",
    "        circumf=2*pi*r\n",
    "        return circumf\n",
    "    print(circumf())\n",
    "    return area\n",
    "print(cir())"
   ]
  },
  {
   "cell_type": "code",
   "execution_count": null,
   "id": "35be334e",
   "metadata": {},
   "outputs": [],
   "source": [
    "n=0\n",
    "for i in range(2,100,2):\n",
    "    n=n+i\n",
    "print(f'n={n}')"
   ]
  },
  {
   "cell_type": "code",
   "execution_count": null,
   "id": "972b8640",
   "metadata": {},
   "outputs": [],
   "source": [
    "import numpy as np\n",
    "a=np.array([[1,4,5],[3,4,5],[3,8,7]])\n",
    "b=np.array([[1,3,2],[1,5,6]])\n",
    "a*b"
   ]
  },
  {
   "cell_type": "code",
   "execution_count": null,
   "id": "208d8887",
   "metadata": {},
   "outputs": [],
   "source": [
    "# shapes of arrays are compared element wise\n"
   ]
  },
  {
   "cell_type": "markdown",
   "id": "e1abcf6e",
   "metadata": {},
   "source": [
    "a[0][0]=1\n",
    "a[0][1]=2\n",
    "a[0][2]=3\n",
    "a[1][0]=2\n",
    "a[1][1]=3\n",
    "a[1][2]=2\n",
    "a[2][0]=1\n",
    "a[2][1]=2\n",
    "a[2][2]=4"
   ]
  },
  {
   "cell_type": "code",
   "execution_count": null,
   "id": "d36669a4",
   "metadata": {},
   "outputs": [],
   "source": [
    "import numpy as np\n",
    "a=np.array([[2,3,1],[3,2,1],[3,1,2]])\n",
    "b=np.array([[2,1,3],[1,2,3],[1,3,2]])\n",
    "c=np.dot(a,b)\n",
    "print(c)"
   ]
  },
  {
   "cell_type": "code",
   "execution_count": null,
   "id": "57114a41",
   "metadata": {},
   "outputs": [],
   "source": [
    "x=[0,1,2,3,4,5,6]\n",
    "y=[i**2 for i in x if i%2==0]\n",
    "print(y)"
   ]
  },
  {
   "cell_type": "code",
   "execution_count": null,
   "id": "e7df9935",
   "metadata": {},
   "outputs": [],
   "source": [
    "[[i,j]for i in range(3) for j in range(3)]"
   ]
  },
  {
   "cell_type": "code",
   "execution_count": null,
   "id": "d4983886",
   "metadata": {},
   "outputs": [],
   "source": [
    "def myfun():\n",
    "    print(\"Hello World!\")\n",
    "    return None #terminates the function\n",
    "    print(\"Never gets\")"
   ]
  },
  {
   "cell_type": "code",
   "execution_count": null,
   "id": "3ed0309b",
   "metadata": {},
   "outputs": [],
   "source": [
    "myfun()"
   ]
  },
  {
   "cell_type": "code",
   "execution_count": null,
   "id": "90a3f388",
   "metadata": {},
   "outputs": [],
   "source": [
    "#passing flexible arguments\n",
    "def myfun1(*args,**kwargs):\n",
    "    '''\n",
    "    args is a tuple of arguments passed to function\n",
    "    kwargs is a dictionary of keywords passed to function\n",
    "    '''\n",
    "    print(f'args={args}')\n",
    "    print(f'kwargs={kwargs}')\n",
    "aa=1\n",
    "bb=2\n",
    "cc=3\n",
    "myfun1()"
   ]
  },
  {
   "cell_type": "code",
   "execution_count": null,
   "id": "102b5cd8",
   "metadata": {},
   "outputs": [],
   "source": [
    "#inline or online function\n",
    "cube=lambda a,b,c:(a+b+c)**3"
   ]
  },
  {
   "cell_type": "code",
   "execution_count": null,
   "id": "cb41bac5",
   "metadata": {},
   "outputs": [],
   "source": [
    "mycube=lambda a,b: (a+b)**3"
   ]
  },
  {
   "cell_type": "code",
   "execution_count": null,
   "id": "ea84aba6",
   "metadata": {},
   "outputs": [],
   "source": [
    "mycube(1,1)"
   ]
  },
  {
   "cell_type": "code",
   "execution_count": null,
   "id": "4e1d6674",
   "metadata": {},
   "outputs": [],
   "source": [
    "a=0.1\n",
    "format(a,'0.20f')"
   ]
  },
  {
   "cell_type": "code",
   "execution_count": null,
   "id": "d6a21818",
   "metadata": {},
   "outputs": [],
   "source": [
    "i=0\n",
    "n=0\n",
    "while i<100:\n",
    "    n+=i\n",
    "    i+=1\n",
    "print(f'n={n}')"
   ]
  },
  {
   "cell_type": "code",
   "execution_count": null,
   "id": "2d8e526c",
   "metadata": {},
   "outputs": [],
   "source": [
    "x=[1,2,3,4,5,6,7]\n",
    "y=[1,2,3,4,4,5,6,7,7,8]\n",
    "for i in range(len(y)):\n",
    "    print(y[i])"
   ]
  },
  {
   "cell_type": "code",
   "execution_count": null,
   "id": "6b890e46",
   "metadata": {},
   "outputs": [],
   "source": [
    "for i in range(-20,20,2):\n",
    "    if(i<0):\n",
    "        print(f'{i} is negative')\n",
    "    elif(i>0):\n",
    "        print"
   ]
  },
  {
   "cell_type": "code",
   "execution_count": null,
   "id": "d17081ac",
   "metadata": {},
   "outputs": [],
   "source": [
    "?np.array"
   ]
  },
  {
   "cell_type": "code",
   "execution_count": null,
   "id": "d6834682",
   "metadata": {},
   "outputs": [],
   "source": [
    "i=0\n",
    "j=0\n",
    "while i==0:\n",
    "    j+=1\n",
    "    if ((j%2==0)&&(j<=100)):\n",
    "        print(j)"
   ]
  },
  {
   "cell_type": "code",
   "execution_count": null,
   "id": "bc0db5bc",
   "metadata": {},
   "outputs": [],
   "source": [
    "for i in range(0,3):\n",
    "    for j in range(0,3):\n",
    "        print(i,j)"
   ]
  },
  {
   "cell_type": "code",
   "execution_count": null,
   "id": "fee1e610",
   "metadata": {},
   "outputs": [],
   "source": [
    "x=[0,1,2,3,4,5]\n",
    "for i in range(len(x)):\n",
    "    print(x[i],end=',')"
   ]
  },
  {
   "cell_type": "code",
   "execution_count": null,
   "id": "7c755cae",
   "metadata": {},
   "outputs": [],
   "source": [
    "dict=[2,3,4,4]\n",
    "y=[i**4 for i in dict]\n",
    "print(y)"
   ]
  },
  {
   "cell_type": "code",
   "execution_count": null,
   "id": "8f62fe34",
   "metadata": {},
   "outputs": [],
   "source": [
    "import numpy as np\n",
    "y=np.array([[1,2,3],[4,5,6]])\n",
    "x=np.array([[2,3,4]])\n",
    "print(y*x)"
   ]
  },
  {
   "cell_type": "code",
   "execution_count": null,
   "id": "1d4ff5e2",
   "metadata": {},
   "outputs": [],
   "source": [
    "[[i,j] for i in range(2) for j in range(3)]"
   ]
  },
  {
   "cell_type": "code",
   "execution_count": null,
   "id": "4e001a8a",
   "metadata": {},
   "outputs": [],
   "source": [
    "?nonlocal"
   ]
  },
  {
   "cell_type": "code",
   "execution_count": null,
   "id": "a4a9a753",
   "metadata": {},
   "outputs": [],
   "source": [
    "def fact(n):\n",
    "    '''\n",
    "    Input:n ,a whole number\n",
    "    Output:n factorial\n",
    "    '''\n",
    "    x=1\n",
    "    for i in range(1,n+1):\n",
    "        x=x*i\n",
    "    print(f'n!={x}')\n",
    "    return x\n",
    "print(fact(5))\n"
   ]
  },
  {
   "cell_type": "code",
   "execution_count": null,
   "id": "0ae01065",
   "metadata": {},
   "outputs": [],
   "source": [
    "b=round(.100000000000005555,4)"
   ]
  },
  {
   "cell_type": "code",
   "execution_count": null,
   "id": "65bcb6d5",
   "metadata": {},
   "outputs": [],
   "source": [
    "a=round(0.20000000000000001110,5)\n",
    "format(a,'0.20f')"
   ]
  },
  {
   "cell_type": "markdown",
   "id": "4447fec5",
   "metadata": {},
   "source": [
    "Fibonacci Sequence\n",
    "0,1,1,2,3,5,8,13,21,34,55,89....\n",
    "F(0)=0\n",
    "F(1)=1\n",
    "F(n)=F(n-1)+F(n-2)\n",
    "F(5)=5F(1) +3F(0)"
   ]
  },
  {
   "cell_type": "code",
   "execution_count": null,
   "id": "b64d357d",
   "metadata": {},
   "outputs": [],
   "source": [
    "# Recursion\n",
    "def myfib(n):\n",
    "    if n in {0,1}:\n",
    "        return n\n",
    "    return myfib(n-2)+myfib(n-1)\n",
    "myfib(10)"
   ]
  },
  {
   "cell_type": "code",
   "execution_count": null,
   "id": "21ed9405",
   "metadata": {},
   "outputs": [],
   "source": []
  },
  {
   "cell_type": "code",
   "execution_count": null,
   "id": "17b67130",
   "metadata": {},
   "outputs": [],
   "source": []
  },
  {
   "cell_type": "code",
   "execution_count": null,
   "id": "6d65d542",
   "metadata": {},
   "outputs": [],
   "source": []
  },
  {
   "cell_type": "code",
   "execution_count": null,
   "id": "74060bac",
   "metadata": {},
   "outputs": [],
   "source": []
  },
  {
   "cell_type": "code",
   "execution_count": null,
   "id": "2d39ba8e",
   "metadata": {},
   "outputs": [],
   "source": []
  }
 ],
 "metadata": {
  "kernelspec": {
   "display_name": "Python 3 (ipykernel)",
   "language": "python",
   "name": "python3"
  },
  "language_info": {
   "codemirror_mode": {
    "name": "ipython",
    "version": 3
   },
   "file_extension": ".py",
   "mimetype": "text/x-python",
   "name": "python",
   "nbconvert_exporter": "python",
   "pygments_lexer": "ipython3",
   "version": "3.9.7"
  }
 },
 "nbformat": 4,
 "nbformat_minor": 5
}
