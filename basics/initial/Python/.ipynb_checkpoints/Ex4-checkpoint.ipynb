{
 "cells": [
  {
   "cell_type": "code",
   "execution_count": 22,
   "id": "dfaa0758",
   "metadata": {},
   "outputs": [
    {
     "name": "stdout",
     "output_type": "stream",
     "text": [
      "N=10\n",
      "3.14159265358979311600\n"
     ]
    }
   ],
   "source": [
    "N=int(input('N='))\n",
    "from math import sqrt\n",
    "def temp(k):\n",
    "    if k>=1:\n",
    "        o=1\n",
    "        m=396**k\n",
    "        for i in range(3*k):\n",
    "            if i<k:\n",
    "                o=o*(k+i+1)/(i+1)\n",
    "                o=o/396\n",
    "            elif (i>=k and i<2*k):\n",
    "                o=o*(k+i+1)/(i-k+1)\n",
    "                o=o/396\n",
    "            else:\n",
    "                o=o*(k+i+1)/(i-2*k+1)\n",
    "                o=o/396\n",
    "        o=o*(2206+52780*k)*sqrt(2)/(9801*m)\n",
    "        return o\n",
    "out=2206*sqrt(2)/9801\n",
    "for i in range(1,N):\n",
    "    out+=temp(i)\n",
    "ram_pi=1/out\n",
    "print(format(ram_pi,'.20f'))"
   ]
  },
  {
   "cell_type": "code",
   "execution_count": 14,
   "id": "4305304d",
   "metadata": {},
   "outputs": [],
   "source": [
    "from math import factorial,pi"
   ]
  },
  {
   "cell_type": "code",
   "execution_count": 21,
   "id": "c3e8d59f",
   "metadata": {},
   "outputs": [
    {
     "data": {
      "text/plain": [
       "'3.14159265358979311600'"
      ]
     },
     "execution_count": 21,
     "metadata": {},
     "output_type": "execute_result"
    }
   ],
   "source": [
    "format(pi,'.20f')"
   ]
  },
  {
   "cell_type": "code",
   "execution_count": 25,
   "id": "e17e07d2",
   "metadata": {},
   "outputs": [
    {
     "name": "stdout",
     "output_type": "stream",
     "text": [
      "Enter the numbers:10\n"
     ]
    },
    {
     "ename": "TypeError",
     "evalue": "unsupported operand type(s) for /: 'builtin_function_or_method' and 'int'",
     "output_type": "error",
     "traceback": [
      "\u001b[0;31m---------------------------------------------------------------------------\u001b[0m",
      "\u001b[0;31mTypeError\u001b[0m                                 Traceback (most recent call last)",
      "Input \u001b[0;32mIn [25]\u001b[0m, in \u001b[0;36m<cell line: 5>\u001b[0;34m()\u001b[0m\n\u001b[1;32m      4\u001b[0m     li\u001b[38;5;241m.\u001b[39mappend(x[i])\n\u001b[1;32m      5\u001b[0m \u001b[38;5;28;01mif\u001b[39;00m \u001b[38;5;28mlen\u001b[39m(li)\u001b[38;5;241m%\u001b[39m\u001b[38;5;241m2\u001b[39m\u001b[38;5;241m==\u001b[39m\u001b[38;5;241m1\u001b[39m:\n\u001b[0;32m----> 6\u001b[0m     i\u001b[38;5;241m=\u001b[39m\u001b[38;5;28mint\u001b[39m(\u001b[38;5;28;43mlen\u001b[39;49m\u001b[38;5;241;43m/\u001b[39;49m\u001b[38;5;241;43m2\u001b[39;49m)\u001b[38;5;241m+\u001b[39m\u001b[38;5;241m1\u001b[39m\n\u001b[1;32m      7\u001b[0m \u001b[38;5;28;01melse\u001b[39;00m:\n\u001b[1;32m      8\u001b[0m     i\u001b[38;5;241m=\u001b[39m\u001b[38;5;28mlen\u001b[39m\u001b[38;5;241m/\u001b[39m\u001b[38;5;241m2\u001b[39m\n",
      "\u001b[0;31mTypeError\u001b[0m: unsupported operand type(s) for /: 'builtin_function_or_method' and 'int'"
     ]
    }
   ],
   "source": [
    "x=input('Enter the numbers:').split()\n",
    "li=[]\n",
    "for i in range(len(x)):\n",
    "    li.append(x[i])\n",
    "if len(li)%2==1:\n",
    "    i=int(len/2)+1\n",
    "else:\n",
    "    i=len/2\n",
    "while len(li)>0:\n",
    "    print(a[i])\n",
    "    del(a[i])\n",
    "    m=len(li)\n",
    "    if i!=m:\n",
    "        if (m-i)%2==0:\n",
    "            i=(m+i)/2\n",
    "        else:\n",
    "            i=int(m+i)/2 +1\n",
    "    else:\n",
    "        if m%2==1:\n",
    "            "
   ]
  },
  {
   "cell_type": "code",
   "execution_count": null,
   "id": "beabe9c2",
   "metadata": {},
   "outputs": [],
   "source": []
  },
  {
   "cell_type": "code",
   "execution_count": null,
   "id": "1f286267",
   "metadata": {},
   "outputs": [],
   "source": []
  },
  {
   "cell_type": "code",
   "execution_count": null,
   "id": "9f800515",
   "metadata": {},
   "outputs": [],
   "source": []
  },
  {
   "cell_type": "code",
   "execution_count": null,
   "id": "e0963e5c",
   "metadata": {},
   "outputs": [],
   "source": []
  },
  {
   "cell_type": "code",
   "execution_count": null,
   "id": "1257d060",
   "metadata": {},
   "outputs": [],
   "source": []
  },
  {
   "cell_type": "code",
   "execution_count": null,
   "id": "cccb7598",
   "metadata": {},
   "outputs": [],
   "source": []
  },
  {
   "cell_type": "code",
   "execution_count": null,
   "id": "97815519",
   "metadata": {},
   "outputs": [],
   "source": []
  },
  {
   "cell_type": "code",
   "execution_count": null,
   "id": "5652d06a",
   "metadata": {},
   "outputs": [],
   "source": []
  },
  {
   "cell_type": "code",
   "execution_count": null,
   "id": "56445918",
   "metadata": {},
   "outputs": [],
   "source": []
  }
 ],
 "metadata": {
  "kernelspec": {
   "display_name": "Python 3 (ipykernel)",
   "language": "python",
   "name": "python3"
  },
  "language_info": {
   "codemirror_mode": {
    "name": "ipython",
    "version": 3
   },
   "file_extension": ".py",
   "mimetype": "text/x-python",
   "name": "python",
   "nbconvert_exporter": "python",
   "pygments_lexer": "ipython3",
   "version": "3.8.10"
  }
 },
 "nbformat": 4,
 "nbformat_minor": 5
}
