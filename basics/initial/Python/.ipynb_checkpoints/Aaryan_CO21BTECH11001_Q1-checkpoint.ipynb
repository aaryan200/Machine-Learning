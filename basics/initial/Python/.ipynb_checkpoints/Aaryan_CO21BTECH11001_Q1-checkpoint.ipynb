{
 "cells": [
  {
   "cell_type": "markdown",
   "id": "e109ca98",
   "metadata": {},
   "source": [
    "# Question1"
   ]
  },
  {
   "cell_type": "code",
   "execution_count": 2,
   "id": "a07ed657",
   "metadata": {},
   "outputs": [],
   "source": [
    "from math import pi,sqrt\n",
    "def pi_Leibniz(n):\n",
    "    pi_1=0\n",
    "    for k in range(n+1):\n",
    "        pi_1+=8/((4*k+1)*(4*k+3))\n",
    "    return pi_1\n",
    "\n",
    "def error_Leibniz(n):\n",
    "    perc_error=abs((pi-pi_Leibniz(n))*100/pi)\n",
    "    return perc_error\n",
    "\n",
    "def pi_Euler(n):\n",
    "    sum_pi=0\n",
    "    for k in range(1,n+1):\n",
    "        sum_pi+=6/(k*k)\n",
    "    pi_2=sqrt(sum_pi)\n",
    "    return pi_2\n",
    "def error_Euler(n):\n",
    "    perc_error=abs((pi-pi_Euler(n))*100/pi)\n",
    "    return perc_error"
   ]
  },
  {
   "cell_type": "code",
   "execution_count": 43,
   "id": "72e97393",
   "metadata": {},
   "outputs": [
    {
     "name": "stdout",
     "output_type": "stream",
     "text": [
      "Enter the number of terms:100\n",
      "pi=3.141592653589793\n",
      "Value of pi according to Leibniz's method=3.136642188870299\n",
      "Percentage error in value of pi according to Leibniz's method=0.1575781861419009\n",
      "Value of pi according to Euler's method=3.132076531809106\n",
      "Percentage error in value of pi according to Euler's method=0.3029075640921554\n"
     ]
    }
   ],
   "source": [
    "N=int(input('Enter the number of terms:'))\n",
    "print(f'pi={pi}')\n",
    "print(f'Value of pi according to Leibniz\\'s method={pi_Leibniz(N)}')\n",
    "print(f'Percentage error in value of pi according to Leibniz\\'s method={error_Leibniz(N)}')\n",
    "print(f'Value of pi according to Euler\\'s method={pi_Euler(N)}')\n",
    "print(f'Percentage error in value of pi according to Euler\\'s method={error_Euler(N)}')"
   ]
  },
  {
   "cell_type": "code",
   "execution_count": 37,
   "id": "1daab015",
   "metadata": {},
   "outputs": [
    {
     "name": "stdout",
     "output_type": "stream",
     "text": [
      "Enter the number of terms:100\n"
     ]
    },
    {
     "data": {
      "image/png": "[encoded data removed]",
      "text/plain": [
       "<Figure size 432x288 with 1 Axes>"
      ]
     },
     "metadata": {
      "needs_background": "light"
     },
     "output_type": "display_data"
    }
   ],
   "source": [
    "import numpy as np\n",
    "import matplotlib.pyplot as plt\n",
    "N=int(input('Enter the number of terms:'))\n",
    "x=np.arange(50,N+1,1)\n",
    "\n",
    "y=[]\n",
    "for i in range(N-49):\n",
    "    y.append(pi_Leibniz(x[i]))\n",
    "plt.plot(x,y,'b*',label='Leibniz\\'s Method')\n",
    "\n",
    "z=[]\n",
    "for i in range(N-49):\n",
    "    z.append(pi_Euler(x[i]))\n",
    "plt.plot(x,z,'ko-',label='Euler\\'s Method')\n",
    "\n",
    "w=[]\n",
    "for i in range(N-49):\n",
    "    w.append(pi)\n",
    "plt.plot(x,w,'ro-',label='Math pi')\n",
    "\n",
    "plt.legend()\n",
    "plt.show()"
   ]
  },
  {
   "cell_type": "code",
   "execution_count": 42,
   "id": "76712755",
   "metadata": {},
   "outputs": [
    {
     "name": "stdout",
     "output_type": "stream",
     "text": [
      "Enter the number of terms:100\n"
     ]
    },
    {
     "data": {
      "image/png": "[encoded data removed]",
      "text/plain": [
       "<Figure size 432x288 with 1 Axes>"
      ]
     },
     "metadata": {
      "needs_background": "light"
     },
     "output_type": "display_data"
    }
   ],
   "source": [
    "import numpy as np\n",
    "import matplotlib.pyplot as plt\n",
    "N=int(input('Enter the number of terms:'))\n",
    "x=np.arange(50,N+1,1)\n",
    "\n",
    "y=[]\n",
    "for i in range(N-49):\n",
    "    y.append(error_Leibniz(x[i]))\n",
    "plt.plot(x,y,'b*',label='Error in Leibniz\\'s Method')\n",
    "\n",
    "z=[]\n",
    "for i in range(N-49):\n",
    "    z.append(error_Euler(x[i]))\n",
    "plt.plot(x,z,'ko-',label='Error in Euler\\'s Method')\n",
    "\n",
    "w=[]\n",
    "for i in range(N-49):\n",
    "    w.append(0)\n",
    "plt.plot(x,w,'ro-',label='x=0')\n",
    "\n",
    "plt.legend()\n",
    "plt.show()"
   ]
  },
  {
   "cell_type": "markdown",
   "id": "fde0ed6e",
   "metadata": {},
   "source": [
    "Graphs show that:\n",
    "As n approaches infinity, difference in error in these methods is decreasing."
   ]
  },
  {
   "cell_type": "markdown",
   "id": "e358dcd8",
   "metadata": {},
   "source": [
    "# Question2"
   ]
  },
  {
   "cell_type": "markdown",
   "id": "54f49e82",
   "metadata": {},
   "source": [
    "The function random.randint(low_lim,up_lim) generate a random number between the numbers low_lim and up_lim including both of them."
   ]
  },
  {
   "cell_type": "code",
   "execution_count": 17,
   "id": "cf963e14",
   "metadata": {},
   "outputs": [],
   "source": [
    "def create_random_number(n,low_lim,up_lim):\n",
    "    import random\n",
    "    li=[]\n",
    "    for i in range(R):\n",
    "        a=random.randint(low_lim,up_lim)\n",
    "        li.append(a)\n",
    "    return li"
   ]
  },
  {
   "cell_type": "code",
   "execution_count": 23,
   "id": "3d53c59f",
   "metadata": {},
   "outputs": [
    {
     "name": "stdout",
     "output_type": "stream",
     "text": [
      "Enter the number of random integers required:10\n",
      "P/R=0.2\n"
     ]
    }
   ],
   "source": [
    "R=int(input('Enter the number of random integers required:'))\n",
    "P=0\n",
    "li=create_random_number(R,1,10)\n",
    "for i in range(len(li)):\n",
    "    if li[i]==7:\n",
    "        P +=1\n",
    "n=P/R\n",
    "print(f'P/R={n}')"
   ]
  },
  {
   "cell_type": "code",
   "execution_count": 28,
   "id": "592b3896",
   "metadata": {},
   "outputs": [
    {
     "name": "stdout",
     "output_type": "stream",
     "text": [
      "Enter the number of random integers required:10\n",
      "P/R=0.1\n"
     ]
    }
   ],
   "source": [
    "R=int(input('Enter the number of random integers required:'))\n",
    "P=0\n",
    "li=create_random_number(R,1,10)\n",
    "for i in range(len(li)):\n",
    "    if li[i]==7:\n",
    "        P +=1\n",
    "n=P/R\n",
    "print(f'P/R={n}')"
   ]
  },
  {
   "cell_type": "code",
   "execution_count": 24,
   "id": "3d511a67",
   "metadata": {},
   "outputs": [
    {
     "name": "stdout",
     "output_type": "stream",
     "text": [
      "Enter the number of random integers required:20\n",
      "P/R=0.2\n"
     ]
    }
   ],
   "source": [
    "R=int(input('Enter the number of random integers required:'))\n",
    "P=0\n",
    "li=create_random_number(R,1,10)\n",
    "for i in range(len(li)):\n",
    "    if li[i]==7:\n",
    "        P +=1\n",
    "n=P/R\n",
    "print(f'P/R={n}')"
   ]
  },
  {
   "cell_type": "code",
   "execution_count": 25,
   "id": "7d1b0272",
   "metadata": {},
   "outputs": [
    {
     "name": "stdout",
     "output_type": "stream",
     "text": [
      "Enter the number of random integers required:100\n",
      "P/R=0.06\n"
     ]
    }
   ],
   "source": [
    "R=int(input('Enter the number of random integers required:'))\n",
    "P=0\n",
    "li=create_random_number(R,1,10)\n",
    "for i in range(len(li)):\n",
    "    if li[i]==7:\n",
    "        P +=1\n",
    "n=P/R\n",
    "print(f'P/R={n}')"
   ]
  },
  {
   "cell_type": "code",
   "execution_count": 26,
   "id": "b142837f",
   "metadata": {},
   "outputs": [
    {
     "name": "stdout",
     "output_type": "stream",
     "text": [
      "Enter the number of random integers required:1000\n",
      "P/R=0.095\n"
     ]
    }
   ],
   "source": [
    "R=int(input('Enter the number of random integers required:'))\n",
    "P=0\n",
    "li=create_random_number(R,1,10)\n",
    "for i in range(len(li)):\n",
    "    if li[i]==7:\n",
    "        P +=1\n",
    "n=P/R\n",
    "print(f'P/R={n}')"
   ]
  },
  {
   "cell_type": "markdown",
   "id": "5c7f60d7",
   "metadata": {},
   "source": [
    "The value of P/R is not same for all values of R and also not the same for same value of R every time."
   ]
  },
  {
   "cell_type": "markdown",
   "id": "59d3bb11",
   "metadata": {},
   "source": [
    "# Question 3"
   ]
  },
  {
   "cell_type": "markdown",
   "id": "388624d1",
   "metadata": {},
   "source": [
    "This code has following errors\n",
    "1. Syntax of while loop used is not correct. There should be a colon at the end of condition.\n",
    "2. To find the sum of all integers between 1 and 10 we should add variable i in some_number\n",
    "   i.e. it should be some_number+=i\n",
    "3. The variable i should be incremented by 1 in every loop.\n",
    "4. The syntax for print function is not correct. It should be print(some_number)."
   ]
  }
 ],
 "metadata": {
  "kernelspec": {
   "display_name": "Python 3 (ipykernel)",
   "language": "python",
   "name": "python3"
  },
  "language_info": {
   "codemirror_mode": {
    "name": "ipython",
    "version": 3
   },
   "file_extension": ".py",
   "mimetype": "text/x-python",
   "name": "python",
   "nbconvert_exporter": "python",
   "pygments_lexer": "ipython3",
   "version": "3.9.7"
  }
 },
 "nbformat": 4,
 "nbformat_minor": 5
}
