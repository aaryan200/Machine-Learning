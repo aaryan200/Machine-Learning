{
 "cells": [
  {
   "cell_type": "code",
   "execution_count": null,
   "id": "01491e4a",
   "metadata": {},
   "outputs": [],
   "source": [
    "# Fibonacci series\n",
    "# 0, 1, 1, 2, 3, 5, 8, 13, 21\n",
    "# x[n] = x[n-1] + x[n-2]\n",
    "# x[0]=0\n",
    "# x[1]=1\n",
    "# x[2] = x[0] + x[1]\n",
    "# x[3] = x[2] + x[1] = x[0] + x[1] + x[1]"
   ]
  },
  {
   "cell_type": "code",
   "execution_count": null,
   "id": "0374b965",
   "metadata": {},
   "outputs": [],
   "source": [
    "def fibonacci_loop(n):\n",
    "    x0 = 0\n",
    "    x1 = 1\n",
    "    if n==1:\n",
    "        print(f'Sequence = {x0}')\n",
    "    elif  n==2:\n",
    "        print(f'Sequence = {x0},{x1}')\n",
    "    else:\n",
    "        print(f'Sequence={x0},{x1}')\n",
    "        for i in range(n-2):\n",
    "            total = x0 + x1\n",
    "            x0 = x1\n",
    "            x1 = total\n",
    "            print(f'{total}')\n",
    "            \n",
    "                  \n",
    "                  \n",
    "        "
   ]
  },
  {
   "cell_type": "code",
   "execution_count": null,
   "id": "23373416",
   "metadata": {},
   "outputs": [],
   "source": [
    "fibonacci_loop(5)"
   ]
  },
  {
   "cell_type": "code",
   "execution_count": null,
   "id": "716ef3ec",
   "metadata": {},
   "outputs": [],
   "source": [
    "def fibnacci_loop1(n):\n",
    "    x0 = 0\n",
    "    x1 = 1\n",
    "    if n<=1:\n",
    "        print(f\"Sequence={x0}\")\n",
    "    else:\n",
    "        print(x0,x1,end=\" \")\n",
    "        for i in range(2,n):\n",
    "            total = x0 + x1\n",
    "            print(total,end=\" \")\n",
    "            x0 = x1\n",
    "            x1 = total\n",
    "            "
   ]
  },
  {
   "cell_type": "code",
   "execution_count": null,
   "id": "431d78f3",
   "metadata": {},
   "outputs": [],
   "source": [
    "fibnacci_loop1(1)"
   ]
  },
  {
   "cell_type": "code",
   "execution_count": null,
   "id": "813d253d",
   "metadata": {},
   "outputs": [],
   "source": [
    "def fib_recursion(n):\n",
    "    if n<=1:\n",
    "        return n\n",
    "    else:\n",
    "        return(fib_recursion(n-1)+fib_recursion(n-2))\n",
    "        \n",
    "        "
   ]
  },
  {
   "cell_type": "code",
   "execution_count": null,
   "id": "0258e41f",
   "metadata": {},
   "outputs": [],
   "source": [
    "nin = int(input(\"Enter the number of terms in the series\"))\n",
    "for i in range(nin):\n",
    "    print(fib_recursion(i),end=\" \")"
   ]
  },
  {
   "cell_type": "code",
   "execution_count": null,
   "id": "3af96651",
   "metadata": {},
   "outputs": [],
   "source": [
    "# n! = 1*2*3*4*...*n\n",
    "n = int(input(\"Enter a number\"))\n",
    "f = 1 \n",
    "for i in range(1,n+1):\n",
    "    f = f * i\n",
    "print(f)"
   ]
  },
  {
   "cell_type": "code",
   "execution_count": null,
   "id": "4f5fc2e1",
   "metadata": {},
   "outputs": [],
   "source": [
    "# Recursion - repeated function calls"
   ]
  },
  {
   "cell_type": "code",
   "execution_count": null,
   "id": "08753782",
   "metadata": {},
   "outputs": [],
   "source": [
    "def fun1(n):\n",
    "    out = 0\n",
    "    for i in range(n):\n",
    "        for j in range(n):\n",
    "            out += i*j\n",
    "    return out"
   ]
  },
  {
   "cell_type": "markdown",
   "id": "372d017a",
   "metadata": {},
   "source": [
    "Additions = $n^2$, Multiplications = $n^2$, Function calls: 0, Assignments: $2 n^2 + n + 1$\n",
    "Total operations: $4 n^2 + n +1$\n",
    "\n",
    "Big-O notation: $O(n^2)$"
   ]
  },
  {
   "cell_type": "code",
   "execution_count": null,
   "id": "4886fcbb",
   "metadata": {},
   "outputs": [],
   "source": [
    "1 = a"
   ]
  },
  {
   "cell_type": "code",
   "execution_count": null,
   "id": "66b9fbb6",
   "metadata": {},
   "outputs": [],
   "source": [
    "1/0"
   ]
  },
  {
   "cell_type": "code",
   "execution_count": null,
   "id": "dc67002e",
   "metadata": {},
   "outputs": [],
   "source": [
    "x = [2]\n",
    "y = 3\n",
    "x + y"
   ]
  },
  {
   "cell_type": "code",
   "execution_count": null,
   "id": "5a79543c",
   "metadata": {},
   "outputs": [],
   "source": [
    "print(b)"
   ]
  },
  {
   "cell_type": "code",
   "execution_count": null,
   "id": "504f6366",
   "metadata": {},
   "outputs": [],
   "source": [
    "#Logical error\n",
    "def my_factorial(n):\n",
    "    a = 0\n",
    "    for i in range(1,n+1):\n",
    "        a = a * i\n",
    "    return a"
   ]
  },
  {
   "cell_type": "code",
   "execution_count": null,
   "id": "12cde5f0",
   "metadata": {},
   "outputs": [],
   "source": [
    "my_factorial(3)"
   ]
  },
  {
   "cell_type": "code",
   "execution_count": null,
   "id": "9e63d600",
   "metadata": {},
   "outputs": [],
   "source": [
    "import numpy as np\n",
    "row_vector = np.array([[1,3,5,7,9]])\n",
    "column_vector = np.array([[1],[3],[5],[7],[9]])"
   ]
  },
  {
   "cell_type": "code",
   "execution_count": null,
   "id": "80a501ce",
   "metadata": {},
   "outputs": [],
   "source": [
    "print(column_vector.shape)"
   ]
  },
  {
   "cell_type": "code",
   "execution_count": null,
   "id": "e669404c",
   "metadata": {},
   "outputs": [],
   "source": [
    "np.linalg.norm(column_vector)"
   ]
  },
  {
   "cell_type": "code",
   "execution_count": null,
   "id": "ddbb1125",
   "metadata": {},
   "outputs": [],
   "source": [
    "np.linalg.norm(row_vector)"
   ]
  },
  {
   "cell_type": "code",
   "execution_count": null,
   "id": "bdf9b2bd",
   "metadata": {},
   "outputs": [],
   "source": [
    "#L2 norm is sqrt of the sum of squares of elements of a vector\n",
    "a = np.array([[1],[2],[3],[4]])\n",
    "np.linalg.norm(a)"
   ]
  },
  {
   "cell_type": "code",
   "execution_count": null,
   "id": "4a66f4d7",
   "metadata": {},
   "outputs": [],
   "source": [
    "np.sqrt(30)"
   ]
  },
  {
   "cell_type": "code",
   "execution_count": null,
   "id": "36778fdd",
   "metadata": {},
   "outputs": [],
   "source": [
    "np.linalg.norm?"
   ]
  },
  {
   "cell_type": "code",
   "execution_count": null,
   "id": "1616f09c",
   "metadata": {},
   "outputs": [],
   "source": [
    "np.linalg.norm(a,np.inf)"
   ]
  },
  {
   "cell_type": "markdown",
   "id": "daa6c378",
   "metadata": {},
   "source": [
    "$u = [10, 1, 2]$, $v=[2,3,0]$ $u\\cdot v = ||u||_2||v||_2 \\cos (\\theta)$"
   ]
  },
  {
   "cell_type": "code",
   "execution_count": null,
   "id": "4e7a2b17",
   "metadata": {},
   "outputs": [],
   "source": [
    "from numpy import arccos, dot, pi, cross\n",
    "from numpy.linalg import norm\n",
    "u = np.array([[10,1,2]])\n",
    "v = np.array([[2,3,0]])\n",
    "theta = arccos(dot(u,v.T)/(norm(u)*norm(v)))\n",
    "print((theta*180)/pi)\n",
    "print(cross(u,v))"
   ]
  },
  {
   "cell_type": "markdown",
   "id": "d5da934f",
   "metadata": {},
   "source": [
    "$\\vec{u}\\times\\vec{v}=\\epsilon_{ijk}u_jv_k$"
   ]
  },
  {
   "cell_type": "code",
   "execution_count": 1,
   "id": "37c79ec7",
   "metadata": {},
   "outputs": [],
   "source": [
    "# Elementary row operations in matrices\n",
    "#1. Add m times row j to row i\n",
    "#2. Multiply row i by scalar m\n",
    "#3. Swap or switch rows i and j"
   ]
  },
  {
   "cell_type": "code",
   "execution_count": 2,
   "id": "d367fd21",
   "metadata": {},
   "outputs": [],
   "source": [
    "import numpy as np\n",
    "import matplotlib.pyplot as plt\n",
    "import scipy.linalg as la\n",
    "%matplotlib inline"
   ]
  },
  {
   "cell_type": "code",
   "execution_count": null,
   "id": "702a0a69",
   "metadata": {},
   "outputs": [],
   "source": [
    "A = np.random.rand(10,10)\n",
    "print(A.shape)\n",
    "b = np.random.rand(10,1)\n",
    "print(b.shape)\n",
    "B = np.hstack((A,b))\n",
    "print(B.shape)"
   ]
  },
  {
   "cell_type": "code",
   "execution_count": 8,
   "id": "0d1f63ef",
   "metadata": {},
   "outputs": [
    {
     "name": "stdout",
     "output_type": "stream",
     "text": [
      "[[ 1  1  1]\n",
      " [-1  3  1]\n",
      " [ 0  5  2]]\n",
      "[[1. 0. 0.]\n",
      " [0. 1. 0.]\n",
      " [0. 0. 1.]]\n",
      "[[ 1.  1.  1.]\n",
      " [-1.  3.  1.]\n",
      " [ 0.  5.  2.]]\n"
     ]
    }
   ],
   "source": [
    "A = np.array([[1,1,1],[-1,3,1],[0,5,2]])\n",
    "print(A)\n",
    "I = np.eye(A.shape[0])\n",
    "print(I)\n",
    "print (I @ A)"
   ]
  },
  {
   "cell_type": "code",
   "execution_count": 12,
   "id": "b7752fc4",
   "metadata": {},
   "outputs": [
    {
     "data": {
      "text/plain": [
       "array([0, 5, 2])"
      ]
     },
     "execution_count": 12,
     "metadata": {},
     "output_type": "execute_result"
    }
   ],
   "source": [
    "A[2,:]"
   ]
  },
  {
   "cell_type": "code",
   "execution_count": 19,
   "id": "507bc3af",
   "metadata": {},
   "outputs": [
    {
     "name": "stdout",
     "output_type": "stream",
     "text": [
      "[[1.  0.2 0. ]\n",
      " [0.  1.  0. ]\n",
      " [0.  0.  1. ]]\n"
     ]
    }
   ],
   "source": [
    "# Multiply Row 1 of A (note row indices from 0, 1, 2) by 1/5 \n",
    "# and add to Row 0 of A\n",
    "# Construct a matrix E1 for this operation\n",
    "E1 = np.array([[1,1/5,0],[0,1,0],[0,0,1]])\n",
    "print(E1)"
   ]
  },
  {
   "cell_type": "code",
   "execution_count": 20,
   "id": "cfe1ac4c",
   "metadata": {},
   "outputs": [
    {
     "name": "stdout",
     "output_type": "stream",
     "text": [
      "[[ 1  1  1]\n",
      " [-1  3  1]\n",
      " [ 0  5  2]]\n",
      "[[ 0.8  1.6  1.2]\n",
      " [-1.   3.   1. ]\n",
      " [ 0.   5.   2. ]]\n"
     ]
    }
   ],
   "source": [
    "print(A)\n",
    "print(E1@A)\n"
   ]
  },
  {
   "cell_type": "code",
   "execution_count": 21,
   "id": "132609c6",
   "metadata": {},
   "outputs": [
    {
     "name": "stdout",
     "output_type": "stream",
     "text": [
      "[[ 1  0  0]\n",
      " [ 0 -2  0]\n",
      " [ 0  0  1]]\n"
     ]
    },
    {
     "data": {
      "text/plain": [
       "array([[ 1,  1,  1],\n",
       "       [ 2, -6, -2],\n",
       "       [ 0,  5,  2]])"
      ]
     },
     "execution_count": 21,
     "metadata": {},
     "output_type": "execute_result"
    }
   ],
   "source": [
    "#Multiply Row 1 (second row) by -2\n",
    "E2 = np.array([[1,0,0],[0,-2,0],[0,0,1]])\n",
    "print(E2)\n",
    "E2 @ A"
   ]
  },
  {
   "cell_type": "code",
   "execution_count": 31,
   "id": "796bcde2",
   "metadata": {},
   "outputs": [
    {
     "name": "stdout",
     "output_type": "stream",
     "text": [
      "[[1. 0. 0. 0. 0.]\n",
      " [0. 1. 0. 0. 0.]\n",
      " [0. 0. 1. 0. 0.]\n",
      " [0. 0. 0. 1. 0.]\n",
      " [0. 0. 0. 0. 1.]]\n",
      "[[0.43328253 0.69325736 0.19845396 0.15452474 0.16487497]\n",
      " [0.17309337 0.23881779 0.0498542  0.69247103 0.23973737]\n",
      " [0.9790058  0.51797462 0.69758136 0.77672966 0.88684649]\n",
      " [0.66032633 0.69763131 0.00237985 0.48647256 0.93850702]\n",
      " [0.98064338 0.29786065 0.6619845  0.9260926  0.8341741 ]]\n",
      "[[0.9790058  0.51797462 0.69758136 0.77672966 0.88684649]\n",
      " [0.17309337 0.23881779 0.0498542  0.69247103 0.23973737]\n",
      " [0.43328253 0.69325736 0.19845396 0.15452474 0.16487497]\n",
      " [0.66032633 0.69763131 0.00237985 0.48647256 0.93850702]\n",
      " [0.98064338 0.29786065 0.6619845  0.9260926  0.8341741 ]]\n"
     ]
    }
   ],
   "source": [
    "#Swap rows 0 and 2 (second and third rows)\n",
    "P = np.random.rand(5,5)\n",
    "E5 = np.eye(5)\n",
    "print(E5)\n",
    "E5[0,0]=0\n",
    "E5[2,2]=0\n",
    "E5[2,0]=1\n",
    "E5[0,2]=1\n",
    "#E3 = np.array([[0,0,1],[0,1,0],[1,0,0]])\n",
    "print(P)\n",
    "print(E5 @ P)"
   ]
  },
  {
   "cell_type": "code",
   "execution_count": 23,
   "id": "189fabf9",
   "metadata": {},
   "outputs": [],
   "source": [
    "def add_row(A,m,i,j):\n",
    "    \n",
    "    '''\n",
    "    m: multiplier\n",
    "    Add m times row j to row i in a matrix A\n",
    "    '''\n",
    "    # n stores the the size of a matrix A of size n x n\n",
    "    n = A.shape[0] # row dimension of A\n",
    "    E = np.eye(n) # nxn identity matrix\n",
    "    if i==j:\n",
    "        E[i,i] = m + 1\n",
    "    else:\n",
    "        E[i,j] = m\n",
    "    return E @ A"
   ]
  },
  {
   "cell_type": "code",
   "execution_count": 24,
   "id": "5a18883e",
   "metadata": {},
   "outputs": [],
   "source": [
    "add_row?"
   ]
  },
  {
   "cell_type": "code",
   "execution_count": 25,
   "id": "c6d542bf",
   "metadata": {},
   "outputs": [
    {
     "name": "stdout",
     "output_type": "stream",
     "text": [
      "[[1 1 1 1]\n",
      " [3 2 2 2]]\n"
     ]
    },
    {
     "data": {
      "text/plain": [
       "array([[7., 5., 5., 5.],\n",
       "       [3., 2., 2., 2.]])"
      ]
     },
     "execution_count": 25,
     "metadata": {},
     "output_type": "execute_result"
    }
   ],
   "source": [
    "B=np.array([[1,1,1,1],[3,2,2,2]])\n",
    "print(B)\n",
    "add_row(B,2,0,1)"
   ]
  },
  {
   "cell_type": "code",
   "execution_count": null,
   "id": "db773070",
   "metadata": {},
   "outputs": [],
   "source": [
    "add_row(B,2,1,1)"
   ]
  },
  {
   "cell_type": "code",
   "execution_count": 26,
   "id": "6afa6f48",
   "metadata": {},
   "outputs": [],
   "source": [
    "def scale_row(A,s,i):\n",
    "    '''\n",
    "    A: a matrix \n",
    "    s: scale factor\n",
    "    Multiply row i of A by scale factor s\n",
    "    '''\n",
    "    n = A.shape[0]\n",
    "    E = np.eye(n)\n",
    "# [i,i] is the index of diagonal element of row i that is scaled by s\n",
    "    E[i,i] = s\n",
    "    return E @ A\n",
    "    "
   ]
  },
  {
   "cell_type": "code",
   "execution_count": null,
   "id": "ce59c1ac",
   "metadata": {},
   "outputs": [],
   "source": [
    "C = np.array([[3,1],[-2,7]])\n",
    "print(C)"
   ]
  },
  {
   "cell_type": "code",
   "execution_count": null,
   "id": "d5089707",
   "metadata": {},
   "outputs": [],
   "source": [
    "scale_row?"
   ]
  },
  {
   "cell_type": "code",
   "execution_count": null,
   "id": "0068f966",
   "metadata": {},
   "outputs": [],
   "source": [
    "scale_row(C,3,1)"
   ]
  },
  {
   "cell_type": "code",
   "execution_count": null,
   "id": "f83f0c7b",
   "metadata": {},
   "outputs": [],
   "source": [
    "B=np.random.rand(4,3)\n",
    "n=B.shape[0]\n",
    "I=np.eye(n)\n",
    "print(B)\n",
    "print(I)\n",
    "print(B[3,:])\n",
    "I[0,0]=0\n",
    "I[3,3]=0\n",
    "I[0,3]=1\n",
    "I[3,0]=1\n",
    "print(I@B)\n",
    "\n",
    "# A is m x n\n",
    "# E is m x m identity\n",
    "# E x A will give A (mxm)x(mxn)=(mxn) \n",
    "# Swap rows in E\n",
    "# E @ A = mxn swapped A matrix"
   ]
  },
  {
   "cell_type": "code",
   "execution_count": 32,
   "id": "8e59f799",
   "metadata": {},
   "outputs": [],
   "source": [
    "def swap_rows(A,i,j):\n",
    "    '''\n",
    "    Interchange rows i and j of a matrix A\n",
    "    Note the identity matrix E is always a square matrix\n",
    "    Swap rows of identity matrix E to interchange rows of A\n",
    "    Returns E @ A\n",
    "    '''\n",
    "    n = A.shape[0]\n",
    "    E = np.eye(n)\n",
    "    E[i,i] = 0\n",
    "    E[j,j] = 0\n",
    "    E[i,j] = 1\n",
    "    E[j,i] = 1\n",
    "    return E @ A"
   ]
  },
  {
   "cell_type": "code",
   "execution_count": null,
   "id": "caab05e4",
   "metadata": {},
   "outputs": [],
   "source": [
    "A = np.array([[1,1,1],[1,-1,0]])\n",
    "print(A.shape[0])\n",
    "print(A)\n",
    "swap_rows(A,0,1)"
   ]
  },
  {
   "cell_type": "code",
   "execution_count": 33,
   "id": "d6fa22eb",
   "metadata": {},
   "outputs": [
    {
     "name": "stdout",
     "output_type": "stream",
     "text": [
      "[[ 5  4  2]\n",
      " [-1  2  1]\n",
      " [ 1  1  1]]\n"
     ]
    }
   ],
   "source": [
    "Y = np.array([[5,4,2],[-1,2,1],[1,1,1]])\n",
    "print(Y)"
   ]
  },
  {
   "cell_type": "code",
   "execution_count": 34,
   "id": "772a0edc",
   "metadata": {},
   "outputs": [
    {
     "name": "stdout",
     "output_type": "stream",
     "text": [
      "[[ 5.  4.  2.  1.  0.  0.]\n",
      " [-1.  2.  1.  0.  1.  0.]\n",
      " [ 1.  1.  1.  0.  0.  1.]]\n"
     ]
    }
   ],
   "source": [
    "#Augmented matrix A formed by horizontally stacking Y with an identity matrix of same shape\n",
    "A=np.hstack([Y,np.eye(Y.shape[0])])\n",
    "print(A)"
   ]
  },
  {
   "cell_type": "code",
   "execution_count": 35,
   "id": "c171d47a",
   "metadata": {},
   "outputs": [
    {
     "name": "stdout",
     "output_type": "stream",
     "text": [
      "[[ 1.  1.  1.  0.  0.  1.]\n",
      " [-1.  2.  1.  0.  1.  0.]\n",
      " [ 5.  4.  2.  1.  0.  0.]]\n"
     ]
    }
   ],
   "source": [
    "A1 = swap_rows(A,0,2)\n",
    "print(A1)"
   ]
  },
  {
   "cell_type": "code",
   "execution_count": 36,
   "id": "21a66900",
   "metadata": {},
   "outputs": [
    {
     "name": "stdout",
     "output_type": "stream",
     "text": [
      "[[1. 1. 1. 0. 0. 1.]\n",
      " [0. 3. 2. 0. 1. 1.]\n",
      " [5. 4. 2. 1. 0. 0.]]\n"
     ]
    }
   ],
   "source": [
    "A2 = add_row(A1,1,1,0)\n",
    "print(A2)"
   ]
  },
  {
   "cell_type": "code",
   "execution_count": 37,
   "id": "86c76ddc",
   "metadata": {},
   "outputs": [
    {
     "name": "stdout",
     "output_type": "stream",
     "text": [
      "[[ 1.  1.  1.  0.  0.  1.]\n",
      " [ 0.  3.  2.  0.  1.  1.]\n",
      " [ 0. -1. -3.  1.  0. -5.]]\n"
     ]
    }
   ],
   "source": [
    "A3 = add_row(A2,-5,2,0)\n",
    "print(A3)"
   ]
  },
  {
   "cell_type": "code",
   "execution_count": 38,
   "id": "6d2d0fab",
   "metadata": {},
   "outputs": [
    {
     "name": "stdout",
     "output_type": "stream",
     "text": [
      "[[ 1.  1.  1.  0.  0.  1.]\n",
      " [ 0. -1. -3.  1.  0. -5.]\n",
      " [ 0.  3.  2.  0.  1.  1.]]\n"
     ]
    }
   ],
   "source": [
    "A4 = swap_rows(A3,1,2)\n",
    "print(A4)"
   ]
  },
  {
   "cell_type": "code",
   "execution_count": 40,
   "id": "b94f7e3c",
   "metadata": {},
   "outputs": [
    {
     "name": "stdout",
     "output_type": "stream",
     "text": [
      "[[ 1.  1.  1.  0.  0.  1.]\n",
      " [ 0.  1.  3. -1.  0.  5.]\n",
      " [ 0.  3.  2.  0.  1.  1.]]\n"
     ]
    }
   ],
   "source": [
    "A5 = scale_row(A4,-1,1)\n",
    "print(A5)"
   ]
  },
  {
   "cell_type": "code",
   "execution_count": 43,
   "id": "ad670265",
   "metadata": {},
   "outputs": [
    {
     "name": "stdout",
     "output_type": "stream",
     "text": [
      "[[  1.   1.   1.   0.   0.   1.]\n",
      " [  0.   1.   3.  -1.   0.   5.]\n",
      " [  0.   0.  -7.   3.   1. -14.]]\n"
     ]
    }
   ],
   "source": [
    "A6 = add_row(A5,-3,2,1)\n",
    "print(A6)"
   ]
  },
  {
   "cell_type": "code",
   "execution_count": 44,
   "id": "f86ad1b4",
   "metadata": {},
   "outputs": [
    {
     "name": "stdout",
     "output_type": "stream",
     "text": [
      "[[ 1.          1.          1.          0.          0.          1.        ]\n",
      " [ 0.          1.          3.         -1.          0.          5.        ]\n",
      " [ 0.          0.          1.         -0.42857143 -0.14285714  2.        ]]\n"
     ]
    }
   ],
   "source": [
    "A7 = scale_row(A6,-1/7,2)\n",
    "print(A7)"
   ]
  },
  {
   "cell_type": "code",
   "execution_count": 45,
   "id": "eb28417c",
   "metadata": {},
   "outputs": [
    {
     "name": "stdout",
     "output_type": "stream",
     "text": [
      "[[ 1.          1.          1.          0.          0.          1.        ]\n",
      " [ 0.          1.          0.          0.28571429  0.42857143 -1.        ]\n",
      " [ 0.          0.          1.         -0.42857143 -0.14285714  2.        ]]\n"
     ]
    }
   ],
   "source": [
    "A8 = add_row(A7,-3,1,2)\n",
    "print(A8)"
   ]
  },
  {
   "cell_type": "code",
   "execution_count": 46,
   "id": "1caf5357",
   "metadata": {},
   "outputs": [
    {
     "name": "stdout",
     "output_type": "stream",
     "text": [
      "[[ 1.          1.          0.          0.42857143  0.14285714 -1.        ]\n",
      " [ 0.          1.          0.          0.28571429  0.42857143 -1.        ]\n",
      " [ 0.          0.          1.         -0.42857143 -0.14285714  2.        ]]\n"
     ]
    }
   ],
   "source": [
    "A9 = add_row(A8,-1,0,2)\n",
    "print(A9)"
   ]
  },
  {
   "cell_type": "code",
   "execution_count": 47,
   "id": "752e3212",
   "metadata": {},
   "outputs": [
    {
     "name": "stdout",
     "output_type": "stream",
     "text": [
      "[[ 1.          0.          0.          0.14285714 -0.28571429  0.        ]\n",
      " [ 0.          1.          0.          0.28571429  0.42857143 -1.        ]\n",
      " [ 0.          0.          1.         -0.42857143 -0.14285714  2.        ]]\n"
     ]
    }
   ],
   "source": [
    "A10 = add_row(A9,-1,0,1)\n",
    "print(A10)"
   ]
  },
  {
   "cell_type": "code",
   "execution_count": 48,
   "id": "7d164323",
   "metadata": {},
   "outputs": [
    {
     "name": "stdout",
     "output_type": "stream",
     "text": [
      "[[ 0.14285714 -0.28571429  0.        ]\n",
      " [ 0.28571429  0.42857143 -1.        ]\n",
      " [-0.42857143 -0.14285714  2.        ]]\n"
     ]
    }
   ],
   "source": [
    "Yinv = A10[:,3:]\n",
    "print(Yinv)"
   ]
  },
  {
   "cell_type": "code",
   "execution_count": 49,
   "id": "68e292c3",
   "metadata": {},
   "outputs": [
    {
     "name": "stdout",
     "output_type": "stream",
     "text": [
      "[[ 1.00000000e+00  2.22044605e-16  1.11022302e-16]\n",
      " [-4.44089210e-16  1.00000000e+00 -2.22044605e-16]\n",
      " [ 0.00000000e+00  0.00000000e+00  1.00000000e+00]]\n",
      "[[ 1.  0.  0.]\n",
      " [-0.  1. -0.]\n",
      " [ 0.  0.  1.]]\n"
     ]
    }
   ],
   "source": [
    "res = Yinv @ Y\n",
    "print(res)\n",
    "print(np.round(res,15))"
   ]
  },
  {
   "cell_type": "code",
   "execution_count": 50,
   "id": "3465e499",
   "metadata": {},
   "outputs": [
    {
     "name": "stdout",
     "output_type": "stream",
     "text": [
      "[[ 5.  4.  2.  1.  0.  0.]\n",
      " [-1.  2.  1.  0.  1.  0.]\n",
      " [ 1.  1.  1.  0.  0.  1.]]\n"
     ]
    }
   ],
   "source": [
    "B=np.hstack([Y,np.eye(Y.shape[0])])\n",
    "print(B)"
   ]
  },
  {
   "cell_type": "code",
   "execution_count": 58,
   "id": "97c45bd8",
   "metadata": {},
   "outputs": [
    {
     "name": "stdout",
     "output_type": "stream",
     "text": [
      "[[ 6 -4  1]\n",
      " [-4  6 -4]\n",
      " [ 1 -4  6]]\n",
      "[[-14  22]\n",
      " [ 36 -18]\n",
      " [  6   7]]\n",
      "[[  6  -4   1 -14  22]\n",
      " [ -4   6  -4  36 -18]\n",
      " [  1  -4   6   6   7]]\n"
     ]
    }
   ],
   "source": [
    "## Gaussian elimination with pivoting\n",
    "A = np.array([[6,-4,1],[-4,6,-4],[1,-4,6]])\n",
    "B = np.array([[-14,22],[36,-18],[6,7]])\n",
    "# Solve A X = B\n",
    "print(A)\n",
    "print(B)\n",
    "Am = np.hstack([A,B])\n",
    "print(Am)"
   ]
  },
  {
   "cell_type": "code",
   "execution_count": 84,
   "id": "9e79f360",
   "metadata": {},
   "outputs": [],
   "source": [
    "def vandermonde(v):\n",
    "    n = len(v)\n",
    "    a = np.zeros((n,n))\n",
    "    for j in range(n):\n",
    "        a[:,j]= v**j\n",
    "    return a"
   ]
  },
  {
   "cell_type": "code",
   "execution_count": 88,
   "id": "274fa8ba",
   "metadata": {},
   "outputs": [
    {
     "name": "stdout",
     "output_type": "stream",
     "text": [
      "[[  1.   1.   1.   1.   1.]\n",
      " [  1.   2.   4.   8.  16.]\n",
      " [  1.   3.   9.  27.  81.]\n",
      " [  1.   4.  16.  64. 256.]\n",
      " [  1.   5.  25. 125. 625.]]\n"
     ]
    }
   ],
   "source": [
    "v = np.array([1,2,3,4,5])\n",
    "A = vandermonde(v)\n",
    "print(A)"
   ]
  },
  {
   "cell_type": "code",
   "execution_count": 62,
   "id": "286328f6",
   "metadata": {},
   "outputs": [
    {
     "data": {
      "text/plain": [
       "array([0., 0., 0.])"
      ]
     },
     "execution_count": 62,
     "metadata": {},
     "output_type": "execute_result"
    }
   ],
   "source": [
    "np.zeros(3)"
   ]
  },
  {
   "cell_type": "code",
   "execution_count": null,
   "id": "3367a007",
   "metadata": {},
   "outputs": [],
   "source": []
  }
 ],
 "metadata": {
  "kernelspec": {
   "display_name": "Python 3 (ipykernel)",
   "language": "python",
   "name": "python3"
  },
  "language_info": {
   "codemirror_mode": {
    "name": "ipython",
    "version": 3
   },
   "file_extension": ".py",
   "mimetype": "text/x-python",
   "name": "python",
   "nbconvert_exporter": "python",
   "pygments_lexer": "ipython3",
   "version": "3.9.7"
  }
 },
 "nbformat": 4,
 "nbformat_minor": 5
}
