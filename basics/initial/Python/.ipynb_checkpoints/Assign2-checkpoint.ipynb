{
 "cells": [
  {
   "cell_type": "markdown",
   "id": "feea3287",
   "metadata": {},
   "source": [
    "# Q1"
   ]
  },
  {
   "cell_type": "markdown",
   "id": "56b02400",
   "metadata": {},
   "source": [
    "# Sir please click on this cell for a better look.\n",
    "This is because ^ is a xor bitwise operator in python it compares elements bitwise \n",
    "10 (base 10)=1010 (base 2) \n",
    "2 (base 10)=0010 (base 2)\n",
    "if we apply xor operator on these 2 bitwise then it gives 1000 (base 2) which is equal to 8 in base 10"
   ]
  },
  {
   "cell_type": "markdown",
   "id": "079e4232",
   "metadata": {},
   "source": [
    "# Q2"
   ]
  },
  {
   "cell_type": "code",
   "execution_count": 2,
   "id": "fbdb0a1b",
   "metadata": {},
   "outputs": [
    {
     "data": {
      "text/plain": [
       "True"
      ]
     },
     "execution_count": 2,
     "metadata": {},
     "output_type": "execute_result"
    }
   ],
   "source": [
    "def xor(arg1,arg2):\n",
    "    if (arg1==True and arg2==True):\n",
    "        return False\n",
    "    if (arg1==False and arg2==True):\n",
    "        return True\n",
    "    if (arg1==True and arg2==False):\n",
    "        return True\n",
    "    if (arg1==False and arg2==False):\n",
    "        return False\n",
    "xor(3>2,3>4)"
   ]
  },
  {
   "cell_type": "markdown",
   "id": "1b4396f6",
   "metadata": {},
   "source": [
    "# Q3"
   ]
  },
  {
   "cell_type": "code",
   "execution_count": 3,
   "id": "da05f4cd",
   "metadata": {},
   "outputs": [
    {
     "name": "stdout",
     "output_type": "stream",
     "text": [
      "-1\n",
      "1\n"
     ]
    }
   ],
   "source": [
    "import math as m\n",
    "def sign(a):\n",
    "    return int(m.copysign(1,a))\n",
    "print(sign(-3))\n",
    "print(sign(1))"
   ]
  },
  {
   "cell_type": "markdown",
   "id": "64fffb03",
   "metadata": {},
   "source": [
    "# Q4"
   ]
  },
  {
   "cell_type": "code",
   "execution_count": 4,
   "id": "7891fd53",
   "metadata": {},
   "outputs": [
    {
     "name": "stdout",
     "output_type": "stream",
     "text": [
      "False\n",
      "False\n"
     ]
    }
   ],
   "source": [
    "pset_time = 15\n",
    "sleep_time = 8\n",
    "print(sleep_time > pset_time)\n",
    "derive = True\n",
    "drink = False\n",
    "both = drink and derive\n",
    "print(both)"
   ]
  },
  {
   "cell_type": "markdown",
   "id": "2753d12c",
   "metadata": {},
   "source": [
    "# Q5"
   ]
  },
  {
   "cell_type": "code",
   "execution_count": 5,
   "id": "53508f3a",
   "metadata": {},
   "outputs": [
    {
     "name": "stdout",
     "output_type": "stream",
     "text": [
      "['re', 'sa', 'ma', 'dha']\n"
     ]
    }
   ],
   "source": [
    "L1 = ['re']\n",
    "L2 = ['ga']\n",
    "L3 = ['sa']\n",
    "L4 = L1 + L2\n",
    "L3.extend(L4)\n",
    "L3.sort()\n",
    "del(L3[0])\n",
    "L3.append('ma')\n",
    "L3.append('dha')\n",
    "print(L3)"
   ]
  },
  {
   "cell_type": "code",
   "execution_count": 6,
   "id": "86295ce5",
   "metadata": {},
   "outputs": [
    {
     "name": "stdout",
     "output_type": "stream",
     "text": [
      "[[1 2 2 3]]\n"
     ]
    }
   ],
   "source": [
    "import numpy as np\n",
    "a=np.array([[1,2],[3,2]])\n",
    "a.sort()\n",
    "a=a.reshape(1,4)\n",
    "print(a)"
   ]
  },
  {
   "cell_type": "markdown",
   "id": "1fa121a8",
   "metadata": {},
   "source": [
    "# Q6"
   ]
  },
  {
   "cell_type": "code",
   "execution_count": 7,
   "id": "7c9cf03b",
   "metadata": {},
   "outputs": [
    {
     "name": "stdout",
     "output_type": "stream",
     "text": [
      "10\n",
      "even\n"
     ]
    }
   ],
   "source": [
    "n = 10\n",
    "i = 10\n",
    "while i>0:\n",
    "    print(i)\n",
    "    if i % 2 == 0:\n",
    "        print(\"even\")\n",
    "        break\n",
    "    else:\n",
    "        print(\"odd\")\n",
    "        break"
   ]
  },
  {
   "cell_type": "markdown",
   "id": "c9c9b99b",
   "metadata": {},
   "source": [
    "# Q7"
   ]
  },
  {
   "cell_type": "code",
   "execution_count": 8,
   "id": "2aae34a1",
   "metadata": {
    "scrolled": true
   },
   "outputs": [
    {
     "data": {
      "text/plain": [
       "array([[7.49180666, 7.41487836, 7.37123651, 7.31563753, 7.28620277,\n",
       "        7.54392823, 7.52441763, 7.50363511, 7.49584133, 7.37456595,\n",
       "        7.66102192, 7.58891403, 7.43865604, 7.30684376, 7.25905491,\n",
       "        7.67905826, 7.62570055, 7.5871701 , 7.32766421, 7.26580672],\n",
       "       [7.41487836, 7.31140054, 7.252697  , 7.17790967, 7.13831638,\n",
       "        7.48498814, 7.45874404, 7.43078904, 7.42030547, 7.25717549,\n",
       "        7.64249325, 7.54549946, 7.34338438, 7.16608099, 7.10179923,\n",
       "        7.6667543 , 7.59498175, 7.54315367, 7.194087  , 7.11088123],\n",
       "       [7.37123651, 7.252697  , 7.18544887, 7.0997759 , 7.05441961,\n",
       "        7.4515511 , 7.42148705, 7.38946307, 7.37745356, 7.19057924,\n",
       "        7.63198184, 7.52087013, 7.28933624, 7.0862255 , 7.01258722,\n",
       "        7.6597742 , 7.57755481, 7.5181829 , 7.11830791, 7.02299114],\n",
       "       [7.31563753, 7.17790967, 7.0997759 , 7.00023478, 6.94753654,\n",
       "        7.40895287, 7.37402227, 7.33681447, 7.32286095, 7.10573673,\n",
       "        7.61859047, 7.48949278, 7.22047982, 6.98449094, 6.89893261,\n",
       "        7.65088166, 7.55535318, 7.48637056, 7.02176662, 6.91102065],\n",
       "       [7.28620277, 7.13831638, 7.05441961, 6.94753654, 6.89095138,\n",
       "        7.38640087, 7.34889385, 7.30894168, 7.29395898, 7.0608201 ,\n",
       "        7.61150092, 7.47288125, 7.18402642, 6.93063147, 6.83876253,\n",
       "        7.64617385, 7.54359937, 7.46952874, 6.97065653, 6.85174216],\n",
       "       [7.54392823, 7.48498814, 7.4515511 , 7.40895287, 7.38640087,\n",
       "        7.58386216, 7.56891374, 7.55299081, 7.54701946, 7.45410201,\n",
       "        7.67357573, 7.61832889, 7.50320586, 7.40221536, 7.36560102,\n",
       "        7.68739462, 7.64651358, 7.61699275, 7.41816734, 7.37077404],\n",
       "       [7.52441763, 7.45874404, 7.42148705, 7.37402227, 7.34889385,\n",
       "        7.56891374, 7.55225757, 7.53451556, 7.52786202, 7.42432939,\n",
       "        7.66887648, 7.60731806, 7.47904302, 7.36651504, 7.32571775,\n",
       "        7.68427408, 7.63872267, 7.60582928, 7.38428942, 7.33148177],\n",
       "       [7.50363511, 7.43078904, 7.38946307, 7.33681447, 7.30894168,\n",
       "        7.55299081, 7.53451556, 7.51483587, 7.50745567, 7.39261583,\n",
       "        7.66387088, 7.59558942, 7.45330495, 7.32848735, 7.28323443,\n",
       "        7.68095011, 7.63042385, 7.59393804, 7.34820294, 7.28962795],\n",
       "       [7.49584133, 7.42030547, 7.37745356, 7.32286095, 7.29395898,\n",
       "        7.54701946, 7.52786202, 7.50745567, 7.49980296, 7.38072273,\n",
       "        7.66199369, 7.59119099, 7.44365276, 7.31422635, 7.2673025 ,\n",
       "        7.67970357, 7.62731166, 7.58947863, 7.33466993, 7.2739321 ],\n",
       "       [7.37456595, 7.25717549, 7.19057924, 7.10573673, 7.0608201 ,\n",
       "        7.45410201, 7.42432939, 7.39261583, 7.38072273, 7.19565987,\n",
       "        7.63278375, 7.5227491 , 7.29345958, 7.09231768, 7.01939321,\n",
       "        7.66030671, 7.57888431, 7.52008792, 7.1240891 , 7.02969628],\n",
       "       [7.66102192, 7.64249325, 7.63198184, 7.61859047, 7.61150092,\n",
       "        7.67357573, 7.66887648, 7.66387088, 7.66199369, 7.63278375,\n",
       "        7.70177849, 7.68441084, 7.64822026, 7.61647243, 7.60496219,\n",
       "        7.70612265, 7.69327111, 7.68399081, 7.62148717, 7.6065884 ],\n",
       "       [7.58891403, 7.54549946, 7.52087013, 7.48949278, 7.47288125,\n",
       "        7.61832889, 7.60731806, 7.59558942, 7.59119099, 7.5227491 ,\n",
       "        7.68441084, 7.64371668, 7.55891842, 7.48453001, 7.45756032,\n",
       "        7.69458967, 7.66447719, 7.64273249, 7.49628005, 7.46137071],\n",
       "       [7.43865604, 7.34338438, 7.28933624, 7.22047982, 7.18402642,\n",
       "        7.50320586, 7.47904302, 7.45330495, 7.44365276, 7.29345958,\n",
       "        7.64822026, 7.55891842, 7.37283179, 7.2095892 , 7.15040521,\n",
       "        7.67055732, 7.60447659, 7.55675866, 7.23537422, 7.15876697],\n",
       "       [7.30684376, 7.16608099, 7.0862255 , 6.98449094, 6.93063147,\n",
       "        7.40221536, 7.36651504, 7.32848735, 7.31422635, 7.09231768,\n",
       "        7.61647243, 7.48453001, 7.2095892 , 6.96840018, 6.88095653,\n",
       "        7.64947518, 7.55184168, 7.48133899, 7.00649725, 6.89331093],\n",
       "       [7.25905491, 7.10179923, 7.01258722, 6.89893261, 6.83876253,\n",
       "        7.36560102, 7.32571775, 7.28323443, 7.2673025 , 7.01939321,\n",
       "        7.60496219, 7.45756032, 7.15040521, 6.88095653, 6.78326727,\n",
       "        7.6418318 , 7.53275876, 7.45399541, 6.92351736, 6.79706922],\n",
       "       [7.67905826, 7.6667543 , 7.6597742 , 7.65088166, 7.64617385,\n",
       "        7.68739462, 7.68427408, 7.68095011, 7.67970357, 7.66030671,\n",
       "        7.70612265, 7.69458967, 7.67055732, 7.64947518, 7.6418318 ,\n",
       "        7.7090074 , 7.70047333, 7.69431075, 7.65280521, 7.64291169],\n",
       "       [7.62570055, 7.59498175, 7.57755481, 7.55535318, 7.54359937,\n",
       "        7.64651358, 7.63872267, 7.63042385, 7.62731166, 7.57888431,\n",
       "        7.69327111, 7.66447719, 7.60447659, 7.55184168, 7.53275876,\n",
       "        7.70047333, 7.67916668, 7.66378081, 7.56015564, 7.53545488],\n",
       "       [7.5871701 , 7.54315367, 7.5181829 , 7.48637056, 7.46952874,\n",
       "        7.61699275, 7.60582928, 7.59393804, 7.58947863, 7.52008792,\n",
       "        7.68399081, 7.64273249, 7.55675866, 7.48133899, 7.45399541,\n",
       "        7.69431075, 7.66378081, 7.64173466, 7.49325192, 7.45785863],\n",
       "       [7.32766421, 7.194087  , 7.11830791, 7.02176662, 6.97065653,\n",
       "        7.41816734, 7.38428942, 7.34820294, 7.33466993, 7.1240891 ,\n",
       "        7.62148717, 7.49628005, 7.23537422, 7.00649725, 6.92351736,\n",
       "        7.65280521, 7.56015564, 7.49325192, 7.04264957, 6.93524111],\n",
       "       [7.26580672, 7.11088123, 7.02299114, 6.91102065, 6.85174216,\n",
       "        7.37077404, 7.33148177, 7.28962795, 7.2739321 , 7.02969628,\n",
       "        7.6065884 , 7.46137071, 7.15876697, 6.89331093, 6.79706922,\n",
       "        7.64291169, 7.53545488, 7.45785863, 6.93524111, 6.81066665]])"
      ]
     },
     "execution_count": 8,
     "metadata": {},
     "output_type": "execute_result"
    }
   ],
   "source": [
    "a=np.random.rand(4,5)\n",
    "a.sort()\n",
    "A=a.reshape(1,20)\n",
    "b=A.T\n",
    "c=np.dot(A,b)-np.dot(b,A)\n",
    "c"
   ]
  },
  {
   "cell_type": "code",
   "execution_count": 10,
   "id": "4bb1bd30",
   "metadata": {},
   "outputs": [
    {
     "name": "stdout",
     "output_type": "stream",
     "text": [
      "[230 160 284 156 152 106 120 192 168 200 174 200]\n",
      "[160, 284, 156, 152, 106, 120, 192, 168, 200, 174, 200]\n",
      "[160, 156, 152, 106, 120, 192, 168, 200, 174, 200]\n",
      "[160, 156, 152, 120, 192, 168, 200, 174, 200]\n",
      "[160, 156, 152, 120, 192, 168, 174, 200]\n",
      "[160, 156, 152, 120, 192, 168, 174]\n"
     ]
    },
    {
     "ename": "IndexError",
     "evalue": "list index out of range",
     "output_type": "error",
     "traceback": [
      "\u001b[1;31m---------------------------------------------------------------------------\u001b[0m",
      "\u001b[1;31mIndexError\u001b[0m                                Traceback (most recent call last)",
      "\u001b[1;32m~\\AppData\\Local\\Temp/ipykernel_23540/1746190289.py\u001b[0m in \u001b[0;36m<module>\u001b[1;34m\u001b[0m\n\u001b[0;32m      7\u001b[0m \u001b[0mb\u001b[0m\u001b[1;33m=\u001b[0m\u001b[0mlist\u001b[0m\u001b[1;33m(\u001b[0m\u001b[0ma\u001b[0m\u001b[1;33m)\u001b[0m\u001b[1;33m\u001b[0m\u001b[1;33m\u001b[0m\u001b[0m\n\u001b[0;32m      8\u001b[0m \u001b[1;32mfor\u001b[0m \u001b[0mi\u001b[0m \u001b[1;32min\u001b[0m \u001b[0mrange\u001b[0m\u001b[1;33m(\u001b[0m\u001b[1;36m0\u001b[0m\u001b[1;33m,\u001b[0m\u001b[0mlen\u001b[0m\u001b[1;33m(\u001b[0m\u001b[0mb\u001b[0m\u001b[1;33m)\u001b[0m\u001b[1;33m)\u001b[0m\u001b[1;33m:\u001b[0m\u001b[1;33m\u001b[0m\u001b[1;33m\u001b[0m\u001b[0m\n\u001b[1;32m----> 9\u001b[1;33m     \u001b[1;32mif\u001b[0m \u001b[1;33m(\u001b[0m\u001b[1;33m(\u001b[0m\u001b[0mb\u001b[0m\u001b[1;33m[\u001b[0m\u001b[0mi\u001b[0m\u001b[1;33m]\u001b[0m\u001b[1;33m<=\u001b[0m\u001b[1;36m150\u001b[0m\u001b[1;33m)\u001b[0m \u001b[1;32mor\u001b[0m \u001b[1;33m(\u001b[0m\u001b[0mb\u001b[0m\u001b[1;33m[\u001b[0m\u001b[0mi\u001b[0m\u001b[1;33m]\u001b[0m\u001b[1;33m>=\u001b[0m\u001b[1;36m200\u001b[0m\u001b[1;33m)\u001b[0m\u001b[1;33m)\u001b[0m\u001b[1;33m:\u001b[0m\u001b[1;33m\u001b[0m\u001b[1;33m\u001b[0m\u001b[0m\n\u001b[0m\u001b[0;32m     10\u001b[0m         \u001b[1;32mdel\u001b[0m \u001b[0mb\u001b[0m\u001b[1;33m[\u001b[0m\u001b[0mi\u001b[0m\u001b[1;33m]\u001b[0m\u001b[1;33m\u001b[0m\u001b[1;33m\u001b[0m\u001b[0m\n\u001b[0;32m     11\u001b[0m         \u001b[0mprint\u001b[0m\u001b[1;33m(\u001b[0m\u001b[0mb\u001b[0m\u001b[1;33m)\u001b[0m\u001b[1;33m\u001b[0m\u001b[1;33m\u001b[0m\u001b[0m\n",
      "\u001b[1;31mIndexError\u001b[0m: list index out of range"
     ]
    }
   ],
   "source": [
    "import numpy as np\n",
    "a = np.array([230, 10, 284, 39, 76, 53, 15, 12, 42, 50, 87, 100])\n",
    "for i in range(0,len(a)):\n",
    "    while a[i]<=100:\n",
    "        a[i]=a[i]*2\n",
    "print(a)\n",
    "b=list(a)\n",
    "for i in range(0,len(b)):\n",
    "    if ((b[i]<=150) or (b[i]>=200)):\n",
    "        del b[i]\n",
    "        print(b)\n",
    "print(b)\n",
    "# SIR I WANT TO ASK WHY THIS DIDN'T WORK"
   ]
  },
  {
   "cell_type": "markdown",
   "id": "cbb4ce12",
   "metadata": {},
   "source": [
    "# Q9"
   ]
  },
  {
   "cell_type": "code",
   "execution_count": 13,
   "id": "70ad8b89",
   "metadata": {},
   "outputs": [
    {
     "name": "stdout",
     "output_type": "stream",
     "text": [
      "[255 125 150 200]\n",
      "[100 125 150   0]\n"
     ]
    }
   ],
   "source": [
    "a=np.array([100,125,150,200],dtype=np.uint8)\n",
    "while a[0]<255:\n",
    "    a[0]=a[0]+1\n",
    "print(a)\n",
    "#but if i write a[0]<=255 then it will never give an output because then a[0] will become 256 \n",
    "#which is not possible in 8 bit number\n",
    "b=np.array([100,125,150,256],dtype=np.uint8)\n",
    "print(b)\n",
    "#here it can't read 256 and hence it prints it 0"
   ]
  },
  {
   "cell_type": "markdown",
   "id": "c95e0a50",
   "metadata": {},
   "source": [
    "# Q10"
   ]
  },
  {
   "cell_type": "code",
   "execution_count": 11,
   "id": "a7f41032",
   "metadata": {},
   "outputs": [
    {
     "name": "stdout",
     "output_type": "stream",
     "text": [
      "[230 160 284 156 152 106 120 192 168 200 174 200]\n",
      "[160 156 152 192 168 174]\n"
     ]
    }
   ],
   "source": [
    "import numpy as np\n",
    "a = np.array([230, 10, 284, 39, 76, 53, 15, 12, 42, 50, 87, 100])\n",
    "for i in range(0,len(a)):\n",
    "    while a[i]<=100:\n",
    "        a[i]=a[i]*2\n",
    "print(a)\n",
    "c=[]\n",
    "x=0\n",
    "for i in range(0,len(a)):\n",
    "    if ((a[i]>150) and (a[i]<200)):\n",
    "        c.append(a[i])\n",
    "        x=x+1\n",
    "d=np.array([i for i in c])\n",
    "print(d)"
   ]
  },
  {
   "cell_type": "code",
   "execution_count": null,
   "id": "5d7dcd43",
   "metadata": {},
   "outputs": [],
   "source": []
  },
  {
   "cell_type": "code",
   "execution_count": null,
   "id": "741a6f48",
   "metadata": {},
   "outputs": [],
   "source": []
  },
  {
   "cell_type": "code",
   "execution_count": null,
   "id": "fba61c88",
   "metadata": {},
   "outputs": [],
   "source": []
  },
  {
   "cell_type": "code",
   "execution_count": null,
   "id": "2e1fadac",
   "metadata": {},
   "outputs": [],
   "source": []
  },
  {
   "cell_type": "code",
   "execution_count": null,
   "id": "e5c6ba06",
   "metadata": {},
   "outputs": [],
   "source": []
  },
  {
   "cell_type": "code",
   "execution_count": null,
   "id": "03141b03",
   "metadata": {},
   "outputs": [],
   "source": []
  },
  {
   "cell_type": "code",
   "execution_count": null,
   "id": "73d90584",
   "metadata": {},
   "outputs": [],
   "source": []
  }
 ],
 "metadata": {
  "kernelspec": {
   "display_name": "Python 3 (ipykernel)",
   "language": "python",
   "name": "python3"
  },
  "language_info": {
   "codemirror_mode": {
    "name": "ipython",
    "version": 3
   },
   "file_extension": ".py",
   "mimetype": "text/x-python",
   "name": "python",
   "nbconvert_exporter": "python",
   "pygments_lexer": "ipython3",
   "version": "3.9.7"
  }
 },
 "nbformat": 4,
 "nbformat_minor": 5
}
