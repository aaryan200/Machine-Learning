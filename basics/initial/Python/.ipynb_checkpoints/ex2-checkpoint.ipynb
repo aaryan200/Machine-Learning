{
 "cells": [
  {
   "cell_type": "code",
   "execution_count": 36,
   "id": "4078866c",
   "metadata": {},
   "outputs": [
    {
     "name": "stdout",
     "output_type": "stream",
     "text": [
      "1.416146927476616\n"
     ]
    }
   ],
   "source": [
    "from math import exp,pi,log,sin\n",
    "x=0\n",
    "n=10**7\n",
    "h=2/n\n",
    "for i in range(1,n+1):\n",
    "    x+=h*(sin(i*h))\n",
    "print(x)"
   ]
  },
  {
   "cell_type": "code",
   "execution_count": 35,
   "id": "c22492ea",
   "metadata": {},
   "outputs": [
    {
     "data": {
      "text/plain": [
       "1.2732395447351486"
      ]
     },
     "execution_count": 35,
     "metadata": {},
     "output_type": "execute_result"
    }
   ],
   "source": [
    "2*0.6366197723675743"
   ]
  },
  {
   "cell_type": "code",
   "execution_count": 16,
   "id": "a651a638",
   "metadata": {},
   "outputs": [
    {
     "data": {
      "text/plain": [
       "0.7853981633974483"
      ]
     },
     "execution_count": 16,
     "metadata": {},
     "output_type": "execute_result"
    }
   ],
   "source": [
    "pi/4"
   ]
  },
  {
   "cell_type": "code",
   "execution_count": 24,
   "id": "039525ce",
   "metadata": {},
   "outputs": [],
   "source": [
    "from math import log"
   ]
  },
  {
   "cell_type": "code",
   "execution_count": 7,
   "id": "143a54fd",
   "metadata": {},
   "outputs": [
    {
     "name": "stdout",
     "output_type": "stream",
     "text": [
      "0\n"
     ]
    }
   ],
   "source": [
    "import numpy as np\n",
    "print(np.dtype().itemsize)"
   ]
  },
  {
   "cell_type": "code",
   "execution_count": 8,
   "id": "edde04b9",
   "metadata": {},
   "outputs": [],
   "source": [
    "#a \"bit\" can be built with an arrangement of 5 transistors"
   ]
  },
  {
   "cell_type": "code",
   "execution_count": 5,
   "id": "82c27944",
   "metadata": {},
   "outputs": [],
   "source": [
    "f=open('abc.txt','w')\n",
    "for i in range(1,21):\n",
    "    f.write(f'the data ={i}\\n')\n",
    "f.close()"
   ]
  },
  {
   "cell_type": "code",
   "execution_count": null,
   "id": "473cdc9f",
   "metadata": {},
   "outputs": [],
   "source": [
    "f=open('abc.txt','a+')\n",
    "sfda"
   ]
  },
  {
   "cell_type": "code",
   "execution_count": 10,
   "id": "e80a886e",
   "metadata": {},
   "outputs": [],
   "source": [
    "import numpy as np\n",
    "a=np.random.rand(32,32)"
   ]
  },
  {
   "cell_type": "code",
   "execution_count": 9,
   "id": "2317afdb",
   "metadata": {},
   "outputs": [
    {
     "ename": "AttributeError",
     "evalue": "module 'numpy' has no attribute 'savetext'",
     "output_type": "error",
     "traceback": [
      "\u001b[1;31m---------------------------------------------------------------------------\u001b[0m",
      "\u001b[1;31mAttributeError\u001b[0m                            Traceback (most recent call last)",
      "\u001b[1;32m~\\AppData\\Local\\Temp/ipykernel_1732/4239552696.py\u001b[0m in \u001b[0;36m<module>\u001b[1;34m\u001b[0m\n\u001b[1;32m----> 1\u001b[1;33m \u001b[0mnp\u001b[0m\u001b[1;33m.\u001b[0m\u001b[0msavetext\u001b[0m\u001b[1;33m(\u001b[0m\u001b[1;34m'hello.txt'\u001b[0m\u001b[1;33m,\u001b[0m\u001b[0ma\u001b[0m\u001b[1;33m,\u001b[0m\u001b[0mfmt\u001b[0m\u001b[1;33m=\u001b[0m\u001b[1;34m'%g'\u001b[0m\u001b[1;33m)\u001b[0m\u001b[1;33m\u001b[0m\u001b[1;33m\u001b[0m\u001b[0m\n\u001b[0m",
      "\u001b[1;32mD:\\anaconda\\lib\\site-packages\\numpy\\__init__.py\u001b[0m in \u001b[0;36m__getattr__\u001b[1;34m(attr)\u001b[0m\n\u001b[0;32m    301\u001b[0m                 \u001b[1;32mreturn\u001b[0m \u001b[0mTester\u001b[0m\u001b[1;33m\u001b[0m\u001b[1;33m\u001b[0m\u001b[0m\n\u001b[0;32m    302\u001b[0m \u001b[1;33m\u001b[0m\u001b[0m\n\u001b[1;32m--> 303\u001b[1;33m             raise AttributeError(\"module {!r} has no attribute \"\n\u001b[0m\u001b[0;32m    304\u001b[0m                                  \"{!r}\".format(__name__, attr))\n\u001b[0;32m    305\u001b[0m \u001b[1;33m\u001b[0m\u001b[0m\n",
      "\u001b[1;31mAttributeError\u001b[0m: module 'numpy' has no attribute 'savetext'"
     ]
    }
   ],
   "source": [
    "np.savetext('hello.txt',a,fmt='%g')"
   ]
  },
  {
   "cell_type": "code",
   "execution_count": 11,
   "id": "98be4af8",
   "metadata": {},
   "outputs": [],
   "source": [
    "#pickle is the way to store tuple,list,dictionary\n",
    "import pickle"
   ]
  },
  {
   "cell_type": "code",
   "execution_count": 12,
   "id": "ea56ff4c",
   "metadata": {},
   "outputs": [],
   "source": [
    "l=['apple','o',6,7,39.4,23]\n",
    "pickle.dump(l,open('mylist.pkl','wb'))"
   ]
  },
  {
   "cell_type": "code",
   "execution_count": 1,
   "id": "04948cf9",
   "metadata": {},
   "outputs": [
    {
     "name": "stdout",
     "output_type": "stream",
     "text": [
      "(2, 2, 2)\n",
      "[array([[1, 2],\n",
      "       [3, 4]]), array([[5, 6],\n",
      "       [7, 8]]), 1]\n"
     ]
    }
   ],
   "source": [
    "import numpy as np\n",
    "a=np.array([[[1,2],[3,4]],[[5,6],[7,8]]])\n",
    "print(a.shape)\n",
    "b=list(a)\n",
    "#print(b[1][1][0])\n",
    "b.append(1)\n",
    "print(b)"
   ]
  },
  {
   "cell_type": "code",
   "execution_count": 16,
   "id": "0411364c",
   "metadata": {},
   "outputs": [
    {
     "name": "stdout",
     "output_type": "stream",
     "text": [
      "[0 1 3 4]\n"
     ]
    }
   ],
   "source": [
    "c=[0,1,3,4]\n",
    "d=np.array([i for i in c])\n",
    "print(d)"
   ]
  },
  {
   "cell_type": "code",
   "execution_count": 31,
   "id": "5c198c0b",
   "metadata": {},
   "outputs": [
    {
     "name": "stdout",
     "output_type": "stream",
     "text": [
      "[1, 1, 2, 1, 2, 2, 3, 1, 1, 2, 3, 1, 2, 2, 3]\n"
     ]
    }
   ],
   "source": [
    "from math import factorial as f\n",
    "l=[]\n",
    "l.append(1)\n",
    "n=3\n",
    "for k in range(1,n+1):\n",
    "    i=0\n",
    "    while i<k:\n",
    "        for j in range(k):\n",
    "            for m in range(k):\n",
    "                if m<j:\n",
    "                    l.append(l[f(k-1)-1+int((n-1)*i/n)+k])\n",
    "                elif m==j:\n",
    "                    l.append(k)\n",
    "                else:\n",
    "                    l.append(l[f(k-1)-2+int((n-1)*i/n)+k])\n",
    "            i=i+1\n",
    "print(l)"
   ]
  },
  {
   "cell_type": "code",
   "execution_count": 24,
   "id": "37a1fa47",
   "metadata": {},
   "outputs": [
    {
     "data": {
      "text/plain": [
       "1"
      ]
     },
     "execution_count": 24,
     "metadata": {},
     "output_type": "execute_result"
    }
   ],
   "source": [
    "from math import factorial as f\n",
    "f(0)"
   ]
  },
  {
   "cell_type": "code",
   "execution_count": 28,
   "id": "50e0f587",
   "metadata": {},
   "outputs": [
    {
     "name": "stdout",
     "output_type": "stream",
     "text": [
      "[1, 3, 2]\n"
     ]
    }
   ],
   "source": [
    "a=[1,3]\n",
    "a.append(2)\n",
    "print(a)"
   ]
  },
  {
   "cell_type": "code",
   "execution_count": 1,
   "id": "92b22ef8",
   "metadata": {},
   "outputs": [
    {
     "data": {
      "image/png": "[encoded data removed]",
      "text/plain": [
       "<Figure size 432x288 with 1 Axes>"
      ]
     },
     "metadata": {
      "needs_background": "light"
     },
     "output_type": "display_data"
    }
   ],
   "source": [
    "import numpy as np\n",
    "import matplotlib.pyplot as plt\n",
    "x=np.linspace(4.3588,4.359,1000)\n",
    "y=x**2-19\n",
    "z=x*0\n",
    "plt.plot(x,y)\n",
    "plt.plot(x,z)\n",
    "plt.show()\n",
    "#z=x*0\n",
    "#plt.plot(x,z)\n",
    "#plt.show()"
   ]
  },
  {
   "cell_type": "code",
   "execution_count": 7,
   "id": "8dcde2b5",
   "metadata": {},
   "outputs": [
    {
     "data": {
      "text/plain": [
       "'3.14093946319681727175'"
      ]
     },
     "execution_count": 7,
     "metadata": {},
     "output_type": "execute_result"
    }
   ],
   "source": [
    "from math import sqrt as s\n",
    "n=10**7\n",
    "integ=0\n",
    "for i in range(1,n):\n",
    "    integ+=2/(s(n**2-i**2))\n",
    "format(integ,'.20f')"
   ]
  },
  {
   "cell_type": "code",
   "execution_count": null,
   "id": "93a28269",
   "metadata": {},
   "outputs": [],
   "source": [
    "int main(){\n",
    "    int n,k,i,j,l,c;\n",
    "    \n",
    "    int b[fact(n)][n];\n",
    "    printf(\"Enter the integer:\");\n",
    "    scanf(\"%d\",&n);\n",
    "    \n",
    "\n",
    "    for (k=1;k<=n;k++) {\n",
    "        int a[k][fact(k)][k];\n",
    "        \n",
    " \n",
    "        if (k==1) a[1][0][0]=1;\n",
    "        if (k>=2) {\n",
    "            i=0;\n",
    "         while (i<fact(k)) {\n",
    "           c=0;\n",
    "            for (j=0;j<k;j++) {\n",
    "                \n",
    "                for (l=0;l<k;l++) {\n",
    "                    if (l<j) a[k][i][l]=a[k-1][c][l];\n",
    "                    else if (l==j) a[k][i][l]=k;\n",
    "                    else if (l>j) a[k][i][l]=a[k-1][c][l-1];\n",
    "                }\n",
    "                i=i+1;\n",
    "                c=i/k;\n",
    "            } \n",
    "        }\n",
    "        }\n",
    "        if (k==n) {\n",
    "        for (i=0;i<fact(n);i++) {\n",
    "            for (j=0;j<n;j++) {\n",
    "                printf(\"%d \",a[n][i][j]);\n",
    "            }\n",
    "            printf(\"\\n\");\n",
    "        }\n",
    "        }"
   ]
  },
  {
   "cell_type": "markdown",
   "id": "15ebafa3",
   "metadata": {},
   "source": [
    "# Print permutations of 1st n natural numbers"
   ]
  },
  {
   "cell_type": "code",
   "execution_count": 1,
   "id": "567115ec",
   "metadata": {},
   "outputs": [
    {
     "name": "stdout",
     "output_type": "stream",
     "text": [
      "Enter a natural number:3\n",
      "[[3. 2. 1.]\n",
      " [2. 3. 1.]\n",
      " [2. 1. 3.]\n",
      " [3. 1. 2.]\n",
      " [1. 3. 2.]\n",
      " [1. 2. 3.]]\n"
     ]
    }
   ],
   "source": [
    "import numpy as np\n",
    "from math import factorial as f\n",
    "n=int(input('Enter a natural number:'))\n",
    "def permut(n):\n",
    "    a=np.zeros(n*f(n))\n",
    "    a=a.reshape(f(n),n)\n",
    "    if n==1:\n",
    "        a[0][0]=1\n",
    "    if n>=2:\n",
    "        #b=permut(n-1)\n",
    "        i=0\n",
    "        while i<f(n):\n",
    "            for j in range(n):\n",
    "                c=int(i/n)\n",
    "                for k in range(n):\n",
    "                    if k<j:\n",
    "                        a[i][k]=permut(n-1)[c][k]\n",
    "                    if k==j:\n",
    "                        a[i][k]=n\n",
    "                    if k>j:\n",
    "                        a[i][k]=permut(n-1)[c][k-1]\n",
    "                i+=1\n",
    "    return a\n",
    "print(permut(n))"
   ]
  },
  {
   "cell_type": "code",
   "execution_count": 33,
   "id": "f3303f18",
   "metadata": {},
   "outputs": [
    {
     "name": "stdout",
     "output_type": "stream",
     "text": [
      "[[1 2]\n",
      " [3 4]]\n"
     ]
    }
   ],
   "source": [
    "b=np.array([[[1,2],[3,4]],[[5,6],[7,8]]])\n",
    "print(b[0])"
   ]
  },
  {
   "cell_type": "code",
   "execution_count": 57,
   "id": "aadea6bc",
   "metadata": {},
   "outputs": [
    {
     "data": {
      "text/plain": [
       "3628800"
      ]
     },
     "execution_count": 57,
     "metadata": {},
     "output_type": "execute_result"
    }
   ],
   "source": [
    "f(10)"
   ]
  },
  {
   "cell_type": "code",
   "execution_count": 21,
   "id": "2a68ef74",
   "metadata": {},
   "outputs": [
    {
     "name": "stdout",
     "output_type": "stream",
     "text": [
      "Enter the string:Hello\n",
      "Enter the word to search:ell\n"
     ]
    },
    {
     "ename": "SyntaxError",
     "evalue": "'break' outside loop (Temp/ipykernel_668/1449554997.py, line 13)",
     "output_type": "error",
     "traceback": [
      "\u001b[1;36m  File \u001b[1;32m\"C:\\Users\\Aaryan\\AppData\\Local\\Temp/ipykernel_668/1449554997.py\"\u001b[1;36m, line \u001b[1;32m13\u001b[0m\n\u001b[1;33m    break\u001b[0m\n\u001b[1;37m    ^\u001b[0m\n\u001b[1;31mSyntaxError\u001b[0m\u001b[1;31m:\u001b[0m 'break' outside loop\n"
     ]
    }
   ],
   "source": [
    "# Find some words in a sentence\n",
    "a=str(input('Enter the string:'))\n",
    "b=str(input('Enter the word to search:'))\n",
    "def py_strcmp(a,b):\n",
    "    if len(a)==len(b):\n",
    "        x=0\n",
    "        d=0\n",
    "        for i in range(len(a)):\n",
    "            if a[i]==b[i]:\n",
    "                x+=1\n",
    "        if x==len(a):\n",
    "            d=1\n",
    "        else:\n",
    "            d=0\n",
    "    else:\n",
    "        d=0\n",
    "    return d\n",
    "def find(string,search):\n",
    "    x=0\n",
    "    d=0\n",
    "    y=0\n",
    "    for i in range(len(string)-len(search)):\n",
    "        for j in range(i,i+len(search)):\n",
    "            if py_strcmp(string[j],search[j-i])==1:\n",
    "                x+=1\n",
    "        if x==len(search):\n",
    "            d=1\n",
    "            break\n",
    "        else:\n",
    "            y+=1\n",
    "    if y==len(string):\n",
    "        d=0\n",
    "    return d\n",
    "print(find(a,b))"
   ]
  },
  {
   "cell_type": "code",
   "execution_count": 8,
   "id": "1ac5e7f0",
   "metadata": {},
   "outputs": [
    {
     "name": "stdout",
     "output_type": "stream",
     "text": [
      "Enter the string:Hello my name is Aaryan\n",
      "Hello my name is Aaryan\n"
     ]
    }
   ],
   "source": [
    "a=str(input('Enter the string:'))\n",
    "print(a)"
   ]
  },
  {
   "cell_type": "code",
   "execution_count": 12,
   "id": "efa14c1c",
   "metadata": {},
   "outputs": [
    {
     "name": "stdout",
     "output_type": "stream",
     "text": [
      "(1, 0)\n"
     ]
    }
   ],
   "source": [
    "def f():\n",
    "    d=1\n",
    "    x=0\n",
    "    return (d,x)\n",
    "print(f())"
   ]
  },
  {
   "cell_type": "code",
   "execution_count": 30,
   "id": "1a518858",
   "metadata": {},
   "outputs": [
    {
     "name": "stdout",
     "output_type": "stream",
     "text": [
      "Enter the decimal number:2\n",
      "['b', '0', '0', '0', '0', '0', '0', '1']\n"
     ]
    }
   ],
   "source": [
    "# Find biased exponent for converting decimal to binary\n",
    "n=int(input('Enter the decimal number:'))\n",
    "def exponent(n):\n",
    "    li=list(bin(n))\n",
    "    del(li[0],li[1])\n",
    "    n=len(li)+127\n",
    "    req=list(bin(n))\n",
    "    del(req[0],req[1])\n",
    "    print(req)\n",
    "exponent(n)"
   ]
  },
  {
   "cell_type": "code",
   "execution_count": 23,
   "id": "1d32d6d0",
   "metadata": {},
   "outputs": [
    {
     "name": "stdout",
     "output_type": "stream",
     "text": [
      "[1, 0]\n"
     ]
    }
   ],
   "source": [
    "b=[]\n",
    "b.append(1)\n",
    "b.append(0)\n",
    "print(b)"
   ]
  },
  {
   "cell_type": "code",
   "execution_count": 56,
   "id": "7fe83f83",
   "metadata": {},
   "outputs": [
    {
     "ename": "KeyboardInterrupt",
     "evalue": "",
     "output_type": "error",
     "traceback": [
      "\u001b[1;31m---------------------------------------------------------------------------\u001b[0m",
      "\u001b[1;31mKeyboardInterrupt\u001b[0m                         Traceback (most recent call last)",
      "\u001b[1;32m~\\AppData\\Local\\Temp/ipykernel_668/985367948.py\u001b[0m in \u001b[0;36m<module>\u001b[1;34m\u001b[0m\n\u001b[0;32m     16\u001b[0m                 \u001b[0mli\u001b[0m\u001b[1;33m.\u001b[0m\u001b[0mappend\u001b[0m\u001b[1;33m(\u001b[0m\u001b[1;36m1\u001b[0m\u001b[1;33m)\u001b[0m\u001b[1;33m\u001b[0m\u001b[1;33m\u001b[0m\u001b[0m\n\u001b[0;32m     17\u001b[0m     \u001b[1;32mreturn\u001b[0m \u001b[0mli\u001b[0m\u001b[1;33m\u001b[0m\u001b[1;33m\u001b[0m\u001b[0m\n\u001b[1;32m---> 18\u001b[1;33m \u001b[0mmy_bin_8\u001b[0m\u001b[1;33m(\u001b[0m\u001b[1;36m2\u001b[0m\u001b[1;33m)\u001b[0m\u001b[1;33m\u001b[0m\u001b[1;33m\u001b[0m\u001b[0m\n\u001b[0m",
      "\u001b[1;32m~\\AppData\\Local\\Temp/ipykernel_668/985367948.py\u001b[0m in \u001b[0;36mmy_bin_8\u001b[1;34m(n)\u001b[0m\n\u001b[0;32m     11\u001b[0m     \u001b[1;32melse\u001b[0m\u001b[1;33m:\u001b[0m\u001b[1;33m\u001b[0m\u001b[1;33m\u001b[0m\u001b[0m\n\u001b[0;32m     12\u001b[0m         \u001b[1;32mwhile\u001b[0m \u001b[0mint_n\u001b[0m\u001b[1;33m>\u001b[0m\u001b[1;36m1\u001b[0m\u001b[1;33m:\u001b[0m\u001b[1;33m\u001b[0m\u001b[1;33m\u001b[0m\u001b[0m\n\u001b[1;32m---> 13\u001b[1;33m             \u001b[0mn\u001b[0m\u001b[1;33m=\u001b[0m\u001b[0mint\u001b[0m\u001b[1;33m(\u001b[0m\u001b[0mn\u001b[0m\u001b[1;33m/\u001b[0m\u001b[1;36m2\u001b[0m\u001b[1;33m)\u001b[0m\u001b[1;33m\u001b[0m\u001b[1;33m\u001b[0m\u001b[0m\n\u001b[0m\u001b[0;32m     14\u001b[0m             \u001b[0mli\u001b[0m\u001b[1;33m.\u001b[0m\u001b[0mappend\u001b[0m\u001b[1;33m(\u001b[0m\u001b[0mn\u001b[0m\u001b[1;33m%\u001b[0m\u001b[1;36m2\u001b[0m\u001b[1;33m)\u001b[0m\u001b[1;33m\u001b[0m\u001b[1;33m\u001b[0m\u001b[0m\n\u001b[0;32m     15\u001b[0m             \u001b[1;32mif\u001b[0m \u001b[0mn\u001b[0m\u001b[1;33m==\u001b[0m\u001b[1;36m1\u001b[0m\u001b[1;33m:\u001b[0m\u001b[1;33m\u001b[0m\u001b[1;33m\u001b[0m\u001b[0m\n",
      "\u001b[1;31mKeyboardInterrupt\u001b[0m: "
     ]
    }
   ],
   "source": [
    "def my_bin_8(n):\n",
    "    n=abs(n)\n",
    "    if n==0:\n",
    "        for i in range(8):\n",
    "            li.append(0)\n",
    "    int_n=int(n)\n",
    "    li=[]\n",
    "    if int_n==0:\n",
    "        li.append(0)\n",
    "        li.append('.')\n",
    "    else:\n",
    "        while int_n>1:\n",
    "            n=int(n/2)\n",
    "            li.append(n%2)\n",
    "            if n==1:\n",
    "                li.append(1)\n",
    "    return li\n",
    "my_bin_8(2)"
   ]
  },
  {
   "cell_type": "code",
   "execution_count": 54,
   "id": "b150fe81",
   "metadata": {},
   "outputs": [
    {
     "data": {
      "text/plain": [
       "'1'"
      ]
     },
     "execution_count": 54,
     "metadata": {},
     "output_type": "execute_result"
    }
   ],
   "source": [
    "bin(1)[2:]"
   ]
  },
  {
   "cell_type": "code",
   "execution_count": null,
   "id": "9ea8ac6b",
   "metadata": {},
   "outputs": [],
   "source": []
  },
  {
   "cell_type": "code",
   "execution_count": null,
   "id": "5bf0b1a9",
   "metadata": {},
   "outputs": [],
   "source": []
  },
  {
   "cell_type": "code",
   "execution_count": null,
   "id": "4570b566",
   "metadata": {},
   "outputs": [],
   "source": []
  }
 ],
 "metadata": {
  "kernelspec": {
   "display_name": "Python 3 (ipykernel)",
   "language": "python",
   "name": "python3"
  },
  "language_info": {
   "codemirror_mode": {
    "name": "ipython",
    "version": 3
   },
   "file_extension": ".py",
   "mimetype": "text/x-python",
   "name": "python",
   "nbconvert_exporter": "python",
   "pygments_lexer": "ipython3",
   "version": "3.9.7"
  }
 },
 "nbformat": 4,
 "nbformat_minor": 5
}
