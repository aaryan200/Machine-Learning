{
 "cells": [
  {
   "cell_type": "code",
   "execution_count": 2,
   "id": "a2ad46d8",
   "metadata": {},
   "outputs": [],
   "source": [
    "import numpy as np\n",
    "import matplotlib.pyplot as plt\n",
    "import scipy.linalg as la\n",
    "%matplotlib inline"
   ]
  },
  {
   "cell_type": "code",
   "execution_count": 9,
   "id": "fe66568b",
   "metadata": {},
   "outputs": [],
   "source": [
    "def det(A):\n",
    "    '''\n",
    "    Returns determinant of a SQUARE matrix\n",
    "    '''\n",
    "    n=A.shape[0]\n",
    "    if n==1:\n",
    "        d=A[0,0]\n",
    "    if n==2:\n",
    "        d=A[0,0]*A[1,1]-A[1,0]*A[0,1]\n",
    "    if n>2:\n",
    "        d=0\n",
    "        for j in range(n):\n",
    "            B=np.random.rand(n-1,n-1)\n",
    "            for col in range(j):\n",
    "                for row in range(1,n):\n",
    "                    B[row-1,col]=A[row,col]\n",
    "            for col in range(j+1,n):\n",
    "                for row in range(1,n):\n",
    "                    B[row-1,col-1]=A[row,col]\n",
    "            d+=((-1)**j)*det(B)*A[0,j]\n",
    "    return d "
   ]
  },
  {
   "cell_type": "code",
   "execution_count": 22,
   "id": "97b99a9d",
   "metadata": {},
   "outputs": [
    {
     "name": "stdout",
     "output_type": "stream",
     "text": [
      "50.0\n"
     ]
    }
   ],
   "source": [
    "E=np.array([[1,0,2,3],[0,1,-2,1],[3,-3,4,-2],[-2,1,-2,-1]])\n",
    "print(det(A)) "
   ]
  },
  {
   "cell_type": "code",
   "execution_count": 24,
   "id": "b7ddd340",
   "metadata": {},
   "outputs": [
    {
     "name": "stdout",
     "output_type": "stream",
     "text": [
      "1875.0\n"
     ]
    }
   ],
   "source": [
    "X=np.array([[1,2,3,4,5],[2,3,4,5,1],[3,4,5,1,2],[4,5,1,2,3],[5,1,2,3,4]])\n",
    "print(det(X))"
   ]
  },
  {
   "cell_type": "code",
   "execution_count": 5,
   "id": "3884f7ec",
   "metadata": {},
   "outputs": [],
   "source": [
    "def inv(A):\n",
    "    '''\n",
    "    Returns the inverse of a NON-SINGULAR SQUARE matrix\n",
    "    '''\n",
    "    n=A.shape[0]\n",
    "    d=det(A)\n",
    "    if d!=0:\n",
    "        A_inv=np.random.rand(n,n)\n",
    "        for i in range(n):\n",
    "            for j in range(n):\n",
    "                B=np.random.rand(n-1,n-1)\n",
    "                for row in range(i):\n",
    "                    for col in range(j):\n",
    "                        B[row,col]=A[row,col]\n",
    "                    for col in range(j+1,n):\n",
    "                        B[row,col-1]=A[row,col]\n",
    "                for row in range(i+1,n):\n",
    "                    for col in range(0,j):\n",
    "                        B[row-1,col]=A[row,col]\n",
    "                    for col in range(j+1,n):\n",
    "                        B[row-1,col-1]=A[row,col]\n",
    "                #Now B has become the minor of A[i,j]\n",
    "                #So cofactor=((-1)**(i+j))*B\n",
    "                \n",
    "                A_inv[i,j]=float((((-1)**(i+j))*det(B)/d))\n",
    "                A_inv[i,j]=round(A_inv[i,j],5)\n",
    "        A_inv=A_inv. T\n",
    "        return A_inv\n",
    "    if abs(d)<=1.0e-16:\n",
    "        s=\"Inverse is NOT possible:This is a singular matrix\"\n",
    "        return s"
   ]
  },
  {
   "cell_type": "code",
   "execution_count": 7,
   "id": "94a31313",
   "metadata": {},
   "outputs": [
    {
     "name": "stdout",
     "output_type": "stream",
     "text": [
      "[[-0.08333 -0.33333  0.58333]\n",
      " [-0.08333  0.66667 -0.41667]\n",
      " [ 0.41667 -0.33333  0.08333]]\n"
     ]
    }
   ],
   "source": [
    "F=np.array([[1,2,3],[2,3,1],[3,2,1]])\n",
    "print(inv(F))"
   ]
  },
  {
   "cell_type": "code",
   "execution_count": 8,
   "id": "ca4e49be",
   "metadata": {},
   "outputs": [
    {
     "name": "stdout",
     "output_type": "stream",
     "text": [
      "Inverse is NOT possible:This is a singular matrix\n"
     ]
    }
   ],
   "source": [
    "G=np.array([[1,2,3],[1,2,3],[4,23,33]])\n",
    "print(inv(G))"
   ]
  },
  {
   "cell_type": "code",
   "execution_count": 37,
   "id": "a67bf966",
   "metadata": {},
   "outputs": [
    {
     "name": "stdout",
     "output_type": "stream",
     "text": [
      "[[-0.18667  0.01333  0.01333  0.01333  0.21333]\n",
      " [ 0.01333  0.01333  0.01333  0.21333 -0.18667]\n",
      " [ 0.01333  0.01333  0.21333 -0.18667  0.01333]\n",
      " [ 0.01333  0.21333 -0.18667  0.01333  0.01333]\n",
      " [ 0.21333 -0.18667  0.01333  0.01333  0.01333]]\n"
     ]
    }
   ],
   "source": [
    "Y=np.array([[1,2,3,4,5],[2,3,4,5,1],[3,4,5,1,2],[4,5,1,2,3],[5,1,2,3,4]])\n",
    "print(inv(Y))"
   ]
  },
  {
   "cell_type": "code",
   "execution_count": null,
   "id": "222498ab",
   "metadata": {},
   "outputs": [],
   "source": []
  },
  {
   "cell_type": "code",
   "execution_count": null,
   "id": "74e14aae",
   "metadata": {},
   "outputs": [],
   "source": []
  },
  {
   "cell_type": "code",
   "execution_count": null,
   "id": "d24a0f8d",
   "metadata": {},
   "outputs": [],
   "source": []
  },
  {
   "cell_type": "code",
   "execution_count": null,
   "id": "d01cec7b",
   "metadata": {},
   "outputs": [],
   "source": []
  },
  {
   "cell_type": "code",
   "execution_count": null,
   "id": "6669e380",
   "metadata": {},
   "outputs": [],
   "source": []
  },
  {
   "cell_type": "code",
   "execution_count": null,
   "id": "02ec84ac",
   "metadata": {},
   "outputs": [],
   "source": []
  },
  {
   "cell_type": "code",
   "execution_count": null,
   "id": "bb321d67",
   "metadata": {},
   "outputs": [],
   "source": []
  },
  {
   "cell_type": "code",
   "execution_count": null,
   "id": "41f371ac",
   "metadata": {},
   "outputs": [],
   "source": []
  }
 ],
 "metadata": {
  "kernelspec": {
   "display_name": "Python 3 (ipykernel)",
   "language": "python",
   "name": "python3"
  },
  "language_info": {
   "codemirror_mode": {
    "name": "ipython",
    "version": 3
   },
   "file_extension": ".py",
   "mimetype": "text/x-python",
   "name": "python",
   "nbconvert_exporter": "python",
   "pygments_lexer": "ipython3",
   "version": "3.9.7"
  }
 },
 "nbformat": 4,
 "nbformat_minor": 5
}
