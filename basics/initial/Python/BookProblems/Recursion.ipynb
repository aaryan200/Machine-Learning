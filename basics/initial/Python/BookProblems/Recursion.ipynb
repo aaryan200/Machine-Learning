{
 "cells": [
  {
   "cell_type": "code",
   "execution_count": 2,
   "id": "a45b5b88",
   "metadata": {},
   "outputs": [
    {
     "name": "stdout",
     "output_type": "stream",
     "text": [
      "0\n",
      "1\n",
      "2\n",
      "3\n",
      "4\n",
      "5\n",
      "6\n",
      "7\n",
      "8\n",
      "9\n"
     ]
    }
   ],
   "source": [
    "for i in range(10):\n",
    "    print(i)"
   ]
  },
  {
   "cell_type": "code",
   "execution_count": 4,
   "id": "87b0774f",
   "metadata": {},
   "outputs": [],
   "source": [
    "def get_word_score(word, n):\n",
    "    \"\"\"\n",
    "    Returns the score for a word. Assumes the word is a\n",
    "    valid word.\n",
    "\n",
    "    You may assume that the input word is always either a string of letters, \n",
    "    or the empty string \"\". You may not assume that the string will only contain \n",
    "    lowercase letters, so you will have to handle uppercase and mixed case strings \n",
    "    appropriately. \n",
    "\n",
    "\tThe score for a word is the product of two components:\n",
    "\n",
    "\tThe first component is the sum of the points for letters in the word.\n",
    "\tThe second component is the larger of:\n",
    "            1, or\n",
    "            7*wordlen - 3*(n-wordlen), where wordlen is the length of the word\n",
    "            and n is the hand length when the word was played\n",
    "\n",
    "\tLetters are scored as in Scrabble; A is worth 1, B is\n",
    "\tworth 3, C is worth 3, D is worth 2, E is worth 1, and so on.\n",
    "\n",
    "    word: string\n",
    "    n: int >= 0\n",
    "    returns: int >= 0\n",
    "    \"\"\"\n",
    "    l=len(word)\n",
    "    if (7*l-3*(n-l))>1:\n",
    "        return(7*l-3*(n-l))\n",
    "    else:\n",
    "        return 1"
   ]
  },
  {
   "cell_type": "code",
   "execution_count": 5,
   "id": "6ef550f8",
   "metadata": {},
   "outputs": [
    {
     "data": {
      "text/plain": [
       "22"
      ]
     },
     "execution_count": 5,
     "metadata": {},
     "output_type": "execute_result"
    }
   ],
   "source": [
    "get_word_score(\"Weed\",6)"
   ]
  },
  {
   "cell_type": "code",
   "execution_count": null,
   "id": "05725a6d",
   "metadata": {},
   "outputs": [],
   "source": []
  },
  {
   "cell_type": "code",
   "execution_count": null,
   "id": "2577d241",
   "metadata": {},
   "outputs": [],
   "source": []
  },
  {
   "cell_type": "code",
   "execution_count": null,
   "id": "532015d6",
   "metadata": {},
   "outputs": [],
   "source": []
  },
  {
   "cell_type": "code",
   "execution_count": null,
   "id": "1984348e",
   "metadata": {},
   "outputs": [],
   "source": []
  },
  {
   "cell_type": "code",
   "execution_count": null,
   "id": "c518396e",
   "metadata": {},
   "outputs": [],
   "source": []
  }
 ],
 "metadata": {
  "kernelspec": {
   "display_name": "Python 3 (ipykernel)",
   "language": "python",
   "name": "python3"
  },
  "language_info": {
   "codemirror_mode": {
    "name": "ipython",
    "version": 3
   },
   "file_extension": ".py",
   "mimetype": "text/x-python",
   "name": "python",
   "nbconvert_exporter": "python",
   "pygments_lexer": "ipython3",
   "version": "3.9.7"
  }
 },
 "nbformat": 4,
 "nbformat_minor": 5
}
