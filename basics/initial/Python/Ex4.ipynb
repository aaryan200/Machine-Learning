{
 "cells": [
  {
   "cell_type": "code",
   "execution_count": 22,
   "id": "e4527487",
   "metadata": {},
   "outputs": [
    {
     "name": "stdout",
     "output_type": "stream",
     "text": [
      "N=10\n",
      "3.14159265358979311600\n"
     ]
    }
   ],
   "source": [
    "N=int(input('N='))\n",
    "from math import sqrt\n",
    "def temp(k):\n",
    "    if k>=1:\n",
    "        o=1\n",
    "        m=396**k\n",
    "        for i in range(3*k):\n",
    "            if i<k:\n",
    "                o=o*(k+i+1)/(i+1)\n",
    "                o=o/396\n",
    "            elif (i>=k and i<2*k):\n",
    "                o=o*(k+i+1)/(i-k+1)\n",
    "                o=o/396\n",
    "            else:\n",
    "                o=o*(k+i+1)/(i-2*k+1)\n",
    "                o=o/396\n",
    "        o=o*(2206+52780*k)*sqrt(2)/(9801*m)\n",
    "        return o\n",
    "out=2206*sqrt(2)/9801\n",
    "for i in range(1,N):\n",
    "    out+=temp(i)\n",
    "ram_pi=1/out\n",
    "print(format(ram_pi,'.20f'))"
   ]
  },
  {
   "cell_type": "code",
   "execution_count": 14,
   "id": "a5731c27",
   "metadata": {},
   "outputs": [],
   "source": [
    "from math import factorial,pi"
   ]
  },
  {
   "cell_type": "code",
   "execution_count": 21,
   "id": "8a035f96",
   "metadata": {},
   "outputs": [
    {
     "data": {
      "text/plain": [
       "'3.14159265358979311600'"
      ]
     },
     "execution_count": 21,
     "metadata": {},
     "output_type": "execute_result"
    }
   ],
   "source": [
    "format(pi,'.20f')"
   ]
  },
  {
   "cell_type": "markdown",
   "id": "8d5c9d4e",
   "metadata": {},
   "source": [
    "Crazy output of Array 1"
   ]
  },
  {
   "cell_type": "code",
   "execution_count": 41,
   "id": "76f07a96",
   "metadata": {},
   "outputs": [
    {
     "name": "stdout",
     "output_type": "stream",
     "text": [
      "Enter the numbers:8 7 2 5 9 8\n",
      "2\n",
      "9\n",
      "8\n",
      "7\n",
      "5\n",
      "8\n"
     ]
    }
   ],
   "source": [
    "x=input('Enter the numbers:').split()\n",
    "li=[]\n",
    "for i in range(len(x)):\n",
    "    li.append(int(x[i]))\n",
    "m=len(li)\n",
    "if m%2==1:\n",
    "    i=int(m/2)\n",
    "else:\n",
    "    i=int(m/2 -1)\n",
    "while m>0:\n",
    "    print(li[i])\n",
    "    del(li[i])\n",
    "    m=len(li)\n",
    "    if i!=m:\n",
    "        if (m-i)%2==0:\n",
    "            i=int((m+i)/2 -1)\n",
    "        else:\n",
    "            i=i+int((m-i)/2) \n",
    "    else:\n",
    "        if m%2==1:\n",
    "            i=int(m/2)\n",
    "        else:\n",
    "            i=int(m/2 -1)"
   ]
  },
  {
   "cell_type": "markdown",
   "id": "03144341",
   "metadata": {},
   "source": [
    "Crazy output of Array 2"
   ]
  },
  {
   "cell_type": "code",
   "execution_count": 40,
   "id": "65324478",
   "metadata": {},
   "outputs": [
    {
     "data": {
      "text/plain": [
       "2.0"
      ]
     },
     "execution_count": 40,
     "metadata": {},
     "output_type": "execute_result"
    }
   ],
   "source": []
  },
  {
   "cell_type": "code",
   "execution_count": 2,
   "id": "5fdab6e6",
   "metadata": {},
   "outputs": [
    {
     "name": "stdout",
     "output_type": "stream",
     "text": [
      "17\n"
     ]
    }
   ],
   "source": [
    "class profile:\n",
    "    def __init__(self,n,a):\n",
    "        self.name = n\n",
    "        self.age = a\n",
    "o=profile(\"Aaryan\",17)\n",
    "print(o.age)"
   ]
  },
  {
   "cell_type": "code",
   "execution_count": 20,
   "id": "f29fdd6c",
   "metadata": {},
   "outputs": [
    {
     "ename": "AssertionError",
     "evalue": "Use the syntax Rectangle(length , breadth)",
     "output_type": "error",
     "traceback": [
      "\u001b[0;31m---------------------------------------------------------------------------\u001b[0m",
      "\u001b[0;31mAssertionError\u001b[0m                            Traceback (most recent call last)",
      "Input \u001b[0;32mIn [20]\u001b[0m, in \u001b[0;36m<cell line: 28>\u001b[0;34m()\u001b[0m\n\u001b[1;32m     26\u001b[0m         a \u001b[38;5;241m=\u001b[39m pi\u001b[38;5;241m*\u001b[39m(\u001b[38;5;28mself\u001b[39m\u001b[38;5;241m.\u001b[39ma)\u001b[38;5;241m*\u001b[39m(\u001b[38;5;28mself\u001b[39m\u001b[38;5;241m.\u001b[39mb)\n\u001b[1;32m     27\u001b[0m         \u001b[38;5;28;01mreturn\u001b[39;00m a\n\u001b[0;32m---> 28\u001b[0m e1\u001b[38;5;241m=\u001b[39m \u001b[43mRectangle\u001b[49m\u001b[43m(\u001b[49m\u001b[38;5;241;43m3\u001b[39;49m\u001b[43m,\u001b[49m\u001b[38;5;241;43m4\u001b[39;49m\u001b[43m)\u001b[49m\n\u001b[1;32m     29\u001b[0m \u001b[38;5;28mprint\u001b[39m(e1\u001b[38;5;241m.\u001b[39marea())\n",
      "Input \u001b[0;32mIn [20]\u001b[0m, in \u001b[0;36mRectangle.__init__\u001b[0;34m(self, length, breadth)\u001b[0m\n\u001b[1;32m      4\u001b[0m \u001b[38;5;28;01mdef\u001b[39;00m \u001b[38;5;21m__init__\u001b[39m(\u001b[38;5;28mself\u001b[39m,length,breadth):\n\u001b[1;32m      5\u001b[0m     \u001b[38;5;28;01massert\u001b[39;00m length \u001b[38;5;241m>\u001b[39m \u001b[38;5;241m0\u001b[39m \u001b[38;5;129;01mand\u001b[39;00m breadth \u001b[38;5;241m>\u001b[39m \u001b[38;5;241m0\u001b[39m\n\u001b[0;32m----> 6\u001b[0m     \u001b[38;5;28;01massert\u001b[39;00m length \u001b[38;5;241m>\u001b[39m breadth , \u001b[38;5;124m\"\u001b[39m\u001b[38;5;124mUse the syntax Rectangle(length , breadth)\u001b[39m\u001b[38;5;124m\"\u001b[39m\n\u001b[1;32m      7\u001b[0m     \u001b[38;5;28mself\u001b[39m\u001b[38;5;241m.\u001b[39mlength \u001b[38;5;241m=\u001b[39m length\n\u001b[1;32m      8\u001b[0m     \u001b[38;5;28mself\u001b[39m\u001b[38;5;241m.\u001b[39mbreadth \u001b[38;5;241m=\u001b[39m breadth\n",
      "\u001b[0;31mAssertionError\u001b[0m: Use the syntax Rectangle(length , breadth)"
     ]
    }
   ],
   "source": [
    "from math import pi,sqrt\n",
    "\n",
    "class Rectangle:\n",
    "    def __init__(self,length,breadth):\n",
    "        assert length > 0 and breadth > 0\n",
    "        assert length > breadth , \"Use the syntax Rectangle(length , breadth)\"\n",
    "        self.length = length\n",
    "        self.breadth = breadth\n",
    "    def perimeter(self):\n",
    "        p=2*(self.length + self.breadth)\n",
    "        return p\n",
    "    def area(self):\n",
    "        a=(self.length)*(self.breadth)\n",
    "        return a\n",
    "\n",
    "class Ellipse:\n",
    "    def __init__(self,semi_major_axis,semi_minor_axis):\n",
    "        assert semi_minor_axis > 0 and semi_major_axis > 0\n",
    "        assert semi_major_axis > semi_minor_axis , \"Use the syntax Ellipse(semi_major_axis,semi_minor_axis)\"\n",
    "        self.a = semi_major_axis\n",
    "        self.b = semi_minor_axis\n",
    "    def perimeter(self):\n",
    "        p = pi*sqrt(2*((self.a)**2 + (self.b)**2))\n",
    "        return p\n",
    "    def area(self):\n",
    "        a = pi*(self.a)*(self.b)\n",
    "        return a\n",
    "e1= Rectangle()\n",
    "print(e1.area())"
   ]
  },
  {
   "cell_type": "code",
   "execution_count": 7,
   "id": "982b5cb5",
   "metadata": {},
   "outputs": [
    {
     "data": {
      "text/plain": [
       "37.69911184307752"
      ]
     },
     "execution_count": 7,
     "metadata": {},
     "output_type": "execute_result"
    }
   ],
   "source": [
    "12*pi"
   ]
  },
  {
   "cell_type": "code",
   "execution_count": 21,
   "id": "e2fb0279",
   "metadata": {},
   "outputs": [],
   "source": [
    "def check_prime(n):\n",
    "    assert type(n) == int and n > 0\n",
    "    li = [1]\n",
    "    for i in range(2,n+1):\n",
    "        if n%i == 0:\n",
    "            li.append(i)\n",
    "    if len(li) > 2:\n",
    "        return f'Factors of {n} are {li}'\n",
    "    else:\n",
    "        return f'{n} is a prime number'"
   ]
  },
  {
   "cell_type": "code",
   "execution_count": 24,
   "id": "e250de37",
   "metadata": {},
   "outputs": [
    {
     "ename": "AssertionError",
     "evalue": "",
     "output_type": "error",
     "traceback": [
      "\u001b[0;31m---------------------------------------------------------------------------\u001b[0m",
      "\u001b[0;31mAssertionError\u001b[0m                            Traceback (most recent call last)",
      "Input \u001b[0;32mIn [24]\u001b[0m, in \u001b[0;36m<cell line: 1>\u001b[0;34m()\u001b[0m\n\u001b[0;32m----> 1\u001b[0m \u001b[43mcheck_prime\u001b[49m\u001b[43m(\u001b[49m\u001b[38;5;241;43m-\u001b[39;49m\u001b[38;5;241;43m6\u001b[39;49m\u001b[43m)\u001b[49m\n",
      "Input \u001b[0;32mIn [21]\u001b[0m, in \u001b[0;36mcheck_prime\u001b[0;34m(n)\u001b[0m\n\u001b[1;32m      1\u001b[0m \u001b[38;5;28;01mdef\u001b[39;00m \u001b[38;5;21mcheck_prime\u001b[39m(n):\n\u001b[0;32m----> 2\u001b[0m     \u001b[38;5;28;01massert\u001b[39;00m \u001b[38;5;28mtype\u001b[39m(n) \u001b[38;5;241m==\u001b[39m \u001b[38;5;28mint\u001b[39m \u001b[38;5;129;01mand\u001b[39;00m n \u001b[38;5;241m>\u001b[39m \u001b[38;5;241m0\u001b[39m\n\u001b[1;32m      3\u001b[0m     li \u001b[38;5;241m=\u001b[39m [\u001b[38;5;241m1\u001b[39m]\n\u001b[1;32m      4\u001b[0m     \u001b[38;5;28;01mfor\u001b[39;00m i \u001b[38;5;129;01min\u001b[39;00m \u001b[38;5;28mrange\u001b[39m(\u001b[38;5;241m2\u001b[39m,n\u001b[38;5;241m+\u001b[39m\u001b[38;5;241m1\u001b[39m):\n",
      "\u001b[0;31mAssertionError\u001b[0m: "
     ]
    }
   ],
   "source": [
    "check_prime(-6)"
   ]
  },
  {
   "cell_type": "code",
   "execution_count": 27,
   "id": "aedac3f1",
   "metadata": {},
   "outputs": [
    {
     "data": {
      "text/plain": [
       "2"
      ]
     },
     "execution_count": 27,
     "metadata": {},
     "output_type": "execute_result"
    }
   ],
   "source": [
    "import numpy as np\n",
    "E=np.array([[1,2,3],[4,5,6],[7,8,9]])\n",
    "x= E.shape\n",
    "len(x)"
   ]
  },
  {
   "cell_type": "code",
   "execution_count": 34,
   "id": "c4f67df9",
   "metadata": {},
   "outputs": [
    {
     "name": "stdout",
     "output_type": "stream",
     "text": [
      "Move disk 1 from tower 1 to tower 2.\n",
      "Move disk 2 from tower 1 to tower 3.\n",
      "Move disk 1 from tower 2 to tower 3.\n",
      "Move disk 3 from tower 1 to tower 2.\n",
      "Move disk 1 from tower 3 to tower 1.\n",
      "Move disk 2 from tower 3 to tower 2.\n",
      "Move disk 1 from tower 1 to tower 2.\n"
     ]
    }
   ],
   "source": [
    "def my_towers(N, from_tower, to_tower, alt_tower):\n",
    "    \"\"\"\n",
    "    Displays the moves required to move a tower of size\n",
    "    N from the \"from_tower\" to the \"to_tower\".\n",
    "    \"from_tower\", \"to_tower\" and \"alt_tower\" are\n",
    "    either 1, 2, 3 referring to tower 1, 2, and 3.\n",
    "    \"\"\"\n",
    "    if N != 0:\n",
    "# recursive call that moves N-1 stack from\n",
    "# starting tower to alternate tower\n",
    "        my_towers(N-1, from_tower, alt_tower, to_tower)\n",
    "# display to screen movement of bottom disk from\n",
    "# starting tower to final tower\n",
    "        print(\"Move disk %d from tower %d to tower %d.\"\\\n",
    "              %(N, from_tower, to_tower))\n",
    "# recursive call that moves N-1 stack from\n",
    "# alternate tower to final tower\n",
    "        my_towers(N-1, alt_tower, to_tower, from_tower)\n",
    "my_towers(3,1,2,3)"
   ]
  },
  {
   "cell_type": "code",
   "execution_count": 37,
   "id": "1848d606",
   "metadata": {},
   "outputs": [
    {
     "name": "stdout",
     "output_type": "stream",
     "text": [
      "Move disk 1 from tower 1 to tower 2\n",
      "Move disk 2 from tower 1 to tower 3\n",
      "Move disk 1 from tower 2 to tower 3\n",
      "Move disk 3 from tower 1 to tower 2\n",
      "Move disk 1 from tower 3 to tower 1\n",
      "Move disk 2 from tower 3 to tower 2\n",
      "Move disk 1 from tower 1 to tower 2\n"
     ]
    }
   ],
   "source": [
    "def my_towers(N, from_tower, to_tower, alt_tower):\n",
    "    \"\"\"\n",
    "    Displays the moves required to move a tower of size\n",
    "    N from the \"from_tower\" to the \"to_tower\".\n",
    "    \"from_tower\", \"to_tower\" and \"alt_tower\" are\n",
    "    either 1, 2, 3 referring to tower 1, 2, and 3.\n",
    "    \"\"\"\n",
    "    if N != 0:\n",
    "# recursive call that moves N-1 stack from\n",
    "# starting tower to alternate tower\n",
    "        my_towers(N-1, from_tower, alt_tower, to_tower)\n",
    "# display to screen movement of bottom disk from\n",
    "# starting tower to final tower\n",
    "        print(f'Move disk {N} from tower {from_tower} to tower {to_tower}')\n",
    "# recursive call that moves N-1 stack from\n",
    "# alternate tower to final tower\n",
    "        my_towers(N-1, alt_tower, to_tower, from_tower)\n",
    "    return\n",
    "my_towers(3,1,2,3)"
   ]
  },
  {
   "cell_type": "code",
   "execution_count": 42,
   "id": "76b5d186",
   "metadata": {},
   "outputs": [
    {
     "name": "stdout",
     "output_type": "stream",
     "text": [
      "Enter the number of disks:4\n",
      "Move disk 1 from 1 to 4\n",
      "Move disk 2 from 1 to 3\n",
      "Move disk 1 from 4 to 3\n",
      "Move disk 3 from 1 to 2\n",
      "Move disk 4 from 1 to 4\n",
      "Move disk 3 from 2 to 4\n",
      "Move disk 1 from 3 to 1\n",
      "Move disk 2 from 3 to 4\n",
      "Move disk 1 from 1 to 4\n"
     ]
    }
   ],
   "source": [
    "N=int(input('Enter the number of disks:'))\n",
    "def hanoi_towers(N,from_tower,alt1,alt2,to_tower):\n",
    "    if N != 0:\n",
    "        hanoi_towers(N-2,from_tower,to_tower,alt1,alt2)\n",
    "        print(f'Move disk {N-1} from {from_tower} to {alt1}')\n",
    "        print(f'Move disk {N} from {from_tower} to {to_tower}')\n",
    "        print(f'Move disk {N-1} from {alt1} to {to_tower}')\n",
    "        hanoi_towers(N-2,alt2,from_tower,alt1,to_tower)\n",
    "        return\n",
    "hanoi_towers(N,1,2,3,4)"
   ]
  },
  {
   "cell_type": "code",
   "execution_count": 36,
   "id": "6edd4327",
   "metadata": {},
   "outputs": [
    {
     "name": "stdout",
     "output_type": "stream",
     "text": [
      "a-1 = 2\n"
     ]
    }
   ],
   "source": [
    "a=3\n",
    "print(f'a-1 = {a-1}')"
   ]
  },
  {
   "cell_type": "code",
   "execution_count": 54,
   "id": "ba0356f0",
   "metadata": {},
   "outputs": [
    {
     "name": "stdout",
     "output_type": "stream",
     "text": [
      "Enter the integers:1 2 3\n",
      "False\n"
     ]
    }
   ],
   "source": [
    "a= input('Enter the integers:').split()\n",
    "A=[]\n",
    "for i in range(len(a)):\n",
    "    A.append(int(a[i]))\n",
    "def check(A):\n",
    "    for i in range(len(A)):\n",
    "        for j in range(len(A)):\n",
    "            for k in range(len(A)):\n",
    "                if (A[i]**2 == A[j]**2 + A[k]**2):\n",
    "                    return True\n",
    "    return False\n",
    "print(check(A))"
   ]
  },
  {
   "cell_type": "code",
   "execution_count": 51,
   "id": "30550099",
   "metadata": {},
   "outputs": [
    {
     "ename": "TypeError",
     "evalue": "unsupported operand type(s) for -: 'str' and 'int'",
     "output_type": "error",
     "traceback": [
      "\u001b[0;31m---------------------------------------------------------------------------\u001b[0m",
      "\u001b[0;31mTypeError\u001b[0m                                 Traceback (most recent call last)",
      "Input \u001b[0;32mIn [51]\u001b[0m, in \u001b[0;36m<cell line: 6>\u001b[0;34m()\u001b[0m\n\u001b[1;32m      4\u001b[0m \u001b[38;5;28;01mdef\u001b[39;00m \u001b[38;5;21mf\u001b[39m():\n\u001b[1;32m      5\u001b[0m     \u001b[38;5;28mprint\u001b[39m(x\u001b[38;5;241m-\u001b[39m\u001b[38;5;241m1\u001b[39m)\n\u001b[0;32m----> 6\u001b[0m \u001b[43mf\u001b[49m\u001b[43m(\u001b[49m\u001b[43m)\u001b[49m\n",
      "Input \u001b[0;32mIn [51]\u001b[0m, in \u001b[0;36mf\u001b[0;34m()\u001b[0m\n\u001b[1;32m      4\u001b[0m \u001b[38;5;28;01mdef\u001b[39;00m \u001b[38;5;21mf\u001b[39m():\n\u001b[0;32m----> 5\u001b[0m     \u001b[38;5;28mprint\u001b[39m(\u001b[43mx\u001b[49m\u001b[38;5;241;43m-\u001b[39;49m\u001b[38;5;241;43m1\u001b[39;49m)\n",
      "\u001b[0;31mTypeError\u001b[0m: unsupported operand type(s) for -: 'str' and 'int'"
     ]
    }
   ],
   "source": [
    "#x=2\n",
    "#x=\"Hello\"\n",
    "#%reset\n",
    "def f():\n",
    "    print(x-1)\n",
    "f()"
   ]
  },
  {
   "cell_type": "code",
   "execution_count": 62,
   "id": "b9243e9e",
   "metadata": {},
   "outputs": [
    {
     "name": "stdout",
     "output_type": "stream",
     "text": [
      "[ 1  2  2  3  3  4  4  7 11 82]\n"
     ]
    }
   ],
   "source": [
    "a= [1,4,4,3,2,7,82,11,2,3]\n",
    "a=np.sort(a)\n",
    "print(a)"
   ]
  },
  {
   "cell_type": "code",
   "execution_count": 59,
   "id": "ecfb7394",
   "metadata": {},
   "outputs": [],
   "source": [
    "np.sort?"
   ]
  },
  {
   "cell_type": "code",
   "execution_count": 65,
   "id": "48678df4",
   "metadata": {},
   "outputs": [
    {
     "name": "stdout",
     "output_type": "stream",
     "text": [
      "1.41421356237309492343\n",
      "1.41421356237309514547\n"
     ]
    }
   ],
   "source": [
    "from math import sqrt\n",
    "x=2/sqrt(2)\n",
    "y=sqrt(2)\n",
    "print(format(x,'.20f'))\n",
    "print(format(y,'.20f'))"
   ]
  },
  {
   "cell_type": "code",
   "execution_count": 75,
   "id": "915a6118",
   "metadata": {},
   "outputs": [
    {
     "name": "stdout",
     "output_type": "stream",
     "text": [
      "Enter some integers:6 8 10\n"
     ]
    },
    {
     "data": {
      "text/plain": [
       "True"
      ]
     },
     "execution_count": 75,
     "metadata": {},
     "output_type": "execute_result"
    }
   ],
   "source": [
    "a= input('Enter some integers:').split()\n",
    "A=[]\n",
    "for i in range(len(a)):\n",
    "    A.append(int(a[i]))\n",
    "def check_pyth_triplet(li):\n",
    "    '''\n",
    "    The function check_pyth_triplet takes a list or array of numbers li as argument and returns true if li \n",
    "    contain pythagorean triplet(s)\n",
    "    else returns 0\n",
    "    '''\n",
    "    assert len(li) >= 3\n",
    "    import numpy as np\n",
    "    from math import sqrt\n",
    "    li = np.sort(li)\n",
    "    n = len(li)\n",
    "    for i in range(n):\n",
    "        if n >= 2:\n",
    "            t = li[i]*sqrt(2)/2\n",
    "            j = i-1\n",
    "            while (li[j] >= t and j >= 0):\n",
    "                k = j-1\n",
    "                while (li[k]**2 + li[j]**2 >= li[i]**2 and k >= 0):\n",
    "                    if li[k]**2 + li[j]**2 == li[i]**2:\n",
    "                        return True\n",
    "                    k -= 1\n",
    "                j -= 1\n",
    "    return 0\n",
    "check_pyth_triplet(A)"
   ]
  },
  {
   "cell_type": "code",
   "execution_count": 81,
   "id": "4c23f9dc",
   "metadata": {},
   "outputs": [
    {
     "name": "stdout",
     "output_type": "stream",
     "text": [
      "[0.10998699 0.55162127]\n"
     ]
    }
   ],
   "source": [
    "a = np.random.rand(2,)\n",
    "print(a)"
   ]
  },
  {
   "cell_type": "code",
   "execution_count": 87,
   "id": "9253d56a",
   "metadata": {},
   "outputs": [
    {
     "name": "stdout",
     "output_type": "stream",
     "text": [
      "Enter different number of iterations:10000 10000 10000\n",
      "For 10000 iterations, required value is 3.1396\n",
      "For 10000 iterations, required value is 3.1336\n",
      "For 10000 iterations, required value is 3.1404\n"
     ]
    }
   ],
   "source": [
    "a= input('Enter different number of iterations:').split()\n",
    "A=[]\n",
    "for i in range(len(a)):\n",
    "    A.append(int(a[i]))\n",
    "    \n",
    "def check_random(N):\n",
    "    import numpy as np\n",
    "    n_inside = 0\n",
    "    for i in range(N):\n",
    "        b = np.random.rand(2,)\n",
    "        x = b[0]\n",
    "        y = b[1]\n",
    "        if x**2 + y**2 < 1:\n",
    "            n_inside += 1\n",
    "    c = 4*n_inside/N\n",
    "    return c\n",
    "for i in range(len(A)):\n",
    "    print(f'For {A[i]} iterations, required value is {check_random(A[i])}')"
   ]
  },
  {
   "cell_type": "code",
   "execution_count": 6,
   "id": "12a8df42",
   "metadata": {},
   "outputs": [
    {
     "ename": "AssertionError",
     "evalue": "",
     "output_type": "error",
     "traceback": [
      "\u001b[0;31m---------------------------------------------------------------------------\u001b[0m",
      "\u001b[0;31mAssertionError\u001b[0m                            Traceback (most recent call last)",
      "Input \u001b[0;32mIn [6]\u001b[0m, in \u001b[0;36m<cell line: 4>\u001b[0;34m()\u001b[0m\n\u001b[1;32m      2\u001b[0m     \u001b[38;5;28;01massert\u001b[39;00m \u001b[38;5;28mtype\u001b[39m(li[\u001b[38;5;241m0\u001b[39m])\u001b[38;5;241m==\u001b[39m\u001b[38;5;28mint\u001b[39m\n\u001b[1;32m      3\u001b[0m     \u001b[38;5;28;01mreturn\u001b[39;00m li\n\u001b[0;32m----> 4\u001b[0m \u001b[43mmy_sort\u001b[49m\u001b[43m(\u001b[49m\u001b[43m[\u001b[49m\u001b[38;5;124;43m\"\u001b[39;49m\u001b[38;5;124;43mAaryan\u001b[39;49m\u001b[38;5;124;43m\"\u001b[39;49m\u001b[43m,\u001b[49m\u001b[38;5;241;43m2\u001b[39;49m\u001b[43m,\u001b[49m\u001b[38;5;241;43m4\u001b[39;49m\u001b[43m]\u001b[49m\u001b[43m)\u001b[49m\n",
      "Input \u001b[0;32mIn [6]\u001b[0m, in \u001b[0;36mmy_sort\u001b[0;34m(li)\u001b[0m\n\u001b[1;32m      1\u001b[0m \u001b[38;5;28;01mdef\u001b[39;00m \u001b[38;5;21mmy_sort\u001b[39m(li):\n\u001b[0;32m----> 2\u001b[0m     \u001b[38;5;28;01massert\u001b[39;00m \u001b[38;5;28mtype\u001b[39m(li[\u001b[38;5;241m0\u001b[39m])\u001b[38;5;241m==\u001b[39m\u001b[38;5;28mint\u001b[39m\n\u001b[1;32m      3\u001b[0m     \u001b[38;5;28;01mreturn\u001b[39;00m li\n",
      "\u001b[0;31mAssertionError\u001b[0m: "
     ]
    }
   ],
   "source": [
    "def my_sort(li):\n",
    "    pivot=li[0]\n",
    "    "
   ]
  },
  {
   "cell_type": "code",
   "execution_count": null,
   "id": "b57376d8",
   "metadata": {},
   "outputs": [],
   "source": []
  },
  {
   "cell_type": "code",
   "execution_count": null,
   "id": "1ecb40f4",
   "metadata": {},
   "outputs": [],
   "source": []
  },
  {
   "cell_type": "code",
   "execution_count": null,
   "id": "c58899d8",
   "metadata": {},
   "outputs": [],
   "source": []
  },
  {
   "cell_type": "code",
   "execution_count": null,
   "id": "7aa814fd",
   "metadata": {},
   "outputs": [],
   "source": []
  },
  {
   "cell_type": "code",
   "execution_count": null,
   "id": "34ed0125",
   "metadata": {},
   "outputs": [],
   "source": []
  }
 ],
 "metadata": {
  "kernelspec": {
   "display_name": "Python 3 (ipykernel)",
   "language": "python",
   "name": "python3"
  },
  "language_info": {
   "codemirror_mode": {
    "name": "ipython",
    "version": 3
   },
   "file_extension": ".py",
   "mimetype": "text/x-python",
   "name": "python",
   "nbconvert_exporter": "python",
   "pygments_lexer": "ipython3",
   "version": "3.8.10"
  }
 },
 "nbformat": 4,
 "nbformat_minor": 5
}
