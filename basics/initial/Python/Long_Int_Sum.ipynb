{
 "cells": [
  {
   "cell_type": "code",
   "execution_count": 6,
   "id": "32c5464e",
   "metadata": {},
   "outputs": [],
   "source": [
    "def f(val):\n",
    "    val=val*2\n",
    "    return"
   ]
  },
  {
   "cell_type": "code",
   "execution_count": 7,
   "id": "6152d3ec",
   "metadata": {},
   "outputs": [
    {
     "name": "stdout",
     "output_type": "stream",
     "text": [
      "2\n"
     ]
    }
   ],
   "source": [
    "x=2\n",
    "f(x)\n",
    "print(x)"
   ]
  },
  {
   "cell_type": "markdown",
   "id": "a2f5afe5",
   "metadata": {},
   "source": [
    "# Long Int Sum"
   ]
  },
  {
   "cell_type": "code",
   "execution_count": 6,
   "id": "1e802cdc",
   "metadata": {},
   "outputs": [],
   "source": [
    "def str_del(s,i):\n",
    "    n=len(s)\n",
    "    li=[]\n",
    "    if n>1:\n",
    "        for j in range(n-1):\n",
    "            li.append('0')\n",
    "        for k in range(n):\n",
    "            if k<i:\n",
    "                li[k]=s[k]\n",
    "            elif k>i:\n",
    "                li[k-1]=s[k]\n",
    "        return li\n",
    "    else:\n",
    "        return 0\n",
    "    \n",
    "def reverse(li):\n",
    "    n=len(li)\n",
    "    li1=[]\n",
    "    for i in range(n):\n",
    "        li1.append(li[n-1-i])\n",
    "    return li1\n",
    "\n",
    "def check_neg(s):\n",
    "    if s[0]=='-':\n",
    "        return 1\n",
    "    else:\n",
    "        return 0\n",
    "\n",
    "def my_sum(s1,s2):\n",
    "    import math\n",
    "    n=len(s1)\n",
    "    m=len(s2)\n",
    "    if (check_neg(s1)==0 and check_neg(s2)==0):\n",
    "        li=[]\n",
    "        if (n>=m):\n",
    "            for i in range(n+1):\n",
    "                li.append(1)\n",
    "            c=0\n",
    "            s=0\n",
    "            for i in range(n-1,n-m-1,-1):\n",
    "                s=(int(s1[i])+int(s2[i-n+m])+c)%10\n",
    "                c=math.floor((int(s1[i])+int(s2[i-n+m])+c)/10)\n",
    "                li[i+1]=str(s)\n",
    "            for i in range(n-m-1,-1,-1):\n",
    "                s=(int(s1[i])+c)%10\n",
    "                c=math.floor((int(s1[i])+c)/10)\n",
    "                li[i+1]=str(s)\n",
    "            li[0]=str(c)\n",
    "            while (li[0]=='0'):\n",
    "                del li[0]\n",
    "            return li\n",
    "        else:\n",
    "            for i in range(m+1):\n",
    "                li.append(1)\n",
    "            c=0\n",
    "            s=0\n",
    "            for i in range(m-1,m-n-1,-1):\n",
    "                s=(int(s2[i])+int(s1[i-m+n])+c)%10\n",
    "                c=math.floor((int(s2[i])+int(s1[i-m+n])+c)/10)\n",
    "                li[i+1]=str(s)\n",
    "            for i in range(m-n-1,-1,-1):\n",
    "                s=(int(s2[i])+c)%10\n",
    "                c=math.floor((int(s2[i])+c)/10)\n",
    "                li[i+1]=str(s)\n",
    "            li[0]=str(c)\n",
    "            while (li[0]=='0'):\n",
    "                del li[0]\n",
    "            return li\n",
    "    elif (check_neg(s1)==1 and check_neg(s2)==1):\n",
    "        s1=str_del(s1,0)\n",
    "        s2=str_del(s2,0)\n",
    "        n-=1\n",
    "        m-=1\n",
    "        li=[]\n",
    "        if (n>=m):\n",
    "            for i in range(n+1):\n",
    "                li.append(1)\n",
    "            c=0\n",
    "            s=0\n",
    "            for i in range(n-1,n-m-1,-1):\n",
    "                s=(int(s1[i])+int(s2[i-n+m])+c)%10\n",
    "                c=math.floor((int(s1[i])+int(s2[i-n+m])+c)/10)\n",
    "                li[i+1]=str(s)\n",
    "            for i in range(n-m-1,-1,-1):\n",
    "                s=(int(s1[i])+c)%10\n",
    "                c=math.floor((int(s1[i])+c)/10)\n",
    "                li[i+1]=str(s)\n",
    "            li[0]=str(c)\n",
    "            while (li[0]=='0'):\n",
    "                del li[0]\n",
    "            out=[]\n",
    "            out.append('-')\n",
    "            temp=len(li)\n",
    "            for i in range(1,temp+1,1):\n",
    "                out.append(li[i-1])\n",
    "            return out\n",
    "        else:\n",
    "            for i in range(m+1):\n",
    "                li.append(1)\n",
    "            c=0\n",
    "            s=0\n",
    "            for i in range(m-1,m-n-1,-1):\n",
    "                s=(int(s2[i])+int(s1[i-m+n])+c)%10\n",
    "                c=math.floor((int(s2[i])+int(s1[i-m+n])+c)/10)\n",
    "                li[i+1]=str(s)\n",
    "            for i in range(m-n-1,-1,-1):\n",
    "                s=(int(s2[i])+c)%10\n",
    "                c=math.floor((int(s2[i])+c)/10)\n",
    "                li[i+1]=str(s)\n",
    "            li[0]=str(c)\n",
    "            while (li[0]=='0'):\n",
    "                del li[0]\n",
    "            out=[]\n",
    "            out.append('-')\n",
    "            temp=len(li)\n",
    "            for i in range(1,temp+1,1):\n",
    "                out.append(li[i-1])\n",
    "            return out\n",
    "    elif (check_neg(s1)==0 and check_neg(s2)==1):\n",
    "        while s1[0]=='0':\n",
    "            s1=str_del(s1,0)\n",
    "        while s2[1]=='0':\n",
    "            s2=str_del(s2,1)\n",
    "        s2=str_del(s2,0)\n",
    "        n=len(s1)\n",
    "        m=len(s2)\n",
    "        if n>m:  #Chota=-ve\n",
    "            li1=[]\n",
    "            for i in range(n-m):\n",
    "                li1.append('9')\n",
    "            for i in range(n-m,n,1):\n",
    "                li1.append(str(9-int(s2[i-n+m])))\n",
    "            li2=my_sum(s1,li1)\n",
    "            a=li2[0]\n",
    "            del li2[0]\n",
    "            li2=my_sum(a,li2)\n",
    "            return li2\n",
    "        elif n==m: #Kuch bhi ho skta h\n",
    "            if (int(s1[0])>int(s2[0])):\n",
    "                li1=[]\n",
    "                for i in range(n):\n",
    "                    li1.append(str(9-int(s2[i])))\n",
    "                li2=my_sum(s1,li1)\n",
    "                a=li2[0]\n",
    "                del li2[0]\n",
    "                li2=my_sum(a,li2)\n",
    "                return li2\n",
    "            elif (int(s1[0])<int(s2[0])):\n",
    "                li1=[]\n",
    "                for i in range(n):\n",
    "                    li1.append(str(9-int(s2[i])))\n",
    "                li2=my_sum(s1,li1)\n",
    "                li2=[str(9-int(i)) for i in li2]\n",
    "                while li2[0]=='0':\n",
    "                    del li2[0]\n",
    "                li3=['-']\n",
    "                for i in li2:\n",
    "                    li3.append(i)\n",
    "                return li3\n",
    "            else:\n",
    "                u=0\n",
    "                x=0\n",
    "                while s1[u]==s2[u]:\n",
    "                    u+=1\n",
    "                    x+=1\n",
    "                if x==n:\n",
    "                    return 0\n",
    "                elif (int(s1[u])>int(s2[u])):\n",
    "                    li1=[]\n",
    "                    for i in range(n):\n",
    "                        li1.append(str(9-int(s2[i])))\n",
    "                    li2=my_sum(s1,li1)\n",
    "                    a=li2[0]\n",
    "                    del li2[0]\n",
    "                    li2=my_sum(a,li2)\n",
    "                    return li2\n",
    "                elif (int(s1[u])<int(s2[u])):\n",
    "                    li1=[]\n",
    "                    for i in range(n):\n",
    "                        li1.append(str(9-int(s2[i])))\n",
    "                    li2=my_sum(s1,li1)\n",
    "                    li2=[str(9-int(i)) for i in li2]\n",
    "                    while li2[0]=='0':\n",
    "                        del li2[0]\n",
    "                    li3=['-']\n",
    "                    for i in li2:\n",
    "                        li3.append(i)\n",
    "                    return li3\n",
    "        else:\n",
    "            li=[]\n",
    "            for i in range(m):\n",
    "                li.append(str(9-int(s2[i])))\n",
    "            li2=my_sum(s1,li)\n",
    "            li2=[str(9-int(i)) for i in li2]\n",
    "            while li2[0]=='0':\n",
    "                del li2[0]\n",
    "            li3=['-']\n",
    "            for i in li2:\n",
    "                li3.append(i)\n",
    "            return li3\n",
    "    else:\n",
    "        c=s1\n",
    "        s1=s2\n",
    "        s2=c\n",
    "        return my_sum(s1,s2)"
   ]
  },
  {
   "cell_type": "code",
   "execution_count": 8,
   "id": "9380f34c",
   "metadata": {},
   "outputs": [
    {
     "name": "stdout",
     "output_type": "stream",
     "text": [
      "Enter 2 numbers:0932 -832\n",
      "100\n"
     ]
    }
   ],
   "source": [
    "s=input('Enter 2 numbers:').split()\n",
    "print(*my_sum(s[0],s[1]),sep='')"
   ]
  },
  {
   "cell_type": "code",
   "execution_count": 10,
   "id": "c923f779",
   "metadata": {},
   "outputs": [
    {
     "name": "stdout",
     "output_type": "stream",
     "text": [
      "Enter 2 numbers:-393 90230932\n",
      "90230539\n"
     ]
    }
   ],
   "source": [
    "s=input('Enter 2 numbers:').split()\n",
    "print(*my_sum(s[0],s[1]),sep='')"
   ]
  },
  {
   "cell_type": "code",
   "execution_count": 14,
   "id": "96db1a1a",
   "metadata": {
    "scrolled": true
   },
   "outputs": [
    {
     "name": "stdout",
     "output_type": "stream",
     "text": [
      "0000000000\n"
     ]
    }
   ],
   "source": [
    "string_val='0'*10\n",
    "print(string_val)"
   ]
  },
  {
   "cell_type": "code",
   "execution_count": 25,
   "id": "fb83ce68",
   "metadata": {},
   "outputs": [
    {
     "data": {
      "text/plain": [
       "5"
      ]
     },
     "execution_count": 25,
     "metadata": {},
     "output_type": "execute_result"
    }
   ],
   "source": [
    "a='2'\n",
    "b='3'\n",
    "int(a)+int(b)"
   ]
  },
  {
   "cell_type": "code",
   "execution_count": 42,
   "id": "f7cf9fb6",
   "metadata": {},
   "outputs": [
    {
     "name": "stdout",
     "output_type": "stream",
     "text": [
      "10\n",
      "9\n",
      "8\n",
      "7\n",
      "6\n",
      "5\n",
      "4\n",
      "3\n",
      "2\n",
      "1\n"
     ]
    }
   ],
   "source": [
    "for i in range(10,0,-1):\n",
    "    print(i)"
   ]
  },
  {
   "cell_type": "code",
   "execution_count": 43,
   "id": "d90a3818",
   "metadata": {},
   "outputs": [],
   "source": [
    "li=list(\"hello\")"
   ]
  },
  {
   "cell_type": "code",
   "execution_count": 37,
   "id": "acd68132",
   "metadata": {},
   "outputs": [
    {
     "name": "stdout",
     "output_type": "stream",
     "text": [
      "123\n"
     ]
    }
   ],
   "source": [
    "import numpy as np\n",
    "a=np.array([1,2,3])\n",
    "print(*a,sep='')"
   ]
  },
  {
   "cell_type": "code",
   "execution_count": 45,
   "id": "4e4b4e5d",
   "metadata": {},
   "outputs": [
    {
     "data": {
      "text/plain": [
       "'3'"
      ]
     },
     "execution_count": 45,
     "metadata": {},
     "output_type": "execute_result"
    }
   ],
   "source": [
    "e=3\n",
    "f=str(e)\n",
    "f"
   ]
  },
  {
   "cell_type": "code",
   "execution_count": 52,
   "id": "ce5aae87",
   "metadata": {},
   "outputs": [
    {
     "data": {
      "text/plain": [
       "2"
      ]
     },
     "execution_count": 52,
     "metadata": {},
     "output_type": "execute_result"
    }
   ],
   "source": [
    "import math as m\n",
    "m.floor(2.33)"
   ]
  },
  {
   "cell_type": "code",
   "execution_count": 68,
   "id": "2382d8c4",
   "metadata": {},
   "outputs": [
    {
     "name": "stdout",
     "output_type": "stream",
     "text": [
      "Enter 2 numbers:23293203 293\n",
      "23293496\n"
     ]
    }
   ],
   "source": [
    "s=input('Enter 2 numbers:').split()\n",
    "print(*sum(s[0],s[1]),sep='')"
   ]
  },
  {
   "cell_type": "code",
   "execution_count": 64,
   "id": "01842b09",
   "metadata": {},
   "outputs": [
    {
     "name": "stdout",
     "output_type": "stream",
     "text": [
      "Enter 2 numbers:8989 090\n",
      "9079\n"
     ]
    }
   ],
   "source": [
    "s=input('Enter 2 numbers:').split()\n",
    "print(*my_sum(s[0],s[1]),sep='')"
   ]
  },
  {
   "cell_type": "code",
   "execution_count": 71,
   "id": "9fe15583",
   "metadata": {},
   "outputs": [],
   "source": [
    "li=[]\n",
    "li.append(1)\n",
    "li.append(0)"
   ]
  },
  {
   "cell_type": "code",
   "execution_count": 87,
   "id": "2d3bd1ad",
   "metadata": {},
   "outputs": [
    {
     "name": "stdout",
     "output_type": "stream",
     "text": [
      "0\n",
      "1\n",
      "2\n",
      "3\n",
      "4\n",
      "5\n",
      "6\n",
      "7\n",
      "8\n",
      "9\n"
     ]
    }
   ],
   "source": [
    "i=0\n",
    "while i<10:\n",
    "    print(i)\n",
    "    i=i+1"
   ]
  },
  {
   "cell_type": "code",
   "execution_count": 83,
   "id": "a097c9e1",
   "metadata": {},
   "outputs": [
    {
     "name": "stdout",
     "output_type": "stream",
     "text": [
      "Enter 2 numbers:-23293203 -293\n",
      "-23293496\n"
     ]
    }
   ],
   "source": [
    "s=input('Enter 2 numbers:').split()\n",
    "print(*sum(s[0],s[1]),sep='')"
   ]
  },
  {
   "cell_type": "code",
   "execution_count": 17,
   "id": "420c1659",
   "metadata": {},
   "outputs": [
    {
     "data": {
      "text/plain": [
       "['8', '7', '1', '6', '1', '3', '7', '6', '4', '9', '7', '3', '4']"
      ]
     },
     "execution_count": 17,
     "metadata": {},
     "output_type": "execute_result"
    }
   ],
   "source": [
    "li2=['1', '2', '8', '3', '8', '6', '2', '3', '5', '0', '2', '6', '5']\n",
    "li2=[str(9-int(i)) for i in li2]\n",
    "li2"
   ]
  },
  {
   "cell_type": "markdown",
   "id": "6c52a866",
   "metadata": {},
   "source": [
    "# Long Int Multiply"
   ]
  },
  {
   "cell_type": "code",
   "execution_count": null,
   "id": "3ce609f3",
   "metadata": {},
   "outputs": [],
   "source": []
  },
  {
   "cell_type": "code",
   "execution_count": null,
   "id": "7a417652",
   "metadata": {},
   "outputs": [],
   "source": []
  },
  {
   "cell_type": "code",
   "execution_count": null,
   "id": "7b34c79d",
   "metadata": {},
   "outputs": [],
   "source": []
  },
  {
   "cell_type": "code",
   "execution_count": null,
   "id": "83a23159",
   "metadata": {},
   "outputs": [],
   "source": []
  },
  {
   "cell_type": "code",
   "execution_count": null,
   "id": "cab97949",
   "metadata": {},
   "outputs": [],
   "source": []
  },
  {
   "cell_type": "code",
   "execution_count": null,
   "id": "3edadb7e",
   "metadata": {},
   "outputs": [],
   "source": []
  },
  {
   "cell_type": "code",
   "execution_count": null,
   "id": "d1769e7b",
   "metadata": {},
   "outputs": [],
   "source": []
  },
  {
   "cell_type": "code",
   "execution_count": null,
   "id": "813eb9a0",
   "metadata": {},
   "outputs": [],
   "source": []
  },
  {
   "cell_type": "code",
   "execution_count": null,
   "id": "f15f614a",
   "metadata": {},
   "outputs": [],
   "source": []
  },
  {
   "cell_type": "code",
   "execution_count": null,
   "id": "c79fc672",
   "metadata": {},
   "outputs": [],
   "source": []
  },
  {
   "cell_type": "code",
   "execution_count": null,
   "id": "0816cdab",
   "metadata": {},
   "outputs": [],
   "source": []
  },
  {
   "cell_type": "code",
   "execution_count": null,
   "id": "7d0ba334",
   "metadata": {},
   "outputs": [],
   "source": []
  }
 ],
 "metadata": {
  "kernelspec": {
   "display_name": "Python 3 (ipykernel)",
   "language": "python",
   "name": "python3"
  },
  "language_info": {
   "codemirror_mode": {
    "name": "ipython",
    "version": 3
   },
   "file_extension": ".py",
   "mimetype": "text/x-python",
   "name": "python",
   "nbconvert_exporter": "python",
   "pygments_lexer": "ipython3",
   "version": "3.9.7"
  }
 },
 "nbformat": 4,
 "nbformat_minor": 5
}
