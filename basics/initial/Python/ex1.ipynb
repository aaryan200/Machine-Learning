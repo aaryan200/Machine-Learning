{
 "cells": [
  {
   "cell_type": "code",
   "execution_count": null,
   "id": "3f8bc935",
   "metadata": {},
   "outputs": [],
   "source": [
    "# Recursion\n",
    "def myfib(n):\n",
    "    if n in {0,1}:\n",
    "        return n\n",
    "    return myfib(n-2)+myfib(n-1) #Recursion\n",
    "myfib(10)"
   ]
  },
  {
   "cell_type": "code",
   "execution_count": null,
   "id": "f370d36f",
   "metadata": {},
   "outputs": [],
   "source": [
    "for n in range(11):\n",
    "    if n>2:\n",
    "        print(f'{myfib(n-1)}+{myfib(n-2)}={myfib(n)}')"
   ]
  },
  {
   "cell_type": "code",
   "execution_count": null,
   "id": "ac653047",
   "metadata": {},
   "outputs": [],
   "source": [
    "def myfib1():\n",
    "    a=0\n",
    "    b=1\n",
    "    print(0)\n",
    "    print(1)\n",
    "    for i in range(2,11):\n",
    "        c=a+b\n",
    "        print(f'fib({i})={c}')\n",
    "        a=b\n",
    "        b=c\n",
    "myfib1()"
   ]
  },
  {
   "cell_type": "code",
   "execution_count": null,
   "id": "c80b8ac8",
   "metadata": {},
   "outputs": [],
   "source": [
    "def fact(n):\n",
    "    if n in {0}:\n",
    "        return 1\n",
    "    return fact(n-1)*n\n",
    "x=fact(193)\n",
    "y=float(x)\n",
    "print(y)"
   ]
  },
  {
   "cell_type": "code",
   "execution_count": null,
   "id": "ff35fa72",
   "metadata": {
    "scrolled": true
   },
   "outputs": [],
   "source": [
    "def myfact(n):\n",
    "    a=1\n",
    "    for i in range(1,n+1):\n",
    "        a=a*i\n",
    "    return a\n",
    "y=myfact(100)\n",
    "x=float(y)\n",
    "print(x)"
   ]
  },
  {
   "cell_type": "code",
   "execution_count": null,
   "id": "1caabf42",
   "metadata": {},
   "outputs": [],
   "source": []
  },
  {
   "cell_type": "markdown",
   "id": "a8e25182",
   "metadata": {},
   "source": [
    "COMPLEXITY"
   ]
  },
  {
   "cell_type": "code",
   "execution_count": 1,
   "id": "223230a2",
   "metadata": {},
   "outputs": [
    {
     "data": {
      "text/plain": [
       "2025"
      ]
     },
     "execution_count": 1,
     "metadata": {},
     "output_type": "execute_result"
    }
   ],
   "source": [
    "def f(n):\n",
    "    sum=0\n",
    "    for i in range(n):\n",
    "        for j in range(n):\n",
    "            sum=sum+i*j\n",
    "    return sum\n",
    "f(10)"
   ]
  },
  {
   "cell_type": "markdown",
   "id": "569e1300",
   "metadata": {},
   "source": []
  },
  {
   "cell_type": "code",
   "execution_count": 2,
   "id": "121dd03d",
   "metadata": {},
   "outputs": [
    {
     "name": "stdout",
     "output_type": "stream",
     "text": [
      "sqrt=2.6457513198256493\n"
     ]
    }
   ],
   "source": [
    "n=7\n",
    "eps=0.0000001\n",
    "l=0\n",
    "if n<1:\n",
    "    h=1\n",
    "if n>1:\n",
    "    h=n\n",
    "if n==1:\n",
    "    h=2\n",
    "while l<h:\n",
    "    m=(l+h)/2\n",
    "    if m*m-n>eps:\n",
    "        h=m\n",
    "    elif m*m-n<(-1*eps):\n",
    "        l=m\n",
    "    else:\n",
    "        print(f'sqrt={m}')\n",
    "        break\n"
   ]
  },
  {
   "cell_type": "markdown",
   "id": "18d1ad78",
   "metadata": {},
   "source": [
    "Stirling approximation:  $\\ln{n!} \\approx n*\\ln{n} -n$"
   ]
  },
  {
   "cell_type": "code",
   "execution_count": null,
   "id": "81c01482",
   "metadata": {},
   "outputs": [],
   "source": []
  },
  {
   "cell_type": "markdown",
   "id": "9dbd363f",
   "metadata": {},
   "source": [
    "%reset is used to clear all variables in jupyter"
   ]
  },
  {
   "cell_type": "code",
   "execution_count": null,
   "id": "c80e396e",
   "metadata": {},
   "outputs": [],
   "source": [
    "%%timeit -n 5\n",
    "a=[[1,2,3],[4,5,6]]\n",
    "b=[[1,2],[3,4],[5,6]]\n",
    "c=[[0,0],[0,0]]\n",
    "for i in range(0,2):\n",
    "    for j in range(0,2):\n",
    "        for k in range(0,3):\n",
    "            c[i][j]+=a[i][k]*b[k][j]\n",
    "print(c)"
   ]
  },
  {
   "cell_type": "code",
   "execution_count": null,
   "id": "c821b2de",
   "metadata": {},
   "outputs": [],
   "source": [
    "%%timeit -n 5\n",
    "import numpy as np\n",
    "d=np.array([[1,2,3],[4,5,6]])\n",
    "e=np.array([[1,2],[3,4],[5,6]])\n",
    "f=np.dot(d,e)\n",
    "print(f)"
   ]
  },
  {
   "cell_type": "code",
   "execution_count": null,
   "id": "5ce2d6bb",
   "metadata": {},
   "outputs": [],
   "source": [
    "from math import factorial as fact\n",
    "import numpy as np\n",
    "b=np.array()\n",
    "b.reshape(120,5)"
   ]
  },
  {
   "cell_type": "code",
   "execution_count": 5,
   "id": "1b183480",
   "metadata": {},
   "outputs": [
    {
     "name": "stdout",
     "output_type": "stream",
     "text": [
      "1729\n",
      "(1,12)\n",
      "(9,10)\n",
      "(10,9)\n",
      "(12,1)\n",
      "4104\n",
      "(2,16)\n",
      "(9,15)\n",
      "(15,9)\n",
      "(16,2)\n"
     ]
    }
   ],
   "source": [
    "def cub(n):\n",
    "    a=n**3\n",
    "    return a\n",
    "for i in range(1,10000):\n",
    "    x=0\n",
    "    for j in range(1,100):\n",
    "        for k in range(1,100):\n",
    "            if i==cub(j)+cub(k):\n",
    "                x=x+1\n",
    "    if x>=4:\n",
    "        print(i)\n",
    "        for j in range(1,100):\n",
    "            for k in range(1,100):\n",
    "                if i==cub(j)+cub(k):\n",
    "                    print(f'({j},{k})')"
   ]
  },
  {
   "cell_type": "code",
   "execution_count": 34,
   "id": "aa20e225",
   "metadata": {},
   "outputs": [
    {
     "name": "stdout",
     "output_type": "stream",
     "text": [
      "0.7390851332151607\n"
     ]
    }
   ],
   "source": [
    "from math import sin,cos,tan\n",
    "#from math import cos\n",
    "g=1\n",
    "eps=0.00000000001\n",
    "while ((g-cos(g)>eps) or (g-cos(g)<(-1*eps))):\n",
    "    g=(cos(g)+g*sin(g))/(1+sin(g))\n",
    "print(g)"
   ]
  },
  {
   "cell_type": "code",
   "execution_count": 49,
   "id": "e73c1255",
   "metadata": {},
   "outputs": [
    {
     "name": "stdout",
     "output_type": "stream",
     "text": [
      "2.7777415447319737e-06\n"
     ]
    }
   ],
   "source": [
    "g=0.5\n",
    "eps=0.00000000000000001\n",
    "while ((g-tan(g)>eps) or (g-tan(g)<(-1*eps))):\n",
    "    g=(g+g*(tan(g)**2)-tan(g))/(tan(g)**2)\n",
    "print(g)"
   ]
  },
  {
   "cell_type": "code",
   "execution_count": null,
   "id": "8b6bb843",
   "metadata": {},
   "outputs": [],
   "source": [
    "def f(x):\n",
    "    return x*x-19\n",
    "import matplotlib.pyplot as plt\n",
    "h=8/100\n",
    "x=[]\n",
    "for i in range(101):\n",
    "    x.append(-4+)"
   ]
  },
  {
   "cell_type": "code",
   "execution_count": 1,
   "id": "f0e1d706",
   "metadata": {},
   "outputs": [
    {
     "ename": "KeyboardInterrupt",
     "evalue": "",
     "output_type": "error",
     "traceback": [
      "\u001b[1;31m---------------------------------------------------------------------------\u001b[0m",
      "\u001b[1;31mKeyboardInterrupt\u001b[0m                         Traceback (most recent call last)",
      "\u001b[1;32m~\\AppData\\Local\\Temp/ipykernel_9200/10767549.py\u001b[0m in \u001b[0;36m<module>\u001b[1;34m\u001b[0m\n\u001b[0;32m      2\u001b[0m \u001b[0mg\u001b[0m\u001b[1;33m=\u001b[0m\u001b[0mn\u001b[0m\u001b[1;33m/\u001b[0m\u001b[1;36m2\u001b[0m\u001b[1;33m\u001b[0m\u001b[1;33m\u001b[0m\u001b[0m\n\u001b[0;32m      3\u001b[0m \u001b[1;32mwhile\u001b[0m \u001b[0mg\u001b[0m\u001b[1;33m*\u001b[0m\u001b[0mg\u001b[0m\u001b[1;33m!=\u001b[0m\u001b[0mn\u001b[0m\u001b[1;33m:\u001b[0m\u001b[1;33m\u001b[0m\u001b[1;33m\u001b[0m\u001b[0m\n\u001b[1;32m----> 4\u001b[1;33m     \u001b[0mg\u001b[0m\u001b[1;33m=\u001b[0m\u001b[1;33m(\u001b[0m\u001b[0mg\u001b[0m\u001b[1;33m*\u001b[0m\u001b[0mg\u001b[0m\u001b[1;33m+\u001b[0m\u001b[0mn\u001b[0m\u001b[1;33m)\u001b[0m\u001b[1;33m/\u001b[0m\u001b[1;33m(\u001b[0m\u001b[1;36m2\u001b[0m\u001b[1;33m*\u001b[0m\u001b[0mn\u001b[0m\u001b[1;33m)\u001b[0m\u001b[1;33m\u001b[0m\u001b[1;33m\u001b[0m\u001b[0m\n\u001b[0m\u001b[0;32m      5\u001b[0m \u001b[0mprint\u001b[0m\u001b[1;33m(\u001b[0m\u001b[0mg\u001b[0m\u001b[1;33m)\u001b[0m\u001b[1;33m\u001b[0m\u001b[1;33m\u001b[0m\u001b[0m\n",
      "\u001b[1;31mKeyboardInterrupt\u001b[0m: "
     ]
    }
   ],
   "source": [
    "n=16\n",
    "g=n/2\n",
    "while g*g!=n:\n",
    "    g=(g*g+n)/(2*n)\n",
    "print(g)"
   ]
  },
  {
   "cell_type": "code",
   "execution_count": 1,
   "id": "ea6029f3",
   "metadata": {},
   "outputs": [
    {
     "name": "stdout",
     "output_type": "stream",
     "text": [
      "2176788490672\n"
     ]
    }
   ],
   "source": [
    "a=5\n",
    "print(id(a))"
   ]
  },
  {
   "cell_type": "code",
   "execution_count": 17,
   "id": "8867da23",
   "metadata": {},
   "outputs": [
    {
     "name": "stdout",
     "output_type": "stream",
     "text": [
      "2176865664000 2176864864064\n",
      "2176865664000 2176864864064\n"
     ]
    }
   ],
   "source": [
    "def swap(a,b):\n",
    "    assert type(a)==list and type(b)==list\n",
    "    t=a[:]\n",
    "    a[:]=b[:]\n",
    "    b[:]=t\n",
    "    return\n",
    "a=[1,2,3]\n",
    "b=[4,5,6]\n",
    "print(id(a),id(b))\n",
    "swap(a,b)\n",
    "print(id(a),id(b))"
   ]
  },
  {
   "cell_type": "code",
   "execution_count": 15,
   "id": "b8faf104",
   "metadata": {
    "scrolled": true
   },
   "outputs": [
    {
     "name": "stdout",
     "output_type": "stream",
     "text": [
      "2176865661440\n",
      "2176788490544\n",
      "2176788490576 2176788490608\n"
     ]
    }
   ],
   "source": [
    "a=[1,2,3]\n",
    "print(id(a))\n",
    "print(id(a[0]))\n",
    "print(id(a[1]),id(a[2]))"
   ]
  },
  {
   "cell_type": "code",
   "execution_count": null,
   "id": "ab720471",
   "metadata": {},
   "outputs": [],
   "source": []
  },
  {
   "cell_type": "code",
   "execution_count": null,
   "id": "583f6cd5",
   "metadata": {},
   "outputs": [],
   "source": []
  },
  {
   "cell_type": "code",
   "execution_count": null,
   "id": "e11ef9e6",
   "metadata": {},
   "outputs": [],
   "source": []
  }
 ],
 "metadata": {
  "kernelspec": {
   "display_name": "Python 3 (ipykernel)",
   "language": "python",
   "name": "python3"
  },
  "language_info": {
   "codemirror_mode": {
    "name": "ipython",
    "version": 3
   },
   "file_extension": ".py",
   "mimetype": "text/x-python",
   "name": "python",
   "nbconvert_exporter": "python",
   "pygments_lexer": "ipython3",
   "version": "3.9.7"
  }
 },
 "nbformat": 4,
 "nbformat_minor": 5
}
