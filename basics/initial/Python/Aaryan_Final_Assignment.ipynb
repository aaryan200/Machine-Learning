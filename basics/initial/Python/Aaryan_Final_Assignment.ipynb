{
 "cells": [
  {
   "cell_type": "code",
   "execution_count": 13,
   "id": "ec780d84",
   "metadata": {},
   "outputs": [],
   "source": [
    "from math import pi,sqrt,exp\n",
    "import numpy as np\n",
    "import matplotlib.pyplot as plt"
   ]
  },
  {
   "cell_type": "markdown",
   "id": "5136ce38",
   "metadata": {},
   "source": [
    "# Question 1"
   ]
  },
  {
   "cell_type": "code",
   "execution_count": 3,
   "id": "226f35b9",
   "metadata": {},
   "outputs": [],
   "source": [
    "class Rectangle:\n",
    "    '''\n",
    "    Input: length ,breadth of rectangle\n",
    "    To output area of rectangle, use function area()\n",
    "    To output perimeter of rectangle, use function perimeter()\n",
    "    '''\n",
    "    def __init__(self,length,breadth):\n",
    "        assert length > 0 and breadth > 0\n",
    "        assert length > breadth , \"Use the syntax Rectangle(length , breadth)\"\n",
    "        self.length = length\n",
    "        self.breadth = breadth\n",
    "    def perimeter(self):\n",
    "        p=2*(self.length + self.breadth)\n",
    "        return p\n",
    "    def area(self):\n",
    "        a=(self.length)*(self.breadth)\n",
    "        return a\n",
    "\n",
    "class Ellipse:\n",
    "    '''\n",
    "    Input: semi major axis ,semi minor axis of ellipse\n",
    "    To output area of ellipse, use function area()\n",
    "    To output perimeter of ellipse, use function perimeter()\n",
    "    '''\n",
    "    def __init__(self,semi_major_axis,semi_minor_axis):\n",
    "        assert semi_minor_axis > 0 and semi_major_axis > 0\n",
    "        assert semi_major_axis > semi_minor_axis , \"Use the syntax Ellipse(semi_major_axis,semi_minor_axis)\"\n",
    "        self.a = semi_major_axis\n",
    "        self.b = semi_minor_axis\n",
    "    def perimeter(self):\n",
    "        p = pi*sqrt(2*((self.a)**2 + (self.b)**2))\n",
    "        return p\n",
    "    def area(self):\n",
    "        a = pi*(self.a)*(self.b)\n",
    "        return a"
   ]
  },
  {
   "cell_type": "code",
   "execution_count": 5,
   "id": "ec97aec4",
   "metadata": {},
   "outputs": [
    {
     "name": "stdout",
     "output_type": "stream",
     "text": [
      "14 12\n"
     ]
    }
   ],
   "source": [
    "R1 = Rectangle(4,3)\n",
    "print(R1.perimeter() , R1.area())"
   ]
  },
  {
   "cell_type": "code",
   "execution_count": 7,
   "id": "6b851394",
   "metadata": {},
   "outputs": [
    {
     "name": "stdout",
     "output_type": "stream",
     "text": [
      "22.21441469079183 37.69911184307752\n"
     ]
    }
   ],
   "source": [
    "E1 = Ellipse(4,3)\n",
    "print(E1.perimeter() , E1.area())"
   ]
  },
  {
   "cell_type": "markdown",
   "id": "35b463f3",
   "metadata": {},
   "source": [
    "# Question 2"
   ]
  },
  {
   "cell_type": "code",
   "execution_count": 8,
   "id": "09536c2c",
   "metadata": {},
   "outputs": [],
   "source": [
    "def check_prime(n):\n",
    "    '''\n",
    "    The function check_prime takes a natural number n as an input \n",
    "    If n is prime it return a string which says n is prime\n",
    "    If n is composite it return a list of factors of n\n",
    "    '''\n",
    "    assert type(n) == int and n > 0\n",
    "    li = [1]\n",
    "    for i in range(2,n+1):\n",
    "        if n%i == 0:\n",
    "            li.append(i)\n",
    "    if len(li) > 2:\n",
    "        return f'Factors of {n} are {li}'\n",
    "    else:\n",
    "        return f'{n} is a prime number'"
   ]
  },
  {
   "cell_type": "code",
   "execution_count": 9,
   "id": "495f561b",
   "metadata": {},
   "outputs": [
    {
     "data": {
      "text/plain": [
       "'19 is a prime number'"
      ]
     },
     "execution_count": 9,
     "metadata": {},
     "output_type": "execute_result"
    }
   ],
   "source": [
    "check_prime(19)"
   ]
  },
  {
   "cell_type": "code",
   "execution_count": 10,
   "id": "f5698382",
   "metadata": {},
   "outputs": [
    {
     "data": {
      "text/plain": [
       "'Factors of 200 are [1, 2, 4, 5, 8, 10, 20, 25, 40, 50, 100, 200]'"
      ]
     },
     "execution_count": 10,
     "metadata": {},
     "output_type": "execute_result"
    }
   ],
   "source": [
    "check_prime(200)"
   ]
  },
  {
   "cell_type": "markdown",
   "id": "765513ac",
   "metadata": {},
   "source": [
    "# Question 3"
   ]
  },
  {
   "cell_type": "code",
   "execution_count": 11,
   "id": "6f9763dc",
   "metadata": {},
   "outputs": [],
   "source": [
    "# In this function 1st row (0th index row) is used for calculating determinant of a matrix.\n",
    "\n",
    "def my_rec_det(A):\n",
    "    '''\n",
    "    Returns determinant of a square matrix A by using Cramer's Rule\n",
    "    '''\n",
    "    import numpy as np\n",
    "    assert len(A.shape) == 2 and A.shape[0] == A.shape[1] ,\"Only square matrices are allowed\"\n",
    "    n = A.shape[0]\n",
    "    if n == 1:\n",
    "        d = A[0,0]\n",
    "    if n >= 2:\n",
    "        d = 0\n",
    "        for j in range(n):\n",
    "            M = np.zeros((n-1)**2)\n",
    "            M = M.reshape(n-1,n-1)\n",
    "            for col in range(j):\n",
    "                for row in range(1,n):\n",
    "                    M[row-1,col]=A[row,col]\n",
    "            for col in range(j+1,n):\n",
    "                for row in range(1,n):\n",
    "                    M[row-1,col-1]=A[row,col]\n",
    "            #M has become the minor corresponding to A[0,j]\n",
    "            \n",
    "            d+=((-1)**j)*my_rec_det(M)*A[0,j]\n",
    "    return d"
   ]
  },
  {
   "cell_type": "code",
   "execution_count": 17,
   "id": "2aece1e9",
   "metadata": {},
   "outputs": [
    {
     "name": "stdout",
     "output_type": "stream",
     "text": [
      "0.0 2238.0\n",
      "0.0 2237.9999999999977\n"
     ]
    }
   ],
   "source": [
    "A = np.array([[1,2,3],[4,5,6],[7,8,9]])\n",
    "\n",
    "B = np.array([[3,4,5],[2,33,44],[223,4,3]])\n",
    "print(my_rec_det(A),my_rec_det(B))\n",
    "print(np.linalg.det(A),np.linalg.det(B))"
   ]
  },
  {
   "cell_type": "markdown",
   "id": "99a5c57e",
   "metadata": {},
   "source": [
    "# Hanoi Towers Problem with 4 towers"
   ]
  },
  {
   "cell_type": "code",
   "execution_count": 7,
   "id": "5d23ef08",
   "metadata": {},
   "outputs": [
    {
     "name": "stdout",
     "output_type": "stream",
     "text": [
      "Enter the number of disks:2\n",
      "Enter which tower is starting tower:1\n",
      "Enter which tower is the ending tower:4\n",
      "Enter which tower is 1st alternative tower:3\n",
      "Enter which tower is 2nd alternative tower:2\n",
      "Move disk 1 from 1 to 3\n",
      "Move disk 2 from 1 to 4\n",
      "Move disk 1 from 3 to 4\n"
     ]
    }
   ],
   "source": [
    "# This is one of the solution from many solutions since alt_tower1 and alt_tower2 can be interchanged\n",
    "\n",
    "N = int(input('Enter the number of disks:'))\n",
    "from_tower = int(input('Enter which tower is starting tower:'))\n",
    "to_tower = int(input('Enter which tower is the ending tower:'))\n",
    "alt_tower1 = int(input('Enter which tower is 1st alternative tower:'))\n",
    "alt_tower2 = int(input('Enter which tower is 2nd alternative tower:'))\n",
    "def hanoi_towers(N,from_tower,alt_tower1,alt_tower2,to_tower):\n",
    "    '''\n",
    "    This function prints the steps of moving N disks from one tower to another tower with a total of \n",
    "    4 towers and follows Hanoi Tower's Rules\n",
    "    '''\n",
    "    if N != 0:\n",
    "        # Move top N-2 disks from from_tower to alt_tower2\n",
    "        hanoi_towers(N-2,from_tower,to_tower,alt_tower1,alt_tower2)\n",
    "        # Move (N-1)th disk from from_tower to alt_tower1\n",
    "        print(f'Move disk {N-1} from {from_tower} to {alt_tower1}')\n",
    "        # Move Nth disk from from_tower to to_tower\n",
    "        print(f'Move disk {N} from {from_tower} to {to_tower}')\n",
    "        # Move (N-1)th disk from alt_tower1 to to_tower\n",
    "        print(f'Move disk {N-1} from {alt_tower1} to {to_tower}')\n",
    "        # Move N-2 disks from alt_tower2 to to_tower\n",
    "        hanoi_towers(N-2,alt_tower2,from_tower,alt_tower1,to_tower)\n",
    "        return\n",
    "hanoi_towers(N,from_tower,alt_tower1,alt_tower2,to_tower)"
   ]
  },
  {
   "cell_type": "markdown",
   "id": "2128ae4f",
   "metadata": {},
   "source": [
    "# Question 5"
   ]
  },
  {
   "cell_type": "code",
   "execution_count": 19,
   "id": "29b344bc",
   "metadata": {},
   "outputs": [
    {
     "name": "stdout",
     "output_type": "stream",
     "text": [
      "Enter some integers:28 320 3 1 33 23 42 3 4 13 5\n",
      "True\n"
     ]
    }
   ],
   "source": [
    "a= input('Enter some integers:').split()\n",
    "A=[]\n",
    "for i in range(len(a)):\n",
    "    A.append(int(a[i]))\n",
    "    \n",
    "# The function check_pyth_triplet takes a list or array of numbers li as argument and returns true if li \n",
    "# contain pythagorean triplet(s)\n",
    "# else returns 0\n",
    "def check_pyth_triplet(li):\n",
    "    '''\n",
    "    The function check_pyth_triplet takes a list or array of numbers li as argument and returns true if li \n",
    "    contain pythagorean triplet(s)\n",
    "    else returns 0\n",
    "    '''\n",
    "    assert len(li) >= 3\n",
    "    import numpy as np\n",
    "    from math import sqrt\n",
    "    li = np.sort(li)\n",
    "    n = len(li)\n",
    "    for i in range(n):\n",
    "        t = li[i]*sqrt(2)/2\n",
    "        x = li[i]**2\n",
    "        j = i-1\n",
    "        while (li[j] >= t and j >= 0):\n",
    "            k = j-1\n",
    "            y = li[j]**2\n",
    "            while (li[k]**2 + y >= x and k >= 0):\n",
    "                if li[k]**2 + y == x:\n",
    "                    return True\n",
    "                k -= 1\n",
    "            j -= 1\n",
    "    return 0\n",
    "print(check_pyth_triplet(A))"
   ]
  },
  {
   "cell_type": "markdown",
   "id": "0103f02e",
   "metadata": {},
   "source": [
    "# Question 6"
   ]
  },
  {
   "cell_type": "code",
   "execution_count": 20,
   "id": "3d3707f5",
   "metadata": {},
   "outputs": [
    {
     "name": "stdout",
     "output_type": "stream",
     "text": [
      "Enter different number of iterations:10000 20000 30000\n",
      "For 10000 iterations, required value is 3.1168\n",
      "For 20000 iterations, required value is 3.121\n",
      "For 30000 iterations, required value is 3.1696\n"
     ]
    }
   ],
   "source": [
    "a= input('Enter different number of iterations:').split()\n",
    "A=[]\n",
    "for i in range(len(a)):\n",
    "    A.append(int(a[i]))\n",
    "    \n",
    "def check_random(N):\n",
    "    '''\n",
    "    Input : Number of Iterations\n",
    "    It generates random coordinates (x,y) by using np.random.rand\n",
    "    Output : Value of 4*(number of times (x,y) is found inside a circle of unit radius)/(Number of Iterations)\n",
    "    '''\n",
    "    import numpy as np\n",
    "    n_inside = 0\n",
    "    for i in range(N):\n",
    "        b = np.random.rand(2,)\n",
    "        x = b[0]\n",
    "        y = b[1]\n",
    "        if x**2 + y**2 < 1:\n",
    "            n_inside += 1\n",
    "    c = 4*(n_inside)/N\n",
    "    return c\n",
    "for i in range(len(A)):\n",
    "    print(f'For {A[i]} iterations, required value is {check_random(A[i])}')"
   ]
  },
  {
   "cell_type": "markdown",
   "id": "0c3750e5",
   "metadata": {},
   "source": [
    "These values are very close to mathematical constant $\\pi$"
   ]
  }
 ],
 "metadata": {
  "kernelspec": {
   "display_name": "Python 3 (ipykernel)",
   "language": "python",
   "name": "python3"
  },
  "language_info": {
   "codemirror_mode": {
    "name": "ipython",
    "version": 3
   },
   "file_extension": ".py",
   "mimetype": "text/x-python",
   "name": "python",
   "nbconvert_exporter": "python",
   "pygments_lexer": "ipython3",
   "version": "3.8.10"
  }
 },
 "nbformat": 4,
 "nbformat_minor": 5
}
