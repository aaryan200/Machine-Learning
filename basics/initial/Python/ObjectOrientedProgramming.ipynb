{
 "cells": [
  {
   "cell_type": "code",
   "execution_count": 1,
   "id": "ec16d5aa",
   "metadata": {},
   "outputs": [],
   "source": [
    "#Python is a language for object orineted programming\n",
    "#Class -definition of an object\n",
    "#Object - an instance of a class\n",
    "#Everything in Python is an object\n",
    "#"
   ]
  },
  {
   "cell_type": "code",
   "execution_count": 13,
   "id": "2e543cc8",
   "metadata": {},
   "outputs": [
    {
     "ename": "IndentationError",
     "evalue": "expected an indented block (Temp/ipykernel_17300/4137634061.py, line 19)",
     "output_type": "error",
     "traceback": [
      "\u001b[1;36m  File \u001b[1;32m\"C:\\Users\\aarya\\AppData\\Local\\Temp/ipykernel_17300/4137634061.py\"\u001b[1;36m, line \u001b[1;32m19\u001b[0m\n\u001b[1;33m    \u001b[0m\n\u001b[1;37m    ^\u001b[0m\n\u001b[1;31mIndentationError\u001b[0m\u001b[1;31m:\u001b[0m expected an indented block\n"
     ]
    }
   ],
   "source": [
    "class bank_account:\n",
    "    def _init_(self,initial_balance=0.0,initial_dent=0.0):\n",
    "        self.balance=initial_balance\n",
    "        self.debt=initial_debt\n",
    "    def withdraw(self,amount):\n",
    "        self.balance-=amount\n",
    "        print('New balance=',self.balance)\n",
    "    def deposit(self,amount):\n",
    "        self.balance+=amount\n",
    "        print('New balance=',self.balance)\n",
    "    def loan(self,amount):\n",
    "        self.balance+=amount\n",
    "        self.debt+=amount\n",
    "        self.print_balance()\n",
    "    def payback(self,amount):\n",
    "        self.balance-=amount\n",
    "        self.debt-=amount\n",
    "    def print_balance(self):\n",
    "        "
   ]
  },
  {
   "cell_type": "code",
   "execution_count": 11,
   "id": "67093538",
   "metadata": {},
   "outputs": [
    {
     "ename": "TypeError",
     "evalue": "bank_account() takes no arguments",
     "output_type": "error",
     "traceback": [
      "\u001b[1;31m---------------------------------------------------------------------------\u001b[0m",
      "\u001b[1;31mTypeError\u001b[0m                                 Traceback (most recent call last)",
      "\u001b[1;32m~\\AppData\\Local\\Temp/ipykernel_17300/1201527661.py\u001b[0m in \u001b[0;36m<module>\u001b[1;34m\u001b[0m\n\u001b[1;32m----> 1\u001b[1;33m \u001b[0maaryan\u001b[0m\u001b[1;33m=\u001b[0m\u001b[0mbank_account\u001b[0m\u001b[1;33m(\u001b[0m\u001b[1;36m1000\u001b[0m\u001b[1;33m)\u001b[0m\u001b[1;33m\u001b[0m\u001b[1;33m\u001b[0m\u001b[0m\n\u001b[0m\u001b[0;32m      2\u001b[0m \u001b[0maaryan\u001b[0m\u001b[1;33m.\u001b[0m\u001b[0mwithdraw\u001b[0m\u001b[1;33m(\u001b[0m\u001b[1;36m100\u001b[0m\u001b[1;33m)\u001b[0m\u001b[1;33m\u001b[0m\u001b[1;33m\u001b[0m\u001b[0m\n",
      "\u001b[1;31mTypeError\u001b[0m: bank_account() takes no arguments"
     ]
    }
   ],
   "source": [
    "aaryan=bank_account(1000)\n",
    "aaryan.withdraw(100)"
   ]
  },
  {
   "cell_type": "markdown",
   "id": "757cc7e2",
   "metadata": {},
   "source": [
    "$f(x)=\\sum_{i=0}"
   ]
  },
  {
   "cell_type": "code",
   "execution_count": 141,
   "id": "0e3f4e82",
   "metadata": {},
   "outputs": [],
   "source": [
    "from math import sin\n",
    "def mypoly(x):\n",
    "    return x**2"
   ]
  },
  {
   "cell_type": "code",
   "execution_count": 142,
   "id": "0f960fab",
   "metadata": {},
   "outputs": [
    {
     "name": "stdout",
     "output_type": "stream",
     "text": [
      "-10 100\n",
      "10 100\n"
     ]
    }
   ],
   "source": [
    "for x in [-10,10]:\n",
    "    print(x,mypoly(x))"
   ]
  },
  {
   "cell_type": "code",
   "execution_count": 145,
   "id": "fe407ca1",
   "metadata": {},
   "outputs": [
    {
     "data": {
      "image/png": "[encoded data removed]",
      "text/plain": [
       "<Figure size 432x288 with 1 Axes>"
      ]
     },
     "metadata": {
      "needs_background": "light"
     },
     "output_type": "display_data"
    }
   ],
   "source": [
    "import numpy as np\n",
    "import matplotlib.pyplot as plt\n",
    "x=np.linspace(-1,1,1000,endpoint=True)\n",
    "f=mypoly(x)\n",
    "plt.plot(x,f)\n",
    "plt.show()"
   ]
  },
  {
   "cell_type": "code",
   "execution_count": 16,
   "id": "e9365b47",
   "metadata": {},
   "outputs": [
    {
     "name": "stdout",
     "output_type": "stream",
     "text": [
      "Aaryan\n",
      "17\n",
      "95\n",
      "Haryana\n",
      "He Paid: 10000\n"
     ]
    }
   ],
   "source": [
    "class c:\n",
    "    def __init__(self,name,age,marks,state):\n",
    "        self.state=state\n",
    "        self.marks=marks\n",
    "        self.age=age\n",
    "        self.name=name\n",
    "    def myfun(self,fees):\n",
    "        self.fees=fees\n",
    "        self.print_fees()\n",
    "    def print_fees(self):\n",
    "        print(\"He Paid:\",self.fees)\n",
    "m=c(\"Aaryan\",17,95,\"Haryana\")\n",
    "print(m.name)\n",
    "print(m.age)\n",
    "print(m.marks)\n",
    "print(m.state)\n",
    "m.myfun(10000)"
   ]
  },
  {
   "cell_type": "code",
   "execution_count": 92,
   "id": "d79898b4",
   "metadata": {},
   "outputs": [],
   "source": [
    "def mysumlist(mylist):\n",
    "    sum=0\n",
    "    for i in mylist:\n",
    "        if (type(i)==type(3)):\n",
    "            sum+=i\n",
    "        else:\n",
    "            print(i,'don\\'t add string')\n",
    "    return sum"
   ]
  },
  {
   "cell_type": "code",
   "execution_count": 93,
   "id": "9dacf953",
   "metadata": {},
   "outputs": [
    {
     "name": "stdout",
     "output_type": "stream",
     "text": [
      "apple don't add string\n"
     ]
    },
    {
     "data": {
      "text/plain": [
       "50"
      ]
     },
     "execution_count": 93,
     "metadata": {},
     "output_type": "execute_result"
    }
   ],
   "source": [
    "a=[10,10,10,'apple',10,10]\n",
    "mysumlist(a)"
   ]
  },
  {
   "cell_type": "code",
   "execution_count": 25,
   "id": "b6b038f6",
   "metadata": {},
   "outputs": [],
   "source": [
    "def mysum(n,*args):\n",
    "    sum=0\n",
    "    for i in args:\n",
    "        sum+=i**n\n",
    "    return sum"
   ]
  },
  {
   "cell_type": "code",
   "execution_count": 31,
   "id": "93181048",
   "metadata": {},
   "outputs": [
    {
     "data": {
      "text/plain": [
       "25"
      ]
     },
     "execution_count": 31,
     "metadata": {},
     "output_type": "execute_result"
    }
   ],
   "source": [
    "mysum(2,3,4)"
   ]
  },
  {
   "cell_type": "code",
   "execution_count": 43,
   "id": "4f4c3fd0",
   "metadata": {},
   "outputs": [],
   "source": [
    "class Polynomial:\n",
    "    def __init__(self,*coeff):\n",
    "        self.coeff=list(coeff)\n",
    "    def show(self):\n",
    "        return \"Poly\" + str(tuple(self.coeff))"
   ]
  },
  {
   "cell_type": "code",
   "execution_count": 49,
   "id": "b9b2c5c9",
   "metadata": {},
   "outputs": [],
   "source": [
    "p1=[Polynomial(1,0,1,1,0)]"
   ]
  },
  {
   "cell_type": "code",
   "execution_count": 45,
   "id": "baf6b89d",
   "metadata": {},
   "outputs": [
    {
     "data": {
      "text/plain": [
       "'Poly(1, 0, 1, 1, 0)'"
      ]
     },
     "execution_count": 45,
     "metadata": {},
     "output_type": "execute_result"
    }
   ],
   "source": [
    "p1.show()"
   ]
  },
  {
   "cell_type": "code",
   "execution_count": 79,
   "id": "5c2e7ce8",
   "metadata": {},
   "outputs": [],
   "source": [
    "def max(mylist):\n",
    "    for i in mylist:\n",
    "        x=0\n",
    "        for j in mylist:\n",
    "            if i>=j:\n",
    "                x=x+1\n",
    "        if x==len(mylist):\n",
    "            print(i)\n",
    "            break"
   ]
  },
  {
   "cell_type": "code",
   "execution_count": 85,
   "id": "b4bf7d1d",
   "metadata": {},
   "outputs": [
    {
     "name": "stdout",
     "output_type": "stream",
     "text": [
      "390484823842432949023\n"
     ]
    }
   ],
   "source": [
    "a=[8440948,94294,409409442394,398,39332,390484823842432949023,390484823842432949023,888888888808]\n",
    "max(a)"
   ]
  },
  {
   "cell_type": "code",
   "execution_count": 151,
   "id": "ff97156a",
   "metadata": {},
   "outputs": [],
   "source": [
    "def xor(arg1,arg2):\n",
    "    if (arg1==True and arg2==True):\n",
    "        return False\n",
    "    if (arg1==False and arg2==True):\n",
    "        return True\n",
    "    if (arg1==True and arg2==False):\n",
    "        return True\n",
    "    if (arg1==False and arg2==False):\n",
    "        return False"
   ]
  },
  {
   "cell_type": "code",
   "execution_count": 163,
   "id": "89a73379",
   "metadata": {},
   "outputs": [
    {
     "data": {
      "text/plain": [
       "True"
      ]
     },
     "execution_count": 163,
     "metadata": {},
     "output_type": "execute_result"
    }
   ],
   "source": [
    "def poly(*args):\n",
    "    for i in args"
   ]
  },
  {
   "cell_type": "code",
   "execution_count": 30,
   "id": "b69f218f",
   "metadata": {},
   "outputs": [
    {
     "name": "stdout",
     "output_type": "stream",
     "text": [
      "Hello, Aaryan. I am a Polynomial.\n",
      "My roots are [1, 2, 3].\n",
      "My leading term is -1\n",
      "-3(x-1)(x-2)(x-3)(x-2)(x-3)(x+4)(x+5)\n"
     ]
    }
   ],
   "source": [
    "# Self is an instance of object itself\n",
    "# Self is an instance of the class that binds attributes with given arguments\n",
    "# self always points to current object\n",
    "class poly(object):\n",
    "    explanation=\"I am a Polynomial\"\n",
    "    def __init__(self,roots,leading_term):\n",
    "        self.roots=roots\n",
    "        self.leading_term=leading_term\n",
    "        self.order=len(roots) #This is a characteristic of the object of that class.\n",
    "    def __repr__(self):\n",
    "        string=str(self.leading_term)\n",
    "        for roots in self.roots:\n",
    "            if roots==0:\n",
    "                string=string+\"x\"\n",
    "            elif roots>0:\n",
    "                string=string+\"(x-{})\".format(roots)\n",
    "            else:\n",
    "                string=string+\"(x+{})\".format(-roots)\n",
    "        return string\n",
    "    def display(self):\n",
    "        string=str(self.leading_term)\n",
    "        for roots in self.roots:\n",
    "            if roots==0:\n",
    "                string=string+\"x\"\n",
    "            elif roots>0:\n",
    "                string=string+\"(x-{})\".format(roots)\n",
    "            else:\n",
    "                string=string+\"(x-{})\".format(roots)\n",
    "        return string\n",
    "    def multiply(self,other):\n",
    "        roots=self.roots+other.roots\n",
    "        leading_term=self.leading_term*other.leading_term\n",
    "        return poly(roots,leading_term)\n",
    "    def explain_to(self,caller):\n",
    "        print(\"Hello, {}. {}.\".format(caller,self.explanation))\n",
    "        print(\"My roots are {}.\".format(self.roots))\n",
    "        print(\"My leading term is\",self.leading_term)\n",
    "#    __mul__ allows it to multiply two variables together with *\n",
    " #   def __mul__(self,other):\n",
    "  #      roots=self.roots+other.roots\n",
    "   #     leading_term=self.leading_term*other.leading_term\n",
    "    #    return poly(roots,leading_term)\n",
    "p=poly([1,2,3],-1)\n",
    "p.explain_to(\"Aaryan\")\n",
    "#p.display() \n",
    "#print(p)\n",
    "q=poly([2,3,-4,-5],3)\n",
    "print(p.multiply(q))\n"
   ]
  },
  {
   "cell_type": "code",
   "execution_count": 33,
   "id": "c48ca738",
   "metadata": {},
   "outputs": [
    {
     "name": "stdout",
     "output_type": "stream",
     "text": [
      "4.358898943540674\n",
      "1255.7655915007897\n"
     ]
    }
   ],
   "source": [
    "from math import sqrt,cos,acos,tan\n",
    "print(sqrt(19))\n",
    "print(tan(1.57))"
   ]
  },
  {
   "cell_type": "code",
   "execution_count": 35,
   "id": "1e7ce1ee",
   "metadata": {},
   "outputs": [
    {
     "data": {
      "image/png": "[encoded data removed]",
      "text/plain": [
       "<Figure size 432x288 with 1 Axes>"
      ]
     },
     "metadata": {
      "needs_background": "light"
     },
     "output_type": "display_data"
    }
   ],
   "source": [
    "import matplotlib.pyplot as plt\n",
    "#import numpy as np\n",
    "pi=acos(-1)\n",
    "x=[]\n",
    "h=2*pi/3000\n",
    "y=[]\n",
    "for i in range(1001):\n",
    "    a=-pi/3+(i)*h\n",
    "    x.append(a)\n",
    "    y.append(tan(a))\n",
    "#y=np.cos(x)\n",
    "#plt.plot(x,y)\n",
    "#plt.show()\n",
    "\n",
    "plt.plot(x,y)\n",
    "plt.show()"
   ]
  },
  {
   "cell_type": "code",
   "execution_count": 1,
   "id": "7b502b9b",
   "metadata": {},
   "outputs": [],
   "source": [
    "# recording at 34:25"
   ]
  },
  {
   "cell_type": "code",
   "execution_count": 5,
   "id": "d1e1d90c",
   "metadata": {},
   "outputs": [
    {
     "name": "stdout",
     "output_type": "stream",
     "text": [
      "Enter list:2,3,4,5,\n",
      "['2', ',', '3', ',', '4', ',', '5', ',']\n"
     ]
    }
   ],
   "source": [
    "x=list(input('Enter list:'))\n",
    "print(x)"
   ]
  },
  {
   "cell_type": "code",
   "execution_count": 4,
   "id": "2b044e10",
   "metadata": {},
   "outputs": [
    {
     "name": "stdout",
     "output_type": "stream",
     "text": [
      "Enter the number of integers:2\n",
      "Enter the 1th Integer:1\n",
      "Enter the 2th Integer:2\n",
      "3\n"
     ]
    }
   ],
   "source": [
    "def sum_of_numbers():\n",
    "    sum=0\n",
    "    n=int(input('Enter the number of integers:'))\n",
    "    for i in range(0,n):\n",
    "        x=int(input(f'Enter the {i+1}th Integer:'))\n",
    "        sum+=x\n",
    "    print(sum)\n",
    "sum_of_numbers()"
   ]
  },
  {
   "cell_type": "code",
   "execution_count": 31,
   "id": "a7d2a6c7",
   "metadata": {},
   "outputs": [],
   "source": [
    "from numpy import cos"
   ]
  },
  {
   "cell_type": "code",
   "execution_count": null,
   "id": "ee54f68c",
   "metadata": {},
   "outputs": [],
   "source": [
    "lis"
   ]
  },
  {
   "cell_type": "code",
   "execution_count": null,
   "id": "83badd58",
   "metadata": {},
   "outputs": [],
   "source": []
  },
  {
   "cell_type": "code",
   "execution_count": null,
   "id": "a4c55d6e",
   "metadata": {},
   "outputs": [],
   "source": []
  },
  {
   "cell_type": "code",
   "execution_count": null,
   "id": "1d16b551",
   "metadata": {},
   "outputs": [],
   "source": []
  }
 ],
 "metadata": {
  "kernelspec": {
   "display_name": "Python 3 (ipykernel)",
   "language": "python",
   "name": "python3"
  },
  "language_info": {
   "codemirror_mode": {
    "name": "ipython",
    "version": 3
   },
   "file_extension": ".py",
   "mimetype": "text/x-python",
   "name": "python",
   "nbconvert_exporter": "python",
   "pygments_lexer": "ipython3",
   "version": "3.9.7"
  }
 },
 "nbformat": 4,
 "nbformat_minor": 5
}
