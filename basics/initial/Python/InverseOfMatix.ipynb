{
 "cells": [
  {
   "cell_type": "code",
   "execution_count": 3,
   "id": "a2ad46d8",
   "metadata": {},
   "outputs": [],
   "source": [
    "import numpy as np\n",
    "import matplotlib.pyplot as plt\n",
    "import scipy.linalg as la\n",
    "%matplotlib inline"
   ]
  },
  {
   "cell_type": "code",
   "execution_count": 4,
   "id": "fe66568b",
   "metadata": {},
   "outputs": [],
   "source": [
    "def det(A):\n",
    "    '''\n",
    "    Returns determinant of a SQUARE matrix\n",
    "    '''\n",
    "    n=A.shape[0]\n",
    "    if n==1:\n",
    "        d=A[0,0]\n",
    "    elif n>=2:\n",
    "        d=0\n",
    "        for j in range(n):\n",
    "            B=np.zeros((n-1)**2)\n",
    "            B=B.reshape(n-1,n-1)\n",
    "            for col in range(j):\n",
    "                for row in range(1,n):\n",
    "                    B[row-1,col]=A[row,col]\n",
    "            for col in range(j+1,n):\n",
    "                for row in range(1,n):\n",
    "                    B[row-1,col-1]=A[row,col]\n",
    "            d+=((-1)**j)*det(B)*A[0,j]\n",
    "    return d "
   ]
  },
  {
   "cell_type": "code",
   "execution_count": 5,
   "id": "97b99a9d",
   "metadata": {},
   "outputs": [
    {
     "name": "stdout",
     "output_type": "stream",
     "text": [
      "0.0\n"
     ]
    }
   ],
   "source": [
    "E=np.array([[1,2,3],[4,5,6],[7,8,9]])\n",
    "print(det(E)) "
   ]
  },
  {
   "cell_type": "code",
   "execution_count": 6,
   "id": "b7ddd340",
   "metadata": {},
   "outputs": [
    {
     "name": "stdout",
     "output_type": "stream",
     "text": [
      "1875.0\n"
     ]
    }
   ],
   "source": [
    "X=np.array([[1,2,3,4,5],[2,3,4,5,1],[3,4,5,1,2],[4,5,1,2,3],[5,1,2,3,4]])\n",
    "print(det(X))"
   ]
  },
  {
   "cell_type": "code",
   "execution_count": 2,
   "id": "3884f7ec",
   "metadata": {},
   "outputs": [],
   "source": [
    "def inv(A):\n",
    "    '''\n",
    "    Returns the inverse of a NON-SINGULAR SQUARE matrix\n",
    "    '''\n",
    "    n=A.shape[0]\n",
    "    d=det1(A)\n",
    "    if d!=0:\n",
    "        A_inv=np.array([])\n",
    "        for k in range(n**2):\n",
    "            A_inv=np.append(A_inv,0.0)\n",
    "        A_inv=A_inv.reshape(n,n)\n",
    "        for i in range(n):\n",
    "            for j in range(n):\n",
    "                B=np.array([])\n",
    "                for k in range((n-1)**2):\n",
    "                    B=np.append(B,0.0)\n",
    "                B=B.reshape(n-1,n-1)\n",
    "                for row in range(i):\n",
    "                    for col in range(j):\n",
    "                        B[row,col]=A[row,col]\n",
    "                    for col in range(j+1,n):\n",
    "                        B[row,col-1]=A[row,col]\n",
    "                for row in range(i+1,n):\n",
    "                    for col in range(0,j):\n",
    "                        B[row-1,col]=A[row,col]\n",
    "                    for col in range(j+1,n):\n",
    "                        B[row-1,col-1]=A[row,col]\n",
    "                #Now B has become the minor of A[i,j]\n",
    "                #So cofactor=((-1)**(i+j))*B\n",
    "                A_inv[i,j]=((-1)**(i+j))*det1(B)/d\n",
    "                A_inv[i,j]=round(A_inv[i,j],5)\n",
    "        A_inv=A_inv. T\n",
    "        return A_inv\n",
    "    if abs(d)<=1.0e-16:\n",
    "        s=\"Inverse is NOT possible:This is a singular matrix\"\n",
    "        return s"
   ]
  },
  {
   "cell_type": "code",
   "execution_count": 90,
   "id": "94a31313",
   "metadata": {},
   "outputs": [
    {
     "name": "stdout",
     "output_type": "stream",
     "text": [
      "[[ 1.0000e+00 -1.8182e-01  5.2700e-03]\n",
      " [-0.0000e+00  9.0910e-02 -8.6000e-04]\n",
      " [-0.0000e+00 -0.0000e+00 -1.1800e-03]]\n",
      "[[ 1.00000000e+00 -1.81818182e-01  5.27448870e-03]\n",
      " [ 0.00000000e+00  9.09090909e-02 -8.61141012e-04]\n",
      " [-0.00000000e+00 -0.00000000e+00 -1.18406889e-03]]\n"
     ]
    }
   ],
   "source": [
    "F=np.array([[1.0,2.0,3.0],[9.0,29.0,19.0],[200.0,39.0,18.0]])\n",
    "print(inv(F))\n",
    "G=np.linalg.inv(F)\n",
    "print(G)"
   ]
  },
  {
   "cell_type": "code",
   "execution_count": 9,
   "id": "ca4e49be",
   "metadata": {},
   "outputs": [
    {
     "name": "stdout",
     "output_type": "stream",
     "text": [
      "Inverse is NOT possible:This is a singular matrix\n"
     ]
    }
   ],
   "source": [
    "G=np.array([[1,2,3],[1,2,3],[4,23,33]])\n",
    "print(inv(G))"
   ]
  },
  {
   "cell_type": "code",
   "execution_count": 51,
   "id": "dcc1b797",
   "metadata": {},
   "outputs": [
    {
     "name": "stdout",
     "output_type": "stream",
     "text": [
      "[[ 0.  1.  2.  3.]\n",
      " [ 4.  5.  6.  7.]\n",
      " [ 8.  9. 10. 11.]\n",
      " [12. 13. 14. 15.]]\n"
     ]
    }
   ],
   "source": [
    "a = np.array([])\n",
    "for x in range(16):\n",
    "    a = np.append(a, x)\n",
    "a=a.reshape(4,4)\n",
    "print(a)"
   ]
  },
  {
   "cell_type": "code",
   "execution_count": 129,
   "id": "d9a649f9",
   "metadata": {},
   "outputs": [
    {
     "name": "stdout",
     "output_type": "stream",
     "text": [
      "Inverse is NOT possible:This is a singular matrix\n"
     ]
    },
    {
     "ename": "LinAlgError",
     "evalue": "Singular matrix",
     "output_type": "error",
     "traceback": [
      "\u001b[1;31m---------------------------------------------------------------------------\u001b[0m",
      "\u001b[1;31mLinAlgError\u001b[0m                               Traceback (most recent call last)",
      "\u001b[1;32m~\\AppData\\Local\\Temp/ipykernel_4216/439113983.py\u001b[0m in \u001b[0;36m<module>\u001b[1;34m\u001b[0m\n\u001b[0;32m      4\u001b[0m \u001b[0mZ\u001b[0m\u001b[1;33m=\u001b[0m\u001b[0minv\u001b[0m\u001b[1;33m(\u001b[0m\u001b[0mY\u001b[0m\u001b[1;33m)\u001b[0m\u001b[1;33m\u001b[0m\u001b[1;33m\u001b[0m\u001b[0m\n\u001b[0;32m      5\u001b[0m \u001b[0mprint\u001b[0m\u001b[1;33m(\u001b[0m\u001b[0mZ\u001b[0m\u001b[1;33m)\u001b[0m\u001b[1;33m\u001b[0m\u001b[1;33m\u001b[0m\u001b[0m\n\u001b[1;32m----> 6\u001b[1;33m \u001b[0mprint\u001b[0m\u001b[1;33m(\u001b[0m\u001b[0mnp\u001b[0m\u001b[1;33m.\u001b[0m\u001b[0mlinalg\u001b[0m\u001b[1;33m.\u001b[0m\u001b[0minv\u001b[0m\u001b[1;33m(\u001b[0m\u001b[0mY\u001b[0m\u001b[1;33m)\u001b[0m\u001b[1;33m)\u001b[0m\u001b[1;33m\u001b[0m\u001b[1;33m\u001b[0m\u001b[0m\n\u001b[0m",
      "\u001b[1;32m<__array_function__ internals>\u001b[0m in \u001b[0;36minv\u001b[1;34m(*args, **kwargs)\u001b[0m\n",
      "\u001b[1;32mD:\\anaconda\\lib\\site-packages\\numpy\\linalg\\linalg.py\u001b[0m in \u001b[0;36minv\u001b[1;34m(a)\u001b[0m\n\u001b[0;32m    543\u001b[0m     \u001b[0msignature\u001b[0m \u001b[1;33m=\u001b[0m \u001b[1;34m'D->D'\u001b[0m \u001b[1;32mif\u001b[0m \u001b[0misComplexType\u001b[0m\u001b[1;33m(\u001b[0m\u001b[0mt\u001b[0m\u001b[1;33m)\u001b[0m \u001b[1;32melse\u001b[0m \u001b[1;34m'd->d'\u001b[0m\u001b[1;33m\u001b[0m\u001b[1;33m\u001b[0m\u001b[0m\n\u001b[0;32m    544\u001b[0m     \u001b[0mextobj\u001b[0m \u001b[1;33m=\u001b[0m \u001b[0mget_linalg_error_extobj\u001b[0m\u001b[1;33m(\u001b[0m\u001b[0m_raise_linalgerror_singular\u001b[0m\u001b[1;33m)\u001b[0m\u001b[1;33m\u001b[0m\u001b[1;33m\u001b[0m\u001b[0m\n\u001b[1;32m--> 545\u001b[1;33m     \u001b[0mainv\u001b[0m \u001b[1;33m=\u001b[0m \u001b[0m_umath_linalg\u001b[0m\u001b[1;33m.\u001b[0m\u001b[0minv\u001b[0m\u001b[1;33m(\u001b[0m\u001b[0ma\u001b[0m\u001b[1;33m,\u001b[0m \u001b[0msignature\u001b[0m\u001b[1;33m=\u001b[0m\u001b[0msignature\u001b[0m\u001b[1;33m,\u001b[0m \u001b[0mextobj\u001b[0m\u001b[1;33m=\u001b[0m\u001b[0mextobj\u001b[0m\u001b[1;33m)\u001b[0m\u001b[1;33m\u001b[0m\u001b[1;33m\u001b[0m\u001b[0m\n\u001b[0m\u001b[0;32m    546\u001b[0m     \u001b[1;32mreturn\u001b[0m \u001b[0mwrap\u001b[0m\u001b[1;33m(\u001b[0m\u001b[0mainv\u001b[0m\u001b[1;33m.\u001b[0m\u001b[0mastype\u001b[0m\u001b[1;33m(\u001b[0m\u001b[0mresult_t\u001b[0m\u001b[1;33m,\u001b[0m \u001b[0mcopy\u001b[0m\u001b[1;33m=\u001b[0m\u001b[1;32mFalse\u001b[0m\u001b[1;33m)\u001b[0m\u001b[1;33m)\u001b[0m\u001b[1;33m\u001b[0m\u001b[1;33m\u001b[0m\u001b[0m\n\u001b[0;32m    547\u001b[0m \u001b[1;33m\u001b[0m\u001b[0m\n",
      "\u001b[1;32mD:\\anaconda\\lib\\site-packages\\numpy\\linalg\\linalg.py\u001b[0m in \u001b[0;36m_raise_linalgerror_singular\u001b[1;34m(err, flag)\u001b[0m\n\u001b[0;32m     86\u001b[0m \u001b[1;33m\u001b[0m\u001b[0m\n\u001b[0;32m     87\u001b[0m \u001b[1;32mdef\u001b[0m \u001b[0m_raise_linalgerror_singular\u001b[0m\u001b[1;33m(\u001b[0m\u001b[0merr\u001b[0m\u001b[1;33m,\u001b[0m \u001b[0mflag\u001b[0m\u001b[1;33m)\u001b[0m\u001b[1;33m:\u001b[0m\u001b[1;33m\u001b[0m\u001b[1;33m\u001b[0m\u001b[0m\n\u001b[1;32m---> 88\u001b[1;33m     \u001b[1;32mraise\u001b[0m \u001b[0mLinAlgError\u001b[0m\u001b[1;33m(\u001b[0m\u001b[1;34m\"Singular matrix\"\u001b[0m\u001b[1;33m)\u001b[0m\u001b[1;33m\u001b[0m\u001b[1;33m\u001b[0m\u001b[0m\n\u001b[0m\u001b[0;32m     89\u001b[0m \u001b[1;33m\u001b[0m\u001b[0m\n\u001b[0;32m     90\u001b[0m \u001b[1;32mdef\u001b[0m \u001b[0m_raise_linalgerror_nonposdef\u001b[0m\u001b[1;33m(\u001b[0m\u001b[0merr\u001b[0m\u001b[1;33m,\u001b[0m \u001b[0mflag\u001b[0m\u001b[1;33m)\u001b[0m\u001b[1;33m:\u001b[0m\u001b[1;33m\u001b[0m\u001b[1;33m\u001b[0m\u001b[0m\n",
      "\u001b[1;31mLinAlgError\u001b[0m: Singular matrix"
     ]
    }
   ],
   "source": [
    "Y=np.array([[1,2,3],[4,5,6],[7,8,9]])\n",
    "#print(np.max(Y))\n",
    "#print(det1(Y))\n",
    "Z=inv(Y)\n",
    "print(Z)\n",
    "print(np.linalg.inv(Y))"
   ]
  },
  {
   "cell_type": "code",
   "execution_count": 91,
   "id": "a67bf966",
   "metadata": {},
   "outputs": [
    {
     "name": "stdout",
     "output_type": "stream",
     "text": [
      "500.0638128999999\n"
     ]
    }
   ],
   "source": [
    "import timeit\n",
    "test1='''\n",
    "import numpy as np\n",
    "def add_col(A,m,i,j):\n",
    "    n=A.shape[1]\n",
    "    E=np.eye(n)\n",
    "    if i==j:\n",
    "        E[i,i]=m+1\n",
    "    else:\n",
    "        E[j,i]=m\n",
    "    return A@E\n",
    "def det1(A):\n",
    "    n=A.shape[0]\n",
    "    for i in range(n):\n",
    "        for j in range(n):\n",
    "            A[i,j]=float(A[i,j])\n",
    "    d=1\n",
    "    for i in range(n):\n",
    "        if abs(A[i,i])<=1.0e-16:\n",
    "            x=0\n",
    "            for col in range(i+1,n):\n",
    "                if A[i,col]!=0:\n",
    "                    A=add_col(A,1,i,col)\n",
    "                    break\n",
    "                else:\n",
    "                    x+=1\n",
    "            if x==n-1-i:\n",
    "                d=0\n",
    "                break\n",
    "            else:\n",
    "                for row in range(i+1,n):\n",
    "                    for col in range(n-1,i-1,-1):\n",
    "                        A[row,col]-=A[row,i]*A[i,col]/A[i,i]\n",
    "                d=d*A[i,i]\n",
    "        else:\n",
    "            for row in range(i+1,n):\n",
    "                for col in range(n-1,i-1,-1):\n",
    "                    A[row,col]-=A[row,i]*A[i,col]/A[i,i]\n",
    "            d=d*A[i,i]\n",
    "    d=round(d,5)\n",
    "    return d\n",
    "def inv(A):\n",
    "    n=A.shape[0]\n",
    "    d=det1(A)\n",
    "    if d!=0:\n",
    "        A_inv=np.array([])\n",
    "        for k in range(n**2):\n",
    "            A_inv=np.append(A_inv,0.0)\n",
    "        A_inv=A_inv.reshape(n,n)\n",
    "        for i in range(n):\n",
    "            for j in range(n):\n",
    "                B=np.array([])\n",
    "                for k in range((n-1)**2):\n",
    "                    B=np.append(B,0.0)\n",
    "                B=B.reshape(n-1,n-1)\n",
    "                for row in range(i):\n",
    "                    for col in range(j):\n",
    "                        B[row,col]=A[row,col]\n",
    "                    for col in range(j+1,n):\n",
    "                        B[row,col-1]=A[row,col]\n",
    "                for row in range(i+1,n):\n",
    "                    for col in range(0,j):\n",
    "                        B[row-1,col]=A[row,col]\n",
    "                    for col in range(j+1,n):\n",
    "                        B[row-1,col-1]=A[row,col]\n",
    "                A_inv[i,j]=((-1)**(i+j))*det1(B)/d\n",
    "                A_inv[i,j]=round(A_inv[i,j],5)\n",
    "        A_inv=A_inv. T\n",
    "        return A_inv\n",
    "    if abs(d)<=1.0e-16:\n",
    "        s=\"Inverse is NOT possible:This is a singular matrix\"\n",
    "        return s\n",
    "F=np.array([[1.0,2.0,3.0],[9.0,29.0,19.0],[200.0,39.0,18.0]])\n",
    "G=inv(F)\n",
    "'''\n",
    "print(timeit.timeit(stmt=test1))"
   ]
  },
  {
   "cell_type": "code",
   "execution_count": 86,
   "id": "222498ab",
   "metadata": {},
   "outputs": [
    {
     "name": "stdout",
     "output_type": "stream",
     "text": [
      "10.199248200000511\n"
     ]
    }
   ],
   "source": [
    "import timeit\n",
    "test2='''\n",
    "import numpy as np\n",
    "F=np.array([[1.0,2.0,3.0],[9.0,29.0,19.0],[200.0,39.0,18.0]])\n",
    "Z=np.linalg.inv(F)\n",
    "'''\n",
    "print(timeit.timeit(stmt=test2))"
   ]
  },
  {
   "cell_type": "code",
   "execution_count": 4,
   "id": "74e14aae",
   "metadata": {},
   "outputs": [
    {
     "name": "stdout",
     "output_type": "stream",
     "text": [
      "[[-0.18667  0.01333  0.01333  0.01333  0.21333]\n",
      " [ 0.01333  0.01333  0.01333  0.21333 -0.18667]\n",
      " [ 0.01333  0.01333  0.21333 -0.18667  0.01333]\n",
      " [ 0.01333  0.21333 -0.18667  0.01333  0.01333]\n",
      " [ 0.21333 -0.18667  0.01333  0.01333  0.01333]]\n"
     ]
    }
   ],
   "source": [
    "Y=np.array([[1,2,3,4,5],[2,3,4,5,1],[3,4,5,1,2],[4,5,1,2,3],[5,1,2,3,4]])\n",
    "Z=inv(Y)\n",
    "print(Z)"
   ]
  },
  {
   "cell_type": "code",
   "execution_count": 13,
   "id": "d24a0f8d",
   "metadata": {},
   "outputs": [
    {
     "ename": "TypeError",
     "evalue": "only size-1 arrays can be converted to Python scalars",
     "output_type": "error",
     "traceback": [
      "\u001b[1;31m---------------------------------------------------------------------------\u001b[0m",
      "\u001b[1;31mTypeError\u001b[0m                                 Traceback (most recent call last)",
      "\u001b[1;32m~\\AppData\\Local\\Temp/ipykernel_12176/3209831500.py\u001b[0m in \u001b[0;36m<module>\u001b[1;34m\u001b[0m\n\u001b[0;32m      1\u001b[0m \u001b[0mY\u001b[0m\u001b[1;33m=\u001b[0m\u001b[0mnp\u001b[0m\u001b[1;33m.\u001b[0m\u001b[0marray\u001b[0m\u001b[1;33m(\u001b[0m\u001b[1;33m[\u001b[0m\u001b[1;33m[\u001b[0m\u001b[1;36m1\u001b[0m\u001b[1;33m,\u001b[0m\u001b[1;36m2\u001b[0m\u001b[1;33m,\u001b[0m\u001b[1;36m3\u001b[0m\u001b[1;33m,\u001b[0m\u001b[1;36m4\u001b[0m\u001b[1;33m,\u001b[0m\u001b[1;36m5\u001b[0m\u001b[1;33m]\u001b[0m\u001b[1;33m,\u001b[0m\u001b[1;33m[\u001b[0m\u001b[1;36m2\u001b[0m\u001b[1;33m,\u001b[0m\u001b[1;36m3\u001b[0m\u001b[1;33m,\u001b[0m\u001b[1;36m4\u001b[0m\u001b[1;33m,\u001b[0m\u001b[1;36m5\u001b[0m\u001b[1;33m,\u001b[0m\u001b[1;36m1\u001b[0m\u001b[1;33m]\u001b[0m\u001b[1;33m,\u001b[0m\u001b[1;33m[\u001b[0m\u001b[1;36m3\u001b[0m\u001b[1;33m,\u001b[0m\u001b[1;36m4\u001b[0m\u001b[1;33m,\u001b[0m\u001b[1;36m5\u001b[0m\u001b[1;33m,\u001b[0m\u001b[1;36m1\u001b[0m\u001b[1;33m,\u001b[0m\u001b[1;36m2\u001b[0m\u001b[1;33m]\u001b[0m\u001b[1;33m,\u001b[0m\u001b[1;33m[\u001b[0m\u001b[1;36m4\u001b[0m\u001b[1;33m,\u001b[0m\u001b[1;36m5\u001b[0m\u001b[1;33m,\u001b[0m\u001b[1;36m1\u001b[0m\u001b[1;33m,\u001b[0m\u001b[1;36m2\u001b[0m\u001b[1;33m,\u001b[0m\u001b[1;36m3\u001b[0m\u001b[1;33m]\u001b[0m\u001b[1;33m,\u001b[0m\u001b[1;33m[\u001b[0m\u001b[1;36m5\u001b[0m\u001b[1;33m,\u001b[0m\u001b[1;36m1\u001b[0m\u001b[1;33m,\u001b[0m\u001b[1;36m2\u001b[0m\u001b[1;33m,\u001b[0m\u001b[1;36m3\u001b[0m\u001b[1;33m,\u001b[0m\u001b[1;36m4\u001b[0m\u001b[1;33m]\u001b[0m\u001b[1;33m]\u001b[0m\u001b[1;33m)\u001b[0m\u001b[1;33m\u001b[0m\u001b[1;33m\u001b[0m\u001b[0m\n\u001b[0;32m      2\u001b[0m \u001b[0mZ\u001b[0m\u001b[1;33m=\u001b[0m\u001b[0mnp\u001b[0m\u001b[1;33m.\u001b[0m\u001b[0mlinalg\u001b[0m\u001b[1;33m.\u001b[0m\u001b[0minv\u001b[0m\u001b[1;33m(\u001b[0m\u001b[0mY\u001b[0m\u001b[1;33m)\u001b[0m\u001b[1;33m\u001b[0m\u001b[1;33m\u001b[0m\u001b[0m\n\u001b[1;32m----> 3\u001b[1;33m \u001b[0mprint\u001b[0m\u001b[1;33m(\u001b[0m\u001b[0minv\u001b[0m\u001b[1;33m(\u001b[0m\u001b[0mY\u001b[0m\u001b[1;33m)\u001b[0m\u001b[1;33m)\u001b[0m\u001b[1;33m\u001b[0m\u001b[1;33m\u001b[0m\u001b[0m\n\u001b[0m\u001b[0;32m      4\u001b[0m \u001b[0mprint\u001b[0m\u001b[1;33m(\u001b[0m\u001b[0mZ\u001b[0m\u001b[1;33m)\u001b[0m\u001b[1;33m\u001b[0m\u001b[1;33m\u001b[0m\u001b[0m\n",
      "\u001b[1;32m~\\AppData\\Local\\Temp/ipykernel_12176/4135451996.py\u001b[0m in \u001b[0;36minv\u001b[1;34m(A)\u001b[0m\n\u001b[0;32m      4\u001b[0m     '''\n\u001b[0;32m      5\u001b[0m     \u001b[0mn\u001b[0m\u001b[1;33m=\u001b[0m\u001b[0mA\u001b[0m\u001b[1;33m.\u001b[0m\u001b[0mshape\u001b[0m\u001b[1;33m[\u001b[0m\u001b[1;36m0\u001b[0m\u001b[1;33m]\u001b[0m\u001b[1;33m\u001b[0m\u001b[1;33m\u001b[0m\u001b[0m\n\u001b[1;32m----> 6\u001b[1;33m     \u001b[0md\u001b[0m\u001b[1;33m=\u001b[0m\u001b[0mdet1\u001b[0m\u001b[1;33m(\u001b[0m\u001b[0mA\u001b[0m\u001b[1;33m)\u001b[0m\u001b[1;33m\u001b[0m\u001b[1;33m\u001b[0m\u001b[0m\n\u001b[0m\u001b[0;32m      7\u001b[0m     \u001b[1;32mif\u001b[0m \u001b[0md\u001b[0m\u001b[1;33m!=\u001b[0m\u001b[1;36m0\u001b[0m\u001b[1;33m:\u001b[0m\u001b[1;33m\u001b[0m\u001b[1;33m\u001b[0m\u001b[0m\n\u001b[0;32m      8\u001b[0m         \u001b[0mA_inv\u001b[0m\u001b[1;33m=\u001b[0m\u001b[0mnp\u001b[0m\u001b[1;33m.\u001b[0m\u001b[0mrandom\u001b[0m\u001b[1;33m.\u001b[0m\u001b[0mrand\u001b[0m\u001b[1;33m(\u001b[0m\u001b[0mn\u001b[0m\u001b[1;33m,\u001b[0m\u001b[0mn\u001b[0m\u001b[1;33m)\u001b[0m\u001b[1;33m\u001b[0m\u001b[1;33m\u001b[0m\u001b[0m\n",
      "\u001b[1;32m~\\AppData\\Local\\Temp/ipykernel_12176/157278427.py\u001b[0m in \u001b[0;36mdet1\u001b[1;34m(A)\u001b[0m\n\u001b[0;32m     29\u001b[0m                 \u001b[1;32mfor\u001b[0m \u001b[0mrow\u001b[0m \u001b[1;32min\u001b[0m \u001b[0mrange\u001b[0m\u001b[1;33m(\u001b[0m\u001b[0mi\u001b[0m\u001b[1;33m+\u001b[0m\u001b[1;36m1\u001b[0m\u001b[1;33m,\u001b[0m\u001b[0mn\u001b[0m\u001b[1;33m)\u001b[0m\u001b[1;33m:\u001b[0m\u001b[1;33m\u001b[0m\u001b[1;33m\u001b[0m\u001b[0m\n\u001b[0;32m     30\u001b[0m                     \u001b[1;32mfor\u001b[0m \u001b[0mcol\u001b[0m \u001b[1;32min\u001b[0m \u001b[0mrange\u001b[0m\u001b[1;33m(\u001b[0m\u001b[0mn\u001b[0m\u001b[1;33m-\u001b[0m\u001b[1;36m1\u001b[0m\u001b[1;33m,\u001b[0m\u001b[1;36m0\u001b[0m\u001b[1;33m,\u001b[0m\u001b[1;33m-\u001b[0m\u001b[1;36m1\u001b[0m\u001b[1;33m)\u001b[0m\u001b[1;33m:\u001b[0m\u001b[1;33m\u001b[0m\u001b[1;33m\u001b[0m\u001b[0m\n\u001b[1;32m---> 31\u001b[1;33m                         \u001b[0mA\u001b[0m\u001b[1;33m[\u001b[0m\u001b[0mrow\u001b[0m\u001b[1;33m,\u001b[0m\u001b[0mcol\u001b[0m\u001b[1;33m]\u001b[0m\u001b[1;33m-=\u001b[0m\u001b[0mfloat\u001b[0m\u001b[1;33m(\u001b[0m\u001b[0mB\u001b[0m\u001b[1;33m[\u001b[0m\u001b[0mrow\u001b[0m\u001b[1;33m,\u001b[0m\u001b[0mi\u001b[0m\u001b[1;33m]\u001b[0m\u001b[1;33m*\u001b[0m\u001b[1;33m[\u001b[0m\u001b[0mi\u001b[0m\u001b[1;33m,\u001b[0m\u001b[0mcol\u001b[0m\u001b[1;33m]\u001b[0m\u001b[1;33m/\u001b[0m\u001b[0mA\u001b[0m\u001b[1;33m[\u001b[0m\u001b[0mi\u001b[0m\u001b[1;33m,\u001b[0m\u001b[0mi\u001b[0m\u001b[1;33m]\u001b[0m\u001b[1;33m)\u001b[0m\u001b[1;33m\u001b[0m\u001b[1;33m\u001b[0m\u001b[0m\n\u001b[0m\u001b[0;32m     32\u001b[0m                 \u001b[1;31m#d=d*A[i,i]\u001b[0m\u001b[1;33m\u001b[0m\u001b[1;33m\u001b[0m\u001b[0m\n\u001b[0;32m     33\u001b[0m         \u001b[1;32melse\u001b[0m\u001b[1;33m:\u001b[0m\u001b[1;33m\u001b[0m\u001b[1;33m\u001b[0m\u001b[0m\n",
      "\u001b[1;31mTypeError\u001b[0m: only size-1 arrays can be converted to Python scalars"
     ]
    }
   ],
   "source": [
    "Y=np.array([[1,2,3,4,5],[2,3,4,5,1],[3,4,5,1,2],[4,5,1,2,3],[5,1,2,3,4]])\n",
    "Z=np.linalg.inv(Y)\n",
    "print(inv(Y))\n",
    "print(Z)"
   ]
  },
  {
   "cell_type": "code",
   "execution_count": 6,
   "id": "d01cec7b",
   "metadata": {},
   "outputs": [],
   "source": [
    "import numpy as np\n",
    "def add_col(A,m,i,j):\n",
    "    n=A.shape[1]\n",
    "    E=np.eye(n)\n",
    "    if i==j:\n",
    "        E[i,i]=m+1\n",
    "    else:\n",
    "        E[j,i]=m\n",
    "    return A@E\n",
    "def det1(A):\n",
    "    n=A.shape[0]\n",
    "    for i in range(n):\n",
    "        for j in range(n):\n",
    "            A[i,j]=float(A[i,j])\n",
    "    d=1\n",
    "    for i in range(n):\n",
    "        if abs(A[i,i])<=1.0e-16:\n",
    "            x=0\n",
    "            for col in range(i+1,n):\n",
    "                if A[i,col]!=0:\n",
    "                    A=add_col(A,1,i,col)\n",
    "                    break\n",
    "                else:\n",
    "                    x+=1\n",
    "            if x==n-1-i:\n",
    "                d=0\n",
    "                break\n",
    "            else:\n",
    "                for row in range(i+1,n):\n",
    "                    for col in range(n-1,i-1,-1):\n",
    "                        A[row,col]-=A[row,i]*A[i,col]/A[i,i]\n",
    "                d=d*A[i,i]\n",
    "        else:\n",
    "            for row in range(i+1,n):\n",
    "                for col in range(n-1,i-1,-1):\n",
    "                    A[row,col]-=A[row,i]*A[i,col]/A[i,i]\n",
    "            d=d*A[i,i]\n",
    "    d=round(d,5)\n",
    "    return d"
   ]
  },
  {
   "cell_type": "code",
   "execution_count": 10,
   "id": "22137d15",
   "metadata": {},
   "outputs": [
    {
     "name": "stdout",
     "output_type": "stream",
     "text": [
      "0.0\n"
     ]
    }
   ],
   "source": [
    "A=np.array([[1.0,2.0,3.0],[4,5,6],[7,8,9]])\n",
    "print(float(det1(A)))"
   ]
  },
  {
   "cell_type": "code",
   "execution_count": 20,
   "id": "02ec84ac",
   "metadata": {},
   "outputs": [
    {
     "name": "stdout",
     "output_type": "stream",
     "text": [
      "77.5138979891651\n",
      "77.5138979891651\n",
      "77.5138979891651\n",
      "77.5138979891651\n",
      "77.5138979891651\n",
      "77.5138979891651\n",
      "77.5138979891651\n",
      "335 µs ± 145 µs per loop (mean ± std. dev. of 7 runs, 1 loop each)\n"
     ]
    }
   ],
   "source": [
    "%%timeit -n 1\n",
    "s=0.0\n",
    "for i in range(101):\n",
    "    s+= sqrt(0.01*i*pi)*sin(0.01*pi*i)\n",
    "print(s)"
   ]
  },
  {
   "cell_type": "code",
   "execution_count": 19,
   "id": "bb321d67",
   "metadata": {},
   "outputs": [
    {
     "name": "stdout",
     "output_type": "stream",
     "text": [
      "77.5138979891651\n",
      "77.5138979891651\n",
      "77.5138979891651\n",
      "77.5138979891651\n",
      "77.5138979891651\n",
      "77.5138979891651\n",
      "77.5138979891651\n",
      "The slowest run took 13.16 times longer than the fastest. This could mean that an intermediate result is being cached.\n",
      "254 µs ± 295 µs per loop (mean ± std. dev. of 7 runs, 1 loop each)\n"
     ]
    }
   ],
   "source": [
    "%%timeit -n 1\n",
    "import numpy as np\n",
    "from math import pi,sin,sqrt\n",
    "x=np.arange(0.0,1.01*pi,0.01*pi)\n",
    "print(sum(np.sqrt(x)*np.sin(x)))"
   ]
  },
  {
   "cell_type": "code",
   "execution_count": 11,
   "id": "41f371ac",
   "metadata": {},
   "outputs": [
    {
     "name": "stdout",
     "output_type": "stream",
     "text": [
      "5\n",
      "4\n",
      "3\n",
      "2\n",
      "1\n"
     ]
    }
   ],
   "source": [
    "for i in range(5,0,-1):\n",
    "    print(i)"
   ]
  },
  {
   "cell_type": "code",
   "execution_count": 20,
   "id": "23ecd171",
   "metadata": {},
   "outputs": [
    {
     "name": "stdout",
     "output_type": "stream",
     "text": [
      "3.0\n"
     ]
    }
   ],
   "source": [
    "a=3\n",
    "a=float(a)\n",
    "print(a)"
   ]
  },
  {
   "cell_type": "code",
   "execution_count": 35,
   "id": "dcfb2e9d",
   "metadata": {},
   "outputs": [
    {
     "name": "stdout",
     "output_type": "stream",
     "text": [
      "<class 'float'> 2.0\n"
     ]
    }
   ],
   "source": [
    "a=1.0*2\n",
    "print(type(a),a)"
   ]
  },
  {
   "cell_type": "code",
   "execution_count": 9,
   "id": "7f33afae",
   "metadata": {},
   "outputs": [
    {
     "name": "stdout",
     "output_type": "stream",
     "text": [
      "0\n"
     ]
    },
    {
     "data": {
      "text/plain": [
       "'0.000000000000000000000000000000'"
      ]
     },
     "execution_count": 9,
     "metadata": {},
     "output_type": "execute_result"
    }
   ],
   "source": [
    "C = np.array([[5,5,5],[4,5,6],[7,8,9]])\n",
    "print(det1(C))\n",
    "#print(inv(C))\n",
    "n=np.linalg.det(C)\n",
    "format(n,'.30f')\n",
    "#print(np.linalg.inv(C))"
   ]
  },
  {
   "cell_type": "markdown",
   "id": "c31fb31e",
   "metadata": {},
   "source": [
    "# Solution of a system of n variable equations"
   ]
  },
  {
   "cell_type": "code",
   "execution_count": 10,
   "id": "e71f5038",
   "metadata": {},
   "outputs": [],
   "source": [
    "array_of_coefficients=np.array([[3,5,-2],[1,1,1],[1,-2,4]])\n",
    "array_of_constants=np.array([[4,1,6]])\n",
    "array_of_constants=array_of_constants.reshape(3,1)\n",
    "def solution(coeff_arr,const_arr):\n",
    "    n=coeff_arr.shape[0]\n",
    "    delta=det1(coeff_arr)\n",
    "    if delta!=0:\n",
    "        for i in range(n):\n",
    "            "
   ]
  },
  {
   "cell_type": "code",
   "execution_count": 11,
   "id": "ce98dff5",
   "metadata": {},
   "outputs": [
    {
     "ename": "SyntaxError",
     "evalue": "Missing parentheses in call to 'print'. Did you mean print(3)? (Temp/ipykernel_11724/48066052.py, line 1)",
     "output_type": "error",
     "traceback": [
      "\u001b[1;36m  File \u001b[1;32m\"C:\\Users\\Aaryan\\AppData\\Local\\Temp/ipykernel_11724/48066052.py\"\u001b[1;36m, line \u001b[1;32m1\u001b[0m\n\u001b[1;33m    print 3\u001b[0m\n\u001b[1;37m          ^\u001b[0m\n\u001b[1;31mSyntaxError\u001b[0m\u001b[1;31m:\u001b[0m Missing parentheses in call to 'print'. Did you mean print(3)?\n"
     ]
    }
   ],
   "source": [
    "print 3"
   ]
  },
  {
   "cell_type": "code",
   "execution_count": 8,
   "id": "1612d6aa",
   "metadata": {},
   "outputs": [
    {
     "name": "stdout",
     "output_type": "stream",
     "text": [
      "-1001.0\n"
     ]
    }
   ],
   "source": [
    "a=np.array([[1001,1002,1003],[2001,2002,2003],[3001,3002,3003]])\n",
    "print(det1(a))"
   ]
  },
  {
   "cell_type": "code",
   "execution_count": null,
   "id": "5a1fea66",
   "metadata": {},
   "outputs": [],
   "source": []
  },
  {
   "cell_type": "code",
   "execution_count": null,
   "id": "869b04e9",
   "metadata": {},
   "outputs": [],
   "source": []
  },
  {
   "cell_type": "code",
   "execution_count": null,
   "id": "ea008d75",
   "metadata": {},
   "outputs": [],
   "source": []
  }
 ],
 "metadata": {
  "kernelspec": {
   "display_name": "Python 3 (ipykernel)",
   "language": "python",
   "name": "python3"
  },
  "language_info": {
   "codemirror_mode": {
    "name": "ipython",
    "version": 3
   },
   "file_extension": ".py",
   "mimetype": "text/x-python",
   "name": "python",
   "nbconvert_exporter": "python",
   "pygments_lexer": "ipython3",
   "version": "3.9.7"
  }
 },
 "nbformat": 4,
 "nbformat_minor": 5
}
