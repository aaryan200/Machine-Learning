{
 "cells": [
  {
   "cell_type": "code",
   "execution_count": 3,
   "id": "94304da9",
   "metadata": {},
   "outputs": [],
   "source": [
    "import numpy as np\n",
    "import pandas as pd\n",
    "import matplotlib.pyplot as plt\n",
    "al=pd.read_csv(\"../Ubuntu_files/Epoch_Hackathon/Dataset.csv\")\n",
    "# Train:test ratio = 80:20\n",
    "# Therefore, I am taking 1280 training data and 319 test data\n",
    "# Here we are going to take index 960 to 1279 as test data and rest as training data\n",
    "x1=pd.concat([al[:640],al[959:]])"
   ]
  },
  {
   "cell_type": "code",
   "execution_count": 4,
   "id": "e87e685c",
   "metadata": {},
   "outputs": [],
   "source": [
    "# Dropping k_value, l_value, m_value, n_value features of training data\n",
    "x2=x1.drop(['k_value','l_value','m_value','n_value'],axis=1)\n",
    "\n",
    "# Extracting quality of training data in numpy array \"y\"\n",
    "y1=x2['quality']\n",
    "y2=y1.to_numpy()\n",
    "y=y2.reshape(1280,1)\n",
    "\n",
    "# Removing quality from training data\n",
    "x=x2.drop('quality',axis=1).to_numpy() \n",
    "\n",
    "# Test data from file\n",
    "te1=al[960:1279]    \n",
    "\n",
    "# Extracting quality of test data in numpy array \"teans\"\n",
    "teans1=te1['quality']   \n",
    "teans2=teans1.to_numpy()\n",
    "teans=teans2.reshape(319,1)\n",
    "\n",
    "# Since 'quality','k_value','l_value','m_value','n_value' are removed from training data, removing it from\n",
    "# test data\n",
    "te=te1.drop(['quality','k_value','l_value','m_value','n_value'],axis=1).to_numpy()"
   ]
  },
  {
   "cell_type": "code",
   "execution_count": 5,
   "id": "cf74631e",
   "metadata": {},
   "outputs": [],
   "source": [
    "# Removing outliers from training data\n",
    "temp1=np.percentile(x,1,axis=0)\n",
    "temp99=np.percentile(x,99,axis=0)\n",
    "c1=0\n",
    "for col in range(12):\n",
    "    p_1=temp1[col]\n",
    "    p_99=temp99[col]\n",
    "    for i in range(1280):\n",
    "        if x[i][col]>p_99:\n",
    "            x=np.delete(x,i,axis=0)\n",
    "            y=np.delete(y,i,axis=0)\n",
    "            c1+=1\n",
    "        elif x[i][col]<p_1:\n",
    "            x=np.delete(x,i,axis=0)\n",
    "            y=np.delete(y,i,axis=0)\n",
    "            c1+=1\n",
    "        if (i==1279-c1):\n",
    "            break"
   ]
  },
  {
   "cell_type": "code",
   "execution_count": 6,
   "id": "2e45a2ff",
   "metadata": {},
   "outputs": [],
   "source": [
    "# Normalization of training data along with test data\n",
    "n_row=x.shape[0]\n",
    "for col in range(12):\n",
    "    min_col=np.Infinity\n",
    "    max_col=(-1)*np.Infinity\n",
    "    for row in range(n_row):\n",
    "        temp1=x[row][col]\n",
    "        if (temp1>max_col):\n",
    "            max_col=temp1\n",
    "        elif (temp1<min_col):\n",
    "            min_col=temp1\n",
    "    x[:,col]=(x[:,col]-min_col)/(max_col-min_col)\n",
    "    te[:,col]=(te[:,col]-min_col)/(max_col-min_col)"
   ]
  },
  {
   "cell_type": "code",
   "execution_count": 36,
   "id": "b7ba72d9",
   "metadata": {},
   "outputs": [
    {
     "data": {
      "text/plain": [
       "(12, 1113)"
      ]
     },
     "execution_count": 36,
     "metadata": {},
     "output_type": "execute_result"
    }
   ],
   "source": [
    "(x.T).shape"
   ]
  },
  {
   "cell_type": "code",
   "execution_count": 9,
   "id": "1b440617",
   "metadata": {},
   "outputs": [],
   "source": [
    "lsv,sv,rsv=np.linalg.svd(x.T)"
   ]
  },
  {
   "cell_type": "code",
   "execution_count": 10,
   "id": "0dff90e0",
   "metadata": {},
   "outputs": [
    {
     "data": {
      "text/plain": [
       "(12, 12)"
      ]
     },
     "execution_count": 10,
     "metadata": {},
     "output_type": "execute_result"
    }
   ],
   "source": [
    "lsv.shape"
   ]
  },
  {
   "cell_type": "code",
   "execution_count": 11,
   "id": "b711cd12",
   "metadata": {},
   "outputs": [
    {
     "data": {
      "text/plain": [
       "(12,)"
      ]
     },
     "execution_count": 11,
     "metadata": {},
     "output_type": "execute_result"
    }
   ],
   "source": [
    "sv.shape"
   ]
  },
  {
   "cell_type": "code",
   "execution_count": 12,
   "id": "54936620",
   "metadata": {},
   "outputs": [
    {
     "data": {
      "text/plain": [
       "(1113, 1113)"
      ]
     },
     "execution_count": 12,
     "metadata": {},
     "output_type": "execute_result"
    }
   ],
   "source": [
    "rsv.shape"
   ]
  },
  {
   "cell_type": "code",
   "execution_count": 13,
   "id": "b917259a",
   "metadata": {
    "collapsed": true
   },
   "outputs": [
    {
     "data": {
      "text/plain": [
       "array([2.17725527e+03, 5.60271793e+02, 2.83047879e+02, 8.57110348e+01,\n",
       "       4.66004846e+01, 3.28652663e+01, 1.03592335e+01, 5.66660558e+00,\n",
       "       4.18582440e+00, 3.01858964e+00, 9.14348470e-01, 7.27463939e-01])"
      ]
     },
     "execution_count": 13,
     "metadata": {},
     "output_type": "execute_result"
    }
   ],
   "source": [
    "sv"
   ]
  },
  {
   "cell_type": "code",
   "execution_count": 16,
   "id": "5142b10c",
   "metadata": {
    "collapsed": true
   },
   "outputs": [
    {
     "data": {
      "text/plain": [
       "array([[-0.11221488],\n",
       "       [-0.00726374],\n",
       "       [-0.00375558],\n",
       "       [-0.03467646],\n",
       "       [-0.00114816],\n",
       "       [-0.25184701],\n",
       "       [-0.8172403 ],\n",
       "       [-0.01362507],\n",
       "       [-0.0451559 ],\n",
       "       [-0.00890299],\n",
       "       [-0.13998342],\n",
       "       [-0.48262743]])"
      ]
     },
     "execution_count": 16,
     "metadata": {},
     "output_type": "execute_result"
    }
   ],
   "source": [
    "lsv[:,:1]"
   ]
  },
  {
   "cell_type": "code",
   "execution_count": 28,
   "id": "64eeea4b",
   "metadata": {},
   "outputs": [],
   "source": [
    "def my_svd(A):\n",
    "    \"\"\"\n",
    "    Return [lsv,svl,svr,rsv]\n",
    "    A - nxm\n",
    "    \"\"\"\n",
    "    import numpy as np\n",
    "    temp,lsv=np.linalg.eig((A.T)@A)\n",
    "    svl=np.sqrt(temp)\n",
    "    temp,rsv=np.linalg.eig(A@(A.T))\n",
    "    svr=np.sqrt(temp)\n",
    "    li=[lsv,svl,svr,rsv]\n",
    "    return li"
   ]
  },
  {
   "cell_type": "code",
   "execution_count": 18,
   "id": "fd279800",
   "metadata": {},
   "outputs": [],
   "source": [
    "np.linalg.eig?"
   ]
  },
  {
   "cell_type": "code",
   "execution_count": 29,
   "id": "e9b11e75",
   "metadata": {},
   "outputs": [],
   "source": [
    "li=my_svd(x)"
   ]
  },
  {
   "cell_type": "code",
   "execution_count": 52,
   "id": "780a00dc",
   "metadata": {},
   "outputs": [
    {
     "data": {
      "text/plain": [
       "12"
      ]
     },
     "execution_count": 52,
     "metadata": {},
     "output_type": "execute_result"
    }
   ],
   "source": [
    "len(li[1])"
   ]
  },
  {
   "cell_type": "code",
   "execution_count": 39,
   "id": "755f5abb",
   "metadata": {},
   "outputs": [
    {
     "data": {
      "text/plain": [
       "(1113,)"
      ]
     },
     "execution_count": 39,
     "metadata": {},
     "output_type": "execute_result"
    }
   ],
   "source": [
    "li[2].shape"
   ]
  },
  {
   "cell_type": "code",
   "execution_count": 46,
   "id": "09c5d95a",
   "metadata": {},
   "outputs": [],
   "source": [
    "li1=list(li[2])"
   ]
  },
  {
   "cell_type": "code",
   "execution_count": 49,
   "id": "cb6b9566",
   "metadata": {},
   "outputs": [],
   "source": [
    "li2=[i for i in li1 if i.imag==0]"
   ]
  },
  {
   "cell_type": "code",
   "execution_count": 54,
   "id": "c5c83724",
   "metadata": {},
   "outputs": [
    {
     "data": {
      "text/plain": [
       "49"
      ]
     },
     "execution_count": 54,
     "metadata": {},
     "output_type": "execute_result"
    }
   ],
   "source": [
    "len(li2)"
   ]
  },
  {
   "cell_type": "code",
   "execution_count": 56,
   "id": "70b51c15",
   "metadata": {},
   "outputs": [],
   "source": [
    "li3=list(li[1])"
   ]
  },
  {
   "cell_type": "code",
   "execution_count": 57,
   "id": "00ecf761",
   "metadata": {},
   "outputs": [
    {
     "data": {
      "text/plain": [
       "12"
      ]
     },
     "execution_count": 57,
     "metadata": {},
     "output_type": "execute_result"
    }
   ],
   "source": [
    "len(li3)"
   ]
  },
  {
   "cell_type": "code",
   "execution_count": 59,
   "id": "190d1f85",
   "metadata": {},
   "outputs": [
    {
     "name": "stdout",
     "output_type": "stream",
     "text": [
      "(10.359233484911412+0j)\n"
     ]
    }
   ],
   "source": [
    "c=0\n",
    "for i in li2:\n",
    "    if i in li3:\n",
    "        print(i)"
   ]
  },
  {
   "cell_type": "code",
   "execution_count": 60,
   "id": "22bfaea1",
   "metadata": {
    "collapsed": true
   },
   "outputs": [
    {
     "data": {
      "text/plain": [
       "[2177.2552732851213,\n",
       " 560.2717925055496,\n",
       " 283.0478791449138,\n",
       " 85.71103481523593,\n",
       " 46.60048456360065,\n",
       " 32.865266293495075,\n",
       " 10.359233484911412,\n",
       " 5.666605579162495,\n",
       " 4.185824399134853,\n",
       " 3.0185896385208566,\n",
       " 0.727463938937246,\n",
       " 0.9143484703004677]"
      ]
     },
     "execution_count": 60,
     "metadata": {},
     "output_type": "execute_result"
    }
   ],
   "source": [
    "li3"
   ]
  },
  {
   "cell_type": "code",
   "execution_count": 61,
   "id": "b88bba97",
   "metadata": {
    "collapsed": true
   },
   "outputs": [
    {
     "data": {
      "text/plain": [
       "[(2177.2552732851204+0j),\n",
       " (560.2717925055488+0j),\n",
       " (283.047879144914+0j),\n",
       " (85.71103481523534+0j),\n",
       " (46.60048456360017+0j),\n",
       " (32.865266293495+0j),\n",
       " (10.359233484911412+0j),\n",
       " (5.666605579161543+0j),\n",
       " (4.185824399135257+0j),\n",
       " (3.0185896385234607+0j),\n",
       " (0.9143484702990669+0j),\n",
       " (0.7274639389394656+0j),\n",
       " (9.099906145315479e-06+0j),\n",
       " (7.567989075834715e-06+0j),\n",
       " (7.139077500003668e-06+0j),\n",
       " (6.664155407097181e-06+0j),\n",
       " (6.230949305912204e-06+0j),\n",
       " (6.0102480892621185e-06+0j),\n",
       " (5.385685740153787e-06+0j),\n",
       " (4.881847999912194e-06+0j),\n",
       " (4.665001603329779e-06+0j),\n",
       " (4.432709779944122e-06+0j),\n",
       " (3.680507706185761e-06+0j),\n",
       " (2.9644229975985413e-06+0j),\n",
       " (2.8752091177343546e-06+0j),\n",
       " (2.6184949155277696e-06+0j),\n",
       " (2.4545152194022604e-06+0j),\n",
       " (2.2594448872825852e-06+0j),\n",
       " (2.1601462181805413e-06+0j),\n",
       " (2.06435693278768e-06+0j),\n",
       " (1.9813392315999912e-06+0j),\n",
       " (1.7562071516293226e-06+0j),\n",
       " (1.474515307201477e-06+0j),\n",
       " (1.3476108135536919e-06+0j),\n",
       " (1.059126752942446e-06+0j),\n",
       " (8.862069241206369e-07+0j),\n",
       " (5.221734732385812e-07+0j),\n",
       " (7.610373352377634e-14+0j),\n",
       " (6.097315287871411e-14+0j),\n",
       " (5.682476366138399e-14+0j),\n",
       " (5.2080701772622636e-14+0j),\n",
       " (4.6647134546015623e-14+0j),\n",
       " (4.067545131097538e-14+0j),\n",
       " (4.330298922196633e-14+0j),\n",
       " (2.0401294058050217e-14+0j),\n",
       " (4.3573866566552016e-15+0j),\n",
       " (2.9338348523102694e-21+0j),\n",
       " (6.922764592568435e-22+0j),\n",
       " (3.3118296918100824e-23+0j)]"
      ]
     },
     "execution_count": 61,
     "metadata": {},
     "output_type": "execute_result"
    }
   ],
   "source": [
    "li2"
   ]
  },
  {
   "cell_type": "code",
   "execution_count": 1,
   "id": "819eceb7",
   "metadata": {},
   "outputs": [],
   "source": [
    "def PCA(x,k):\n",
    "    \"\"\"\n",
    "    x - mxn\n",
    "    k - number of principal components required\n",
    "    Return the nxk matrix of principal orthonormal components\n",
    "    \"\"\"\n",
    "    import numpy as np\n",
    "    from math import sqrt\n",
    "    m,n=x.shape\n",
    "    xc=x\n",
    "    xc=xc-np.sum(xc,axis=0)/(x.shape[0])\n",
    "    σ=np.zeros(n)\n",
    "    σ=σ.reshape(1,n)\n",
    "    for i in range(n):\n",
    "        σ[0][i]=0.0\n",
    "        for j in range(m):\n",
    "            σ[0][i]+=xc[j][i]**2\n",
    "        σ[0][i]=sqrt(σ[0][i]/m)\n",
    "    for i in range(n):\n",
    "        for j in range(m):\n",
    "            xc[j][i]=xc[j][i]/σ[0][i]\n",
    "    emp_cov_mat=np.zeros(n*n)\n",
    "    emp_cov_mat=emp_cov_mat.reshape(n,n)\n",
    "    for i in range(m):\n",
    "        temp=x[i].reshape(1,n)\n",
    "        emp_cov_mat+=(temp.T)@temp\n",
    "    emp_cov_mat=emp_cov_mat/m\n",
    "    eigval,eigvect=np.linalg.eig(emp_cov_mat)\n",
    "    return eigvect[:,:k]"
   ]
  },
  {
   "cell_type": "code",
   "execution_count": 74,
   "id": "efa83d61",
   "metadata": {},
   "outputs": [],
   "source": [
    "xc=x"
   ]
  },
  {
   "cell_type": "code",
   "execution_count": 75,
   "id": "b1839947",
   "metadata": {},
   "outputs": [
    {
     "data": {
      "text/plain": [
       "array([[-0.09139667,  0.15574707, -0.3678881 , ..., -0.0558741 ,\n",
       "        -0.21440942, -0.00165441],\n",
       "       [-0.05058034,  0.31364181, -0.3678881 , ...,  0.01685317,\n",
       "        -0.1274529 , -0.03086596],\n",
       "       [-0.05058034,  0.20837865, -0.31383405, ..., -0.00132865,\n",
       "        -0.1274529 ,  0.03453689],\n",
       "       ...,\n",
       "       [-0.20364156, -0.01091959, -0.19221243, ...,  0.05927741,\n",
       "         0.13341667, -0.12333205],\n",
       "       [-0.24445789,  0.10750146, -0.20572594, ...,  0.03503499,\n",
       "        -0.04049637, -0.12363847],\n",
       "       [-0.23425381, -0.18635819,  0.26724703, ...,  0.00473196,\n",
       "         0.13341667, -0.05551051]])"
      ]
     },
     "execution_count": 75,
     "metadata": {},
     "output_type": "execute_result"
    }
   ],
   "source": [
    "xc-np.sum(xc,axis=0)/(x.shape[0])"
   ]
  },
  {
   "cell_type": "code",
   "execution_count": 66,
   "id": "6a9b6d0c",
   "metadata": {},
   "outputs": [
    {
     "data": {
      "text/plain": [
       "1113"
      ]
     },
     "execution_count": 66,
     "metadata": {},
     "output_type": "execute_result"
    }
   ],
   "source": [
    "x.shape[0]"
   ]
  },
  {
   "cell_type": "code",
   "execution_count": 76,
   "id": "78f7b9eb",
   "metadata": {},
   "outputs": [],
   "source": [
    "np.sum?"
   ]
  },
  {
   "cell_type": "code",
   "execution_count": 79,
   "id": "b0bb0158",
   "metadata": {},
   "outputs": [
    {
     "data": {
      "text/plain": [
       "array([351.58163265, 324.5745614 , 409.45945946, 122.0625    ,\n",
       "       140.21974522, 289.89583333, 299.21167883, 533.11284047,\n",
       "       540.48717949, 217.33333333, 335.42028985, 140.90641845])"
      ]
     },
     "execution_count": 79,
     "metadata": {},
     "output_type": "execute_result"
    }
   ],
   "source": [
    "np.sum(xc,axis=0)"
   ]
  },
  {
   "cell_type": "code",
   "execution_count": 81,
   "id": "8d9aac95",
   "metadata": {},
   "outputs": [],
   "source": [
    "np.linalg.eig?"
   ]
  },
  {
   "cell_type": "code",
   "execution_count": 11,
   "id": "63497108",
   "metadata": {},
   "outputs": [],
   "source": [
    "a=PCA(x,5)"
   ]
  },
  {
   "cell_type": "code",
   "execution_count": 12,
   "id": "d15de45f",
   "metadata": {},
   "outputs": [
    {
     "data": {
      "text/plain": [
       "(12, 5)"
      ]
     },
     "execution_count": 12,
     "metadata": {},
     "output_type": "execute_result"
    }
   ],
   "source": [
    "a.shape"
   ]
  },
  {
   "cell_type": "code",
   "execution_count": 10,
   "id": "b6e65a33",
   "metadata": {},
   "outputs": [
    {
     "data": {
      "text/plain": [
       "(1113, 12)"
      ]
     },
     "execution_count": 10,
     "metadata": {},
     "output_type": "execute_result"
    }
   ],
   "source": [
    "x.shape"
   ]
  },
  {
   "cell_type": "code",
   "execution_count": 13,
   "id": "75f8f097",
   "metadata": {},
   "outputs": [
    {
     "ename": "ModuleNotFoundError",
     "evalue": "No module named 'keras'",
     "output_type": "error",
     "traceback": [
      "\u001b[1;31m---------------------------------------------------------------------------\u001b[0m",
      "\u001b[1;31mModuleNotFoundError\u001b[0m                       Traceback (most recent call last)",
      "\u001b[1;32m~\\AppData\\Local\\Temp/ipykernel_11340/1967557795.py\u001b[0m in \u001b[0;36m<module>\u001b[1;34m\u001b[0m\n\u001b[1;32m----> 1\u001b[1;33m \u001b[1;32mfrom\u001b[0m \u001b[0mkeras\u001b[0m\u001b[1;33m.\u001b[0m\u001b[0mdatasets\u001b[0m \u001b[1;32mimport\u001b[0m \u001b[0mmnist\u001b[0m\u001b[1;33m\u001b[0m\u001b[1;33m\u001b[0m\u001b[0m\n\u001b[0m",
      "\u001b[1;31mModuleNotFoundError\u001b[0m: No module named 'keras'"
     ]
    }
   ],
   "source": [
    "from keras.datasets import mnist"
   ]
  },
  {
   "cell_type": "code",
   "execution_count": null,
   "id": "71a8efeb",
   "metadata": {},
   "outputs": [],
   "source": []
  }
 ],
 "metadata": {
  "kernelspec": {
   "display_name": "Python 3 (ipykernel)",
   "language": "python",
   "name": "python3"
  },
  "language_info": {
   "codemirror_mode": {
    "name": "ipython",
    "version": 3
   },
   "file_extension": ".py",
   "mimetype": "text/x-python",
   "name": "python",
   "nbconvert_exporter": "python",
   "pygments_lexer": "ipython3",
   "version": "3.9.7"
  }
 },
 "nbformat": 4,
 "nbformat_minor": 5
}
