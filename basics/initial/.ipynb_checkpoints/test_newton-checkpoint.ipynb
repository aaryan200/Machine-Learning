{
 "cells": [
  {
   "cell_type": "code",
   "execution_count": 33,
   "id": "27709570",
   "metadata": {},
   "outputs": [],
   "source": [
    "def dot_val(th,X):\n",
    "    \"\"\"\n",
    "    th - (n+1)x1\n",
    "    X - 1x(n+1)\n",
    "    \"\"\" \n",
    "    import numpy as np\n",
    "    out=X@th\n",
    "    return out[0][0]\n",
    "def hval(th,X):\n",
    "    \"\"\"\n",
    "    th - (n+1)x1\n",
    "    X - 1x(n+1)\n",
    "    \"\"\" \n",
    "    from math import exp\n",
    "    out=1/(1+exp((-1)*dot_val(th,X)))\n",
    "    return out\n",
    "def probab(th,X,y):\n",
    "    \"\"\"\n",
    "    X - mx(n+1)\n",
    "    y- mx1\n",
    "    th - (n+1)x1\n",
    "    \"\"\"\n",
    "    from math import log\n",
    "    ZERO=1.0e-16\n",
    "    m=y.shape[0]\n",
    "    n=th.shape[0]-1\n",
    "    s=0.0\n",
    "    for i in range(m):\n",
    "        t=X[i].reshape(1,n+1)\n",
    "        ht=hval(th,t)\n",
    "        temp=y[i][0]\n",
    "#         if (abs(ht)<=ZERO or abs(1-ht)<=ZERO):\n",
    "#             return 'c'\n",
    "        #print(ht)\n",
    "        s+=temp*log(ht)+(1-temp)*log(1-ht)\n",
    "    return s"
   ]
  },
  {
   "cell_type": "code",
   "execution_count": 34,
   "id": "4d371eb3",
   "metadata": {},
   "outputs": [],
   "source": [
    "def repl_th(th,X,y):\n",
    "    \"\"\"\n",
    "    th - (n+1)x1\n",
    "    X - mx(n+1)\n",
    "    y- mx1\n",
    "    \"\"\"\n",
    "    import numpy as np\n",
    "    ZERO=1.0e-16\n",
    "    m=y.shape[0]\n",
    "    n=th.shape[0]-1\n",
    "    H=np.zeros((n+1)**2)\n",
    "    H=H.reshape(n+1,n+1)\n",
    "    dJ=np.zeros(n+1)\n",
    "    dJ=dJ.reshape(n+1,1)\n",
    "    for i in range(m):\n",
    "        t1=X[i].reshape(1,n+1)\n",
    "        t2=np.transpose(t1)\n",
    "        ht=hval(th,t1)\n",
    "        H=H+(ht*(1-ht))*(t2@t1)\n",
    "        dJ=dJ+(ht-y[i][0])*t2\n",
    "    H=H/m\n",
    "#     print(H)\n",
    "#     dJ=np.zeros(n+1)\n",
    "#     dJ=dJ.reshape(n+1,1)\n",
    "#     for i in range(m):\n",
    "#         t1=X[i].reshape(1,n+1)\n",
    "#         t2=np.transpose(t1)\n",
    "#         dJ=dJ+(hval(th,t1)-y[i][0])*t2\n",
    "    dJ=dJ/m\n",
    "#     print(dJ)\n",
    "#     if (abs(np.linalg.det(H))<=ZERO):\n",
    "#         return 'd'\n",
    "    temp1=np.linalg.inv(H)\n",
    "    temp=(temp1)@dJ\n",
    "#     print(temp1)\n",
    "#     print(temp)\n",
    "    for j in range(n+1):\n",
    "        th[j]-=temp[j]\n",
    "#     print(th)\n",
    "    return 0"
   ]
  },
  {
   "cell_type": "code",
   "execution_count": 35,
   "id": "8cea782c",
   "metadata": {},
   "outputs": [],
   "source": [
    "def newt_meth(X,y):\n",
    "    \"\"\"\n",
    "    X - mx(n+1)\n",
    "    y- mx1\n",
    "    test - 1x(n+1)\n",
    "    \"\"\"\n",
    "    ERR=1.0e-10\n",
    "    import numpy as np\n",
    "    #alp=1.0e-5\n",
    "    m=y.shape[0]\n",
    "    n=X.shape[1]-1\n",
    "    th=np.zeros(n+1)\n",
    "    th=th.reshape(n+1,1)\n",
    "    j0=probab(th,X,y)\n",
    "    conv=j0\n",
    "    print(conv)\n",
    "    it=0\n",
    "    while (abs(conv)>=ERR):\n",
    "        if (repl_th(th,X,y)=='d'):\n",
    "            break\n",
    "        j1=probab(th,X,y)\n",
    "        if (j1=='c'):\n",
    "            break\n",
    "        #print(j1)\n",
    "        conv=j1-j0\n",
    "        print(conv)\n",
    "        j0=j1\n",
    "        it+=1\n",
    "    print(conv)\n",
    "    print(it)\n",
    "    return th\n",
    "#     if hval(th,test)>=0.5:\n",
    "#         return(1,it)\n",
    "#     return(0,it)"
   ]
  },
  {
   "cell_type": "code",
   "execution_count": 90,
   "id": "40da56bc",
   "metadata": {},
   "outputs": [
    {
     "data": {
      "text/plain": [
       "(1599, 17)"
      ]
     },
     "execution_count": 90,
     "metadata": {},
     "output_type": "execute_result"
    }
   ],
   "source": [
    "import numpy as np\n",
    "al=np.loadtxt(\"../Epoch/Selection_Hackathon/Dataset.csv\",delimiter=',',skiprows=1)\n",
    "#al=np.c_[np.ones(1599),al]\n",
    "for i in range(1599):\n",
    "    al[i][0]/=10\n",
    "    al[i][5]/=10\n",
    "    al[i][6]/=10\n",
    "    al[i][10]/=10\n",
    "    al[i][12]/=10\n",
    "    al[i][15]/=100\n",
    "al\n",
    "al.shape"
   ]
  },
  {
   "cell_type": "code",
   "execution_count": 79,
   "id": "28c93255",
   "metadata": {},
   "outputs": [],
   "source": [
    "y_plot=al[:,11]\n",
    "x_plot=np.delete(al,11,axis=1)"
   ]
  },
  {
   "cell_type": "code",
   "execution_count": 83,
   "id": "14ecebec",
   "metadata": {},
   "outputs": [
    {
     "data": {
      "text/plain": [
       "array([0.74      , 0.7       , 0.        , 1.9       , 0.076     ,\n",
       "       1.1       , 3.4       , 0.9978    , 3.51      , 0.56      ,\n",
       "       0.94      , 0.81      , 4.05      , 0.636     , 0.30909091,\n",
       "       0.608     ])"
      ]
     },
     "execution_count": 83,
     "metadata": {},
     "output_type": "execute_result"
    }
   ],
   "source": [
    "x_plot[0]"
   ]
  },
  {
   "cell_type": "code",
   "execution_count": 91,
   "id": "eb3352aa",
   "metadata": {},
   "outputs": [
    {
     "ename": "ValueError",
     "evalue": "Shape of passed values is (1599, 17), indices imply (1599, 16)",
     "output_type": "error",
     "traceback": [
      "\u001b[0;31m---------------------------------------------------------------------------\u001b[0m",
      "\u001b[0;31mValueError\u001b[0m                                Traceback (most recent call last)",
      "\u001b[0;32m/tmp/ipykernel_15160/3266845964.py\u001b[0m in \u001b[0;36m<module>\u001b[0;34m\u001b[0m\n\u001b[1;32m      1\u001b[0m \u001b[0;32mimport\u001b[0m \u001b[0mpandas\u001b[0m \u001b[0;32mas\u001b[0m \u001b[0mpd\u001b[0m\u001b[0;34m\u001b[0m\u001b[0;34m\u001b[0m\u001b[0m\n\u001b[1;32m      2\u001b[0m \u001b[0;32mimport\u001b[0m \u001b[0mmatplotlib\u001b[0m\u001b[0;34m.\u001b[0m\u001b[0mpyplot\u001b[0m \u001b[0;32mas\u001b[0m \u001b[0mplt\u001b[0m\u001b[0;34m\u001b[0m\u001b[0;34m\u001b[0m\u001b[0m\n\u001b[0;32m----> 3\u001b[0;31m df=pd.DataFrame(al,columns=[\"fixed acidity\",\"volatile acidity\",\"citric acid\",\"residual sugar\",\"chlorides\",\n\u001b[0m\u001b[1;32m      4\u001b[0m                             \u001b[0;34m\"free sulfur dioxide\"\u001b[0m\u001b[0;34m,\u001b[0m\u001b[0;34m\"total sulfur dioxide\"\u001b[0m\u001b[0;34m,\u001b[0m\u001b[0;34m\"density,pH\"\u001b[0m\u001b[0;34m,\u001b[0m\u001b[0;34m\"sulphates\"\u001b[0m\u001b[0;34m,\u001b[0m\u001b[0;34m\u001b[0m\u001b[0;34m\u001b[0m\u001b[0m\n\u001b[1;32m      5\u001b[0m                             \u001b[0;34m\"alcohol\"\u001b[0m\u001b[0;34m,\u001b[0m\u001b[0;34m\"quality\"\u001b[0m\u001b[0;34m,\u001b[0m\u001b[0;34m\"k_value\"\u001b[0m\u001b[0;34m,\u001b[0m\u001b[0;34m\"l_value\"\u001b[0m\u001b[0;34m,\u001b[0m\u001b[0;34m\"m_value\"\u001b[0m\u001b[0;34m,\u001b[0m\u001b[0;34m\"percentage_free_sulphur\"\u001b[0m\u001b[0;34m,\u001b[0m\u001b[0;34m\u001b[0m\u001b[0;34m\u001b[0m\u001b[0m\n",
      "\u001b[0;32m~/anaconda3/lib/python3.9/site-packages/pandas/core/frame.py\u001b[0m in \u001b[0;36m__init__\u001b[0;34m(self, data, index, columns, dtype, copy)\u001b[0m\n\u001b[1;32m    670\u001b[0m                 )\n\u001b[1;32m    671\u001b[0m             \u001b[0;32melse\u001b[0m\u001b[0;34m:\u001b[0m\u001b[0;34m\u001b[0m\u001b[0;34m\u001b[0m\u001b[0m\n\u001b[0;32m--> 672\u001b[0;31m                 mgr = ndarray_to_mgr(\n\u001b[0m\u001b[1;32m    673\u001b[0m                     \u001b[0mdata\u001b[0m\u001b[0;34m,\u001b[0m\u001b[0;34m\u001b[0m\u001b[0;34m\u001b[0m\u001b[0m\n\u001b[1;32m    674\u001b[0m                     \u001b[0mindex\u001b[0m\u001b[0;34m,\u001b[0m\u001b[0;34m\u001b[0m\u001b[0;34m\u001b[0m\u001b[0m\n",
      "\u001b[0;32m~/anaconda3/lib/python3.9/site-packages/pandas/core/internals/construction.py\u001b[0m in \u001b[0;36mndarray_to_mgr\u001b[0;34m(values, index, columns, dtype, copy, typ)\u001b[0m\n\u001b[1;32m    322\u001b[0m     )\n\u001b[1;32m    323\u001b[0m \u001b[0;34m\u001b[0m\u001b[0m\n\u001b[0;32m--> 324\u001b[0;31m     \u001b[0m_check_values_indices_shape_match\u001b[0m\u001b[0;34m(\u001b[0m\u001b[0mvalues\u001b[0m\u001b[0;34m,\u001b[0m \u001b[0mindex\u001b[0m\u001b[0;34m,\u001b[0m \u001b[0mcolumns\u001b[0m\u001b[0;34m)\u001b[0m\u001b[0;34m\u001b[0m\u001b[0;34m\u001b[0m\u001b[0m\n\u001b[0m\u001b[1;32m    325\u001b[0m \u001b[0;34m\u001b[0m\u001b[0m\n\u001b[1;32m    326\u001b[0m     \u001b[0;32mif\u001b[0m \u001b[0mtyp\u001b[0m \u001b[0;34m==\u001b[0m \u001b[0;34m\"array\"\u001b[0m\u001b[0;34m:\u001b[0m\u001b[0;34m\u001b[0m\u001b[0;34m\u001b[0m\u001b[0m\n",
      "\u001b[0;32m~/anaconda3/lib/python3.9/site-packages/pandas/core/internals/construction.py\u001b[0m in \u001b[0;36m_check_values_indices_shape_match\u001b[0;34m(values, index, columns)\u001b[0m\n\u001b[1;32m    391\u001b[0m         \u001b[0mpassed\u001b[0m \u001b[0;34m=\u001b[0m \u001b[0mvalues\u001b[0m\u001b[0;34m.\u001b[0m\u001b[0mshape\u001b[0m\u001b[0;34m\u001b[0m\u001b[0;34m\u001b[0m\u001b[0m\n\u001b[1;32m    392\u001b[0m         \u001b[0mimplied\u001b[0m \u001b[0;34m=\u001b[0m \u001b[0;34m(\u001b[0m\u001b[0mlen\u001b[0m\u001b[0;34m(\u001b[0m\u001b[0mindex\u001b[0m\u001b[0;34m)\u001b[0m\u001b[0;34m,\u001b[0m \u001b[0mlen\u001b[0m\u001b[0;34m(\u001b[0m\u001b[0mcolumns\u001b[0m\u001b[0;34m)\u001b[0m\u001b[0;34m)\u001b[0m\u001b[0;34m\u001b[0m\u001b[0;34m\u001b[0m\u001b[0m\n\u001b[0;32m--> 393\u001b[0;31m         \u001b[0;32mraise\u001b[0m \u001b[0mValueError\u001b[0m\u001b[0;34m(\u001b[0m\u001b[0;34mf\"Shape of passed values is {passed}, indices imply {implied}\"\u001b[0m\u001b[0;34m)\u001b[0m\u001b[0;34m\u001b[0m\u001b[0;34m\u001b[0m\u001b[0m\n\u001b[0m\u001b[1;32m    394\u001b[0m \u001b[0;34m\u001b[0m\u001b[0m\n\u001b[1;32m    395\u001b[0m \u001b[0;34m\u001b[0m\u001b[0m\n",
      "\u001b[0;31mValueError\u001b[0m: Shape of passed values is (1599, 17), indices imply (1599, 16)"
     ]
    }
   ],
   "source": [
    "import pandas as pd\n",
    "import matplotlib.pyplot as plt\n",
    "df=pd.DataFrame(al,columns=[\"fixed acidity\",\"volatile acidity\",\"citric acid\",\"residual sugar\",\"chlorides\",\n",
    "                            \"free sulfur dioxide\",\"total sulfur dioxide\",\"density\"pH\",\"sulphates\",\n",
    "                            \"alcohol\",\"quality\",\"k_value\",\"l_value\",\"m_value\",\"percentage_free_sulphur\",\n",
    "                            \"n_value\"])\n",
    "df.plot(x=[\"fixed acidity\",\"volatile acidity\",\"citric acid\",\"residual sugar\",\"chlorides\",\n",
    "                            \"free sulfur dioxide\",\"total sulfur dioxide\",\"density,pH\",\"sulphates\",\n",
    "                            \"alcohol\",\"quality\",\"k_value\",\"l_value\",\"m_value\",\"percentage_free_sulphur\",\n",
    "                            \"n_value\"],y=[\"quality\"],kind=\"scatter\",figsize=(10,10))\n",
    "plt.show()"
   ]
  },
  {
   "cell_type": "code",
   "execution_count": 6,
   "id": "061d25b0",
   "metadata": {},
   "outputs": [
    {
     "data": {
      "text/plain": [
       "(1359, 18)"
      ]
     },
     "execution_count": 6,
     "metadata": {},
     "output_type": "execute_result"
    }
   ],
   "source": [
    "al_un=np.unique(al,axis=0)\n",
    "al_un\n",
    "al_un.shape"
   ]
  },
  {
   "cell_type": "code",
   "execution_count": 7,
   "id": "a1061220",
   "metadata": {},
   "outputs": [
    {
     "data": {
      "text/plain": [
       "271.8"
      ]
     },
     "execution_count": 7,
     "metadata": {},
     "output_type": "execute_result"
    }
   ],
   "source": [
    "1359/5"
   ]
  },
  {
   "cell_type": "code",
   "execution_count": 8,
   "id": "4f1430fe",
   "metadata": {},
   "outputs": [
    {
     "data": {
      "text/plain": [
       "1088"
      ]
     },
     "execution_count": 8,
     "metadata": {},
     "output_type": "execute_result"
    }
   ],
   "source": [
    "1359-271"
   ]
  },
  {
   "cell_type": "code",
   "execution_count": 13,
   "id": "3c182cac",
   "metadata": {},
   "outputs": [
    {
     "name": "stdout",
     "output_type": "stream",
     "text": [
      "[[1.         0.7        0.22       ... 0.885      0.125      0.6325    ]\n",
      " [1.         0.7        0.23       ... 0.693      0.31904762 0.5915    ]\n",
      " [1.         0.7        0.36       ... 0.626      0.325      0.775     ]\n",
      " ...\n",
      " [1.         1.56       0.645      ... 0.835      0.23       1.4055    ]\n",
      " [1.         1.56       0.685      ... 0.78       0.71666667 1.312     ]\n",
      " [1.         1.59       0.36       ... 0.936      0.32272727 2.428     ]]\n"
     ]
    },
    {
     "data": {
      "text/plain": [
       "(1088, 18)"
      ]
     },
     "execution_count": 13,
     "metadata": {},
     "output_type": "execute_result"
    }
   ],
   "source": [
    "x1=al_un[271:,:]\n",
    "print(x1)\n",
    "x1.shape"
   ]
  },
  {
   "cell_type": "code",
   "execution_count": 24,
   "id": "a1115743",
   "metadata": {},
   "outputs": [
    {
     "data": {
      "text/plain": [
       "(1088, 17)"
      ]
     },
     "execution_count": 24,
     "metadata": {},
     "output_type": "execute_result"
    }
   ],
   "source": [
    "x=np.delete(x1,12,axis=1)\n",
    "x[5]\n",
    "x.shape"
   ]
  },
  {
   "cell_type": "code",
   "execution_count": 37,
   "id": "d857337b",
   "metadata": {},
   "outputs": [],
   "source": [
    "y=x1[:,12]\n",
    "y=y.reshape(1088,1)"
   ]
  },
  {
   "cell_type": "code",
   "execution_count": 28,
   "id": "ce292fd9",
   "metadata": {},
   "outputs": [
    {
     "data": {
      "text/plain": [
       "(271, 17)"
      ]
     },
     "execution_count": 28,
     "metadata": {},
     "output_type": "execute_result"
    }
   ],
   "source": [
    "te=al_un[:271,:]\n",
    "te=np.delete(te,12,axis=1)\n",
    "te.shape"
   ]
  },
  {
   "cell_type": "code",
   "execution_count": 32,
   "id": "bad81c61",
   "metadata": {},
   "outputs": [
    {
     "data": {
      "text/plain": [
       "(271, 1)"
      ]
     },
     "execution_count": 32,
     "metadata": {},
     "output_type": "execute_result"
    }
   ],
   "source": [
    "teans=al_un[:271,12]\n",
    "teans=teans.reshape(271,1)\n",
    "teans.shape"
   ]
  },
  {
   "cell_type": "code",
   "execution_count": 38,
   "id": "40caa777",
   "metadata": {},
   "outputs": [
    {
     "name": "stdout",
     "output_type": "stream",
     "text": [
      "-754.1441324492025\n",
      "195.53606750295535\n",
      "13.257977475149346\n",
      "0.4495650880047606\n",
      "0.009209384425616918\n",
      "0.0002594012184999883\n",
      "7.840290777494374e-06\n",
      "2.602860149636399e-08\n",
      "1.2842065189033747e-09\n",
      "3.865352482534945e-12\n",
      "3.865352482534945e-12\n",
      "9\n"
     ]
    }
   ],
   "source": [
    "th=newt_meth(x,y)"
   ]
  },
  {
   "cell_type": "code",
   "execution_count": 39,
   "id": "af1e66a9",
   "metadata": {},
   "outputs": [
    {
     "data": {
      "text/plain": [
       "array([[-18.0050385 ],\n",
       "       [ 17.56813247],\n",
       "       [ -1.98129153],\n",
       "       [  0.08202729],\n",
       "       [  2.48710137],\n",
       "       [ -6.04584386],\n",
       "       [  0.25303097],\n",
       "       [ -0.196643  ],\n",
       "       [  9.37396613],\n",
       "       [ -0.21648012],\n",
       "       [ -4.99244275],\n",
       "       [ 10.07805396],\n",
       "       [-18.39960517],\n",
       "       [  0.32095811],\n",
       "       [  7.22505042],\n",
       "       [  0.68852598],\n",
       "       [ -8.35498373]])"
      ]
     },
     "execution_count": 39,
     "metadata": {},
     "output_type": "execute_result"
    }
   ],
   "source": [
    "th"
   ]
  },
  {
   "cell_type": "code",
   "execution_count": 56,
   "id": "4f16c426",
   "metadata": {},
   "outputs": [],
   "source": [
    "def min_max_test(x,y,th):\n",
    "    \"\"\"\n",
    "    th - (n+1)x1\n",
    "    x - mx(n+1)\n",
    "    y - mx1\n",
    "    \"\"\"\n",
    "    m=y.shape[0]\n",
    "    n=x.shape[1]-1\n",
    "    import numpy as np\n",
    "    max_1=(-1)*np.Infinity\n",
    "    min_1=np.Infinity\n",
    "    for i in range(m):\n",
    "        temp=x[i].reshape(1,n+1)\n",
    "        hv=hval(th,temp)\n",
    "        if (y[i]==1.0 and hv<min_1):\n",
    "            min_1=hv\n",
    "        elif (y[i]==0.0 and hv>max_1):\n",
    "            max_1=hv\n",
    "    return(min_1,max_1)"
   ]
  },
  {
   "cell_type": "code",
   "execution_count": 68,
   "id": "4935b933",
   "metadata": {},
   "outputs": [],
   "source": [
    "def av_low_high(x,y,th):\n",
    "    \"\"\"\n",
    "    th - (n+1)x1\n",
    "    x - mx(n+1)\n",
    "    y - mx1\n",
    "    \"\"\"\n",
    "    m=y.shape[0]\n",
    "    n=x.shape[1]-1\n",
    "    s_0=0.0\n",
    "    n_0=0\n",
    "    s_1=0.0\n",
    "    n_1=0\n",
    "    for i in range(m):\n",
    "        temp=x[i].reshape(1,n+1)\n",
    "        ht=hval(th,temp)\n",
    "        if (y[i]==1.0):\n",
    "            s_1+=ht\n",
    "            n_1+=1\n",
    "        elif (y[i]==0.0):\n",
    "            s_0+=ht\n",
    "            n_0+=1\n",
    "    return(s_0/float(n_0),s_1/float(n_1))"
   ]
  },
  {
   "cell_type": "code",
   "execution_count": 52,
   "id": "8da7d33c",
   "metadata": {},
   "outputs": [
    {
     "data": {
      "text/plain": [
       "(0.06435583580977243, 0.9955980569389695)"
      ]
     },
     "execution_count": 52,
     "metadata": {},
     "output_type": "execute_result"
    }
   ],
   "source": [
    "min_1,max_1=min_max_test(x,y,th)\n",
    "av=(min_1+max_1)/2\n",
    "min_1,max_1"
   ]
  },
  {
   "cell_type": "code",
   "execution_count": 71,
   "id": "a9609f8e",
   "metadata": {},
   "outputs": [
    {
     "data": {
      "text/plain": [
       "(0.3467854518739999, 0.6836877926396273)"
      ]
     },
     "execution_count": 71,
     "metadata": {},
     "output_type": "execute_result"
    }
   ],
   "source": [
    "av_0,av_1=av_low_high(x,y,th)\n",
    "av1=(av_0+av_1)/2\n",
    "av_0,av_1"
   ]
  },
  {
   "cell_type": "code",
   "execution_count": 73,
   "id": "cf060769",
   "metadata": {},
   "outputs": [
    {
     "data": {
      "text/plain": [
       "194"
      ]
     },
     "execution_count": 73,
     "metadata": {},
     "output_type": "execute_result"
    }
   ],
   "source": [
    "c=0\n",
    "for i in range(271):\n",
    "    temp=te[i].reshape(1,17)\n",
    "    if (hval(th,temp)>=0.5 and teans[i]==1.0):\n",
    "        c+=1\n",
    "    elif (hval(th,temp)<0.5 and teans[i]==0.0):\n",
    "        c+=1\n",
    "c"
   ]
  },
  {
   "cell_type": "code",
   "execution_count": 72,
   "id": "cf0670cd",
   "metadata": {},
   "outputs": [
    {
     "data": {
      "text/plain": [
       "0.7232472324723247"
      ]
     },
     "execution_count": 72,
     "metadata": {},
     "output_type": "execute_result"
    }
   ],
   "source": [
    "196/271"
   ]
  },
  {
   "cell_type": "code",
   "execution_count": null,
   "id": "0b85cfc0",
   "metadata": {},
   "outputs": [],
   "source": []
  },
  {
   "cell_type": "code",
   "execution_count": null,
   "id": "966831fd",
   "metadata": {},
   "outputs": [],
   "source": []
  }
 ],
 "metadata": {
  "kernelspec": {
   "display_name": "Python 3 (ipykernel)",
   "language": "python",
   "name": "python3"
  },
  "language_info": {
   "codemirror_mode": {
    "name": "ipython",
    "version": 3
   },
   "file_extension": ".py",
   "mimetype": "text/x-python",
   "name": "python",
   "nbconvert_exporter": "python",
   "pygments_lexer": "ipython3",
   "version": "3.9.7"
  }
 },
 "nbformat": 4,
 "nbformat_minor": 5
}
