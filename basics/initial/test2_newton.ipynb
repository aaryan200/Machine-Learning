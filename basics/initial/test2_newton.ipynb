{
 "cells": [
  {
   "cell_type": "code",
   "execution_count": 107,
   "id": "fc5acb63",
   "metadata": {},
   "outputs": [],
   "source": [
    "import numpy as np\n",
    "import pandas as pd\n",
    "import matplotlib.pyplot as plt\n",
    "al1=pd.read_csv(\"../Epoch/Selection_Hackathon/Dataset.csv\")\n",
    "x1=pd.concat([al1[:960],al1[1279:]])\n",
    "# x1=al1[:1280]\n",
    "# x1=al1[319:]\n",
    "x2=x1.drop(['k_value','l_value','m_value','n_value'],axis=1)\n",
    "y1=x2['quality']\n",
    "y2=y1.to_numpy()\n",
    "y=y2.reshape(1280,1)\n",
    "x3=x2.drop('quality',axis=1).to_numpy()\n",
    "te1=al1[960:1279]\n",
    "# te1=al1[1280:]\n",
    "# te1=al1[:319]\n",
    "teans1=te1['quality']\n",
    "teans2=teans1.to_numpy()\n",
    "teans=teans2.reshape(319,1)\n",
    "te2=te1.drop(['quality','k_value','l_value','m_value','n_value'],axis=1).to_numpy()\n",
    "x=np.c_[np.ones(1280),x3]\n",
    "te=np.c_[np.ones(319),te2]\n",
    "temp1=np.percentile(x,1,axis=0)\n",
    "temp99=np.percentile(x,99,axis=0)\n",
    "c1=0\n",
    "for col in range(13):\n",
    "    p_1=temp1[col]\n",
    "    p_99=temp99[col]\n",
    "    for i in range(1280):\n",
    "        if x[i][col]>p_99:\n",
    "            x=np.delete(x,i,axis=0)\n",
    "            y=np.delete(y,i,axis=0)\n",
    "            c1+=1\n",
    "        elif x[i][col]<p_1:\n",
    "            x=np.delete(x,i,axis=0)\n",
    "            y=np.delete(y,i,axis=0)\n",
    "            c1+=1\n",
    "        if (i==1279-c1):\n",
    "            break\n",
    "n_row=x.shape[0]\n",
    "for col in range(1,13):\n",
    "    min_col=np.Infinity\n",
    "    max_col=(-1)*np.Infinity\n",
    "    for row in range(n_row):\n",
    "        temp1=x[row][col]\n",
    "        if (temp1>max_col):\n",
    "            max_col=temp1\n",
    "        elif (temp1<min_col):\n",
    "            min_col=temp1\n",
    "    x[:,col]=(x[:,col]-min_col)/(max_col-min_col)\n",
    "    te[:,col]=(te[:,col]-min_col)/(max_col-min_col)"
   ]
  },
  {
   "cell_type": "code",
   "execution_count": 96,
   "id": "56a85a38",
   "metadata": {},
   "outputs": [],
   "source": [
    "def j_th(th,x,y):\n",
    "    import numpy as np\n",
    "    m=x.shape[0]\n",
    "    n=x.shape[1]-1\n",
    "    temp=1.0/(1+np.exp(-1*(x@th)))\n",
    "    out=(y*(np.log(temp))+(1-y)*(np.log(1-temp)))\n",
    "    s=float(np.sum(out))\n",
    "    return(-1*s/m)\n",
    "def newt_method(x,y):\n",
    "    EPS=1.0e-12\n",
    "    m=x.shape[0]\n",
    "    n=x.shape[1]-1\n",
    "    th=np.zeros(n+1)\n",
    "    th=th.reshape(n+1,1)\n",
    "    conv=np.Infinity\n",
    "    j0=j_th(th,x,y)\n",
    "    it=0\n",
    "    while abs(conv)>EPS:\n",
    "        it+=1\n",
    "        temp1=1.0/(1.0+np.exp(-1*x@th))\n",
    "        H=((np.transpose(x))@((temp1)*(1-temp1)*x))\n",
    "        H=H/m\n",
    "        dJ=np.sum(((temp1-y)*x/m),axis=0)\n",
    "        dJ=dJ.reshape(n+1,1)\n",
    "        temp2=(np.linalg.pinv(H))@dJ\n",
    "#         print(np.linalg.pinv(H))\n",
    "#         print(dJ)\n",
    "#         print(temp2)\n",
    "        th=th-temp2\n",
    "        j1=j_th(th,x,y)\n",
    "        conv=j1-j0\n",
    "        j0=j1\n",
    "    print(it)\n",
    "    return th"
   ]
  },
  {
   "cell_type": "code",
   "execution_count": 102,
   "id": "59f799cc",
   "metadata": {},
   "outputs": [
    {
     "name": "stdout",
     "output_type": "stream",
     "text": [
      "5\n"
     ]
    }
   ],
   "source": [
    "th1=newt_method(x,y)"
   ]
  },
  {
   "cell_type": "code",
   "execution_count": 103,
   "id": "a9be6239",
   "metadata": {},
   "outputs": [
    {
     "data": {
      "text/plain": [
       "array([[-7.31624203e-01],\n",
       "       [ 1.86167345e+00],\n",
       "       [-3.41654565e+00],\n",
       "       [-1.15128787e+00],\n",
       "       [ 1.18701103e+00],\n",
       "       [ 2.31863860e-01],\n",
       "       [ 1.19475260e+00],\n",
       "       [-2.71003369e+00],\n",
       "       [ 8.23716287e-02],\n",
       "       [ 6.75958270e-04],\n",
       "       [ 4.24866765e+00],\n",
       "       [ 4.27064036e+00],\n",
       "       [-4.72777887e-01]])"
      ]
     },
     "execution_count": 103,
     "metadata": {},
     "output_type": "execute_result"
    }
   ],
   "source": [
    "th1"
   ]
  },
  {
   "cell_type": "code",
   "execution_count": 109,
   "id": "79c63605",
   "metadata": {},
   "outputs": [
    {
     "data": {
      "text/plain": [
       "253"
      ]
     },
     "execution_count": 109,
     "metadata": {},
     "output_type": "execute_result"
    }
   ],
   "source": [
    "c=0\n",
    "my_ans=1.0/(1.0+np.exp(-1*te@th1))\n",
    "for i in range(319):\n",
    "    if (my_ans[i]>=0.57 and teans[i]==1.0):\n",
    "        c+=1\n",
    "    elif (my_ans[i]<0.57 and teans[i]==0.0):\n",
    "        c+=1\n",
    "c"
   ]
  },
  {
   "cell_type": "code",
   "execution_count": 34,
   "id": "f9588954",
   "metadata": {},
   "outputs": [
    {
     "data": {
      "text/plain": [
       "array([[ 1.        ,  7.4       ,  0.7       , ...,  0.56      ,\n",
       "         9.4       , 30.90909091],\n",
       "       [ 1.        ,  7.8       ,  0.88      , ...,  0.68      ,\n",
       "         9.8       , 26.8       ],\n",
       "       [ 1.        ,  7.8       ,  0.76      , ...,  0.65      ,\n",
       "         9.8       , 36.        ],\n",
       "       ...,\n",
       "       [ 1.        ,  6.3       ,  0.51      , ...,  0.75      ,\n",
       "        11.        , 13.79310345],\n",
       "       [ 1.        ,  5.9       ,  0.645     , ...,  0.71      ,\n",
       "        10.2       , 13.75      ],\n",
       "       [ 1.        ,  6.        ,  0.31      , ...,  0.66      ,\n",
       "        11.        , 23.33333333]])"
      ]
     },
     "execution_count": 34,
     "metadata": {},
     "output_type": "execute_result"
    }
   ],
   "source": [
    "x"
   ]
  },
  {
   "cell_type": "code",
   "execution_count": 35,
   "id": "500743d6",
   "metadata": {},
   "outputs": [
    {
     "data": {
      "text/plain": [
       "array([[0],\n",
       "       [0],\n",
       "       [0],\n",
       "       ...,\n",
       "       [1],\n",
       "       [0],\n",
       "       [1]])"
      ]
     },
     "execution_count": 35,
     "metadata": {},
     "output_type": "execute_result"
    }
   ],
   "source": [
    "y"
   ]
  },
  {
   "cell_type": "code",
   "execution_count": 40,
   "id": "0961a61d",
   "metadata": {},
   "outputs": [
    {
     "data": {
      "text/plain": [
       "0.775"
      ]
     },
     "execution_count": 40,
     "metadata": {},
     "output_type": "execute_result"
    }
   ],
   "source": [
    "248/320"
   ]
  },
  {
   "cell_type": "code",
   "execution_count": 45,
   "id": "48f43744",
   "metadata": {},
   "outputs": [
    {
     "data": {
      "text/plain": [
       "0.740625"
      ]
     },
     "execution_count": 45,
     "metadata": {},
     "output_type": "execute_result"
    }
   ],
   "source": [
    "237/320"
   ]
  },
  {
   "cell_type": "code",
   "execution_count": 50,
   "id": "f7b882e5",
   "metadata": {},
   "outputs": [
    {
     "data": {
      "text/plain": [
       "0.70625"
      ]
     },
     "execution_count": 50,
     "metadata": {},
     "output_type": "execute_result"
    }
   ],
   "source": [
    "226/320"
   ]
  },
  {
   "cell_type": "code",
   "execution_count": 55,
   "id": "803843e3",
   "metadata": {},
   "outputs": [
    {
     "data": {
      "text/plain": [
       "0.74375"
      ]
     },
     "execution_count": 55,
     "metadata": {},
     "output_type": "execute_result"
    }
   ],
   "source": [
    "238/320"
   ]
  },
  {
   "cell_type": "code",
   "execution_count": 82,
   "id": "135fe98a",
   "metadata": {},
   "outputs": [
    {
     "data": {
      "text/plain": [
       "0.7"
      ]
     },
     "execution_count": 82,
     "metadata": {},
     "output_type": "execute_result"
    }
   ],
   "source": [
    "224/320"
   ]
  },
  {
   "cell_type": "code",
   "execution_count": 83,
   "id": "1de702fb",
   "metadata": {},
   "outputs": [
    {
     "data": {
      "text/plain": [
       "0.7331249999999999"
      ]
     },
     "execution_count": 83,
     "metadata": {},
     "output_type": "execute_result"
    }
   ],
   "source": [
    "(0.775+0.740625+0.70625+0.74375+0.7)/5"
   ]
  },
  {
   "cell_type": "code",
   "execution_count": 88,
   "id": "cdcac366",
   "metadata": {},
   "outputs": [
    {
     "data": {
      "text/plain": [
       "0.7"
      ]
     },
     "execution_count": 88,
     "metadata": {},
     "output_type": "execute_result"
    }
   ],
   "source": [
    "224/320"
   ]
  },
  {
   "cell_type": "code",
   "execution_count": 89,
   "id": "f86eea89",
   "metadata": {},
   "outputs": [
    {
     "data": {
      "text/plain": [
       "0.7375"
      ]
     },
     "execution_count": 89,
     "metadata": {},
     "output_type": "execute_result"
    }
   ],
   "source": [
    "236/320"
   ]
  },
  {
   "cell_type": "code",
   "execution_count": 94,
   "id": "2f15433a",
   "metadata": {},
   "outputs": [
    {
     "data": {
      "text/plain": [
       "0.721875"
      ]
     },
     "execution_count": 94,
     "metadata": {},
     "output_type": "execute_result"
    }
   ],
   "source": [
    "231/320"
   ]
  },
  {
   "cell_type": "code",
   "execution_count": 100,
   "id": "34ef2582",
   "metadata": {},
   "outputs": [
    {
     "data": {
      "text/plain": [
       "0.7125"
      ]
     },
     "execution_count": 100,
     "metadata": {},
     "output_type": "execute_result"
    }
   ],
   "source": [
    "228/320"
   ]
  },
  {
   "cell_type": "code",
   "execution_count": 105,
   "id": "11198f94",
   "metadata": {},
   "outputs": [
    {
     "data": {
      "text/plain": [
       "0.790625"
      ]
     },
     "execution_count": 105,
     "metadata": {},
     "output_type": "execute_result"
    }
   ],
   "source": [
    "253/320"
   ]
  },
  {
   "cell_type": "code",
   "execution_count": 106,
   "id": "2cdc1cab",
   "metadata": {},
   "outputs": [
    {
     "data": {
      "text/plain": [
       "0.7324999999999999"
      ]
     },
     "execution_count": 106,
     "metadata": {},
     "output_type": "execute_result"
    }
   ],
   "source": [
    "(0.7+0.7375+0.721875+0.7125+0.790625)/5"
   ]
  },
  {
   "cell_type": "code",
   "execution_count": null,
   "id": "f6d4255c",
   "metadata": {},
   "outputs": [],
   "source": []
  }
 ],
 "metadata": {
  "kernelspec": {
   "display_name": "Python 3 (ipykernel)",
   "language": "python",
   "name": "python3"
  },
  "language_info": {
   "codemirror_mode": {
    "name": "ipython",
    "version": 3
   },
   "file_extension": ".py",
   "mimetype": "text/x-python",
   "name": "python",
   "nbconvert_exporter": "python",
   "pygments_lexer": "ipython3",
   "version": "3.9.7"
  }
 },
 "nbformat": 4,
 "nbformat_minor": 5
}
