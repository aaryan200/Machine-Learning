{
 "cells": [
  {
   "cell_type": "code",
   "execution_count": 28,
   "id": "27709570",
   "metadata": {},
   "outputs": [],
   "source": [
    "def dot_val(th,X):\n",
    "    \"\"\"\n",
    "    th - (n+1)x1\n",
    "    X - 1x(n+1)\n",
    "    \"\"\" \n",
    "    import numpy as np\n",
    "    out=X@th\n",
    "    return out[0][0]\n",
    "def hval(th,X):\n",
    "    \"\"\"\n",
    "    th - (n+1)x1\n",
    "    X - 1x(n+1)\n",
    "    \"\"\" \n",
    "    from math import exp\n",
    "    out=1/(1+exp((-1)*dot_val(th,X)))\n",
    "    return out\n",
    "def probab(th,X,y):\n",
    "    \"\"\"\n",
    "    X - mx(n+1)\n",
    "    y- mx1\n",
    "    th - (n+1)x1\n",
    "    \"\"\"\n",
    "    from math import log\n",
    "    ZERO=1.0e-16\n",
    "    m=y.shape[0]\n",
    "    n=th.shape[0]-1\n",
    "    s=0.0\n",
    "    for i in range(m):\n",
    "        t=X[i].reshape(1,n+1)\n",
    "        ht=hval(th,t)\n",
    "        temp=y[i][0]\n",
    "#         if (abs(ht)<=ZERO or abs(1-ht)<=ZERO):\n",
    "#             return 'c'\n",
    "        #print(ht)\n",
    "        s+=temp*log(ht)+(1-temp)*log(1-ht)\n",
    "    return s"
   ]
  },
  {
   "cell_type": "code",
   "execution_count": 3,
   "id": "4d371eb3",
   "metadata": {},
   "outputs": [],
   "source": [
    "def repl_th(th,X,y):\n",
    "    \"\"\"\n",
    "    th - (n+1)x1\n",
    "    X - mx(n+1)\n",
    "    y- mx1\n",
    "    \"\"\"\n",
    "    import numpy as np\n",
    "    ZERO=1.0e-16\n",
    "    m=y.shape[0]\n",
    "    n=th.shape[0]-1\n",
    "    H=np.zeros((n+1)**2)\n",
    "    H=H.reshape(n+1,n+1)\n",
    "    dJ=np.zeros(n+1)\n",
    "    dJ=dJ.reshape(n+1,1)\n",
    "    for i in range(m):\n",
    "        t1=X[i].reshape(1,n+1)\n",
    "        t2=np.transpose(t1)\n",
    "        ht=hval(th,t1)\n",
    "        H=H+(ht*(1-ht))*(t2@t1)\n",
    "        dJ=dJ+(ht-y[i][0])*t2\n",
    "    H=H/m\n",
    "#     print(H)\n",
    "#     dJ=np.zeros(n+1)\n",
    "#     dJ=dJ.reshape(n+1,1)\n",
    "#     for i in range(m):\n",
    "#         t1=X[i].reshape(1,n+1)\n",
    "#         t2=np.transpose(t1)\n",
    "#         dJ=dJ+(hval(th,t1)-y[i][0])*t2\n",
    "    dJ=dJ/m\n",
    "#     print(dJ)\n",
    "#     if (abs(np.linalg.det(H))<=ZERO):\n",
    "#         return 'd'\n",
    "    temp1=np.linalg.pinv(H)\n",
    "    temp=(temp1)@dJ\n",
    "#     print(temp1)\n",
    "#     print(temp)\n",
    "    for j in range(n+1):\n",
    "        th[j]-=temp[j]\n",
    "#     print(th)\n",
    "    return 0"
   ]
  },
  {
   "cell_type": "code",
   "execution_count": 4,
   "id": "8cea782c",
   "metadata": {},
   "outputs": [],
   "source": [
    "def newt_meth(X,y):\n",
    "    \"\"\"\n",
    "    X - mx(n+1)\n",
    "    y- mx1\n",
    "    test - 1x(n+1)\n",
    "    \"\"\"\n",
    "    ERR=1.0e-10\n",
    "    import numpy as np\n",
    "    #alp=1.0e-5\n",
    "    m=y.shape[0]\n",
    "    n=X.shape[1]-1\n",
    "    th=np.zeros(n+1)\n",
    "    th=th.reshape(n+1,1)\n",
    "    j0=probab(th,X,y)\n",
    "    conv=j0\n",
    "    print(conv)\n",
    "    it=0\n",
    "    while (abs(conv)>=ERR):\n",
    "        if (repl_th(th,X,y)=='d'):\n",
    "            break\n",
    "        j1=probab(th,X,y)\n",
    "        if (j1=='c'):\n",
    "            break\n",
    "        #print(j1)\n",
    "        conv=j1-j0\n",
    "        print(conv)\n",
    "        j0=j1\n",
    "        it+=1\n",
    "    print(conv)\n",
    "    print(it)\n",
    "    return th\n",
    "#     if hval(th,test)>=0.5:\n",
    "#         return(1,it)\n",
    "#     return(0,it)"
   ]
  },
  {
   "cell_type": "code",
   "execution_count": 31,
   "id": "40da56bc",
   "metadata": {},
   "outputs": [
    {
     "data": {
      "text/plain": [
       "(1599, 17)"
      ]
     },
     "execution_count": 31,
     "metadata": {},
     "output_type": "execute_result"
    }
   ],
   "source": [
    "import numpy as np\n",
    "al=np.loadtxt(\"../Epoch/Selection_Hackathon/Dataset.csv\",delimiter=',',skiprows=1)\n",
    "#al=np.c_[np.ones(1599),al]\n",
    "for i in range(1599):\n",
    "    al[i][0]/=10\n",
    "    al[i][5]/=10\n",
    "    al[i][6]/=10\n",
    "    al[i][10]/=10\n",
    "    al[i][12]/=10\n",
    "    al[i][15]/=100\n",
    "al\n",
    "al.shape"
   ]
  },
  {
   "cell_type": "code",
   "execution_count": 35,
   "id": "d2ea3972",
   "metadata": {},
   "outputs": [
    {
     "name": "stdout",
     "output_type": "stream",
     "text": [
      "242 1.24\n",
      "255 1.075\n",
      "532 2.8\n",
      "537 2.8\n",
      "616 1.03\n",
      "762 1.1555555560000002\n",
      "775 4.4\n",
      "776 2.25\n",
      "845 1.0222222220000001\n",
      "1056 1.54\n",
      "1057 1.54\n",
      "1186 1.081818182\n",
      "1190 1.081818182\n",
      "1237 1.883333333\n",
      "1369 1.1666666669999999\n"
     ]
    },
    {
     "data": {
      "text/plain": [
       "15"
      ]
     },
     "execution_count": 35,
     "metadata": {},
     "output_type": "execute_result"
    }
   ],
   "source": [
    "temp=al[:,15]\n",
    "c=0\n",
    "for i in range(1599):\n",
    "    if temp[i]>1.0:\n",
    "        print(i+2,temp[i])\n",
    "        c+=1\n",
    "c"
   ]
  },
  {
   "cell_type": "code",
   "execution_count": 79,
   "id": "28c93255",
   "metadata": {},
   "outputs": [],
   "source": [
    "y_plot=al[:,11]\n",
    "x_plot=np.delete(al,11,axis=1)"
   ]
  },
  {
   "cell_type": "code",
   "execution_count": 83,
   "id": "14ecebec",
   "metadata": {},
   "outputs": [
    {
     "data": {
      "text/plain": [
       "array([0.74      , 0.7       , 0.        , 1.9       , 0.076     ,\n",
       "       1.1       , 3.4       , 0.9978    , 3.51      , 0.56      ,\n",
       "       0.94      , 0.81      , 4.05      , 0.636     , 0.30909091,\n",
       "       0.608     ])"
      ]
     },
     "execution_count": 83,
     "metadata": {},
     "output_type": "execute_result"
    }
   ],
   "source": [
    "x_plot[0]"
   ]
  },
  {
   "cell_type": "code",
   "execution_count": 93,
   "id": "eb3352aa",
   "metadata": {},
   "outputs": [
    {
     "ename": "ValueError",
     "evalue": "x and y must be the same size",
     "output_type": "error",
     "traceback": [
      "\u001b[0;31m---------------------------------------------------------------------------\u001b[0m",
      "\u001b[0;31mValueError\u001b[0m                                Traceback (most recent call last)",
      "\u001b[0;32m/tmp/ipykernel_15160/2252597869.py\u001b[0m in \u001b[0;36m<module>\u001b[0;34m\u001b[0m\n\u001b[1;32m      5\u001b[0m                             \u001b[0;34m\"alcohol\"\u001b[0m\u001b[0;34m,\u001b[0m\u001b[0;34m\"quality\"\u001b[0m\u001b[0;34m,\u001b[0m\u001b[0;34m\"k_value\"\u001b[0m\u001b[0;34m,\u001b[0m\u001b[0;34m\"l_value\"\u001b[0m\u001b[0;34m,\u001b[0m\u001b[0;34m\"m_value\"\u001b[0m\u001b[0;34m,\u001b[0m\u001b[0;34m\"percentage_free_sulphur\"\u001b[0m\u001b[0;34m,\u001b[0m\u001b[0;34m\u001b[0m\u001b[0;34m\u001b[0m\u001b[0m\n\u001b[1;32m      6\u001b[0m                             \"n_value\"])\n\u001b[0;32m----> 7\u001b[0;31m df.plot(x=[\"fixed acidity\",\"volatile acidity\",\"citric acid\",\"residual sugar\",\"chlorides\",\n\u001b[0m\u001b[1;32m      8\u001b[0m                             \u001b[0;34m\"free sulfur dioxide\"\u001b[0m\u001b[0;34m,\u001b[0m\u001b[0;34m\"total sulfur dioxide\"\u001b[0m\u001b[0;34m,\u001b[0m\u001b[0;34m\"density\"\u001b[0m\u001b[0;34m,\u001b[0m\u001b[0;34m\"pH\"\u001b[0m\u001b[0;34m,\u001b[0m\u001b[0;34m\"sulphates\"\u001b[0m\u001b[0;34m,\u001b[0m\u001b[0;34m\u001b[0m\u001b[0;34m\u001b[0m\u001b[0m\n\u001b[1;32m      9\u001b[0m                             \u001b[0;34m\"alcohol\"\u001b[0m\u001b[0;34m,\u001b[0m\u001b[0;34m\"k_value\"\u001b[0m\u001b[0;34m,\u001b[0m\u001b[0;34m\"l_value\"\u001b[0m\u001b[0;34m,\u001b[0m\u001b[0;34m\"m_value\"\u001b[0m\u001b[0;34m,\u001b[0m\u001b[0;34m\"percentage_free_sulphur\"\u001b[0m\u001b[0;34m,\u001b[0m\u001b[0;34m\u001b[0m\u001b[0;34m\u001b[0m\u001b[0m\n",
      "\u001b[0;32m~/anaconda3/lib/python3.9/site-packages/pandas/plotting/_core.py\u001b[0m in \u001b[0;36m__call__\u001b[0;34m(self, *args, **kwargs)\u001b[0m\n\u001b[1;32m    915\u001b[0m         \u001b[0;32mif\u001b[0m \u001b[0mkind\u001b[0m \u001b[0;32min\u001b[0m \u001b[0mself\u001b[0m\u001b[0;34m.\u001b[0m\u001b[0m_dataframe_kinds\u001b[0m\u001b[0;34m:\u001b[0m\u001b[0;34m\u001b[0m\u001b[0;34m\u001b[0m\u001b[0m\n\u001b[1;32m    916\u001b[0m             \u001b[0;32mif\u001b[0m \u001b[0misinstance\u001b[0m\u001b[0;34m(\u001b[0m\u001b[0mdata\u001b[0m\u001b[0;34m,\u001b[0m \u001b[0mABCDataFrame\u001b[0m\u001b[0;34m)\u001b[0m\u001b[0;34m:\u001b[0m\u001b[0;34m\u001b[0m\u001b[0;34m\u001b[0m\u001b[0m\n\u001b[0;32m--> 917\u001b[0;31m                 \u001b[0;32mreturn\u001b[0m \u001b[0mplot_backend\u001b[0m\u001b[0;34m.\u001b[0m\u001b[0mplot\u001b[0m\u001b[0;34m(\u001b[0m\u001b[0mdata\u001b[0m\u001b[0;34m,\u001b[0m \u001b[0mx\u001b[0m\u001b[0;34m=\u001b[0m\u001b[0mx\u001b[0m\u001b[0;34m,\u001b[0m \u001b[0my\u001b[0m\u001b[0;34m=\u001b[0m\u001b[0my\u001b[0m\u001b[0;34m,\u001b[0m \u001b[0mkind\u001b[0m\u001b[0;34m=\u001b[0m\u001b[0mkind\u001b[0m\u001b[0;34m,\u001b[0m \u001b[0;34m**\u001b[0m\u001b[0mkwargs\u001b[0m\u001b[0;34m)\u001b[0m\u001b[0;34m\u001b[0m\u001b[0;34m\u001b[0m\u001b[0m\n\u001b[0m\u001b[1;32m    918\u001b[0m             \u001b[0;32melse\u001b[0m\u001b[0;34m:\u001b[0m\u001b[0;34m\u001b[0m\u001b[0;34m\u001b[0m\u001b[0m\n\u001b[1;32m    919\u001b[0m                 \u001b[0;32mraise\u001b[0m \u001b[0mValueError\u001b[0m\u001b[0;34m(\u001b[0m\u001b[0;34mf\"plot kind {kind} can only be used for data frames\"\u001b[0m\u001b[0;34m)\u001b[0m\u001b[0;34m\u001b[0m\u001b[0;34m\u001b[0m\u001b[0m\n",
      "\u001b[0;32m~/anaconda3/lib/python3.9/site-packages/pandas/plotting/_matplotlib/__init__.py\u001b[0m in \u001b[0;36mplot\u001b[0;34m(data, kind, **kwargs)\u001b[0m\n\u001b[1;32m     69\u001b[0m             \u001b[0mkwargs\u001b[0m\u001b[0;34m[\u001b[0m\u001b[0;34m\"ax\"\u001b[0m\u001b[0;34m]\u001b[0m \u001b[0;34m=\u001b[0m \u001b[0mgetattr\u001b[0m\u001b[0;34m(\u001b[0m\u001b[0max\u001b[0m\u001b[0;34m,\u001b[0m \u001b[0;34m\"left_ax\"\u001b[0m\u001b[0;34m,\u001b[0m \u001b[0max\u001b[0m\u001b[0;34m)\u001b[0m\u001b[0;34m\u001b[0m\u001b[0;34m\u001b[0m\u001b[0m\n\u001b[1;32m     70\u001b[0m     \u001b[0mplot_obj\u001b[0m \u001b[0;34m=\u001b[0m \u001b[0mPLOT_CLASSES\u001b[0m\u001b[0;34m[\u001b[0m\u001b[0mkind\u001b[0m\u001b[0;34m]\u001b[0m\u001b[0;34m(\u001b[0m\u001b[0mdata\u001b[0m\u001b[0;34m,\u001b[0m \u001b[0;34m**\u001b[0m\u001b[0mkwargs\u001b[0m\u001b[0;34m)\u001b[0m\u001b[0;34m\u001b[0m\u001b[0;34m\u001b[0m\u001b[0m\n\u001b[0;32m---> 71\u001b[0;31m     \u001b[0mplot_obj\u001b[0m\u001b[0;34m.\u001b[0m\u001b[0mgenerate\u001b[0m\u001b[0;34m(\u001b[0m\u001b[0;34m)\u001b[0m\u001b[0;34m\u001b[0m\u001b[0;34m\u001b[0m\u001b[0m\n\u001b[0m\u001b[1;32m     72\u001b[0m     \u001b[0mplot_obj\u001b[0m\u001b[0;34m.\u001b[0m\u001b[0mdraw\u001b[0m\u001b[0;34m(\u001b[0m\u001b[0;34m)\u001b[0m\u001b[0;34m\u001b[0m\u001b[0;34m\u001b[0m\u001b[0m\n\u001b[1;32m     73\u001b[0m     \u001b[0;32mreturn\u001b[0m \u001b[0mplot_obj\u001b[0m\u001b[0;34m.\u001b[0m\u001b[0mresult\u001b[0m\u001b[0;34m\u001b[0m\u001b[0;34m\u001b[0m\u001b[0m\n",
      "\u001b[0;32m~/anaconda3/lib/python3.9/site-packages/pandas/plotting/_matplotlib/core.py\u001b[0m in \u001b[0;36mgenerate\u001b[0;34m(self)\u001b[0m\n\u001b[1;32m    286\u001b[0m         \u001b[0mself\u001b[0m\u001b[0;34m.\u001b[0m\u001b[0m_compute_plot_data\u001b[0m\u001b[0;34m(\u001b[0m\u001b[0;34m)\u001b[0m\u001b[0;34m\u001b[0m\u001b[0;34m\u001b[0m\u001b[0m\n\u001b[1;32m    287\u001b[0m         \u001b[0mself\u001b[0m\u001b[0;34m.\u001b[0m\u001b[0m_setup_subplots\u001b[0m\u001b[0;34m(\u001b[0m\u001b[0;34m)\u001b[0m\u001b[0;34m\u001b[0m\u001b[0;34m\u001b[0m\u001b[0m\n\u001b[0;32m--> 288\u001b[0;31m         \u001b[0mself\u001b[0m\u001b[0;34m.\u001b[0m\u001b[0m_make_plot\u001b[0m\u001b[0;34m(\u001b[0m\u001b[0;34m)\u001b[0m\u001b[0;34m\u001b[0m\u001b[0;34m\u001b[0m\u001b[0m\n\u001b[0m\u001b[1;32m    289\u001b[0m         \u001b[0mself\u001b[0m\u001b[0;34m.\u001b[0m\u001b[0m_add_table\u001b[0m\u001b[0;34m(\u001b[0m\u001b[0;34m)\u001b[0m\u001b[0;34m\u001b[0m\u001b[0;34m\u001b[0m\u001b[0m\n\u001b[1;32m    290\u001b[0m         \u001b[0mself\u001b[0m\u001b[0;34m.\u001b[0m\u001b[0m_make_legend\u001b[0m\u001b[0;34m(\u001b[0m\u001b[0;34m)\u001b[0m\u001b[0;34m\u001b[0m\u001b[0;34m\u001b[0m\u001b[0m\n",
      "\u001b[0;32m~/anaconda3/lib/python3.9/site-packages/pandas/plotting/_matplotlib/core.py\u001b[0m in \u001b[0;36m_make_plot\u001b[0;34m(self)\u001b[0m\n\u001b[1;32m   1068\u001b[0m         \u001b[0;32melse\u001b[0m\u001b[0;34m:\u001b[0m\u001b[0;34m\u001b[0m\u001b[0;34m\u001b[0m\u001b[0m\n\u001b[1;32m   1069\u001b[0m             \u001b[0mlabel\u001b[0m \u001b[0;34m=\u001b[0m \u001b[0;32mNone\u001b[0m\u001b[0;34m\u001b[0m\u001b[0;34m\u001b[0m\u001b[0m\n\u001b[0;32m-> 1070\u001b[0;31m         scatter = ax.scatter(\n\u001b[0m\u001b[1;32m   1071\u001b[0m             \u001b[0mdata\u001b[0m\u001b[0;34m[\u001b[0m\u001b[0mx\u001b[0m\u001b[0;34m]\u001b[0m\u001b[0;34m.\u001b[0m\u001b[0mvalues\u001b[0m\u001b[0;34m,\u001b[0m\u001b[0;34m\u001b[0m\u001b[0;34m\u001b[0m\u001b[0m\n\u001b[1;32m   1072\u001b[0m             \u001b[0mdata\u001b[0m\u001b[0;34m[\u001b[0m\u001b[0my\u001b[0m\u001b[0;34m]\u001b[0m\u001b[0;34m.\u001b[0m\u001b[0mvalues\u001b[0m\u001b[0;34m,\u001b[0m\u001b[0;34m\u001b[0m\u001b[0;34m\u001b[0m\u001b[0m\n",
      "\u001b[0;32m~/anaconda3/lib/python3.9/site-packages/matplotlib/__init__.py\u001b[0m in \u001b[0;36minner\u001b[0;34m(ax, data, *args, **kwargs)\u001b[0m\n\u001b[1;32m   1359\u001b[0m     \u001b[0;32mdef\u001b[0m \u001b[0minner\u001b[0m\u001b[0;34m(\u001b[0m\u001b[0max\u001b[0m\u001b[0;34m,\u001b[0m \u001b[0;34m*\u001b[0m\u001b[0margs\u001b[0m\u001b[0;34m,\u001b[0m \u001b[0mdata\u001b[0m\u001b[0;34m=\u001b[0m\u001b[0;32mNone\u001b[0m\u001b[0;34m,\u001b[0m \u001b[0;34m**\u001b[0m\u001b[0mkwargs\u001b[0m\u001b[0;34m)\u001b[0m\u001b[0;34m:\u001b[0m\u001b[0;34m\u001b[0m\u001b[0;34m\u001b[0m\u001b[0m\n\u001b[1;32m   1360\u001b[0m         \u001b[0;32mif\u001b[0m \u001b[0mdata\u001b[0m \u001b[0;32mis\u001b[0m \u001b[0;32mNone\u001b[0m\u001b[0;34m:\u001b[0m\u001b[0;34m\u001b[0m\u001b[0;34m\u001b[0m\u001b[0m\n\u001b[0;32m-> 1361\u001b[0;31m             \u001b[0;32mreturn\u001b[0m \u001b[0mfunc\u001b[0m\u001b[0;34m(\u001b[0m\u001b[0max\u001b[0m\u001b[0;34m,\u001b[0m \u001b[0;34m*\u001b[0m\u001b[0mmap\u001b[0m\u001b[0;34m(\u001b[0m\u001b[0msanitize_sequence\u001b[0m\u001b[0;34m,\u001b[0m \u001b[0margs\u001b[0m\u001b[0;34m)\u001b[0m\u001b[0;34m,\u001b[0m \u001b[0;34m**\u001b[0m\u001b[0mkwargs\u001b[0m\u001b[0;34m)\u001b[0m\u001b[0;34m\u001b[0m\u001b[0;34m\u001b[0m\u001b[0m\n\u001b[0m\u001b[1;32m   1362\u001b[0m \u001b[0;34m\u001b[0m\u001b[0m\n\u001b[1;32m   1363\u001b[0m         \u001b[0mbound\u001b[0m \u001b[0;34m=\u001b[0m \u001b[0mnew_sig\u001b[0m\u001b[0;34m.\u001b[0m\u001b[0mbind\u001b[0m\u001b[0;34m(\u001b[0m\u001b[0max\u001b[0m\u001b[0;34m,\u001b[0m \u001b[0;34m*\u001b[0m\u001b[0margs\u001b[0m\u001b[0;34m,\u001b[0m \u001b[0;34m**\u001b[0m\u001b[0mkwargs\u001b[0m\u001b[0;34m)\u001b[0m\u001b[0;34m\u001b[0m\u001b[0;34m\u001b[0m\u001b[0m\n",
      "\u001b[0;32m~/anaconda3/lib/python3.9/site-packages/matplotlib/axes/_axes.py\u001b[0m in \u001b[0;36mscatter\u001b[0;34m(self, x, y, s, c, marker, cmap, norm, vmin, vmax, alpha, linewidths, edgecolors, plotnonfinite, **kwargs)\u001b[0m\n\u001b[1;32m   4496\u001b[0m         \u001b[0my\u001b[0m \u001b[0;34m=\u001b[0m \u001b[0mnp\u001b[0m\u001b[0;34m.\u001b[0m\u001b[0mma\u001b[0m\u001b[0;34m.\u001b[0m\u001b[0mravel\u001b[0m\u001b[0;34m(\u001b[0m\u001b[0my\u001b[0m\u001b[0;34m)\u001b[0m\u001b[0;34m\u001b[0m\u001b[0;34m\u001b[0m\u001b[0m\n\u001b[1;32m   4497\u001b[0m         \u001b[0;32mif\u001b[0m \u001b[0mx\u001b[0m\u001b[0;34m.\u001b[0m\u001b[0msize\u001b[0m \u001b[0;34m!=\u001b[0m \u001b[0my\u001b[0m\u001b[0;34m.\u001b[0m\u001b[0msize\u001b[0m\u001b[0;34m:\u001b[0m\u001b[0;34m\u001b[0m\u001b[0;34m\u001b[0m\u001b[0m\n\u001b[0;32m-> 4498\u001b[0;31m             \u001b[0;32mraise\u001b[0m \u001b[0mValueError\u001b[0m\u001b[0;34m(\u001b[0m\u001b[0;34m\"x and y must be the same size\"\u001b[0m\u001b[0;34m)\u001b[0m\u001b[0;34m\u001b[0m\u001b[0;34m\u001b[0m\u001b[0m\n\u001b[0m\u001b[1;32m   4499\u001b[0m \u001b[0;34m\u001b[0m\u001b[0m\n\u001b[1;32m   4500\u001b[0m         \u001b[0;32mif\u001b[0m \u001b[0ms\u001b[0m \u001b[0;32mis\u001b[0m \u001b[0;32mNone\u001b[0m\u001b[0;34m:\u001b[0m\u001b[0;34m\u001b[0m\u001b[0;34m\u001b[0m\u001b[0m\n",
      "\u001b[0;31mValueError\u001b[0m: x and y must be the same size"
     ]
    },
    {
     "data": {
      "image/png": "[encoded data removed]",
      "text/plain": [
       "<Figure size 720x720 with 1 Axes>"
      ]
     },
     "metadata": {
      "needs_background": "light"
     },
     "output_type": "display_data"
    }
   ],
   "source": [
    "import pandas as pd\n",
    "import matplotlib.pyplot as plt\n",
    "df=pd.DataFrame(al,columns=[\"fixed acidity\",\"volatile acidity\",\"citric acid\",\"residual sugar\",\"chlorides\",\n",
    "                            \"free sulfur dioxide\",\"total sulfur dioxide\",\"density\",\"pH\",\"sulphates\",\n",
    "                            \"alcohol\",\"quality\",\"k_value\",\"l_value\",\"m_value\",\"percentage_free_sulphur\",\n",
    "                            \"n_value\"])\n",
    "df.plot(x=[\"fixed acidity\",\"volatile acidity\",\"citric acid\",\"residual sugar\",\"chlorides\",\n",
    "                            \"free sulfur dioxide\",\"total sulfur dioxide\",\"density\",\"pH\",\"sulphates\",\n",
    "                            \"alcohol\",\"k_value\",\"l_value\",\"m_value\",\"percentage_free_sulphur\",\n",
    "                            \"n_value\"],y=\"quality\",kind=\"scatter\",figsize=(10,10))\n",
    "plt.show()"
   ]
  },
  {
   "cell_type": "code",
   "execution_count": 6,
   "id": "061d25b0",
   "metadata": {},
   "outputs": [
    {
     "data": {
      "text/plain": [
       "(1359, 18)"
      ]
     },
     "execution_count": 6,
     "metadata": {},
     "output_type": "execute_result"
    }
   ],
   "source": [
    "al_un=np.unique(al,axis=0)\n",
    "al_un\n",
    "al_un.shape"
   ]
  },
  {
   "cell_type": "code",
   "execution_count": 7,
   "id": "a1061220",
   "metadata": {},
   "outputs": [
    {
     "data": {
      "text/plain": [
       "271.8"
      ]
     },
     "execution_count": 7,
     "metadata": {},
     "output_type": "execute_result"
    }
   ],
   "source": [
    "1359/5"
   ]
  },
  {
   "cell_type": "code",
   "execution_count": 8,
   "id": "4f1430fe",
   "metadata": {},
   "outputs": [
    {
     "data": {
      "text/plain": [
       "1088"
      ]
     },
     "execution_count": 8,
     "metadata": {},
     "output_type": "execute_result"
    }
   ],
   "source": [
    "1359-271"
   ]
  },
  {
   "cell_type": "code",
   "execution_count": 13,
   "id": "3c182cac",
   "metadata": {},
   "outputs": [
    {
     "name": "stdout",
     "output_type": "stream",
     "text": [
      "[[1.         0.7        0.22       ... 0.885      0.125      0.6325    ]\n",
      " [1.         0.7        0.23       ... 0.693      0.31904762 0.5915    ]\n",
      " [1.         0.7        0.36       ... 0.626      0.325      0.775     ]\n",
      " ...\n",
      " [1.         1.56       0.645      ... 0.835      0.23       1.4055    ]\n",
      " [1.         1.56       0.685      ... 0.78       0.71666667 1.312     ]\n",
      " [1.         1.59       0.36       ... 0.936      0.32272727 2.428     ]]\n"
     ]
    },
    {
     "data": {
      "text/plain": [
       "(1088, 18)"
      ]
     },
     "execution_count": 13,
     "metadata": {},
     "output_type": "execute_result"
    }
   ],
   "source": [
    "x1=al_un[271:,:]\n",
    "print(x1)\n",
    "x1.shape"
   ]
  },
  {
   "cell_type": "code",
   "execution_count": 24,
   "id": "a1115743",
   "metadata": {},
   "outputs": [
    {
     "data": {
      "text/plain": [
       "(1088, 17)"
      ]
     },
     "execution_count": 24,
     "metadata": {},
     "output_type": "execute_result"
    }
   ],
   "source": [
    "x=np.delete(x1,12,axis=1)\n",
    "x[5]\n",
    "x.shape"
   ]
  },
  {
   "cell_type": "code",
   "execution_count": 37,
   "id": "d857337b",
   "metadata": {},
   "outputs": [],
   "source": [
    "y=x1[:,12]\n",
    "y=y.reshape(1088,1)"
   ]
  },
  {
   "cell_type": "code",
   "execution_count": 28,
   "id": "ce292fd9",
   "metadata": {},
   "outputs": [
    {
     "data": {
      "text/plain": [
       "(271, 17)"
      ]
     },
     "execution_count": 28,
     "metadata": {},
     "output_type": "execute_result"
    }
   ],
   "source": [
    "te=al_un[:271,:]\n",
    "te=np.delete(te,12,axis=1)\n",
    "te.shape"
   ]
  },
  {
   "cell_type": "code",
   "execution_count": 32,
   "id": "bad81c61",
   "metadata": {},
   "outputs": [
    {
     "data": {
      "text/plain": [
       "(271, 1)"
      ]
     },
     "execution_count": 32,
     "metadata": {},
     "output_type": "execute_result"
    }
   ],
   "source": [
    "teans=al_un[:271,12]\n",
    "teans=teans.reshape(271,1)\n",
    "teans.shape"
   ]
  },
  {
   "cell_type": "code",
   "execution_count": 38,
   "id": "40caa777",
   "metadata": {},
   "outputs": [
    {
     "name": "stdout",
     "output_type": "stream",
     "text": [
      "-754.1441324492025\n",
      "195.53606750295535\n",
      "13.257977475149346\n",
      "0.4495650880047606\n",
      "0.009209384425616918\n",
      "0.0002594012184999883\n",
      "7.840290777494374e-06\n",
      "2.602860149636399e-08\n",
      "1.2842065189033747e-09\n",
      "3.865352482534945e-12\n",
      "3.865352482534945e-12\n",
      "9\n"
     ]
    }
   ],
   "source": [
    "th=newt_meth(x,y)"
   ]
  },
  {
   "cell_type": "code",
   "execution_count": 39,
   "id": "af1e66a9",
   "metadata": {},
   "outputs": [
    {
     "data": {
      "text/plain": [
       "array([[-18.0050385 ],\n",
       "       [ 17.56813247],\n",
       "       [ -1.98129153],\n",
       "       [  0.08202729],\n",
       "       [  2.48710137],\n",
       "       [ -6.04584386],\n",
       "       [  0.25303097],\n",
       "       [ -0.196643  ],\n",
       "       [  9.37396613],\n",
       "       [ -0.21648012],\n",
       "       [ -4.99244275],\n",
       "       [ 10.07805396],\n",
       "       [-18.39960517],\n",
       "       [  0.32095811],\n",
       "       [  7.22505042],\n",
       "       [  0.68852598],\n",
       "       [ -8.35498373]])"
      ]
     },
     "execution_count": 39,
     "metadata": {},
     "output_type": "execute_result"
    }
   ],
   "source": [
    "th"
   ]
  },
  {
   "cell_type": "code",
   "execution_count": 56,
   "id": "4f16c426",
   "metadata": {},
   "outputs": [],
   "source": [
    "def min_max_test(x,y,th):\n",
    "    \"\"\"\n",
    "    th - (n+1)x1\n",
    "    x - mx(n+1)\n",
    "    y - mx1\n",
    "    \"\"\"\n",
    "    m=y.shape[0]\n",
    "    n=x.shape[1]-1\n",
    "    import numpy as np\n",
    "    max_1=(-1)*np.Infinity\n",
    "    min_1=np.Infinity\n",
    "    for i in range(m):\n",
    "        temp=x[i].reshape(1,n+1)\n",
    "        hv=hval(th,temp)\n",
    "        if (y[i]==1.0 and hv<min_1):\n",
    "            min_1=hv\n",
    "        elif (y[i]==0.0 and hv>max_1):\n",
    "            max_1=hv\n",
    "    return(min_1,max_1)"
   ]
  },
  {
   "cell_type": "code",
   "execution_count": 68,
   "id": "4935b933",
   "metadata": {},
   "outputs": [],
   "source": [
    "def av_low_high(x,y,th):\n",
    "    \"\"\"\n",
    "    th - (n+1)x1\n",
    "    x - mx(n+1)\n",
    "    y - mx1\n",
    "    \"\"\"\n",
    "    m=y.shape[0]\n",
    "    n=x.shape[1]-1\n",
    "    s_0=0.0\n",
    "    n_0=0\n",
    "    s_1=0.0\n",
    "    n_1=0\n",
    "    for i in range(m):\n",
    "        temp=x[i].reshape(1,n+1)\n",
    "        ht=hval(th,temp)\n",
    "        if (y[i]==1.0):\n",
    "            s_1+=ht\n",
    "            n_1+=1\n",
    "        elif (y[i]==0.0):\n",
    "            s_0+=ht\n",
    "            n_0+=1\n",
    "    return(s_0/float(n_0),s_1/float(n_1))"
   ]
  },
  {
   "cell_type": "code",
   "execution_count": 52,
   "id": "8da7d33c",
   "metadata": {},
   "outputs": [
    {
     "data": {
      "text/plain": [
       "(0.06435583580977243, 0.9955980569389695)"
      ]
     },
     "execution_count": 52,
     "metadata": {},
     "output_type": "execute_result"
    }
   ],
   "source": [
    "min_1,max_1=min_max_test(x,y,th)\n",
    "av=(min_1+max_1)/2\n",
    "min_1,max_1"
   ]
  },
  {
   "cell_type": "code",
   "execution_count": 71,
   "id": "a9609f8e",
   "metadata": {},
   "outputs": [
    {
     "data": {
      "text/plain": [
       "(0.3467854518739999, 0.6836877926396273)"
      ]
     },
     "execution_count": 71,
     "metadata": {},
     "output_type": "execute_result"
    }
   ],
   "source": [
    "av_0,av_1=av_low_high(x,y,th)\n",
    "av1=(av_0+av_1)/2\n",
    "av1"
   ]
  },
  {
   "cell_type": "code",
   "execution_count": 73,
   "id": "cf060769",
   "metadata": {},
   "outputs": [
    {
     "data": {
      "text/plain": [
       "194"
      ]
     },
     "execution_count": 73,
     "metadata": {},
     "output_type": "execute_result"
    }
   ],
   "source": [
    "c=0\n",
    "for i in range(271):\n",
    "    temp=te[i].reshape(1,17)\n",
    "    if (hval(th,temp)>=0.5 and teans[i]==1.0):\n",
    "        c+=1\n",
    "    elif (hval(th,temp)<0.5 and teans[i]==0.0):\n",
    "        c+=1\n",
    "c"
   ]
  },
  {
   "cell_type": "code",
   "execution_count": 36,
   "id": "cf0670cd",
   "metadata": {},
   "outputs": [
    {
     "data": {
      "text/plain": [
       "0.5152366222568137"
      ]
     },
     "execution_count": 36,
     "metadata": {},
     "output_type": "execute_result"
    }
   ],
   "source": [
    "(0.3467854518739999+0.6836877926396273)/2"
   ]
  },
  {
   "cell_type": "code",
   "execution_count": 25,
   "id": "0b85cfc0",
   "metadata": {},
   "outputs": [],
   "source": [
    "def j_th(th,x,y):\n",
    "    import numpy as np\n",
    "    m=x.shape[0]\n",
    "    n=x.shape[1]-1\n",
    "    temp=1.0/(1+np.exp(-1*(x@th)))\n",
    "    out=(y*(np.log(temp))+(1-y)*(np.log(1-temp)))\n",
    "    s=float(np.sum(out))\n",
    "    return(-1*s/m)\n",
    "def newt_method(x,y):\n",
    "    EPS=1.0e-10\n",
    "    m=x.shape[0]\n",
    "    n=x.shape[1]-1\n",
    "    th=np.zeros(n+1)\n",
    "    th=th.reshape(n+1,1)\n",
    "    conv=np.Infinity\n",
    "    j0=j_th(th,x,y)\n",
    "    it=0\n",
    "    while abs(conv)>EPS:\n",
    "        it+=1\n",
    "        temp1=1.0/(1.0+np.exp(-1*x@th))\n",
    "        H=((np.transpose(x))@((temp1)*(1-temp1)*x))\n",
    "        H=H/m\n",
    "        dJ=np.sum(((temp1-y)*x/m),axis=0)\n",
    "        dJ=dJ.reshape(n+1,1)\n",
    "        temp2=(np.linalg.pinv(H))@dJ\n",
    "        print(np.linalg.pinv(H))\n",
    "        print(dJ)\n",
    "        print(temp2)\n",
    "        th=th-temp2\n",
    "        j1=j_th(th,x,y)\n",
    "        conv=j1-j0\n",
    "        j0=j1\n",
    "    print(it)\n",
    "    return th"
   ]
  },
  {
   "cell_type": "code",
   "execution_count": 8,
   "id": "32fad763",
   "metadata": {},
   "outputs": [
    {
     "data": {
      "text/plain": [
       "[0, 1, 2, 3, 4, 5, 6, 7, 8, 9, 10, 12, 13, 14, 15, 16]"
      ]
     },
     "execution_count": 8,
     "metadata": {},
     "output_type": "execute_result"
    }
   ],
   "source": [
    "us=[]\n",
    "for i in range(17):\n",
    "    us.append(i)\n",
    "del us[11]\n",
    "us"
   ]
  },
  {
   "cell_type": "code",
   "execution_count": 9,
   "id": "966831fd",
   "metadata": {},
   "outputs": [
    {
     "name": "stdout",
     "output_type": "stream",
     "text": [
      "[[1.         0.98       0.66       ... 0.793      0.28095238 1.0795    ]\n",
      " [1.         0.93       0.61       ... 0.71       0.348      1.117     ]\n",
      " [1.         0.78       0.62       ... 0.709      0.3        0.7395    ]\n",
      " ...\n",
      " [1.         0.63       0.51       ... 0.826      0.13793103 0.754     ]\n",
      " [1.         0.59       0.645      ... 0.785      0.1375     0.6615    ]\n",
      " [1.         0.6        0.31       ... 0.727      0.23333333 1.2075    ]]\n",
      "(1279, 17)\n"
     ]
    }
   ],
   "source": [
    "import numpy as np\n",
    "X=np.loadtxt(\"../Epoch/Selection_Hackathon/Dataset.csv\",delimiter=',',skiprows=321,usecols=us)\n",
    "X=np.c_[np.ones(1279),X]\n",
    "for i in range(1279):\n",
    "    X[i][1]/=10\n",
    "    X[i][6]/=10\n",
    "    X[i][7]/=10\n",
    "    X[i][11]/=10\n",
    "    X[i][12]/=10\n",
    "    X[i][15]/=100\n",
    "#     X[i,1:18]/=100\n",
    "print(X)\n",
    "print(X.shape)"
   ]
  },
  {
   "cell_type": "code",
   "execution_count": 10,
   "id": "388598a8",
   "metadata": {},
   "outputs": [
    {
     "name": "stdout",
     "output_type": "stream",
     "text": [
      "[[1.]\n",
      " [0.]\n",
      " [0.]\n",
      " ...\n",
      " [1.]\n",
      " [0.]\n",
      " [1.]]\n"
     ]
    }
   ],
   "source": [
    "y=np.loadtxt(\"../Epoch/Selection_Hackathon/Dataset.csv\",delimiter=',',skiprows=321,usecols=[11])\n",
    "y=y.reshape(1279,1)\n",
    "print(y)"
   ]
  },
  {
   "cell_type": "code",
   "execution_count": 11,
   "id": "6ed190e2",
   "metadata": {},
   "outputs": [
    {
     "name": "stdout",
     "output_type": "stream",
     "text": [
      "[[1.         0.74       0.7        ... 0.636      0.30909091 0.608     ]\n",
      " [1.         0.78       0.88       ... 0.778      0.268      0.829     ]\n",
      " [1.         0.78       0.76       ... 0.742      0.36       0.744     ]\n",
      " ...\n",
      " [1.         0.96       0.77       ... 0.722      0.24666667 0.935     ]\n",
      " [1.         0.98       0.66       ... 0.793      0.28095238 1.0795    ]\n",
      " [1.         0.96       0.77       ... 0.722      0.24666667 0.935     ]]\n",
      "(320, 17)\n"
     ]
    }
   ],
   "source": [
    "te=np.loadtxt(\"../Epoch/Selection_Hackathon/Dataset.csv\",delimiter=',',skiprows=1,max_rows=320,usecols=us)\n",
    "#print(te.shape)\n",
    "te=np.c_[np.ones(320),te]\n",
    "for i in range(320):\n",
    "    te[i][1]/=10\n",
    "    te[i][6]/=10\n",
    "    te[i][7]/=10\n",
    "    te[i][11]/=10\n",
    "    te[i][12]/=10\n",
    "    te[i][15]/=100\n",
    "#     te[i,1:18]/=100\n",
    "print(te)\n",
    "print(te.shape)"
   ]
  },
  {
   "cell_type": "code",
   "execution_count": 12,
   "id": "322ec05d",
   "metadata": {},
   "outputs": [
    {
     "name": "stdout",
     "output_type": "stream",
     "text": [
      "(320, 1)\n"
     ]
    }
   ],
   "source": [
    "teans=np.loadtxt(\"../Epoch/Selection_Hackathon/Dataset.csv\",delimiter=',',skiprows=1,max_rows=320,usecols=[11])\n",
    "teans=teans.reshape(320,1)\n",
    "print(teans.shape)"
   ]
  },
  {
   "cell_type": "code",
   "execution_count": 26,
   "id": "2e2cb88e",
   "metadata": {},
   "outputs": [
    {
     "name": "stdout",
     "output_type": "stream",
     "text": [
      "[[ 6.55814465e+06  2.45985756e+03 -1.13896725e+03 -5.90610701e+02\n",
      "   2.04488388e+03  3.45416696e+03 -5.46992055e+02  1.53685354e+02\n",
      "  -6.69309930e+06  3.34448196e+04  3.05696580e+03 -6.44570800e+04\n",
      "   2.34595019e+03  1.17298085e+04  6.51113051e+03  1.62718835e+03\n",
      "   2.22242536e+03]\n",
      " [ 2.45984060e+03  4.69958912e+00 -2.89897436e+01 -2.63126685e+01\n",
      "  -9.85699977e-01  2.54074437e+01 -1.34666859e+00  6.69640098e-01\n",
      "  -2.56414775e+03  2.75025652e+01 -1.35760069e+01 -2.31363952e+01\n",
      "   1.80061072e+00  9.00307542e+00  1.18314359e+01 -1.26176923e+00\n",
      "   7.14547770e+00]\n",
      " [-1.13896894e+03 -2.89897474e+01  2.47956496e+02  1.85341401e+02\n",
      "   1.34474419e+01 -1.86777759e+02  1.01128809e+01 -4.39772183e+00\n",
      "   1.31350681e+03 -7.48615914e+01  1.15421320e+02  1.92679641e+01\n",
      "  -4.19409583e+00 -2.09704898e+01 -7.13564392e+01  1.48296334e+01\n",
      "  -5.22863667e+01]\n",
      " [-5.90605201e+02 -2.63126681e+01  1.85341400e+02  3.68933667e+02\n",
      "   1.59767633e+01 -2.78621288e+02  1.12616583e+01 -5.75844707e+00\n",
      "   7.53541429e+02 -3.22475669e+00  1.37837122e+02 -9.15480438e+01\n",
      "  -7.77852707e+00 -3.88926412e+01 -1.40784166e+02  1.92320446e+01\n",
      "  -6.07308817e+01]\n",
      " [ 2.04489213e+03 -9.85691672e-01  1.34474409e+01  1.59767608e+01\n",
      "   2.60891425e+01 -1.72926677e+02 -4.25309477e-01 -3.96528508e-01\n",
      "  -1.99911629e+03 -7.71661148e+00  1.03941970e+02 -4.50499925e+01\n",
      "   3.59049169e-01  1.79526340e+00 -6.89847084e+01  1.35096689e+00\n",
      "  -7.54412441e+01]\n",
      " [ 3.45417895e+03  2.54074581e+01 -1.86777760e+02 -2.78621293e+02\n",
      "  -1.72926678e+02  1.34777048e+03 -5.91502881e+00  4.98122781e+00\n",
      "  -4.23367223e+03  1.55128761e+02 -7.82426392e+02  1.65745914e+02\n",
      "   6.72967582e+00  3.36484125e+01  5.65344091e+02 -1.80866873e+01\n",
      "   5.66282979e+02]\n",
      " [-5.46992055e+02 -1.34667003e+00  1.01128808e+01  1.12616588e+01\n",
      "  -4.25308780e-01 -5.91502780e+00  1.07344648e+01 -2.96726989e+00\n",
      "   5.72421155e+02 -1.04955233e+01 -4.71747622e-01  7.56990166e+00\n",
      "  -3.35381049e-01 -1.67691011e+00 -6.38677523e+00  2.21915367e+01\n",
      "  -8.32774685e-01]\n",
      " [ 1.53685354e+02  6.69640515e-01 -4.39772179e+00 -5.75844720e+00\n",
      "  -3.96528711e-01  4.98122751e+00 -2.96726989e+00  1.32971276e+00\n",
      "  -1.72175794e+02  4.33749959e+00 -1.76304595e+00  1.15809963e+00\n",
      "   2.29868074e-01  1.14934179e+00  3.21818151e+00 -7.83055406e+00\n",
      "   1.21996568e+00]\n",
      " [-6.69309930e+06 -2.56416507e+03  1.31350508e+03  7.53547044e+02\n",
      "  -1.99910787e+03 -4.23365999e+03  5.72421155e+02 -1.72175794e+02\n",
      "   6.83675050e+06 -3.55433334e+04 -2.75505300e+03  6.55420801e+04\n",
      "  -2.43280369e+03 -1.21640772e+04 -6.98871069e+03 -1.67869037e+03\n",
      "  -2.56585178e+03]\n",
      " [ 3.34448196e+04  2.75026536e+01 -7.48615826e+01 -3.22478533e+00\n",
      "  -7.71665444e+00  1.55128698e+02 -1.04955233e+01  4.33749959e+00\n",
      "  -3.55433334e+04  5.69232799e+02 -6.63990017e+01 -4.08506673e+02\n",
      "   2.00164399e+01  1.00082499e+02  8.87296848e+01  1.08199892e-01\n",
      "   7.46043898e+01]\n",
      " [ 3.05696405e+03 -1.35760001e+01  1.15421321e+02  1.37837120e+02\n",
      "   1.03941965e+02 -7.82426398e+02 -4.71747474e-01 -1.76304599e+00\n",
      "  -2.75505121e+03 -6.63990109e+01  5.08487756e+02 -1.56104288e+02\n",
      "  -2.03387272e+00 -1.01693384e+01 -2.73938643e+02  9.62450806e-01\n",
      "  -3.32463186e+02]\n",
      " [-6.44570800e+04 -2.31365617e+01  1.92679475e+01 -9.15479899e+01\n",
      "  -4.50499116e+01  1.65746032e+02  7.56990166e+00  1.15809963e+00\n",
      "   6.55420801e+04 -4.08506673e+02 -1.56104305e+02  1.08368681e+03\n",
      "  -2.12096624e+01 -1.06048877e+02  9.64174875e+00  2.59244271e-01\n",
      "   5.10484556e+01]\n",
      " [ 2.34593597e+03  1.80061145e+00 -4.19409259e+00 -7.77852762e+00\n",
      "   3.59041856e-01  6.72966324e+00 -3.35379848e-01  2.29867725e-01\n",
      "  -2.43278917e+03  2.00163658e+01 -2.03387832e+00 -2.12095230e+01\n",
      "   1.38119835e+00  6.90601250e+00  4.69578411e+00  2.21192177e-01\n",
      "   1.91683824e+00]\n",
      " [ 1.17298147e+04  9.00310839e+00 -2.09704879e+01 -3.88926518e+01\n",
      "   1.79525043e+00  3.36483945e+01 -1.67691064e+00  1.14934194e+00\n",
      "  -1.21640836e+04  1.00082531e+02 -1.01693325e+01 -1.06048938e+02\n",
      "   6.90604038e+00  3.45303057e+01  2.34790580e+01  1.10599453e+00\n",
      "   9.58423998e+00]\n",
      " [ 6.51113226e+03  1.18314539e+01 -7.13564378e+01 -1.40784172e+02\n",
      "  -6.89847163e+01  5.65344079e+02 -6.38677538e+00  3.21818155e+00\n",
      "  -6.98871247e+03  8.87296939e+01 -2.73938640e+02  9.64173158e+00\n",
      "   4.69579922e+00  2.34790548e+01  2.91405437e+02 -1.71242392e+01\n",
      "   2.33819789e+02]\n",
      " [ 1.62718835e+03 -1.26176500e+00  1.48296338e+01  1.92320432e+01\n",
      "   1.35096483e+00 -1.80866903e+01  2.21915367e+01 -7.83055406e+00\n",
      "  -1.67869037e+03  1.08199891e-01  9.62451243e-01  2.59244273e-01\n",
      "   2.21195722e-01  1.10599297e+00 -1.71242396e+01  1.33943406e+02\n",
      "  -4.79164733e+00]\n",
      " [ 2.22239786e+03  7.14547341e+00 -5.22863610e+01 -6.07308809e+01\n",
      "  -7.54412554e+01  5.66282959e+02 -8.32772362e-01  1.21996500e+00\n",
      "  -2.56582370e+03  7.46042466e+01 -3.32463198e+02  5.10487254e+01\n",
      "   1.91683346e+00  9.58418813e+00  2.33819761e+02 -4.79165419e+00\n",
      "   2.48362926e+02]]\n",
      "[[-0.07075841]\n",
      " [-0.06430805]\n",
      " [-0.00809617]\n",
      " [-0.03650508]\n",
      " [-0.17456998]\n",
      " [-0.00398241]\n",
      " [-0.08076622]\n",
      " [-0.00566849]\n",
      " [-0.07033328]\n",
      " [-0.23363174]\n",
      " [-0.06818217]\n",
      " [-0.09863761]\n",
      " [-0.06511767]\n",
      " [-0.32558835]\n",
      " [-0.07216458]\n",
      " [-0.01251494]\n",
      " [-0.06166321]]\n",
      "[[-1.45266529e+01]\n",
      " [-1.85487900e-01]\n",
      " [ 1.91235726e+00]\n",
      " [ 1.77218110e-01]\n",
      " [-3.81866304e-01]\n",
      " [ 2.54685292e+00]\n",
      " [-1.74789723e-01]\n",
      " [ 1.13364464e-01]\n",
      " [ 1.87611200e+01]\n",
      " [ 8.21102554e-01]\n",
      " [-2.66671353e+00]\n",
      " [-6.39492823e+00]\n",
      " [ 5.74784473e-03]\n",
      " [ 2.87388852e-02]\n",
      " [-1.19860585e-01]\n",
      " [-3.58231741e-01]\n",
      " [ 1.19431029e+00]]\n",
      "[[ 8.25122110e+06  3.10842571e+03 -1.26400602e+03 -1.51607590e+03\n",
      "   2.70104137e+03  3.21677921e+03 -7.30451844e+02  2.15866860e+02\n",
      "  -8.42209325e+06  4.20288953e+04  4.63179150e+03 -8.01769047e+04\n",
      "   2.98203563e+03  1.49101646e+04  7.84857270e+03  1.74981042e+03\n",
      "   2.11548847e+03]\n",
      " [ 3.10845820e+03  6.29362042e+00 -3.92416367e+01 -3.58255076e+01\n",
      "  -1.35160442e+00  3.37097022e+01 -1.77607526e+00  8.55942667e-01\n",
      "  -3.25129514e+03  3.70016894e+01 -1.77594886e+01 -2.66834482e+01\n",
      "   2.36946075e+00  1.18472986e+01  1.59502144e+01 -1.05978920e+00\n",
      "   9.28426890e+00]\n",
      " [-1.26400277e+03 -3.92416300e+01  3.35095881e+02  2.50750210e+02\n",
      "   1.73933409e+01 -2.43540285e+02  1.29720623e+01 -5.33935494e+00\n",
      "   1.55428749e+03 -1.07881474e+02  1.46817951e+02  6.51782450e-02\n",
      "  -5.73204372e+00 -2.86602163e+01 -9.67223338e+01  1.33009330e+01\n",
      "  -6.64020984e+01]\n",
      " [-1.51607523e+03 -3.58255008e+01  2.50750211e+02  4.75534484e+02\n",
      "   2.01929668e+01 -3.56766346e+02  1.51510206e+01 -7.76859227e+00\n",
      "   1.82482093e+03 -2.97761609e+01  1.76207572e+02 -1.14530898e+02\n",
      "  -1.07504818e+01 -5.37524065e+01 -1.80558774e+02  2.12571443e+01\n",
      "  -7.72183864e+01]\n",
      " [ 2.70104237e+03 -1.35161444e+00  1.73933397e+01  2.01929664e+01\n",
      "   3.30700449e+01 -2.20581270e+02 -5.76037324e-01 -4.67007340e-01\n",
      "  -2.63747383e+03 -1.30298812e+01  1.37752948e+02 -5.68885391e+01\n",
      "   3.87722903e-01  1.93861019e+00 -8.28283214e+01  1.17342746e+00\n",
      "  -9.63310278e+01]\n",
      " [ 3.21678026e+03  3.37096880e+01 -2.43540286e+02 -3.56766346e+02\n",
      "  -2.20581270e+02  1.72006772e+03 -7.72719899e+00  6.18691060e+00\n",
      "  -4.28488048e+03  2.28322052e+02 -1.03548577e+03  2.19850411e+02\n",
      "   9.35566409e+00  4.67783144e+01  6.84581949e+02 -1.92649267e+01\n",
      "   7.22506209e+02]\n",
      " [-7.30451844e+02 -1.77607235e+00  1.29720626e+01  1.51510206e+01\n",
      "  -5.76037233e-01 -7.72719889e+00  1.47086772e+01 -4.18413022e+00\n",
      "   7.63953271e+02 -1.42047420e+01 -5.03612477e-01  1.05015685e+01\n",
      "  -4.78867032e-01 -2.39433395e+00 -8.23081155e+00  3.47540168e+01\n",
      "  -1.00620664e+00]\n",
      " [ 2.15866860e+02  8.55941778e-01 -5.33935503e+00 -7.76859229e+00\n",
      "  -4.67007368e-01  6.18691057e+00 -4.18413022e+00  1.86903784e+00\n",
      "  -2.39913565e+02  5.83455759e+00 -2.16492236e+00  9.59362038e-01\n",
      "   3.22006563e-01  1.61003245e+00  4.02198826e+00 -1.24435467e+01\n",
      "   1.39963466e+00]\n",
      " [-8.42209325e+06 -3.25126196e+03  1.55429081e+03  1.82482161e+03\n",
      "  -2.63747280e+03 -4.28487941e+03  7.63953271e+02 -2.39913565e+02\n",
      "   8.60423290e+06 -4.47271417e+04 -4.19322765e+03  8.14617886e+04\n",
      "  -3.09584362e+03 -1.54792043e+04 -8.47810909e+03 -1.84309344e+03\n",
      "  -2.56871890e+03]\n",
      " [ 4.20288953e+04  3.70015203e+01 -1.07881491e+02 -2.97761644e+01\n",
      "  -1.30298864e+01  2.28322046e+02 -1.42047420e+01  5.83455759e+00\n",
      "  -4.47271417e+04  7.33008089e+02 -1.08333398e+02 -5.18530729e+02\n",
      "   2.62134260e+01  1.31067060e+02  1.19988658e+02  4.58944340e+00\n",
      "   1.04296833e+02]\n",
      " [ 4.63179088e+03 -1.77595060e+01  1.46817950e+02  1.76207572e+02\n",
      "   1.37752947e+02 -1.03548577e+03 -5.03612421e-01 -2.16492238e+00\n",
      "  -4.19322702e+03 -1.08333402e+02  6.97631122e+02 -1.97468288e+02\n",
      "  -3.07770548e+00 -1.53885345e+01 -3.37854645e+02 -1.60214736e+00\n",
      "  -4.41175485e+02]\n",
      " [-8.01769047e+04 -2.66831332e+01  6.52097506e-02 -1.14530891e+02\n",
      "  -5.68885294e+01  2.19850422e+02  1.05015685e+01  9.59362038e-01\n",
      "   8.14617886e+04 -5.18530729e+02 -1.97468294e+02  1.45377426e+03\n",
      "  -2.66767142e+01 -1.33383440e+02  2.23821087e+01  5.65788970e+00\n",
      "   6.99524578e+01]\n",
      " [ 2.98202748e+03  2.36944580e+00 -5.73204353e+00 -1.07504805e+01\n",
      "   3.87719928e-01  9.35566003e+00 -4.78866301e-01  3.22006340e-01\n",
      "  -3.09583530e+03  2.62133836e+01 -3.07770957e+00 -2.66766352e+01\n",
      "   1.79624528e+00  8.98122148e+00  6.27795119e+00  2.70297544e-01\n",
      "   2.64405050e+00]\n",
      " [ 1.49101598e+04  1.18472375e+01 -2.86602214e+01 -5.37524067e+01\n",
      "   1.93860680e+00  4.67783102e+01 -2.39433351e+00  1.61003231e+00\n",
      "  -1.54791993e+04  1.31067034e+02 -1.53885360e+01 -1.33383393e+02\n",
      "   8.98123456e+00  4.49061482e+01  3.13897779e+01  1.35149254e+00\n",
      "   1.32202588e+01]\n",
      " [ 7.84857332e+03  1.59501828e+01 -9.67223371e+01 -1.80558775e+02\n",
      "  -8.28283222e+01  6.84581949e+02 -8.23081160e+00  4.02198828e+00\n",
      "  -8.47810972e+03  1.19988661e+02 -3.37854645e+02  2.23821027e+01\n",
      "   6.27795940e+00  3.13897838e+01  3.46727306e+02 -2.08670736e+01\n",
      "   2.81330724e+02]\n",
      " [ 1.74981042e+03 -1.05979620e+00  1.33009323e+01  2.12571442e+01\n",
      "   1.17342724e+00 -1.92649269e+01  3.47540168e+01 -1.24435467e+01\n",
      "  -1.84309344e+03  4.58944340e+00 -1.60214723e+00  5.65788970e+00\n",
      "   2.70299301e-01  1.35149359e+00 -2.08670737e+01  2.16726587e+02\n",
      "  -5.02900608e+00]\n",
      " [ 2.11548513e+03  9.28425849e+00 -6.64020987e+01 -7.72183859e+01\n",
      "  -9.63310292e+01  7.22506207e+02 -1.00620634e+00  1.39963457e+00\n",
      "  -2.56871548e+03  1.04296815e+02 -4.41175487e+02  6.99524903e+01\n",
      "   2.64405157e+00  1.32202541e+01  2.81330721e+02 -5.02900680e+00\n",
      "   3.16910118e+02]]\n",
      "[[-0.01824767]\n",
      " [-0.01600948]\n",
      " [-0.00428435]\n",
      " [-0.00799261]\n",
      " [-0.04700437]\n",
      " [-0.00117755]\n",
      " [-0.02389709]\n",
      " [-0.03301204]\n",
      " [-0.01814949]\n",
      " [-0.06023302]\n",
      " [-0.0161683 ]\n",
      " [-0.02377844]\n",
      " [-0.01643791]\n",
      " [-0.08218957]\n",
      " [-0.01734585]\n",
      " [-0.00440214]\n",
      " [-0.01628861]]\n",
      "[[-1.42214558e+01]\n",
      " [-6.40370895e-02]\n",
      " [ 6.52737744e-01]\n",
      " [ 1.67748160e-01]\n",
      " [-1.53434554e-01]\n",
      " [ 9.52987949e-01]\n",
      " [-3.68947900e-02]\n",
      " [ 2.48115818e-02]\n",
      " [ 1.55695600e+01]\n",
      " [ 3.70217485e-01]\n",
      " [-1.02950673e+00]\n",
      " [-2.26789007e+00]\n",
      " [ 1.23673926e-03]\n",
      " [ 6.18365635e-03]\n",
      " [-7.65187838e-02]\n",
      " [-1.51655656e-01]\n",
      " [ 4.64013245e-01]]\n",
      "[[ 9.39353289e+06  3.53580290e+03 -1.44131551e+03 -1.99959356e+03\n",
      "   3.22337553e+03  2.37393156e+03 -7.57199682e+02  2.02655942e+02\n",
      "  -9.58711397e+06  4.75400988e+04  6.07501845e+03 -9.08793566e+04\n",
      "   3.39167554e+03  1.69583772e+04  8.44894365e+03  2.34451172e+03\n",
      "   1.75404740e+03]\n",
      " [ 3.53580876e+03  7.34789802e+00 -4.60758996e+01 -4.18571339e+01\n",
      "  -1.60247830e+00  3.90782786e+01 -1.94950015e+00  9.33143866e-01\n",
      "  -3.70501784e+03  4.33935707e+01 -2.04565895e+01 -2.85100907e+01\n",
      "   2.74030966e+00  1.37015481e+01  1.86216866e+01 -3.62441441e-01\n",
      "   1.06869643e+01]\n",
      " [-1.44131492e+03 -4.60758983e+01  3.93062795e+02  2.91983075e+02\n",
      "   1.98638424e+01 -2.79357020e+02  1.42031374e+01 -5.73494681e+00\n",
      "   1.82170116e+03 -1.30713131e+02  1.65851253e+02 -1.96424027e+01\n",
      "  -6.76961954e+00 -3.38480976e+01 -1.13505766e+02  8.49971403e+00\n",
      "  -7.53227402e+01]\n",
      " [-1.99959094e+03 -4.18571316e+01  2.91983074e+02  5.45665216e+02\n",
      "   2.29658933e+01 -4.07475174e+02  1.73272181e+01 -8.96781758e+00\n",
      "   2.40360839e+03 -4.63016726e+01  2.00867841e+02 -1.32034088e+02\n",
      "  -1.26588251e+01 -6.32941253e+01 -2.06607332e+02  2.04657942e+01\n",
      "  -8.77147730e+01]\n",
      " [ 3.22337946e+03 -1.60247876e+00  1.98638415e+01  2.29658915e+01\n",
      "   3.81671465e+01 -2.55374280e+02 -6.65738240e-01 -5.31958518e-01\n",
      "  -3.14562226e+03 -1.79608362e+01  1.63396786e+02 -6.38788180e+01\n",
      "   3.83906789e-01  1.91953379e+00 -9.19774967e+01  1.62789673e+00\n",
      "  -1.11643822e+02]\n",
      " [ 2.37392833e+03  3.90782755e+01 -2.79357019e+02 -4.07475174e+02\n",
      "  -2.55374282e+02  1.98794702e+03 -8.65218963e+00  6.91279490e+00\n",
      "  -3.64453945e+03  2.85898232e+02 -1.22561548e+03  2.49649105e+02\n",
      "   1.11425749e+01  5.57128741e+01  7.62331541e+02 -2.15200771e+01\n",
      "   8.35866187e+02]\n",
      " [-7.57199682e+02 -1.94949967e+00  1.42031375e+01  1.73272183e+01\n",
      "  -6.65737919e-01 -8.65218990e+00  1.79787906e+01 -5.19548343e+00\n",
      "   7.90148550e+02 -1.57647780e+01 -5.45700950e-01  1.25203966e+01\n",
      "  -5.29186267e-01 -2.64593130e+00 -9.19789033e+00  4.81918544e+01\n",
      "  -1.06037167e+00]\n",
      " [ 2.02655942e+02  9.33143734e-01 -5.73494682e+00 -8.96781764e+00\n",
      "  -5.31958608e-01  6.91279498e+00 -5.19548343e+00  2.28959523e+00\n",
      "  -2.27693817e+02  6.43320260e+00 -2.44577725e+00  7.62015123e-01\n",
      "   3.59649146e-01  1.79824572e+00  4.46701759e+00 -1.73712259e+01\n",
      "   1.50324610e+00]\n",
      " [-9.58711397e+06 -3.70501186e+03  1.82170176e+03  2.40361106e+03\n",
      "  -3.14561824e+03 -3.64454275e+03  7.90148550e+02 -2.27693817e+02\n",
      "   9.79366715e+06 -5.06424773e+04 -5.53281574e+03  9.22934821e+04\n",
      "  -3.52284596e+03 -1.76142293e+04 -9.17735198e+03 -2.49840114e+03\n",
      "  -2.28522205e+03]\n",
      " [ 4.75400988e+04  4.33935404e+01 -1.30713134e+02 -4.63016862e+01\n",
      "  -1.79608566e+01  2.85898249e+02 -1.57647780e+01  6.43320260e+00\n",
      "  -5.06424773e+04  8.47176325e+02 -1.44964409e+02 -5.99194136e+02\n",
      "   3.03222487e+01  1.51611241e+02  1.40933807e+02  1.17746727e+01\n",
      "   1.28300466e+02]\n",
      " [ 6.07500867e+03 -2.04565968e+01  1.65851254e+02  2.00867841e+02\n",
      "   1.63396780e+02 -1.22561548e+03 -5.45700153e-01 -2.44577747e+00\n",
      "  -5.53280575e+03 -1.44964459e+02  8.44477105e+02 -2.16982424e+02\n",
      "  -3.87146885e+00 -1.93573445e+01 -3.81138380e+02 -1.00444795e+00\n",
      "  -5.23615146e+02]\n",
      " [-9.08793566e+04 -2.85100341e+01 -1.96423970e+01 -1.32034063e+02\n",
      "  -6.38787801e+01  2.49649074e+02  1.25203966e+01  7.62015123e-01\n",
      "   9.22934821e+04 -5.99194136e+02 -2.16982519e+02  1.73191309e+03\n",
      "  -3.04743142e+01 -1.52371567e+02  3.26666170e+01  9.79644060e+00\n",
      "   7.92542095e+01]\n",
      " [ 3.39172428e+03  2.74032612e+00 -6.76962814e+00 -1.26588374e+01\n",
      "   3.83921708e-01  1.11425915e+01 -5.29190241e-01  3.59650252e-01\n",
      "  -3.52289573e+03  3.03225009e+01 -3.87143550e+00 -3.04747846e+01\n",
      "   2.06336484e+00  1.03168240e+01  7.27115370e+00  4.87541959e-01\n",
      "   3.15470031e+00]\n",
      " [ 1.69583663e+04  1.37015333e+01 -3.38480968e+01 -6.32941276e+01\n",
      "   1.91952296e+00  5.57128765e+01 -2.64593040e+00  1.79824547e+00\n",
      "  -1.76142182e+04  1.51611185e+02 -1.93573334e+01 -1.52371461e+02\n",
      "   1.03167312e+01  5.15836554e+01  3.63555315e+01  2.43764470e+00\n",
      "   1.57734472e+01]\n",
      " [ 8.44895343e+03  1.86216849e+01 -1.13505768e+02 -2.06607336e+02\n",
      "  -9.19774971e+01  7.62331547e+02 -9.19789112e+00  4.46701781e+00\n",
      "  -9.17736197e+03  1.40933858e+02 -3.81138364e+02  3.26665226e+01\n",
      "   7.27111199e+00  3.63555595e+01  3.81193176e+02 -2.25245209e+01\n",
      "   3.12251045e+02]\n",
      " [ 2.34451172e+03 -3.62442937e-01  8.49971388e+00  2.04657936e+01\n",
      "   1.62789573e+00 -2.15200763e+01  4.81918544e+01 -1.73712259e+01\n",
      "  -2.49840114e+03  1.17746727e+01 -1.00444545e+00  9.79644061e+00\n",
      "   4.87529520e-01  2.43764748e+00 -2.25245234e+01  3.12211635e+02\n",
      "  -6.17851387e+00]\n",
      " [ 1.75403429e+03  1.06869581e+01 -7.53227380e+01 -8.77147705e+01\n",
      "  -1.11643827e+02  8.35866184e+02 -1.06037060e+00  1.50324580e+00\n",
      "  -2.28520866e+03  1.28300399e+02 -5.23615151e+02  7.92543360e+01\n",
      "   3.15468515e+00  1.57734256e+01  3.12251031e+02 -6.17851721e+00\n",
      "   3.66896987e+02]]\n",
      "[[-0.00358603]\n",
      " [-0.00309129]\n",
      " [-0.00105557]\n",
      " [-0.00144845]\n",
      " [-0.00903893]\n",
      " [-0.00024165]\n",
      " [-0.00495092]\n",
      " [-0.00948286]\n",
      " [-0.00356798]\n",
      " [-0.01182555]\n",
      " [-0.00302457]\n",
      " [-0.00448002]\n",
      " [-0.00319685]\n",
      " [-0.01598423]\n",
      " [-0.00326622]\n",
      " [-0.00104096]\n",
      " [-0.00312219]]\n",
      "[[-4.13300803e+00]\n",
      " [-1.28419067e-02]\n",
      " [ 1.37303558e-01]\n",
      " [ 2.66056689e-02]\n",
      " [-4.00881094e-02]\n",
      " [ 2.64337241e-01]\n",
      " [-1.04312447e-02]\n",
      " [ 5.79591916e-03]\n",
      " [ 4.37106463e+00]\n",
      " [ 1.03198464e-01]\n",
      " [-2.67151463e-01]\n",
      " [-5.05202519e-01]\n",
      " [ 8.88428033e-04]\n",
      " [ 4.44225440e-03]\n",
      " [-2.81422972e-03]\n",
      " [-6.68828273e-02]\n",
      " [ 1.25463333e-01]]\n",
      "[[ 9.68436991e+06  3.64976688e+03 -1.54080802e+03 -2.16060044e+03\n",
      "   3.36165236e+03  2.15267637e+03 -7.39594965e+02  1.89586273e+02\n",
      "  -9.88376558e+06  4.89259646e+04  6.44388712e+03 -9.35297001e+04\n",
      "   3.49568711e+03  1.74784822e+04  8.59656534e+03  2.68382597e+03\n",
      "   1.65272645e+03]\n",
      " [ 3.64978882e+03  7.60663698e+00 -4.77320821e+01 -4.32859723e+01\n",
      "  -1.66272124e+00  4.03854822e+01 -1.95630375e+00  9.39151032e-01\n",
      "  -3.82575570e+03  4.50006042e+01 -2.11212684e+01 -2.89634170e+01\n",
      "   2.83342916e+00  1.41671636e+01  1.92642145e+01  4.56867224e-02\n",
      "   1.10367351e+01]\n",
      " [-1.54080582e+03 -4.77320773e+01  4.07038393e+02  3.01474059e+02\n",
      "   2.04123243e+01 -2.87586134e+02  1.42551160e+01 -5.74218908e+00\n",
      "   1.94526088e+03 -1.36454586e+02  1.70149877e+02 -2.48842048e+01\n",
      "  -7.02823823e+00 -3.51411995e+01 -1.17436257e+02  5.62023272e+00\n",
      "  -7.73745600e+01]\n",
      " [-2.16059914e+03 -4.32859665e+01  3.01474060e+02  5.62566715e+02\n",
      "   2.36352715e+01 -4.19817330e+02  1.77464778e+01 -9.22784982e+00\n",
      "   2.58903128e+03 -5.04969010e+01  2.06896740e+02 -1.35904393e+02\n",
      "  -1.31385607e+01 -6.56928151e+01 -2.12920590e+02  1.95437037e+01\n",
      "  -9.03047435e+01]\n",
      " [ 3.36165430e+03 -1.66272794e+00  2.04123232e+01  2.36352706e+01\n",
      "   3.95210791e+01 -2.64616507e+02 -6.76269985e-01 -5.52860369e-01\n",
      "  -3.28004424e+03 -1.94451996e+01  1.70340396e+02 -6.52963904e+01\n",
      "   3.78504730e-01  1.89253947e+00 -9.42761096e+01  1.94622647e+00\n",
      "  -1.15724871e+02]\n",
      " [ 2.15267901e+03  4.03854769e+01 -2.87586135e+02 -4.19817331e+02\n",
      "  -2.64616506e+02  2.05883396e+03 -8.87312841e+00  7.09673771e+00\n",
      "  -3.47662105e+03  3.02165546e+02 -1.27705593e+03  2.54358255e+02\n",
      "   1.16268637e+01  5.81343320e+01  7.81778027e+02 -2.27721680e+01\n",
      "   8.66068564e+02]\n",
      " [-7.39594966e+02 -1.95630206e+00  1.42551162e+01  1.77464779e+01\n",
      "  -6.76269835e-01 -8.87312820e+00  1.91285427e+01 -5.57118601e+00\n",
      "   7.70241875e+02 -1.58326006e+01 -4.93971082e-01  1.30765462e+01\n",
      "  -5.30790521e-01 -2.65395620e+00 -9.36709943e+00  5.40827466e+01\n",
      "  -1.09015045e+00]\n",
      " [ 1.89586273e+02  9.39150579e-01 -5.74218913e+00 -9.22784985e+00\n",
      "  -5.52860409e-01  7.09673766e+00 -5.57118601e+00  2.43994538e+00\n",
      "  -2.14059850e+02  6.46360230e+00 -2.54130223e+00  6.91037913e-01\n",
      "   3.64931687e-01  1.82465940e+00  4.55543547e+00 -1.95552751e+01\n",
      "   1.53694100e+00]\n",
      " [-9.88376558e+06 -3.82573330e+03  1.94526312e+03  2.58903260e+03\n",
      "  -3.28004225e+03 -3.47661835e+03  7.70241875e+02 -2.14059850e+02\n",
      "   1.00965609e+07 -5.21292089e+04 -5.87294101e+03  9.49765318e+04\n",
      "  -3.63120805e+03 -1.81560878e+04 -9.34956124e+03 -2.86706037e+03\n",
      "  -2.20452824e+03]\n",
      " [ 4.89259646e+04  4.50004909e+01 -1.36454597e+02 -5.04969077e+01\n",
      "  -1.94452097e+01  3.02165533e+02 -1.58326006e+01  6.46360230e+00\n",
      "  -5.21292089e+04  8.76005338e+02 -1.55887983e+02 -6.20360189e+02\n",
      "   3.13550365e+01  1.56775423e+02  1.46277559e+02  1.53922113e+01\n",
      "   1.35149887e+02]\n",
      " [ 6.44388652e+03 -2.11212825e+01  1.70149876e+02  2.06896739e+02\n",
      "   1.70340395e+02 -1.27705593e+03 -4.93971035e-01 -2.54130224e+00\n",
      "  -5.87294040e+03 -1.55887986e+02  8.84820953e+02 -2.19535537e+02\n",
      "  -4.10629424e+00 -2.05314419e+01 -3.92234978e+02  1.42996959e-01\n",
      "  -5.46046492e+02]\n",
      " [-9.35297001e+04 -2.89632056e+01 -2.48841836e+01 -1.35904381e+02\n",
      "  -6.52963717e+01  2.54358281e+02  1.30765462e+01  6.91037913e-01\n",
      "   9.49765318e+04 -6.20360189e+02 -2.19535543e+02  1.80423869e+03\n",
      "  -3.14516340e+01 -1.57258619e+02  3.48227203e+01  1.12073744e+01\n",
      "   8.04092310e+01]\n",
      " [ 3.49571465e+03  2.83343169e+00 -7.02824394e+00 -1.31385679e+01\n",
      "   3.78513365e-01  1.16268707e+01 -5.30792645e-01  3.64932256e-01\n",
      "  -3.63123616e+03  3.13551787e+01 -4.10627670e+00 -3.14518992e+01\n",
      "   2.13060768e+00  1.06530554e+01  7.52059466e+00  6.07711815e-01\n",
      "   3.29928038e+00]\n",
      " [ 1.74784723e+04  1.41671199e+01 -3.51412017e+01 -6.56928150e+01\n",
      "   1.89253257e+00  5.81343244e+01 -2.65395544e+00  1.82465920e+00\n",
      "  -1.81560777e+04  1.56775372e+02 -2.05314470e+01 -1.57258524e+02\n",
      "   1.06530016e+01  5.32650930e+01  3.76028807e+01  3.03853044e+00\n",
      "   1.64963820e+01]\n",
      " [ 8.59656594e+03  1.92641946e+01 -1.17436259e+02 -2.12920592e+02\n",
      "  -9.42761112e+01  7.81778025e+02 -9.36709947e+00  4.55543548e+00\n",
      "  -9.34956186e+03  1.46277563e+02 -3.92234977e+02  3.48227146e+01\n",
      "   7.52056962e+00  3.76028909e+01  3.89543050e+02 -2.26291709e+01\n",
      "   3.20022072e+02]\n",
      " [ 2.68382597e+03  4.56804980e-02  5.62023210e+00  1.95437034e+01\n",
      "   1.94622592e+00 -2.27721687e+01  5.40827466e+01 -1.95552751e+01\n",
      "  -2.86706037e+03  1.53922113e+01  1.42997129e-01  1.12073744e+01\n",
      "   6.07704003e-01  3.03853324e+00 -2.26291711e+01  3.55227469e+02\n",
      "  -6.89347233e+00]\n",
      " [ 1.65271997e+03  1.10367283e+01 -7.73745593e+01 -9.03047422e+01\n",
      "  -1.15724874e+02  8.66068562e+02 -1.09014995e+00  1.53694086e+00\n",
      "  -2.20452162e+03  1.35149854e+02 -5.46046496e+02  8.04092934e+01\n",
      "   3.29927258e+00  1.64963721e+01  3.20022066e+02 -6.89347417e+00\n",
      "   3.80255873e+02]]\n",
      "[[-1.71972780e-04]\n",
      " [-1.46892374e-04]\n",
      " [-5.62059123e-05]\n",
      " [-6.65019444e-05]\n",
      " [-4.29680844e-04]\n",
      " [-1.19230535e-05]\n",
      " [-2.42609940e-04]\n",
      " [-5.44720531e-04]\n",
      " [-1.71148373e-04]\n",
      " [-5.66459319e-04]\n",
      " [-1.42152562e-04]\n",
      " [-2.09021349e-04]\n",
      " [-1.52512966e-04]\n",
      " [-7.62564828e-04]\n",
      " [-1.54075615e-04]\n",
      " [-6.40470690e-05]\n",
      " [-1.48166169e-04]]\n",
      "[[-2.41183689e-01]\n",
      " [-5.28886880e-04]\n",
      " [ 5.83870296e-03]\n",
      " [ 6.62283572e-04]\n",
      " [-2.07930493e-03]\n",
      " [ 1.41912899e-02]\n",
      " [-9.87976918e-04]\n",
      " [ 4.37472084e-04]\n",
      " [ 2.51302380e-01]\n",
      " [ 5.11065997e-03]\n",
      " [-1.36848790e-02]\n",
      " [-2.21388048e-02]\n",
      " [ 5.49832548e-05]\n",
      " [ 2.74918813e-04]\n",
      " [ 5.06410899e-04]\n",
      " [-7.24321134e-03]\n",
      " [ 6.60431008e-03]]\n",
      "[[ 9.69819016e+06  3.65533177e+03 -1.54729205e+03 -2.16907141e+03\n",
      "   3.36846770e+03  2.14184488e+03 -7.36539917e+02  1.88131210e+02\n",
      "  -9.89786817e+06  4.89916401e+04  6.46172062e+03 -9.36528216e+04\n",
      "   3.50060391e+03  1.75030427e+04  8.60356987e+03  2.71671399e+03\n",
      "   1.64765092e+03]\n",
      " [ 3.65537413e+03  7.61864379e+00 -4.78084604e+01 -4.33501034e+01\n",
      "  -1.66536106e+00  4.04448541e+01 -1.95352115e+00  9.38289616e-01\n",
      "  -3.83166787e+03  4.50771837e+01 -2.11521068e+01 -2.89863007e+01\n",
      "   2.83779826e+00  1.41890002e+01  1.92927490e+01  8.69527434e-02\n",
      "   1.10527990e+01]\n",
      " [-1.54728781e+03 -4.78084513e+01  4.07680947e+02  3.01894018e+02\n",
      "   2.04355160e+01 -2.87947511e+02  1.42353632e+01 -5.73431378e+00\n",
      "   1.95295326e+03 -1.36734392e+02  1.70341094e+02 -2.51175249e+01\n",
      "  -7.04035682e+00 -3.52017882e+01 -1.17606418e+02  5.32302245e+00\n",
      "  -7.74642976e+01]\n",
      " [-2.16906619e+03 -4.33500911e+01  3.01894018e+02  5.63327420e+02\n",
      "   2.36652693e+01 -4.20372243e+02  1.77588477e+01 -9.23740483e+00\n",
      "   2.59865671e+03 -5.06960999e+01  2.07168446e+02 -1.36067958e+02\n",
      "  -1.31606896e+01 -6.58034536e+01 -2.13203799e+02  1.94465113e+01\n",
      "  -9.04210576e+01]\n",
      " [ 3.36847552e+03 -1.66537245e+00  2.04355131e+01  2.36652657e+01\n",
      "   3.95870219e+01 -2.65063970e+02 -6.75770308e-01 -5.54213067e-01\n",
      "  -3.28668618e+03 -1.95196703e+01  1.70680087e+02 -6.53550250e+01\n",
      "   3.78179313e-01  1.89090445e+00 -9.43838818e+01  1.97441955e+00\n",
      "  -1.15922824e+02]\n",
      " [ 2.14185930e+03  4.04448475e+01 -2.87947515e+02 -4.20372248e+02\n",
      "  -2.65063967e+02  2.06224170e+03 -8.88637018e+00  7.10632421e+00\n",
      "  -3.46831210e+03  3.02966515e+02 -1.27956209e+03  2.54505932e+02\n",
      "   1.16500964e+01  5.82504884e+01  7.82679610e+02 -2.28758262e+01\n",
      "   8.67527208e+02]\n",
      " [-7.36539917e+02 -1.95351790e+00  1.42353635e+01  1.77588481e+01\n",
      "  -6.75769708e-01 -8.88636907e+00  1.92179065e+01 -5.60220071e+00\n",
      "   7.66881554e+02 -1.58068219e+01 -4.85299027e-01  1.31042060e+01\n",
      "  -5.29981646e-01 -2.64991001e+00 -9.37166844e+00  5.46235360e+01\n",
      "  -1.09414601e+00]\n",
      " [ 1.88131210e+02  9.38288749e-01 -5.73431387e+00 -9.23740494e+00\n",
      "  -5.54213227e-01  7.10632391e+00 -5.60220071e+00  2.45205442e+00\n",
      "  -2.12505140e+02  6.45426349e+00 -2.54793426e+00  6.87718777e-01\n",
      "   3.64857390e-01  1.82428742e+00  4.55838975e+00 -1.97580111e+01\n",
      "   1.53941705e+00]\n",
      " [-9.89786817e+06 -3.83162462e+03  1.95295759e+03  2.59866203e+03\n",
      "  -3.28667819e+03 -3.46829738e+03  7.66881554e+02 -2.12505140e+02\n",
      "   1.01109664e+07 -5.21996406e+04 -5.88938574e+03  9.51011989e+04\n",
      "  -3.63633023e+03 -1.81816749e+04 -9.35768758e+03 -2.90271027e+03\n",
      "  -2.20042225e+03]\n",
      " [ 4.89916401e+04  4.50769649e+01 -1.36734414e+02 -5.06961268e+01\n",
      "  -1.95197107e+01  3.02966441e+02 -1.58068219e+01  6.45426349e+00\n",
      "  -5.21996406e+04  8.77356919e+02 -1.56441260e+02 -6.21355751e+02\n",
      "   3.14035305e+01  1.57017772e+02  1.46525203e+02  1.57483781e+01\n",
      "   1.35488094e+02]\n",
      " [ 6.46172201e+03 -2.11521329e+01  1.70341091e+02  2.07168442e+02\n",
      "   1.70680082e+02 -1.27956209e+03 -4.85299133e-01 -2.54793423e+00\n",
      "  -5.88938715e+03 -1.56441253e+02  8.86806103e+02 -2.19602788e+02\n",
      "  -4.11802297e+00 -2.05901003e+01 -3.92755989e+02  2.62342663e-01\n",
      "  -5.47143333e+02]\n",
      " [-9.36528216e+04 -2.89858927e+01 -2.51174841e+01 -1.36067908e+02\n",
      "  -6.53549496e+01  2.54506071e+02  1.31042060e+01  6.87718777e-01\n",
      "   9.51011989e+04 -6.21355751e+02 -2.19602774e+02  1.80760552e+03\n",
      "  -3.14976540e+01 -1.57488494e+02  3.49032540e+01  1.12981161e+01\n",
      "   8.04329452e+01]\n",
      " [ 3.50060793e+03  2.83778437e+00 -7.04035908e+00 -1.31606925e+01\n",
      "   3.78177831e-01  1.16500923e+01 -5.29981955e-01  3.64857472e-01\n",
      "  -3.63633434e+03  3.14035513e+01 -4.11802094e+00 -3.14976928e+01\n",
      "   2.13374895e+00  1.06687532e+01  7.53207291e+00  6.19244258e-01\n",
      "   3.30636188e+00]\n",
      " [ 1.75030335e+04  1.41889195e+01 -3.52017943e+01 -6.58034608e+01\n",
      "   1.89088705e+00  5.82504595e+01 -2.64990930e+00  1.82428723e+00\n",
      "  -1.81816654e+04  1.57017724e+02 -2.05901086e+01 -1.57488404e+02\n",
      "   1.06687425e+01  5.33437547e+01  3.76603589e+01  3.09621951e+00\n",
      "   1.65318082e+01]\n",
      " [ 8.60356849e+03  1.92927097e+01 -1.17606422e+02 -2.13203803e+02\n",
      "  -9.43838894e+01  7.82679597e+02 -9.37166833e+00  4.55838972e+00\n",
      "  -9.35768616e+03  1.46525196e+02 -3.92755991e+02  3.49032674e+01\n",
      "   7.53206871e+00  3.76603648e+01  3.89923610e+02 -2.26134872e+01\n",
      "   3.20383873e+02]\n",
      " [ 2.71671399e+03  8.69405960e-02  5.32302124e+00  1.94465098e+01\n",
      "   1.97441730e+00 -2.28758303e+01  5.46235360e+01 -1.97580111e+01\n",
      "  -2.90271027e+03  1.57483781e+01  2.62342266e-01  1.12981161e+01\n",
      "   6.19243104e-01  3.09622217e+00 -2.26134868e+01  3.59216904e+02\n",
      "  -6.95628731e+00]\n",
      " [ 1.64762485e+03  1.10527807e+01 -7.74642938e+01 -9.04210523e+01\n",
      "  -1.15922835e+02  8.67527198e+02 -1.09414401e+00  1.53941652e+00\n",
      "  -2.20039562e+03  1.35487960e+02 -5.47143349e+02  8.04331964e+01\n",
      "   3.30635159e+00  1.65317625e+01  3.20383850e+02 -6.95629479e+00\n",
      "   3.80902539e+02]]\n",
      "[[-3.98827369e-07]\n",
      " [-3.38011886e-07]\n",
      " [-1.35844730e-07]\n",
      " [-1.48315411e-07]\n",
      " [-1.01241843e-06]\n",
      " [-2.95842416e-08]\n",
      " [-5.41964245e-07]\n",
      " [-1.43879741e-06]\n",
      " [-3.97035835e-07]\n",
      " [-1.31387006e-06]\n",
      " [-3.33233467e-07]\n",
      " [-4.72470509e-07]\n",
      " [-3.51596359e-07]\n",
      " [-1.75798179e-06]\n",
      " [-3.62817708e-07]\n",
      " [-2.57069642e-07]\n",
      " [-3.48180733e-07]]\n",
      "[[-8.12259562e-04]\n",
      " [-1.30076693e-06]\n",
      " [ 1.34636611e-05]\n",
      " [ 1.56558144e-06]\n",
      " [-5.01452380e-06]\n",
      " [ 3.39850997e-05]\n",
      " [-6.72008171e-06]\n",
      " [ 2.62924140e-06]\n",
      " [ 8.52018192e-04]\n",
      " [ 8.36778571e-06]\n",
      " [-3.21792857e-05]\n",
      " [-4.34565232e-05]\n",
      " [ 4.56023582e-08]\n",
      " [ 2.28012317e-07]\n",
      " [ 1.80581505e-06]\n",
      " [-5.06497422e-05]\n",
      " [ 1.58013119e-05]]\n",
      "5\n"
     ]
    }
   ],
   "source": [
    "th=newt_method(X,y)"
   ]
  },
  {
   "cell_type": "code",
   "execution_count": 27,
   "id": "e3243cc0",
   "metadata": {},
   "outputs": [
    {
     "data": {
      "text/plain": [
       "array([[ 3.31231127e+01],\n",
       "       [ 2.62897084e-01],\n",
       "       [-2.70825073e+00],\n",
       "       [-3.72235788e-01],\n",
       "       [ 5.77473287e-01],\n",
       "       [-3.77840338e+00],\n",
       "       [ 2.23110454e-01],\n",
       "       [-1.44412066e-01],\n",
       "       [-3.89538990e+01],\n",
       "       [-1.29963753e+00],\n",
       "       [ 3.97708878e+00],\n",
       "       [ 9.19020308e+00],\n",
       "       [-7.92804087e-03],\n",
       "       [-3.96399427e-02],\n",
       "       [ 1.98685382e-01],\n",
       "       [ 5.84064085e-01],\n",
       "       [-1.79040698e+00]])"
      ]
     },
     "execution_count": 27,
     "metadata": {},
     "output_type": "execute_result"
    }
   ],
   "source": [
    "th"
   ]
  },
  {
   "cell_type": "code",
   "execution_count": 38,
   "id": "09d90ff0",
   "metadata": {},
   "outputs": [
    {
     "data": {
      "text/plain": [
       "223"
      ]
     },
     "execution_count": 38,
     "metadata": {},
     "output_type": "execute_result"
    }
   ],
   "source": [
    "c=0\n",
    "for i in range(320):\n",
    "    temp=te[i].reshape(1,17)\n",
    "    if (hval(th,temp)>=0.5 and teans[i]==1.0):\n",
    "        c+=1\n",
    "    elif (hval(th,temp)<0.5 and teans[i]==0.0):\n",
    "        c+=1\n",
    "c"
   ]
  },
  {
   "cell_type": "code",
   "execution_count": 78,
   "id": "0ca8e48d",
   "metadata": {},
   "outputs": [
    {
     "data": {
      "text/plain": [
       "(1599, 17)"
      ]
     },
     "execution_count": 78,
     "metadata": {},
     "output_type": "execute_result"
    }
   ],
   "source": [
    "import numpy as np\n",
    "al=np.loadtxt(\"../Epoch/Selection_Hackathon/Dataset.csv\",delimiter=',',skiprows=1)\n",
    "#al=np.c_[np.ones(1599),al]\n",
    "for i in range(1599):\n",
    "    al[i][0]/=10\n",
    "    al[i][5]/=10\n",
    "    al[i][6]/=10\n",
    "    al[i][10]/=10\n",
    "    al[i][12]/=10\n",
    "    al[i][15]/=100\n",
    "al\n",
    "al.shape"
   ]
  },
  {
   "cell_type": "code",
   "execution_count": 79,
   "id": "c1069b46",
   "metadata": {},
   "outputs": [
    {
     "name": "stdout",
     "output_type": "stream",
     "text": [
      "[[0.74       0.7        0.         ... 0.636      0.30909091 0.608     ]\n",
      " [0.78       0.88       0.         ... 0.778      0.268      0.829     ]\n",
      " [0.78       0.76       0.04       ... 0.742      0.36       0.744     ]\n",
      " ...\n",
      " [0.63       0.51       0.13       ... 0.826      0.13793103 0.754     ]\n",
      " [0.59       0.645      0.12       ... 0.785      0.1375     0.6615    ]\n",
      " [0.6        0.31       0.47       ... 0.727      0.23333333 1.2075    ]]\n"
     ]
    },
    {
     "data": {
      "text/plain": [
       "(1584, 17)"
      ]
     },
     "execution_count": 79,
     "metadata": {},
     "output_type": "execute_result"
    }
   ],
   "source": [
    "temp=al[:,15]\n",
    "c=0\n",
    "for i in range(1599):\n",
    "    if temp[i]>1.0:\n",
    "        al=np.delete(al,i,axis=0)\n",
    "print(al)\n",
    "al.shape"
   ]
  },
  {
   "cell_type": "code",
   "execution_count": 41,
   "id": "28aec930",
   "metadata": {},
   "outputs": [
    {
     "data": {
      "text/plain": [
       "316.8"
      ]
     },
     "execution_count": 41,
     "metadata": {},
     "output_type": "execute_result"
    }
   ],
   "source": [
    "1584/5"
   ]
  },
  {
   "cell_type": "code",
   "execution_count": 47,
   "id": "481c77c4",
   "metadata": {},
   "outputs": [
    {
     "data": {
      "text/plain": [
       "1584"
      ]
     },
     "execution_count": 47,
     "metadata": {},
     "output_type": "execute_result"
    }
   ],
   "source": [
    "temp=al[:,8]\n",
    "c=0\n",
    "for i in range(1584):\n",
    "    if (temp[i]>0.0 and temp[i]<14.0):\n",
    "        c+=1\n",
    "#         print(temp[i])\n",
    "c"
   ]
  },
  {
   "cell_type": "code",
   "execution_count": 49,
   "id": "0561fc69",
   "metadata": {},
   "outputs": [
    {
     "data": {
      "text/plain": [
       "(1584, 17)"
      ]
     },
     "execution_count": 49,
     "metadata": {},
     "output_type": "execute_result"
    }
   ],
   "source": [
    "al.shape"
   ]
  },
  {
   "cell_type": "code",
   "execution_count": 50,
   "id": "dfce21e7",
   "metadata": {},
   "outputs": [
    {
     "data": {
      "text/plain": [
       "1268"
      ]
     },
     "execution_count": 50,
     "metadata": {},
     "output_type": "execute_result"
    }
   ],
   "source": [
    "1584-316"
   ]
  },
  {
   "cell_type": "code",
   "execution_count": 80,
   "id": "bbd86ecf",
   "metadata": {},
   "outputs": [
    {
     "data": {
      "text/plain": [
       "array([[0.74      , 0.7       , 0.        , ..., 0.636     , 0.30909091,\n",
       "        0.608     ],\n",
       "       [0.78      , 0.88      , 0.        , ..., 0.778     , 0.268     ,\n",
       "        0.829     ],\n",
       "       [0.78      , 0.76      , 0.04      , ..., 0.742     , 0.36      ,\n",
       "        0.744     ],\n",
       "       ...,\n",
       "       [0.63      , 0.51      , 0.13      , ..., 0.826     , 0.13793103,\n",
       "        0.754     ],\n",
       "       [0.59      , 0.645     , 0.12      , ..., 0.785     , 0.1375    ,\n",
       "        0.6615    ],\n",
       "       [0.6       , 0.31      , 0.47      , ..., 0.727     , 0.23333333,\n",
       "        1.2075    ]])"
      ]
     },
     "execution_count": 80,
     "metadata": {},
     "output_type": "execute_result"
    }
   ],
   "source": [
    "al"
   ]
  },
  {
   "cell_type": "code",
   "execution_count": 65,
   "id": "900b7f58",
   "metadata": {},
   "outputs": [
    {
     "name": "stdout",
     "output_type": "stream",
     "text": [
      "(1268, 1)\n",
      "(316, 1)\n"
     ]
    }
   ],
   "source": [
    "y1=al[316:,11]\n",
    "teans1=al[:316,11]\n",
    "teans1=teans1.reshape(316,1)\n",
    "y1=y1.reshape(1268,1)\n",
    "print(y1.shape)\n",
    "print(teans1.shape)"
   ]
  },
  {
   "cell_type": "code",
   "execution_count": 83,
   "id": "bbc821f6",
   "metadata": {},
   "outputs": [
    {
     "name": "stdout",
     "output_type": "stream",
     "text": [
      "(1268, 17)\n",
      "(316, 17)\n"
     ]
    }
   ],
   "source": [
    "x1=np.delete(al,11,axis=1)\n",
    "te1=x1[:316,:]\n",
    "te1=np.c_[np.ones(316),te1]\n",
    "x1=x1[316:,:]\n",
    "x1=np.c_[np.ones(1268),x1]\n",
    "print(x1.shape)\n",
    "print(te1.shape)"
   ]
  },
  {
   "cell_type": "code",
   "execution_count": 84,
   "id": "4a8c2136",
   "metadata": {},
   "outputs": [
    {
     "name": "stdout",
     "output_type": "stream",
     "text": [
      "[[ 6.55235555e+06  2.41446710e+03 -8.49845173e+02 -2.42742697e+02\n",
      "   2.05808394e+03  3.11922428e+03 -5.30720776e+02  1.45702045e+02\n",
      "  -6.68638122e+06  3.32710855e+04  3.21952783e+03 -6.44947065e+04\n",
      "   2.32947635e+03  1.16474096e+04  6.33874832e+03  1.59967207e+03\n",
      "   2.12848926e+03]\n",
      " [ 2.41443646e+03  4.69944744e+00 -2.90433719e+01 -2.63704382e+01\n",
      "  -1.00554801e+00  2.55174374e+01 -1.36463644e+00  6.78714836e-01\n",
      "  -2.51914643e+03  2.75969748e+01 -1.36771869e+01 -2.26697305e+01\n",
      "   1.79510793e+00  8.97555003e+00  1.18402491e+01 -1.27210678e+00\n",
      "   7.18296684e+00]\n",
      " [-8.49848237e+02 -2.90433774e+01  2.48307991e+02  1.86230167e+02\n",
      "   1.36064281e+01 -1.87968004e+02  1.02355717e+01 -4.48380330e+00\n",
      "   1.03189633e+03 -7.64646581e+01  1.16201444e+02  1.61118864e+01\n",
      "  -4.21257736e+00 -2.10628908e+01 -7.17665593e+01  1.50025993e+01\n",
      "  -5.26560401e+01]\n",
      " [-2.42744900e+02 -2.63704405e+01  1.86230167e+02  3.69537237e+02\n",
      "   1.59930692e+01 -2.78799230e+02  1.14443243e+01 -5.84727567e+00\n",
      "   4.08777434e+02 -3.92503938e+00  1.38216153e+02 -9.49322443e+01\n",
      "  -7.74742354e+00 -3.87371191e+01 -1.40583076e+02  1.91484798e+01\n",
      "  -6.06942466e+01]\n",
      " [ 2.05808064e+03 -1.00553982e+00  1.36064295e+01  1.59930700e+01\n",
      "   2.59435193e+01 -1.71976715e+02 -3.99085584e-01 -4.03551136e-01\n",
      "  -2.01185813e+03 -7.94393123e+00  1.03364073e+02 -4.48021220e+01\n",
      "   3.55101209e-01  1.77551462e+00 -6.86126432e+01  1.40189557e+00\n",
      "  -7.50066876e+01]\n",
      " [ 3.11921777e+03  2.55174512e+01 -1.87968001e+02 -2.78799228e+02\n",
      "  -1.71976715e+02  1.34068993e+03 -6.13688001e+00  5.06515147e+00\n",
      "  -3.90228412e+03  1.56706169e+02 -7.78407192e+02  1.66765283e+02\n",
      "   6.72064782e+00  3.36032539e+01  5.62282738e+02 -1.82535391e+01\n",
      "   5.62992106e+02]\n",
      " [-5.30720776e+02 -1.36463896e+00  1.02355715e+01  1.14443241e+01\n",
      "  -3.99085856e-01 -6.13688054e+00  1.06774291e+01 -2.95639582e+00\n",
      "   5.56780519e+02 -1.06707066e+01 -2.96062901e-01  7.49354838e+00\n",
      "  -3.41081301e-01 -1.70540880e+00 -6.43294313e+00  2.20463009e+01\n",
      "  -8.99301239e-01]\n",
      " [ 1.45702045e+02  6.78715554e-01 -4.48380323e+00 -5.84727561e+00\n",
      "  -4.03551059e-01  5.06515162e+00 -2.95639582e+00  1.32662956e+00\n",
      "  -1.64369087e+02  4.39957965e+00 -1.81629308e+00  1.19393886e+00\n",
      "   2.30335085e-01  1.15167608e+00  3.24885845e+00 -7.79655965e+00\n",
      "   1.24205538e+00]\n",
      " [-6.68638122e+06 -2.51917771e+03  1.03189320e+03  4.08775185e+02\n",
      "  -2.01186151e+03 -3.90229077e+03  5.56780519e+02 -1.64369087e+02\n",
      "   6.82908433e+06 -3.53679970e+04 -2.91389987e+03  6.55751081e+04\n",
      "  -2.41598202e+03 -1.20799386e+04 -6.81618678e+03 -1.65129892e+03\n",
      "  -2.47294929e+03]\n",
      " [ 3.32710855e+04  2.75971337e+01 -7.64646422e+01 -3.92502795e+00\n",
      "  -7.94391409e+00  1.56706203e+02 -1.06707066e+01  4.39957965e+00\n",
      "  -3.53679970e+04  5.69756894e+02 -6.76066761e+01 -4.08112383e+02\n",
      "   1.99506371e+01  9.97533302e+01  8.90995071e+01  3.23795821e-02\n",
      "   7.51849241e+01]\n",
      " [ 3.21952683e+03 -1.36771730e+01  1.16201445e+02  1.38216154e+02\n",
      "   1.03364074e+02 -7.78407189e+02 -2.96062819e-01 -1.81629311e+00\n",
      "  -2.91389885e+03 -6.76066813e+01  5.05888387e+02 -1.56292399e+02\n",
      "  -2.05703139e+00 -1.02851440e+01 -2.72518804e+02  1.00230585e+00\n",
      "  -3.30551141e+02]\n",
      " [-6.44947065e+04 -2.26700315e+01  1.61118563e+01 -9.49322659e+01\n",
      "  -4.48021545e+01  1.66765219e+02  7.49354838e+00  1.19393886e+00\n",
      "   6.55751081e+04 -4.08112383e+02 -1.56292409e+02  1.08416341e+03\n",
      "  -2.10587846e+01 -1.05294197e+02  1.04728473e+01  8.12213642e-01\n",
      "   5.09555054e+01]\n",
      " [ 2.32949195e+03  1.79512472e+00 -4.21257848e+00 -7.74742352e+00\n",
      "   3.55107190e-01  6.72065844e+00 -3.41082583e-01  2.30335451e-01\n",
      "  -2.41599795e+03  1.99507180e+01 -2.05702380e+00 -2.10589380e+01\n",
      "   1.37386464e+00  6.86933321e+00  4.66363328e+00  2.28163049e-01\n",
      "   1.91737685e+00]\n",
      " [ 1.16474126e+04  8.97560606e+00 -2.10628857e+01 -3.87371153e+01\n",
      "   1.77552147e+00  3.36032672e+01 -1.70540904e+00  1.15167615e+00\n",
      "  -1.20799417e+04  9.97533458e+01 -1.02851408e+01 -1.05294227e+02\n",
      "   6.86930632e+00  3.43465816e+01  2.33181196e+01  1.14080367e+00\n",
      "   9.58686785e+00]\n",
      " [ 6.33874933e+03  1.18402800e+01 -7.17665564e+01 -1.40583074e+02\n",
      "  -6.86126396e+01  5.62282745e+02 -6.43294321e+00  3.24885847e+00\n",
      "  -6.81618780e+03  8.90995123e+01 -2.72518803e+02  1.04728375e+01\n",
      "   4.66361813e+00  2.33181184e+01  2.89763938e+02 -1.72512320e+01\n",
      "   2.32440966e+02]\n",
      " [ 1.59967207e+03 -1.27209925e+00  1.50026000e+01  1.91484803e+01\n",
      "   1.40189638e+00 -1.82535375e+01  2.20463009e+01 -7.79655965e+00\n",
      "  -1.65129892e+03  3.23795826e-02  1.00230610e+00  8.12213642e-01\n",
      "   2.28159217e-01  1.14080294e+00 -1.72512323e+01  1.33312850e+02\n",
      "  -4.87650363e+00]\n",
      " [ 2.12850028e+03  7.18298160e+00 -5.26560406e+01 -6.06942464e+01\n",
      "  -7.50066830e+01  5.62992114e+02 -8.99302144e-01  1.24205564e+00\n",
      "  -2.47296054e+03  7.51849812e+01 -3.30551136e+02  5.09553972e+01\n",
      "   1.91737537e+00  9.58688655e+00  2.32440977e+02 -4.87650092e+00\n",
      "   2.46855203e+02]]\n",
      "[[-0.07176656]\n",
      " [-0.06532334]\n",
      " [-0.0086317 ]\n",
      " [-0.03682965]\n",
      " [-0.17651814]\n",
      " [-0.00409227]\n",
      " [-0.08280757]\n",
      " [-0.0115142 ]\n",
      " [-0.07134078]\n",
      " [-0.23710568]\n",
      " [-0.06900631]\n",
      " [-0.09977721]\n",
      " [-0.06618651]\n",
      " [-0.33093257]\n",
      " [-0.07309858]\n",
      " [-0.01287954]\n",
      " [-0.06236751]]\n",
      "[[-4.82175595e+00]\n",
      " [-1.88628441e-01]\n",
      " [ 1.93099059e+00]\n",
      " [ 2.13399175e-01]\n",
      " [-3.67312548e-01]\n",
      " [ 2.45563727e+00]\n",
      " [-1.76261297e-01]\n",
      " [ 1.11582743e-01]\n",
      " [ 9.29939962e+00]\n",
      " [ 7.83227096e-01]\n",
      " [-2.61115997e+00]\n",
      " [-6.52504676e+00]\n",
      " [ 4.47057503e-03]\n",
      " [ 2.23529253e-02]\n",
      " [-1.55522700e-01]\n",
      " [-3.60578333e-01]\n",
      " [ 1.16030469e+00]]\n",
      "[[ 8.25898942e+06  3.04944112e+03 -8.47882526e+02 -1.08216361e+03\n",
      "   2.72976571e+03  2.75663825e+03 -7.15569317e+02  2.08840881e+02\n",
      "  -8.42868574e+06  4.18696664e+04  4.86140684e+03 -8.05808330e+04\n",
      "   2.96465233e+03  1.48232711e+04  7.61803631e+03  1.67236025e+03\n",
      "   1.98081457e+03]\n",
      " [ 3.04944028e+03  6.31316617e+00 -3.94453071e+01 -3.60164292e+01\n",
      "  -1.39692394e+00  3.40194074e+01 -1.79943639e+00  8.70326120e-01\n",
      "  -3.19357031e+03  3.73121850e+01 -1.79525957e+01 -2.60575057e+01\n",
      "   2.36863526e+00  1.18431798e+01  1.60668085e+01 -1.06020159e+00\n",
      "   9.38734010e+00]\n",
      " [-8.47882609e+02 -3.94453072e+01  3.36545581e+02  2.52756038e+02\n",
      "   1.77744398e+01 -2.46438044e+02  1.31390963e+01 -5.47660008e+00\n",
      "   1.15319317e+03 -1.11232924e+02  1.48446452e+02 -4.69095705e+00\n",
      "  -5.79074900e+00 -2.89537461e+01 -9.79915911e+01  1.33993570e+01\n",
      "  -6.73354825e+01]\n",
      " [-1.08216327e+03 -3.60164292e+01  2.52756038e+02  4.76819494e+02\n",
      "   2.03283440e+01 -3.57857443e+02  1.53871680e+01 -7.88185717e+00\n",
      "   1.39865964e+03 -3.15787046e+01  1.76996067e+02 -1.19117784e+02\n",
      "  -1.07408254e+01 -5.37041283e+01 -1.80861375e+02  2.10421023e+01\n",
      "  -7.74663193e+01]\n",
      " [ 2.72976622e+03 -1.39692347e+00  1.77744398e+01  2.03283438e+01\n",
      "   3.28532968e+01 -2.19207761e+02 -5.35930546e-01 -4.75728142e-01\n",
      "  -2.66514026e+03 -1.33867141e+01  1.36862875e+02 -5.68516656e+01\n",
      "   3.80520330e-01  1.90260470e+00 -8.23448890e+01  1.17334339e+00\n",
      "  -9.56822234e+01]\n",
      " [ 2.75664050e+03  3.40194086e+01 -2.46438045e+02 -3.57857443e+02\n",
      "  -2.19207761e+02  1.71018179e+03 -8.09845260e+00  6.31216105e+00\n",
      "  -3.83405446e+03  2.31270322e+02 -1.02931881e+03  2.22334415e+02\n",
      "   9.37560391e+00  4.68780233e+01  6.80862972e+02 -1.92401272e+01\n",
      "   7.17757076e+02]\n",
      " [-7.15569317e+02 -1.79943646e+00  1.31390963e+01  1.53871681e+01\n",
      "  -5.35930501e-01 -8.09845240e+00  1.46713057e+01 -4.18004158e+00\n",
      "   7.49834167e+02 -1.44728438e+01 -2.31293084e-01  1.05534396e+01\n",
      "  -4.85526782e-01 -2.42763474e+00 -8.32974472e+00  3.47408764e+01\n",
      "  -1.13257160e+00]\n",
      " [ 2.08840881e+02  8.70326142e-01 -5.47660008e+00 -7.88185718e+00\n",
      "  -4.75728156e-01  6.31216099e+00 -4.18004158e+00  1.86685569e+00\n",
      "  -2.33157584e+02  5.94303237e+00 -2.23555538e+00  9.56181369e-01\n",
      "   3.22666120e-01  1.61333085e+00  4.07660537e+00 -1.24562522e+01\n",
      "   1.43699057e+00]\n",
      " [-8.42868574e+06 -3.19357117e+03  1.15319308e+03  1.39865999e+03\n",
      "  -2.66513974e+03 -3.83405216e+03  7.49834167e+02 -2.33157584e+02\n",
      "   8.60965788e+06 -4.45736863e+04 -4.41684123e+03  8.18583076e+04\n",
      "  -3.07825131e+03 -1.53912662e+04 -8.25088442e+03 -1.76699717e+03\n",
      "  -2.43683443e+03]\n",
      " [ 4.18696664e+04  3.73121893e+01 -1.11232924e+02 -3.15787064e+01\n",
      "  -1.33867167e+01  2.31270311e+02 -1.44728438e+01  5.94303237e+00\n",
      "  -4.45736863e+04  7.35853584e+02 -1.10067951e+02 -5.18884618e+02\n",
      "   2.61888941e+01  1.30944520e+02  1.21202314e+02  4.63944983e+00\n",
      "   1.05303391e+02]\n",
      " [ 4.86140823e+03 -1.79525947e+01  1.48446452e+02  1.76996066e+02\n",
      "   1.36862875e+02 -1.02931881e+03 -2.31293207e-01 -2.23555535e+00\n",
      "  -4.41684265e+03 -1.10067944e+02  6.93293632e+02 -1.98310645e+02\n",
      "  -3.10794978e+00 -1.55397437e+01 -3.36025186e+02 -1.69809957e+00\n",
      "  -4.38201331e+02]\n",
      " [-8.05808330e+04 -2.60575139e+01 -4.69095786e+00 -1.19117781e+02\n",
      "  -5.68516606e+01  2.22334437e+02  1.05534396e+01  9.56181368e-01\n",
      "   8.18583076e+04 -5.18884618e+02 -1.98310631e+02  1.46105382e+03\n",
      "  -2.65266044e+01 -1.32633114e+02  2.40238909e+01  6.99958432e+00\n",
      "   7.02881790e+01]\n",
      " [ 2.96468481e+03  2.36864772e+00 -5.79075287e+00 -1.07408303e+01\n",
      "   3.80530640e-01  9.37561595e+00 -4.85529635e-01  3.22666980e-01\n",
      "  -3.07828447e+03  2.61890624e+01 -3.10793224e+00 -2.65269205e+01\n",
      "   1.78957223e+00  8.94786459e+00  6.26768053e+00  2.79740869e-01\n",
      "   2.65380054e+00]\n",
      " [ 1.48232648e+04  1.18431790e+01 -2.89537452e+01 -5.37041279e+01\n",
      "   1.90260172e+00  4.68780167e+01 -2.42763418e+00  1.61333068e+00\n",
      "  -1.53912597e+04  1.30944487e+02 -1.55397497e+01 -1.32633052e+02\n",
      "   8.94780349e+00  4.47390345e+01  3.13382511e+01  1.39867152e+00\n",
      "   1.32689605e+01]\n",
      " [ 7.61803491e+03  1.60668087e+01 -9.79915909e+01 -1.80861375e+02\n",
      "  -8.23448900e+01  6.80862969e+02 -8.32974459e+00  4.07660534e+00\n",
      "  -8.25088300e+03  1.21202307e+02 -3.36025188e+02  2.40239045e+01\n",
      "   6.26764913e+00  3.13382546e+01  3.44837773e+02 -2.09382296e+01\n",
      "   2.79555741e+02]\n",
      " [ 1.67236025e+03 -1.06020142e+00  1.33993570e+01  2.10421022e+01\n",
      "   1.17334329e+00 -1.92401276e+01  3.47408764e+01 -1.24562522e+01\n",
      "  -1.76699717e+03  4.63944983e+00 -1.69809986e+00  6.99958432e+00\n",
      "   2.79734175e-01  1.39867282e+00 -2.09382293e+01  2.17088506e+02\n",
      "  -5.05964071e+00]\n",
      " [ 1.98081286e+03  9.38733968e+00 -6.73354822e+01 -7.74663191e+01\n",
      "  -9.56822241e+01  7.17757075e+02 -1.13257145e+00  1.43699052e+00\n",
      "  -2.43683268e+03  1.05303382e+02 -4.38201333e+02  7.02881957e+01\n",
      "   2.65379131e+00  1.32689591e+01  2.79555740e+02 -5.05964107e+00\n",
      "   3.14680606e+02]]\n",
      "[[-0.01844298]\n",
      " [-0.01623377]\n",
      " [-0.00437504]\n",
      " [-0.00807786]\n",
      " [-0.0475449 ]\n",
      " [-0.00119957]\n",
      " [-0.02434268]\n",
      " [-0.03428348]\n",
      " [-0.0183448 ]\n",
      " [-0.06089244]\n",
      " [-0.01633763]\n",
      " [-0.02401716]\n",
      " [-0.01667128]\n",
      " [-0.08335639]\n",
      " [-0.01753719]\n",
      " [-0.00448894]\n",
      " [-0.01647883]]\n",
      "[[-1.01620177e+01]\n",
      " [-6.60599819e-02]\n",
      " [ 6.65677844e-01]\n",
      " [ 1.87411647e-01]\n",
      " [-1.47383835e-01]\n",
      " [ 9.10830889e-01]\n",
      " [-3.86814160e-02]\n",
      " [ 2.44342156e-02]\n",
      " [ 1.16252024e+01]\n",
      " [ 3.56614749e-01]\n",
      " [-1.00351843e+00]\n",
      " [-2.33826870e+00]\n",
      " [ 5.07759741e-04]\n",
      " [ 2.53900653e-03]\n",
      " [-9.26875261e-02]\n",
      " [-1.58886575e-01]\n",
      " [ 4.48682629e-01]]\n",
      "[[ 9.41492429e+06  3.46693659e+03 -9.14427487e+02 -1.50263178e+03\n",
      "   3.25942485e+03  1.85581241e+03 -7.43634601e+02  1.96727098e+02\n",
      "  -9.60723590e+06  4.74288591e+04  6.32270048e+03 -9.16422950e+04\n",
      "   3.37548475e+03  1.68775024e+04  8.17851516e+03  2.23444389e+03\n",
      "   1.60521614e+03]\n",
      " [ 3.46691727e+03  7.38934549e+00 -4.64455876e+01 -4.21844468e+01\n",
      "  -1.67410616e+00  3.95972018e+01 -1.97122701e+00  9.49644547e-01\n",
      "  -3.63827994e+03  4.39139952e+01 -2.07500195e+01 -2.77572633e+01\n",
      "   2.74478333e+00  1.37239460e+01  1.88471832e+01 -3.23608599e-01\n",
      "   1.08594830e+01]\n",
      " [-9.14429418e+02 -4.64455906e+01  3.95819652e+02  2.95162437e+02\n",
      "   2.04722882e+01 -2.84030131e+02  1.43615651e+01 -5.89641350e+00\n",
      "   1.31629964e+03 -1.35571222e+02  1.68389328e+02 -2.58951434e+01\n",
      "  -6.86362430e+00 -3.43181307e+01 -1.15640803e+02  8.31265588e+00\n",
      "  -7.68408926e+01]\n",
      " [-1.50262668e+03 -4.21844483e+01  2.95162436e+02  5.47768620e+02\n",
      "   2.32088431e+01 -4.09452900e+02  1.75837040e+01 -9.09040552e+00\n",
      "   1.91795862e+03 -4.89135030e+01  2.01998537e+02 -1.37689615e+02\n",
      "  -1.26682031e+01 -6.33410295e+01 -2.07454363e+02  2.00778905e+01\n",
      "  -8.82100747e+01]\n",
      " [ 3.25943250e+03 -1.67409677e+00  2.04722879e+01  2.32088400e+01\n",
      "   3.79189224e+01 -2.53853032e+02 -6.18974205e-01 -5.39647909e-01\n",
      "  -3.17988302e+03 -1.84716321e+01  1.62356357e+02 -6.40445992e+01\n",
      "   3.73128950e-01  1.86567136e+00 -9.14966740e+01  1.55771862e+00\n",
      "  -1.10909068e+02]\n",
      " [ 1.85583186e+03  3.95972142e+01 -2.84030133e+02 -4.09452905e+02\n",
      "  -2.53853027e+02  1.97723291e+03 -9.12581009e+00  7.05404526e+00\n",
      "  -3.14204026e+03  2.90354856e+02 -1.21847233e+03  2.53349264e+02\n",
      "   1.11941985e+01  5.59710133e+01  7.58760582e+02 -2.11891469e+01\n",
      "   8.30569967e+02]\n",
      " [-7.43634601e+02 -1.97122855e+00  1.43615649e+01  1.75837044e+01\n",
      "  -6.18973593e-01 -9.12580854e+00  1.80077774e+01 -5.21418406e+00\n",
      "   7.77134521e+02 -1.60757424e+01 -2.02988399e-01  1.27721391e+01\n",
      "  -5.35071331e-01 -2.67536294e+00 -9.32879712e+00  4.86353763e+01\n",
      "  -1.23185616e+00]\n",
      " [ 1.96727098e+02  9.49644973e-01 -5.89641346e+00 -9.09040563e+00\n",
      "  -5.39648078e-01  7.05404483e+00 -5.21418406e+00  2.29464173e+00\n",
      "  -2.22001456e+02  6.56477790e+00 -2.51868120e+00  7.00727508e-01\n",
      "   3.60003427e-01  1.80001887e+00  4.53536369e+00 -1.75486603e+01\n",
      "   1.54704706e+00]\n",
      " [-9.60723590e+06 -3.63829967e+03  1.31629767e+03  1.91796382e+03\n",
      "  -3.17987521e+03 -3.14202040e+03  7.77134521e+02 -2.22001456e+02\n",
      "   9.81256516e+06 -5.05466376e+04 -5.77186332e+03  9.30474801e+04\n",
      "  -3.50666062e+03 -1.75333834e+04 -8.91388603e+03 -2.39296288e+03\n",
      "  -2.14138902e+03]\n",
      " [ 4.74288591e+04  4.39140948e+01 -1.35571212e+02 -4.89135293e+01\n",
      "  -1.84716715e+01  2.90354756e+02 -1.60757424e+01  6.56477790e+00\n",
      "  -5.05466376e+04  8.52930555e+02 -1.47364411e+02 -6.00757653e+02\n",
      "   3.03569268e+01  1.51785039e+02  1.42990356e+02  1.22740685e+01\n",
      "   1.29853216e+02]\n",
      " [ 6.32270720e+03 -2.07500047e+01  1.68389329e+02  2.01998533e+02\n",
      "   1.62356355e+02 -1.21847234e+03 -2.02988936e-01 -2.51868105e+00\n",
      "  -5.77187017e+03 -1.47364377e+02  8.39181429e+02 -2.18233428e+02\n",
      "  -3.91107761e+00 -1.95553381e+01 -3.79290906e+02 -1.27503415e+00\n",
      "  -5.20129549e+02]\n",
      " [-9.16422950e+04 -2.77574510e+01 -2.58951621e+01 -1.37689566e+02\n",
      "  -6.40445249e+01  2.53349453e+02  1.27721391e+01  7.00727508e-01\n",
      "   9.30474801e+04 -6.00757653e+02 -2.18233362e+02  1.74657932e+03\n",
      "  -3.03468790e+01 -1.51735158e+02  3.51160682e+01  1.20123139e+01\n",
      "   7.99233700e+01]\n",
      " [ 3.37550076e+03  2.74479630e+00 -6.86362548e+00 -1.26682078e+01\n",
      "   3.73131601e-01  1.11941957e+01 -5.35072612e-01  3.60003780e-01\n",
      "  -3.50667697e+03  3.03570093e+01 -3.91106987e+00 -3.03470344e+01\n",
      "   2.05843047e+00  1.02921808e+01  7.28312665e+00  5.07663421e-01\n",
      "   3.17539897e+00]\n",
      " [ 1.68775031e+04  1.37239812e+01 -3.43181273e+01 -6.33410388e+01\n",
      "   1.86565775e+00  5.59709783e+01 -2.67536300e+00  1.80001888e+00\n",
      "  -1.75333841e+04  1.51785043e+02 -1.95553498e+01 -1.51735165e+02\n",
      "   1.02921521e+01  5.14609026e+01  3.64156326e+01  2.53831692e+00\n",
      "   1.58769947e+01]\n",
      " [ 8.17850844e+03  1.88471980e+01 -1.15640800e+02 -2.07454367e+02\n",
      "  -9.14966832e+01  7.58760563e+02 -9.32879658e+00  4.53536354e+00\n",
      "  -8.91387918e+03  1.42990322e+02 -3.79290916e+02  3.51161334e+01\n",
      "   7.28310983e+00  3.64156199e+01  3.79469649e+02 -2.24641885e+01\n",
      "   3.10440411e+02]\n",
      " [ 2.23444389e+03 -3.23603897e-01  8.31265635e+00  2.00778893e+01\n",
      "   1.55771676e+00 -2.11891517e+01  4.86353763e+01 -1.75486603e+01\n",
      "  -2.39296288e+03  1.22740685e+01 -1.27503578e+00  1.20123139e+01\n",
      "   5.07659526e-01  2.53831676e+00 -2.24641869e+01  3.15938217e+02\n",
      "  -6.11168080e+00]\n",
      " [ 1.60519064e+03  1.08594773e+01 -7.68408892e+01 -8.82100711e+01\n",
      "  -1.10909078e+02  8.30569956e+02 -1.23185413e+00  1.54704650e+00\n",
      "  -2.14136299e+03  1.29853085e+02 -5.20129567e+02  7.99236175e+01\n",
      "   3.17538659e+00  1.58769484e+01  3.10440390e+02 -6.11168700e+00\n",
      "   3.64370242e+02]]\n",
      "[[-0.00363121]\n",
      " [-0.00314101]\n",
      " [-0.00107321]\n",
      " [-0.00146875]\n",
      " [-0.00915193]\n",
      " [-0.00024655]\n",
      " [-0.0050492 ]\n",
      " [-0.00972513]\n",
      " [-0.00361311]\n",
      " [-0.0119755 ]\n",
      " [-0.0030641 ]\n",
      " [-0.00453555]\n",
      " [-0.00324833]\n",
      " [-0.01624166]\n",
      " [-0.00331066]\n",
      " [-0.00106375]\n",
      " [-0.00316261]]\n",
      "[[-3.05330925e+00]\n",
      " [-1.33641246e-02]\n",
      " [ 1.41337048e-01]\n",
      " [ 3.15791666e-02]\n",
      " [-3.85794244e-02]\n",
      " [ 2.54334968e-01]\n",
      " [-1.14836456e-02]\n",
      " [ 5.94396614e-03]\n",
      " [ 3.31641808e+00]\n",
      " [ 1.01587092e-01]\n",
      " [-2.61277623e-01]\n",
      " [-5.26058702e-01]\n",
      " [ 7.69571346e-04]\n",
      " [ 3.84785698e-03]\n",
      " [-6.94264392e-03]\n",
      " [-7.18532230e-02]\n",
      " [ 1.21909500e-01]]\n",
      "[[ 9.71072904e+06  3.57898926e+03 -9.84549173e+02 -1.65032489e+03\n",
      "   3.39937261e+03  1.62619296e+03 -7.25876239e+02  1.83721693e+02\n",
      "  -9.90886955e+06  4.88384680e+04  6.69120876e+03 -9.44066669e+04\n",
      "   3.48052958e+03  1.74026043e+04  8.31740061e+03  2.57172085e+03\n",
      "   1.50284522e+03]\n",
      " [ 3.57898929e+03  7.65580524e+00 -4.81586307e+01 -4.36597927e+01\n",
      "  -1.74214364e+00  4.09709311e+01 -1.97440521e+00  9.55114410e-01\n",
      "  -3.75738785e+03  4.55870026e+01 -2.14474390e+01 -2.81782338e+01\n",
      "   2.83994039e+00  1.41996856e+01  1.95234917e+01  1.18098654e-01\n",
      "   1.12308647e+01]\n",
      " [-9.84549169e+02 -4.81586307e+01  4.10253308e+02  3.05040058e+02\n",
      "   2.10884833e+01 -2.92809151e+02  1.43883252e+01 -5.90201776e+00\n",
      "   1.41239034e+03 -1.41743788e+02  1.72972913e+02 -3.15916171e+01\n",
      "  -7.13329932e+00 -3.56664913e+01 -1.19836237e+02  5.19736694e+00\n",
      "  -7.90700190e+01]\n",
      " [-1.65032606e+03 -4.36597931e+01  3.05040058e+02  5.64992827e+02\n",
      "   2.39074957e+01 -4.22080839e+02  1.79984985e+01 -9.34988121e+00\n",
      "   2.09112644e+03 -5.33292489e+01  2.08132686e+02 -1.41865900e+02\n",
      "  -1.31557864e+01 -6.57789237e+01 -2.13948153e+02  1.90305382e+01\n",
      "  -9.08696058e+01]\n",
      " [ 3.39937085e+03 -1.74214431e+00  2.10884835e+01  2.39074965e+01\n",
      "   3.92701206e+01 -2.63093374e+02 -6.28223338e-01 -5.60086726e-01\n",
      "  -3.31573987e+03 -2.00079560e+01  1.69286410e+02 -6.55185600e+01\n",
      "   3.66702412e-01  1.83349713e+00 -9.38069647e+01  1.85655957e+00\n",
      "  -1.14984151e+02]\n",
      " [ 1.62619781e+03  4.09709329e+01 -2.92809151e+02 -4.22080840e+02\n",
      "  -2.63093372e+02  2.04818530e+03 -9.37102683e+00  7.24009517e+00\n",
      "  -2.96775557e+03  3.07131244e+02 -1.26985204e+03  2.58346702e+02\n",
      "   1.16900167e+01  5.84500732e+01  7.78333263e+02 -2.23220321e+01\n",
      "   8.60748473e+02]\n",
      " [-7.25876239e+02 -1.97440521e+00  1.43883252e+01  1.79984985e+01\n",
      "  -6.28223472e-01 -9.37102647e+00  1.92065210e+01 -5.60737875e+00\n",
      "   7.56803819e+02 -1.61269016e+01 -1.29449413e-01  1.34190014e+01\n",
      "  -5.35572328e-01 -2.67785834e+00 -9.50047580e+00  5.48758323e+01\n",
      "  -1.27428073e+00]\n",
      " [ 1.83721693e+02  9.55114409e-01 -5.90201776e+00 -9.34988119e+00\n",
      "  -5.60086690e-01  7.24009508e+00 -5.60737875e+00  2.45126647e+00\n",
      "  -2.08346967e+02  6.59093073e+00 -2.61488826e+00  6.02642258e-01\n",
      "   3.64912538e-01  1.82456182e+00  4.62520680e+00 -1.98616211e+01\n",
      "   1.58204533e+00]\n",
      " [-9.90886955e+06 -3.75738782e+03  1.41239035e+03  2.09112524e+03\n",
      "  -3.31574168e+03 -2.96775062e+03  7.56803819e+02 -2.08346967e+02\n",
      "   1.01204688e+07 -5.20604640e+04 -6.11072327e+03  9.58443795e+04\n",
      "  -3.61614392e+03 -1.80806750e+04 -9.07847276e+03 -2.76204409e+03\n",
      "  -2.06037474e+03]\n",
      " [ 4.88384680e+04  4.55870025e+01 -1.41743788e+02 -5.33292428e+01\n",
      "  -2.00079469e+01  3.07131219e+02 -1.61269016e+01  6.59093073e+00\n",
      "  -5.20604640e+04  8.82756611e+02 -1.58546384e+02 -6.22435044e+02\n",
      "   3.14125992e+01  1.57062771e+02  1.48584829e+02  1.62405017e+01\n",
      "   1.36897387e+02]\n",
      " [ 6.69121657e+03 -2.14474361e+01  1.72972913e+02  2.08132686e+02\n",
      "   1.69286414e+02 -1.26985204e+03 -1.29450003e-01 -2.61488810e+00\n",
      "  -6.11073124e+03 -1.58546344e+02  8.79426373e+02 -2.20843853e+02\n",
      "  -4.15014797e+00 -2.07507683e+01 -3.90425670e+02 -1.66432467e-01\n",
      "  -5.42513559e+02]\n",
      " [-9.44066669e+04 -2.81782335e+01 -3.15916170e+01 -1.41865911e+02\n",
      "  -6.55185771e+01  2.58346749e+02  1.34190014e+01  6.02642258e-01\n",
      "   9.58443795e+04 -6.22435044e+02 -2.20843778e+02  1.82143756e+03\n",
      "  -3.13373489e+01 -1.56686322e+02  3.75029823e+01  1.38331019e+01\n",
      "   8.11446004e+01]\n",
      " [ 3.48050816e+03  2.83993237e+00 -7.13329671e+00 -1.31557819e+01\n",
      "   3.66695724e-01  1.16900099e+01 -5.35570710e-01  3.64912109e-01\n",
      "  -3.61612206e+03  3.14124890e+01 -4.15016476e+00 -3.13371413e+01\n",
      "   2.12660097e+00  1.06329891e+01  7.53984474e+00  6.37828221e-01\n",
      "   3.32385799e+00]\n",
      " [ 1.74026085e+04  1.41996872e+01 -3.56664918e+01 -6.57789224e+01\n",
      "   1.83350179e+00  5.84500654e+01 -2.67785867e+00  1.82456190e+00\n",
      "  -1.80806794e+04  1.57062793e+02 -2.07507796e+01 -1.56686363e+02\n",
      "   1.06330294e+01  5.31650679e+01  3.76992837e+01  3.18915952e+00\n",
      "   1.66193023e+01]\n",
      " [ 8.31739281e+03  1.95234887e+01 -1.19836236e+02 -2.13948150e+02\n",
      "  -9.38069658e+01  7.78333257e+02 -9.50047521e+00  4.62520664e+00\n",
      "  -9.07846479e+03  1.48584789e+02 -3.90425682e+02  3.75030580e+01\n",
      "   7.53986091e+00  3.76992658e+01  3.87907574e+02 -2.24884705e+01\n",
      "   3.18234910e+02]\n",
      " [ 2.57172085e+03  1.18098646e-01  5.19736694e+00  1.90305385e+01\n",
      "   1.85656005e+00 -2.23220334e+01  5.48758323e+01 -1.98616211e+01\n",
      "  -2.76204409e+03  1.62405017e+01 -1.66434589e-01  1.38331019e+01\n",
      "   6.37834043e-01  3.18915835e+00 -2.24884683e+01  3.61584350e+02\n",
      "  -6.79794048e+00]\n",
      " [ 1.50285111e+03  1.12308668e+01 -7.90700197e+01 -9.08696068e+01\n",
      "  -1.14984149e+02  8.60748474e+02 -1.27428118e+00  1.58204545e+00\n",
      "  -2.06038075e+03  1.36897417e+02 -5.42513557e+02  8.11445433e+01\n",
      "   3.32386401e+00  1.66193121e+01  3.18234917e+02 -6.79793888e+00\n",
      "   3.77705071e+02]]\n",
      "[[-1.75762799e-04]\n",
      " [-1.50633788e-04]\n",
      " [-5.75741417e-05]\n",
      " [-6.80767018e-05]\n",
      " [-4.39128765e-04]\n",
      " [-1.22956186e-05]\n",
      " [-2.49639900e-04]\n",
      " [-5.62080036e-04]\n",
      " [-1.74928851e-04]\n",
      " [-5.78897245e-04]\n",
      " [-1.45419288e-04]\n",
      " [-2.13536320e-04]\n",
      " [-1.56391202e-04]\n",
      " [-7.81956012e-04]\n",
      " [-1.57714906e-04]\n",
      " [-6.67912234e-05]\n",
      " [-1.51501779e-04]]\n",
      "[[-1.92502818e-01]\n",
      " [-5.59091952e-04]\n",
      " [ 6.09745911e-03]\n",
      " [ 9.03958830e-04]\n",
      " [-2.02610802e-03]\n",
      " [ 1.38543022e-02]\n",
      " [-1.11974600e-03]\n",
      " [ 4.75579769e-04]\n",
      " [ 2.03968306e-01]\n",
      " [ 5.10166154e-03]\n",
      " [-1.35348883e-02]\n",
      " [-2.33518439e-02]\n",
      " [ 5.06544885e-05]\n",
      " [ 2.53271075e-04]\n",
      " [ 3.19414393e-04]\n",
      " [-8.03917313e-03]\n",
      " [ 6.50011035e-03]]\n",
      "[[ 9.72493551e+06  3.58451466e+03 -9.89755992e+02 -1.65832906e+03\n",
      "   3.40634747e+03  1.61494585e+03 -7.22672087e+02  1.82210690e+02\n",
      "  -9.92336318e+06  4.89061695e+04  6.70911019e+03 -9.45364439e+04\n",
      "   3.48553613e+03  1.74276993e+04  8.32406995e+03  2.60582887e+03\n",
      "   1.49771254e+03]\n",
      " [ 3.58446593e+03  7.66829446e+00 -4.82387646e+01 -4.37268237e+01\n",
      "  -1.74521766e+00  4.10340925e+01 -1.97099283e+00  9.54063650e-01\n",
      "  -3.76320790e+03  4.56673115e+01 -2.14802436e+01 -2.81988886e+01\n",
      "   2.84441690e+00  1.42220915e+01  1.95538541e+01  1.64395403e-01\n",
      "   1.12481166e+01]\n",
      " [-9.89760865e+02 -4.82387724e+01  4.10926839e+02  3.05483458e+02\n",
      "   2.11151942e+01 -2.93200972e+02  1.43642312e+01 -5.89291087e+00\n",
      "   1.41892789e+03 -1.42048743e+02  1.73179979e+02 -3.18499560e+01\n",
      "  -7.14608813e+00 -3.57304429e+01 -1.20020994e+02  4.86467864e+00\n",
      "  -7.91692363e+01]\n",
      " [-1.65832601e+03 -4.37268319e+01  3.05483456e+02  5.65776351e+02\n",
      "   2.39390882e+01 -4.22653599e+02  1.80093809e+01 -9.35900624e+00\n",
      "   2.10034891e+03 -5.35409444e+01  2.08410981e+02 -1.42045344e+02\n",
      "  -1.31784857e+01 -6.58924322e+01 -2.14242621e+02  1.89162493e+01\n",
      "  -9.09898032e+01]\n",
      " [ 3.40635204e+03 -1.74519926e+00  2.11151953e+01  2.39390863e+01\n",
      "   3.93365958e+01 -2.63544844e+02 -6.27687797e-01 -5.61422074e-01\n",
      "  -3.32252947e+03 -2.00857221e+01  1.69628718e+02 -6.55802261e+01\n",
      "   3.66319265e-01  1.83160271e+00 -9.39161212e+01  1.88427527e+00\n",
      "  -1.15183626e+02]\n",
      " [ 1.61496240e+03  4.10341100e+01 -2.93200973e+02 -4.22653603e+02\n",
      "  -2.63544840e+02  2.05162537e+03 -9.38499874e+00  7.24963857e+00\n",
      "  -2.95915027e+03  3.07965198e+02 -1.27237828e+03  2.58506200e+02\n",
      "   1.17140121e+01  5.85700647e+01  7.79247099e+02 -2.24171819e+01\n",
      "   8.62218515e+02]\n",
      " [-7.22672087e+02 -1.97099649e+00  1.43642308e+01  1.80093811e+01\n",
      "  -6.27687454e-01 -9.38499749e+00  1.93032556e+01 -5.64110885e+00\n",
      "   7.53250151e+02 -1.60958117e+01 -1.19504216e-01  1.34540635e+01\n",
      "  -5.34573191e-01 -2.67286736e+00 -9.50450275e+00  5.54700247e+01\n",
      "  -1.27892885e+00]\n",
      " [ 1.82210690e+02  9.54064615e-01 -5.89291077e+00 -9.35900630e+00\n",
      "  -5.61422164e-01  7.24963824e+00 -5.64110885e+00  2.46439583e+00\n",
      "  -2.06720813e+02  6.57971620e+00 -2.62163900e+00  5.97037338e-01\n",
      "   3.64773480e-01  1.82386777e+00  4.62799952e+00 -2.00844137e+01\n",
      "   1.58459123e+00]\n",
      " [-9.92336318e+06 -3.76325765e+03  1.41892292e+03  2.10035202e+03\n",
      "  -3.32252481e+03 -2.95913337e+03  7.53250152e+02 -2.06720813e+02\n",
      "   1.01352711e+07 -5.21331489e+04 -6.12717921e+03  9.59757061e+04\n",
      "  -3.62136237e+03 -1.81068309e+04 -9.08632677e+03 -2.79926460e+03\n",
      "  -2.05625493e+03]\n",
      " [ 4.89061695e+04  4.56675622e+01 -1.42048718e+02 -5.35409600e+01\n",
      "  -2.00857455e+01  3.07965113e+02 -1.60958117e+01  6.57971620e+00\n",
      "  -5.21331489e+04  8.84172660e+02 -1.59118792e+02 -6.23466240e+02\n",
      "   3.14626753e+01  1.57313472e+02  1.48846393e+02  1.66470045e+01\n",
      "   1.37248647e+02]\n",
      " [ 6.70911914e+03 -2.14802084e+01  1.73179982e+02  2.08410977e+02\n",
      "   1.69628718e+02 -1.27237829e+03 -1.19504889e-01 -2.62163882e+00\n",
      "  -6.12718835e+03 -1.59118746e+02  8.81426237e+02 -2.20911364e+02\n",
      "  -4.16221216e+00 -2.08110486e+01 -3.90952041e+02 -4.66378308e-02\n",
      "  -5.43618332e+02]\n",
      " [-9.45364439e+04 -2.81993612e+01 -3.18500033e+01 -1.42045314e+02\n",
      "  -6.55801818e+01  2.58506361e+02  1.34540635e+01  5.97037338e-01\n",
      "   9.59757060e+04 -6.23466240e+02 -2.20911277e+02  1.82496083e+03\n",
      "  -3.13843331e+01 -1.56921846e+02  3.75949489e+01  1.39633764e+01\n",
      "   8.11700514e+01]\n",
      " [ 3.48554017e+03  2.84443604e+00 -7.14608686e+00 -1.31784876e+01\n",
      "   3.66318998e-01  1.17140070e+01 -5.34573495e-01  3.64773560e-01\n",
      "  -3.62136649e+03  3.14626961e+01 -4.16221276e+00 -3.13843723e+01\n",
      "   2.12982629e+00  1.06491382e+01  7.55179929e+00  6.50877116e-01\n",
      "   3.33120212e+00]\n",
      " [ 1.74277082e+04  1.42221830e+01 -3.57304352e+01 -6.58924394e+01\n",
      "   1.83159752e+00  5.85700368e+01 -2.67286803e+00  1.82386795e+00\n",
      "  -1.81068400e+04  1.57313518e+02 -2.08110590e+01 -1.56921933e+02\n",
      "   1.06491341e+01  5.32457045e+01  3.77590030e+01  3.25438761e+00\n",
      "   1.66560119e+01]\n",
      " [ 8.32406100e+03  1.95538940e+01 -1.20020989e+02 -2.14242622e+02\n",
      "  -9.39161283e+01  7.79247082e+02 -9.50450208e+00  4.62799934e+00\n",
      "  -9.08631764e+03  1.48846347e+02 -3.90952054e+02  3.75950356e+01\n",
      "   7.55179247e+00  3.77589789e+01  3.88295040e+02 -2.24638254e+01\n",
      "   3.18600179e+02]\n",
      " [ 2.60582887e+03  1.64408813e-01  4.86467998e+00  1.89162485e+01\n",
      "   1.88427402e+00 -2.24171865e+01  5.54700247e+01 -2.00844137e+01\n",
      "  -2.79926460e+03  1.66470045e+01 -4.66402930e-02  1.39633764e+01\n",
      "   6.50876003e-01  3.25438515e+00 -2.24638230e+01  3.65976728e+02\n",
      "  -6.86006101e+00]\n",
      " [ 1.49769732e+03  1.12481198e+01 -7.91692336e+01 -9.09898009e+01\n",
      "  -1.15183632e+02  8.62218508e+02 -1.27892771e+00  1.58459093e+00\n",
      "  -2.05623939e+03  1.37248569e+02 -5.43618343e+02  8.11701990e+01\n",
      "   3.33119588e+00  1.66559828e+01  3.18600167e+02 -6.86006520e+00\n",
      "   3.78356205e+02]]\n",
      "[[-4.19678587e-07]\n",
      " [-3.56506705e-07]\n",
      " [-1.42955280e-07]\n",
      " [-1.56006936e-07]\n",
      " [-1.06710914e-06]\n",
      " [-3.16467772e-08]\n",
      " [-5.69910852e-07]\n",
      " [-1.53115092e-06]\n",
      " [-4.17819532e-07]\n",
      " [-1.38256980e-06]\n",
      " [-3.51690439e-07]\n",
      " [-4.96199572e-07]\n",
      " [-3.70802233e-07]\n",
      " [-1.85401116e-06]\n",
      " [-3.83337216e-07]\n",
      " [-2.86945672e-07]\n",
      " [-3.67157519e-07]]\n",
      "[[-7.62048839e-04]\n",
      " [-1.45866989e-06]\n",
      " [ 1.47697705e-05]\n",
      " [ 2.31635756e-06]\n",
      " [-5.03132195e-06]\n",
      " [ 3.40445023e-05]\n",
      " [-8.02034054e-06]\n",
      " [ 3.09503403e-06]\n",
      " [ 8.10193542e-04]\n",
      " [ 7.87999640e-06]\n",
      " [-3.26704382e-05]\n",
      " [-4.71334258e-05]\n",
      " [ 1.83031311e-08]\n",
      " [ 9.15150652e-08]\n",
      " [ 1.37406577e-06]\n",
      " [-5.99786292e-05]\n",
      " [ 1.59761280e-05]]\n",
      "5\n"
     ]
    }
   ],
   "source": [
    "th1=newt_method(x1,y1)\n"
   ]
  },
  {
   "cell_type": "code",
   "execution_count": 85,
   "id": "a9e7ce2b",
   "metadata": {},
   "outputs": [
    {
     "data": {
      "text/plain": [
       "array([[ 1.82303477e+01],\n",
       "       [ 2.68613098e-01],\n",
       "       [-2.74411771e+00],\n",
       "       [-4.33296263e-01],\n",
       "       [ 5.55306947e-01],\n",
       "       [-3.63469148e+00],\n",
       "       [ 2.27554125e-01],\n",
       "       [-1.42439599e-01],\n",
       "       [-2.44457986e+01],\n",
       "       [-1.24653848e+00],\n",
       "       [ 3.88952358e+00],\n",
       "       [ 9.41277314e+00],\n",
       "       [-5.79857890e-03],\n",
       "       [-2.89931514e-02],\n",
       "       [ 2.54832082e-01],\n",
       "       [ 5.99417282e-01],\n",
       "       [-1.73741291e+00]])"
      ]
     },
     "execution_count": 85,
     "metadata": {},
     "output_type": "execute_result"
    }
   ],
   "source": [
    "th1"
   ]
  },
  {
   "cell_type": "code",
   "execution_count": 88,
   "id": "e3f5f64d",
   "metadata": {},
   "outputs": [
    {
     "data": {
      "text/plain": [
       "219"
      ]
     },
     "execution_count": 88,
     "metadata": {},
     "output_type": "execute_result"
    }
   ],
   "source": [
    "c=0\n",
    "my_ans=1.0/(1.0+np.exp(-1*te1@th1))\n",
    "for i in range(316):\n",
    "    if (my_ans[i]>=0.5 and teans1[i]==1.0):\n",
    "        c+=1\n",
    "    elif (my_ans[i]<0.5 and teans1[i]==0.0):\n",
    "        c+=1\n",
    "c"
   ]
  },
  {
   "cell_type": "code",
   "execution_count": 89,
   "id": "5a1aae01",
   "metadata": {},
   "outputs": [
    {
     "data": {
      "text/plain": [
       "0.6930379746835443"
      ]
     },
     "execution_count": 89,
     "metadata": {},
     "output_type": "execute_result"
    }
   ],
   "source": [
    "219/316"
   ]
  },
  {
   "cell_type": "code",
   "execution_count": 171,
   "id": "d5fc457a",
   "metadata": {},
   "outputs": [
    {
     "data": {
      "text/plain": [
       "(1599, 17)"
      ]
     },
     "execution_count": 171,
     "metadata": {},
     "output_type": "execute_result"
    }
   ],
   "source": [
    "import numpy as np\n",
    "al1=np.loadtxt(\"../Epoch/Selection_Hackathon/Dataset.csv\",delimiter=',',skiprows=1)\n",
    "#al=np.c_[np.ones(1599),al]\n",
    "# #for col in range(17)\n",
    "# for i in range(1599):\n",
    "#     al[i][0]/=10\n",
    "#     al[i][5]/=10\n",
    "#     al[i][6]/=10\n",
    "#     al[i][10]/=10\n",
    "#     al[i][12]/=10\n",
    "#     al[i][15]/=100\n",
    "al1\n",
    "al1.shape"
   ]
  },
  {
   "cell_type": "code",
   "execution_count": 172,
   "id": "e212d4c5",
   "metadata": {},
   "outputs": [
    {
     "data": {
      "text/plain": [
       "1280"
      ]
     },
     "execution_count": 172,
     "metadata": {},
     "output_type": "execute_result"
    }
   ],
   "source": [
    "# temp=al1[:,15]\n",
    "# c=0\n",
    "# for i in range(1599):\n",
    "#     if temp[i]>100.0:\n",
    "#         al1=np.delete(al1,i,axis=0)\n",
    "# print(al1)\n",
    "# al1.shape\n",
    "1599/5\n",
    "1599-319"
   ]
  },
  {
   "cell_type": "code",
   "execution_count": 173,
   "id": "67a70d11",
   "metadata": {},
   "outputs": [
    {
     "name": "stdout",
     "output_type": "stream",
     "text": [
      "(1280, 1)\n",
      "(319, 1)\n"
     ]
    }
   ],
   "source": [
    "y2=al1[319:,11]\n",
    "teans2=al1[:319,11]\n",
    "teans2=teans2.reshape(319,1)\n",
    "y2=y2.reshape(1280,1)\n",
    "print(y2.shape)\n",
    "print(teans2.shape)"
   ]
  },
  {
   "cell_type": "code",
   "execution_count": 174,
   "id": "d48e9c7e",
   "metadata": {},
   "outputs": [
    {
     "name": "stdout",
     "output_type": "stream",
     "text": [
      "(1280, 17)\n",
      "(319, 17)\n"
     ]
    }
   ],
   "source": [
    "x2=np.delete(al1,11,axis=1)\n",
    "te2=x2[:319,:]\n",
    "te2=np.c_[np.ones(319),te2]\n",
    "x2=x2[319:,:]\n",
    "x2=np.c_[np.ones(1280),x2]\n",
    "print(x2.shape)\n",
    "print(te2.shape)"
   ]
  },
  {
   "cell_type": "code",
   "execution_count": 175,
   "id": "b8751295",
   "metadata": {},
   "outputs": [
    {
     "data": {
      "text/plain": [
       "28.0952381"
      ]
     },
     "execution_count": 175,
     "metadata": {},
     "output_type": "execute_result"
    }
   ],
   "source": [
    "x2[1][15]"
   ]
  },
  {
   "cell_type": "code",
   "execution_count": 176,
   "id": "56fc8e4a",
   "metadata": {},
   "outputs": [
    {
     "name": "stdout",
     "output_type": "stream",
     "text": [
      "[[ 1.          9.6         0.77       ...  0.722      24.66666667\n",
      "   0.935     ]\n",
      " [ 1.          9.8         0.66       ...  0.793      28.0952381\n",
      "   1.0795    ]\n",
      " [ 1.          9.3         0.61       ...  0.71       34.8\n",
      "   1.117     ]\n",
      " ...\n",
      " [ 1.          6.3         0.51       ...  0.826      13.79310345\n",
      "   0.754     ]\n",
      " [ 1.          5.9         0.645      ...  0.785      13.75\n",
      "   0.6615    ]\n",
      " [ 1.          6.          0.31       ...  0.727      23.33333333\n",
      "   1.2075    ]]\n"
     ]
    },
    {
     "data": {
      "text/plain": [
       "(1267, 17)"
      ]
     },
     "execution_count": 176,
     "metadata": {},
     "output_type": "execute_result"
    }
   ],
   "source": [
    "temp=x2[:,15]\n",
    "# c=0\n",
    "for i in range(1280):\n",
    "    if temp[i]>100.0:\n",
    "        x2=np.delete(x2,i,axis=0)\n",
    "        y2=np.delete(y2,i,axis=0)\n",
    "print(x2)\n",
    "x2.shape"
   ]
  },
  {
   "cell_type": "code",
   "execution_count": 177,
   "id": "65a06ab1",
   "metadata": {},
   "outputs": [
    {
     "data": {
      "text/plain": [
       "array([[ 1.        ,  7.4       ,  0.7       , ...,  0.636     ,\n",
       "        30.90909091,  0.608     ],\n",
       "       [ 1.        ,  7.8       ,  0.88      , ...,  0.778     ,\n",
       "        26.8       ,  0.829     ],\n",
       "       [ 1.        ,  7.8       ,  0.76      , ...,  0.742     ,\n",
       "        36.        ,  0.744     ],\n",
       "       ...,\n",
       "       [ 1.        ,  9.6       ,  0.56      , ...,  0.752     ,\n",
       "        24.86486486,  1.117     ],\n",
       "       [ 1.        ,  9.6       ,  0.77      , ...,  0.722     ,\n",
       "        24.66666667,  0.935     ],\n",
       "       [ 1.        ,  9.8       ,  0.66      , ...,  0.793     ,\n",
       "        28.0952381 ,  1.0795    ]])"
      ]
     },
     "execution_count": 177,
     "metadata": {},
     "output_type": "execute_result"
    }
   ],
   "source": [
    "te2"
   ]
  },
  {
   "cell_type": "code",
   "execution_count": 178,
   "id": "a69b86da",
   "metadata": {},
   "outputs": [],
   "source": [
    "# min_max=np.zeros(16)\n",
    "# min_max=min_max.reshape(16,1)\n",
    "for col in range(1,17):\n",
    "    min_col=np.Infinity\n",
    "    max_col=(-1)*np.Infinity\n",
    "    for row in range(1267):\n",
    "        temp1=x2[row][col]\n",
    "        if (temp1>max_col):\n",
    "            max_col=temp1\n",
    "        elif (temp1<min_col):\n",
    "            min_col=temp1\n",
    "    x2[:,col]=(x2[:,col]-min_col)/(max_col-min_col)\n",
    "    te2[:,col]=(te2[:,col]-min_col)/(max_col-min_col)"
   ]
  },
  {
   "cell_type": "code",
   "execution_count": 179,
   "id": "0add9894",
   "metadata": {},
   "outputs": [
    {
     "data": {
      "text/plain": [
       "array([[1.        , 0.42727273, 0.44520548, ..., 0.23668639, 0.03035019,\n",
       "        0.12780598],\n",
       "       [1.        , 0.44545455, 0.36986301, ..., 0.28920118, 0.03835464,\n",
       "        0.16040609],\n",
       "       [1.        , 0.4       , 0.33561644, ..., 0.22781065, 0.05400778,\n",
       "        0.16886633],\n",
       "       ...,\n",
       "       [1.        , 0.12727273, 0.26712329, ..., 0.31360947, 0.00496444,\n",
       "        0.08697124],\n",
       "       [1.        , 0.09090909, 0.35958904, ..., 0.28328402, 0.00486381,\n",
       "        0.06610265],\n",
       "       [1.        , 0.1       , 0.13013699, ..., 0.24038462, 0.02723735,\n",
       "        0.1892837 ]])"
      ]
     },
     "execution_count": 179,
     "metadata": {},
     "output_type": "execute_result"
    }
   ],
   "source": [
    "x2"
   ]
  },
  {
   "cell_type": "code",
   "execution_count": 183,
   "id": "381777ae",
   "metadata": {},
   "outputs": [
    {
     "data": {
      "text/plain": [
       "(319, 17)"
      ]
     },
     "execution_count": 183,
     "metadata": {},
     "output_type": "execute_result"
    }
   ],
   "source": [
    "te2.shape"
   ]
  },
  {
   "cell_type": "code",
   "execution_count": 166,
   "id": "6830bf14",
   "metadata": {},
   "outputs": [
    {
     "data": {
      "text/plain": [
       "array([[1.10000000e+01],\n",
       "       [1.46000000e+00],\n",
       "       [7.90000000e-01],\n",
       "       [1.46000000e+01],\n",
       "       [4.10000000e-01],\n",
       "       [7.10000000e+01],\n",
       "       [2.83000000e+02],\n",
       "       [1.36200000e-02],\n",
       "       [1.15000000e+00],\n",
       "       [1.25000000e+00],\n",
       "       [6.50000000e+00],\n",
       "       [1.09650000e+01],\n",
       "       [5.48250000e+00],\n",
       "       [1.35200000e+00],\n",
       "       [4.28333333e+02],\n",
       "       [4.43250000e+00]])"
      ]
     },
     "execution_count": 166,
     "metadata": {},
     "output_type": "execute_result"
    }
   ],
   "source": [
    "min_max"
   ]
  },
  {
   "cell_type": "code",
   "execution_count": 186,
   "id": "737fd16f",
   "metadata": {},
   "outputs": [],
   "source": [
    "# for col in range(1,17):\n",
    "#     for row in range(316):\n",
    "#         te2[row][col]/=min_max[col-1][0]\n",
    "#     for row in range(1268):\n",
    "#         x2[row][col]/=min_max[col-1][0]"
   ]
  },
  {
   "cell_type": "code",
   "execution_count": 187,
   "id": "5aebf38b",
   "metadata": {},
   "outputs": [
    {
     "data": {
      "text/plain": [
       "array([[1.        , 0.42727273, 0.44520548, ..., 0.23668639, 0.03035019,\n",
       "        0.12780598],\n",
       "       [1.        , 0.44545455, 0.36986301, ..., 0.28920118, 0.03835464,\n",
       "        0.16040609],\n",
       "       [1.        , 0.4       , 0.33561644, ..., 0.22781065, 0.05400778,\n",
       "        0.16886633],\n",
       "       ...,\n",
       "       [1.        , 0.12727273, 0.26712329, ..., 0.31360947, 0.00496444,\n",
       "        0.08697124],\n",
       "       [1.        , 0.09090909, 0.35958904, ..., 0.28328402, 0.00486381,\n",
       "        0.06610265],\n",
       "       [1.        , 0.1       , 0.13013699, ..., 0.24038462, 0.02723735,\n",
       "        0.1892837 ]])"
      ]
     },
     "execution_count": 187,
     "metadata": {},
     "output_type": "execute_result"
    }
   ],
   "source": [
    "x2"
   ]
  },
  {
   "cell_type": "code",
   "execution_count": 188,
   "id": "e354a18c",
   "metadata": {},
   "outputs": [
    {
     "data": {
      "text/plain": [
       "array([[1.        , 0.22727273, 0.39726027, ..., 0.17307692, 0.04492395,\n",
       "        0.05403271],\n",
       "       [1.        , 0.26363636, 0.52054795, ..., 0.27810651, 0.03533074,\n",
       "        0.10389171],\n",
       "       [1.        , 0.26363636, 0.43835616, ..., 0.25147929, 0.05680934,\n",
       "        0.08471517],\n",
       "       ...,\n",
       "       [1.        , 0.42727273, 0.30136986, ..., 0.25887574, 0.03081291,\n",
       "        0.16886633],\n",
       "       [1.        , 0.42727273, 0.44520548, ..., 0.23668639, 0.03035019,\n",
       "        0.12780598],\n",
       "       [1.        , 0.44545455, 0.36986301, ..., 0.28920118, 0.03835464,\n",
       "        0.16040609]])"
      ]
     },
     "execution_count": 188,
     "metadata": {},
     "output_type": "execute_result"
    }
   ],
   "source": [
    "te2"
   ]
  },
  {
   "cell_type": "code",
   "execution_count": 189,
   "id": "394ec268",
   "metadata": {
    "collapsed": true
   },
   "outputs": [
    {
     "name": "stdout",
     "output_type": "stream",
     "text": [
      "[[ 2.82314457e+02 -2.17366826e+00 -9.70632362e+01 -4.11208518e+01\n",
      "   4.58140140e+01 -9.07868193e+01 -7.07729676e+01 -1.06351885e+00\n",
      "  -1.62456748e+02 -1.82560975e+02  1.56336651e+01 -1.30570856e+02\n",
      "  -2.28287289e+01 -2.28287289e+01 -1.72535530e+01 -1.16500799e+02\n",
      "   3.37152626e+01]\n",
      " [-2.17366826e+00  1.50897613e+02 -1.04426793e+02 -8.27122463e+01\n",
      "   7.05415790e+01  5.79451682e+01 -3.53871454e+01  8.18450921e+01\n",
      "  -3.27163963e+02  2.35002972e+02  3.41308083e+00 -1.38156453e+02\n",
      "   1.37534220e+02  1.37534220e+02  2.07598693e+01  2.49559964e+00\n",
      "   6.94830017e+01]\n",
      " [-9.70632362e+01 -1.04426793e+02  5.10596957e+02  1.95626966e+02\n",
      "  -1.64396437e+01 -1.66737280e+02  9.76254021e+01 -1.68415550e+02\n",
      "  -1.34850380e+01 -9.85280605e+01  6.89023709e+01  9.99822486e-01\n",
      "  -3.41180294e+01 -3.41180294e+01  1.45761416e+01  7.23618988e+01\n",
      "  -1.49575571e+01]\n",
      " [-4.11208518e+01 -8.27122463e+01  1.95626966e+02  2.23145236e+02\n",
      "  -2.29754881e+01 -7.81813725e+01  6.29692048e+01 -1.21687796e+02\n",
      "   1.23042459e+01  7.59105414e+00 -1.58586894e+00 -3.68607639e+01\n",
      "  -5.58032908e+01 -5.58032908e+01 -2.45667765e+01  5.37755713e+01\n",
      "  -1.75068681e+01]\n",
      " [ 4.58140140e+01  7.05415790e+01 -1.64396437e+01 -2.29754881e+01\n",
      "   1.75033368e+02 -3.43145442e+01 -3.71020491e+01 -5.26380948e+00\n",
      "  -2.77942220e+02  1.18712644e+02  3.45054440e+01 -1.44064422e+02\n",
      "   6.73243306e+01  6.73243306e+01  2.08184628e+01 -6.78910533e+00\n",
      "   1.69598138e+02]\n",
      " [-9.07868193e+01  5.79451682e+01 -1.66737280e+02 -7.81813725e+01\n",
      "  -3.43145442e+01  6.05965202e+02 -2.86566810e+01  9.24690060e+01\n",
      "  -3.26802430e+01  1.19731156e+02 -1.90627353e+02  7.36590210e+01\n",
      "   3.84128105e+01  3.84128105e+01  8.85893316e+00 -5.89712900e+01\n",
      "  -6.77489295e+00]\n",
      " [-7.07729676e+01 -3.53871454e+01  9.76254021e+01  6.29692048e+01\n",
      "  -3.71020491e+01 -2.86566810e+01  5.55380298e+02 -6.20375132e+02\n",
      "   5.61525730e+01 -8.24528655e+01 -2.89709246e+01  3.48117533e+01\n",
      "  -2.05648538e+01 -2.05648538e+01 -3.44285767e+01  7.51885924e+02\n",
      "  -3.42664322e+01]\n",
      " [-1.06351885e+00  8.18450921e+01 -1.68415550e+02 -1.21687796e+02\n",
      "  -5.26380948e+00  9.24690060e+01 -6.20375132e+02  1.10224942e+03\n",
      "  -6.62731441e+01  1.35945376e+02  1.43039250e+01  2.05743706e+01\n",
      "   5.97107494e+01  5.97107494e+01  4.12821517e+01 -1.06980422e+03\n",
      "  -5.24030133e+00]\n",
      " [-1.62456748e+02 -3.27163963e+02 -1.34850380e+01  1.23042459e+01\n",
      "  -2.77942220e+02 -3.26802430e+01  5.61525730e+01 -6.62731441e+01\n",
      "   1.25990759e+03 -5.52519298e+02 -8.41830739e+01  5.75737706e+02\n",
      "  -3.25559026e+02 -3.25559026e+02 -8.53392064e+01 -9.32385858e+01\n",
      "  -2.72332782e+02]\n",
      " [-1.82560975e+02  2.35002972e+02 -9.85280605e+01  7.59105414e+00\n",
      "   1.18712644e+02  1.19731156e+02 -8.24528655e+01  1.35945376e+02\n",
      "  -5.52519298e+02  7.56959460e+02 -3.67334565e+00 -3.04272951e+02\n",
      "   2.27628821e+02  2.27628821e+02  3.56133959e+01  1.24764290e+01\n",
      "   1.26924432e+02]\n",
      " [ 1.56336651e+01  3.41308083e+00  6.89023709e+01 -1.58586894e+00\n",
      "   3.45054440e+01 -1.90627353e+02 -2.89709246e+01  1.43039250e+01\n",
      "  -8.41830739e+01 -3.67334565e+00  1.57836568e+02 -7.54453485e+01\n",
      "   1.21706567e+01  1.21706567e+01  8.78889217e+01 -3.98658351e+01\n",
      "   2.48975874e+01]\n",
      " [-1.30570856e+02 -1.38156453e+02  9.99822486e-01 -3.68607639e+01\n",
      "  -1.44064422e+02  7.36590210e+01  3.48117533e+01  2.05743706e+01\n",
      "   5.75737706e+02 -3.04272951e+02 -7.54453485e+01  4.54856740e+02\n",
      "  -1.34891928e+02 -1.34891928e+02 -4.54845192e+01  2.71289331e+00\n",
      "  -1.37540500e+02]\n",
      " [-2.28287289e+01  1.37534220e+02 -3.41180294e+01 -5.58032908e+01\n",
      "   6.73243306e+01  3.84128105e+01 -2.05648538e+01  5.97107494e+01\n",
      "  -3.25559026e+02  2.27628821e+02  1.21706567e+01 -1.34891928e+02\n",
      "   1.34054968e+02  1.34054968e+02  2.32390146e+01  1.53260563e+01\n",
      "   6.67907348e+01]\n",
      " [-2.28287289e+01  1.37534220e+02 -3.41180294e+01 -5.58032908e+01\n",
      "   6.73243306e+01  3.84128105e+01 -2.05648538e+01  5.97107494e+01\n",
      "  -3.25559026e+02  2.27628821e+02  1.21706567e+01 -1.34891928e+02\n",
      "   1.34054968e+02  1.34054968e+02  2.32390146e+01  1.53260563e+01\n",
      "   6.67907348e+01]\n",
      " [-1.72535530e+01  2.07598693e+01  1.45761416e+01 -2.45667765e+01\n",
      "   2.08184628e+01  8.85893316e+00 -3.44285767e+01  4.12821517e+01\n",
      "  -8.53392064e+01  3.56133959e+01  8.78889217e+01 -4.54845192e+01\n",
      "   2.32390146e+01  2.32390146e+01  8.41999895e+01 -5.30181264e+01\n",
      "   2.04659563e+01]\n",
      " [-1.16500799e+02  2.49559964e+00  7.23618988e+01  5.37755713e+01\n",
      "  -6.78910533e+00 -5.89712900e+01  7.51885924e+02 -1.06980422e+03\n",
      "  -9.32385858e+01  1.24764290e+01 -3.98658351e+01  2.71289331e+00\n",
      "   1.53260563e+01  1.53260563e+01 -5.30181264e+01  2.82230736e+03\n",
      "  -5.08799361e+00]\n",
      " [ 3.37152626e+01  6.94830017e+01 -1.49575571e+01 -1.75068681e+01\n",
      "   1.69598138e+02 -6.77489295e+00 -3.42664322e+01 -5.24030133e+00\n",
      "  -2.72332782e+02  1.26924432e+02  2.48975874e+01 -1.37540500e+02\n",
      "   6.67907348e+01  6.67907348e+01  2.04659563e+01 -5.08799361e+00\n",
      "   1.65948391e+02]]\n",
      "[[-0.07221784]\n",
      " [-0.02739112]\n",
      " [-0.00048789]\n",
      " [-0.04644181]\n",
      " [-0.00773994]\n",
      " [-0.00783395]\n",
      " [-0.01087186]\n",
      " [ 0.00104166]\n",
      " [-0.02119979]\n",
      " [-0.02793315]\n",
      " [-0.03376796]\n",
      " [-0.06064295]\n",
      " [-0.02556765]\n",
      " [-0.02556765]\n",
      " [-0.03252774]\n",
      " [-0.00085709]\n",
      " [-0.00815895]]\n",
      "[[ 0.24061003]\n",
      " [-0.256747  ]\n",
      " [ 2.71360973]\n",
      " [ 0.32084922]\n",
      " [-0.20394301]\n",
      " [ 1.77979471]\n",
      " [-1.27768341]\n",
      " [ 3.218119  ]\n",
      " [ 0.23396633]\n",
      " [ 0.92444637]\n",
      " [-2.14378755]\n",
      " [-4.13915523]\n",
      " [ 0.09717011]\n",
      " [ 0.09717011]\n",
      " [-1.44588077]\n",
      " [-1.5887175 ]\n",
      " [-0.11279745]]\n",
      "[[ 3.58555531e+02 -7.96666481e+00 -1.14612193e+02 -4.52422351e+01\n",
      "   5.42885054e+01 -1.21750911e+02 -9.70696485e+01  8.68793507e+00\n",
      "  -2.04473418e+02 -2.35261711e+02  2.81200307e+01 -1.66493316e+02\n",
      "  -3.30628157e+01 -3.30628157e+01 -1.62270310e+01 -1.90964515e+02\n",
      "   3.89193586e+01]\n",
      " [-7.96666481e+00  1.97142854e+02 -1.42335878e+02 -1.13162600e+02\n",
      "   8.86838253e+01  7.93390184e+01 -4.88895581e+01  1.11226988e+02\n",
      "  -4.15849380e+02  3.09422654e+02  2.96988932e+00 -1.71056807e+02\n",
      "   1.79037940e+02  1.79037940e+02  2.69235891e+01  5.51104544e+00\n",
      "   8.74352801e+01]\n",
      " [-1.14612193e+02 -1.42335878e+02  6.86289796e+02  2.63958403e+02\n",
      "  -1.77762624e+01 -2.15826896e+02  1.25073256e+02 -2.03785853e+02\n",
      "  -1.82766887e+01 -1.45983472e+02  8.22372772e+01 -2.08344375e+01\n",
      "  -4.82743182e+01 -4.82743182e+01  1.22779681e+01  6.03433331e+01\n",
      "  -1.57467541e+01]\n",
      " [-4.52422351e+01 -1.13162600e+02  2.63958403e+02  2.86806204e+02\n",
      "  -2.95550262e+01 -9.97372890e+01  8.50244510e+01 -1.65425481e+02\n",
      "   2.68107177e+01 -1.22253720e+01 -5.84673808e+00 -4.54510752e+01\n",
      "  -7.71396867e+01 -7.71396867e+01 -3.49821497e+01  5.98296744e+01\n",
      "  -2.26501685e+01]\n",
      " [ 5.42885054e+01  8.86838253e+01 -1.77762624e+01 -2.95550262e+01\n",
      "   2.08906531e+02 -4.31184252e+01 -4.80399366e+01 -8.15694610e+00\n",
      "  -3.42256422e+02  1.47340975e+02  4.53828521e+01 -1.74048055e+02\n",
      "   8.51146542e+01  8.51146542e+01  2.80800597e+01 -1.52549895e+01\n",
      "   2.02251539e+02]\n",
      " [-1.21750911e+02  7.93390184e+01 -2.15826896e+02 -9.97372890e+01\n",
      "  -4.31184252e+01  7.76663773e+02 -3.71803957e+01  1.13962388e+02\n",
      "  -3.28514816e+01  1.76838907e+02 -2.78150413e+02  9.65910626e+01\n",
      "   5.41857918e+01  5.41857918e+01 -1.98379075e+01 -6.22464374e+01\n",
      "  -7.70201041e+00]\n",
      " [-9.70696485e+01 -4.88895581e+01  1.25073256e+02  8.50244510e+01\n",
      "  -4.80399366e+01 -3.71803957e+01  7.58041391e+02 -8.68769998e+02\n",
      "   7.40964181e+01 -1.12166224e+02 -3.63419731e+01  4.83893762e+01\n",
      "  -2.97361870e+01 -2.97361870e+01 -4.34393754e+01  1.14679343e+03\n",
      "  -4.41340322e+01]\n",
      " [ 8.68793507e+00  1.11226988e+02 -2.03785853e+02 -1.65425481e+02\n",
      "  -8.15694610e+00  1.13962388e+02 -8.68769998e+02  1.53783811e+03\n",
      "  -9.15525649e+01  1.83614100e+02  1.85542938e+01  1.66097499e+01\n",
      "   8.42100453e+01  8.42100453e+01  5.15855678e+01 -1.64794639e+03\n",
      "  -8.86768063e+00]\n",
      " [-2.04473418e+02 -4.15849380e+02 -1.82766887e+01  2.68107177e+01\n",
      "  -3.42256422e+02 -3.28514816e+01  7.40964181e+01 -9.15525649e+01\n",
      "   1.58415925e+03 -6.94606427e+02 -1.10831462e+02  7.14932760e+02\n",
      "  -4.14015971e+02 -4.14015971e+02 -1.09407520e+02 -1.05260609e+02\n",
      "  -3.34499221e+02]\n",
      " [-2.35261711e+02  3.09422654e+02 -1.45983472e+02 -1.22253720e+01\n",
      "   1.47340975e+02  1.76838907e+02 -1.12166224e+02  1.83614100e+02\n",
      "  -6.94606427e+02  9.73532510e+02 -2.19645626e+01 -3.85624556e+02\n",
      "   2.97409197e+02  2.97409197e+02  3.67999133e+01  3.62843703e+01\n",
      "   1.58248290e+02]\n",
      " [ 2.81200307e+01  2.96988932e+00  8.22372772e+01 -5.84673808e+00\n",
      "   4.53828521e+01 -2.78150413e+02 -3.63419731e+01  1.85542938e+01\n",
      "  -1.10831462e+02 -2.19645626e+01  2.33614683e+02 -9.13924328e+01\n",
      "   1.31599816e+01  1.31599816e+01  1.31223583e+02 -5.70591132e+01\n",
      "   3.11858252e+01]\n",
      " [-1.66493316e+02 -1.71056807e+02 -2.08344375e+01 -4.54510752e+01\n",
      "  -1.74048055e+02  9.65910626e+01  4.83893762e+01  1.66097499e+01\n",
      "   7.14932760e+02 -3.85624556e+02 -9.13924328e+01  6.09502139e+02\n",
      "  -1.69821720e+02 -1.69821720e+02 -5.27428543e+01  1.84651270e+01\n",
      "  -1.65664964e+02]\n",
      " [-3.30628157e+01  1.79037940e+02 -4.82743182e+01 -7.71396867e+01\n",
      "   8.51146542e+01  5.41857918e+01 -2.97361870e+01  8.42100453e+01\n",
      "  -4.14015971e+02  2.97409197e+02  1.31599816e+01 -1.69821720e+02\n",
      "   1.74086246e+02  1.74086246e+02  2.90883195e+01  1.87881551e+01\n",
      "   8.45528511e+01]\n",
      " [-3.30628157e+01  1.79037940e+02 -4.82743182e+01 -7.71396867e+01\n",
      "   8.51146542e+01  5.41857918e+01 -2.97361870e+01  8.42100453e+01\n",
      "  -4.14015971e+02  2.97409197e+02  1.31599816e+01 -1.69821720e+02\n",
      "   1.74086246e+02  1.74086246e+02  2.90883195e+01  1.87881551e+01\n",
      "   8.45528511e+01]\n",
      " [-1.62270310e+01  2.69235891e+01  1.22779681e+01 -3.49821497e+01\n",
      "   2.80800597e+01 -1.98379075e+01 -4.34393754e+01  5.15855678e+01\n",
      "  -1.09407520e+02  3.67999133e+01  1.31223583e+02 -5.27428543e+01\n",
      "   2.90883195e+01  2.90883195e+01  1.15547690e+02 -6.88059472e+01\n",
      "   2.59216495e+01]\n",
      " [-1.90964515e+02  5.51104544e+00  6.03433331e+01  5.98296744e+01\n",
      "  -1.52549895e+01 -6.22464374e+01  1.14679343e+03 -1.64794639e+03\n",
      "  -1.05260609e+02  3.62843703e+01 -5.70591132e+01  1.84651270e+01\n",
      "   1.87881551e+01  1.87881551e+01 -6.88059472e+01  4.39450141e+03\n",
      "  -1.18353227e+01]\n",
      " [ 3.89193586e+01  8.74352801e+01 -1.57467541e+01 -2.26501685e+01\n",
      "   2.02251539e+02 -7.70201041e+00 -4.41340322e+01 -8.86768063e+00\n",
      "  -3.34499221e+02  1.58248290e+02  3.11858252e+01 -1.65664964e+02\n",
      "   8.45528511e+01  8.45528511e+01  2.59216495e+01 -1.18353227e+01\n",
      "   1.97880217e+02]]\n",
      "[[-0.01829913]\n",
      " [-0.00644585]\n",
      " [-0.00153106]\n",
      " [-0.01008446]\n",
      " [-0.00210814]\n",
      " [-0.00233658]\n",
      " [-0.00318844]\n",
      " [-0.00083288]\n",
      " [-0.00615756]\n",
      " [-0.00702908]\n",
      " [-0.00752023]\n",
      " [-0.01295839]\n",
      " [-0.00616963]\n",
      " [-0.00616963]\n",
      " [-0.00739076]\n",
      " [-0.00048875]\n",
      " [-0.00216883]]\n",
      "[[-0.01031064]\n",
      " [-0.09552176]\n",
      " [ 0.91465723]\n",
      " [ 0.20699676]\n",
      " [-0.12259356]\n",
      " [ 0.67705163]\n",
      " [-0.26111595]\n",
      " [ 0.66705722]\n",
      " [ 0.20925472]\n",
      " [ 0.43183394]\n",
      " [-0.85366739]\n",
      " [-1.45432531]\n",
      " [ 0.0262429 ]\n",
      " [ 0.0262429 ]\n",
      " [-0.58379205]\n",
      " [-0.60564767]\n",
      " [-0.08223463]]\n",
      "[[ 4.10846247e+02 -1.15381921e+01 -1.22575229e+02 -4.70993549e+01\n",
      "   6.14947315e+01 -1.45758647e+02 -1.20161805e+02  2.32133990e+01\n",
      "  -2.37644405e+02 -2.71630129e+02  3.93010906e+01 -1.90027667e+02\n",
      "  -3.91366914e+01 -3.91366914e+01 -1.39434962e+01 -2.64611907e+02\n",
      "   4.37724592e+01]\n",
      " [-1.15381921e+01  2.26892858e+02 -1.67562410e+02 -1.32343073e+02\n",
      "   9.96532449e+01  9.35298405e+01 -5.41505818e+01  1.23428320e+02\n",
      "  -4.72913670e+02  3.58541364e+02  1.82005654e+00 -1.93049023e+02\n",
      "   2.05621685e+02  2.05621685e+02  3.02167671e+01  1.67723786e+01\n",
      "   9.83219193e+01]\n",
      " [-1.22575229e+02 -1.67562410e+02  8.01803718e+02  3.06477547e+02\n",
      "  -1.89058578e+01 -2.46539334e+02  1.37431622e+02 -2.19894759e+02\n",
      "  -1.91748187e+01 -1.78871758e+02  8.91677229e+01 -4.14694212e+01\n",
      "  -5.79827194e+01 -5.79827194e+01  9.48966792e+00  3.45128332e+01\n",
      "  -1.66015927e+01]\n",
      " [-4.70993549e+01 -1.32343073e+02  3.06477547e+02  3.28365424e+02\n",
      "  -3.34367101e+01 -1.12191030e+02  9.74175863e+01 -1.91281203e+02\n",
      "   3.56241259e+01 -2.35264715e+01 -1.02924220e+01 -5.25701293e+01\n",
      "  -9.06691083e+01 -9.06691083e+01 -4.28416143e+01  5.64574376e+01\n",
      "  -2.55416862e+01]\n",
      " [ 6.14947315e+01  9.96532449e+01 -1.89058578e+01 -3.34367101e+01\n",
      "   2.31150200e+02 -5.05021207e+01 -5.34608629e+01 -1.51671242e+01\n",
      "  -3.84566593e+02  1.65062755e+02  5.29848849e+01 -1.94175720e+02\n",
      "   9.57715205e+01  9.57715205e+01  3.27628269e+01 -1.11496132e+01\n",
      "   2.23601507e+02]\n",
      " [-1.45758647e+02  9.35298405e+01 -2.46539334e+02 -1.12191030e+02\n",
      "  -5.05021207e+01  8.99349700e+02 -4.17832677e+01  1.27134409e+02\n",
      "  -2.67403998e+01  2.21889934e+02 -3.48852275e+02  1.08875490e+02\n",
      "   6.49893672e+01  6.49893672e+01 -4.76455571e+01 -6.98743331e+01\n",
      "  -9.26702949e+00]\n",
      " [-1.20161805e+02 -5.41505818e+01  1.37431622e+02  9.74175863e+01\n",
      "  -5.34608629e+01 -4.17832677e+01  9.17095946e+02 -1.06366888e+03\n",
      "   7.58561222e+01 -1.25389339e+02 -4.01097187e+01  5.75476842e+01\n",
      "  -3.27366795e+01 -3.27366795e+01 -4.79771095e+01  1.53593603e+03\n",
      "  -4.87799670e+01]\n",
      " [ 2.32133990e+01  1.23428320e+02 -2.19894759e+02 -1.91281203e+02\n",
      "  -1.51671242e+01  1.27134409e+02 -1.06366888e+03  1.85974123e+03\n",
      "  -8.59600259e+01  2.03668780e+02  1.95379067e+01  1.33336005e+01\n",
      "   9.39079942e+01  9.39079942e+01  5.62745733e+01 -2.21435178e+03\n",
      "  -1.64104048e+01]\n",
      " [-2.37644405e+02 -4.72913670e+02 -1.91748187e+01  3.56241259e+01\n",
      "  -3.84566593e+02 -2.67403998e+01  7.58561222e+01 -8.59600259e+01\n",
      "   1.80042719e+03 -7.85360113e+02 -1.30203316e+02  8.08724791e+02\n",
      "  -4.70474444e+02 -4.70474444e+02 -1.24973980e+02 -1.45987981e+02\n",
      "  -3.75019231e+02]\n",
      " [-2.71630129e+02  3.58541364e+02 -1.78871758e+02 -2.35264715e+01\n",
      "   1.65062755e+02  2.21889934e+02 -1.25389339e+02  2.03668780e+02\n",
      "  -7.85360113e+02  1.12339327e+03 -4.21235739e+01 -4.44978947e+02\n",
      "   3.43300618e+02  3.43300618e+02  3.23616925e+01  6.89755167e+01\n",
      "   1.78199866e+02]\n",
      " [ 3.93010906e+01  1.82005654e+00  8.91677229e+01 -1.02924220e+01\n",
      "   5.29848849e+01 -3.48852275e+02 -4.01097187e+01  1.95379067e+01\n",
      "  -1.30203316e+02 -4.21235739e+01  2.95598400e+02 -9.70918518e+01\n",
      "   1.26233625e+01  1.26233625e+01  1.66924960e+02 -5.82190345e+01\n",
      "   3.50361028e+01]\n",
      " [-1.90027667e+02 -1.93049023e+02 -4.14694212e+01 -5.25701293e+01\n",
      "  -1.94175720e+02  1.08875490e+02  5.75476842e+01  1.33336005e+01\n",
      "   8.08724791e+02 -4.44978947e+02 -9.70918518e+01  7.24564473e+02\n",
      "  -1.93987807e+02 -1.93987807e+02 -5.39388392e+01  2.91893394e+01\n",
      "  -1.84748719e+02]\n",
      " [-3.91366914e+01  2.05621685e+02 -5.79827194e+01 -9.06691083e+01\n",
      "   9.57715205e+01  6.49893672e+01 -3.27366795e+01  9.39079942e+01\n",
      "  -4.70474444e+02  3.43300618e+02  1.26233625e+01 -1.93987807e+02\n",
      "   1.99628342e+02  1.99628342e+02  3.19582674e+01  2.86610555e+01\n",
      "   9.52276378e+01]\n",
      " [-3.91366914e+01  2.05621685e+02 -5.79827194e+01 -9.06691083e+01\n",
      "   9.57715205e+01  6.49893672e+01 -3.27366795e+01  9.39079942e+01\n",
      "  -4.70474444e+02  3.43300618e+02  1.26233625e+01 -1.93987807e+02\n",
      "   1.99628342e+02  1.99628342e+02  3.19582674e+01  2.86610555e+01\n",
      "   9.52276378e+01]\n",
      " [-1.39434962e+01  3.02167671e+01  9.48966792e+00 -4.28416143e+01\n",
      "   3.27628269e+01 -4.76455571e+01 -4.79771095e+01  5.62745733e+01\n",
      "  -1.24973980e+02  3.23616925e+01  1.66924960e+02 -5.39388392e+01\n",
      "   3.19582674e+01  3.19582674e+01  1.40089047e+02 -7.11020944e+01\n",
      "   2.89350572e+01]\n",
      " [-2.64611907e+02  1.67723786e+01  3.45128332e+01  5.64574376e+01\n",
      "  -1.11496132e+01 -6.98743331e+01  1.53593603e+03 -2.21435178e+03\n",
      "  -1.45987981e+02  6.89755167e+01 -5.82190345e+01  2.91893394e+01\n",
      "   2.86610555e+01  2.86610555e+01 -7.11020944e+01  6.06223584e+03\n",
      "  -6.71464584e+00]\n",
      " [ 4.37724592e+01  9.83219193e+01 -1.66015927e+01 -2.55416862e+01\n",
      "   2.23601507e+02 -9.26702949e+00 -4.87799670e+01 -1.64104048e+01\n",
      "  -3.75019231e+02  1.78199866e+02  3.50361028e+01 -1.84748719e+02\n",
      "   9.52276378e+01  9.52276378e+01  2.89350572e+01 -6.71464584e+00\n",
      "   2.18700580e+02]]\n",
      "[[-0.00354241]\n",
      " [-0.00119943]\n",
      " [-0.00043554]\n",
      " [-0.00180498]\n",
      " [-0.00039448]\n",
      " [-0.00047609]\n",
      " [-0.00065442]\n",
      " [-0.00026454]\n",
      " [-0.00127782]\n",
      " [-0.00134777]\n",
      " [-0.00134308]\n",
      " [-0.002223  ]\n",
      " [-0.00116433]\n",
      " [-0.00116433]\n",
      " [-0.00133372]\n",
      " [-0.00013084]\n",
      " [-0.00040225]]\n",
      "[[-0.0193606 ]\n",
      " [-0.01356135]\n",
      " [ 0.18838828]\n",
      " [ 0.04089679]\n",
      " [-0.02269101]\n",
      " [ 0.18619597]\n",
      " [-0.06598394]\n",
      " [ 0.14236089]\n",
      " [ 0.05778203]\n",
      " [ 0.12192225]\n",
      " [-0.21192969]\n",
      " [-0.31858892]\n",
      " [ 0.01200914]\n",
      " [ 0.01200914]\n",
      " [-0.13918976]\n",
      " [-0.23685748]\n",
      " [-0.01194899]]\n",
      "[[ 4.23954446e+02 -1.24370714e+01 -1.24145648e+02 -4.74037468e+01\n",
      "   6.33746315e+01 -1.52099368e+02 -1.28503672e+02  3.06714187e+01\n",
      "  -2.45922377e+02 -2.80626492e+02  4.24569102e+01 -1.95531781e+02\n",
      "  -4.06061802e+01 -4.06061802e+01 -1.31425236e+01 -2.93553804e+02\n",
      "   4.50524394e+01]\n",
      " [-1.24370714e+01  2.34255518e+02 -1.73618789e+02 -1.36961158e+02\n",
      "   1.02422225e+02  9.71947288e+01 -5.46139683e+01  1.25198569e+02\n",
      "  -4.87320974e+02  3.70700843e+02  1.29833041e+00 -1.98627889e+02\n",
      "   2.12226027e+02  2.12226027e+02  3.08590926e+01  2.25368905e+01\n",
      "   1.01081744e+02]\n",
      " [-1.24145648e+02 -1.73618789e+02  8.29079970e+02  3.16061290e+02\n",
      "  -1.93321243e+01 -2.53461053e+02  1.38525997e+02 -2.21180062e+02\n",
      "  -1.83576989e+01 -1.86976551e+02  9.05996815e+01 -4.67584118e+01\n",
      "  -6.03836054e+01 -6.03836054e+01  8.73778333e+00  2.08951459e+01\n",
      "  -1.69685424e+01]\n",
      " [-4.74037468e+01 -1.36961158e+02  3.16061290e+02  3.38248764e+02\n",
      "  -3.44808558e+01 -1.14906649e+02  9.98673343e+01 -1.96894666e+02\n",
      "   3.82598162e+01 -2.61967990e+01 -1.15895210e+01 -5.41820452e+01\n",
      "  -9.40175219e+01 -9.40175219e+01 -4.48598759e+01  5.34139233e+01\n",
      "  -2.63404083e+01]\n",
      " [ 6.33746315e+01  1.02422225e+02 -1.93321243e+01 -3.44808558e+01\n",
      "   2.36907350e+02 -5.23061873e+01 -5.44558147e+01 -1.73037808e+01\n",
      "  -3.95421343e+02  1.69421127e+02  5.48467303e+01 -1.99206260e+02\n",
      "   9.84411472e+01  9.84411472e+01  3.39093073e+01 -7.96400234e+00\n",
      "   2.29130580e+02]\n",
      " [-1.52099368e+02  9.71947288e+01 -2.53461053e+02 -1.14906649e+02\n",
      "  -5.23061873e+01  9.31513168e+02 -4.28602930e+01  1.30403415e+02\n",
      "  -2.51011595e+01  2.34501002e+02 -3.68464088e+02  1.10686453e+02\n",
      "   6.79178011e+01  6.79178011e+01 -5.59302687e+01 -7.36871394e+01\n",
      "  -9.52666886e+00]\n",
      " [-1.28503672e+02 -5.46139683e+01  1.38525997e+02  9.98673343e+01\n",
      "  -5.44558147e+01 -4.28602930e+01  9.69116226e+02 -1.13048674e+03\n",
      "   7.41057920e+01 -1.26568744e+02 -4.05189853e+01  5.99522958e+01\n",
      "  -3.28275963e+01 -3.28275963e+01 -4.85587118e+01  1.69093762e+03\n",
      "  -4.95515397e+01]\n",
      " [ 3.06714187e+01  1.25198569e+02 -2.21180062e+02 -1.96894666e+02\n",
      "  -1.73037808e+01  1.30403415e+02 -1.13048674e+03  1.96637787e+03\n",
      "  -8.10996504e+01  2.05538585e+02  1.90472192e+01  1.23307254e+01\n",
      "   9.53087040e+01  9.53087040e+01  5.67019198e+01 -2.44224851e+03\n",
      "  -1.87262997e+01]\n",
      " [-2.45922377e+02 -4.87320974e+02 -1.83576989e+01  3.82598162e+01\n",
      "  -3.95421343e+02 -2.51011595e+01  7.41057920e+01 -8.10996504e+01\n",
      "   1.85468825e+03 -8.07803142e+02 -1.35017599e+02  8.31625155e+02\n",
      "  -4.84592453e+02 -4.84592453e+02 -1.28805493e+02 -1.66308705e+02\n",
      "  -3.85402899e+02]\n",
      " [-2.80626492e+02  3.70700843e+02 -1.86976551e+02 -2.61967990e+01\n",
      "   1.69421127e+02  2.34501002e+02 -1.26568744e+02  2.05538585e+02\n",
      "  -8.07803142e+02  1.16068422e+03 -4.86633448e+01 -4.60414639e+02\n",
      "   3.54665887e+02  3.54665887e+02  3.02727513e+01  8.36986786e+01\n",
      "   1.83182425e+02]\n",
      " [ 4.24569102e+01  1.29833041e+00  9.05996815e+01 -1.15895210e+01\n",
      "   5.48467303e+01 -3.68464088e+02 -4.05189853e+01  1.90472192e+01\n",
      "  -1.35017599e+02 -4.86633448e+01  3.12861309e+02 -9.74573728e+01\n",
      "   1.22042952e+01  1.22042952e+01  1.76891437e+02 -5.50125701e+01\n",
      "   3.58567698e+01]\n",
      " [-1.95531781e+02 -1.98627889e+02 -4.67584118e+01 -5.41820452e+01\n",
      "  -1.99206260e+02  1.10686453e+02  5.99522958e+01  1.23307254e+01\n",
      "   8.31625155e+02 -4.60414639e+02 -9.74573728e+01  7.53996204e+02\n",
      "  -2.00138123e+02 -2.00138123e+02 -5.36461794e+01  3.22738178e+01\n",
      "  -1.89578515e+02]\n",
      " [-4.06061802e+01  2.12226027e+02 -6.03836054e+01 -9.40175219e+01\n",
      "   9.84411472e+01  6.79178011e+01 -3.28275963e+01  9.53087040e+01\n",
      "  -4.84592453e+02  3.54665887e+02  1.22042952e+01 -2.00138123e+02\n",
      "   2.05974290e+02  2.05974290e+02  3.24806147e+01  3.34226037e+01\n",
      "   9.79123919e+01]\n",
      " [-4.06061802e+01  2.12226027e+02 -6.03836054e+01 -9.40175219e+01\n",
      "   9.84411472e+01  6.79178011e+01 -3.28275963e+01  9.53087040e+01\n",
      "  -4.84592453e+02  3.54665887e+02  1.22042952e+01 -2.00138123e+02\n",
      "   2.05974290e+02  2.05974290e+02  3.24806147e+01  3.34226037e+01\n",
      "   9.79123919e+01]\n",
      " [-1.31425236e+01  3.08590926e+01  8.73778333e+00 -4.48598759e+01\n",
      "   3.39093073e+01 -5.59302687e+01 -4.85587118e+01  5.67019198e+01\n",
      "  -1.28805493e+02  3.02727513e+01  1.76891437e+02 -5.36461794e+01\n",
      "   3.24806147e+01  3.24806147e+01  1.46779391e+02 -6.88656536e+01\n",
      "   2.95961385e+01]\n",
      " [-2.93553804e+02  2.25368905e+01  2.08951459e+01  5.34139233e+01\n",
      "  -7.96400234e+00 -7.36871394e+01  1.69093762e+03 -2.44224851e+03\n",
      "  -1.66308705e+02  8.36986786e+01 -5.50125701e+01  3.22738178e+01\n",
      "   3.34226037e+01  3.34226037e+01 -6.88656536e+01  6.74342095e+03\n",
      "  -3.24761808e+00]\n",
      " [ 4.50524394e+01  1.01081744e+02 -1.69685424e+01 -2.63404083e+01\n",
      "   2.29130580e+02 -9.52666886e+00 -4.95515397e+01 -1.87262997e+01\n",
      "  -3.85402899e+02  1.83182425e+02  3.58567698e+01 -1.89578515e+02\n",
      "   9.79123919e+01  9.79123919e+01  2.95961385e+01 -3.24761808e+00\n",
      "   2.24096975e+02]]\n",
      "[[-1.64514423e-04]\n",
      " [-5.45772772e-05]\n",
      " [-2.38059499e-05]\n",
      " [-8.05320025e-05]\n",
      " [-1.80043182e-05]\n",
      " [-2.27398177e-05]\n",
      " [-3.13218108e-05]\n",
      " [-1.52529300e-05]\n",
      " [-6.19554737e-05]\n",
      " [-6.18597435e-05]\n",
      " [-6.03859676e-05]\n",
      " [-9.50962293e-05]\n",
      " [-5.34201924e-05]\n",
      " [-5.34201924e-05]\n",
      " [-6.02925268e-05]\n",
      " [-8.37184373e-06]\n",
      " [-1.82802140e-05]]\n",
      "[[-0.00102903]\n",
      " [-0.00032955]\n",
      " [ 0.00759491]\n",
      " [ 0.00150493]\n",
      " [-0.00091916]\n",
      " [ 0.00979822]\n",
      " [-0.00520666]\n",
      " [ 0.00917903]\n",
      " [ 0.00312505]\n",
      " [ 0.00614586]\n",
      " [-0.01032247]\n",
      " [-0.01355852]\n",
      " [ 0.00070882]\n",
      " [ 0.00070882]\n",
      " [-0.00655712]\n",
      " [-0.02206316]\n",
      " [-0.00037999]]\n",
      "[[ 4.24578609e+02 -1.24841206e+01 -1.24195419e+02 -4.74124663e+01\n",
      "   6.34641251e+01 -1.52393121e+02 -1.29105885e+02  3.13427617e+01\n",
      "  -2.46276202e+02 -2.81046657e+02  4.26075484e+01 -1.95774670e+02\n",
      "  -4.06770835e+01 -4.06770835e+01 -1.31015655e+01 -2.95823714e+02\n",
      "   4.51139509e+01]\n",
      " [-1.24841206e+01  2.34589541e+02 -1.73887970e+02 -1.37165225e+02\n",
      "   1.02550076e+02  9.73638263e+01 -5.45792687e+01  1.25197434e+02\n",
      "  -4.87985303e+02  3.71254689e+02  1.26721084e+00 -1.98886529e+02\n",
      "   2.12526562e+02  2.12526562e+02  3.08822964e+01  2.30256580e+01\n",
      "   1.01209609e+02]\n",
      " [-1.24195419e+02 -1.73887970e+02  8.30277809e+02  3.16467826e+02\n",
      "  -1.93561146e+01 -2.53755943e+02  1.38438885e+02 -2.21039904e+02\n",
      "  -1.82863277e+01 -1.87352563e+02  9.06656052e+01 -4.69809358e+01\n",
      "  -6.04927899e+01 -6.04927899e+01  8.71004308e+00  1.96877943e+01\n",
      "  -1.69903571e+01]\n",
      " [-4.74124663e+01 -1.37165225e+02  3.16467826e+02  3.38681332e+02\n",
      "  -3.45293372e+01 -1.15015655e+02  9.99516388e+01 -1.97112062e+02\n",
      "   3.83923455e+01 -2.63156310e+01 -1.16540981e+01 -5.42470505e+01\n",
      "  -9.41678718e+01 -9.41678718e+01 -4.49525088e+01  5.31506348e+01\n",
      "  -2.63777558e+01]\n",
      " [ 6.34641251e+01  1.02550076e+02 -1.93561146e+01 -3.45293372e+01\n",
      "   2.37181898e+02 -5.23934875e+01 -5.44920797e+01 -1.74150388e+01\n",
      "  -3.95932199e+02  1.69620050e+02  5.49324895e+01 -1.99439063e+02\n",
      "   9.85637636e+01  9.85637636e+01  3.39607984e+01 -7.72006909e+00\n",
      "   2.29394243e+02]\n",
      " [-1.52393121e+02  9.73638263e+01 -2.53755943e+02 -1.15015655e+02\n",
      "  -5.23934875e+01  9.33026730e+02 -4.29152141e+01  1.30559967e+02\n",
      "  -2.50234413e+01  2.35108586e+02 -3.69414855e+02  1.10736873e+02\n",
      "   6.80562106e+01  6.80562106e+01 -5.63459667e+01 -7.39536661e+01\n",
      "  -9.54068928e+00]\n",
      " [-1.29105885e+02 -5.45792687e+01  1.38438885e+02  9.99516388e+01\n",
      "  -5.44920797e+01 -4.29152141e+01  9.72658192e+02 -1.13529197e+03\n",
      "   7.38584038e+01 -1.26465494e+02 -4.05099610e+01  6.00592776e+01\n",
      "  -3.27879086e+01 -3.27879086e+01 -4.85581149e+01  1.70327488e+03\n",
      "  -4.95743429e+01]\n",
      " [ 3.13427617e+01  1.25197434e+02 -2.21039904e+02 -1.97112062e+02\n",
      "  -1.74150388e+01  1.30559967e+02 -1.13529197e+03  1.97387440e+03\n",
      "  -8.06257208e+01  2.05390418e+02  1.89878034e+01  1.23001126e+01\n",
      "   9.53078604e+01  9.53078604e+01  5.66845309e+01 -2.46058984e+03\n",
      "  -1.88507587e+01]\n",
      " [-2.46276202e+02 -4.87985303e+02 -1.82863277e+01  3.83923455e+01\n",
      "  -3.95932199e+02 -2.50234413e+01  7.38584038e+01 -8.06257208e+01\n",
      "   1.85718328e+03 -8.08830524e+02 -1.35239767e+02  8.32656972e+02\n",
      "  -4.85239718e+02 -4.85239718e+02 -1.28982098e+02 -1.68002815e+02\n",
      "  -3.85892001e+02]\n",
      " [-2.81046657e+02  3.71254689e+02 -1.87352563e+02 -2.63156310e+01\n",
      "   1.69620050e+02  2.35108586e+02 -1.26465494e+02  2.05390418e+02\n",
      "  -8.08830524e+02  1.16237761e+03 -4.90024367e+01 -4.61125923e+02\n",
      "   3.55182931e+02  3.55182931e+02  3.01497096e+01  8.49563192e+01\n",
      "   1.83411624e+02]\n",
      " [ 4.26075484e+01  1.26721084e+00  9.06656052e+01 -1.16540981e+01\n",
      "   5.49324895e+01 -3.69414855e+02 -4.05099610e+01  1.89878034e+01\n",
      "  -1.35239767e+02 -4.90024367e+01  3.13701823e+02 -9.74545210e+01\n",
      "   1.21777326e+01  1.21777326e+01  1.77377987e+02 -5.46949814e+01\n",
      "   3.58920954e+01]\n",
      " [-1.95774670e+02 -1.98886529e+02 -4.69809358e+01 -5.42470505e+01\n",
      "  -1.99439063e+02  1.10736873e+02  6.00592776e+01  1.23001126e+01\n",
      "   8.32656972e+02 -4.61125923e+02 -9.74545210e+01  7.55324521e+02\n",
      "  -2.00420573e+02 -2.00420573e+02 -5.36246596e+01  3.24225402e+01\n",
      "  -1.89803477e+02]\n",
      " [-4.06770835e+01  2.12526562e+02 -6.04927899e+01 -9.41678718e+01\n",
      "   9.85637636e+01  6.80562106e+01 -3.27879086e+01  9.53078604e+01\n",
      "  -4.85239718e+02  3.55182931e+02  1.21777326e+01 -2.00420573e+02\n",
      "   2.06263185e+02  2.06263185e+02  3.24990783e+01  3.38142756e+01\n",
      "   9.80360777e+01]\n",
      " [-4.06770835e+01  2.12526562e+02 -6.04927899e+01 -9.41678718e+01\n",
      "   9.85637636e+01  6.80562106e+01 -3.27879086e+01  9.53078604e+01\n",
      "  -4.85239718e+02  3.55182931e+02  1.21777326e+01 -2.00420573e+02\n",
      "   2.06263185e+02  2.06263185e+02  3.24990783e+01  3.38142756e+01\n",
      "   9.80360777e+01]\n",
      " [-1.31015655e+01  3.08822964e+01  8.71004308e+00 -4.49525088e+01\n",
      "   3.39607984e+01 -5.63459667e+01 -4.85581149e+01  5.66845309e+01\n",
      "  -1.28982098e+02  3.01497096e+01  1.77377987e+02 -5.36246596e+01\n",
      "   3.24990783e+01  3.24990783e+01  1.47102565e+02 -6.86192719e+01\n",
      "   2.96236373e+01]\n",
      " [-2.95823714e+02  2.30256580e+01  1.96877943e+01  5.31506348e+01\n",
      "  -7.72006909e+00 -7.39536661e+01  1.70327488e+03 -2.46058984e+03\n",
      "  -1.68002815e+02  8.49563192e+01 -5.46949814e+01  3.24225402e+01\n",
      "   3.38142756e+01  3.38142756e+01 -6.86192719e+01  6.79815011e+03\n",
      "  -2.98091603e+00]\n",
      " [ 4.51139509e+01  1.01209609e+02 -1.69903571e+01 -2.63777558e+01\n",
      "   2.29394243e+02 -9.54068928e+00 -4.95743429e+01 -1.88507587e+01\n",
      "  -3.85892001e+02  1.83411624e+02  3.58920954e+01 -1.89803477e+02\n",
      "   9.80360777e+01  9.80360777e+01  2.96236373e+01 -2.98091603e+00\n",
      "   2.24354251e+02]]\n",
      "[[-3.47962526e-07]\n",
      " [-1.13593347e-07]\n",
      " [-5.41359508e-08]\n",
      " [-1.65684221e-07]\n",
      " [-3.85636374e-08]\n",
      " [-5.05254210e-08]\n",
      " [-6.60579863e-08]\n",
      " [-3.73004570e-08]\n",
      " [-1.36155105e-07]\n",
      " [-1.29848625e-07]\n",
      " [-1.29474223e-07]\n",
      " [-1.88216392e-07]\n",
      " [-1.11644008e-07]\n",
      " [-1.11644008e-07]\n",
      " [-1.29880881e-07]\n",
      " [-3.02116258e-08]\n",
      " [-3.90881030e-08]]\n",
      "[[ 1.86248582e-07]\n",
      " [-7.15653394e-07]\n",
      " [ 1.46200687e-05]\n",
      " [ 2.92407876e-06]\n",
      " [-2.05717978e-06]\n",
      " [ 2.21997373e-05]\n",
      " [-2.61532800e-05]\n",
      " [ 4.09068819e-05]\n",
      " [ 8.62792563e-06]\n",
      " [ 1.17664449e-05]\n",
      " [-2.24379067e-05]\n",
      " [-2.49691407e-05]\n",
      " [ 1.22364235e-06]\n",
      " [ 1.22364235e-06]\n",
      " [-1.40156924e-05]\n",
      " [-1.17334086e-04]\n",
      " [-9.05747286e-07]]\n",
      "5\n"
     ]
    }
   ],
   "source": [
    "th3=newt_method(x2,y2)"
   ]
  },
  {
   "cell_type": "code",
   "execution_count": 190,
   "id": "66cc6223",
   "metadata": {},
   "outputs": [
    {
     "data": {
      "text/plain": [
       "array([[-0.20990994],\n",
       "       [ 0.36616037],\n",
       "       [-3.82426476],\n",
       "       [-0.57025062],\n",
       "       [ 0.35014879],\n",
       "       [-2.65286273],\n",
       "       [ 1.61001612],\n",
       "       [-4.03675705],\n",
       "       [-0.50413675],\n",
       "       [-1.48436018],\n",
       "       [ 3.21972953],\n",
       "       [ 5.92565295],\n",
       "       [-0.13613219],\n",
       "       [-0.13613219],\n",
       "       [ 2.17543372],\n",
       "       [ 2.45340314],\n",
       "       [ 0.20736197]])"
      ]
     },
     "execution_count": 190,
     "metadata": {},
     "output_type": "execute_result"
    }
   ],
   "source": [
    "th3"
   ]
  },
  {
   "cell_type": "code",
   "execution_count": 201,
   "id": "6146b4ba",
   "metadata": {},
   "outputs": [
    {
     "data": {
      "text/plain": [
       "224"
      ]
     },
     "execution_count": 201,
     "metadata": {},
     "output_type": "execute_result"
    }
   ],
   "source": [
    "c=0\n",
    "my_ans=1.0/(1.0+np.exp(-1*te2@th3))\n",
    "for i in range(319):\n",
    "    if (my_ans[i]>=0.55 and teans2[i]==1.0):\n",
    "        c+=1\n",
    "    elif (my_ans[i]<0.55 and teans2[i]==0.0):\n",
    "        c+=1\n",
    "c"
   ]
  },
  {
   "cell_type": "code",
   "execution_count": 202,
   "id": "fbbc096f",
   "metadata": {},
   "outputs": [
    {
     "data": {
      "text/plain": [
       "0.7021943573667712"
      ]
     },
     "execution_count": 202,
     "metadata": {},
     "output_type": "execute_result"
    }
   ],
   "source": [
    "224/319"
   ]
  },
  {
   "cell_type": "code",
   "execution_count": 146,
   "id": "92720a03",
   "metadata": {},
   "outputs": [
    {
     "data": {
      "text/plain": [
       "array([0, 1, 2])"
      ]
     },
     "execution_count": 146,
     "metadata": {},
     "output_type": "execute_result"
    }
   ],
   "source": [
    "a=np.array([1,2,3])\n",
    "a-1"
   ]
  },
  {
   "cell_type": "code",
   "execution_count": 203,
   "id": "1cfaf5a1",
   "metadata": {},
   "outputs": [],
   "source": [
    "def av_hval(x,th):\n",
    "    n_row=x.shape[0]\n",
    "    out=1.0/(1.0+np.exp(-1*x@th))\n",
    "    return(np.sum(out)/n_row)"
   ]
  },
  {
   "cell_type": "code",
   "execution_count": 204,
   "id": "6fbc430f",
   "metadata": {},
   "outputs": [],
   "source": [
    "av=av_hval(x2,th3)"
   ]
  },
  {
   "cell_type": "code",
   "execution_count": 210,
   "id": "7ee18835",
   "metadata": {},
   "outputs": [
    {
     "data": {
      "text/plain": [
       "0.5722178374094099"
      ]
     },
     "execution_count": 210,
     "metadata": {},
     "output_type": "execute_result"
    }
   ],
   "source": [
    "av"
   ]
  },
  {
   "cell_type": "code",
   "execution_count": 211,
   "id": "4d7e134b",
   "metadata": {},
   "outputs": [
    {
     "data": {
      "text/plain": [
       "223"
      ]
     },
     "execution_count": 211,
     "metadata": {},
     "output_type": "execute_result"
    }
   ],
   "source": [
    "c=0\n",
    "my_ans=1.0/(1.0+np.exp(-1*te2@th3))\n",
    "for i in range(319):\n",
    "    if (my_ans[i]>=av and teans2[i]==1.0):\n",
    "        c+=1\n",
    "    elif (my_ans[i]<av and teans2[i]==0.0):\n",
    "        c+=1\n",
    "c"
   ]
  },
  {
   "cell_type": "code",
   "execution_count": 212,
   "id": "fb81f21b",
   "metadata": {},
   "outputs": [
    {
     "data": {
      "text/plain": [
       "0.6990595611285266"
      ]
     },
     "execution_count": 212,
     "metadata": {},
     "output_type": "execute_result"
    }
   ],
   "source": [
    "223/319"
   ]
  },
  {
   "cell_type": "code",
   "execution_count": 1,
   "id": "ed83b32f",
   "metadata": {},
   "outputs": [
    {
     "name": "stdout",
     "output_type": "stream",
     "text": [
      "Object `np.percentile` not found.\n"
     ]
    }
   ],
   "source": [
    "np.percentile?"
   ]
  },
  {
   "cell_type": "code",
   "execution_count": null,
   "id": "d5c65f4c",
   "metadata": {},
   "outputs": [],
   "source": []
  }
 ],
 "metadata": {
  "kernelspec": {
   "display_name": "Python 3 (ipykernel)",
   "language": "python",
   "name": "python3"
  },
  "language_info": {
   "codemirror_mode": {
    "name": "ipython",
    "version": 3
   },
   "file_extension": ".py",
   "mimetype": "text/x-python",
   "name": "python",
   "nbconvert_exporter": "python",
   "pygments_lexer": "ipython3",
   "version": "3.9.7"
  }
 },
 "nbformat": 4,
 "nbformat_minor": 5
}
