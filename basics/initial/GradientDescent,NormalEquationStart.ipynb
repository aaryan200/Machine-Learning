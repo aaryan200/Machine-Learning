{
 "cells": [
  {
   "cell_type": "code",
   "execution_count": 1,
   "id": "1b007ce8",
   "metadata": {},
   "outputs": [
    {
     "data": {
      "text/plain": [
       "array([[40. ],\n",
       "       [33. ],\n",
       "       [44.8],\n",
       "       [23.2],\n",
       "       [54. ]])"
      ]
     },
     "execution_count": 1,
     "metadata": {},
     "output_type": "execute_result"
    }
   ],
   "source": [
    "import numpy as np\n",
    "area=np.array([2.104,1.600,2.400,1.416,3.000])#thousand sq feet\n",
    "area.reshape(5,1)\n",
    "price=np.array([40.0,33.0,44.8,23.2,54.0]) #10000$\n",
    "price.reshape(5,1)"
   ]
  },
  {
   "cell_type": "code",
   "execution_count": 41,
   "id": "af5ed5d4",
   "metadata": {},
   "outputs": [],
   "source": [
    "areat=np.array([2.104,1.600,2.400,1.416,3.000])\n",
    "def res(th,dat_area,dat_price):\n",
    "    import numpy as np\n",
    "    m=dat_area.shape[0]\n",
    "    n=th.shape[0]-1\n",
    "    out=0.0\n",
    "    for i in range(m):\n",
    "        s=0.0\n",
    "        for j in range(n+1):\n",
    "            s+=th[j]*dat_area[i]\n",
    "        out+=((s-dat_price[i])**2)/2\n",
    "    return out\n",
    "def sing_pred_cost(dat_area,dat_price,req_area):\n",
    "    \"\"\"\n",
    "    Return required price corresponding to req_area\n",
    "    \"\"\"\n",
    "    import numpy as np\n",
    "    m=dat_area.shape[0]\n",
    "    th=np.array([0.0,0.0])\n",
    "    j0=res(th,dat_area,dat_price)\n",
    "    residual=j0\n",
    "    while (abs(residual)>1.0e-7):\n",
    "#         temp=0\n",
    "#         for i in range(m):\n",
    "#             temp+=th[0]+th[1]*dat_area[i]-dat_price[i]\n",
    "        for j in range(2):\n",
    "            if j==0:\n",
    "                temp=0.0\n",
    "                for i in range(m):\n",
    "                    temp+=th[0]+th[1]*dat_area[i]-dat_price[i]\n",
    "                th[j]=th[j]-0.001*temp\n",
    "            else:\n",
    "                temp=0.0\n",
    "                for i in range(m):\n",
    "                    temp+=(th[0]+th[1]*dat_area[i]-dat_price[i])*dat_area[i]\n",
    "                th[j]=th[j]-0.001*temp\n",
    "        j1=res(th,dat_area,dat_price)\n",
    "        residual=j1-j0\n",
    "        j0=j1\n",
    "    return(th[0]+th[1]*req_area)"
   ]
  },
  {
   "cell_type": "code",
   "execution_count": 42,
   "id": "63855414",
   "metadata": {},
   "outputs": [
    {
     "data": {
      "text/plain": [
       "33.540983959916126"
      ]
     },
     "execution_count": 42,
     "metadata": {},
     "output_type": "execute_result"
    }
   ],
   "source": [
    "pred_cost(areat,price,1.8)"
   ]
  },
  {
   "cell_type": "code",
   "execution_count": 7,
   "id": "6b621509",
   "metadata": {},
   "outputs": [
    {
     "data": {
      "text/plain": [
       "9000000"
      ]
     },
     "execution_count": 7,
     "metadata": {},
     "output_type": "execute_result"
    }
   ],
   "source": [
    "3000**2"
   ]
  },
  {
   "cell_type": "code",
   "execution_count": 22,
   "id": "1575aba9",
   "metadata": {},
   "outputs": [
    {
     "data": {
      "text/plain": [
       "(5,)"
      ]
     },
     "execution_count": 22,
     "metadata": {},
     "output_type": "execute_result"
    }
   ],
   "source": [
    "price.shape"
   ]
  },
  {
   "cell_type": "code",
   "execution_count": 50,
   "id": "9136201d",
   "metadata": {},
   "outputs": [],
   "source": [
    "#area=np.array([[1,1,1,1,1],[2.104,1.600,2.400,1.416,3.000]])\n",
    "area=np.array([[1,2.104],[1,1.6],[1,2.4],[1,1.416],[1,3.0]])\n",
    "def normal_eqn(dat_area,dat_price,req_par):\n",
    "    area_tr=np.transpose(dat_area)\n",
    "    temp1=(area_tr)@dat_area\n",
    "    temp2=(area_tr)@dat_price\n",
    "    th=(np.linalg.inv(temp1))@temp2\n",
    "    return(hval(th,req_par))"
   ]
  },
  {
   "cell_type": "code",
   "execution_count": 44,
   "id": "ae962d63",
   "metadata": {},
   "outputs": [
    {
     "data": {
      "text/plain": [
       "array([37.13243928])"
      ]
     },
     "execution_count": 44,
     "metadata": {},
     "output_type": "execute_result"
    }
   ],
   "source": [
    "normal_eqn(area,price,2)"
   ]
  },
  {
   "cell_type": "code",
   "execution_count": 31,
   "id": "3165167b",
   "metadata": {},
   "outputs": [],
   "source": [
    "price=price.reshape(5,1)"
   ]
  },
  {
   "cell_type": "code",
   "execution_count": 32,
   "id": "64648f8b",
   "metadata": {},
   "outputs": [
    {
     "data": {
      "text/plain": [
       "(5, 1)"
      ]
     },
     "execution_count": 32,
     "metadata": {},
     "output_type": "execute_result"
    }
   ],
   "source": [
    "price.shape"
   ]
  },
  {
   "cell_type": "code",
   "execution_count": 33,
   "id": "7126ee11",
   "metadata": {},
   "outputs": [
    {
     "data": {
      "text/plain": [
       "(2, 5)"
      ]
     },
     "execution_count": 33,
     "metadata": {},
     "output_type": "execute_result"
    }
   ],
   "source": [
    "area.shape"
   ]
  },
  {
   "cell_type": "code",
   "execution_count": 36,
   "id": "e6b02c3d",
   "metadata": {},
   "outputs": [
    {
     "data": {
      "text/plain": [
       "array([[195.    ],\n",
       "       [439.3312]])"
      ]
     },
     "execution_count": 36,
     "metadata": {},
     "output_type": "execute_result"
    }
   ],
   "source": [
    "area@price"
   ]
  },
  {
   "cell_type": "code",
   "execution_count": 37,
   "id": "04df9587",
   "metadata": {},
   "outputs": [
    {
     "data": {
      "text/plain": [
       "array([[1.   , 2.104],\n",
       "       [1.   , 1.6  ],\n",
       "       [1.   , 2.4  ],\n",
       "       [1.   , 1.416],\n",
       "       [1.   , 3.   ]])"
      ]
     },
     "execution_count": 37,
     "metadata": {},
     "output_type": "execute_result"
    }
   ],
   "source": [
    "np.transpose(area)"
   ]
  },
  {
   "cell_type": "code",
   "execution_count": 4,
   "id": "ccf56953",
   "metadata": {},
   "outputs": [],
   "source": [
    "np.loadtxt?"
   ]
  },
  {
   "cell_type": "markdown",
   "id": "7e161b08",
   "metadata": {},
   "source": [
    "# Read matrix from file"
   ]
  },
  {
   "cell_type": "code",
   "execution_count": 6,
   "id": "ecfcf487",
   "metadata": {},
   "outputs": [],
   "source": [
    "inp = np.loadtxt(\"../Epoch/Selection_Hackathon/Dataset.csv\", delimiter=',',skiprows=1)\n",
    "#print(inp)"
   ]
  },
  {
   "cell_type": "code",
   "execution_count": 7,
   "id": "dfc06679",
   "metadata": {},
   "outputs": [
    {
     "data": {
      "text/plain": [
       "(1599, 17)"
      ]
     },
     "execution_count": 7,
     "metadata": {},
     "output_type": "execute_result"
    }
   ],
   "source": [
    "inp.shape"
   ]
  },
  {
   "cell_type": "code",
   "execution_count": 8,
   "id": "3c4b9647",
   "metadata": {},
   "outputs": [
    {
     "name": "stdout",
     "output_type": "stream",
     "text": [
      "[[ 7.4         0.7         0.         ...  0.636      30.90909091\n",
      "   0.608     ]\n",
      " [ 7.8         0.88        0.         ...  0.778      26.8\n",
      "   0.829     ]\n",
      " [ 7.8         0.76        0.04       ...  0.742      36.\n",
      "   0.744     ]\n",
      " ...\n",
      " [ 6.3         0.51        0.13       ...  0.826      13.79310345\n",
      "   0.754     ]\n",
      " [ 5.9         0.645       0.12       ...  0.785      13.75\n",
      "   0.6615    ]\n",
      " [ 6.          0.31        0.47       ...  0.727      23.33333333\n",
      "   1.2075    ]]\n"
     ]
    }
   ],
   "source": [
    "print(inp)"
   ]
  },
  {
   "cell_type": "code",
   "execution_count": 32,
   "id": "fb657735",
   "metadata": {},
   "outputs": [
    {
     "data": {
      "text/plain": [
       "(5,)"
      ]
     },
     "execution_count": 32,
     "metadata": {},
     "output_type": "execute_result"
    }
   ],
   "source": [
    "par=np.array([[1,2.104,3],[1,1.6,3],[1,2.4,3],[1,1.416,2],[1,3.0,4]])\n",
    "price=np.array([40.0,33.0,44.8,23.2,54.0]) #10000$\n",
    "#price=price.reshape(5,1)\n",
    "price.shape"
   ]
  },
  {
   "cell_type": "code",
   "execution_count": 52,
   "id": "3e8e9df0",
   "metadata": {},
   "outputs": [],
   "source": [
    "def mul_res(th,train_par,train_val):\n",
    "    import numpy as np\n",
    "    m=train_par.shape[0]\n",
    "    n=train_par.shape[1]\n",
    "    out=0.0\n",
    "    for i in range(m):\n",
    "        s=0.0\n",
    "        for j in range(n):\n",
    "            s+=th[j]*train_par[i][j]\n",
    "        out+=((s-train_val[i])**2)/2\n",
    "    return out\n",
    "\n",
    "def hval(th,par):\n",
    "    n=par.shape[0]\n",
    "    out=th[0]\n",
    "    for i in range(n):\n",
    "        out+=th[i]*par[i]\n",
    "    return out\n",
    "def pred_cost(train_par,train_val,req_par):\n",
    "    \"\"\"\n",
    "    Return required price corresponding to required parameters\n",
    "    \"\"\"\n",
    "    import numpy as np\n",
    "    m=train_par.shape[0]\n",
    "    n=train_par.shape[1]\n",
    "    th=np.zeros(n+1)\n",
    "    #th=np.array([0.0,0.0])\n",
    "    j0=mul_res(th,train_par,train_val)\n",
    "    residual=j0\n",
    "    while (abs(residual)>1.0e-7):\n",
    "#         temp=0\n",
    "#         for i in range(m):\n",
    "#             temp+=th[0]+th[1]*dat_area[i]-dat_price[i]\n",
    "        for j in range(n):\n",
    "            if j==0:\n",
    "                temp=0.0\n",
    "#                 for i in range(m):\n",
    "#                     temp+=th[0]+th[1]*dat_area[i]-dat_price[i]\n",
    "                for i in range(m):\n",
    "                    temp+=hval(th,train_par[i])-train_val[i]\n",
    "                th[j]=th[j]-1.0e-7*temp\n",
    "            else:\n",
    "                temp=0.0\n",
    "                for i in range(m):\n",
    "                    temp+=(hval(th,train_par[i])-train_val[i])*train_par[i][j]\n",
    "                th[j]=th[j]-1.0e-7*temp\n",
    "        j1=mul_res(th,train_par,train_val)\n",
    "        residual=j1-j0\n",
    "        j0=j1\n",
    "    return(hval(th,req_par))"
   ]
  },
  {
   "cell_type": "code",
   "execution_count": 56,
   "id": "a5e8e00f",
   "metadata": {},
   "outputs": [
    {
     "data": {
      "text/plain": [
       "40.064631293438616"
      ]
     },
     "execution_count": 56,
     "metadata": {},
     "output_type": "execute_result"
    }
   ],
   "source": [
    "req_par=np.array([1,2.2,3])\n",
    "pred_cost(par,price,req_par)"
   ]
  },
  {
   "cell_type": "code",
   "execution_count": 38,
   "id": "2ef4a570",
   "metadata": {},
   "outputs": [
    {
     "data": {
      "text/plain": [
       "4075.14"
      ]
     },
     "execution_count": 38,
     "metadata": {},
     "output_type": "execute_result"
    }
   ],
   "source": [
    "mul_res(np.zeros(3),par,price)"
   ]
  },
  {
   "cell_type": "code",
   "execution_count": 55,
   "id": "8b1d0739",
   "metadata": {},
   "outputs": [
    {
     "data": {
      "text/plain": [
       "-8384.0"
      ]
     },
     "execution_count": 55,
     "metadata": {},
     "output_type": "execute_result"
    }
   ],
   "source": [
    "x = np.array([[1,2104,5,1,45],[1,1416,3,2,40],[1,1534,3,2,30],[1,852,2,1,36]])\n",
    "y=np.array([460,232,315,178])\n",
    "normal_eqn(x,y,np.array([1,1000,3,4,35]))"
   ]
  },
  {
   "cell_type": "code",
   "execution_count": null,
   "id": "7a077bf3",
   "metadata": {},
   "outputs": [],
   "source": []
  }
 ],
 "metadata": {
  "kernelspec": {
   "display_name": "Python 3 (ipykernel)",
   "language": "python",
   "name": "python3"
  },
  "language_info": {
   "codemirror_mode": {
    "name": "ipython",
    "version": 3
   },
   "file_extension": ".py",
   "mimetype": "text/x-python",
   "name": "python",
   "nbconvert_exporter": "python",
   "pygments_lexer": "ipython3",
   "version": "3.9.7"
  }
 },
 "nbformat": 4,
 "nbformat_minor": 5
}
