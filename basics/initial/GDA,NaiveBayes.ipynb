{
 "cells": [
  {
   "cell_type": "code",
   "execution_count": 1,
   "id": "db278ee2",
   "metadata": {},
   "outputs": [],
   "source": [
    "import numpy as np\n",
    "import matplotlib.pyplot as plt"
   ]
  },
  {
   "cell_type": "code",
   "execution_count": 57,
   "id": "c234db06",
   "metadata": {},
   "outputs": [],
   "source": [
    "import numpy as np\n",
    "import pandas as pd\n",
    "import matplotlib.pyplot as plt\n",
    "al=pd.read_csv(\"../Ubuntu_files/Epoch_Hackathon/Dataset.csv\")\n",
    "# Train:test ratio = 80:20\n",
    "# Therefore, I am taking 1280 training data and 319 test data\n",
    "# Here we are going to take index 960 to 1279 as test data and rest as training data\n",
    "x1=pd.concat([al[:640],al[959:]])"
   ]
  },
  {
   "cell_type": "code",
   "execution_count": 58,
   "id": "1a9b4cf1",
   "metadata": {},
   "outputs": [
    {
     "data": {
      "text/html": [
       "<div>\n",
       "<style scoped>\n",
       "    .dataframe tbody tr th:only-of-type {\n",
       "        vertical-align: middle;\n",
       "    }\n",
       "\n",
       "    .dataframe tbody tr th {\n",
       "        vertical-align: top;\n",
       "    }\n",
       "\n",
       "    .dataframe thead th {\n",
       "        text-align: right;\n",
       "    }\n",
       "</style>\n",
       "<table border=\"1\" class=\"dataframe\">\n",
       "  <thead>\n",
       "    <tr style=\"text-align: right;\">\n",
       "      <th></th>\n",
       "      <th>fixed acidity</th>\n",
       "      <th>volatile acidity</th>\n",
       "      <th>citric acid</th>\n",
       "      <th>residual sugar</th>\n",
       "      <th>chlorides</th>\n",
       "      <th>free sulfur dioxide</th>\n",
       "      <th>total sulfur dioxide</th>\n",
       "      <th>density</th>\n",
       "      <th>pH</th>\n",
       "      <th>sulphates</th>\n",
       "      <th>alcohol</th>\n",
       "      <th>quality</th>\n",
       "      <th>k_value</th>\n",
       "      <th>l_value</th>\n",
       "      <th>m_value</th>\n",
       "      <th>percentage_free_sulphur</th>\n",
       "      <th>n_value</th>\n",
       "    </tr>\n",
       "  </thead>\n",
       "  <tbody>\n",
       "    <tr>\n",
       "      <th>0</th>\n",
       "      <td>7.4</td>\n",
       "      <td>0.700</td>\n",
       "      <td>0.00</td>\n",
       "      <td>1.9</td>\n",
       "      <td>0.076</td>\n",
       "      <td>11.0</td>\n",
       "      <td>34.0</td>\n",
       "      <td>0.99780</td>\n",
       "      <td>3.51</td>\n",
       "      <td>0.56</td>\n",
       "      <td>9.4</td>\n",
       "      <td>0</td>\n",
       "      <td>8.100</td>\n",
       "      <td>4.0500</td>\n",
       "      <td>0.636</td>\n",
       "      <td>30.909091</td>\n",
       "      <td>0.6080</td>\n",
       "    </tr>\n",
       "    <tr>\n",
       "      <th>1</th>\n",
       "      <td>7.8</td>\n",
       "      <td>0.880</td>\n",
       "      <td>0.00</td>\n",
       "      <td>2.6</td>\n",
       "      <td>0.098</td>\n",
       "      <td>25.0</td>\n",
       "      <td>67.0</td>\n",
       "      <td>0.99680</td>\n",
       "      <td>3.20</td>\n",
       "      <td>0.68</td>\n",
       "      <td>9.8</td>\n",
       "      <td>0</td>\n",
       "      <td>8.680</td>\n",
       "      <td>4.3400</td>\n",
       "      <td>0.778</td>\n",
       "      <td>26.800000</td>\n",
       "      <td>0.8290</td>\n",
       "    </tr>\n",
       "    <tr>\n",
       "      <th>2</th>\n",
       "      <td>7.8</td>\n",
       "      <td>0.760</td>\n",
       "      <td>0.04</td>\n",
       "      <td>2.3</td>\n",
       "      <td>0.092</td>\n",
       "      <td>15.0</td>\n",
       "      <td>54.0</td>\n",
       "      <td>0.99700</td>\n",
       "      <td>3.26</td>\n",
       "      <td>0.65</td>\n",
       "      <td>9.8</td>\n",
       "      <td>0</td>\n",
       "      <td>8.560</td>\n",
       "      <td>4.2800</td>\n",
       "      <td>0.742</td>\n",
       "      <td>36.000000</td>\n",
       "      <td>0.7440</td>\n",
       "    </tr>\n",
       "    <tr>\n",
       "      <th>3</th>\n",
       "      <td>11.2</td>\n",
       "      <td>0.280</td>\n",
       "      <td>0.56</td>\n",
       "      <td>1.9</td>\n",
       "      <td>0.075</td>\n",
       "      <td>17.0</td>\n",
       "      <td>60.0</td>\n",
       "      <td>0.99800</td>\n",
       "      <td>3.16</td>\n",
       "      <td>0.58</td>\n",
       "      <td>9.8</td>\n",
       "      <td>1</td>\n",
       "      <td>11.480</td>\n",
       "      <td>5.7400</td>\n",
       "      <td>0.655</td>\n",
       "      <td>35.294118</td>\n",
       "      <td>0.7195</td>\n",
       "    </tr>\n",
       "    <tr>\n",
       "      <th>4</th>\n",
       "      <td>7.4</td>\n",
       "      <td>0.700</td>\n",
       "      <td>0.00</td>\n",
       "      <td>1.9</td>\n",
       "      <td>0.076</td>\n",
       "      <td>11.0</td>\n",
       "      <td>34.0</td>\n",
       "      <td>0.99780</td>\n",
       "      <td>3.51</td>\n",
       "      <td>0.56</td>\n",
       "      <td>9.4</td>\n",
       "      <td>0</td>\n",
       "      <td>8.100</td>\n",
       "      <td>4.0500</td>\n",
       "      <td>0.636</td>\n",
       "      <td>30.909091</td>\n",
       "      <td>0.6080</td>\n",
       "    </tr>\n",
       "    <tr>\n",
       "      <th>...</th>\n",
       "      <td>...</td>\n",
       "      <td>...</td>\n",
       "      <td>...</td>\n",
       "      <td>...</td>\n",
       "      <td>...</td>\n",
       "      <td>...</td>\n",
       "      <td>...</td>\n",
       "      <td>...</td>\n",
       "      <td>...</td>\n",
       "      <td>...</td>\n",
       "      <td>...</td>\n",
       "      <td>...</td>\n",
       "      <td>...</td>\n",
       "      <td>...</td>\n",
       "      <td>...</td>\n",
       "      <td>...</td>\n",
       "      <td>...</td>\n",
       "    </tr>\n",
       "    <tr>\n",
       "      <th>1594</th>\n",
       "      <td>6.2</td>\n",
       "      <td>0.600</td>\n",
       "      <td>0.08</td>\n",
       "      <td>2.0</td>\n",
       "      <td>0.090</td>\n",
       "      <td>32.0</td>\n",
       "      <td>44.0</td>\n",
       "      <td>0.99490</td>\n",
       "      <td>3.45</td>\n",
       "      <td>0.58</td>\n",
       "      <td>10.5</td>\n",
       "      <td>0</td>\n",
       "      <td>6.800</td>\n",
       "      <td>3.4000</td>\n",
       "      <td>0.670</td>\n",
       "      <td>13.750000</td>\n",
       "      <td>0.6610</td>\n",
       "    </tr>\n",
       "    <tr>\n",
       "      <th>1595</th>\n",
       "      <td>5.9</td>\n",
       "      <td>0.550</td>\n",
       "      <td>0.10</td>\n",
       "      <td>2.2</td>\n",
       "      <td>0.062</td>\n",
       "      <td>39.0</td>\n",
       "      <td>51.0</td>\n",
       "      <td>0.99512</td>\n",
       "      <td>3.52</td>\n",
       "      <td>0.76</td>\n",
       "      <td>11.2</td>\n",
       "      <td>1</td>\n",
       "      <td>6.450</td>\n",
       "      <td>3.2250</td>\n",
       "      <td>0.822</td>\n",
       "      <td>13.076923</td>\n",
       "      <td>0.7110</td>\n",
       "    </tr>\n",
       "    <tr>\n",
       "      <th>1596</th>\n",
       "      <td>6.3</td>\n",
       "      <td>0.510</td>\n",
       "      <td>0.13</td>\n",
       "      <td>2.3</td>\n",
       "      <td>0.076</td>\n",
       "      <td>29.0</td>\n",
       "      <td>40.0</td>\n",
       "      <td>0.99574</td>\n",
       "      <td>3.42</td>\n",
       "      <td>0.75</td>\n",
       "      <td>11.0</td>\n",
       "      <td>1</td>\n",
       "      <td>6.810</td>\n",
       "      <td>3.4050</td>\n",
       "      <td>0.826</td>\n",
       "      <td>13.793103</td>\n",
       "      <td>0.7540</td>\n",
       "    </tr>\n",
       "    <tr>\n",
       "      <th>1597</th>\n",
       "      <td>5.9</td>\n",
       "      <td>0.645</td>\n",
       "      <td>0.12</td>\n",
       "      <td>2.0</td>\n",
       "      <td>0.075</td>\n",
       "      <td>32.0</td>\n",
       "      <td>44.0</td>\n",
       "      <td>0.99547</td>\n",
       "      <td>3.57</td>\n",
       "      <td>0.71</td>\n",
       "      <td>10.2</td>\n",
       "      <td>0</td>\n",
       "      <td>6.545</td>\n",
       "      <td>3.2725</td>\n",
       "      <td>0.785</td>\n",
       "      <td>13.750000</td>\n",
       "      <td>0.6615</td>\n",
       "    </tr>\n",
       "    <tr>\n",
       "      <th>1598</th>\n",
       "      <td>6.0</td>\n",
       "      <td>0.310</td>\n",
       "      <td>0.47</td>\n",
       "      <td>3.6</td>\n",
       "      <td>0.067</td>\n",
       "      <td>18.0</td>\n",
       "      <td>42.0</td>\n",
       "      <td>0.99549</td>\n",
       "      <td>3.39</td>\n",
       "      <td>0.66</td>\n",
       "      <td>11.0</td>\n",
       "      <td>1</td>\n",
       "      <td>6.310</td>\n",
       "      <td>3.1550</td>\n",
       "      <td>0.727</td>\n",
       "      <td>23.333333</td>\n",
       "      <td>1.2075</td>\n",
       "    </tr>\n",
       "  </tbody>\n",
       "</table>\n",
       "<p>1280 rows × 17 columns</p>\n",
       "</div>"
      ],
      "text/plain": [
       "      fixed acidity  volatile acidity  citric acid  residual sugar  chlorides  \\\n",
       "0               7.4             0.700         0.00             1.9      0.076   \n",
       "1               7.8             0.880         0.00             2.6      0.098   \n",
       "2               7.8             0.760         0.04             2.3      0.092   \n",
       "3              11.2             0.280         0.56             1.9      0.075   \n",
       "4               7.4             0.700         0.00             1.9      0.076   \n",
       "...             ...               ...          ...             ...        ...   \n",
       "1594            6.2             0.600         0.08             2.0      0.090   \n",
       "1595            5.9             0.550         0.10             2.2      0.062   \n",
       "1596            6.3             0.510         0.13             2.3      0.076   \n",
       "1597            5.9             0.645         0.12             2.0      0.075   \n",
       "1598            6.0             0.310         0.47             3.6      0.067   \n",
       "\n",
       "      free sulfur dioxide  total sulfur dioxide  density    pH  sulphates  \\\n",
       "0                    11.0                  34.0  0.99780  3.51       0.56   \n",
       "1                    25.0                  67.0  0.99680  3.20       0.68   \n",
       "2                    15.0                  54.0  0.99700  3.26       0.65   \n",
       "3                    17.0                  60.0  0.99800  3.16       0.58   \n",
       "4                    11.0                  34.0  0.99780  3.51       0.56   \n",
       "...                   ...                   ...      ...   ...        ...   \n",
       "1594                 32.0                  44.0  0.99490  3.45       0.58   \n",
       "1595                 39.0                  51.0  0.99512  3.52       0.76   \n",
       "1596                 29.0                  40.0  0.99574  3.42       0.75   \n",
       "1597                 32.0                  44.0  0.99547  3.57       0.71   \n",
       "1598                 18.0                  42.0  0.99549  3.39       0.66   \n",
       "\n",
       "      alcohol  quality  k_value  l_value  m_value  percentage_free_sulphur  \\\n",
       "0         9.4        0    8.100   4.0500    0.636                30.909091   \n",
       "1         9.8        0    8.680   4.3400    0.778                26.800000   \n",
       "2         9.8        0    8.560   4.2800    0.742                36.000000   \n",
       "3         9.8        1   11.480   5.7400    0.655                35.294118   \n",
       "4         9.4        0    8.100   4.0500    0.636                30.909091   \n",
       "...       ...      ...      ...      ...      ...                      ...   \n",
       "1594     10.5        0    6.800   3.4000    0.670                13.750000   \n",
       "1595     11.2        1    6.450   3.2250    0.822                13.076923   \n",
       "1596     11.0        1    6.810   3.4050    0.826                13.793103   \n",
       "1597     10.2        0    6.545   3.2725    0.785                13.750000   \n",
       "1598     11.0        1    6.310   3.1550    0.727                23.333333   \n",
       "\n",
       "      n_value  \n",
       "0      0.6080  \n",
       "1      0.8290  \n",
       "2      0.7440  \n",
       "3      0.7195  \n",
       "4      0.6080  \n",
       "...       ...  \n",
       "1594   0.6610  \n",
       "1595   0.7110  \n",
       "1596   0.7540  \n",
       "1597   0.6615  \n",
       "1598   1.2075  \n",
       "\n",
       "[1280 rows x 17 columns]"
      ]
     },
     "execution_count": 58,
     "metadata": {},
     "output_type": "execute_result"
    }
   ],
   "source": [
    "x1"
   ]
  },
  {
   "cell_type": "code",
   "execution_count": 59,
   "id": "e5dc7a8b",
   "metadata": {},
   "outputs": [],
   "source": [
    "# Dropping k_value, l_value, m_value, n_value features of training data\n",
    "x2=x1.drop(['k_value','l_value','m_value','n_value'],axis=1)\n",
    "\n",
    "# Extracting quality of training data in numpy array \"y\"\n",
    "y1=x2['quality']\n",
    "y2=y1.to_numpy()\n",
    "y=y2.reshape(1280,1)\n",
    "\n",
    "# Removing quality from training data\n",
    "x=x2.drop('quality',axis=1).to_numpy() \n",
    "\n",
    "# Test data from file\n",
    "te1=al[960:1279]    \n",
    "\n",
    "# Extracting quality of test data in numpy array \"teans\"\n",
    "teans1=te1['quality']   \n",
    "teans2=teans1.to_numpy()\n",
    "teans=teans2.reshape(319,1)\n",
    "\n",
    "# Since 'quality','k_value','l_value','m_value','n_value' are removed from training data, removing it from\n",
    "# test data\n",
    "te=te1.drop(['quality','k_value','l_value','m_value','n_value'],axis=1).to_numpy()"
   ]
  },
  {
   "cell_type": "code",
   "execution_count": 60,
   "id": "a8b58ed1",
   "metadata": {},
   "outputs": [],
   "source": [
    "# Removing outliers from training data\n",
    "temp1=np.percentile(x,1,axis=0)\n",
    "temp99=np.percentile(x,99,axis=0)\n",
    "c1=0\n",
    "for col in range(12):\n",
    "    p_1=temp1[col]\n",
    "    p_99=temp99[col]\n",
    "    for i in range(1280):\n",
    "        if x[i][col]>p_99:\n",
    "            x=np.delete(x,i,axis=0)\n",
    "            y=np.delete(y,i,axis=0)\n",
    "            c1+=1\n",
    "        elif x[i][col]<p_1:\n",
    "            x=np.delete(x,i,axis=0)\n",
    "            y=np.delete(y,i,axis=0)\n",
    "            c1+=1\n",
    "        if (i==1279-c1):\n",
    "            break"
   ]
  },
  {
   "cell_type": "code",
   "execution_count": 61,
   "id": "41a291de",
   "metadata": {},
   "outputs": [],
   "source": [
    "# Normalization of training data along with test data\n",
    "n_row=x.shape[0]\n",
    "for col in range(12):\n",
    "    min_col=np.Infinity\n",
    "    max_col=(-1)*np.Infinity\n",
    "    for row in range(n_row):\n",
    "        temp1=x[row][col]\n",
    "        if (temp1>max_col):\n",
    "            max_col=temp1\n",
    "        elif (temp1<min_col):\n",
    "            min_col=temp1\n",
    "    x[:,col]=(x[:,col]-min_col)/(max_col-min_col)\n",
    "    te[:,col]=(te[:,col]-min_col)/(max_col-min_col)"
   ]
  },
  {
   "cell_type": "code",
   "execution_count": 62,
   "id": "7acd00e0",
   "metadata": {},
   "outputs": [
    {
     "data": {
      "text/plain": [
       "(319, 1)"
      ]
     },
     "execution_count": 62,
     "metadata": {},
     "output_type": "execute_result"
    }
   ],
   "source": [
    "teans.shape"
   ]
  },
  {
   "cell_type": "code",
   "execution_count": 63,
   "id": "0bbfb1ed",
   "metadata": {
    "scrolled": true
   },
   "outputs": [],
   "source": [
    "def GDA_classif(x,y):\n",
    "    \"\"\"\n",
    "    Return the list [Cov_mat,μ0,μ1,ϕ]\n",
    "    x - mxn\n",
    "    y - mx1\n",
    "    \"\"\"\n",
    "    import numpy as np\n",
    "    li=[]\n",
    "    m,n=x.shape\n",
    "    ϕ_sum=0\n",
    "    μ0_sum=np.zeros(n)\n",
    "    μ1_sum=np.zeros(n)\n",
    "    μ0_sum=μ0_sum.reshape(n,1)\n",
    "    μ1_sum=μ1_sum.reshape(n,1)\n",
    "    μ0_count=0\n",
    "    μ1_count=0\n",
    "    for i in range(m):\n",
    "        ϕ_sum+=y[i][0]\n",
    "        if y[i][0]==0:\n",
    "            μ0_sum+=x[i].reshape(n,1)\n",
    "            μ0_count+=1\n",
    "        elif y[i][0]==1:\n",
    "            μ1_sum+=x[i].reshape(n,1)\n",
    "            μ1_count+=1\n",
    "    ϕ=ϕ_sum/m\n",
    "    μ0=μ0_sum/μ0_count\n",
    "    μ1=μ1_sum/μ1_count\n",
    "    Covmat_sum=np.zeros(n*n)\n",
    "    Covmat_sum=Covmat_sum.reshape(n,n)\n",
    "    for i in range(m):\n",
    "        if y[i][0]==0:\n",
    "            temp=x[i].reshape(n,1)-μ0\n",
    "        elif y[i][0]==1:\n",
    "            temp=x[i].reshape(n,1)-μ1\n",
    "        Covmat_sum+=temp@(temp.T)\n",
    "    Cov_mat=Covmat_sum/m\n",
    "    li.append(Cov_mat)\n",
    "    li.append(μ0)\n",
    "    li.append(μ1)\n",
    "    li.append(ϕ)\n",
    "    return li"
   ]
  },
  {
   "cell_type": "code",
   "execution_count": 64,
   "id": "02771d69",
   "metadata": {},
   "outputs": [
    {
     "data": {
      "text/plain": [
       "(1, 3)"
      ]
     },
     "execution_count": 64,
     "metadata": {},
     "output_type": "execute_result"
    }
   ],
   "source": [
    "a=np.array([[2],[3],[1]])\n",
    "(a.T).shape"
   ]
  },
  {
   "cell_type": "code",
   "execution_count": 65,
   "id": "263f5adf",
   "metadata": {},
   "outputs": [],
   "source": [
    "li=GDA_classif(x,y)"
   ]
  },
  {
   "cell_type": "code",
   "execution_count": 66,
   "id": "69bc448d",
   "metadata": {
    "collapsed": true
   },
   "outputs": [
    {
     "data": {
      "text/plain": [
       "[array([[ 2.78611091e-02, -6.24605502e-03,  2.92770604e-02,\n",
       "          2.07831426e-03,  2.09758179e-03, -5.76842628e-03,\n",
       "         -3.29680459e-03,  1.88308636e-02, -2.01320808e-02,\n",
       "          2.67107117e-03, -1.87279755e-03,  1.50858573e-03],\n",
       "        [-6.24605502e-03,  1.88631898e-02, -2.02439827e-02,\n",
       "          6.92734173e-04,  1.72158354e-04, -9.28992242e-04,\n",
       "          3.70449292e-04, -1.09393400e-03,  6.04467427e-03,\n",
       "         -2.94240067e-03, -2.43079947e-03,  8.61857671e-04],\n",
       "        [ 2.92770604e-02, -2.02439827e-02,  6.51679114e-02,\n",
       "          4.11816263e-03,  3.14251941e-03, -3.31674672e-03,\n",
       "          3.21461086e-03,  1.78007377e-02, -2.31935031e-02,\n",
       "          5.69728210e-03,  5.30480943e-03,  3.21573683e-03],\n",
       "        [ 2.07831426e-03,  6.92734173e-04,  4.11816263e-03,\n",
       "          1.17952907e-02,  5.42993039e-04,  1.86339960e-03,\n",
       "          3.57486127e-03,  5.86137677e-03, -9.70158547e-04,\n",
       "          7.17968589e-04,  3.41018649e-03,  8.03568253e-04],\n",
       "        [ 2.09758179e-03,  1.72158354e-04,  3.14251941e-03,\n",
       "          5.42993039e-04,  7.58326376e-03, -1.21928740e-03,\n",
       "          1.51854876e-04,  3.21775018e-03, -2.58140187e-03,\n",
       "          1.00499390e-03, -2.19006481e-03,  6.00897950e-04],\n",
       "        [-5.76842628e-03, -9.28992242e-04, -3.31674672e-03,\n",
       "          1.86339960e-03, -1.21928740e-03,  3.92691072e-02,\n",
       "          2.92006535e-02, -1.51036689e-03,  2.94163005e-03,\n",
       "          1.37107696e-03, -2.17899100e-03, -5.64281497e-03],\n",
       "        [-3.29680459e-03,  3.70449292e-04,  3.21461086e-03,\n",
       "          3.57486127e-03,  1.51854876e-04,  2.92006535e-02,\n",
       "          4.38215790e-02,  2.31044146e-03, -2.08736667e-03,\n",
       "          1.42798523e-03, -6.84485547e-03,  7.85265728e-03],\n",
       "        [ 1.88308636e-02, -1.09393400e-03,  1.78007377e-02,\n",
       "          5.86137677e-03,  3.21775018e-03, -1.51036689e-03,\n",
       "          2.31044146e-03,  2.61442078e-02, -8.71178774e-03,\n",
       "          3.06941663e-03, -1.26526680e-02,  2.59270770e-03],\n",
       "        [-2.01320808e-02,  6.04467427e-03, -2.31935031e-02,\n",
       "         -9.70158547e-04, -2.58140187e-03,  2.94163005e-03,\n",
       "         -2.08736667e-03, -8.71178774e-03,  3.00698471e-02,\n",
       "         -1.56755942e-03,  5.39296380e-03, -3.12146427e-03],\n",
       "        [ 2.67107117e-03, -2.94240067e-03,  5.69728210e-03,\n",
       "          7.17968589e-04,  1.00499390e-03,  1.37107696e-03,\n",
       "          1.42798523e-03,  3.06941663e-03, -1.56755942e-03,\n",
       "          6.92295299e-03,  1.58207586e-03,  4.61160749e-05],\n",
       "        [-1.87279755e-03, -2.43079947e-03,  5.30480943e-03,\n",
       "          3.41018649e-03, -2.19006481e-03, -2.17899100e-03,\n",
       "         -6.84485547e-03, -1.26526680e-02,  5.39296380e-03,\n",
       "          1.58207586e-03,  3.81217245e-02, -3.01696355e-03],\n",
       "        [ 1.50858573e-03,  8.61857671e-04,  3.21573683e-03,\n",
       "          8.03568253e-04,  6.00897950e-04, -5.64281497e-03,\n",
       "          7.85265728e-03,  2.59270770e-03, -3.12146427e-03,\n",
       "          4.61160749e-05, -3.01696355e-03,  1.01185191e-02]]),\n",
       " array([[0.29105055],\n",
       "        [0.33805197],\n",
       "        [0.32181583],\n",
       "        [0.11272247],\n",
       "        [0.13067496],\n",
       "        [0.2840153 ],\n",
       "        [0.33905911],\n",
       "        [0.49953206],\n",
       "        [0.49196479],\n",
       "        [0.16912841],\n",
       "        [0.19608609],\n",
       "        [0.15451691]]),\n",
       " array([[0.33621782],\n",
       "        [0.25361197],\n",
       "        [0.40560413],\n",
       "        [0.10717082],\n",
       "        [0.12214312],\n",
       "        [0.24118328],\n",
       "        [0.21134488],\n",
       "        [0.46216875],\n",
       "        [0.48041311],\n",
       "        [0.21666667],\n",
       "        [0.38755091],\n",
       "        [0.10374746]]),\n",
       " 0.5498652291105122]"
      ]
     },
     "execution_count": 66,
     "metadata": {},
     "output_type": "execute_result"
    }
   ],
   "source": [
    "li"
   ]
  },
  {
   "cell_type": "code",
   "execution_count": 67,
   "id": "748db31e",
   "metadata": {},
   "outputs": [
    {
     "data": {
      "text/plain": [
       "(12, 12)"
      ]
     },
     "execution_count": 67,
     "metadata": {},
     "output_type": "execute_result"
    }
   ],
   "source": [
    "li[0].shape"
   ]
  },
  {
   "cell_type": "code",
   "execution_count": 68,
   "id": "b6b70e84",
   "metadata": {},
   "outputs": [],
   "source": [
    "def Gauss_probab(x,cov_mat,μ):\n",
    "    \"\"\"\n",
    "    x - 1xn\n",
    "    cov_mat - nxn\n",
    "    μ0 - nx1\n",
    "    μ1 - nx1\n",
    "    \"\"\"\n",
    "    n=x.shape[1]\n",
    "    from math import exp,pi\n",
    "    import numpy as np\n",
    "    temp=x.reshape(n,1)-μ\n",
    "    temp1=(-0.5)*(((temp.T)@np.linalg.inv(cov_mat))@temp)   # temp1 is 1x1 matrix\n",
    "    temp2=temp1[0][0]\n",
    "    covmat_det=np.linalg.det(cov_mat)\n",
    "    out=(exp(temp2))/(((2*pi)**(n/2))*((covmat_det)**(0.5)))\n",
    "    return out\n",
    "def GDA_probab(li,x_new):\n",
    "    \"\"\"\n",
    "    li - list [Cov_mat,μ0,μ1,ϕ]\n",
    "    x_new - 1xn\n",
    "    \"\"\"\n",
    "    px_y0=Gauss_probab(x_new,li[0],li[1])\n",
    "    px_y1=Gauss_probab(x_new,li[0],li[2])\n",
    "    ϕ=li[3]\n",
    "    px=px_y1*ϕ+px_y0*(1-ϕ)\n",
    "    out=(px_y1*ϕ)/px\n",
    "    return out"
   ]
  },
  {
   "cell_type": "code",
   "execution_count": 69,
   "id": "9b2b1484",
   "metadata": {},
   "outputs": [
    {
     "data": {
      "text/plain": [
       "(319, 12)"
      ]
     },
     "execution_count": 69,
     "metadata": {},
     "output_type": "execute_result"
    }
   ],
   "source": [
    "te.shape"
   ]
  },
  {
   "cell_type": "code",
   "execution_count": 70,
   "id": "61a51c9c",
   "metadata": {},
   "outputs": [
    {
     "data": {
      "text/plain": [
       "(319, 1)"
      ]
     },
     "execution_count": 70,
     "metadata": {},
     "output_type": "execute_result"
    }
   ],
   "source": [
    "teans.shape"
   ]
  },
  {
   "cell_type": "code",
   "execution_count": 73,
   "id": "8df20f0e",
   "metadata": {},
   "outputs": [
    {
     "name": "stdout",
     "output_type": "stream",
     "text": [
      "252\n",
      "Accuracy=78.99686520376176%\n"
     ]
    }
   ],
   "source": [
    "c=0\n",
    "for i in range(319):\n",
    "    x_new=te[i].reshape(1,12)\n",
    "    temp=GDA_probab(li,x_new)\n",
    "    if temp<0.5 and teans[i][0]==0:\n",
    "        c+=1\n",
    "    elif temp>=0.5 and teans[i][0]==1:\n",
    "        c+=1\n",
    "print(c)\n",
    "acc=c*100/319\n",
    "print(f'Accuracy={acc}%')"
   ]
  },
  {
   "cell_type": "code",
   "execution_count": 72,
   "id": "a6efb71e",
   "metadata": {},
   "outputs": [
    {
     "data": {
      "text/plain": [
       "(1113, 1)"
      ]
     },
     "execution_count": 72,
     "metadata": {},
     "output_type": "execute_result"
    }
   ],
   "source": [
    "y.shape"
   ]
  },
  {
   "cell_type": "code",
   "execution_count": 75,
   "id": "5111b65c",
   "metadata": {},
   "outputs": [],
   "source": [
    "m1=y.shape[0]\n",
    "y1=y.reshape(m1,)\n",
    "from sklearn.naive_bayes import GaussianNB\n",
    "clf = GaussianNB()\n",
    "clf.fit(x,y1)\n",
    "sk_pred=clf.predict(te)"
   ]
  },
  {
   "cell_type": "code",
   "execution_count": 77,
   "id": "af380b44",
   "metadata": {},
   "outputs": [
    {
     "data": {
      "text/plain": [
       "(319,)"
      ]
     },
     "execution_count": 77,
     "metadata": {},
     "output_type": "execute_result"
    }
   ],
   "source": [
    "sk_pred.shape"
   ]
  },
  {
   "cell_type": "code",
   "execution_count": 78,
   "id": "ea8f9441",
   "metadata": {},
   "outputs": [
    {
     "name": "stdout",
     "output_type": "stream",
     "text": [
      "245\n",
      "Accuracy=76.8025078369906%\n"
     ]
    }
   ],
   "source": [
    "c1=0\n",
    "for i in range(319):\n",
    "    if (sk_pred[i]==teans[i]):\n",
    "        c1+=1\n",
    "print(c1)\n",
    "acc1=c1*100/319\n",
    "print(f'Accuracy={acc1}%')"
   ]
  },
  {
   "cell_type": "code",
   "execution_count": null,
   "id": "f9fb2a08",
   "metadata": {},
   "outputs": [],
   "source": []
  }
 ],
 "metadata": {
  "kernelspec": {
   "display_name": "Python 3 (ipykernel)",
   "language": "python",
   "name": "python3"
  },
  "language_info": {
   "codemirror_mode": {
    "name": "ipython",
    "version": 3
   },
   "file_extension": ".py",
   "mimetype": "text/x-python",
   "name": "python",
   "nbconvert_exporter": "python",
   "pygments_lexer": "ipython3",
   "version": "3.9.7"
  }
 },
 "nbformat": 4,
 "nbformat_minor": 5
}
