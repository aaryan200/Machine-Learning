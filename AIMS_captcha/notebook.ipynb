{
 "cells": [
  {
   "cell_type": "code",
   "execution_count": null,
   "id": "47a69198",
   "metadata": {},
   "outputs": [],
   "source": [
    "import requests,os\n",
    "base=\"https://aims.iith.ac.in/aims/captcha/getCaptchaByString/\"\n",
    "dir_path = os.path.join(os.getcwd(),\"data\")\n",
    "if not os.path.exists(dir_path):\n",
    "    os.mkdir(dir_path,0o666)\n",
    "for i in range(48,58):\n",
    "    ch=chr(i)\n",
    "    save_path=os.path.join(dir_path,f\"{ch}\")\n",
    "    s=\"\"\n",
    "    for k in range(5):\n",
    "        s+=i\n",
    "    url=base+s\n",
    "    for j in range(200):\n",
    "        response = requests.get(url,stream = True)\n",
    "        if response.status_code == 200:\n",
    "            with open(os.path.join(save_path,f'{j+1}.jpg'), 'wb') as image:\n",
    "                for block in response.iter_content(chunk_size=1024):\n",
    "                    image.write(block)\n",
    "            print('successfully downloaded')\n",
    "# print(f'Downloading...')"
   ]
  },
  {
   "cell_type": "code",
   "execution_count": 6,
   "id": "d2627620",
   "metadata": {},
   "outputs": [
    {
     "name": "stdout",
     "output_type": "stream",
     "text": [
      "<generator object Response.iter_content.<locals>.generate at 0x000001560F70D430>\n"
     ]
    }
   ],
   "source": [
    "import requests\n",
    "resp=requests.get(\"https://aims.iith.ac.in/aims/captcha/getCaptchaByString/abcde\",stream=True)\n"
   ]
  },
  {
   "cell_type": "code",
   "execution_count": 16,
   "id": "109963a4",
   "metadata": {},
   "outputs": [
    {
     "name": "stdout",
     "output_type": "stream",
     "text": [
      "<urllib3.response.HTTPResponse object at 0x0000015610609A00>\n",
      "Image sucessfully Downloaded:  1.jpg\n"
     ]
    }
   ],
   "source": [
    "import requests # to get image from the web\n",
    "import os\n",
    "import numpy as np\n",
    "import shutil # to save it locally\n",
    "\n",
    "## Set up the image URL and filename\n",
    "image_url = \"https://cdn.pixabay.com/photo/2020/02/06/09/39/summer-4823612_960_720.jpg\"\n",
    "filename = \"1.jpg\"\n",
    "\n",
    "# Open the url image, set stream to True, this will return the stream content.\n",
    "r = requests.get(image_url, stream = True)\n",
    "\n",
    "# Check if the image was retrieved successfully\n",
    "if r.status_code == 200:\n",
    "    # Set decode_content value to True, otherwise the downloaded image file's size will be zero.\n",
    "    r.raw.decode_content = True\n",
    "    \n",
    "    # Open a local file with wb ( write binary ) permission.\n",
    "    with open(os.path.join(os.getcwd(),f\"data/{filename}\"),'wb') as f:\n",
    "        shutil.copyfileobj(r.raw, f)\n",
    "        \n",
    "    print('Image sucessfully Downloaded: ',filename)\n",
    "else:\n",
    "    print('Image Couldn\\'t be retreived')"
   ]
  },
  {
   "cell_type": "code",
   "execution_count": 19,
   "id": "39b471d9",
   "metadata": {},
   "outputs": [
    {
     "name": "stdout",
     "output_type": "stream",
     "text": [
      "(640, 960, 3)\n"
     ]
    },
    {
     "data": {
      "text/plain": [
       "True"
      ]
     },
     "execution_count": 19,
     "metadata": {},
     "output_type": "execute_result"
    }
   ],
   "source": [
    "import cv2   \n",
    "# Read the image\n",
    "img = cv2.imread(\"data/1.jpg\")\n",
    "print(img.shape)\n",
    "height,width,c=img.shape\n",
    "\n",
    "# Cut the image in half\n",
    "width_cutoff = width // 2\n",
    "s1 = img[:, :width_cutoff]\n",
    "cv2.imwrite(\"data/2.jpg\", s1)\n",
    "s1 = img[:, width_cutoff:]\n",
    "cv2.imwrite(\"data/3.jpg\", s1)"
   ]
  },
  {
   "cell_type": "code",
   "execution_count": 6,
   "id": "3f9f1fed",
   "metadata": {},
   "outputs": [],
   "source": [
    "def get_data(nameDir):\n",
    "    import requests,os,cv2,shutil\n",
    "    base=\"https://aims.iith.ac.in/aims/captcha/getCaptchaByString/\"\n",
    "    dir_path = os.path.join(os.getcwd(),nameDir)\n",
    "    if not os.path.exists(dir_path):\n",
    "        os.mkdir(dir_path,0o666)\n",
    "    for i in range(115,123):\n",
    "        if ((i>=48 and i<=57) or (i>=65 and i<=90) or (i>=97 and i<=122)):\n",
    "            ch=chr(i)\n",
    "            if (i>=65 and i<=90):\n",
    "                save_path=os.path.join(dir_path,f\"cap{ch}\")\n",
    "            elif (i>=97 and i<=122):\n",
    "                save_path=os.path.join(dir_path,f\"small{ch}\")\n",
    "            else: save_path=os.path.join(dir_path,f\"{ch}\")\n",
    "            if not os.path.exists(save_path):\n",
    "                os.mkdir(save_path)\n",
    "            else:\n",
    "                li=os.listdir(save_path)\n",
    "                if len(li)==1000: continue\n",
    "            s=\"\"\n",
    "            for k in range(5):\n",
    "                s+=ch\n",
    "            url=base+s\n",
    "            for j in range(200):\n",
    "                r = requests.get(url, stream = True)\n",
    "                if r.status_code == 200:\n",
    "                    r.raw.decode_content = True\n",
    "                    with open(os.path.join(save_path,f\"{ch}#.jpg\"),'wb') as f:\n",
    "                        shutil.copyfileobj(r.raw, f)\n",
    "                    img=cv2.imread(os.path.join(save_path,f\"{ch}#.jpg\"))\n",
    "                    height,width,c=img.shape\n",
    "                    width_cutoff=width // 5\n",
    "                    s1=img[:,:width_cutoff]\n",
    "                    cv2.imwrite(f\"{save_path}/{5*j+1}.jpg\",s1)\n",
    "                    for k in range(1,4):\n",
    "                        s1=img[:,k*width_cutoff:(k+1)*width_cutoff]\n",
    "                        cv2.imwrite(f\"{save_path}/{5*j+k+1}.jpg\",s1)\n",
    "                    s1=img[:,4*width_cutoff:]\n",
    "                    cv2.imwrite(f\"{save_path}/{5*j+5}.jpg\",s1)\n",
    "                    os.remove(os.path.join(save_path,f\"{ch}#.jpg\"))\n",
    "                else:\n",
    "                    print(f'Image Couldn\\'t be retreived: {ch}#.jpg')\n",
    "    return"
   ]
  },
  {
   "cell_type": "code",
   "execution_count": 7,
   "id": "ed9fcc5c",
   "metadata": {},
   "outputs": [],
   "source": [
    "get_data(\"data\")"
   ]
  },
  {
   "cell_type": "code",
   "execution_count": null,
   "id": "33f8671e",
   "metadata": {},
   "outputs": [],
   "source": [
    "img=cv2.imread(\"data/i/1.jpg\")\n",
    "cv2.imshow(\"image\",img)"
   ]
  },
  {
   "cell_type": "code",
   "execution_count": 47,
   "id": "9835f28f",
   "metadata": {},
   "outputs": [],
   "source": []
  },
  {
   "cell_type": "code",
   "execution_count": null,
   "id": "aa68626f",
   "metadata": {},
   "outputs": [],
   "source": []
  }
 ],
 "metadata": {
  "kernelspec": {
   "display_name": "Python 3 (ipykernel)",
   "language": "python",
   "name": "python3"
  },
  "language_info": {
   "codemirror_mode": {
    "name": "ipython",
    "version": 3
   },
   "file_extension": ".py",
   "mimetype": "text/x-python",
   "name": "python",
   "nbconvert_exporter": "python",
   "pygments_lexer": "ipython3",
   "version": "3.10.6"
  }
 },
 "nbformat": 4,
 "nbformat_minor": 5
}
